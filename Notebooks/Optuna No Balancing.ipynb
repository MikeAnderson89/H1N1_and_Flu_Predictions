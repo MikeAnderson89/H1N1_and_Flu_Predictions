{
 "cells": [
  {
   "cell_type": "code",
   "execution_count": 1,
   "metadata": {},
   "outputs": [],
   "source": [
    "import pandas as pd\n",
    "import numpy as np\n",
    "import tensorflow as tf\n",
    "from datetime import datetime\n",
    "import matplotlib.pyplot as plt\n",
    "import seaborn as sns\n",
    "from sklearn.pipeline import Pipeline\n",
    "from sklearn.preprocessing import StandardScaler, MinMaxScaler, OneHotEncoder\n",
    "from sklearn.model_selection import train_test_split\n",
    "from sklearn.impute import SimpleImputer\n",
    "from sklearn.compose import ColumnTransformer\n",
    "from sklearn.metrics import roc_auc_score\n",
    "from sklearn.model_selection import RandomizedSearchCV\n",
    "from sklearn.metrics import matthews_corrcoef\n",
    "from sklearn.ensemble import RandomForestRegressor, RandomForestClassifier\n",
    "from sklearn.metrics import r2_score\n",
    "import scipy.stats as stats\n",
    "from tensorflow import keras\n",
    "from keras.callbacks import ModelCheckpoint\n",
    "from keras.models import load_model\n",
    "from datetime import datetime\n",
    "from category_encoders import OrdinalEncoder, TargetEncoder\n",
    "from catboost import CatBoostClassifier, CatBoostRegressor\n",
    "from mlxtend.feature_selection import SequentialFeatureSelector as SFS\n",
    "from mlxtend.plotting import plot_sequential_feature_selection as plot_sfs\n",
    "\n",
    "import warnings\n",
    "warnings.filterwarnings(\"ignore\")"
   ]
  },
  {
   "cell_type": "code",
   "execution_count": 2,
   "metadata": {},
   "outputs": [],
   "source": [
    "#Functions\n",
    "\n",
    "def evaluate(model, X_test, y_test):\n",
    "    predictions = model.predict(X_test)\n",
    "    errors = abs(predictions - y_test)\n",
    "    mape = 100 * np.mean(errors / y_test)\n",
    "    accuracy = 100 - mape\n",
    "    roc = roc_auc_score(y_test, predictions)\n",
    "    print('Model Performance')\n",
    "    print('Average Error: {:0.4f} degrees'.format(np.mean(errors)))\n",
    "    print('Accuracy = {:0.2f}%'.format(accuracy))\n",
    "    print(f'AUC = {roc}')\n",
    "    return accuracy"
   ]
  },
  {
   "cell_type": "code",
   "execution_count": 3,
   "metadata": {},
   "outputs": [],
   "source": [
    "train = pd.read_csv('../Data/training_set_features.csv', index_col='respondent_id')\n",
    "test = pd.read_csv('../Data/test_set_features.csv', index_col ='respondent_id')\n",
    "labels = pd.read_csv('../Data/training_set_labels.csv', index_col='respondent_id')"
   ]
  },
  {
   "cell_type": "code",
   "execution_count": 4,
   "metadata": {},
   "outputs": [],
   "source": [
    "train.loc[(train['age_group'] == '65+ Years') & (train['employment_status'].isnull()), 'employment_status'] = 'Not in Labor Force'"
   ]
  },
  {
   "cell_type": "code",
   "execution_count": 5,
   "metadata": {},
   "outputs": [],
   "source": [
    "num_cols = list(train.select_dtypes('number').columns)\n",
    "\n",
    "cat_cols = [\n",
    "    'race',\n",
    "    'sex',\n",
    "    'marital_status',\n",
    "    'rent_or_own',\n",
    "    'hhs_geo_region',\n",
    "    'census_msa',\n",
    "    'employment_industry',\n",
    "    'employment_occupation'\n",
    "]\n",
    "\n",
    "ord_cols = [\n",
    "    'age_group',\n",
    "    'education',\n",
    "    'income_poverty',\n",
    "    'employment_status'\n",
    "]\n",
    "\n",
    "\n",
    "\n",
    "\n",
    "#Impute Train\n",
    "for col in num_cols:\n",
    "    train[col] = train[col].fillna(value=-1)\n",
    "    test[col] = test[col].fillna(value=-1)\n",
    "\n",
    "for col in (cat_cols + ord_cols):\n",
    "    train[col] = train[col].fillna(value='None')\n",
    "    test[col] = test[col].fillna(value='None')\n",
    "test_labels = labels.copy()    "
   ]
  },
  {
   "cell_type": "code",
   "execution_count": 6,
   "metadata": {},
   "outputs": [],
   "source": [
    "train['age_group'] = train['age_group'].map({\n",
    "    '18 - 34 Years': 1,\n",
    "    '35 - 44 Years': 2,\n",
    "    '45 - 54 Years': 3,\n",
    "    '55 - 64 Years': 4,\n",
    "    '65+ Years': 5\n",
    "})\n",
    "\n",
    "train['education'] = train['education'].map({\n",
    "    '< 12 Years': 1,\n",
    "    '12 Years': 2,\n",
    "    'Some College': 3,\n",
    "    'College Graduate': 4,\n",
    "    'None': -1\n",
    "})\n",
    "\n",
    "train['income_poverty'] = train['income_poverty'].map({\n",
    "    'None': -1,\n",
    "    'Below Poverty': 1,\n",
    "    '<= $75,000, Above Poverty': 2,\n",
    "    '> $75,000': 3\n",
    "})\n",
    "\n",
    "train['employment_status'] = train['employment_status'].map({\n",
    "    'None': -1,\n",
    "    'Unemployed': 1,\n",
    "    'Employed': 2,\n",
    "    'Not in Labor Force': 3\n",
    "})\n",
    "\n",
    "\n",
    "\n",
    "\n",
    "test['education'] = test['education'].map({\n",
    "    '< 12 Years': 1,\n",
    "    '12 Years': 2,\n",
    "    'Some College': 3,\n",
    "    'College Graduate': 4,\n",
    "    'None': -1\n",
    "})\n",
    "\n",
    "test['income_poverty'] = test['income_poverty'].map({\n",
    "    'None': -1,\n",
    "    'Below Poverty': 1,\n",
    "    '<= $75,000, Above Poverty': 2,\n",
    "    '> $75,000': 3\n",
    "})\n",
    "\n",
    "test['employment_status'] = test['employment_status'].map({\n",
    "    'None': -1,\n",
    "    'Unemployed': 1,\n",
    "    'Employed': 2,\n",
    "    'Not in Labor Force': 3\n",
    "})"
   ]
  },
  {
   "cell_type": "code",
   "execution_count": 7,
   "metadata": {},
   "outputs": [
    {
     "name": "stdout",
     "output_type": "stream",
     "text": [
      "age_group [4 2 1 5 3]\n",
      "education [ 1  2  4  3 -1]\n",
      "income_poverty [ 1  2  3 -1]\n",
      "employment_status [ 3  2  1 -1]\n"
     ]
    }
   ],
   "source": [
    "for x in train[ord_cols].columns:\n",
    "    print(x, train[x].unique())"
   ]
  },
  {
   "cell_type": "code",
   "execution_count": 8,
   "metadata": {},
   "outputs": [],
   "source": [
    "all_cols = train.columns\n",
    "\n",
    "train_test = train.copy()"
   ]
  },
  {
   "cell_type": "code",
   "execution_count": 9,
   "metadata": {},
   "outputs": [],
   "source": [
    "h1n1_labels = labels[['h1n1_vaccine']]\n",
    "seas_labels = labels[['seasonal_vaccine']]"
   ]
  },
  {
   "cell_type": "markdown",
   "metadata": {},
   "source": [
    "# Transformation"
   ]
  },
  {
   "cell_type": "code",
   "execution_count": 10,
   "metadata": {},
   "outputs": [],
   "source": [
    "cat_cols = train.select_dtypes('object').columns"
   ]
  },
  {
   "cell_type": "code",
   "execution_count": null,
   "metadata": {},
   "outputs": [],
   "source": []
  },
  {
   "cell_type": "code",
   "execution_count": 11,
   "metadata": {},
   "outputs": [],
   "source": [
    "h1n1_train = train.copy()\n",
    "seas_train = train.copy()\n",
    "\n",
    "h1n1_scaler = StandardScaler()\n",
    "h1n1_train[num_cols] = h1n1_scaler.fit_transform(h1n1_train[num_cols])\n",
    "\n",
    "seas_scaler = StandardScaler()\n",
    "seas_train[num_cols] = seas_scaler.fit_transform(seas_train[num_cols])\n",
    "\n",
    "h1n1_train_trans = h1n1_train\n",
    "seas_train_trans = seas_train"
   ]
  },
  {
   "cell_type": "code",
   "execution_count": 12,
   "metadata": {},
   "outputs": [],
   "source": [
    "categorical_features_indices = np.where(train.dtypes != float)[0]"
   ]
  },
  {
   "cell_type": "markdown",
   "metadata": {},
   "source": [
    "# H1N1"
   ]
  },
  {
   "cell_type": "markdown",
   "metadata": {},
   "source": [
    "## CatBoost and Optuna"
   ]
  },
  {
   "cell_type": "code",
   "execution_count": 13,
   "metadata": {},
   "outputs": [],
   "source": [
    "X = h1n1_train_trans\n",
    "y = h1n1_labels"
   ]
  },
  {
   "cell_type": "code",
   "execution_count": 14,
   "metadata": {},
   "outputs": [],
   "source": [
    "X_train, X_test, y_train, y_test = train_test_split(X, y, test_size=0.3, random_state=42, shuffle=True)"
   ]
  },
  {
   "cell_type": "code",
   "execution_count": 15,
   "metadata": {},
   "outputs": [],
   "source": [
    "from catboost import CatBoostClassifier\n",
    "from catboost import Pool, cv\n",
    "from sklearn.metrics import roc_curve, roc_auc_score\n",
    "import optuna"
   ]
  },
  {
   "cell_type": "code",
   "execution_count": 16,
   "metadata": {},
   "outputs": [],
   "source": [
    "train_dataset = Pool(data=X_train,\n",
    "                    label=y_train,\n",
    "                    cat_features=categorical_features_indices)"
   ]
  },
  {
   "cell_type": "code",
   "execution_count": 17,
   "metadata": {},
   "outputs": [],
   "source": [
    "def objective(trial):\n",
    "    param = {\n",
    "        'iterations':trial.suggest_categorical('iterations', [100,200,300,500,1000,1200,1500]),\n",
    "        'learning_rate':trial.suggest_float(\"learning_rate\", 0.001, 0.3),\n",
    "        'random_strength':trial.suggest_int(\"random_strength\", 1,10),\n",
    "        'bagging_temperature':trial.suggest_int(\"bagging_temperature\", 0,10),\n",
    "        'max_bin':trial.suggest_categorical('max_bin', [4,5,6,8,10,20,30]),\n",
    "        'grow_policy':trial.suggest_categorical('grow_policy', ['SymmetricTree', 'Depthwise', 'Lossguide']),\n",
    "        'min_data_in_leaf':trial.suggest_int(\"min_data_in_leaf\", 1,10),\n",
    "        'od_type' : \"Iter\",\n",
    "        'od_wait' : 100,\n",
    "        \"depth\": trial.suggest_int(\"max_depth\", 2,10),\n",
    "        \"l2_leaf_reg\": trial.suggest_loguniform(\"l2_leaf_reg\", 1e-8, 100),\n",
    "         'one_hot_max_size':trial.suggest_categorical('one_hot_max_size', [5,10,12,100,500,1024]),\n",
    "        'custom_metric' : ['AUC'],\n",
    "        \"loss_function\": \"Logloss\",\n",
    "        'auto_class_weights':trial.suggest_categorical('auto_class_weights', ['Balanced', 'SqrtBalanced']),\n",
    "        }\n",
    "\n",
    "    scores = cv(train_dataset,\n",
    "            param,\n",
    "            fold_count=5, \n",
    "            early_stopping_rounds=10,         \n",
    "            plot=False, verbose=False)\n",
    "\n",
    "    return scores['test-AUC-mean'].max()"
   ]
  },
  {
   "cell_type": "code",
   "execution_count": 18,
   "metadata": {
    "scrolled": true
   },
   "outputs": [
    {
     "name": "stderr",
     "output_type": "stream",
     "text": [
      "\u001b[32m[I 2021-07-12 08:06:39,005]\u001b[0m A new study created in memory with name: no-name-7027df12-1cfb-4fd3-98da-abd91a984406\u001b[0m\n"
     ]
    },
    {
     "name": "stdout",
     "output_type": "stream",
     "text": [
      "Stopped by overfitting detector  (10 iterations wait)\n"
     ]
    },
    {
     "name": "stderr",
     "output_type": "stream",
     "text": [
      "\u001b[32m[I 2021-07-12 08:06:48,192]\u001b[0m Trial 0 finished with value: 0.864903023372403 and parameters: {'iterations': 200, 'learning_rate': 0.25998666758670563, 'random_strength': 7, 'bagging_temperature': 7, 'max_bin': 5, 'grow_policy': 'SymmetricTree', 'min_data_in_leaf': 7, 'max_depth': 3, 'l2_leaf_reg': 8.345387083873532e-06, 'one_hot_max_size': 12, 'auto_class_weights': 'SqrtBalanced'}. Best is trial 0 with value: 0.864903023372403.\u001b[0m\n"
     ]
    },
    {
     "name": "stdout",
     "output_type": "stream",
     "text": [
      "Stopped by overfitting detector  (10 iterations wait)\n"
     ]
    },
    {
     "name": "stderr",
     "output_type": "stream",
     "text": [
      "\u001b[32m[I 2021-07-12 08:07:34,479]\u001b[0m Trial 1 finished with value: 0.8667626979331121 and parameters: {'iterations': 500, 'learning_rate': 0.2055856749271349, 'random_strength': 5, 'bagging_temperature': 1, 'max_bin': 6, 'grow_policy': 'Lossguide', 'min_data_in_leaf': 8, 'max_depth': 10, 'l2_leaf_reg': 8.8771488946556, 'one_hot_max_size': 10, 'auto_class_weights': 'Balanced'}. Best is trial 1 with value: 0.8667626979331121.\u001b[0m\n",
      "\u001b[32m[I 2021-07-12 08:07:37,418]\u001b[0m Trial 2 finished with value: 0.8642582760804116 and parameters: {'iterations': 100, 'learning_rate': 0.29607919404355465, 'random_strength': 8, 'bagging_temperature': 2, 'max_bin': 5, 'grow_policy': 'Depthwise', 'min_data_in_leaf': 4, 'max_depth': 2, 'l2_leaf_reg': 1.2877252667142128e-05, 'one_hot_max_size': 100, 'auto_class_weights': 'SqrtBalanced'}. Best is trial 1 with value: 0.8667626979331121.\u001b[0m\n",
      "\u001b[32m[I 2021-07-12 08:07:49,577]\u001b[0m Trial 3 finished with value: 0.8533562281991152 and parameters: {'iterations': 200, 'learning_rate': 0.010397326520333542, 'random_strength': 7, 'bagging_temperature': 3, 'max_bin': 5, 'grow_policy': 'Lossguide', 'min_data_in_leaf': 9, 'max_depth': 7, 'l2_leaf_reg': 5.1832947024610565, 'one_hot_max_size': 1024, 'auto_class_weights': 'Balanced'}. Best is trial 1 with value: 0.8667626979331121.\u001b[0m\n",
      "\u001b[32m[I 2021-07-12 08:08:04,713]\u001b[0m Trial 4 finished with value: 0.866950066277718 and parameters: {'iterations': 500, 'learning_rate': 0.06741023533074834, 'random_strength': 2, 'bagging_temperature': 3, 'max_bin': 20, 'grow_policy': 'Depthwise', 'min_data_in_leaf': 3, 'max_depth': 2, 'l2_leaf_reg': 0.012463595329542002, 'one_hot_max_size': 100, 'auto_class_weights': 'SqrtBalanced'}. Best is trial 4 with value: 0.866950066277718.\u001b[0m\n"
     ]
    },
    {
     "name": "stdout",
     "output_type": "stream",
     "text": [
      "Stopped by overfitting detector  (10 iterations wait)\n"
     ]
    },
    {
     "name": "stderr",
     "output_type": "stream",
     "text": [
      "\u001b[32m[I 2021-07-12 08:08:44,923]\u001b[0m Trial 5 finished with value: 0.8570170744878622 and parameters: {'iterations': 300, 'learning_rate': 0.1904253835175075, 'random_strength': 6, 'bagging_temperature': 0, 'max_bin': 4, 'grow_policy': 'Lossguide', 'min_data_in_leaf': 2, 'max_depth': 8, 'l2_leaf_reg': 7.36806524628614e-05, 'one_hot_max_size': 5, 'auto_class_weights': 'SqrtBalanced'}. Best is trial 4 with value: 0.866950066277718.\u001b[0m\n"
     ]
    },
    {
     "name": "stdout",
     "output_type": "stream",
     "text": [
      "Stopped by overfitting detector  (10 iterations wait)\n"
     ]
    },
    {
     "name": "stderr",
     "output_type": "stream",
     "text": [
      "\u001b[32m[I 2021-07-12 08:08:47,601]\u001b[0m Trial 6 finished with value: 0.8444085041681886 and parameters: {'iterations': 1500, 'learning_rate': 0.1902973357247071, 'random_strength': 4, 'bagging_temperature': 3, 'max_bin': 5, 'grow_policy': 'SymmetricTree', 'min_data_in_leaf': 2, 'max_depth': 7, 'l2_leaf_reg': 1.123610628030388e-08, 'one_hot_max_size': 1024, 'auto_class_weights': 'SqrtBalanced'}. Best is trial 4 with value: 0.866950066277718.\u001b[0m\n"
     ]
    },
    {
     "name": "stdout",
     "output_type": "stream",
     "text": [
      "Stopped by overfitting detector  (10 iterations wait)\n"
     ]
    },
    {
     "name": "stderr",
     "output_type": "stream",
     "text": [
      "\u001b[32m[I 2021-07-12 08:09:00,445]\u001b[0m Trial 7 finished with value: 0.8569347875686157 and parameters: {'iterations': 300, 'learning_rate': 0.0802955079368359, 'random_strength': 3, 'bagging_temperature': 10, 'max_bin': 5, 'grow_policy': 'Depthwise', 'min_data_in_leaf': 1, 'max_depth': 7, 'l2_leaf_reg': 5.903462299000416e-07, 'one_hot_max_size': 10, 'auto_class_weights': 'SqrtBalanced'}. Best is trial 4 with value: 0.866950066277718.\u001b[0m\n",
      "\u001b[32m[I 2021-07-12 08:09:08,759]\u001b[0m Trial 8 finished with value: 0.8667054713025919 and parameters: {'iterations': 100, 'learning_rate': 0.1674835774750467, 'random_strength': 10, 'bagging_temperature': 7, 'max_bin': 8, 'grow_policy': 'SymmetricTree', 'min_data_in_leaf': 4, 'max_depth': 4, 'l2_leaf_reg': 1.2405422353160507, 'one_hot_max_size': 12, 'auto_class_weights': 'SqrtBalanced'}. Best is trial 4 with value: 0.866950066277718.\u001b[0m\n",
      "\u001b[32m[I 2021-07-12 08:09:14,708]\u001b[0m Trial 9 finished with value: 0.8644124602091352 and parameters: {'iterations': 200, 'learning_rate': 0.14021380742160558, 'random_strength': 6, 'bagging_temperature': 3, 'max_bin': 8, 'grow_policy': 'SymmetricTree', 'min_data_in_leaf': 1, 'max_depth': 2, 'l2_leaf_reg': 0.00205847840690845, 'one_hot_max_size': 100, 'auto_class_weights': 'Balanced'}. Best is trial 4 with value: 0.866950066277718.\u001b[0m\n",
      "\u001b[32m[I 2021-07-12 08:10:21,719]\u001b[0m Trial 10 finished with value: 0.864147886538605 and parameters: {'iterations': 1200, 'learning_rate': 0.0025910756245724753, 'random_strength': 1, 'bagging_temperature': 6, 'max_bin': 20, 'grow_policy': 'Depthwise', 'min_data_in_leaf': 5, 'max_depth': 5, 'l2_leaf_reg': 0.034248888765990956, 'one_hot_max_size': 500, 'auto_class_weights': 'SqrtBalanced'}. Best is trial 4 with value: 0.866950066277718.\u001b[0m\n"
     ]
    },
    {
     "name": "stdout",
     "output_type": "stream",
     "text": [
      "Stopped by overfitting detector  (10 iterations wait)\n"
     ]
    },
    {
     "name": "stderr",
     "output_type": "stream",
     "text": [
      "\u001b[32m[I 2021-07-12 08:12:00,778]\u001b[0m Trial 11 finished with value: 0.8700323043972787 and parameters: {'iterations': 500, 'learning_rate': 0.07301424262611675, 'random_strength': 1, 'bagging_temperature': 0, 'max_bin': 6, 'grow_policy': 'Lossguide', 'min_data_in_leaf': 10, 'max_depth': 10, 'l2_leaf_reg': 83.47291915422089, 'one_hot_max_size': 10, 'auto_class_weights': 'Balanced'}. Best is trial 11 with value: 0.8700323043972787.\u001b[0m\n"
     ]
    },
    {
     "name": "stdout",
     "output_type": "stream",
     "text": [
      "Stopped by overfitting detector  (10 iterations wait)\n"
     ]
    },
    {
     "name": "stderr",
     "output_type": "stream",
     "text": [
      "\u001b[32m[I 2021-07-12 08:12:06,261]\u001b[0m Trial 12 finished with value: 0.8530111548088903 and parameters: {'iterations': 500, 'learning_rate': 0.07084811872867147, 'random_strength': 1, 'bagging_temperature': 0, 'max_bin': 20, 'grow_policy': 'Depthwise', 'min_data_in_leaf': 10, 'max_depth': 10, 'l2_leaf_reg': 0.08432609004248591, 'one_hot_max_size': 100, 'auto_class_weights': 'Balanced'}. Best is trial 11 with value: 0.8700323043972787.\u001b[0m\n"
     ]
    },
    {
     "name": "stdout",
     "output_type": "stream",
     "text": [
      "Stopped by overfitting detector  (10 iterations wait)\n"
     ]
    },
    {
     "name": "stderr",
     "output_type": "stream",
     "text": [
      "\u001b[32m[I 2021-07-12 08:13:50,855]\u001b[0m Trial 13 finished with value: 0.8695719569986979 and parameters: {'iterations': 1000, 'learning_rate': 0.07494419191740799, 'random_strength': 2, 'bagging_temperature': 5, 'max_bin': 6, 'grow_policy': 'Lossguide', 'min_data_in_leaf': 6, 'max_depth': 9, 'l2_leaf_reg': 75.05960143538724, 'one_hot_max_size': 10, 'auto_class_weights': 'Balanced'}. Best is trial 11 with value: 0.8700323043972787.\u001b[0m\n"
     ]
    },
    {
     "name": "stdout",
     "output_type": "stream",
     "text": [
      "Stopped by overfitting detector  (10 iterations wait)\n"
     ]
    },
    {
     "name": "stderr",
     "output_type": "stream",
     "text": [
      "\u001b[32m[I 2021-07-12 08:15:07,109]\u001b[0m Trial 14 finished with value: 0.8692923431619028 and parameters: {'iterations': 1000, 'learning_rate': 0.10594957790405404, 'random_strength': 2, 'bagging_temperature': 9, 'max_bin': 6, 'grow_policy': 'Lossguide', 'min_data_in_leaf': 7, 'max_depth': 9, 'l2_leaf_reg': 96.78960893546362, 'one_hot_max_size': 10, 'auto_class_weights': 'Balanced'}. Best is trial 11 with value: 0.8700323043972787.\u001b[0m\n"
     ]
    },
    {
     "name": "stdout",
     "output_type": "stream",
     "text": [
      "Stopped by overfitting detector  (10 iterations wait)\n"
     ]
    },
    {
     "name": "stderr",
     "output_type": "stream",
     "text": [
      "\u001b[32m[I 2021-07-12 08:18:38,117]\u001b[0m Trial 15 finished with value: 0.8698243161801675 and parameters: {'iterations': 1000, 'learning_rate': 0.03631311688544479, 'random_strength': 3, 'bagging_temperature': 5, 'max_bin': 6, 'grow_policy': 'Lossguide', 'min_data_in_leaf': 10, 'max_depth': 9, 'l2_leaf_reg': 67.03491519139129, 'one_hot_max_size': 10, 'auto_class_weights': 'Balanced'}. Best is trial 11 with value: 0.8700323043972787.\u001b[0m\n"
     ]
    },
    {
     "name": "stdout",
     "output_type": "stream",
     "text": [
      "Stopped by overfitting detector  (10 iterations wait)\n"
     ]
    },
    {
     "name": "stderr",
     "output_type": "stream",
     "text": [
      "\u001b[32m[I 2021-07-12 08:23:02,314]\u001b[0m Trial 16 finished with value: 0.8687841198715944 and parameters: {'iterations': 1000, 'learning_rate': 0.02589475218064098, 'random_strength': 4, 'bagging_temperature': 5, 'max_bin': 10, 'grow_policy': 'Lossguide', 'min_data_in_leaf': 10, 'max_depth': 10, 'l2_leaf_reg': 0.5144817619487144, 'one_hot_max_size': 10, 'auto_class_weights': 'Balanced'}. Best is trial 11 with value: 0.8700323043972787.\u001b[0m\n"
     ]
    },
    {
     "name": "stdout",
     "output_type": "stream",
     "text": [
      "Stopped by overfitting detector  (10 iterations wait)\n"
     ]
    },
    {
     "name": "stderr",
     "output_type": "stream",
     "text": [
      "\u001b[32m[I 2021-07-12 08:25:51,657]\u001b[0m Trial 17 finished with value: 0.8699772393127508 and parameters: {'iterations': 1000, 'learning_rate': 0.040332074625545444, 'random_strength': 3, 'bagging_temperature': 8, 'max_bin': 30, 'grow_policy': 'Lossguide', 'min_data_in_leaf': 9, 'max_depth': 9, 'l2_leaf_reg': 65.59122126861392, 'one_hot_max_size': 10, 'auto_class_weights': 'Balanced'}. Best is trial 11 with value: 0.8700323043972787.\u001b[0m\n"
     ]
    },
    {
     "name": "stdout",
     "output_type": "stream",
     "text": [
      "Stopped by overfitting detector  (10 iterations wait)\n"
     ]
    },
    {
     "name": "stderr",
     "output_type": "stream",
     "text": [
      "\u001b[32m[I 2021-07-12 08:25:59,241]\u001b[0m Trial 18 finished with value: 0.8680413932897316 and parameters: {'iterations': 500, 'learning_rate': 0.1164588527624296, 'random_strength': 1, 'bagging_temperature': 8, 'max_bin': 30, 'grow_policy': 'Lossguide', 'min_data_in_leaf': 9, 'max_depth': 8, 'l2_leaf_reg': 13.966337521339865, 'one_hot_max_size': 500, 'auto_class_weights': 'Balanced'}. Best is trial 11 with value: 0.8700323043972787.\u001b[0m\n"
     ]
    },
    {
     "name": "stdout",
     "output_type": "stream",
     "text": [
      "Stopped by overfitting detector  (10 iterations wait)\n"
     ]
    },
    {
     "name": "stderr",
     "output_type": "stream",
     "text": [
      "\u001b[32m[I 2021-07-12 08:27:52,672]\u001b[0m Trial 19 finished with value: 0.868587219186644 and parameters: {'iterations': 1500, 'learning_rate': 0.044259857638343655, 'random_strength': 3, 'bagging_temperature': 10, 'max_bin': 30, 'grow_policy': 'Lossguide', 'min_data_in_leaf': 8, 'max_depth': 6, 'l2_leaf_reg': 0.38424743837355574, 'one_hot_max_size': 5, 'auto_class_weights': 'Balanced'}. Best is trial 11 with value: 0.8700323043972787.\u001b[0m\n"
     ]
    },
    {
     "name": "stdout",
     "output_type": "stream",
     "text": [
      "Stopped by overfitting detector  (10 iterations wait)\n"
     ]
    },
    {
     "name": "stderr",
     "output_type": "stream",
     "text": [
      "\u001b[32m[I 2021-07-12 08:28:40,015]\u001b[0m Trial 20 finished with value: 0.8594596871292313 and parameters: {'iterations': 1200, 'learning_rate': 0.10789194873213119, 'random_strength': 4, 'bagging_temperature': 8, 'max_bin': 30, 'grow_policy': 'Lossguide', 'min_data_in_leaf': 9, 'max_depth': 8, 'l2_leaf_reg': 0.0006013659641247129, 'one_hot_max_size': 10, 'auto_class_weights': 'Balanced'}. Best is trial 11 with value: 0.8700323043972787.\u001b[0m\n"
     ]
    },
    {
     "name": "stdout",
     "output_type": "stream",
     "text": [
      "Stopped by overfitting detector  (10 iterations wait)\n"
     ]
    },
    {
     "name": "stderr",
     "output_type": "stream",
     "text": [
      "\u001b[32m[I 2021-07-12 08:31:41,390]\u001b[0m Trial 21 finished with value: 0.8694633889570239 and parameters: {'iterations': 1000, 'learning_rate': 0.03929325493223097, 'random_strength': 3, 'bagging_temperature': 6, 'max_bin': 6, 'grow_policy': 'Lossguide', 'min_data_in_leaf': 10, 'max_depth': 9, 'l2_leaf_reg': 72.06948090280385, 'one_hot_max_size': 10, 'auto_class_weights': 'Balanced'}. Best is trial 11 with value: 0.8700323043972787.\u001b[0m\n"
     ]
    },
    {
     "name": "stdout",
     "output_type": "stream",
     "text": [
      "Stopped by overfitting detector  (10 iterations wait)\n"
     ]
    },
    {
     "name": "stderr",
     "output_type": "stream",
     "text": [
      "\u001b[32m[I 2021-07-12 08:34:18,132]\u001b[0m Trial 22 finished with value: 0.869824744995466 and parameters: {'iterations': 1000, 'learning_rate': 0.04151122499633507, 'random_strength': 2, 'bagging_temperature': 4, 'max_bin': 6, 'grow_policy': 'Lossguide', 'min_data_in_leaf': 10, 'max_depth': 10, 'l2_leaf_reg': 25.218996858673354, 'one_hot_max_size': 10, 'auto_class_weights': 'Balanced'}. Best is trial 11 with value: 0.8700323043972787.\u001b[0m\n",
      "\u001b[32m[I 2021-07-12 08:42:21,980]\u001b[0m Trial 23 finished with value: 0.8678056563090136 and parameters: {'iterations': 1000, 'learning_rate': 0.005663870475084987, 'random_strength': 1, 'bagging_temperature': 2, 'max_bin': 30, 'grow_policy': 'Lossguide', 'min_data_in_leaf': 8, 'max_depth': 10, 'l2_leaf_reg': 3.5275493319240168, 'one_hot_max_size': 10, 'auto_class_weights': 'Balanced'}. Best is trial 11 with value: 0.8700323043972787.\u001b[0m\n"
     ]
    },
    {
     "name": "stdout",
     "output_type": "stream",
     "text": [
      "Stopped by overfitting detector  (10 iterations wait)\n"
     ]
    },
    {
     "name": "stderr",
     "output_type": "stream",
     "text": [
      "\u001b[32m[I 2021-07-12 08:44:28,111]\u001b[0m Trial 24 finished with value: 0.8691747895288213 and parameters: {'iterations': 1000, 'learning_rate': 0.05306515332700447, 'random_strength': 2, 'bagging_temperature': 4, 'max_bin': 4, 'grow_policy': 'Lossguide', 'min_data_in_leaf': 9, 'max_depth': 10, 'l2_leaf_reg': 22.1379632578679, 'one_hot_max_size': 10, 'auto_class_weights': 'Balanced'}. Best is trial 11 with value: 0.8700323043972787.\u001b[0m\n"
     ]
    },
    {
     "name": "stdout",
     "output_type": "stream",
     "text": [
      "Stopped by overfitting detector  (10 iterations wait)\n"
     ]
    },
    {
     "name": "stderr",
     "output_type": "stream",
     "text": [
      "\u001b[32m[I 2021-07-12 08:45:35,001]\u001b[0m Trial 25 finished with value: 0.8671096773271003 and parameters: {'iterations': 500, 'learning_rate': 0.09303254885626591, 'random_strength': 2, 'bagging_temperature': 1, 'max_bin': 10, 'grow_policy': 'Lossguide', 'min_data_in_leaf': 10, 'max_depth': 9, 'l2_leaf_reg': 1.3577054681750707, 'one_hot_max_size': 10, 'auto_class_weights': 'Balanced'}. Best is trial 11 with value: 0.8700323043972787.\u001b[0m\n"
     ]
    },
    {
     "name": "stdout",
     "output_type": "stream",
     "text": [
      "Stopped by overfitting detector  (10 iterations wait)\n"
     ]
    },
    {
     "name": "stderr",
     "output_type": "stream",
     "text": [
      "\u001b[32m[I 2021-07-12 08:46:32,154]\u001b[0m Trial 26 finished with value: 0.8689078505981895 and parameters: {'iterations': 1000, 'learning_rate': 0.12943837407322778, 'random_strength': 5, 'bagging_temperature': 9, 'max_bin': 6, 'grow_policy': 'Lossguide', 'min_data_in_leaf': 7, 'max_depth': 8, 'l2_leaf_reg': 99.19393228053048, 'one_hot_max_size': 10, 'auto_class_weights': 'Balanced'}. Best is trial 11 with value: 0.8700323043972787.\u001b[0m\n"
     ]
    },
    {
     "name": "stdout",
     "output_type": "stream",
     "text": [
      "Stopped by overfitting detector  (10 iterations wait)\n"
     ]
    },
    {
     "name": "stderr",
     "output_type": "stream",
     "text": [
      "\u001b[32m[I 2021-07-12 08:47:06,266]\u001b[0m Trial 27 finished with value: 0.8694802476344534 and parameters: {'iterations': 1500, 'learning_rate': 0.021331651281047765, 'random_strength': 1, 'bagging_temperature': 6, 'max_bin': 6, 'grow_policy': 'Lossguide', 'min_data_in_leaf': 9, 'max_depth': 10, 'l2_leaf_reg': 0.1619898439688734, 'one_hot_max_size': 1024, 'auto_class_weights': 'Balanced'}. Best is trial 11 with value: 0.8700323043972787.\u001b[0m\n",
      "\u001b[32m[I 2021-07-12 08:47:51,432]\u001b[0m Trial 28 finished with value: 0.8620054363065975 and parameters: {'iterations': 100, 'learning_rate': 0.05989467028855147, 'random_strength': 4, 'bagging_temperature': 4, 'max_bin': 30, 'grow_policy': 'Lossguide', 'min_data_in_leaf': 8, 'max_depth': 9, 'l2_leaf_reg': 24.841355770837186, 'one_hot_max_size': 12, 'auto_class_weights': 'Balanced'}. Best is trial 11 with value: 0.8700323043972787.\u001b[0m\n"
     ]
    },
    {
     "name": "stdout",
     "output_type": "stream",
     "text": [
      "Stopped by overfitting detector  (10 iterations wait)\n"
     ]
    },
    {
     "name": "stderr",
     "output_type": "stream",
     "text": [
      "\u001b[32m[I 2021-07-12 08:47:56,586]\u001b[0m Trial 29 finished with value: 0.8570532055937452 and parameters: {'iterations': 1200, 'learning_rate': 0.08875347344757573, 'random_strength': 3, 'bagging_temperature': 7, 'max_bin': 6, 'grow_policy': 'SymmetricTree', 'min_data_in_leaf': 6, 'max_depth': 6, 'l2_leaf_reg': 2.4512677651362456e-07, 'one_hot_max_size': 500, 'auto_class_weights': 'Balanced'}. Best is trial 11 with value: 0.8700323043972787.\u001b[0m\n",
      "\u001b[32m[I 2021-07-12 08:51:49,710]\u001b[0m Trial 30 finished with value: 0.8520004250497795 and parameters: {'iterations': 500, 'learning_rate': 0.002193548037656985, 'random_strength': 2, 'bagging_temperature': 8, 'max_bin': 4, 'grow_policy': 'Lossguide', 'min_data_in_leaf': 7, 'max_depth': 10, 'l2_leaf_reg': 2.1922693300629423, 'one_hot_max_size': 5, 'auto_class_weights': 'Balanced'}. Best is trial 11 with value: 0.8700323043972787.\u001b[0m\n"
     ]
    },
    {
     "name": "stdout",
     "output_type": "stream",
     "text": [
      "Stopped by overfitting detector  (10 iterations wait)\n"
     ]
    },
    {
     "name": "stderr",
     "output_type": "stream",
     "text": [
      "\u001b[32m[I 2021-07-12 08:54:54,043]\u001b[0m Trial 31 finished with value: 0.8695029818098494 and parameters: {'iterations': 1000, 'learning_rate': 0.033135589421671455, 'random_strength': 3, 'bagging_temperature': 4, 'max_bin': 6, 'grow_policy': 'Lossguide', 'min_data_in_leaf': 10, 'max_depth': 9, 'l2_leaf_reg': 19.2674025871689, 'one_hot_max_size': 10, 'auto_class_weights': 'Balanced'}. Best is trial 11 with value: 0.8700323043972787.\u001b[0m\n"
     ]
    },
    {
     "name": "stdout",
     "output_type": "stream",
     "text": [
      "Stopped by overfitting detector  (10 iterations wait)\n"
     ]
    },
    {
     "name": "stderr",
     "output_type": "stream",
     "text": [
      "\u001b[32m[I 2021-07-12 08:57:18,131]\u001b[0m Trial 32 finished with value: 0.869627743265996 and parameters: {'iterations': 1000, 'learning_rate': 0.04744800288684593, 'random_strength': 5, 'bagging_temperature': 1, 'max_bin': 6, 'grow_policy': 'Lossguide', 'min_data_in_leaf': 10, 'max_depth': 8, 'l2_leaf_reg': 96.31367407383736, 'one_hot_max_size': 10, 'auto_class_weights': 'Balanced'}. Best is trial 11 with value: 0.8700323043972787.\u001b[0m\n"
     ]
    },
    {
     "name": "stdout",
     "output_type": "stream",
     "text": [
      "Stopped by overfitting detector  (10 iterations wait)\n"
     ]
    },
    {
     "name": "stderr",
     "output_type": "stream",
     "text": [
      "\u001b[32m[I 2021-07-12 09:02:03,700]\u001b[0m Trial 33 finished with value: 0.8698391050700115 and parameters: {'iterations': 1000, 'learning_rate': 0.02375720360112072, 'random_strength': 3, 'bagging_temperature': 2, 'max_bin': 6, 'grow_policy': 'Lossguide', 'min_data_in_leaf': 9, 'max_depth': 9, 'l2_leaf_reg': 9.390007533393934, 'one_hot_max_size': 10, 'auto_class_weights': 'Balanced'}. Best is trial 11 with value: 0.8700323043972787.\u001b[0m\n"
     ]
    },
    {
     "name": "stdout",
     "output_type": "stream",
     "text": [
      "Stopped by overfitting detector  (10 iterations wait)\n"
     ]
    },
    {
     "name": "stderr",
     "output_type": "stream",
     "text": [
      "\u001b[32m[I 2021-07-12 09:02:25,736]\u001b[0m Trial 34 finished with value: 0.8647269012073988 and parameters: {'iterations': 1000, 'learning_rate': 0.2881339304428209, 'random_strength': 1, 'bagging_temperature': 2, 'max_bin': 6, 'grow_policy': 'Lossguide', 'min_data_in_leaf': 9, 'max_depth': 10, 'l2_leaf_reg': 12.916566776363096, 'one_hot_max_size': 10, 'auto_class_weights': 'Balanced'}. Best is trial 11 with value: 0.8700323043972787.\u001b[0m\n"
     ]
    },
    {
     "name": "stdout",
     "output_type": "stream",
     "text": [
      "Stopped by overfitting detector  (10 iterations wait)\n"
     ]
    },
    {
     "name": "stderr",
     "output_type": "stream",
     "text": [
      "\u001b[32m[I 2021-07-12 09:02:57,634]\u001b[0m Trial 35 finished with value: 0.8645433374124094 and parameters: {'iterations': 200, 'learning_rate': 0.22859839900501416, 'random_strength': 2, 'bagging_temperature': 2, 'max_bin': 6, 'grow_policy': 'Lossguide', 'min_data_in_leaf': 8, 'max_depth': 9, 'l2_leaf_reg': 4.898196853421896, 'one_hot_max_size': 12, 'auto_class_weights': 'Balanced'}. Best is trial 11 with value: 0.8700323043972787.\u001b[0m\n",
      "\u001b[32m[I 2021-07-12 09:06:28,388]\u001b[0m Trial 36 finished with value: 0.8673003494386471 and parameters: {'iterations': 500, 'learning_rate': 0.02027017091602645, 'random_strength': 4, 'bagging_temperature': 0, 'max_bin': 30, 'grow_policy': 'Lossguide', 'min_data_in_leaf': 9, 'max_depth': 7, 'l2_leaf_reg': 5.233224839882941, 'one_hot_max_size': 10, 'auto_class_weights': 'Balanced'}. Best is trial 11 with value: 0.8700323043972787.\u001b[0m\n"
     ]
    },
    {
     "name": "stdout",
     "output_type": "stream",
     "text": [
      "Stopped by overfitting detector  (10 iterations wait)\n"
     ]
    },
    {
     "name": "stderr",
     "output_type": "stream",
     "text": [
      "\u001b[32m[I 2021-07-12 09:08:32,694]\u001b[0m Trial 37 finished with value: 0.8639992760221098 and parameters: {'iterations': 300, 'learning_rate': 0.05869931621113159, 'random_strength': 8, 'bagging_temperature': 1, 'max_bin': 10, 'grow_policy': 'Lossguide', 'min_data_in_leaf': 9, 'max_depth': 10, 'l2_leaf_reg': 0.005439418915265845, 'one_hot_max_size': 10, 'auto_class_weights': 'Balanced'}. Best is trial 11 with value: 0.8700323043972787.\u001b[0m\n"
     ]
    },
    {
     "name": "stdout",
     "output_type": "stream",
     "text": [
      "Stopped by overfitting detector  (10 iterations wait)\n"
     ]
    },
    {
     "name": "stderr",
     "output_type": "stream",
     "text": [
      "\u001b[32m[I 2021-07-12 09:09:22,449]\u001b[0m Trial 38 finished with value: 0.8694743752705503 and parameters: {'iterations': 1000, 'learning_rate': 0.01718373642543813, 'random_strength': 2, 'bagging_temperature': 1, 'max_bin': 8, 'grow_policy': 'Lossguide', 'min_data_in_leaf': 8, 'max_depth': 8, 'l2_leaf_reg': 0.48147288567437063, 'one_hot_max_size': 1024, 'auto_class_weights': 'Balanced'}. Best is trial 11 with value: 0.8700323043972787.\u001b[0m\n",
      "\u001b[32m[I 2021-07-12 09:09:34,799]\u001b[0m Trial 39 finished with value: 0.8656698870292207 and parameters: {'iterations': 100, 'learning_rate': 0.09132533413835969, 'random_strength': 5, 'bagging_temperature': 3, 'max_bin': 6, 'grow_policy': 'SymmetricTree', 'min_data_in_leaf': 7, 'max_depth': 7, 'l2_leaf_reg': 33.79124709332045, 'one_hot_max_size': 10, 'auto_class_weights': 'Balanced'}. Best is trial 11 with value: 0.8700323043972787.\u001b[0m\n"
     ]
    },
    {
     "name": "stdout",
     "output_type": "stream",
     "text": [
      "Stopped by overfitting detector  (10 iterations wait)\n"
     ]
    },
    {
     "name": "stderr",
     "output_type": "stream",
     "text": [
      "\u001b[32m[I 2021-07-12 09:09:38,134]\u001b[0m Trial 40 finished with value: 0.8435965938081587 and parameters: {'iterations': 300, 'learning_rate': 0.15730044502481388, 'random_strength': 3, 'bagging_temperature': 4, 'max_bin': 5, 'grow_policy': 'Depthwise', 'min_data_in_leaf': 8, 'max_depth': 8, 'l2_leaf_reg': 0.0001491404652872905, 'one_hot_max_size': 100, 'auto_class_weights': 'SqrtBalanced'}. Best is trial 11 with value: 0.8700323043972787.\u001b[0m\n"
     ]
    },
    {
     "name": "stdout",
     "output_type": "stream",
     "text": [
      "Stopped by overfitting detector  (10 iterations wait)\n"
     ]
    },
    {
     "name": "stderr",
     "output_type": "stream",
     "text": [
      "\u001b[32m[I 2021-07-12 09:12:51,261]\u001b[0m Trial 41 finished with value: 0.8695926210672982 and parameters: {'iterations': 1000, 'learning_rate': 0.035363314422247424, 'random_strength': 3, 'bagging_temperature': 5, 'max_bin': 6, 'grow_policy': 'Lossguide', 'min_data_in_leaf': 10, 'max_depth': 9, 'l2_leaf_reg': 7.934435374473103, 'one_hot_max_size': 10, 'auto_class_weights': 'Balanced'}. Best is trial 11 with value: 0.8700323043972787.\u001b[0m\n"
     ]
    },
    {
     "name": "stdout",
     "output_type": "stream",
     "text": [
      "Stopped by overfitting detector  (10 iterations wait)\n"
     ]
    },
    {
     "name": "stderr",
     "output_type": "stream",
     "text": [
      "\u001b[32m[I 2021-07-12 09:15:00,905]\u001b[0m Trial 42 finished with value: 0.8690598460770781 and parameters: {'iterations': 1000, 'learning_rate': 0.058802919830238456, 'random_strength': 4, 'bagging_temperature': 2, 'max_bin': 6, 'grow_policy': 'Lossguide', 'min_data_in_leaf': 10, 'max_depth': 9, 'l2_leaf_reg': 49.86794139477465, 'one_hot_max_size': 10, 'auto_class_weights': 'Balanced'}. Best is trial 11 with value: 0.8700323043972787.\u001b[0m\n",
      "\u001b[32m[I 2021-07-12 09:22:56,329]\u001b[0m Trial 43 finished with value: 0.8676745016831063 and parameters: {'iterations': 1000, 'learning_rate': 0.011130683616374815, 'random_strength': 3, 'bagging_temperature': 3, 'max_bin': 6, 'grow_policy': 'Lossguide', 'min_data_in_leaf': 9, 'max_depth': 10, 'l2_leaf_reg': 1.4649494800129397, 'one_hot_max_size': 10, 'auto_class_weights': 'Balanced'}. Best is trial 11 with value: 0.8700323043972787.\u001b[0m\n"
     ]
    },
    {
     "name": "stdout",
     "output_type": "stream",
     "text": [
      "Stopped by overfitting detector  (10 iterations wait)\n"
     ]
    },
    {
     "name": "stderr",
     "output_type": "stream",
     "text": [
      "\u001b[32m[I 2021-07-12 09:24:27,825]\u001b[0m Trial 44 finished with value: 0.8689076660657078 and parameters: {'iterations': 200, 'learning_rate': 0.07485257272242585, 'random_strength': 2, 'bagging_temperature': 0, 'max_bin': 20, 'grow_policy': 'Lossguide', 'min_data_in_leaf': 10, 'max_depth': 9, 'l2_leaf_reg': 37.55434571355367, 'one_hot_max_size': 10, 'auto_class_weights': 'Balanced'}. Best is trial 11 with value: 0.8700323043972787.\u001b[0m\n"
     ]
    },
    {
     "name": "stdout",
     "output_type": "stream",
     "text": [
      "Stopped by overfitting detector  (10 iterations wait)\n"
     ]
    },
    {
     "name": "stderr",
     "output_type": "stream",
     "text": [
      "\u001b[32m[I 2021-07-12 09:27:24,114]\u001b[0m Trial 45 finished with value: 0.8695996086353643 and parameters: {'iterations': 1000, 'learning_rate': 0.03260869042527943, 'random_strength': 1, 'bagging_temperature': 6, 'max_bin': 6, 'grow_policy': 'Lossguide', 'min_data_in_leaf': 10, 'max_depth': 10, 'l2_leaf_reg': 9.153301582808147, 'one_hot_max_size': 5, 'auto_class_weights': 'Balanced'}. Best is trial 11 with value: 0.8700323043972787.\u001b[0m\n",
      "\u001b[32m[I 2021-07-12 09:27:56,706]\u001b[0m Trial 46 finished with value: 0.8678487665093846 and parameters: {'iterations': 500, 'learning_rate': 0.0469601697867522, 'random_strength': 6, 'bagging_temperature': 7, 'max_bin': 6, 'grow_policy': 'Depthwise', 'min_data_in_leaf': 9, 'max_depth': 3, 'l2_leaf_reg': 0.0516816941895017, 'one_hot_max_size': 10, 'auto_class_weights': 'SqrtBalanced'}. Best is trial 11 with value: 0.8700323043972787.\u001b[0m\n",
      "\u001b[32m[I 2021-07-12 09:30:39,613]\u001b[0m Trial 47 finished with value: 0.8610683272886017 and parameters: {'iterations': 1000, 'learning_rate': 0.002985980686802246, 'random_strength': 3, 'bagging_temperature': 3, 'max_bin': 8, 'grow_policy': 'SymmetricTree', 'min_data_in_leaf': 4, 'max_depth': 8, 'l2_leaf_reg': 57.17157397952014, 'one_hot_max_size': 10, 'auto_class_weights': 'Balanced'}. Best is trial 11 with value: 0.8700323043972787.\u001b[0m\n"
     ]
    },
    {
     "name": "stdout",
     "output_type": "stream",
     "text": [
      "Stopped by overfitting detector  (10 iterations wait)\n"
     ]
    },
    {
     "name": "stderr",
     "output_type": "stream",
     "text": [
      "\u001b[32m[I 2021-07-12 09:30:56,027]\u001b[0m Trial 48 finished with value: 0.8655023411411638 and parameters: {'iterations': 1000, 'learning_rate': 0.06946681598173575, 'random_strength': 4, 'bagging_temperature': 4, 'max_bin': 5, 'grow_policy': 'Lossguide', 'min_data_in_leaf': 10, 'max_depth': 9, 'l2_leaf_reg': 0.17946849336231785, 'one_hot_max_size': 500, 'auto_class_weights': 'Balanced'}. Best is trial 11 with value: 0.8700323043972787.\u001b[0m\n"
     ]
    },
    {
     "name": "stdout",
     "output_type": "stream",
     "text": [
      "Stopped by overfitting detector  (10 iterations wait)\n"
     ]
    },
    {
     "name": "stderr",
     "output_type": "stream",
     "text": [
      "\u001b[32m[I 2021-07-12 09:33:09,020]\u001b[0m Trial 49 finished with value: 0.8669761884044751 and parameters: {'iterations': 1500, 'learning_rate': 0.02576525189849205, 'random_strength': 2, 'bagging_temperature': 9, 'max_bin': 4, 'grow_policy': 'Lossguide', 'min_data_in_leaf': 9, 'max_depth': 5, 'l2_leaf_reg': 0.020889920011279057, 'one_hot_max_size': 12, 'auto_class_weights': 'Balanced'}. Best is trial 11 with value: 0.8700323043972787.\u001b[0m\n"
     ]
    },
    {
     "name": "stdout",
     "output_type": "stream",
     "text": [
      "Stopped by overfitting detector  (10 iterations wait)\n"
     ]
    },
    {
     "name": "stderr",
     "output_type": "stream",
     "text": [
      "\u001b[32m[I 2021-07-12 09:33:18,003]\u001b[0m Trial 50 finished with value: 0.8607293805276685 and parameters: {'iterations': 500, 'learning_rate': 0.08350101720163632, 'random_strength': 1, 'bagging_temperature': 5, 'max_bin': 30, 'grow_policy': 'Lossguide', 'min_data_in_leaf': 8, 'max_depth': 9, 'l2_leaf_reg': 6.487824180396358e-06, 'one_hot_max_size': 100, 'auto_class_weights': 'Balanced'}. Best is trial 11 with value: 0.8700323043972787.\u001b[0m\n"
     ]
    },
    {
     "name": "stdout",
     "output_type": "stream",
     "text": [
      "Stopped by overfitting detector  (10 iterations wait)\n"
     ]
    },
    {
     "name": "stderr",
     "output_type": "stream",
     "text": [
      "\u001b[32m[I 2021-07-12 09:35:36,897]\u001b[0m Trial 51 finished with value: 0.8690860959459306 and parameters: {'iterations': 1000, 'learning_rate': 0.046047826218588606, 'random_strength': 5, 'bagging_temperature': 1, 'max_bin': 6, 'grow_policy': 'Lossguide', 'min_data_in_leaf': 10, 'max_depth': 8, 'l2_leaf_reg': 61.06951530276633, 'one_hot_max_size': 10, 'auto_class_weights': 'Balanced'}. Best is trial 11 with value: 0.8700323043972787.\u001b[0m\n"
     ]
    },
    {
     "name": "stdout",
     "output_type": "stream",
     "text": [
      "Stopped by overfitting detector  (10 iterations wait)\n"
     ]
    },
    {
     "name": "stderr",
     "output_type": "stream",
     "text": [
      "\u001b[32m[I 2021-07-12 09:38:30,839]\u001b[0m Trial 52 finished with value: 0.8693812672145169 and parameters: {'iterations': 1000, 'learning_rate': 0.04795885275565416, 'random_strength': 10, 'bagging_temperature': 0, 'max_bin': 6, 'grow_policy': 'Lossguide', 'min_data_in_leaf': 10, 'max_depth': 10, 'l2_leaf_reg': 82.7390197061603, 'one_hot_max_size': 10, 'auto_class_weights': 'Balanced'}. Best is trial 11 with value: 0.8700323043972787.\u001b[0m\n"
     ]
    },
    {
     "name": "stdout",
     "output_type": "stream",
     "text": [
      "Stopped by overfitting detector  (10 iterations wait)\n"
     ]
    },
    {
     "name": "stderr",
     "output_type": "stream",
     "text": [
      "\u001b[32m[I 2021-07-12 09:40:07,919]\u001b[0m Trial 53 finished with value: 0.8684900042599697 and parameters: {'iterations': 1000, 'learning_rate': 0.06681678705187194, 'random_strength': 7, 'bagging_temperature': 2, 'max_bin': 6, 'grow_policy': 'Lossguide', 'min_data_in_leaf': 9, 'max_depth': 7, 'l2_leaf_reg': 99.70108645716007, 'one_hot_max_size': 10, 'auto_class_weights': 'Balanced'}. Best is trial 11 with value: 0.8700323043972787.\u001b[0m\n"
     ]
    },
    {
     "name": "stdout",
     "output_type": "stream",
     "text": [
      "Stopped by overfitting detector  (10 iterations wait)\n"
     ]
    },
    {
     "name": "stderr",
     "output_type": "stream",
     "text": [
      "\u001b[32m[I 2021-07-12 09:43:17,418]\u001b[0m Trial 54 finished with value: 0.8690307864334905 and parameters: {'iterations': 1000, 'learning_rate': 0.03324136684089798, 'random_strength': 6, 'bagging_temperature': 1, 'max_bin': 6, 'grow_policy': 'Lossguide', 'min_data_in_leaf': 10, 'max_depth': 8, 'l2_leaf_reg': 3.3676818464682556, 'one_hot_max_size': 10, 'auto_class_weights': 'Balanced'}. Best is trial 11 with value: 0.8700323043972787.\u001b[0m\n"
     ]
    },
    {
     "name": "stdout",
     "output_type": "stream",
     "text": [
      "Stopped by overfitting detector  (10 iterations wait)\n"
     ]
    },
    {
     "name": "stderr",
     "output_type": "stream",
     "text": [
      "\u001b[32m[I 2021-07-12 09:51:32,340]\u001b[0m Trial 55 finished with value: 0.8696268092861368 and parameters: {'iterations': 1200, 'learning_rate': 0.01315700248107133, 'random_strength': 5, 'bagging_temperature': 0, 'max_bin': 20, 'grow_policy': 'Lossguide', 'min_data_in_leaf': 10, 'max_depth': 9, 'l2_leaf_reg': 14.762508716110062, 'one_hot_max_size': 10, 'auto_class_weights': 'Balanced'}. Best is trial 11 with value: 0.8700323043972787.\u001b[0m\n"
     ]
    },
    {
     "name": "stdout",
     "output_type": "stream",
     "text": [
      "Stopped by overfitting detector  (10 iterations wait)\n"
     ]
    },
    {
     "name": "stderr",
     "output_type": "stream",
     "text": [
      "\u001b[32m[I 2021-07-12 09:53:33,391]\u001b[0m Trial 56 finished with value: 0.8683830639578718 and parameters: {'iterations': 1000, 'learning_rate': 0.05568913313420503, 'random_strength': 8, 'bagging_temperature': 3, 'max_bin': 6, 'grow_policy': 'Lossguide', 'min_data_in_leaf': 3, 'max_depth': 8, 'l2_leaf_reg': 0.7652428276979109, 'one_hot_max_size': 10, 'auto_class_weights': 'SqrtBalanced'}. Best is trial 11 with value: 0.8700323043972787.\u001b[0m\n"
     ]
    },
    {
     "name": "stdout",
     "output_type": "stream",
     "text": [
      "Stopped by overfitting detector  (10 iterations wait)\n"
     ]
    },
    {
     "name": "stderr",
     "output_type": "stream",
     "text": [
      "\u001b[32m[I 2021-07-12 09:54:07,364]\u001b[0m Trial 57 finished with value: 0.8694299714565655 and parameters: {'iterations': 1000, 'learning_rate': 0.03839302986993661, 'random_strength': 7, 'bagging_temperature': 2, 'max_bin': 6, 'grow_policy': 'Lossguide', 'min_data_in_leaf': 9, 'max_depth': 10, 'l2_leaf_reg': 21.31664876056425, 'one_hot_max_size': 1024, 'auto_class_weights': 'Balanced'}. Best is trial 11 with value: 0.8700323043972787.\u001b[0m\n"
     ]
    },
    {
     "name": "stdout",
     "output_type": "stream",
     "text": [
      "Stopped by overfitting detector  (10 iterations wait)\n"
     ]
    },
    {
     "name": "stderr",
     "output_type": "stream",
     "text": [
      "\u001b[32m[I 2021-07-12 09:54:15,812]\u001b[0m Trial 58 finished with value: 0.8463790641201326 and parameters: {'iterations': 100, 'learning_rate': 0.10243477965233683, 'random_strength': 3, 'bagging_temperature': 10, 'max_bin': 30, 'grow_policy': 'Depthwise', 'min_data_in_leaf': 9, 'max_depth': 9, 'l2_leaf_reg': 1.3052441275055995e-08, 'one_hot_max_size': 10, 'auto_class_weights': 'Balanced'}. Best is trial 11 with value: 0.8700323043972787.\u001b[0m\n"
     ]
    },
    {
     "name": "stdout",
     "output_type": "stream",
     "text": [
      "Stopped by overfitting detector  (10 iterations wait)\n"
     ]
    },
    {
     "name": "stderr",
     "output_type": "stream",
     "text": [
      "\u001b[32m[I 2021-07-12 09:55:41,838]\u001b[0m Trial 59 finished with value: 0.8683891038780809 and parameters: {'iterations': 1000, 'learning_rate': 0.06669103100374194, 'random_strength': 2, 'bagging_temperature': 6, 'max_bin': 10, 'grow_policy': 'Lossguide', 'min_data_in_leaf': 10, 'max_depth': 8, 'l2_leaf_reg': 6.771799108513619, 'one_hot_max_size': 10, 'auto_class_weights': 'Balanced'}. Best is trial 11 with value: 0.8700323043972787.\u001b[0m\n"
     ]
    },
    {
     "name": "stdout",
     "output_type": "stream",
     "text": [
      "Stopped by overfitting detector  (10 iterations wait)\n"
     ]
    },
    {
     "name": "stderr",
     "output_type": "stream",
     "text": [
      "\u001b[32m[I 2021-07-12 09:56:42,765]\u001b[0m Trial 60 finished with value: 0.8682919699147064 and parameters: {'iterations': 500, 'learning_rate': 0.11997167480256588, 'random_strength': 4, 'bagging_temperature': 1, 'max_bin': 6, 'grow_policy': 'Lossguide', 'min_data_in_leaf': 5, 'max_depth': 9, 'l2_leaf_reg': 29.51663098009278, 'one_hot_max_size': 10, 'auto_class_weights': 'Balanced'}. Best is trial 11 with value: 0.8700323043972787.\u001b[0m\n"
     ]
    },
    {
     "name": "stdout",
     "output_type": "stream",
     "text": [
      "Stopped by overfitting detector  (10 iterations wait)\n"
     ]
    },
    {
     "name": "stderr",
     "output_type": "stream",
     "text": [
      "\u001b[32m[I 2021-07-12 10:04:38,991]\u001b[0m Trial 61 finished with value: 0.8702101170121423 and parameters: {'iterations': 1200, 'learning_rate': 0.016068725977693384, 'random_strength': 5, 'bagging_temperature': 0, 'max_bin': 20, 'grow_policy': 'Lossguide', 'min_data_in_leaf': 10, 'max_depth': 9, 'l2_leaf_reg': 94.95363158499532, 'one_hot_max_size': 10, 'auto_class_weights': 'Balanced'}. Best is trial 61 with value: 0.8702101170121423.\u001b[0m\n"
     ]
    },
    {
     "name": "stdout",
     "output_type": "stream",
     "text": [
      "Stopped by overfitting detector  (10 iterations wait)\n"
     ]
    },
    {
     "name": "stderr",
     "output_type": "stream",
     "text": [
      "\u001b[32m[I 2021-07-12 10:10:22,953]\u001b[0m Trial 62 finished with value: 0.8699890589098453 and parameters: {'iterations': 1200, 'learning_rate': 0.02387290328937256, 'random_strength': 5, 'bagging_temperature': 0, 'max_bin': 20, 'grow_policy': 'Lossguide', 'min_data_in_leaf': 10, 'max_depth': 10, 'l2_leaf_reg': 86.04881514154324, 'one_hot_max_size': 10, 'auto_class_weights': 'Balanced'}. Best is trial 61 with value: 0.8702101170121423.\u001b[0m\n",
      "\u001b[32m[I 2021-07-12 10:19:39,134]\u001b[0m Trial 63 finished with value: 0.854327350682906 and parameters: {'iterations': 1200, 'learning_rate': 0.0015657998908529917, 'random_strength': 4, 'bagging_temperature': 0, 'max_bin': 20, 'grow_policy': 'Lossguide', 'min_data_in_leaf': 10, 'max_depth': 10, 'l2_leaf_reg': 2.8494504873311324, 'one_hot_max_size': 10, 'auto_class_weights': 'Balanced'}. Best is trial 61 with value: 0.8702101170121423.\u001b[0m\n"
     ]
    },
    {
     "name": "stdout",
     "output_type": "stream",
     "text": [
      "Stopped by overfitting detector  (10 iterations wait)\n"
     ]
    },
    {
     "name": "stderr",
     "output_type": "stream",
     "text": [
      "\u001b[32m[I 2021-07-12 10:25:26,930]\u001b[0m Trial 64 finished with value: 0.8699818276393447 and parameters: {'iterations': 1200, 'learning_rate': 0.020396681176224583, 'random_strength': 6, 'bagging_temperature': 0, 'max_bin': 20, 'grow_policy': 'Lossguide', 'min_data_in_leaf': 9, 'max_depth': 10, 'l2_leaf_reg': 15.042770429001779, 'one_hot_max_size': 10, 'auto_class_weights': 'Balanced'}. Best is trial 61 with value: 0.8702101170121423.\u001b[0m\n"
     ]
    },
    {
     "name": "stdout",
     "output_type": "stream",
     "text": [
      "Stopped by overfitting detector  (10 iterations wait)\n"
     ]
    },
    {
     "name": "stderr",
     "output_type": "stream",
     "text": [
      "\u001b[32m[I 2021-07-12 10:30:02,253]\u001b[0m Trial 65 finished with value: 0.869526716041604 and parameters: {'iterations': 1200, 'learning_rate': 0.026016394388465175, 'random_strength': 6, 'bagging_temperature': 0, 'max_bin': 20, 'grow_policy': 'Lossguide', 'min_data_in_leaf': 9, 'max_depth': 10, 'l2_leaf_reg': 11.017455521828175, 'one_hot_max_size': 5, 'auto_class_weights': 'Balanced'}. Best is trial 61 with value: 0.8702101170121423.\u001b[0m\n",
      "\u001b[32m[I 2021-07-12 10:39:18,970]\u001b[0m Trial 66 finished with value: 0.86974522104314 and parameters: {'iterations': 1200, 'learning_rate': 0.011697044426517754, 'random_strength': 5, 'bagging_temperature': 0, 'max_bin': 20, 'grow_policy': 'Lossguide', 'min_data_in_leaf': 8, 'max_depth': 10, 'l2_leaf_reg': 29.612318268233526, 'one_hot_max_size': 10, 'auto_class_weights': 'Balanced'}. Best is trial 61 with value: 0.8702101170121423.\u001b[0m\n"
     ]
    },
    {
     "name": "stdout",
     "output_type": "stream",
     "text": [
      "Stopped by overfitting detector  (10 iterations wait)\n"
     ]
    },
    {
     "name": "stderr",
     "output_type": "stream",
     "text": [
      "\u001b[32m[I 2021-07-12 10:39:52,101]\u001b[0m Trial 67 finished with value: 0.8631729075610014 and parameters: {'iterations': 1200, 'learning_rate': 0.026122845719674784, 'random_strength': 6, 'bagging_temperature': 0, 'max_bin': 20, 'grow_policy': 'SymmetricTree', 'min_data_in_leaf': 9, 'max_depth': 10, 'l2_leaf_reg': 1.6115234506809137, 'one_hot_max_size': 500, 'auto_class_weights': 'Balanced'}. Best is trial 61 with value: 0.8702101170121423.\u001b[0m\n",
      "\u001b[32m[I 2021-07-12 10:48:51,863]\u001b[0m Trial 68 finished with value: 0.8528006054817456 and parameters: {'iterations': 1200, 'learning_rate': 0.001650705164993757, 'random_strength': 7, 'bagging_temperature': 1, 'max_bin': 20, 'grow_policy': 'Lossguide', 'min_data_in_leaf': 9, 'max_depth': 10, 'l2_leaf_reg': 14.235372339895374, 'one_hot_max_size': 10, 'auto_class_weights': 'Balanced'}. Best is trial 61 with value: 0.8702101170121423.\u001b[0m\n"
     ]
    },
    {
     "name": "stdout",
     "output_type": "stream",
     "text": [
      "Stopped by overfitting detector  (10 iterations wait)\n"
     ]
    },
    {
     "name": "stderr",
     "output_type": "stream",
     "text": [
      "\u001b[32m[I 2021-07-12 10:55:02,479]\u001b[0m Trial 69 finished with value: 0.8699566226613662 and parameters: {'iterations': 1200, 'learning_rate': 0.019992527121653603, 'random_strength': 7, 'bagging_temperature': 1, 'max_bin': 20, 'grow_policy': 'Lossguide', 'min_data_in_leaf': 8, 'max_depth': 10, 'l2_leaf_reg': 50.005802197092905, 'one_hot_max_size': 10, 'auto_class_weights': 'Balanced'}. Best is trial 61 with value: 0.8702101170121423.\u001b[0m\n"
     ]
    },
    {
     "name": "stdout",
     "output_type": "stream",
     "text": [
      "Stopped by overfitting detector  (10 iterations wait)\n"
     ]
    },
    {
     "name": "stderr",
     "output_type": "stream",
     "text": [
      "\u001b[32m[I 2021-07-12 11:02:35,510]\u001b[0m Trial 70 finished with value: 0.8699436310697225 and parameters: {'iterations': 1200, 'learning_rate': 0.01792816616073553, 'random_strength': 7, 'bagging_temperature': 0, 'max_bin': 20, 'grow_policy': 'Lossguide', 'min_data_in_leaf': 8, 'max_depth': 9, 'l2_leaf_reg': 88.28743253793378, 'one_hot_max_size': 10, 'auto_class_weights': 'Balanced'}. Best is trial 61 with value: 0.8702101170121423.\u001b[0m\n"
     ]
    },
    {
     "name": "stdout",
     "output_type": "stream",
     "text": [
      "Stopped by overfitting detector  (10 iterations wait)\n"
     ]
    },
    {
     "name": "stderr",
     "output_type": "stream",
     "text": [
      "\u001b[32m[I 2021-07-12 11:10:05,103]\u001b[0m Trial 71 finished with value: 0.8698557172591725 and parameters: {'iterations': 1200, 'learning_rate': 0.018262736841958734, 'random_strength': 8, 'bagging_temperature': 0, 'max_bin': 20, 'grow_policy': 'Lossguide', 'min_data_in_leaf': 8, 'max_depth': 9, 'l2_leaf_reg': 89.72652747865217, 'one_hot_max_size': 10, 'auto_class_weights': 'Balanced'}. Best is trial 61 with value: 0.8702101170121423.\u001b[0m\n",
      "\u001b[32m[I 2021-07-12 11:19:07,488]\u001b[0m Trial 72 finished with value: 0.8701304466003992 and parameters: {'iterations': 1200, 'learning_rate': 0.01376895906815292, 'random_strength': 8, 'bagging_temperature': 0, 'max_bin': 20, 'grow_policy': 'Lossguide', 'min_data_in_leaf': 6, 'max_depth': 9, 'l2_leaf_reg': 79.04402534271802, 'one_hot_max_size': 10, 'auto_class_weights': 'Balanced'}. Best is trial 61 with value: 0.8702101170121423.\u001b[0m\n",
      "\u001b[32m[I 2021-07-12 11:29:18,786]\u001b[0m Trial 73 finished with value: 0.8681652258733814 and parameters: {'iterations': 1200, 'learning_rate': 0.011266011776734353, 'random_strength': 9, 'bagging_temperature': 0, 'max_bin': 20, 'grow_policy': 'Lossguide', 'min_data_in_leaf': 6, 'max_depth': 10, 'l2_leaf_reg': 44.429576158574086, 'one_hot_max_size': 10, 'auto_class_weights': 'Balanced'}. Best is trial 61 with value: 0.8702101170121423.\u001b[0m\n"
     ]
    },
    {
     "name": "stdout",
     "output_type": "stream",
     "text": [
      "Stopped by overfitting detector  (10 iterations wait)\n"
     ]
    },
    {
     "name": "stderr",
     "output_type": "stream",
     "text": [
      "\u001b[32m[I 2021-07-12 11:30:06,392]\u001b[0m Trial 74 finished with value: 0.8672321310680282 and parameters: {'iterations': 1200, 'learning_rate': 0.1855279215612611, 'random_strength': 7, 'bagging_temperature': 1, 'max_bin': 20, 'grow_policy': 'Lossguide', 'min_data_in_leaf': 7, 'max_depth': 9, 'l2_leaf_reg': 96.27501232318147, 'one_hot_max_size': 10, 'auto_class_weights': 'Balanced'}. Best is trial 61 with value: 0.8702101170121423.\u001b[0m\n"
     ]
    },
    {
     "name": "stdout",
     "output_type": "stream",
     "text": [
      "Stopped by overfitting detector  (10 iterations wait)\n"
     ]
    },
    {
     "name": "stderr",
     "output_type": "stream",
     "text": [
      "\u001b[32m[I 2021-07-12 11:34:46,605]\u001b[0m Trial 75 finished with value: 0.8697169607307694 and parameters: {'iterations': 1200, 'learning_rate': 0.030707359623700754, 'random_strength': 8, 'bagging_temperature': 0, 'max_bin': 20, 'grow_policy': 'Lossguide', 'min_data_in_leaf': 6, 'max_depth': 10, 'l2_leaf_reg': 52.94889771728108, 'one_hot_max_size': 10, 'auto_class_weights': 'Balanced'}. Best is trial 61 with value: 0.8702101170121423.\u001b[0m\n",
      "\u001b[32m[I 2021-07-12 11:36:22,278]\u001b[0m Trial 76 finished with value: 0.862733045212169 and parameters: {'iterations': 1200, 'learning_rate': 0.007116678655456966, 'random_strength': 7, 'bagging_temperature': 1, 'max_bin': 20, 'grow_policy': 'Lossguide', 'min_data_in_leaf': 7, 'max_depth': 9, 'l2_leaf_reg': 5.290428389593376, 'one_hot_max_size': 100, 'auto_class_weights': 'Balanced'}. Best is trial 61 with value: 0.8702101170121423.\u001b[0m\n"
     ]
    },
    {
     "name": "stdout",
     "output_type": "stream",
     "text": [
      "Stopped by overfitting detector  (10 iterations wait)\n"
     ]
    },
    {
     "name": "stderr",
     "output_type": "stream",
     "text": [
      "\u001b[32m[I 2021-07-12 11:44:24,386]\u001b[0m Trial 77 finished with value: 0.8702521345852133 and parameters: {'iterations': 1200, 'learning_rate': 0.016411409392211997, 'random_strength': 9, 'bagging_temperature': 0, 'max_bin': 20, 'grow_policy': 'Lossguide', 'min_data_in_leaf': 8, 'max_depth': 10, 'l2_leaf_reg': 28.554499889510982, 'one_hot_max_size': 12, 'auto_class_weights': 'Balanced'}. Best is trial 77 with value: 0.8702521345852133.\u001b[0m\n",
      "\u001b[32m[I 2021-07-12 11:54:01,073]\u001b[0m Trial 78 finished with value: 0.8547111527660615 and parameters: {'iterations': 1200, 'learning_rate': 0.0022957305611265074, 'random_strength': 9, 'bagging_temperature': 0, 'max_bin': 20, 'grow_policy': 'Lossguide', 'min_data_in_leaf': 5, 'max_depth': 10, 'l2_leaf_reg': 20.97054786148199, 'one_hot_max_size': 12, 'auto_class_weights': 'SqrtBalanced'}. Best is trial 77 with value: 0.8702521345852133.\u001b[0m\n"
     ]
    },
    {
     "name": "stdout",
     "output_type": "stream",
     "text": [
      "Stopped by overfitting detector  (10 iterations wait)\n"
     ]
    },
    {
     "name": "stderr",
     "output_type": "stream",
     "text": [
      "\u001b[32m[I 2021-07-12 11:57:44,279]\u001b[0m Trial 79 finished with value: 0.869577086937847 and parameters: {'iterations': 1200, 'learning_rate': 0.03952252377100107, 'random_strength': 9, 'bagging_temperature': 1, 'max_bin': 20, 'grow_policy': 'Lossguide', 'min_data_in_leaf': 7, 'max_depth': 10, 'l2_leaf_reg': 42.16039861918182, 'one_hot_max_size': 12, 'auto_class_weights': 'Balanced'}. Best is trial 77 with value: 0.8702521345852133.\u001b[0m\n"
     ]
    },
    {
     "name": "stdout",
     "output_type": "stream",
     "text": [
      "Stopped by overfitting detector  (10 iterations wait)\n"
     ]
    },
    {
     "name": "stderr",
     "output_type": "stream",
     "text": [
      "\u001b[32m[I 2021-07-12 11:58:49,718]\u001b[0m Trial 80 finished with value: 0.8676801806056631 and parameters: {'iterations': 1200, 'learning_rate': 0.050187131748199235, 'random_strength': 9, 'bagging_temperature': 0, 'max_bin': 20, 'grow_policy': 'Depthwise', 'min_data_in_leaf': 8, 'max_depth': 10, 'l2_leaf_reg': 16.03791624193365, 'one_hot_max_size': 12, 'auto_class_weights': 'Balanced'}. Best is trial 77 with value: 0.8702521345852133.\u001b[0m\n"
     ]
    },
    {
     "name": "stdout",
     "output_type": "stream",
     "text": [
      "Stopped by overfitting detector  (10 iterations wait)\n"
     ]
    },
    {
     "name": "stderr",
     "output_type": "stream",
     "text": [
      "\u001b[32m[I 2021-07-12 12:00:03,584]\u001b[0m Trial 81 finished with value: 0.8698033397789523 and parameters: {'iterations': 1200, 'learning_rate': 0.020938389222331356, 'random_strength': 8, 'bagging_temperature': 0, 'max_bin': 20, 'grow_policy': 'Lossguide', 'min_data_in_leaf': 8, 'max_depth': 9, 'l2_leaf_reg': 96.92172346807313, 'one_hot_max_size': 1024, 'auto_class_weights': 'Balanced'}. Best is trial 77 with value: 0.8702521345852133.\u001b[0m\n",
      "\u001b[32m[I 2021-07-12 12:09:20,850]\u001b[0m Trial 82 finished with value: 0.8688194227722521 and parameters: {'iterations': 1200, 'learning_rate': 0.011266854514981725, 'random_strength': 7, 'bagging_temperature': 0, 'max_bin': 20, 'grow_policy': 'Lossguide', 'min_data_in_leaf': 8, 'max_depth': 9, 'l2_leaf_reg': 93.25162451422796, 'one_hot_max_size': 12, 'auto_class_weights': 'Balanced'}. Best is trial 77 with value: 0.8702521345852133.\u001b[0m\n"
     ]
    },
    {
     "name": "stdout",
     "output_type": "stream",
     "text": [
      "Stopped by overfitting detector  (10 iterations wait)\n"
     ]
    },
    {
     "name": "stderr",
     "output_type": "stream",
     "text": [
      "\u001b[32m[I 2021-07-12 12:15:41,430]\u001b[0m Trial 83 finished with value: 0.869702176977307 and parameters: {'iterations': 1200, 'learning_rate': 0.020126035717459828, 'random_strength': 10, 'bagging_temperature': 1, 'max_bin': 20, 'grow_policy': 'Lossguide', 'min_data_in_leaf': 7, 'max_depth': 10, 'l2_leaf_reg': 37.2013024561748, 'one_hot_max_size': 10, 'auto_class_weights': 'Balanced'}. Best is trial 77 with value: 0.8702521345852133.\u001b[0m\n"
     ]
    },
    {
     "name": "stdout",
     "output_type": "stream",
     "text": [
      "Stopped by overfitting detector  (10 iterations wait)\n"
     ]
    },
    {
     "name": "stderr",
     "output_type": "stream",
     "text": [
      "\u001b[32m[I 2021-07-12 12:19:43,281]\u001b[0m Trial 84 finished with value: 0.8697851876620237 and parameters: {'iterations': 1200, 'learning_rate': 0.02948098799890977, 'random_strength': 6, 'bagging_temperature': 0, 'max_bin': 20, 'grow_policy': 'Lossguide', 'min_data_in_leaf': 8, 'max_depth': 9, 'l2_leaf_reg': 10.173896051533653, 'one_hot_max_size': 10, 'auto_class_weights': 'Balanced'}. Best is trial 77 with value: 0.8702521345852133.\u001b[0m\n"
     ]
    },
    {
     "name": "stdout",
     "output_type": "stream",
     "text": [
      "Stopped by overfitting detector  (10 iterations wait)\n"
     ]
    },
    {
     "name": "stderr",
     "output_type": "stream",
     "text": [
      "\u001b[32m[I 2021-07-12 12:22:45,566]\u001b[0m Trial 85 finished with value: 0.869300247298366 and parameters: {'iterations': 1200, 'learning_rate': 0.041993382647127896, 'random_strength': 7, 'bagging_temperature': 0, 'max_bin': 20, 'grow_policy': 'Lossguide', 'min_data_in_leaf': 6, 'max_depth': 10, 'l2_leaf_reg': 55.42303494874491, 'one_hot_max_size': 10, 'auto_class_weights': 'Balanced'}. Best is trial 77 with value: 0.8702521345852133.\u001b[0m\n"
     ]
    },
    {
     "name": "stdout",
     "output_type": "stream",
     "text": [
      "Stopped by overfitting detector  (10 iterations wait)\n"
     ]
    },
    {
     "name": "stderr",
     "output_type": "stream",
     "text": [
      "\u001b[32m[I 2021-07-12 12:31:21,407]\u001b[0m Trial 86 finished with value: 0.8694611924720308 and parameters: {'iterations': 1200, 'learning_rate': 0.014721360892424302, 'random_strength': 6, 'bagging_temperature': 1, 'max_bin': 20, 'grow_policy': 'Lossguide', 'min_data_in_leaf': 8, 'max_depth': 10, 'l2_leaf_reg': 24.512284183936895, 'one_hot_max_size': 12, 'auto_class_weights': 'Balanced'}. Best is trial 77 with value: 0.8702521345852133.\u001b[0m\n",
      "\u001b[32m[I 2021-07-12 12:33:38,073]\u001b[0m Trial 87 finished with value: 0.8535021839319092 and parameters: {'iterations': 300, 'learning_rate': 0.007666739898179548, 'random_strength': 8, 'bagging_temperature': 1, 'max_bin': 30, 'grow_policy': 'Lossguide', 'min_data_in_leaf': 9, 'max_depth': 9, 'l2_leaf_reg': 4.368025296713112, 'one_hot_max_size': 10, 'auto_class_weights': 'Balanced'}. Best is trial 77 with value: 0.8702521345852133.\u001b[0m\n",
      "\u001b[32m[I 2021-07-12 12:34:31,650]\u001b[0m Trial 88 finished with value: 0.861925441635387 and parameters: {'iterations': 200, 'learning_rate': 0.01781192319567168, 'random_strength': 6, 'bagging_temperature': 0, 'max_bin': 20, 'grow_policy': 'SymmetricTree', 'min_data_in_leaf': 7, 'max_depth': 10, 'l2_leaf_reg': 38.61734060582887, 'one_hot_max_size': 10, 'auto_class_weights': 'Balanced'}. Best is trial 77 with value: 0.8702521345852133.\u001b[0m\n"
     ]
    },
    {
     "name": "stdout",
     "output_type": "stream",
     "text": [
      "Stopped by overfitting detector  (10 iterations wait)\n"
     ]
    },
    {
     "name": "stderr",
     "output_type": "stream",
     "text": [
      "\u001b[32m[I 2021-07-12 12:37:44,616]\u001b[0m Trial 89 finished with value: 0.8696190999839377 and parameters: {'iterations': 1200, 'learning_rate': 0.03773821071444357, 'random_strength': 5, 'bagging_temperature': 0, 'max_bin': 8, 'grow_policy': 'Lossguide', 'min_data_in_leaf': 9, 'max_depth': 9, 'l2_leaf_reg': 7.034104883037154, 'one_hot_max_size': 10, 'auto_class_weights': 'Balanced'}. Best is trial 77 with value: 0.8702521345852133.\u001b[0m\n"
     ]
    },
    {
     "name": "stdout",
     "output_type": "stream",
     "text": [
      "Stopped by overfitting detector  (10 iterations wait)\n"
     ]
    },
    {
     "name": "stderr",
     "output_type": "stream",
     "text": [
      "\u001b[32m[I 2021-07-12 12:42:25,980]\u001b[0m Trial 90 finished with value: 0.8689210376044789 and parameters: {'iterations': 1500, 'learning_rate': 0.029400350816711274, 'random_strength': 8, 'bagging_temperature': 1, 'max_bin': 4, 'grow_policy': 'Lossguide', 'min_data_in_leaf': 3, 'max_depth': 10, 'l2_leaf_reg': 67.75541791948956, 'one_hot_max_size': 5, 'auto_class_weights': 'Balanced'}. Best is trial 77 with value: 0.8702521345852133.\u001b[0m\n"
     ]
    },
    {
     "name": "stdout",
     "output_type": "stream",
     "text": [
      "Stopped by overfitting detector  (10 iterations wait)\n"
     ]
    },
    {
     "name": "stderr",
     "output_type": "stream",
     "text": [
      "\u001b[32m[I 2021-07-12 12:49:42,132]\u001b[0m Trial 91 finished with value: 0.8696413539512025 and parameters: {'iterations': 1200, 'learning_rate': 0.01860737288092564, 'random_strength': 9, 'bagging_temperature': 0, 'max_bin': 20, 'grow_policy': 'Lossguide', 'min_data_in_leaf': 8, 'max_depth': 9, 'l2_leaf_reg': 81.47248517166585, 'one_hot_max_size': 10, 'auto_class_weights': 'Balanced'}. Best is trial 77 with value: 0.8702521345852133.\u001b[0m\n",
      "\u001b[32m[I 2021-07-12 12:58:54,035]\u001b[0m Trial 92 finished with value: 0.8532132470405474 and parameters: {'iterations': 1200, 'learning_rate': 0.0019467570431374766, 'random_strength': 8, 'bagging_temperature': 0, 'max_bin': 20, 'grow_policy': 'Lossguide', 'min_data_in_leaf': 8, 'max_depth': 9, 'l2_leaf_reg': 91.09175526079676, 'one_hot_max_size': 10, 'auto_class_weights': 'Balanced'}. Best is trial 77 with value: 0.8702521345852133.\u001b[0m\n"
     ]
    },
    {
     "name": "stdout",
     "output_type": "stream",
     "text": [
      "Stopped by overfitting detector  (10 iterations wait)\n"
     ]
    },
    {
     "name": "stderr",
     "output_type": "stream",
     "text": [
      "\u001b[32m[I 2021-07-12 13:03:51,586]\u001b[0m Trial 93 finished with value: 0.8695860806546039 and parameters: {'iterations': 1200, 'learning_rate': 0.02389585379797733, 'random_strength': 7, 'bagging_temperature': 0, 'max_bin': 20, 'grow_policy': 'Lossguide', 'min_data_in_leaf': 8, 'max_depth': 8, 'l2_leaf_reg': 19.725153979380945, 'one_hot_max_size': 10, 'auto_class_weights': 'Balanced'}. Best is trial 77 with value: 0.8702521345852133.\u001b[0m\n"
     ]
    },
    {
     "name": "stdout",
     "output_type": "stream",
     "text": [
      "Stopped by overfitting detector  (10 iterations wait)\n"
     ]
    },
    {
     "name": "stderr",
     "output_type": "stream",
     "text": [
      "\u001b[32m[I 2021-07-12 13:06:23,177]\u001b[0m Trial 94 finished with value: 0.8690204788187662 and parameters: {'iterations': 1200, 'learning_rate': 0.05161675246473879, 'random_strength': 8, 'bagging_temperature': 0, 'max_bin': 20, 'grow_policy': 'Lossguide', 'min_data_in_leaf': 7, 'max_depth': 9, 'l2_leaf_reg': 31.12469434930641, 'one_hot_max_size': 10, 'auto_class_weights': 'Balanced'}. Best is trial 77 with value: 0.8702521345852133.\u001b[0m\n"
     ]
    },
    {
     "name": "stdout",
     "output_type": "stream",
     "text": [
      "Stopped by overfitting detector  (10 iterations wait)\n"
     ]
    },
    {
     "name": "stderr",
     "output_type": "stream",
     "text": [
      "\u001b[32m[I 2021-07-12 13:09:22,793]\u001b[0m Trial 95 finished with value: 0.8653399957086781 and parameters: {'iterations': 500, 'learning_rate': 0.034143977233705346, 'random_strength': 5, 'bagging_temperature': 1, 'max_bin': 20, 'grow_policy': 'Lossguide', 'min_data_in_leaf': 9, 'max_depth': 8, 'l2_leaf_reg': 0.0015596791683792303, 'one_hot_max_size': 10, 'auto_class_weights': 'Balanced'}. Best is trial 77 with value: 0.8702521345852133.\u001b[0m\n"
     ]
    },
    {
     "name": "stdout",
     "output_type": "stream",
     "text": [
      "Stopped by overfitting detector  (10 iterations wait)\n"
     ]
    },
    {
     "name": "stderr",
     "output_type": "stream",
     "text": [
      "\u001b[32m[I 2021-07-12 13:11:00,431]\u001b[0m Trial 96 finished with value: 0.8698202026061136 and parameters: {'iterations': 1200, 'learning_rate': 0.014424153414791112, 'random_strength': 9, 'bagging_temperature': 0, 'max_bin': 5, 'grow_policy': 'Lossguide', 'min_data_in_leaf': 8, 'max_depth': 9, 'l2_leaf_reg': 95.90220572098875, 'one_hot_max_size': 500, 'auto_class_weights': 'Balanced'}. Best is trial 77 with value: 0.8702521345852133.\u001b[0m\n"
     ]
    },
    {
     "name": "stdout",
     "output_type": "stream",
     "text": [
      "Stopped by overfitting detector  (10 iterations wait)\n"
     ]
    },
    {
     "name": "stderr",
     "output_type": "stream",
     "text": [
      "\u001b[32m[I 2021-07-12 13:11:39,539]\u001b[0m Trial 97 finished with value: 0.8639471348154334 and parameters: {'iterations': 1200, 'learning_rate': 0.2258566382896241, 'random_strength': 8, 'bagging_temperature': 9, 'max_bin': 30, 'grow_policy': 'Lossguide', 'min_data_in_leaf': 10, 'max_depth': 10, 'l2_leaf_reg': 12.532432397679415, 'one_hot_max_size': 10, 'auto_class_weights': 'Balanced'}. Best is trial 77 with value: 0.8702521345852133.\u001b[0m\n"
     ]
    },
    {
     "name": "stdout",
     "output_type": "stream",
     "text": [
      "Stopped by overfitting detector  (10 iterations wait)\n"
     ]
    },
    {
     "name": "stderr",
     "output_type": "stream",
     "text": [
      "\u001b[32m[I 2021-07-12 13:14:39,666]\u001b[0m Trial 98 finished with value: 0.8692436077823558 and parameters: {'iterations': 1200, 'learning_rate': 0.04202638407970529, 'random_strength': 7, 'bagging_temperature': 1, 'max_bin': 20, 'grow_policy': 'Lossguide', 'min_data_in_leaf': 7, 'max_depth': 9, 'l2_leaf_reg': 54.63323574457002, 'one_hot_max_size': 10, 'auto_class_weights': 'Balanced'}. Best is trial 77 with value: 0.8702521345852133.\u001b[0m\n",
      "\u001b[32m[I 2021-07-12 13:14:47,196]\u001b[0m Trial 99 finished with value: 0.8584400956902861 and parameters: {'iterations': 100, 'learning_rate': 0.06305782220933831, 'random_strength': 6, 'bagging_temperature': 8, 'max_bin': 10, 'grow_policy': 'Lossguide', 'min_data_in_leaf': 9, 'max_depth': 10, 'l2_leaf_reg': 0.006462350364915775, 'one_hot_max_size': 100, 'auto_class_weights': 'SqrtBalanced'}. Best is trial 77 with value: 0.8702521345852133.\u001b[0m\n",
      "\u001b[32m[I 2021-07-12 13:17:15,588]\u001b[0m Trial 100 finished with value: 0.8607247791714968 and parameters: {'iterations': 500, 'learning_rate': 0.007862969051564958, 'random_strength': 5, 'bagging_temperature': 0, 'max_bin': 20, 'grow_policy': 'Lossguide', 'min_data_in_leaf': 10, 'max_depth': 5, 'l2_leaf_reg': 2.38992160725972, 'one_hot_max_size': 10, 'auto_class_weights': 'Balanced'}. Best is trial 77 with value: 0.8702521345852133.\u001b[0m\n"
     ]
    },
    {
     "name": "stdout",
     "output_type": "stream",
     "text": [
      "Stopped by overfitting detector  (10 iterations wait)\n"
     ]
    },
    {
     "name": "stderr",
     "output_type": "stream",
     "text": [
      "\u001b[32m[I 2021-07-12 13:21:56,045]\u001b[0m Trial 101 finished with value: 0.8694460284232116 and parameters: {'iterations': 1200, 'learning_rate': 0.02629670415710566, 'random_strength': 7, 'bagging_temperature': 2, 'max_bin': 20, 'grow_policy': 'Lossguide', 'min_data_in_leaf': 9, 'max_depth': 9, 'l2_leaf_reg': 10.348781183685972, 'one_hot_max_size': 10, 'auto_class_weights': 'Balanced'}. Best is trial 77 with value: 0.8702521345852133.\u001b[0m\n"
     ]
    },
    {
     "name": "stdout",
     "output_type": "stream",
     "text": [
      "Stopped by overfitting detector  (10 iterations wait)\n"
     ]
    },
    {
     "name": "stderr",
     "output_type": "stream",
     "text": [
      "\u001b[32m[I 2021-07-12 13:27:21,854]\u001b[0m Trial 102 finished with value: 0.8695121947659364 and parameters: {'iterations': 1200, 'learning_rate': 0.020342877844979023, 'random_strength': 5, 'bagging_temperature': 1, 'max_bin': 20, 'grow_policy': 'Lossguide', 'min_data_in_leaf': 9, 'max_depth': 9, 'l2_leaf_reg': 0.8124430854708229, 'one_hot_max_size': 10, 'auto_class_weights': 'Balanced'}. Best is trial 77 with value: 0.8702521345852133.\u001b[0m\n"
     ]
    },
    {
     "name": "stdout",
     "output_type": "stream",
     "text": [
      "Stopped by overfitting detector  (10 iterations wait)\n"
     ]
    },
    {
     "name": "stderr",
     "output_type": "stream",
     "text": [
      "\u001b[32m[I 2021-07-12 13:30:53,804]\u001b[0m Trial 103 finished with value: 0.8686328515243922 and parameters: {'iterations': 1200, 'learning_rate': 0.03314267928556419, 'random_strength': 4, 'bagging_temperature': 1, 'max_bin': 30, 'grow_policy': 'Lossguide', 'min_data_in_leaf': 8, 'max_depth': 9, 'l2_leaf_reg': 20.72188081947316, 'one_hot_max_size': 10, 'auto_class_weights': 'Balanced'}. Best is trial 77 with value: 0.8702521345852133.\u001b[0m\n",
      "\u001b[32m[I 2021-07-12 13:33:14,206]\u001b[0m Trial 104 finished with value: 0.8599827909226947 and parameters: {'iterations': 300, 'learning_rate': 0.01624203215471891, 'random_strength': 6, 'bagging_temperature': 0, 'max_bin': 20, 'grow_policy': 'Lossguide', 'min_data_in_leaf': 10, 'max_depth': 10, 'l2_leaf_reg': 7.525393477121418, 'one_hot_max_size': 10, 'auto_class_weights': 'Balanced'}. Best is trial 77 with value: 0.8702521345852133.\u001b[0m\n",
      "\u001b[32m[I 2021-07-12 13:34:42,245]\u001b[0m Trial 105 finished with value: 0.8583932236854386 and parameters: {'iterations': 200, 'learning_rate': 0.02404234373762433, 'random_strength': 10, 'bagging_temperature': 2, 'max_bin': 8, 'grow_policy': 'Lossguide', 'min_data_in_leaf': 9, 'max_depth': 8, 'l2_leaf_reg': 31.143865763494222, 'one_hot_max_size': 10, 'auto_class_weights': 'Balanced'}. Best is trial 77 with value: 0.8702521345852133.\u001b[0m\n"
     ]
    },
    {
     "name": "stdout",
     "output_type": "stream",
     "text": [
      "Stopped by overfitting detector  (10 iterations wait)\n"
     ]
    },
    {
     "name": "stderr",
     "output_type": "stream",
     "text": [
      "\u001b[32m[I 2021-07-12 13:37:19,740]\u001b[0m Trial 106 finished with value: 0.8695807383536523 and parameters: {'iterations': 1500, 'learning_rate': 0.05355209817186393, 'random_strength': 7, 'bagging_temperature': 0, 'max_bin': 20, 'grow_policy': 'Lossguide', 'min_data_in_leaf': 9, 'max_depth': 9, 'l2_leaf_reg': 52.52454575155935, 'one_hot_max_size': 10, 'auto_class_weights': 'Balanced'}. Best is trial 77 with value: 0.8702521345852133.\u001b[0m\n"
     ]
    },
    {
     "name": "stdout",
     "output_type": "stream",
     "text": [
      "Stopped by overfitting detector  (10 iterations wait)\n"
     ]
    },
    {
     "name": "stderr",
     "output_type": "stream",
     "text": [
      "\u001b[32m[I 2021-07-12 13:40:48,361]\u001b[0m Trial 107 finished with value: 0.8542204819128993 and parameters: {'iterations': 1200, 'learning_rate': 0.004950417112246128, 'random_strength': 8, 'bagging_temperature': 0, 'max_bin': 4, 'grow_policy': 'Depthwise', 'min_data_in_leaf': 8, 'max_depth': 10, 'l2_leaf_reg': 0.0004398143157195846, 'one_hot_max_size': 12, 'auto_class_weights': 'Balanced'}. Best is trial 77 with value: 0.8702521345852133.\u001b[0m\n"
     ]
    },
    {
     "name": "stdout",
     "output_type": "stream",
     "text": [
      "Stopped by overfitting detector  (10 iterations wait)\n"
     ]
    },
    {
     "name": "stderr",
     "output_type": "stream",
     "text": [
      "\u001b[32m[I 2021-07-12 13:43:16,370]\u001b[0m Trial 108 finished with value: 0.862781790022925 and parameters: {'iterations': 500, 'learning_rate': 0.0424379663636373, 'random_strength': 9, 'bagging_temperature': 1, 'max_bin': 5, 'grow_policy': 'Lossguide', 'min_data_in_leaf': 10, 'max_depth': 8, 'l2_leaf_reg': 2.544365945396369e-05, 'one_hot_max_size': 10, 'auto_class_weights': 'Balanced'}. Best is trial 77 with value: 0.8702521345852133.\u001b[0m\n"
     ]
    },
    {
     "name": "stdout",
     "output_type": "stream",
     "text": [
      "Stopped by overfitting detector  (10 iterations wait)\n"
     ]
    },
    {
     "name": "stderr",
     "output_type": "stream",
     "text": [
      "\u001b[32m[I 2021-07-12 13:43:27,622]\u001b[0m Trial 109 finished with value: 0.8681910463175345 and parameters: {'iterations': 1200, 'learning_rate': 0.1349802783053363, 'random_strength': 6, 'bagging_temperature': 7, 'max_bin': 20, 'grow_policy': 'Lossguide', 'min_data_in_leaf': 4, 'max_depth': 10, 'l2_leaf_reg': 13.645275049802772, 'one_hot_max_size': 1024, 'auto_class_weights': 'Balanced'}. Best is trial 77 with value: 0.8702521345852133.\u001b[0m\n",
      "\u001b[32m[I 2021-07-12 13:53:09,206]\u001b[0m Trial 110 finished with value: 0.8481015253013267 and parameters: {'iterations': 1200, 'learning_rate': 0.0010236967195387543, 'random_strength': 8, 'bagging_temperature': 1, 'max_bin': 20, 'grow_policy': 'Lossguide', 'min_data_in_leaf': 9, 'max_depth': 9, 'l2_leaf_reg': 66.01205883193197, 'one_hot_max_size': 10, 'auto_class_weights': 'Balanced'}. Best is trial 77 with value: 0.8702521345852133.\u001b[0m\n"
     ]
    },
    {
     "name": "stdout",
     "output_type": "stream",
     "text": [
      "Stopped by overfitting detector  (10 iterations wait)\n"
     ]
    },
    {
     "name": "stderr",
     "output_type": "stream",
     "text": [
      "\u001b[32m[I 2021-07-12 13:56:49,391]\u001b[0m Trial 111 finished with value: 0.8699243052461176 and parameters: {'iterations': 1000, 'learning_rate': 0.02862149262215752, 'random_strength': 1, 'bagging_temperature': 4, 'max_bin': 6, 'grow_policy': 'Lossguide', 'min_data_in_leaf': 10, 'max_depth': 10, 'l2_leaf_reg': 25.66674741940622, 'one_hot_max_size': 10, 'auto_class_weights': 'Balanced'}. Best is trial 77 with value: 0.8702521345852133.\u001b[0m\n"
     ]
    },
    {
     "name": "stdout",
     "output_type": "stream",
     "text": [
      "Stopped by overfitting detector  (10 iterations wait)\n"
     ]
    },
    {
     "name": "stderr",
     "output_type": "stream",
     "text": [
      "\u001b[32m[I 2021-07-12 14:01:09,980]\u001b[0m Trial 112 finished with value: 0.8696517835332204 and parameters: {'iterations': 1000, 'learning_rate': 0.029687728315557205, 'random_strength': 5, 'bagging_temperature': 4, 'max_bin': 6, 'grow_policy': 'Lossguide', 'min_data_in_leaf': 10, 'max_depth': 10, 'l2_leaf_reg': 98.203413676557, 'one_hot_max_size': 10, 'auto_class_weights': 'Balanced'}. Best is trial 77 with value: 0.8702521345852133.\u001b[0m\n",
      "\u001b[32m[I 2021-07-12 14:09:21,396]\u001b[0m Trial 113 finished with value: 0.8674851469808385 and parameters: {'iterations': 1000, 'learning_rate': 0.00878248773114921, 'random_strength': 2, 'bagging_temperature': 0, 'max_bin': 6, 'grow_policy': 'Lossguide', 'min_data_in_leaf': 10, 'max_depth': 10, 'l2_leaf_reg': 32.700451365590986, 'one_hot_max_size': 10, 'auto_class_weights': 'Balanced'}. Best is trial 77 with value: 0.8702521345852133.\u001b[0m\n"
     ]
    },
    {
     "name": "stdout",
     "output_type": "stream",
     "text": [
      "Stopped by overfitting detector  (10 iterations wait)\n"
     ]
    },
    {
     "name": "stderr",
     "output_type": "stream",
     "text": [
      "\u001b[32m[I 2021-07-12 14:15:06,241]\u001b[0m Trial 114 finished with value: 0.8700076224596289 and parameters: {'iterations': 1200, 'learning_rate': 0.015420475394077725, 'random_strength': 1, 'bagging_temperature': 2, 'max_bin': 30, 'grow_policy': 'Lossguide', 'min_data_in_leaf': 10, 'max_depth': 9, 'l2_leaf_reg': 17.208180442685894, 'one_hot_max_size': 10, 'auto_class_weights': 'Balanced'}. Best is trial 77 with value: 0.8702521345852133.\u001b[0m\n"
     ]
    },
    {
     "name": "stdout",
     "output_type": "stream",
     "text": [
      "Stopped by overfitting detector  (10 iterations wait)\n"
     ]
    },
    {
     "name": "stderr",
     "output_type": "stream",
     "text": [
      "\u001b[32m[I 2021-07-12 14:20:57,198]\u001b[0m Trial 115 finished with value: 0.8705471243973429 and parameters: {'iterations': 1200, 'learning_rate': 0.01839088010364611, 'random_strength': 1, 'bagging_temperature': 0, 'max_bin': 30, 'grow_policy': 'Lossguide', 'min_data_in_leaf': 10, 'max_depth': 10, 'l2_leaf_reg': 44.32268176251623, 'one_hot_max_size': 10, 'auto_class_weights': 'Balanced'}. Best is trial 115 with value: 0.8705471243973429.\u001b[0m\n"
     ]
    },
    {
     "name": "stdout",
     "output_type": "stream",
     "text": [
      "Stopped by overfitting detector  (10 iterations wait)\n"
     ]
    },
    {
     "name": "stderr",
     "output_type": "stream",
     "text": [
      "\u001b[32m[I 2021-07-12 14:23:34,099]\u001b[0m Trial 116 finished with value: 0.8693652362199689 and parameters: {'iterations': 1200, 'learning_rate': 0.03777026343805727, 'random_strength': 1, 'bagging_temperature': 5, 'max_bin': 30, 'grow_policy': 'Lossguide', 'min_data_in_leaf': 10, 'max_depth': 10, 'l2_leaf_reg': 19.143154245229315, 'one_hot_max_size': 10, 'auto_class_weights': 'Balanced'}. Best is trial 115 with value: 0.8705471243973429.\u001b[0m\n"
     ]
    },
    {
     "name": "stdout",
     "output_type": "stream",
     "text": [
      "Stopped by overfitting detector  (10 iterations wait)\n"
     ]
    },
    {
     "name": "stderr",
     "output_type": "stream",
     "text": [
      "\u001b[32m[I 2021-07-12 14:25:58,675]\u001b[0m Trial 117 finished with value: 0.8667234438783247 and parameters: {'iterations': 1200, 'learning_rate': 0.013338902994910862, 'random_strength': 1, 'bagging_temperature': 3, 'max_bin': 30, 'grow_policy': 'SymmetricTree', 'min_data_in_leaf': 10, 'max_depth': 10, 'l2_leaf_reg': 4.2770801369705715, 'one_hot_max_size': 10, 'auto_class_weights': 'Balanced'}. Best is trial 115 with value: 0.8705471243973429.\u001b[0m\n"
     ]
    },
    {
     "name": "stdout",
     "output_type": "stream",
     "text": [
      "Stopped by overfitting detector  (10 iterations wait)\n"
     ]
    },
    {
     "name": "stderr",
     "output_type": "stream",
     "text": [
      "\u001b[32m[I 2021-07-12 14:28:01,652]\u001b[0m Trial 118 finished with value: 0.8697307349676453 and parameters: {'iterations': 1200, 'learning_rate': 0.024089346296828965, 'random_strength': 1, 'bagging_temperature': 0, 'max_bin': 30, 'grow_policy': 'Lossguide', 'min_data_in_leaf': 10, 'max_depth': 4, 'l2_leaf_reg': 34.51702305220897, 'one_hot_max_size': 10, 'auto_class_weights': 'Balanced'}. Best is trial 115 with value: 0.8705471243973429.\u001b[0m\n"
     ]
    },
    {
     "name": "stdout",
     "output_type": "stream",
     "text": [
      "Stopped by overfitting detector  (10 iterations wait)\n"
     ]
    },
    {
     "name": "stderr",
     "output_type": "stream",
     "text": [
      "\u001b[32m[I 2021-07-12 14:30:22,372]\u001b[0m Trial 119 finished with value: 0.8697106399056344 and parameters: {'iterations': 1200, 'learning_rate': 0.04663027213386438, 'random_strength': 1, 'bagging_temperature': 2, 'max_bin': 30, 'grow_policy': 'Lossguide', 'min_data_in_leaf': 10, 'max_depth': 10, 'l2_leaf_reg': 52.15559229283729, 'one_hot_max_size': 5, 'auto_class_weights': 'Balanced'}. Best is trial 115 with value: 0.8705471243973429.\u001b[0m\n",
      "\u001b[32m[I 2021-07-12 14:31:15,199]\u001b[0m Trial 120 finished with value: 0.844103353621529 and parameters: {'iterations': 100, 'learning_rate': 0.001039132971009377, 'random_strength': 1, 'bagging_temperature': 0, 'max_bin': 30, 'grow_policy': 'Lossguide', 'min_data_in_leaf': 10, 'max_depth': 10, 'l2_leaf_reg': 15.897166502854718, 'one_hot_max_size': 12, 'auto_class_weights': 'Balanced'}. Best is trial 115 with value: 0.8705471243973429.\u001b[0m\n"
     ]
    },
    {
     "name": "stdout",
     "output_type": "stream",
     "text": [
      "Stopped by overfitting detector  (10 iterations wait)\n"
     ]
    },
    {
     "name": "stderr",
     "output_type": "stream",
     "text": [
      "\u001b[32m[I 2021-07-12 14:36:34,084]\u001b[0m Trial 121 finished with value: 0.87053026032236 and parameters: {'iterations': 1200, 'learning_rate': 0.020020276909470943, 'random_strength': 1, 'bagging_temperature': 0, 'max_bin': 30, 'grow_policy': 'Lossguide', 'min_data_in_leaf': 10, 'max_depth': 9, 'l2_leaf_reg': 99.92500602954645, 'one_hot_max_size': 10, 'auto_class_weights': 'Balanced'}. Best is trial 115 with value: 0.8705471243973429.\u001b[0m\n"
     ]
    },
    {
     "name": "stdout",
     "output_type": "stream",
     "text": [
      "Stopped by overfitting detector  (10 iterations wait)\n"
     ]
    },
    {
     "name": "stderr",
     "output_type": "stream",
     "text": [
      "\u001b[32m[I 2021-07-12 14:39:24,483]\u001b[0m Trial 122 finished with value: 0.8698534797701853 and parameters: {'iterations': 1200, 'learning_rate': 0.03183641939307094, 'random_strength': 1, 'bagging_temperature': 0, 'max_bin': 30, 'grow_policy': 'Lossguide', 'min_data_in_leaf': 10, 'max_depth': 9, 'l2_leaf_reg': 25.587199618335664, 'one_hot_max_size': 10, 'auto_class_weights': 'Balanced'}. Best is trial 115 with value: 0.8705471243973429.\u001b[0m\n",
      "\u001b[32m[I 2021-07-12 14:49:25,049]\u001b[0m Trial 123 finished with value: 0.8703498119313083 and parameters: {'iterations': 1200, 'learning_rate': 0.009165362016233532, 'random_strength': 1, 'bagging_temperature': 0, 'max_bin': 30, 'grow_policy': 'Lossguide', 'min_data_in_leaf': 10, 'max_depth': 9, 'l2_leaf_reg': 63.65172567814972, 'one_hot_max_size': 10, 'auto_class_weights': 'Balanced'}. Best is trial 115 with value: 0.8705471243973429.\u001b[0m\n",
      "\u001b[32m[I 2021-07-12 14:59:23,933]\u001b[0m Trial 124 finished with value: 0.8700593781184909 and parameters: {'iterations': 1200, 'learning_rate': 0.00855077839306113, 'random_strength': 1, 'bagging_temperature': 0, 'max_bin': 30, 'grow_policy': 'Lossguide', 'min_data_in_leaf': 10, 'max_depth': 9, 'l2_leaf_reg': 67.73225130084502, 'one_hot_max_size': 10, 'auto_class_weights': 'Balanced'}. Best is trial 115 with value: 0.8705471243973429.\u001b[0m\n",
      "\u001b[32m[I 2021-07-12 15:09:27,065]\u001b[0m Trial 125 finished with value: 0.8693886288098133 and parameters: {'iterations': 1200, 'learning_rate': 0.0067041227699956435, 'random_strength': 1, 'bagging_temperature': 0, 'max_bin': 30, 'grow_policy': 'Lossguide', 'min_data_in_leaf': 10, 'max_depth': 9, 'l2_leaf_reg': 56.143471409166104, 'one_hot_max_size': 10, 'auto_class_weights': 'Balanced'}. Best is trial 115 with value: 0.8705471243973429.\u001b[0m\n"
     ]
    },
    {
     "name": "stdout",
     "output_type": "stream",
     "text": [
      "Stopped by overfitting detector  (10 iterations wait)\n"
     ]
    },
    {
     "name": "stderr",
     "output_type": "stream",
     "text": [
      "\u001b[32m[I 2021-07-12 15:17:24,392]\u001b[0m Trial 126 finished with value: 0.8703300998634307 and parameters: {'iterations': 1200, 'learning_rate': 0.012501198223955439, 'random_strength': 1, 'bagging_temperature': 0, 'max_bin': 30, 'grow_policy': 'Lossguide', 'min_data_in_leaf': 10, 'max_depth': 9, 'l2_leaf_reg': 43.90960067584855, 'one_hot_max_size': 10, 'auto_class_weights': 'Balanced'}. Best is trial 115 with value: 0.8705471243973429.\u001b[0m\n",
      "\u001b[32m[I 2021-07-12 15:19:04,121]\u001b[0m Trial 127 finished with value: 0.8689002296881807 and parameters: {'iterations': 1200, 'learning_rate': 0.005704008165637908, 'random_strength': 1, 'bagging_temperature': 0, 'max_bin': 30, 'grow_policy': 'Lossguide', 'min_data_in_leaf': 10, 'max_depth': 9, 'l2_leaf_reg': 94.46788316617143, 'one_hot_max_size': 500, 'auto_class_weights': 'Balanced'}. Best is trial 115 with value: 0.8705471243973429.\u001b[0m\n"
     ]
    },
    {
     "name": "stdout",
     "output_type": "stream",
     "text": [
      "Stopped by overfitting detector  (10 iterations wait)\n"
     ]
    },
    {
     "name": "stderr",
     "output_type": "stream",
     "text": [
      "\u001b[32m[I 2021-07-12 15:27:02,629]\u001b[0m Trial 128 finished with value: 0.8698291078726417 and parameters: {'iterations': 1200, 'learning_rate': 0.012938285293699725, 'random_strength': 2, 'bagging_temperature': 10, 'max_bin': 30, 'grow_policy': 'Lossguide', 'min_data_in_leaf': 10, 'max_depth': 9, 'l2_leaf_reg': 7.997812130783833, 'one_hot_max_size': 10, 'auto_class_weights': 'Balanced'}. Best is trial 115 with value: 0.8705471243973429.\u001b[0m\n"
     ]
    },
    {
     "name": "stdout",
     "output_type": "stream",
     "text": [
      "Stopped by overfitting detector  (10 iterations wait)\n"
     ]
    },
    {
     "name": "stderr",
     "output_type": "stream",
     "text": [
      "\u001b[32m[I 2021-07-12 15:36:36,548]\u001b[0m Trial 129 finished with value: 0.8705742736843017 and parameters: {'iterations': 1200, 'learning_rate': 0.011738626174182372, 'random_strength': 1, 'bagging_temperature': 0, 'max_bin': 30, 'grow_policy': 'Lossguide', 'min_data_in_leaf': 10, 'max_depth': 8, 'l2_leaf_reg': 46.59790330466361, 'one_hot_max_size': 10, 'auto_class_weights': 'SqrtBalanced'}. Best is trial 129 with value: 0.8705742736843017.\u001b[0m\n"
     ]
    },
    {
     "name": "stdout",
     "output_type": "stream",
     "text": [
      "Stopped by overfitting detector  (10 iterations wait)\n"
     ]
    },
    {
     "name": "stderr",
     "output_type": "stream",
     "text": [
      "\u001b[32m[I 2021-07-12 15:43:42,851]\u001b[0m Trial 130 finished with value: 0.8683901104927569 and parameters: {'iterations': 1200, 'learning_rate': 0.009472322673882988, 'random_strength': 1, 'bagging_temperature': 0, 'max_bin': 30, 'grow_policy': 'Lossguide', 'min_data_in_leaf': 10, 'max_depth': 8, 'l2_leaf_reg': 1.2887858685173144e-06, 'one_hot_max_size': 10, 'auto_class_weights': 'SqrtBalanced'}. Best is trial 129 with value: 0.8705742736843017.\u001b[0m\n",
      "\u001b[32m[I 2021-07-12 15:54:26,623]\u001b[0m Trial 131 finished with value: 0.8565179200157514 and parameters: {'iterations': 1200, 'learning_rate': 0.001300374344713277, 'random_strength': 1, 'bagging_temperature': 0, 'max_bin': 30, 'grow_policy': 'Lossguide', 'min_data_in_leaf': 10, 'max_depth': 9, 'l2_leaf_reg': 99.94308011354538, 'one_hot_max_size': 10, 'auto_class_weights': 'SqrtBalanced'}. Best is trial 129 with value: 0.8705742736843017.\u001b[0m\n"
     ]
    },
    {
     "name": "stdout",
     "output_type": "stream",
     "text": [
      "Stopped by overfitting detector  (10 iterations wait)\n"
     ]
    },
    {
     "name": "stderr",
     "output_type": "stream",
     "text": [
      "\u001b[32m[I 2021-07-12 16:01:01,763]\u001b[0m Trial 132 finished with value: 0.8698621765634714 and parameters: {'iterations': 1200, 'learning_rate': 0.01476269465789267, 'random_strength': 2, 'bagging_temperature': 0, 'max_bin': 30, 'grow_policy': 'Lossguide', 'min_data_in_leaf': 10, 'max_depth': 7, 'l2_leaf_reg': 40.01474307083299, 'one_hot_max_size': 10, 'auto_class_weights': 'Balanced'}. Best is trial 129 with value: 0.8705742736843017.\u001b[0m\n"
     ]
    },
    {
     "name": "stdout",
     "output_type": "stream",
     "text": [
      "Stopped by overfitting detector  (10 iterations wait)\n"
     ]
    },
    {
     "name": "stderr",
     "output_type": "stream",
     "text": [
      "\u001b[32m[I 2021-07-12 16:05:49,568]\u001b[0m Trial 133 finished with value: 0.8707618960041049 and parameters: {'iterations': 1200, 'learning_rate': 0.02296352424391714, 'random_strength': 1, 'bagging_temperature': 0, 'max_bin': 30, 'grow_policy': 'Lossguide', 'min_data_in_leaf': 10, 'max_depth': 9, 'l2_leaf_reg': 63.51758710966238, 'one_hot_max_size': 10, 'auto_class_weights': 'SqrtBalanced'}. Best is trial 133 with value: 0.8707618960041049.\u001b[0m\n"
     ]
    },
    {
     "name": "stdout",
     "output_type": "stream",
     "text": [
      "Stopped by overfitting detector  (10 iterations wait)\n"
     ]
    },
    {
     "name": "stderr",
     "output_type": "stream",
     "text": [
      "\u001b[32m[I 2021-07-12 16:10:30,136]\u001b[0m Trial 134 finished with value: 0.8705181195998618 and parameters: {'iterations': 1200, 'learning_rate': 0.022822294308445464, 'random_strength': 1, 'bagging_temperature': 0, 'max_bin': 30, 'grow_policy': 'Lossguide', 'min_data_in_leaf': 10, 'max_depth': 9, 'l2_leaf_reg': 63.10986286340646, 'one_hot_max_size': 10, 'auto_class_weights': 'SqrtBalanced'}. Best is trial 133 with value: 0.8707618960041049.\u001b[0m\n"
     ]
    },
    {
     "name": "stdout",
     "output_type": "stream",
     "text": [
      "Stopped by overfitting detector  (10 iterations wait)\n"
     ]
    },
    {
     "name": "stderr",
     "output_type": "stream",
     "text": [
      "\u001b[32m[I 2021-07-12 16:14:50,844]\u001b[0m Trial 135 finished with value: 0.8700439422187065 and parameters: {'iterations': 1200, 'learning_rate': 0.023043769607489363, 'random_strength': 1, 'bagging_temperature': 0, 'max_bin': 30, 'grow_policy': 'Lossguide', 'min_data_in_leaf': 10, 'max_depth': 8, 'l2_leaf_reg': 69.01290871753963, 'one_hot_max_size': 10, 'auto_class_weights': 'SqrtBalanced'}. Best is trial 133 with value: 0.8707618960041049.\u001b[0m\n",
      "\u001b[32m[I 2021-07-12 16:24:24,574]\u001b[0m Trial 136 finished with value: 0.8706610836371584 and parameters: {'iterations': 1200, 'learning_rate': 0.010103540857334597, 'random_strength': 1, 'bagging_temperature': 0, 'max_bin': 30, 'grow_policy': 'Lossguide', 'min_data_in_leaf': 10, 'max_depth': 8, 'l2_leaf_reg': 64.703989597758, 'one_hot_max_size': 10, 'auto_class_weights': 'SqrtBalanced'}. Best is trial 133 with value: 0.8707618960041049.\u001b[0m\n",
      "\u001b[32m[I 2021-07-12 16:34:33,317]\u001b[0m Trial 137 finished with value: 0.8575439657386902 and parameters: {'iterations': 1200, 'learning_rate': 0.0013488384674568265, 'random_strength': 1, 'bagging_temperature': 0, 'max_bin': 30, 'grow_policy': 'Lossguide', 'min_data_in_leaf': 10, 'max_depth': 8, 'l2_leaf_reg': 62.602765414633055, 'one_hot_max_size': 10, 'auto_class_weights': 'SqrtBalanced'}. Best is trial 133 with value: 0.8707618960041049.\u001b[0m\n"
     ]
    },
    {
     "name": "stdout",
     "output_type": "stream",
     "text": [
      "Stopped by overfitting detector  (10 iterations wait)\n"
     ]
    },
    {
     "name": "stderr",
     "output_type": "stream",
     "text": [
      "\u001b[32m[I 2021-07-12 16:35:58,535]\u001b[0m Trial 138 finished with value: 0.870829598589171 and parameters: {'iterations': 1200, 'learning_rate': 0.01049172748759835, 'random_strength': 1, 'bagging_temperature': 0, 'max_bin': 30, 'grow_policy': 'Lossguide', 'min_data_in_leaf': 10, 'max_depth': 7, 'l2_leaf_reg': 41.71633044938588, 'one_hot_max_size': 100, 'auto_class_weights': 'SqrtBalanced'}. Best is trial 138 with value: 0.870829598589171.\u001b[0m\n",
      "\u001b[32m[I 2021-07-12 16:37:38,567]\u001b[0m Trial 139 finished with value: 0.8705685046864465 and parameters: {'iterations': 1200, 'learning_rate': 0.008445119510825739, 'random_strength': 1, 'bagging_temperature': 0, 'max_bin': 30, 'grow_policy': 'Lossguide', 'min_data_in_leaf': 10, 'max_depth': 7, 'l2_leaf_reg': 39.139994961829004, 'one_hot_max_size': 100, 'auto_class_weights': 'SqrtBalanced'}. Best is trial 138 with value: 0.870829598589171.\u001b[0m\n",
      "\u001b[32m[I 2021-07-12 16:39:13,675]\u001b[0m Trial 140 finished with value: 0.8707121773122223 and parameters: {'iterations': 1200, 'learning_rate': 0.008523690227154577, 'random_strength': 1, 'bagging_temperature': 0, 'max_bin': 30, 'grow_policy': 'Depthwise', 'min_data_in_leaf': 10, 'max_depth': 7, 'l2_leaf_reg': 38.30827623231373, 'one_hot_max_size': 100, 'auto_class_weights': 'SqrtBalanced'}. Best is trial 138 with value: 0.870829598589171.\u001b[0m\n",
      "\u001b[32m[I 2021-07-12 16:40:40,062]\u001b[0m Trial 141 finished with value: 0.8708605420659264 and parameters: {'iterations': 1200, 'learning_rate': 0.00947709165733447, 'random_strength': 1, 'bagging_temperature': 0, 'max_bin': 30, 'grow_policy': 'Depthwise', 'min_data_in_leaf': 10, 'max_depth': 6, 'l2_leaf_reg': 38.57722543123498, 'one_hot_max_size': 100, 'auto_class_weights': 'SqrtBalanced'}. Best is trial 141 with value: 0.8708605420659264.\u001b[0m\n"
     ]
    },
    {
     "name": "stdout",
     "output_type": "stream",
     "text": [
      "Stopped by overfitting detector  (10 iterations wait)\n"
     ]
    },
    {
     "name": "stderr",
     "output_type": "stream",
     "text": [
      "\u001b[32m[I 2021-07-12 16:41:48,025]\u001b[0m Trial 142 finished with value: 0.870133066154908 and parameters: {'iterations': 1200, 'learning_rate': 0.011064707345737236, 'random_strength': 1, 'bagging_temperature': 0, 'max_bin': 30, 'grow_policy': 'Depthwise', 'min_data_in_leaf': 10, 'max_depth': 6, 'l2_leaf_reg': 38.363689828318414, 'one_hot_max_size': 100, 'auto_class_weights': 'SqrtBalanced'}. Best is trial 141 with value: 0.8708605420659264.\u001b[0m\n",
      "\u001b[32m[I 2021-07-12 16:43:21,656]\u001b[0m Trial 143 finished with value: 0.8589704732091994 and parameters: {'iterations': 1200, 'learning_rate': 0.0010582299336638797, 'random_strength': 1, 'bagging_temperature': 0, 'max_bin': 30, 'grow_policy': 'Depthwise', 'min_data_in_leaf': 10, 'max_depth': 6, 'l2_leaf_reg': 37.279657939203126, 'one_hot_max_size': 100, 'auto_class_weights': 'SqrtBalanced'}. Best is trial 141 with value: 0.8708605420659264.\u001b[0m\n",
      "\u001b[32m[I 2021-07-12 16:44:43,400]\u001b[0m Trial 144 finished with value: 0.8708174973906921 and parameters: {'iterations': 1200, 'learning_rate': 0.008361051773066085, 'random_strength': 1, 'bagging_temperature': 0, 'max_bin': 30, 'grow_policy': 'Depthwise', 'min_data_in_leaf': 10, 'max_depth': 6, 'l2_leaf_reg': 25.11097028221165, 'one_hot_max_size': 100, 'auto_class_weights': 'SqrtBalanced'}. Best is trial 141 with value: 0.8708605420659264.\u001b[0m\n",
      "\u001b[32m[I 2021-07-12 16:46:16,599]\u001b[0m Trial 145 finished with value: 0.8697598359924751 and parameters: {'iterations': 1200, 'learning_rate': 0.005291516382029411, 'random_strength': 1, 'bagging_temperature': 0, 'max_bin': 30, 'grow_policy': 'Depthwise', 'min_data_in_leaf': 10, 'max_depth': 7, 'l2_leaf_reg': 27.67633454816927, 'one_hot_max_size': 100, 'auto_class_weights': 'SqrtBalanced'}. Best is trial 141 with value: 0.8708605420659264.\u001b[0m\n"
     ]
    },
    {
     "name": "stdout",
     "output_type": "stream",
     "text": [
      "Stopped by overfitting detector  (10 iterations wait)\n"
     ]
    },
    {
     "name": "stderr",
     "output_type": "stream",
     "text": [
      "\u001b[32m[I 2021-07-12 16:47:13,560]\u001b[0m Trial 146 finished with value: 0.8704011187226712 and parameters: {'iterations': 1200, 'learning_rate': 0.01858580641056655, 'random_strength': 2, 'bagging_temperature': 1, 'max_bin': 30, 'grow_policy': 'Depthwise', 'min_data_in_leaf': 10, 'max_depth': 7, 'l2_leaf_reg': 10.921715804038323, 'one_hot_max_size': 100, 'auto_class_weights': 'SqrtBalanced'}. Best is trial 141 with value: 0.8708605420659264.\u001b[0m\n"
     ]
    },
    {
     "name": "stdout",
     "output_type": "stream",
     "text": [
      "Stopped by overfitting detector  (10 iterations wait)\n"
     ]
    },
    {
     "name": "stderr",
     "output_type": "stream",
     "text": [
      "\u001b[32m[I 2021-07-12 16:48:02,793]\u001b[0m Trial 147 finished with value: 0.8699497967297087 and parameters: {'iterations': 1200, 'learning_rate': 0.019636490024241518, 'random_strength': 2, 'bagging_temperature': 1, 'max_bin': 30, 'grow_policy': 'Depthwise', 'min_data_in_leaf': 10, 'max_depth': 7, 'l2_leaf_reg': 10.518035109311832, 'one_hot_max_size': 100, 'auto_class_weights': 'SqrtBalanced'}. Best is trial 141 with value: 0.8708605420659264.\u001b[0m\n",
      "\u001b[32m[I 2021-07-12 16:49:42,200]\u001b[0m Trial 148 finished with value: 0.8583620738248163 and parameters: {'iterations': 1200, 'learning_rate': 0.001078790372508973, 'random_strength': 2, 'bagging_temperature': 0, 'max_bin': 30, 'grow_policy': 'Depthwise', 'min_data_in_leaf': 10, 'max_depth': 7, 'l2_leaf_reg': 20.925578152424258, 'one_hot_max_size': 100, 'auto_class_weights': 'SqrtBalanced'}. Best is trial 141 with value: 0.8708605420659264.\u001b[0m\n"
     ]
    },
    {
     "name": "stdout",
     "output_type": "stream",
     "text": [
      "Stopped by overfitting detector  (10 iterations wait)\n"
     ]
    },
    {
     "name": "stderr",
     "output_type": "stream",
     "text": [
      "\u001b[32m[I 2021-07-12 16:50:10,092]\u001b[0m Trial 149 finished with value: 0.8700216353205963 and parameters: {'iterations': 1200, 'learning_rate': 0.027294328437381707, 'random_strength': 1, 'bagging_temperature': 1, 'max_bin': 30, 'grow_policy': 'Depthwise', 'min_data_in_leaf': 10, 'max_depth': 6, 'l2_leaf_reg': 6.696547294624169, 'one_hot_max_size': 100, 'auto_class_weights': 'SqrtBalanced'}. Best is trial 141 with value: 0.8708605420659264.\u001b[0m\n"
     ]
    }
   ],
   "source": [
    "sampler = optuna.samplers.TPESampler(seed=42)\n",
    "study = optuna.create_study(direction=\"maximize\", sampler=sampler)\n",
    "study.optimize(objective, n_trials=150)"
   ]
  },
  {
   "cell_type": "code",
   "execution_count": 19,
   "metadata": {},
   "outputs": [
    {
     "data": {
      "text/plain": [
       "{'iterations': 1200,\n",
       " 'learning_rate': 0.00947709165733447,\n",
       " 'random_strength': 1,\n",
       " 'bagging_temperature': 0,\n",
       " 'max_bin': 30,\n",
       " 'grow_policy': 'Depthwise',\n",
       " 'min_data_in_leaf': 10,\n",
       " 'max_depth': 6,\n",
       " 'l2_leaf_reg': 38.57722543123498,\n",
       " 'one_hot_max_size': 100,\n",
       " 'auto_class_weights': 'SqrtBalanced'}"
      ]
     },
     "execution_count": 19,
     "metadata": {},
     "output_type": "execute_result"
    }
   ],
   "source": [
    "trial = study.best_trial\n",
    "final_model = CatBoostClassifier(verbose=False,  cat_features=categorical_features_indices, \n",
    "                          **trial.params)\n",
    "\n",
    "final_model.fit(X_train, y_train)\n",
    "\n",
    "final_h1n1_model = final_model\n",
    "trial.params"
   ]
  },
  {
   "cell_type": "code",
   "execution_count": 20,
   "metadata": {},
   "outputs": [],
   "source": [
    "params = trial.params\n",
    "final_h1n1_model = CatBoostClassifier(cat_features=categorical_features_indices,\n",
    "                                     verbose=False,\n",
    "                                     **params).fit(h1n1_train_trans, h1n1_labels)"
   ]
  },
  {
   "cell_type": "markdown",
   "metadata": {},
   "source": [
    "# Seasonal"
   ]
  },
  {
   "cell_type": "markdown",
   "metadata": {},
   "source": [
    "## Catboost and Optuna"
   ]
  },
  {
   "cell_type": "code",
   "execution_count": 21,
   "metadata": {},
   "outputs": [],
   "source": [
    "X = seas_train_trans\n",
    "y = seas_labels"
   ]
  },
  {
   "cell_type": "code",
   "execution_count": 22,
   "metadata": {},
   "outputs": [],
   "source": [
    "X_train, X_test, y_train, y_test = train_test_split(X, y, test_size=0.3, random_state=42, shuffle=True)"
   ]
  },
  {
   "cell_type": "code",
   "execution_count": 23,
   "metadata": {},
   "outputs": [],
   "source": [
    "from catboost import CatBoostClassifier\n",
    "from catboost import Pool, cv\n",
    "from sklearn.metrics import roc_curve, roc_auc_score\n",
    "import optuna"
   ]
  },
  {
   "cell_type": "code",
   "execution_count": 24,
   "metadata": {},
   "outputs": [],
   "source": [
    "train_dataset = Pool(data=X_train,\n",
    "                    label=y_train,\n",
    "                    cat_features=categorical_features_indices)"
   ]
  },
  {
   "cell_type": "code",
   "execution_count": 25,
   "metadata": {},
   "outputs": [],
   "source": [
    "def objective(trial):\n",
    "    param = {\n",
    "        'iterations':trial.suggest_categorical('iterations', [100,200,300,500,1000,1200,1500]),\n",
    "        'learning_rate':trial.suggest_float(\"learning_rate\", 0.001, 0.3),\n",
    "        'random_strength':trial.suggest_int(\"random_strength\", 1,10),\n",
    "        'bagging_temperature':trial.suggest_int(\"bagging_temperature\", 0,10),\n",
    "        'max_bin':trial.suggest_categorical('max_bin', [4,5,6,8,10,20,30]),\n",
    "        'grow_policy':trial.suggest_categorical('grow_policy', ['SymmetricTree', 'Depthwise', 'Lossguide']),\n",
    "        'min_data_in_leaf':trial.suggest_int(\"min_data_in_leaf\", 1,10),\n",
    "        'od_type' : \"Iter\",\n",
    "        'od_wait' : 100,\n",
    "        \"depth\": trial.suggest_int(\"max_depth\", 2,10),\n",
    "        \"l2_leaf_reg\": trial.suggest_loguniform(\"l2_leaf_reg\", 1e-8, 100),\n",
    "         'one_hot_max_size':trial.suggest_categorical('one_hot_max_size', [5,10,12,100,500,1024]),\n",
    "        'custom_metric' : ['AUC'],\n",
    "        \"loss_function\": \"Logloss\",\n",
    "        'auto_class_weights':trial.suggest_categorical('auto_class_weights', ['Balanced', 'SqrtBalanced']),\n",
    "        }\n",
    "\n",
    "    scores = cv(train_dataset,\n",
    "            param,\n",
    "            fold_count=5, \n",
    "            early_stopping_rounds=10,         \n",
    "            plot=False, verbose=False)\n",
    "\n",
    "    return scores['test-AUC-mean'].max()"
   ]
  },
  {
   "cell_type": "code",
   "execution_count": null,
   "metadata": {
    "scrolled": true
   },
   "outputs": [
    {
     "name": "stderr",
     "output_type": "stream",
     "text": [
      "\u001b[32m[I 2021-07-12 16:51:02,078]\u001b[0m A new study created in memory with name: no-name-2f6a6e58-440f-42e8-bc6e-595ec566f138\u001b[0m\n"
     ]
    },
    {
     "name": "stdout",
     "output_type": "stream",
     "text": [
      "Stopped by overfitting detector  (10 iterations wait)\n"
     ]
    },
    {
     "name": "stderr",
     "output_type": "stream",
     "text": [
      "\u001b[32m[I 2021-07-12 16:51:12,632]\u001b[0m Trial 0 finished with value: 0.8586314270955565 and parameters: {'iterations': 200, 'learning_rate': 0.25998666758670563, 'random_strength': 7, 'bagging_temperature': 7, 'max_bin': 5, 'grow_policy': 'SymmetricTree', 'min_data_in_leaf': 7, 'max_depth': 3, 'l2_leaf_reg': 8.345387083873532e-06, 'one_hot_max_size': 12, 'auto_class_weights': 'SqrtBalanced'}. Best is trial 0 with value: 0.8586314270955565.\u001b[0m\n"
     ]
    },
    {
     "name": "stdout",
     "output_type": "stream",
     "text": [
      "Stopped by overfitting detector  (10 iterations wait)\n"
     ]
    },
    {
     "name": "stderr",
     "output_type": "stream",
     "text": [
      "\u001b[32m[I 2021-07-12 16:52:02,793]\u001b[0m Trial 1 finished with value: 0.8578164334975481 and parameters: {'iterations': 500, 'learning_rate': 0.2055856749271349, 'random_strength': 5, 'bagging_temperature': 1, 'max_bin': 6, 'grow_policy': 'Lossguide', 'min_data_in_leaf': 8, 'max_depth': 10, 'l2_leaf_reg': 8.8771488946556, 'one_hot_max_size': 10, 'auto_class_weights': 'Balanced'}. Best is trial 0 with value: 0.8586314270955565.\u001b[0m\n",
      "\u001b[32m[I 2021-07-12 16:52:07,196]\u001b[0m Trial 2 finished with value: 0.8574507580276862 and parameters: {'iterations': 100, 'learning_rate': 0.29607919404355465, 'random_strength': 8, 'bagging_temperature': 2, 'max_bin': 5, 'grow_policy': 'Depthwise', 'min_data_in_leaf': 4, 'max_depth': 2, 'l2_leaf_reg': 1.2877252667142128e-05, 'one_hot_max_size': 100, 'auto_class_weights': 'SqrtBalanced'}. Best is trial 0 with value: 0.8586314270955565.\u001b[0m\n",
      "\u001b[32m[I 2021-07-12 16:52:24,105]\u001b[0m Trial 3 finished with value: 0.8422165888360776 and parameters: {'iterations': 200, 'learning_rate': 0.010397326520333542, 'random_strength': 7, 'bagging_temperature': 3, 'max_bin': 5, 'grow_policy': 'Lossguide', 'min_data_in_leaf': 9, 'max_depth': 7, 'l2_leaf_reg': 5.1832947024610565, 'one_hot_max_size': 1024, 'auto_class_weights': 'Balanced'}. Best is trial 0 with value: 0.8586314270955565.\u001b[0m\n",
      "\u001b[32m[I 2021-07-12 16:52:45,849]\u001b[0m Trial 4 finished with value: 0.8603187202304007 and parameters: {'iterations': 500, 'learning_rate': 0.06741023533074834, 'random_strength': 2, 'bagging_temperature': 3, 'max_bin': 20, 'grow_policy': 'Depthwise', 'min_data_in_leaf': 3, 'max_depth': 2, 'l2_leaf_reg': 0.012463595329542002, 'one_hot_max_size': 100, 'auto_class_weights': 'SqrtBalanced'}. Best is trial 4 with value: 0.8603187202304007.\u001b[0m\n"
     ]
    },
    {
     "name": "stdout",
     "output_type": "stream",
     "text": [
      "Stopped by overfitting detector  (10 iterations wait)\n"
     ]
    },
    {
     "name": "stderr",
     "output_type": "stream",
     "text": [
      "\u001b[32m[I 2021-07-12 16:53:29,853]\u001b[0m Trial 5 finished with value: 0.8520554654592033 and parameters: {'iterations': 300, 'learning_rate': 0.1904253835175075, 'random_strength': 6, 'bagging_temperature': 0, 'max_bin': 4, 'grow_policy': 'Lossguide', 'min_data_in_leaf': 2, 'max_depth': 8, 'l2_leaf_reg': 7.36806524628614e-05, 'one_hot_max_size': 5, 'auto_class_weights': 'SqrtBalanced'}. Best is trial 4 with value: 0.8603187202304007.\u001b[0m\n"
     ]
    },
    {
     "name": "stdout",
     "output_type": "stream",
     "text": [
      "Stopped by overfitting detector  (10 iterations wait)\n"
     ]
    },
    {
     "name": "stderr",
     "output_type": "stream",
     "text": [
      "\u001b[32m[I 2021-07-12 16:53:35,038]\u001b[0m Trial 6 finished with value: 0.8474119997227006 and parameters: {'iterations': 1500, 'learning_rate': 0.1902973357247071, 'random_strength': 4, 'bagging_temperature': 3, 'max_bin': 5, 'grow_policy': 'SymmetricTree', 'min_data_in_leaf': 2, 'max_depth': 7, 'l2_leaf_reg': 1.123610628030388e-08, 'one_hot_max_size': 1024, 'auto_class_weights': 'SqrtBalanced'}. Best is trial 4 with value: 0.8603187202304007.\u001b[0m\n"
     ]
    },
    {
     "name": "stdout",
     "output_type": "stream",
     "text": [
      "Stopped by overfitting detector  (10 iterations wait)\n"
     ]
    },
    {
     "name": "stderr",
     "output_type": "stream",
     "text": [
      "\u001b[32m[I 2021-07-12 16:53:50,194]\u001b[0m Trial 7 finished with value: 0.8524091987653073 and parameters: {'iterations': 300, 'learning_rate': 0.0802955079368359, 'random_strength': 3, 'bagging_temperature': 10, 'max_bin': 5, 'grow_policy': 'Depthwise', 'min_data_in_leaf': 1, 'max_depth': 7, 'l2_leaf_reg': 5.903462299000416e-07, 'one_hot_max_size': 10, 'auto_class_weights': 'SqrtBalanced'}. Best is trial 4 with value: 0.8603187202304007.\u001b[0m\n",
      "\u001b[32m[I 2021-07-12 16:54:00,181]\u001b[0m Trial 8 finished with value: 0.858758955575194 and parameters: {'iterations': 100, 'learning_rate': 0.1674835774750467, 'random_strength': 10, 'bagging_temperature': 7, 'max_bin': 8, 'grow_policy': 'SymmetricTree', 'min_data_in_leaf': 4, 'max_depth': 4, 'l2_leaf_reg': 1.2405422353160507, 'one_hot_max_size': 12, 'auto_class_weights': 'SqrtBalanced'}. Best is trial 4 with value: 0.8603187202304007.\u001b[0m\n"
     ]
    },
    {
     "name": "stdout",
     "output_type": "stream",
     "text": [
      "Stopped by overfitting detector  (10 iterations wait)\n"
     ]
    },
    {
     "name": "stderr",
     "output_type": "stream",
     "text": [
      "\u001b[32m[I 2021-07-12 16:54:08,979]\u001b[0m Trial 9 finished with value: 0.8580005837959807 and parameters: {'iterations': 200, 'learning_rate': 0.14021380742160558, 'random_strength': 6, 'bagging_temperature': 3, 'max_bin': 8, 'grow_policy': 'SymmetricTree', 'min_data_in_leaf': 1, 'max_depth': 2, 'l2_leaf_reg': 0.00205847840690845, 'one_hot_max_size': 100, 'auto_class_weights': 'Balanced'}. Best is trial 4 with value: 0.8603187202304007.\u001b[0m\n",
      "\u001b[32m[I 2021-07-12 16:55:35,350]\u001b[0m Trial 10 finished with value: 0.8561356475364382 and parameters: {'iterations': 1200, 'learning_rate': 0.0025910756245724753, 'random_strength': 1, 'bagging_temperature': 6, 'max_bin': 20, 'grow_policy': 'Depthwise', 'min_data_in_leaf': 5, 'max_depth': 5, 'l2_leaf_reg': 0.034248888765990956, 'one_hot_max_size': 500, 'auto_class_weights': 'SqrtBalanced'}. Best is trial 4 with value: 0.8603187202304007.\u001b[0m\n",
      "\u001b[32m[I 2021-07-12 16:55:44,690]\u001b[0m Trial 11 finished with value: 0.8532264385749098 and parameters: {'iterations': 100, 'learning_rate': 0.09268010420984156, 'random_strength': 10, 'bagging_temperature': 8, 'max_bin': 30, 'grow_policy': 'SymmetricTree', 'min_data_in_leaf': 4, 'max_depth': 4, 'l2_leaf_reg': 0.19672230769990914, 'one_hot_max_size': 12, 'auto_class_weights': 'SqrtBalanced'}. Best is trial 4 with value: 0.8603187202304007.\u001b[0m\n"
     ]
    },
    {
     "name": "stdout",
     "output_type": "stream",
     "text": [
      "Stopped by overfitting detector  (10 iterations wait)\n"
     ]
    },
    {
     "name": "stderr",
     "output_type": "stream",
     "text": [
      "\u001b[32m[I 2021-07-12 16:56:00,232]\u001b[0m Trial 12 finished with value: 0.861162554976737 and parameters: {'iterations': 500, 'learning_rate': 0.07100026130069469, 'random_strength': 1, 'bagging_temperature': 5, 'max_bin': 8, 'grow_policy': 'Depthwise', 'min_data_in_leaf': 3, 'max_depth': 4, 'l2_leaf_reg': 92.81185245518641, 'one_hot_max_size': 100, 'auto_class_weights': 'SqrtBalanced'}. Best is trial 12 with value: 0.861162554976737.\u001b[0m\n",
      "\u001b[32m[I 2021-07-12 16:56:21,855]\u001b[0m Trial 13 finished with value: 0.8600767014893469 and parameters: {'iterations': 500, 'learning_rate': 0.055098221384655366, 'random_strength': 1, 'bagging_temperature': 5, 'max_bin': 10, 'grow_policy': 'Depthwise', 'min_data_in_leaf': 3, 'max_depth': 2, 'l2_leaf_reg': 0.008419368203139124, 'one_hot_max_size': 100, 'auto_class_weights': 'SqrtBalanced'}. Best is trial 12 with value: 0.861162554976737.\u001b[0m\n"
     ]
    },
    {
     "name": "stdout",
     "output_type": "stream",
     "text": [
      "Stopped by overfitting detector  (10 iterations wait)\n"
     ]
    },
    {
     "name": "stderr",
     "output_type": "stream",
     "text": [
      "\u001b[32m[I 2021-07-12 16:56:48,105]\u001b[0m Trial 14 finished with value: 0.8621297870213936 and parameters: {'iterations': 500, 'learning_rate': 0.04275243092238963, 'random_strength': 2, 'bagging_temperature': 4, 'max_bin': 20, 'grow_policy': 'Depthwise', 'min_data_in_leaf': 6, 'max_depth': 4, 'l2_leaf_reg': 50.71159518136317, 'one_hot_max_size': 100, 'auto_class_weights': 'SqrtBalanced'}. Best is trial 14 with value: 0.8621297870213936.\u001b[0m\n"
     ]
    },
    {
     "name": "stdout",
     "output_type": "stream",
     "text": [
      "Stopped by overfitting detector  (10 iterations wait)\n"
     ]
    },
    {
     "name": "stderr",
     "output_type": "stream",
     "text": [
      "\u001b[32m[I 2021-07-12 16:57:25,202]\u001b[0m Trial 15 finished with value: 0.8622588921839183 and parameters: {'iterations': 1000, 'learning_rate': 0.03253139575383227, 'random_strength': 2, 'bagging_temperature': 5, 'max_bin': 8, 'grow_policy': 'Depthwise', 'min_data_in_leaf': 6, 'max_depth': 5, 'l2_leaf_reg': 54.675186499005726, 'one_hot_max_size': 100, 'auto_class_weights': 'SqrtBalanced'}. Best is trial 15 with value: 0.8622588921839183.\u001b[0m\n"
     ]
    },
    {
     "name": "stdout",
     "output_type": "stream",
     "text": [
      "Stopped by overfitting detector  (10 iterations wait)\n"
     ]
    },
    {
     "name": "stderr",
     "output_type": "stream",
     "text": [
      "\u001b[32m[I 2021-07-12 16:57:56,801]\u001b[0m Trial 16 finished with value: 0.862273388485422 and parameters: {'iterations': 1000, 'learning_rate': 0.03401243718445137, 'random_strength': 3, 'bagging_temperature': 4, 'max_bin': 20, 'grow_policy': 'Depthwise', 'min_data_in_leaf': 6, 'max_depth': 5, 'l2_leaf_reg': 41.67913694121096, 'one_hot_max_size': 100, 'auto_class_weights': 'SqrtBalanced'}. Best is trial 16 with value: 0.862273388485422.\u001b[0m\n"
     ]
    },
    {
     "name": "stdout",
     "output_type": "stream",
     "text": [
      "Stopped by overfitting detector  (10 iterations wait)\n"
     ]
    },
    {
     "name": "stderr",
     "output_type": "stream",
     "text": [
      "\u001b[32m[I 2021-07-12 16:58:21,284]\u001b[0m Trial 17 finished with value: 0.8607890621960618 and parameters: {'iterations': 1000, 'learning_rate': 0.1241493155869205, 'random_strength': 3, 'bagging_temperature': 9, 'max_bin': 10, 'grow_policy': 'Depthwise', 'min_data_in_leaf': 10, 'max_depth': 6, 'l2_leaf_reg': 63.96931835340502, 'one_hot_max_size': 5, 'auto_class_weights': 'Balanced'}. Best is trial 16 with value: 0.862273388485422.\u001b[0m\n"
     ]
    },
    {
     "name": "stdout",
     "output_type": "stream",
     "text": [
      "Stopped by overfitting detector  (10 iterations wait)\n"
     ]
    },
    {
     "name": "stderr",
     "output_type": "stream",
     "text": [
      "\u001b[32m[I 2021-07-12 16:59:10,845]\u001b[0m Trial 18 finished with value: 0.8619554889498602 and parameters: {'iterations': 1000, 'learning_rate': 0.022577652128357318, 'random_strength': 4, 'bagging_temperature': 6, 'max_bin': 8, 'grow_policy': 'Depthwise', 'min_data_in_leaf': 6, 'max_depth': 6, 'l2_leaf_reg': 0.20046509421153233, 'one_hot_max_size': 500, 'auto_class_weights': 'SqrtBalanced'}. Best is trial 16 with value: 0.862273388485422.\u001b[0m\n"
     ]
    },
    {
     "name": "stdout",
     "output_type": "stream",
     "text": [
      "Stopped by overfitting detector  (10 iterations wait)\n"
     ]
    },
    {
     "name": "stderr",
     "output_type": "stream",
     "text": [
      "\u001b[32m[I 2021-07-12 16:59:27,651]\u001b[0m Trial 19 finished with value: 0.8570715162647794 and parameters: {'iterations': 1000, 'learning_rate': 0.11175274157034121, 'random_strength': 3, 'bagging_temperature': 4, 'max_bin': 6, 'grow_policy': 'Depthwise', 'min_data_in_leaf': 7, 'max_depth': 9, 'l2_leaf_reg': 2.2356540871647566, 'one_hot_max_size': 100, 'auto_class_weights': 'SqrtBalanced'}. Best is trial 16 with value: 0.862273388485422.\u001b[0m\n"
     ]
    },
    {
     "name": "stdout",
     "output_type": "stream",
     "text": [
      "Stopped by overfitting detector  (10 iterations wait)\n"
     ]
    },
    {
     "name": "stderr",
     "output_type": "stream",
     "text": [
      "\u001b[32m[I 2021-07-12 17:00:04,304]\u001b[0m Trial 20 finished with value: 0.8622876761801559 and parameters: {'iterations': 1000, 'learning_rate': 0.02999266555980393, 'random_strength': 2, 'bagging_temperature': 1, 'max_bin': 30, 'grow_policy': 'Depthwise', 'min_data_in_leaf': 8, 'max_depth': 5, 'l2_leaf_reg': 69.79787188842317, 'one_hot_max_size': 100, 'auto_class_weights': 'Balanced'}. Best is trial 20 with value: 0.8622876761801559.\u001b[0m\n"
     ]
    },
    {
     "name": "stdout",
     "output_type": "stream",
     "text": [
      "Stopped by overfitting detector  (10 iterations wait)\n"
     ]
    },
    {
     "name": "stderr",
     "output_type": "stream",
     "text": [
      "\u001b[32m[I 2021-07-12 17:00:45,514]\u001b[0m Trial 21 finished with value: 0.8624628035636075 and parameters: {'iterations': 1000, 'learning_rate': 0.025756025601560727, 'random_strength': 2, 'bagging_temperature': 0, 'max_bin': 30, 'grow_policy': 'Depthwise', 'min_data_in_leaf': 8, 'max_depth': 5, 'l2_leaf_reg': 25.326526211137597, 'one_hot_max_size': 100, 'auto_class_weights': 'Balanced'}. Best is trial 21 with value: 0.8624628035636075.\u001b[0m\n",
      "\u001b[32m[I 2021-07-12 17:01:53,384]\u001b[0m Trial 22 finished with value: 0.8439169230418294 and parameters: {'iterations': 1000, 'learning_rate': 0.0017947859586330134, 'random_strength': 4, 'bagging_temperature': 0, 'max_bin': 30, 'grow_policy': 'Depthwise', 'min_data_in_leaf': 9, 'max_depth': 5, 'l2_leaf_reg': 12.260298376281145, 'one_hot_max_size': 100, 'auto_class_weights': 'Balanced'}. Best is trial 21 with value: 0.8624628035636075.\u001b[0m\n"
     ]
    },
    {
     "name": "stdout",
     "output_type": "stream",
     "text": [
      "Stopped by overfitting detector  (10 iterations wait)\n"
     ]
    },
    {
     "name": "stderr",
     "output_type": "stream",
     "text": [
      "\u001b[32m[I 2021-07-12 17:02:21,360]\u001b[0m Trial 23 finished with value: 0.8619324830201368 and parameters: {'iterations': 1000, 'learning_rate': 0.03600897350647722, 'random_strength': 2, 'bagging_temperature': 1, 'max_bin': 30, 'grow_policy': 'Depthwise', 'min_data_in_leaf': 8, 'max_depth': 5, 'l2_leaf_reg': 0.3770802373448031, 'one_hot_max_size': 100, 'auto_class_weights': 'Balanced'}. Best is trial 21 with value: 0.8624628035636075.\u001b[0m\n"
     ]
    },
    {
     "name": "stdout",
     "output_type": "stream",
     "text": [
      "Stopped by overfitting detector  (10 iterations wait)\n"
     ]
    },
    {
     "name": "stderr",
     "output_type": "stream",
     "text": [
      "\u001b[32m[I 2021-07-12 17:02:37,230]\u001b[0m Trial 24 finished with value: 0.8613200520059235 and parameters: {'iterations': 1000, 'learning_rate': 0.10683864394487527, 'random_strength': 3, 'bagging_temperature': 1, 'max_bin': 30, 'grow_policy': 'Depthwise', 'min_data_in_leaf': 10, 'max_depth': 6, 'l2_leaf_reg': 93.05018377934447, 'one_hot_max_size': 100, 'auto_class_weights': 'Balanced'}. Best is trial 21 with value: 0.8624628035636075.\u001b[0m\n",
      "\u001b[32m[I 2021-07-12 17:03:57,373]\u001b[0m Trial 25 finished with value: 0.8587536979107616 and parameters: {'iterations': 1500, 'learning_rate': 0.005716231554923203, 'random_strength': 1, 'bagging_temperature': 0, 'max_bin': 30, 'grow_policy': 'Depthwise', 'min_data_in_leaf': 8, 'max_depth': 3, 'l2_leaf_reg': 16.441490746855354, 'one_hot_max_size': 100, 'auto_class_weights': 'Balanced'}. Best is trial 21 with value: 0.8624628035636075.\u001b[0m\n"
     ]
    },
    {
     "name": "stdout",
     "output_type": "stream",
     "text": [
      "Stopped by overfitting detector  (10 iterations wait)\n"
     ]
    },
    {
     "name": "stderr",
     "output_type": "stream",
     "text": [
      "\u001b[32m[I 2021-07-12 17:04:21,779]\u001b[0m Trial 26 finished with value: 0.860394596729485 and parameters: {'iterations': 1200, 'learning_rate': 0.051611838021121514, 'random_strength': 5, 'bagging_temperature': 2, 'max_bin': 4, 'grow_policy': 'Lossguide', 'min_data_in_leaf': 7, 'max_depth': 3, 'l2_leaf_reg': 0.5744078251661093, 'one_hot_max_size': 500, 'auto_class_weights': 'Balanced'}. Best is trial 21 with value: 0.8624628035636075.\u001b[0m\n"
     ]
    },
    {
     "name": "stdout",
     "output_type": "stream",
     "text": [
      "Stopped by overfitting detector  (10 iterations wait)\n"
     ]
    },
    {
     "name": "stderr",
     "output_type": "stream",
     "text": [
      "\u001b[32m[I 2021-07-12 17:05:34,599]\u001b[0m Trial 27 finished with value: 0.8616440899973439 and parameters: {'iterations': 1000, 'learning_rate': 0.021573089168376764, 'random_strength': 2, 'bagging_temperature': 2, 'max_bin': 20, 'grow_policy': 'Depthwise', 'min_data_in_leaf': 9, 'max_depth': 5, 'l2_leaf_reg': 0.05808089911799808, 'one_hot_max_size': 10, 'auto_class_weights': 'Balanced'}. Best is trial 21 with value: 0.8624628035636075.\u001b[0m\n"
     ]
    },
    {
     "name": "stdout",
     "output_type": "stream",
     "text": [
      "Stopped by overfitting detector  (10 iterations wait)\n"
     ]
    },
    {
     "name": "stderr",
     "output_type": "stream",
     "text": [
      "\u001b[32m[I 2021-07-12 17:06:07,439]\u001b[0m Trial 28 finished with value: 0.86001217064752 and parameters: {'iterations': 1000, 'learning_rate': 0.08630861471071741, 'random_strength': 4, 'bagging_temperature': 1, 'max_bin': 30, 'grow_policy': 'Depthwise', 'min_data_in_leaf': 5, 'max_depth': 8, 'l2_leaf_reg': 4.467279202180808, 'one_hot_max_size': 5, 'auto_class_weights': 'Balanced'}. Best is trial 21 with value: 0.8624628035636075.\u001b[0m\n"
     ]
    },
    {
     "name": "stdout",
     "output_type": "stream",
     "text": [
      "Stopped by overfitting detector  (10 iterations wait)\n"
     ]
    },
    {
     "name": "stderr",
     "output_type": "stream",
     "text": [
      "\u001b[32m[I 2021-07-12 17:06:12,681]\u001b[0m Trial 29 finished with value: 0.8489969920254715 and parameters: {'iterations': 1000, 'learning_rate': 0.23975277002867612, 'random_strength': 3, 'bagging_temperature': 0, 'max_bin': 30, 'grow_policy': 'Depthwise', 'min_data_in_leaf': 7, 'max_depth': 6, 'l2_leaf_reg': 0.00014388858225514438, 'one_hot_max_size': 1024, 'auto_class_weights': 'Balanced'}. Best is trial 21 with value: 0.8624628035636075.\u001b[0m\n"
     ]
    },
    {
     "name": "stdout",
     "output_type": "stream",
     "text": [
      "Stopped by overfitting detector  (10 iterations wait)\n"
     ]
    },
    {
     "name": "stderr",
     "output_type": "stream",
     "text": [
      "\u001b[32m[I 2021-07-12 17:06:41,514]\u001b[0m Trial 30 finished with value: 0.8618201750307988 and parameters: {'iterations': 1000, 'learning_rate': 0.05810106161184398, 'random_strength': 1, 'bagging_temperature': 4, 'max_bin': 20, 'grow_policy': 'Depthwise', 'min_data_in_leaf': 7, 'max_depth': 4, 'l2_leaf_reg': 94.45832551596531, 'one_hot_max_size': 12, 'auto_class_weights': 'Balanced'}. Best is trial 21 with value: 0.8624628035636075.\u001b[0m\n"
     ]
    },
    {
     "name": "stdout",
     "output_type": "stream",
     "text": [
      "Stopped by overfitting detector  (10 iterations wait)\n"
     ]
    },
    {
     "name": "stderr",
     "output_type": "stream",
     "text": [
      "\u001b[32m[I 2021-07-12 17:07:13,360]\u001b[0m Trial 31 finished with value: 0.8622890769146105 and parameters: {'iterations': 1000, 'learning_rate': 0.03433054431665006, 'random_strength': 2, 'bagging_temperature': 6, 'max_bin': 8, 'grow_policy': 'Depthwise', 'min_data_in_leaf': 6, 'max_depth': 5, 'l2_leaf_reg': 17.219547627726097, 'one_hot_max_size': 100, 'auto_class_weights': 'Balanced'}. Best is trial 21 with value: 0.8624628035636075.\u001b[0m\n"
     ]
    },
    {
     "name": "stdout",
     "output_type": "stream",
     "text": [
      "Stopped by overfitting detector  (10 iterations wait)\n"
     ]
    },
    {
     "name": "stderr",
     "output_type": "stream",
     "text": [
      "\u001b[32m[I 2021-07-12 17:07:52,237]\u001b[0m Trial 32 finished with value: 0.8626983064745002 and parameters: {'iterations': 1000, 'learning_rate': 0.024432960106226233, 'random_strength': 2, 'bagging_temperature': 7, 'max_bin': 6, 'grow_policy': 'Depthwise', 'min_data_in_leaf': 5, 'max_depth': 5, 'l2_leaf_reg': 14.099578378041059, 'one_hot_max_size': 100, 'auto_class_weights': 'Balanced'}. Best is trial 32 with value: 0.8626983064745002.\u001b[0m\n",
      "\u001b[32m[I 2021-07-12 17:08:46,061]\u001b[0m Trial 33 finished with value: 0.8615560617440469 and parameters: {'iterations': 1000, 'learning_rate': 0.01866848582935312, 'random_strength': 2, 'bagging_temperature': 7, 'max_bin': 6, 'grow_policy': 'Depthwise', 'min_data_in_leaf': 8, 'max_depth': 3, 'l2_leaf_reg': 13.29687640669131, 'one_hot_max_size': 100, 'auto_class_weights': 'Balanced'}. Best is trial 32 with value: 0.8626983064745002.\u001b[0m\n",
      "\u001b[32m[I 2021-07-12 17:09:02,681]\u001b[0m Trial 34 finished with value: 0.8434258398513144 and parameters: {'iterations': 200, 'learning_rate': 0.004418859748208992, 'random_strength': 1, 'bagging_temperature': 8, 'max_bin': 6, 'grow_policy': 'Lossguide', 'min_data_in_leaf': 8, 'max_depth': 6, 'l2_leaf_reg': 2.937172340297045, 'one_hot_max_size': 100, 'auto_class_weights': 'Balanced'}. Best is trial 32 with value: 0.8626983064745002.\u001b[0m\n"
     ]
    },
    {
     "name": "stdout",
     "output_type": "stream",
     "text": [
      "Stopped by overfitting detector  (10 iterations wait)\n"
     ]
    },
    {
     "name": "stderr",
     "output_type": "stream",
     "text": [
      "\u001b[32m[I 2021-07-12 17:09:28,007]\u001b[0m Trial 35 finished with value: 0.8615509845202078 and parameters: {'iterations': 1000, 'learning_rate': 0.042614299731214535, 'random_strength': 2, 'bagging_temperature': 6, 'max_bin': 6, 'grow_policy': 'Depthwise', 'min_data_in_leaf': 5, 'max_depth': 5, 'l2_leaf_reg': 15.065343631676756, 'one_hot_max_size': 100, 'auto_class_weights': 'Balanced'}. Best is trial 32 with value: 0.8626983064745002.\u001b[0m\n"
     ]
    },
    {
     "name": "stdout",
     "output_type": "stream",
     "text": [
      "Stopped by overfitting detector  (10 iterations wait)\n"
     ]
    },
    {
     "name": "stderr",
     "output_type": "stream",
     "text": [
      "\u001b[32m[I 2021-07-12 17:09:59,430]\u001b[0m Trial 36 finished with value: 0.8610774716463923 and parameters: {'iterations': 300, 'learning_rate': 0.0735194038549372, 'random_strength': 5, 'bagging_temperature': 7, 'max_bin': 6, 'grow_policy': 'Depthwise', 'min_data_in_leaf': 9, 'max_depth': 7, 'l2_leaf_reg': 2.1016601685478964, 'one_hot_max_size': 10, 'auto_class_weights': 'Balanced'}. Best is trial 32 with value: 0.8626983064745002.\u001b[0m\n"
     ]
    },
    {
     "name": "stdout",
     "output_type": "stream",
     "text": [
      "Stopped by overfitting detector  (10 iterations wait)\n"
     ]
    },
    {
     "name": "stderr",
     "output_type": "stream",
     "text": [
      "\u001b[32m[I 2021-07-12 17:10:04,776]\u001b[0m Trial 37 finished with value: 0.8543504104409351 and parameters: {'iterations': 1500, 'learning_rate': 0.2923472330930376, 'random_strength': 8, 'bagging_temperature': 8, 'max_bin': 30, 'grow_policy': 'Lossguide', 'min_data_in_leaf': 5, 'max_depth': 4, 'l2_leaf_reg': 9.739815733037027e-07, 'one_hot_max_size': 100, 'auto_class_weights': 'Balanced'}. Best is trial 32 with value: 0.8626983064745002.\u001b[0m\n"
     ]
    },
    {
     "name": "stdout",
     "output_type": "stream",
     "text": [
      "Stopped by overfitting detector  (10 iterations wait)\n"
     ]
    },
    {
     "name": "stderr",
     "output_type": "stream",
     "text": [
      "\u001b[32m[I 2021-07-12 17:10:54,675]\u001b[0m Trial 38 finished with value: 0.8618694146553846 and parameters: {'iterations': 1200, 'learning_rate': 0.020178663338278138, 'random_strength': 2, 'bagging_temperature': 9, 'max_bin': 4, 'grow_policy': 'Depthwise', 'min_data_in_leaf': 7, 'max_depth': 7, 'l2_leaf_reg': 7.009420970975332, 'one_hot_max_size': 1024, 'auto_class_weights': 'Balanced'}. Best is trial 32 with value: 0.8626983064745002.\u001b[0m\n"
     ]
    },
    {
     "name": "stdout",
     "output_type": "stream",
     "text": [
      "Stopped by overfitting detector  (10 iterations wait)\n"
     ]
    },
    {
     "name": "stderr",
     "output_type": "stream",
     "text": [
      "\u001b[32m[I 2021-07-12 17:11:14,171]\u001b[0m Trial 39 finished with value: 0.8601113600843731 and parameters: {'iterations': 1000, 'learning_rate': 0.06256195653614348, 'random_strength': 4, 'bagging_temperature': 6, 'max_bin': 8, 'grow_policy': 'SymmetricTree', 'min_data_in_leaf': 9, 'max_depth': 5, 'l2_leaf_reg': 0.07926134980946435, 'one_hot_max_size': 100, 'auto_class_weights': 'Balanced'}. Best is trial 32 with value: 0.8626983064745002.\u001b[0m\n",
      "\u001b[32m[I 2021-07-12 17:11:21,776]\u001b[0m Trial 40 finished with value: 0.8580167462301149 and parameters: {'iterations': 100, 'learning_rate': 0.09294987767824586, 'random_strength': 3, 'bagging_temperature': 7, 'max_bin': 5, 'grow_policy': 'Depthwise', 'min_data_in_leaf': 4, 'max_depth': 6, 'l2_leaf_reg': 0.653989818292065, 'one_hot_max_size': 100, 'auto_class_weights': 'Balanced'}. Best is trial 32 with value: 0.8626983064745002.\u001b[0m\n"
     ]
    },
    {
     "name": "stdout",
     "output_type": "stream",
     "text": [
      "Stopped by overfitting detector  (10 iterations wait)\n"
     ]
    },
    {
     "name": "stderr",
     "output_type": "stream",
     "text": [
      "\u001b[32m[I 2021-07-12 17:11:55,460]\u001b[0m Trial 41 finished with value: 0.8624701459841587 and parameters: {'iterations': 1000, 'learning_rate': 0.03217525214273705, 'random_strength': 3, 'bagging_temperature': 2, 'max_bin': 20, 'grow_policy': 'Depthwise', 'min_data_in_leaf': 6, 'max_depth': 5, 'l2_leaf_reg': 33.908262002294386, 'one_hot_max_size': 100, 'auto_class_weights': 'Balanced'}. Best is trial 32 with value: 0.8626983064745002.\u001b[0m\n"
     ]
    },
    {
     "name": "stdout",
     "output_type": "stream",
     "text": [
      "Stopped by overfitting detector  (10 iterations wait)\n"
     ]
    },
    {
     "name": "stderr",
     "output_type": "stream",
     "text": [
      "\u001b[32m[I 2021-07-12 17:12:16,519]\u001b[0m Trial 42 finished with value: 0.8623483319594142 and parameters: {'iterations': 1000, 'learning_rate': 0.04886175869572224, 'random_strength': 2, 'bagging_temperature': 2, 'max_bin': 30, 'grow_policy': 'Depthwise', 'min_data_in_leaf': 6, 'max_depth': 4, 'l2_leaf_reg': 26.744807983330293, 'one_hot_max_size': 100, 'auto_class_weights': 'Balanced'}. Best is trial 32 with value: 0.8626983064745002.\u001b[0m\n"
     ]
    },
    {
     "name": "stdout",
     "output_type": "stream",
     "text": [
      "Stopped by overfitting detector  (10 iterations wait)\n"
     ]
    },
    {
     "name": "stderr",
     "output_type": "stream",
     "text": [
      "\u001b[32m[I 2021-07-12 17:12:35,119]\u001b[0m Trial 43 finished with value: 0.8623271867351875 and parameters: {'iterations': 1000, 'learning_rate': 0.053521359931811466, 'random_strength': 1, 'bagging_temperature': 2, 'max_bin': 10, 'grow_policy': 'Depthwise', 'min_data_in_leaf': 6, 'max_depth': 4, 'l2_leaf_reg': 17.29455555592375, 'one_hot_max_size': 100, 'auto_class_weights': 'Balanced'}. Best is trial 32 with value: 0.8626983064745002.\u001b[0m\n"
     ]
    },
    {
     "name": "stdout",
     "output_type": "stream",
     "text": [
      "Stopped by overfitting detector  (10 iterations wait)\n"
     ]
    },
    {
     "name": "stderr",
     "output_type": "stream",
     "text": [
      "\u001b[32m[I 2021-07-12 17:12:52,599]\u001b[0m Trial 44 finished with value: 0.8617545524299324 and parameters: {'iterations': 300, 'learning_rate': 0.051276485750030104, 'random_strength': 1, 'bagging_temperature': 3, 'max_bin': 10, 'grow_policy': 'Depthwise', 'min_data_in_leaf': 5, 'max_depth': 4, 'l2_leaf_reg': 1.1153328846039883, 'one_hot_max_size': 100, 'auto_class_weights': 'Balanced'}. Best is trial 32 with value: 0.8626983064745002.\u001b[0m\n",
      "\u001b[32m[I 2021-07-12 17:14:12,106]\u001b[0m Trial 45 finished with value: 0.8611643529231394 and parameters: {'iterations': 1000, 'learning_rate': 0.013765538950841365, 'random_strength': 1, 'bagging_temperature': 2, 'max_bin': 10, 'grow_policy': 'Depthwise', 'min_data_in_leaf': 4, 'max_depth': 3, 'l2_leaf_reg': 5.871020162640399, 'one_hot_max_size': 5, 'auto_class_weights': 'Balanced'}. Best is trial 32 with value: 0.8626983064745002.\u001b[0m\n",
      "\u001b[32m[I 2021-07-12 17:14:33,311]\u001b[0m Trial 46 finished with value: 0.8599392356612802 and parameters: {'iterations': 200, 'learning_rate': 0.07347021119732439, 'random_strength': 3, 'bagging_temperature': 2, 'max_bin': 10, 'grow_policy': 'SymmetricTree', 'min_data_in_leaf': 6, 'max_depth': 4, 'l2_leaf_reg': 29.01425718603012, 'one_hot_max_size': 12, 'auto_class_weights': 'Balanced'}. Best is trial 32 with value: 0.8626983064745002.\u001b[0m\n"
     ]
    },
    {
     "name": "stdout",
     "output_type": "stream",
     "text": [
      "Stopped by overfitting detector  (10 iterations wait)\n"
     ]
    },
    {
     "name": "stderr",
     "output_type": "stream",
     "text": [
      "\u001b[32m[I 2021-07-12 17:14:55,308]\u001b[0m Trial 47 finished with value: 0.8618865603481181 and parameters: {'iterations': 1000, 'learning_rate': 0.04711032259457423, 'random_strength': 1, 'bagging_temperature': 3, 'max_bin': 20, 'grow_policy': 'Depthwise', 'min_data_in_leaf': 5, 'max_depth': 4, 'l2_leaf_reg': 4.514559269270502, 'one_hot_max_size': 100, 'auto_class_weights': 'Balanced'}. Best is trial 32 with value: 0.8626983064745002.\u001b[0m\n"
     ]
    },
    {
     "name": "stdout",
     "output_type": "stream",
     "text": [
      "Stopped by overfitting detector  (10 iterations wait)\n"
     ]
    },
    {
     "name": "stderr",
     "output_type": "stream",
     "text": [
      "\u001b[32m[I 2021-07-12 17:15:43,076]\u001b[0m Trial 48 finished with value: 0.8617861802263178 and parameters: {'iterations': 1000, 'learning_rate': 0.06309824169328246, 'random_strength': 2, 'bagging_temperature': 3, 'max_bin': 10, 'grow_policy': 'Lossguide', 'min_data_in_leaf': 4, 'max_depth': 3, 'l2_leaf_reg': 29.157027084978044, 'one_hot_max_size': 10, 'auto_class_weights': 'Balanced'}. Best is trial 32 with value: 0.8626983064745002.\u001b[0m\n",
      "\u001b[32m[I 2021-07-12 17:15:47,639]\u001b[0m Trial 49 finished with value: 0.8579118144181136 and parameters: {'iterations': 100, 'learning_rate': 0.15161441257319364, 'random_strength': 1, 'bagging_temperature': 0, 'max_bin': 6, 'grow_policy': 'Depthwise', 'min_data_in_leaf': 6, 'max_depth': 2, 'l2_leaf_reg': 1.2749968712894915, 'one_hot_max_size': 100, 'auto_class_weights': 'Balanced'}. Best is trial 32 with value: 0.8626983064745002.\u001b[0m\n"
     ]
    },
    {
     "name": "stdout",
     "output_type": "stream",
     "text": [
      "Stopped by overfitting detector  (10 iterations wait)\n"
     ]
    },
    {
     "name": "stderr",
     "output_type": "stream",
     "text": [
      "\u001b[32m[I 2021-07-12 17:15:57,853]\u001b[0m Trial 50 finished with value: 0.8593568445793472 and parameters: {'iterations': 1500, 'learning_rate': 0.09874542575623782, 'random_strength': 4, 'bagging_temperature': 2, 'max_bin': 5, 'grow_policy': 'Depthwise', 'min_data_in_leaf': 3, 'max_depth': 4, 'l2_leaf_reg': 0.0016601905915399338, 'one_hot_max_size': 500, 'auto_class_weights': 'Balanced'}. Best is trial 32 with value: 0.8626983064745002.\u001b[0m\n"
     ]
    },
    {
     "name": "stdout",
     "output_type": "stream",
     "text": [
      "Stopped by overfitting detector  (10 iterations wait)\n"
     ]
    },
    {
     "name": "stderr",
     "output_type": "stream",
     "text": [
      "\u001b[32m[I 2021-07-12 17:16:21,301]\u001b[0m Trial 51 finished with value: 0.8603111124444631 and parameters: {'iterations': 1000, 'learning_rate': 0.03290918238333267, 'random_strength': 2, 'bagging_temperature': 6, 'max_bin': 8, 'grow_policy': 'Depthwise', 'min_data_in_leaf': 6, 'max_depth': 5, 'l2_leaf_reg': 1.9602303278596978e-08, 'one_hot_max_size': 100, 'auto_class_weights': 'Balanced'}. Best is trial 32 with value: 0.8626983064745002.\u001b[0m\n",
      "\u001b[32m[I 2021-07-12 17:17:21,248]\u001b[0m Trial 52 finished with value: 0.861418096597544 and parameters: {'iterations': 1000, 'learning_rate': 0.01195043011698128, 'random_strength': 3, 'bagging_temperature': 5, 'max_bin': 8, 'grow_policy': 'Depthwise', 'min_data_in_leaf': 7, 'max_depth': 5, 'l2_leaf_reg': 12.189139860995498, 'one_hot_max_size': 100, 'auto_class_weights': 'Balanced'}. Best is trial 32 with value: 0.8626983064745002.\u001b[0m\n"
     ]
    },
    {
     "name": "stdout",
     "output_type": "stream",
     "text": [
      "Stopped by overfitting detector  (10 iterations wait)\n"
     ]
    },
    {
     "name": "stderr",
     "output_type": "stream",
     "text": [
      "\u001b[32m[I 2021-07-12 17:17:47,826]\u001b[0m Trial 53 finished with value: 0.8623060082952019 and parameters: {'iterations': 1000, 'learning_rate': 0.04390573433365369, 'random_strength': 2, 'bagging_temperature': 1, 'max_bin': 20, 'grow_policy': 'Depthwise', 'min_data_in_leaf': 6, 'max_depth': 4, 'l2_leaf_reg': 31.532388980853476, 'one_hot_max_size': 100, 'auto_class_weights': 'Balanced'}. Best is trial 32 with value: 0.8626983064745002.\u001b[0m\n"
     ]
    },
    {
     "name": "stdout",
     "output_type": "stream",
     "text": [
      "Stopped by overfitting detector  (10 iterations wait)\n"
     ]
    },
    {
     "name": "stderr",
     "output_type": "stream",
     "text": [
      "\u001b[32m[I 2021-07-12 17:18:03,928]\u001b[0m Trial 54 finished with value: 0.8619986423522537 and parameters: {'iterations': 500, 'learning_rate': 0.07928773281566229, 'random_strength': 2, 'bagging_temperature': 1, 'max_bin': 20, 'grow_policy': 'Depthwise', 'min_data_in_leaf': 5, 'max_depth': 4, 'l2_leaf_reg': 22.965247015898424, 'one_hot_max_size': 100, 'auto_class_weights': 'Balanced'}. Best is trial 32 with value: 0.8626983064745002.\u001b[0m\n",
      "\u001b[32m[I 2021-07-12 17:18:52,999]\u001b[0m Trial 55 finished with value: 0.8310924213085752 and parameters: {'iterations': 1000, 'learning_rate': 0.0012109805403732743, 'random_strength': 7, 'bagging_temperature': 2, 'max_bin': 20, 'grow_policy': 'Depthwise', 'min_data_in_leaf': 6, 'max_depth': 3, 'l2_leaf_reg': 34.471388096057765, 'one_hot_max_size': 100, 'auto_class_weights': 'Balanced'}. Best is trial 32 with value: 0.8626983064745002.\u001b[0m\n"
     ]
    },
    {
     "name": "stdout",
     "output_type": "stream",
     "text": [
      "Stopped by overfitting detector  (10 iterations wait)\n"
     ]
    },
    {
     "name": "stderr",
     "output_type": "stream",
     "text": [
      "\u001b[32m[I 2021-07-12 17:19:17,466]\u001b[0m Trial 56 finished with value: 0.86202978273279 and parameters: {'iterations': 1000, 'learning_rate': 0.04470210421018876, 'random_strength': 1, 'bagging_temperature': 1, 'max_bin': 20, 'grow_policy': 'Depthwise', 'min_data_in_leaf': 7, 'max_depth': 4, 'l2_leaf_reg': 85.5559904425521, 'one_hot_max_size': 1024, 'auto_class_weights': 'Balanced'}. Best is trial 32 with value: 0.8626983064745002.\u001b[0m\n"
     ]
    },
    {
     "name": "stdout",
     "output_type": "stream",
     "text": [
      "Stopped by overfitting detector  (10 iterations wait)\n"
     ]
    },
    {
     "name": "stderr",
     "output_type": "stream",
     "text": [
      "\u001b[32m[I 2021-07-12 17:19:39,272]\u001b[0m Trial 57 finished with value: 0.8612445485201391 and parameters: {'iterations': 1000, 'learning_rate': 0.06404989290129387, 'random_strength': 3, 'bagging_temperature': 0, 'max_bin': 20, 'grow_policy': 'SymmetricTree', 'min_data_in_leaf': 6, 'max_depth': 6, 'l2_leaf_reg': 6.413176557824736, 'one_hot_max_size': 100, 'auto_class_weights': 'Balanced'}. Best is trial 32 with value: 0.8626983064745002.\u001b[0m\n"
     ]
    },
    {
     "name": "stdout",
     "output_type": "stream",
     "text": [
      "Stopped by overfitting detector  (10 iterations wait)\n"
     ]
    },
    {
     "name": "stderr",
     "output_type": "stream",
     "text": [
      "\u001b[32m[I 2021-07-12 17:20:23,702]\u001b[0m Trial 58 finished with value: 0.8618128710723256 and parameters: {'iterations': 1200, 'learning_rate': 0.024864487276623996, 'random_strength': 8, 'bagging_temperature': 1, 'max_bin': 30, 'grow_policy': 'Depthwise', 'min_data_in_leaf': 5, 'max_depth': 5, 'l2_leaf_reg': 0.23790911737905654, 'one_hot_max_size': 100, 'auto_class_weights': 'Balanced'}. Best is trial 32 with value: 0.8626983064745002.\u001b[0m\n"
     ]
    },
    {
     "name": "stdout",
     "output_type": "stream",
     "text": [
      "Stopped by overfitting detector  (10 iterations wait)\n"
     ]
    },
    {
     "name": "stderr",
     "output_type": "stream",
     "text": [
      "\u001b[32m[I 2021-07-12 17:20:31,610]\u001b[0m Trial 59 finished with value: 0.8596143222231218 and parameters: {'iterations': 1000, 'learning_rate': 0.12834260485589616, 'random_strength': 2, 'bagging_temperature': 0, 'max_bin': 10, 'grow_policy': 'Depthwise', 'min_data_in_leaf': 4, 'max_depth': 4, 'l2_leaf_reg': 1.2719288859633884, 'one_hot_max_size': 100, 'auto_class_weights': 'Balanced'}. Best is trial 32 with value: 0.8626983064745002.\u001b[0m\n"
     ]
    },
    {
     "name": "stdout",
     "output_type": "stream",
     "text": [
      "Stopped by overfitting detector  (10 iterations wait)\n"
     ]
    },
    {
     "name": "stderr",
     "output_type": "stream",
     "text": [
      "\u001b[32m[I 2021-07-12 17:20:54,509]\u001b[0m Trial 60 finished with value: 0.8606686313306027 and parameters: {'iterations': 1000, 'learning_rate': 0.04099726128236047, 'random_strength': 3, 'bagging_temperature': 3, 'max_bin': 4, 'grow_policy': 'Depthwise', 'min_data_in_leaf': 6, 'max_depth': 3, 'l2_leaf_reg': 0.010683273259385853, 'one_hot_max_size': 100, 'auto_class_weights': 'Balanced'}. Best is trial 32 with value: 0.8626983064745002.\u001b[0m\n"
     ]
    },
    {
     "name": "stdout",
     "output_type": "stream",
     "text": [
      "Stopped by overfitting detector  (10 iterations wait)\n"
     ]
    },
    {
     "name": "stderr",
     "output_type": "stream",
     "text": [
      "\u001b[32m[I 2021-07-12 17:21:34,668]\u001b[0m Trial 61 finished with value: 0.8625786065524729 and parameters: {'iterations': 1000, 'learning_rate': 0.02774335225551401, 'random_strength': 2, 'bagging_temperature': 6, 'max_bin': 30, 'grow_policy': 'Depthwise', 'min_data_in_leaf': 6, 'max_depth': 5, 'l2_leaf_reg': 37.72445649752482, 'one_hot_max_size': 100, 'auto_class_weights': 'Balanced'}. Best is trial 32 with value: 0.8626983064745002.\u001b[0m\n"
     ]
    },
    {
     "name": "stdout",
     "output_type": "stream",
     "text": [
      "Stopped by overfitting detector  (10 iterations wait)\n"
     ]
    },
    {
     "name": "stderr",
     "output_type": "stream",
     "text": [
      "\u001b[32m[I 2021-07-12 17:22:14,749]\u001b[0m Trial 62 finished with value: 0.862488978925958 and parameters: {'iterations': 1000, 'learning_rate': 0.025934236796272374, 'random_strength': 2, 'bagging_temperature': 2, 'max_bin': 30, 'grow_policy': 'Depthwise', 'min_data_in_leaf': 7, 'max_depth': 5, 'l2_leaf_reg': 41.506649262364924, 'one_hot_max_size': 100, 'auto_class_weights': 'Balanced'}. Best is trial 32 with value: 0.8626983064745002.\u001b[0m\n",
      "\u001b[32m[I 2021-07-12 17:23:15,750]\u001b[0m Trial 63 finished with value: 0.86244330443763 and parameters: {'iterations': 1000, 'learning_rate': 0.013219618021289578, 'random_strength': 1, 'bagging_temperature': 4, 'max_bin': 30, 'grow_policy': 'Depthwise', 'min_data_in_leaf': 7, 'max_depth': 5, 'l2_leaf_reg': 73.14450503927284, 'one_hot_max_size': 100, 'auto_class_weights': 'Balanced'}. Best is trial 32 with value: 0.8626983064745002.\u001b[0m\n",
      "\u001b[32m[I 2021-07-12 17:24:16,550]\u001b[0m Trial 64 finished with value: 0.861264260384363 and parameters: {'iterations': 1000, 'learning_rate': 0.010941689122153715, 'random_strength': 2, 'bagging_temperature': 4, 'max_bin': 30, 'grow_policy': 'Depthwise', 'min_data_in_leaf': 8, 'max_depth': 5, 'l2_leaf_reg': 95.78605404150964, 'one_hot_max_size': 100, 'auto_class_weights': 'Balanced'}. Best is trial 32 with value: 0.8626983064745002.\u001b[0m\n"
     ]
    },
    {
     "name": "stdout",
     "output_type": "stream",
     "text": [
      "Stopped by overfitting detector  (10 iterations wait)\n"
     ]
    },
    {
     "name": "stderr",
     "output_type": "stream",
     "text": [
      "\u001b[32m[I 2021-07-12 17:25:43,411]\u001b[0m Trial 65 finished with value: 0.8625543210782698 and parameters: {'iterations': 1000, 'learning_rate': 0.025506564814413997, 'random_strength': 3, 'bagging_temperature': 4, 'max_bin': 30, 'grow_policy': 'Depthwise', 'min_data_in_leaf': 7, 'max_depth': 6, 'l2_leaf_reg': 99.12769940159102, 'one_hot_max_size': 12, 'auto_class_weights': 'Balanced'}. Best is trial 32 with value: 0.8626983064745002.\u001b[0m\n",
      "\u001b[32m[I 2021-07-12 17:26:14,846]\u001b[0m Trial 66 finished with value: 0.8583474352099966 and parameters: {'iterations': 200, 'learning_rate': 0.0264962731694796, 'random_strength': 3, 'bagging_temperature': 5, 'max_bin': 30, 'grow_policy': 'Depthwise', 'min_data_in_leaf': 7, 'max_depth': 7, 'l2_leaf_reg': 71.50022858351072, 'one_hot_max_size': 12, 'auto_class_weights': 'Balanced'}. Best is trial 32 with value: 0.8626983064745002.\u001b[0m\n",
      "\u001b[32m[I 2021-07-12 17:27:21,821]\u001b[0m Trial 67 finished with value: 0.8577196293653289 and parameters: {'iterations': 500, 'learning_rate': 0.011553020500289985, 'random_strength': 4, 'bagging_temperature': 4, 'max_bin': 30, 'grow_policy': 'Depthwise', 'min_data_in_leaf': 8, 'max_depth': 6, 'l2_leaf_reg': 46.24793171527473, 'one_hot_max_size': 12, 'auto_class_weights': 'Balanced'}. Best is trial 32 with value: 0.8626983064745002.\u001b[0m\n",
      "\u001b[32m[I 2021-07-12 17:28:09,732]\u001b[0m Trial 68 finished with value: 0.839014620143493 and parameters: {'iterations': 300, 'learning_rate': 0.0023363744714390254, 'random_strength': 3, 'bagging_temperature': 5, 'max_bin': 30, 'grow_policy': 'Depthwise', 'min_data_in_leaf': 7, 'max_depth': 6, 'l2_leaf_reg': 95.87901890889543, 'one_hot_max_size': 12, 'auto_class_weights': 'Balanced'}. Best is trial 32 with value: 0.8626983064745002.\u001b[0m\n"
     ]
    },
    {
     "name": "stdout",
     "output_type": "stream",
     "text": [
      "Stopped by overfitting detector  (10 iterations wait)\n"
     ]
    },
    {
     "name": "stderr",
     "output_type": "stream",
     "text": [
      "\u001b[32m[I 2021-07-12 17:29:17,168]\u001b[0m Trial 69 finished with value: 0.8621541673883962 and parameters: {'iterations': 1000, 'learning_rate': 0.027124794883923407, 'random_strength': 6, 'bagging_temperature': 4, 'max_bin': 30, 'grow_policy': 'Depthwise', 'min_data_in_leaf': 7, 'max_depth': 5, 'l2_leaf_reg': 2.766302561145807, 'one_hot_max_size': 12, 'auto_class_weights': 'Balanced'}. Best is trial 32 with value: 0.8626983064745002.\u001b[0m\n"
     ]
    },
    {
     "name": "stdout",
     "output_type": "stream",
     "text": [
      "Stopped by overfitting detector  (10 iterations wait)\n"
     ]
    },
    {
     "name": "stderr",
     "output_type": "stream",
     "text": [
      "\u001b[32m[I 2021-07-12 17:29:29,292]\u001b[0m Trial 70 finished with value: 0.8531264135961344 and parameters: {'iterations': 1000, 'learning_rate': 0.20362020382227014, 'random_strength': 5, 'bagging_temperature': 6, 'max_bin': 30, 'grow_policy': 'Depthwise', 'min_data_in_leaf': 8, 'max_depth': 6, 'l2_leaf_reg': 0.00016277470808478771, 'one_hot_max_size': 5, 'auto_class_weights': 'Balanced'}. Best is trial 32 with value: 0.8626983064745002.\u001b[0m\n"
     ]
    },
    {
     "name": "stdout",
     "output_type": "stream",
     "text": [
      "Stopped by overfitting detector  (10 iterations wait)\n"
     ]
    },
    {
     "name": "stderr",
     "output_type": "stream",
     "text": [
      "\u001b[32m[I 2021-07-12 17:30:16,401]\u001b[0m Trial 71 finished with value: 0.8621972348495225 and parameters: {'iterations': 1000, 'learning_rate': 0.01931280903217098, 'random_strength': 2, 'bagging_temperature': 3, 'max_bin': 30, 'grow_policy': 'Depthwise', 'min_data_in_leaf': 7, 'max_depth': 5, 'l2_leaf_reg': 8.68756073757963, 'one_hot_max_size': 100, 'auto_class_weights': 'Balanced'}. Best is trial 32 with value: 0.8626983064745002.\u001b[0m\n"
     ]
    },
    {
     "name": "stdout",
     "output_type": "stream",
     "text": [
      "Stopped by overfitting detector  (10 iterations wait)\n"
     ]
    },
    {
     "name": "stderr",
     "output_type": "stream",
     "text": [
      "\u001b[32m[I 2021-07-12 17:30:51,642]\u001b[0m Trial 72 finished with value: 0.8624590260497879 and parameters: {'iterations': 1000, 'learning_rate': 0.03513554071921405, 'random_strength': 1, 'bagging_temperature': 4, 'max_bin': 30, 'grow_policy': 'Depthwise', 'min_data_in_leaf': 7, 'max_depth': 5, 'l2_leaf_reg': 42.355348197921835, 'one_hot_max_size': 500, 'auto_class_weights': 'Balanced'}. Best is trial 32 with value: 0.8626983064745002.\u001b[0m\n"
     ]
    },
    {
     "name": "stdout",
     "output_type": "stream",
     "text": [
      "Stopped by overfitting detector  (10 iterations wait)\n"
     ]
    },
    {
     "name": "stderr",
     "output_type": "stream",
     "text": [
      "\u001b[32m[I 2021-07-12 17:31:21,376]\u001b[0m Trial 73 finished with value: 0.8625251875788009 and parameters: {'iterations': 1000, 'learning_rate': 0.035599971442922575, 'random_strength': 1, 'bagging_temperature': 4, 'max_bin': 30, 'grow_policy': 'Depthwise', 'min_data_in_leaf': 7, 'max_depth': 5, 'l2_leaf_reg': 53.570967290914766, 'one_hot_max_size': 500, 'auto_class_weights': 'Balanced'}. Best is trial 32 with value: 0.8626983064745002.\u001b[0m\n"
     ]
    },
    {
     "name": "stdout",
     "output_type": "stream",
     "text": [
      "Stopped by overfitting detector  (10 iterations wait)\n"
     ]
    },
    {
     "name": "stderr",
     "output_type": "stream",
     "text": [
      "\u001b[32m[I 2021-07-12 17:31:48,117]\u001b[0m Trial 74 finished with value: 0.8624020720078253 and parameters: {'iterations': 1000, 'learning_rate': 0.03706203286270392, 'random_strength': 1, 'bagging_temperature': 5, 'max_bin': 30, 'grow_policy': 'Depthwise', 'min_data_in_leaf': 7, 'max_depth': 5, 'l2_leaf_reg': 49.832222215763174, 'one_hot_max_size': 500, 'auto_class_weights': 'Balanced'}. Best is trial 32 with value: 0.8626983064745002.\u001b[0m\n"
     ]
    },
    {
     "name": "stdout",
     "output_type": "stream",
     "text": [
      "Stopped by overfitting detector  (10 iterations wait)\n"
     ]
    },
    {
     "name": "stderr",
     "output_type": "stream",
     "text": [
      "\u001b[32m[I 2021-07-12 17:32:22,408]\u001b[0m Trial 75 finished with value: 0.8627328949983746 and parameters: {'iterations': 1000, 'learning_rate': 0.030465939050418184, 'random_strength': 2, 'bagging_temperature': 4, 'max_bin': 30, 'grow_policy': 'Depthwise', 'min_data_in_leaf': 8, 'max_depth': 6, 'l2_leaf_reg': 3.4290808238617982, 'one_hot_max_size': 500, 'auto_class_weights': 'Balanced'}. Best is trial 75 with value: 0.8627328949983746.\u001b[0m\n"
     ]
    },
    {
     "name": "stdout",
     "output_type": "stream",
     "text": [
      "Stopped by overfitting detector  (10 iterations wait)\n"
     ]
    },
    {
     "name": "stderr",
     "output_type": "stream",
     "text": [
      "\u001b[32m[I 2021-07-12 17:33:01,091]\u001b[0m Trial 76 finished with value: 0.8620844451169176 and parameters: {'iterations': 1000, 'learning_rate': 0.02780717809979498, 'random_strength': 2, 'bagging_temperature': 7, 'max_bin': 30, 'grow_policy': 'Lossguide', 'min_data_in_leaf': 9, 'max_depth': 6, 'l2_leaf_reg': 3.394681574939467, 'one_hot_max_size': 500, 'auto_class_weights': 'Balanced'}. Best is trial 75 with value: 0.8627328949983746.\u001b[0m\n",
      "\u001b[32m[I 2021-07-12 17:33:10,135]\u001b[0m Trial 77 finished with value: 0.8341357828836058 and parameters: {'iterations': 100, 'learning_rate': 0.0019835508585856823, 'random_strength': 3, 'bagging_temperature': 5, 'max_bin': 30, 'grow_policy': 'Depthwise', 'min_data_in_leaf': 8, 'max_depth': 7, 'l2_leaf_reg': 10.583519829791861, 'one_hot_max_size': 500, 'auto_class_weights': 'SqrtBalanced'}. Best is trial 75 with value: 0.8627328949983746.\u001b[0m\n"
     ]
    },
    {
     "name": "stdout",
     "output_type": "stream",
     "text": [
      "Stopped by overfitting detector  (10 iterations wait)\n"
     ]
    },
    {
     "name": "stderr",
     "output_type": "stream",
     "text": [
      "\u001b[32m[I 2021-07-12 17:33:30,851]\u001b[0m Trial 78 finished with value: 0.8616834360146874 and parameters: {'iterations': 1000, 'learning_rate': 0.05509129462990163, 'random_strength': 3, 'bagging_temperature': 6, 'max_bin': 6, 'grow_policy': 'Depthwise', 'min_data_in_leaf': 8, 'max_depth': 6, 'l2_leaf_reg': 8.29116453988457, 'one_hot_max_size': 500, 'auto_class_weights': 'Balanced'}. Best is trial 75 with value: 0.8627328949983746.\u001b[0m\n"
     ]
    },
    {
     "name": "stdout",
     "output_type": "stream",
     "text": [
      "Stopped by overfitting detector  (10 iterations wait)\n"
     ]
    },
    {
     "name": "stderr",
     "output_type": "stream",
     "text": [
      "\u001b[32m[I 2021-07-12 17:34:40,636]\u001b[0m Trial 79 finished with value: 0.8615972212500136 and parameters: {'iterations': 1500, 'learning_rate': 0.01949424993197548, 'random_strength': 9, 'bagging_temperature': 3, 'max_bin': 30, 'grow_policy': 'SymmetricTree', 'min_data_in_leaf': 9, 'max_depth': 8, 'l2_leaf_reg': 18.817927241839506, 'one_hot_max_size': 500, 'auto_class_weights': 'Balanced'}. Best is trial 75 with value: 0.8627328949983746.\u001b[0m\n"
     ]
    },
    {
     "name": "stdout",
     "output_type": "stream",
     "text": [
      "Stopped by overfitting detector  (10 iterations wait)\n"
     ]
    },
    {
     "name": "stderr",
     "output_type": "stream",
     "text": [
      "\u001b[32m[I 2021-07-12 17:35:09,132]\u001b[0m Trial 80 finished with value: 0.8612062297321079 and parameters: {'iterations': 1000, 'learning_rate': 0.038333101293197315, 'random_strength': 2, 'bagging_temperature': 8, 'max_bin': 30, 'grow_policy': 'Depthwise', 'min_data_in_leaf': 8, 'max_depth': 7, 'l2_leaf_reg': 1.9953413466214056, 'one_hot_max_size': 500, 'auto_class_weights': 'Balanced'}. Best is trial 75 with value: 0.8627328949983746.\u001b[0m\n"
     ]
    },
    {
     "name": "stdout",
     "output_type": "stream",
     "text": [
      "Stopped by overfitting detector  (10 iterations wait)\n"
     ]
    },
    {
     "name": "stderr",
     "output_type": "stream",
     "text": [
      "\u001b[32m[I 2021-07-12 17:35:40,665]\u001b[0m Trial 81 finished with value: 0.8623845965839259 and parameters: {'iterations': 1000, 'learning_rate': 0.03246173284347627, 'random_strength': 1, 'bagging_temperature': 4, 'max_bin': 30, 'grow_policy': 'Depthwise', 'min_data_in_leaf': 7, 'max_depth': 5, 'l2_leaf_reg': 52.036763866088606, 'one_hot_max_size': 500, 'auto_class_weights': 'Balanced'}. Best is trial 75 with value: 0.8627328949983746.\u001b[0m\n"
     ]
    },
    {
     "name": "stdout",
     "output_type": "stream",
     "text": [
      "Stopped by overfitting detector  (10 iterations wait)\n"
     ]
    },
    {
     "name": "stderr",
     "output_type": "stream",
     "text": [
      "\u001b[32m[I 2021-07-12 17:36:35,001]\u001b[0m Trial 82 finished with value: 0.8629979838709836 and parameters: {'iterations': 1000, 'learning_rate': 0.018245767440521185, 'random_strength': 1, 'bagging_temperature': 4, 'max_bin': 30, 'grow_policy': 'Depthwise', 'min_data_in_leaf': 8, 'max_depth': 5, 'l2_leaf_reg': 43.49231256087659, 'one_hot_max_size': 500, 'auto_class_weights': 'Balanced'}. Best is trial 82 with value: 0.8629979838709836.\u001b[0m\n"
     ]
    },
    {
     "name": "stdout",
     "output_type": "stream",
     "text": [
      "Stopped by overfitting detector  (10 iterations wait)\n"
     ]
    },
    {
     "name": "stderr",
     "output_type": "stream",
     "text": [
      "\u001b[32m[I 2021-07-12 17:37:28,002]\u001b[0m Trial 83 finished with value: 0.8622691087021114 and parameters: {'iterations': 1000, 'learning_rate': 0.017516628447320687, 'random_strength': 2, 'bagging_temperature': 7, 'max_bin': 30, 'grow_policy': 'Depthwise', 'min_data_in_leaf': 8, 'max_depth': 6, 'l2_leaf_reg': 21.357158738892778, 'one_hot_max_size': 500, 'auto_class_weights': 'Balanced'}. Best is trial 82 with value: 0.8629979838709836.\u001b[0m\n",
      "\u001b[32m[I 2021-07-12 17:38:33,848]\u001b[0m Trial 84 finished with value: 0.8606943719042437 and parameters: {'iterations': 1000, 'learning_rate': 0.009286527455997843, 'random_strength': 2, 'bagging_temperature': 4, 'max_bin': 30, 'grow_policy': 'Depthwise', 'min_data_in_leaf': 9, 'max_depth': 5, 'l2_leaf_reg': 4.683795916901272, 'one_hot_max_size': 500, 'auto_class_weights': 'Balanced'}. Best is trial 82 with value: 0.8629979838709836.\u001b[0m\n"
     ]
    },
    {
     "name": "stdout",
     "output_type": "stream",
     "text": [
      "Stopped by overfitting detector  (10 iterations wait)\n"
     ]
    },
    {
     "name": "stderr",
     "output_type": "stream",
     "text": [
      "\u001b[32m[I 2021-07-12 17:39:09,533]\u001b[0m Trial 85 finished with value: 0.8621710539129579 and parameters: {'iterations': 1000, 'learning_rate': 0.02689089169663775, 'random_strength': 1, 'bagging_temperature': 3, 'max_bin': 6, 'grow_policy': 'Depthwise', 'min_data_in_leaf': 8, 'max_depth': 6, 'l2_leaf_reg': 12.232152973259781, 'one_hot_max_size': 500, 'auto_class_weights': 'Balanced'}. Best is trial 82 with value: 0.8629979838709836.\u001b[0m\n"
     ]
    },
    {
     "name": "stdout",
     "output_type": "stream",
     "text": [
      "Stopped by overfitting detector  (10 iterations wait)\n"
     ]
    },
    {
     "name": "stderr",
     "output_type": "stream",
     "text": [
      "\u001b[32m[I 2021-07-12 17:39:45,751]\u001b[0m Trial 86 finished with value: 0.8624018405139875 and parameters: {'iterations': 1200, 'learning_rate': 0.05804666655181082, 'random_strength': 2, 'bagging_temperature': 5, 'max_bin': 30, 'grow_policy': 'Depthwise', 'min_data_in_leaf': 8, 'max_depth': 5, 'l2_leaf_reg': 89.71731329623286, 'one_hot_max_size': 10, 'auto_class_weights': 'Balanced'}. Best is trial 82 with value: 0.8629979838709836.\u001b[0m\n"
     ]
    },
    {
     "name": "stdout",
     "output_type": "stream",
     "text": [
      "Stopped by overfitting detector  (10 iterations wait)\n"
     ]
    },
    {
     "name": "stderr",
     "output_type": "stream",
     "text": [
      "\u001b[32m[I 2021-07-12 17:40:38,092]\u001b[0m Trial 87 finished with value: 0.8624473861068089 and parameters: {'iterations': 1000, 'learning_rate': 0.04437923383817188, 'random_strength': 3, 'bagging_temperature': 4, 'max_bin': 5, 'grow_policy': 'Depthwise', 'min_data_in_leaf': 7, 'max_depth': 6, 'l2_leaf_reg': 33.45241493324193, 'one_hot_max_size': 12, 'auto_class_weights': 'Balanced'}. Best is trial 82 with value: 0.8629979838709836.\u001b[0m\n"
     ]
    },
    {
     "name": "stdout",
     "output_type": "stream",
     "text": [
      "Stopped by overfitting detector  (10 iterations wait)\n"
     ]
    },
    {
     "name": "stderr",
     "output_type": "stream",
     "text": [
      "\u001b[32m[I 2021-07-12 17:40:57,614]\u001b[0m Trial 88 finished with value: 0.8617948529822771 and parameters: {'iterations': 1000, 'learning_rate': 0.06944562089547945, 'random_strength': 1, 'bagging_temperature': 5, 'max_bin': 30, 'grow_policy': 'Depthwise', 'min_data_in_leaf': 6, 'max_depth': 5, 'l2_leaf_reg': 0.6555632978489226, 'one_hot_max_size': 500, 'auto_class_weights': 'Balanced'}. Best is trial 82 with value: 0.8629979838709836.\u001b[0m\n",
      "\u001b[32m[I 2021-07-12 17:42:10,713]\u001b[0m Trial 89 finished with value: 0.8588812239639767 and parameters: {'iterations': 1000, 'learning_rate': 0.00634582853077582, 'random_strength': 3, 'bagging_temperature': 6, 'max_bin': 30, 'grow_policy': 'Depthwise', 'min_data_in_leaf': 10, 'max_depth': 6, 'l2_leaf_reg': 7.634752624258364, 'one_hot_max_size': 1024, 'auto_class_weights': 'Balanced'}. Best is trial 82 with value: 0.8629979838709836.\u001b[0m\n",
      "\u001b[32m[I 2021-07-12 17:42:44,069]\u001b[0m Trial 90 finished with value: 0.8572488843184004 and parameters: {'iterations': 300, 'learning_rate': 0.022824947096976383, 'random_strength': 4, 'bagging_temperature': 3, 'max_bin': 6, 'grow_policy': 'Depthwise', 'min_data_in_leaf': 5, 'max_depth': 5, 'l2_leaf_reg': 18.738579129280904, 'one_hot_max_size': 5, 'auto_class_weights': 'Balanced'}. Best is trial 82 with value: 0.8629979838709836.\u001b[0m\n"
     ]
    },
    {
     "name": "stdout",
     "output_type": "stream",
     "text": [
      "Stopped by overfitting detector  (10 iterations wait)\n"
     ]
    },
    {
     "name": "stderr",
     "output_type": "stream",
     "text": [
      "\u001b[32m[I 2021-07-12 17:43:10,879]\u001b[0m Trial 91 finished with value: 0.8623151425633093 and parameters: {'iterations': 1000, 'learning_rate': 0.03600867134158314, 'random_strength': 1, 'bagging_temperature': 4, 'max_bin': 30, 'grow_policy': 'Depthwise', 'min_data_in_leaf': 7, 'max_depth': 5, 'l2_leaf_reg': 45.8927919861112, 'one_hot_max_size': 500, 'auto_class_weights': 'Balanced'}. Best is trial 82 with value: 0.8629979838709836.\u001b[0m\n"
     ]
    },
    {
     "name": "stdout",
     "output_type": "stream",
     "text": [
      "Stopped by overfitting detector  (10 iterations wait)\n"
     ]
    },
    {
     "name": "stderr",
     "output_type": "stream",
     "text": [
      "\u001b[32m[I 2021-07-12 17:43:47,586]\u001b[0m Trial 92 finished with value: 0.8623228894094968 and parameters: {'iterations': 1000, 'learning_rate': 0.030938595610454252, 'random_strength': 1, 'bagging_temperature': 4, 'max_bin': 30, 'grow_policy': 'Depthwise', 'min_data_in_leaf': 7, 'max_depth': 5, 'l2_leaf_reg': 97.89831193315895, 'one_hot_max_size': 500, 'auto_class_weights': 'Balanced'}. Best is trial 82 with value: 0.8629979838709836.\u001b[0m\n"
     ]
    },
    {
     "name": "stdout",
     "output_type": "stream",
     "text": [
      "Stopped by overfitting detector  (10 iterations wait)\n"
     ]
    },
    {
     "name": "stderr",
     "output_type": "stream",
     "text": [
      "\u001b[32m[I 2021-07-12 17:44:11,098]\u001b[0m Trial 93 finished with value: 0.8622267157864851 and parameters: {'iterations': 1000, 'learning_rate': 0.048908308443854756, 'random_strength': 2, 'bagging_temperature': 4, 'max_bin': 30, 'grow_policy': 'Depthwise', 'min_data_in_leaf': 7, 'max_depth': 5, 'l2_leaf_reg': 45.05639906787739, 'one_hot_max_size': 500, 'auto_class_weights': 'Balanced'}. Best is trial 82 with value: 0.8629979838709836.\u001b[0m\n"
     ]
    },
    {
     "name": "stdout",
     "output_type": "stream",
     "text": [
      "Stopped by overfitting detector  (10 iterations wait)\n"
     ]
    },
    {
     "name": "stderr",
     "output_type": "stream",
     "text": [
      "\u001b[32m[I 2021-07-12 17:45:02,652]\u001b[0m Trial 94 finished with value: 0.8621422580469232 and parameters: {'iterations': 1000, 'learning_rate': 0.016976466566549893, 'random_strength': 1, 'bagging_temperature': 3, 'max_bin': 4, 'grow_policy': 'Depthwise', 'min_data_in_leaf': 8, 'max_depth': 6, 'l2_leaf_reg': 23.14078447044659, 'one_hot_max_size': 500, 'auto_class_weights': 'Balanced'}. Best is trial 82 with value: 0.8629979838709836.\u001b[0m\n"
     ]
    },
    {
     "name": "stdout",
     "output_type": "stream",
     "text": [
      "Stopped by overfitting detector  (10 iterations wait)\n"
     ]
    },
    {
     "name": "stderr",
     "output_type": "stream",
     "text": [
      "\u001b[32m[I 2021-07-12 17:45:30,946]\u001b[0m Trial 95 finished with value: 0.8618003316806983 and parameters: {'iterations': 1000, 'learning_rate': 0.037998662337996314, 'random_strength': 2, 'bagging_temperature': 4, 'max_bin': 30, 'grow_policy': 'Depthwise', 'min_data_in_leaf': 6, 'max_depth': 5, 'l2_leaf_reg': 11.947002139787621, 'one_hot_max_size': 500, 'auto_class_weights': 'Balanced'}. Best is trial 82 with value: 0.8629979838709836.\u001b[0m\n",
      "\u001b[32m[I 2021-07-12 17:45:48,416]\u001b[0m Trial 96 finished with value: 0.8601048898643999 and parameters: {'iterations': 200, 'learning_rate': 0.03137730242944067, 'random_strength': 1, 'bagging_temperature': 5, 'max_bin': 30, 'grow_policy': 'Lossguide', 'min_data_in_leaf': 9, 'max_depth': 10, 'l2_leaf_reg': 5.397449605519222, 'one_hot_max_size': 500, 'auto_class_weights': 'Balanced'}. Best is trial 82 with value: 0.8629979838709836.\u001b[0m\n"
     ]
    },
    {
     "name": "stdout",
     "output_type": "stream",
     "text": [
      "Stopped by overfitting detector  (10 iterations wait)\n"
     ]
    },
    {
     "name": "stderr",
     "output_type": "stream",
     "text": [
      "\u001b[32m[I 2021-07-12 17:46:16,891]\u001b[0m Trial 97 finished with value: 0.8595998418901024 and parameters: {'iterations': 1000, 'learning_rate': 0.059657645045123, 'random_strength': 2, 'bagging_temperature': 8, 'max_bin': 30, 'grow_policy': 'Depthwise', 'min_data_in_leaf': 6, 'max_depth': 6, 'l2_leaf_reg': 0.02170817013102227, 'one_hot_max_size': 12, 'auto_class_weights': 'SqrtBalanced'}. Best is trial 82 with value: 0.8629979838709836.\u001b[0m\n",
      "\u001b[32m[I 2021-07-12 17:46:49,366]\u001b[0m Trial 98 finished with value: 0.8621064146690591 and parameters: {'iterations': 500, 'learning_rate': 0.022796504316425843, 'random_strength': 1, 'bagging_temperature': 3, 'max_bin': 30, 'grow_policy': 'Depthwise', 'min_data_in_leaf': 7, 'max_depth': 5, 'l2_leaf_reg': 33.72698309015812, 'one_hot_max_size': 100, 'auto_class_weights': 'Balanced'}. Best is trial 82 with value: 0.8629979838709836.\u001b[0m\n"
     ]
    },
    {
     "name": "stdout",
     "output_type": "stream",
     "text": [
      "Stopped by overfitting detector  (10 iterations wait)\n"
     ]
    },
    {
     "name": "stderr",
     "output_type": "stream",
     "text": [
      "\u001b[32m[I 2021-07-12 17:47:48,661]\u001b[0m Trial 99 finished with value: 0.8620973256832449 and parameters: {'iterations': 1000, 'learning_rate': 0.040771228508289556, 'random_strength': 2, 'bagging_temperature': 4, 'max_bin': 30, 'grow_policy': 'Depthwise', 'min_data_in_leaf': 5, 'max_depth': 4, 'l2_leaf_reg': 98.31434722832648, 'one_hot_max_size': 10, 'auto_class_weights': 'Balanced'}. Best is trial 82 with value: 0.8629979838709836.\u001b[0m\n",
      "\u001b[32m[I 2021-07-12 17:48:51,506]\u001b[0m Trial 100 finished with value: 0.8598535753997634 and parameters: {'iterations': 1000, 'learning_rate': 0.007459692713369714, 'random_strength': 2, 'bagging_temperature': 7, 'max_bin': 6, 'grow_policy': 'Depthwise', 'min_data_in_leaf': 8, 'max_depth': 5, 'l2_leaf_reg': 0.005731328755174105, 'one_hot_max_size': 100, 'auto_class_weights': 'Balanced'}. Best is trial 82 with value: 0.8629979838709836.\u001b[0m\n"
     ]
    },
    {
     "name": "stdout",
     "output_type": "stream",
     "text": [
      "Stopped by overfitting detector  (10 iterations wait)\n"
     ]
    },
    {
     "name": "stderr",
     "output_type": "stream",
     "text": [
      "\u001b[32m[I 2021-07-12 17:49:35,162]\u001b[0m Trial 101 finished with value: 0.8624063040168408 and parameters: {'iterations': 1000, 'learning_rate': 0.04764209147590124, 'random_strength': 3, 'bagging_temperature': 4, 'max_bin': 5, 'grow_policy': 'Depthwise', 'min_data_in_leaf': 7, 'max_depth': 6, 'l2_leaf_reg': 33.740418635421634, 'one_hot_max_size': 12, 'auto_class_weights': 'Balanced'}. Best is trial 82 with value: 0.8629979838709836.\u001b[0m\n"
     ]
    },
    {
     "name": "stdout",
     "output_type": "stream",
     "text": [
      "Stopped by overfitting detector  (10 iterations wait)\n"
     ]
    },
    {
     "name": "stderr",
     "output_type": "stream",
     "text": [
      "\u001b[32m[I 2021-07-12 17:50:39,577]\u001b[0m Trial 102 finished with value: 0.8625573878141974 and parameters: {'iterations': 1000, 'learning_rate': 0.042987939383189046, 'random_strength': 3, 'bagging_temperature': 5, 'max_bin': 5, 'grow_policy': 'Depthwise', 'min_data_in_leaf': 7, 'max_depth': 6, 'l2_leaf_reg': 59.58581748121637, 'one_hot_max_size': 12, 'auto_class_weights': 'Balanced'}. Best is trial 82 with value: 0.8629979838709836.\u001b[0m\n",
      "\u001b[32m[I 2021-07-12 17:52:27,778]\u001b[0m Trial 103 finished with value: 0.8622682688647654 and parameters: {'iterations': 1000, 'learning_rate': 0.015233662900258762, 'random_strength': 4, 'bagging_temperature': 5, 'max_bin': 5, 'grow_policy': 'Depthwise', 'min_data_in_leaf': 6, 'max_depth': 5, 'l2_leaf_reg': 54.308191299794245, 'one_hot_max_size': 12, 'auto_class_weights': 'Balanced'}. Best is trial 82 with value: 0.8629979838709836.\u001b[0m\n"
     ]
    },
    {
     "name": "stdout",
     "output_type": "stream",
     "text": [
      "Stopped by overfitting detector  (10 iterations wait)\n"
     ]
    },
    {
     "name": "stderr",
     "output_type": "stream",
     "text": [
      "\u001b[32m[I 2021-07-12 17:53:41,411]\u001b[0m Trial 104 finished with value: 0.8633240486794842 and parameters: {'iterations': 1000, 'learning_rate': 0.027643580648460547, 'random_strength': 3, 'bagging_temperature': 5, 'max_bin': 5, 'grow_policy': 'Depthwise', 'min_data_in_leaf': 8, 'max_depth': 6, 'l2_leaf_reg': 15.45433560022827, 'one_hot_max_size': 12, 'auto_class_weights': 'Balanced'}. Best is trial 104 with value: 0.8633240486794842.\u001b[0m\n"
     ]
    },
    {
     "name": "stdout",
     "output_type": "stream",
     "text": [
      "Stopped by overfitting detector  (10 iterations wait)\n"
     ]
    },
    {
     "name": "stderr",
     "output_type": "stream",
     "text": [
      "\u001b[32m[I 2021-07-12 17:55:08,251]\u001b[0m Trial 105 finished with value: 0.8628402603319628 and parameters: {'iterations': 1000, 'learning_rate': 0.026381925919924037, 'random_strength': 3, 'bagging_temperature': 6, 'max_bin': 5, 'grow_policy': 'Depthwise', 'min_data_in_leaf': 8, 'max_depth': 7, 'l2_leaf_reg': 15.41060437330382, 'one_hot_max_size': 12, 'auto_class_weights': 'Balanced'}. Best is trial 104 with value: 0.8633240486794842.\u001b[0m\n",
      "\u001b[32m[I 2021-07-12 17:55:23,991]\u001b[0m Trial 106 finished with value: 0.8535002626018878 and parameters: {'iterations': 100, 'learning_rate': 0.024916181298725103, 'random_strength': 3, 'bagging_temperature': 6, 'max_bin': 5, 'grow_policy': 'Depthwise', 'min_data_in_leaf': 8, 'max_depth': 7, 'l2_leaf_reg': 3.3692836997474584, 'one_hot_max_size': 12, 'auto_class_weights': 'Balanced'}. Best is trial 104 with value: 0.8633240486794842.\u001b[0m\n"
     ]
    },
    {
     "name": "stdout",
     "output_type": "stream",
     "text": [
      "Stopped by overfitting detector  (10 iterations wait)\n"
     ]
    },
    {
     "name": "stderr",
     "output_type": "stream",
     "text": [
      "\u001b[32m[I 2021-07-12 17:55:44,731]\u001b[0m Trial 107 finished with value: 0.8591352969104943 and parameters: {'iterations': 1000, 'learning_rate': 0.16841476968977556, 'random_strength': 4, 'bagging_temperature': 6, 'max_bin': 5, 'grow_policy': 'SymmetricTree', 'min_data_in_leaf': 9, 'max_depth': 8, 'l2_leaf_reg': 14.149972471429612, 'one_hot_max_size': 12, 'auto_class_weights': 'Balanced'}. Best is trial 104 with value: 0.8633240486794842.\u001b[0m\n"
     ]
    },
    {
     "name": "stdout",
     "output_type": "stream",
     "text": [
      "Stopped by overfitting detector  (10 iterations wait)\n"
     ]
    },
    {
     "name": "stderr",
     "output_type": "stream",
     "text": [
      "\u001b[32m[I 2021-07-12 17:56:07,617]\u001b[0m Trial 108 finished with value: 0.8556038702540547 and parameters: {'iterations': 1500, 'learning_rate': 0.05042737106805929, 'random_strength': 3, 'bagging_temperature': 6, 'max_bin': 5, 'grow_policy': 'Depthwise', 'min_data_in_leaf': 8, 'max_depth': 7, 'l2_leaf_reg': 3.869301832721849e-06, 'one_hot_max_size': 12, 'auto_class_weights': 'Balanced'}. Best is trial 104 with value: 0.8633240486794842.\u001b[0m\n"
     ]
    },
    {
     "name": "stdout",
     "output_type": "stream",
     "text": [
      "Stopped by overfitting detector  (10 iterations wait)\n"
     ]
    },
    {
     "name": "stderr",
     "output_type": "stream",
     "text": [
      "\u001b[32m[I 2021-07-12 17:57:15,644]\u001b[0m Trial 109 finished with value: 0.8620750251867262 and parameters: {'iterations': 1000, 'learning_rate': 0.03085237274990363, 'random_strength': 3, 'bagging_temperature': 5, 'max_bin': 5, 'grow_policy': 'Depthwise', 'min_data_in_leaf': 8, 'max_depth': 7, 'l2_leaf_reg': 1.6392895881097505, 'one_hot_max_size': 12, 'auto_class_weights': 'Balanced'}. Best is trial 104 with value: 0.8633240486794842.\u001b[0m\n",
      "\u001b[32m[I 2021-07-12 17:59:22,422]\u001b[0m Trial 110 finished with value: 0.8624699345574921 and parameters: {'iterations': 1000, 'learning_rate': 0.014436556897215045, 'random_strength': 4, 'bagging_temperature': 7, 'max_bin': 5, 'grow_policy': 'Depthwise', 'min_data_in_leaf': 7, 'max_depth': 6, 'l2_leaf_reg': 18.018327955689198, 'one_hot_max_size': 12, 'auto_class_weights': 'Balanced'}. Best is trial 104 with value: 0.8633240486794842.\u001b[0m\n",
      "\u001b[32m[I 2021-07-12 18:01:26,635]\u001b[0m Trial 111 finished with value: 0.8624150079883999 and parameters: {'iterations': 1000, 'learning_rate': 0.014056815492516856, 'random_strength': 4, 'bagging_temperature': 7, 'max_bin': 5, 'grow_policy': 'Depthwise', 'min_data_in_leaf': 7, 'max_depth': 6, 'l2_leaf_reg': 9.329276723102636, 'one_hot_max_size': 12, 'auto_class_weights': 'Balanced'}. Best is trial 104 with value: 0.8633240486794842.\u001b[0m\n"
     ]
    },
    {
     "name": "stdout",
     "output_type": "stream",
     "text": [
      "Stopped by overfitting detector  (10 iterations wait)\n"
     ]
    },
    {
     "name": "stderr",
     "output_type": "stream",
     "text": [
      "\u001b[32m[I 2021-07-12 18:03:06,681]\u001b[0m Trial 112 finished with value: 0.8628787000476532 and parameters: {'iterations': 1000, 'learning_rate': 0.020925316517294727, 'random_strength': 3, 'bagging_temperature': 7, 'max_bin': 5, 'grow_policy': 'Depthwise', 'min_data_in_leaf': 7, 'max_depth': 6, 'l2_leaf_reg': 64.88190277957806, 'one_hot_max_size': 12, 'auto_class_weights': 'Balanced'}. Best is trial 104 with value: 0.8633240486794842.\u001b[0m\n"
     ]
    },
    {
     "name": "stdout",
     "output_type": "stream",
     "text": [
      "Stopped by overfitting detector  (10 iterations wait)\n"
     ]
    },
    {
     "name": "stderr",
     "output_type": "stream",
     "text": [
      "\u001b[32m[I 2021-07-12 18:04:06,401]\u001b[0m Trial 113 finished with value: 0.8626069864509687 and parameters: {'iterations': 1000, 'learning_rate': 0.04126524586303772, 'random_strength': 3, 'bagging_temperature': 7, 'max_bin': 5, 'grow_policy': 'Depthwise', 'min_data_in_leaf': 6, 'max_depth': 6, 'l2_leaf_reg': 64.53219849993484, 'one_hot_max_size': 12, 'auto_class_weights': 'Balanced'}. Best is trial 104 with value: 0.8633240486794842.\u001b[0m\n"
     ]
    },
    {
     "name": "stdout",
     "output_type": "stream",
     "text": [
      "Stopped by overfitting detector  (10 iterations wait)\n"
     ]
    },
    {
     "name": "stderr",
     "output_type": "stream",
     "text": [
      "\u001b[32m[I 2021-07-12 18:04:51,403]\u001b[0m Trial 114 finished with value: 0.8625312257315928 and parameters: {'iterations': 1000, 'learning_rate': 0.04170702504113799, 'random_strength': 3, 'bagging_temperature': 7, 'max_bin': 5, 'grow_policy': 'Depthwise', 'min_data_in_leaf': 8, 'max_depth': 6, 'l2_leaf_reg': 66.07403985524569, 'one_hot_max_size': 12, 'auto_class_weights': 'Balanced'}. Best is trial 104 with value: 0.8633240486794842.\u001b[0m\n"
     ]
    },
    {
     "name": "stdout",
     "output_type": "stream",
     "text": [
      "Stopped by overfitting detector  (10 iterations wait)\n"
     ]
    },
    {
     "name": "stderr",
     "output_type": "stream",
     "text": [
      "\u001b[32m[I 2021-07-12 18:05:43,844]\u001b[0m Trial 115 finished with value: 0.8621218634070361 and parameters: {'iterations': 1000, 'learning_rate': 0.04412057515003767, 'random_strength': 3, 'bagging_temperature': 7, 'max_bin': 5, 'grow_policy': 'Depthwise', 'min_data_in_leaf': 8, 'max_depth': 7, 'l2_leaf_reg': 60.9455125774011, 'one_hot_max_size': 12, 'auto_class_weights': 'Balanced'}. Best is trial 104 with value: 0.8633240486794842.\u001b[0m\n"
     ]
    },
    {
     "name": "stdout",
     "output_type": "stream",
     "text": [
      "Stopped by overfitting detector  (10 iterations wait)\n"
     ]
    },
    {
     "name": "stderr",
     "output_type": "stream",
     "text": [
      "\u001b[32m[I 2021-07-12 18:06:29,341]\u001b[0m Trial 116 finished with value: 0.8624992631216694 and parameters: {'iterations': 1000, 'learning_rate': 0.05379884381093884, 'random_strength': 3, 'bagging_temperature': 8, 'max_bin': 5, 'grow_policy': 'Depthwise', 'min_data_in_leaf': 8, 'max_depth': 6, 'l2_leaf_reg': 65.2383524798895, 'one_hot_max_size': 12, 'auto_class_weights': 'Balanced'}. Best is trial 104 with value: 0.8633240486794842.\u001b[0m\n"
     ]
    },
    {
     "name": "stdout",
     "output_type": "stream",
     "text": [
      "Stopped by overfitting detector  (10 iterations wait)\n"
     ]
    },
    {
     "name": "stderr",
     "output_type": "stream",
     "text": [
      "\u001b[32m[I 2021-07-12 18:07:31,948]\u001b[0m Trial 117 finished with value: 0.8623520903897475 and parameters: {'iterations': 1200, 'learning_rate': 0.040900707807954725, 'random_strength': 3, 'bagging_temperature': 7, 'max_bin': 5, 'grow_policy': 'Depthwise', 'min_data_in_leaf': 9, 'max_depth': 6, 'l2_leaf_reg': 99.33737995494862, 'one_hot_max_size': 12, 'auto_class_weights': 'Balanced'}. Best is trial 104 with value: 0.8633240486794842.\u001b[0m\n"
     ]
    },
    {
     "name": "stdout",
     "output_type": "stream",
     "text": [
      "Stopped by overfitting detector  (10 iterations wait)\n"
     ]
    },
    {
     "name": "stderr",
     "output_type": "stream",
     "text": [
      "\u001b[32m[I 2021-07-12 18:09:07,409]\u001b[0m Trial 118 finished with value: 0.8627157463545865 and parameters: {'iterations': 1000, 'learning_rate': 0.02136202421239146, 'random_strength': 3, 'bagging_temperature': 7, 'max_bin': 5, 'grow_policy': 'Depthwise', 'min_data_in_leaf': 8, 'max_depth': 6, 'l2_leaf_reg': 23.322975418956123, 'one_hot_max_size': 12, 'auto_class_weights': 'Balanced'}. Best is trial 104 with value: 0.8633240486794842.\u001b[0m\n",
      "\u001b[32m[I 2021-07-12 18:11:39,675]\u001b[0m Trial 119 finished with value: 0.8545425831812642 and parameters: {'iterations': 1000, 'learning_rate': 0.002744646577248641, 'random_strength': 3, 'bagging_temperature': 7, 'max_bin': 5, 'grow_policy': 'Depthwise', 'min_data_in_leaf': 8, 'max_depth': 7, 'l2_leaf_reg': 22.4230221621813, 'one_hot_max_size': 12, 'auto_class_weights': 'Balanced'}. Best is trial 104 with value: 0.8633240486794842.\u001b[0m\n"
     ]
    },
    {
     "name": "stdout",
     "output_type": "stream",
     "text": [
      "Stopped by overfitting detector  (10 iterations wait)\n"
     ]
    },
    {
     "name": "stderr",
     "output_type": "stream",
     "text": [
      "\u001b[32m[I 2021-07-12 18:13:26,992]\u001b[0m Trial 120 finished with value: 0.8630606739105376 and parameters: {'iterations': 1000, 'learning_rate': 0.02034562952154903, 'random_strength': 4, 'bagging_temperature': 8, 'max_bin': 5, 'grow_policy': 'Depthwise', 'min_data_in_leaf': 9, 'max_depth': 6, 'l2_leaf_reg': 4.618287482794012, 'one_hot_max_size': 12, 'auto_class_weights': 'Balanced'}. Best is trial 104 with value: 0.8633240486794842.\u001b[0m\n"
     ]
    },
    {
     "name": "stdout",
     "output_type": "stream",
     "text": [
      "Stopped by overfitting detector  (10 iterations wait)\n"
     ]
    },
    {
     "name": "stderr",
     "output_type": "stream",
     "text": [
      "\u001b[32m[I 2021-07-12 18:15:10,077]\u001b[0m Trial 121 finished with value: 0.8627678565027594 and parameters: {'iterations': 1000, 'learning_rate': 0.02029318114654827, 'random_strength': 4, 'bagging_temperature': 9, 'max_bin': 5, 'grow_policy': 'Depthwise', 'min_data_in_leaf': 9, 'max_depth': 6, 'l2_leaf_reg': 5.541237292668844, 'one_hot_max_size': 12, 'auto_class_weights': 'Balanced'}. Best is trial 104 with value: 0.8633240486794842.\u001b[0m\n"
     ]
    },
    {
     "name": "stdout",
     "output_type": "stream",
     "text": [
      "Stopped by overfitting detector  (10 iterations wait)\n"
     ]
    },
    {
     "name": "stderr",
     "output_type": "stream",
     "text": [
      "\u001b[32m[I 2021-07-12 18:16:39,318]\u001b[0m Trial 122 finished with value: 0.8625818134634932 and parameters: {'iterations': 1000, 'learning_rate': 0.022047332712499465, 'random_strength': 4, 'bagging_temperature': 9, 'max_bin': 5, 'grow_policy': 'Depthwise', 'min_data_in_leaf': 10, 'max_depth': 6, 'l2_leaf_reg': 3.5882748197317977, 'one_hot_max_size': 12, 'auto_class_weights': 'Balanced'}. Best is trial 104 with value: 0.8633240486794842.\u001b[0m\n"
     ]
    },
    {
     "name": "stdout",
     "output_type": "stream",
     "text": [
      "Stopped by overfitting detector  (10 iterations wait)\n"
     ]
    },
    {
     "name": "stderr",
     "output_type": "stream",
     "text": [
      "\u001b[32m[I 2021-07-12 18:18:24,395]\u001b[0m Trial 123 finished with value: 0.8627692862559175 and parameters: {'iterations': 1000, 'learning_rate': 0.02070635762534885, 'random_strength': 5, 'bagging_temperature': 9, 'max_bin': 5, 'grow_policy': 'Depthwise', 'min_data_in_leaf': 10, 'max_depth': 6, 'l2_leaf_reg': 3.657248646659959, 'one_hot_max_size': 12, 'auto_class_weights': 'Balanced'}. Best is trial 104 with value: 0.8633240486794842.\u001b[0m\n"
     ]
    },
    {
     "name": "stdout",
     "output_type": "stream",
     "text": [
      "Stopped by overfitting detector  (10 iterations wait)\n"
     ]
    },
    {
     "name": "stderr",
     "output_type": "stream",
     "text": [
      "\u001b[32m[I 2021-07-12 18:20:01,267]\u001b[0m Trial 124 finished with value: 0.8623034444845551 and parameters: {'iterations': 1000, 'learning_rate': 0.01975059672874455, 'random_strength': 5, 'bagging_temperature': 9, 'max_bin': 5, 'grow_policy': 'Depthwise', 'min_data_in_leaf': 10, 'max_depth': 6, 'l2_leaf_reg': 2.8188640267065233, 'one_hot_max_size': 12, 'auto_class_weights': 'Balanced'}. Best is trial 104 with value: 0.8633240486794842.\u001b[0m\n",
      "\u001b[32m[I 2021-07-12 18:22:11,082]\u001b[0m Trial 125 finished with value: 0.8602170983376194 and parameters: {'iterations': 1000, 'learning_rate': 0.010525873060160382, 'random_strength': 5, 'bagging_temperature': 10, 'max_bin': 5, 'grow_policy': 'Depthwise', 'min_data_in_leaf': 10, 'max_depth': 6, 'l2_leaf_reg': 0.9039221161324895, 'one_hot_max_size': 12, 'auto_class_weights': 'Balanced'}. Best is trial 104 with value: 0.8633240486794842.\u001b[0m\n",
      "\u001b[32m[I 2021-07-12 18:24:43,364]\u001b[0m Trial 126 finished with value: 0.8577840046209999 and parameters: {'iterations': 1000, 'learning_rate': 0.004547868859622807, 'random_strength': 4, 'bagging_temperature': 9, 'max_bin': 5, 'grow_policy': 'Depthwise', 'min_data_in_leaf': 10, 'max_depth': 7, 'l2_leaf_reg': 4.396778615433874, 'one_hot_max_size': 12, 'auto_class_weights': 'Balanced'}. Best is trial 104 with value: 0.8633240486794842.\u001b[0m\n"
     ]
    },
    {
     "name": "stdout",
     "output_type": "stream",
     "text": [
      "Stopped by overfitting detector  (10 iterations wait)\n"
     ]
    },
    {
     "name": "stderr",
     "output_type": "stream",
     "text": [
      "\u001b[32m[I 2021-07-12 18:26:37,722]\u001b[0m Trial 127 finished with value: 0.8625818905843865 and parameters: {'iterations': 1000, 'learning_rate': 0.0177345182623174, 'random_strength': 5, 'bagging_temperature': 10, 'max_bin': 5, 'grow_policy': 'Depthwise', 'min_data_in_leaf': 10, 'max_depth': 6, 'l2_leaf_reg': 5.92678962985893, 'one_hot_max_size': 12, 'auto_class_weights': 'SqrtBalanced'}. Best is trial 104 with value: 0.8633240486794842.\u001b[0m\n",
      "\u001b[32m[I 2021-07-12 18:27:17,157]\u001b[0m Trial 128 finished with value: 0.8561632164523438 and parameters: {'iterations': 300, 'learning_rate': 0.019305055814978586, 'random_strength': 6, 'bagging_temperature': 10, 'max_bin': 5, 'grow_policy': 'Depthwise', 'min_data_in_leaf': 10, 'max_depth': 6, 'l2_leaf_reg': 1.7407308363578555, 'one_hot_max_size': 12, 'auto_class_weights': 'SqrtBalanced'}. Best is trial 104 with value: 0.8633240486794842.\u001b[0m\n",
      "\u001b[32m[I 2021-07-12 18:27:43,985]\u001b[0m Trial 129 finished with value: 0.8450732357773969 and parameters: {'iterations': 200, 'learning_rate': 0.007876026933491398, 'random_strength': 5, 'bagging_temperature': 9, 'max_bin': 5, 'grow_policy': 'Depthwise', 'min_data_in_leaf': 9, 'max_depth': 6, 'l2_leaf_reg': 0.4548307854951492, 'one_hot_max_size': 12, 'auto_class_weights': 'SqrtBalanced'}. Best is trial 104 with value: 0.8633240486794842.\u001b[0m\n",
      "\u001b[32m[I 2021-07-12 18:35:10,363]\u001b[0m Trial 130 finished with value: 0.8450177319164484 and parameters: {'iterations': 1000, 'learning_rate': 0.0019457259701618282, 'random_strength': 5, 'bagging_temperature': 9, 'max_bin': 5, 'grow_policy': 'Lossguide', 'min_data_in_leaf': 10, 'max_depth': 7, 'l2_leaf_reg': 5.856499569432073, 'one_hot_max_size': 12, 'auto_class_weights': 'SqrtBalanced'}. Best is trial 104 with value: 0.8633240486794842.\u001b[0m\n"
     ]
    },
    {
     "name": "stdout",
     "output_type": "stream",
     "text": [
      "Stopped by overfitting detector  (10 iterations wait)\n"
     ]
    },
    {
     "name": "stderr",
     "output_type": "stream",
     "text": [
      "\u001b[32m[I 2021-07-12 18:36:19,430]\u001b[0m Trial 131 finished with value: 0.8623562388839184 and parameters: {'iterations': 1000, 'learning_rate': 0.028833287120908276, 'random_strength': 4, 'bagging_temperature': 8, 'max_bin': 5, 'grow_policy': 'Depthwise', 'min_data_in_leaf': 10, 'max_depth': 6, 'l2_leaf_reg': 8.182424075245972, 'one_hot_max_size': 12, 'auto_class_weights': 'SqrtBalanced'}. Best is trial 104 with value: 0.8633240486794842.\u001b[0m\n"
     ]
    },
    {
     "name": "stdout",
     "output_type": "stream",
     "text": [
      "Stopped by overfitting detector  (10 iterations wait)\n"
     ]
    },
    {
     "name": "stderr",
     "output_type": "stream",
     "text": [
      "\u001b[32m[I 2021-07-12 18:37:51,735]\u001b[0m Trial 132 finished with value: 0.8621561684985121 and parameters: {'iterations': 1000, 'learning_rate': 0.022656168780415854, 'random_strength': 5, 'bagging_temperature': 10, 'max_bin': 5, 'grow_policy': 'Depthwise', 'min_data_in_leaf': 9, 'max_depth': 6, 'l2_leaf_reg': 3.848811346290558, 'one_hot_max_size': 12, 'auto_class_weights': 'SqrtBalanced'}. Best is trial 104 with value: 0.8633240486794842.\u001b[0m\n"
     ]
    },
    {
     "name": "stdout",
     "output_type": "stream",
     "text": [
      "Stopped by overfitting detector  (10 iterations wait)\n"
     ]
    },
    {
     "name": "stderr",
     "output_type": "stream",
     "text": [
      "\u001b[32m[I 2021-07-12 18:39:50,667]\u001b[0m Trial 133 finished with value: 0.8624540950998878 and parameters: {'iterations': 1000, 'learning_rate': 0.015512040998390894, 'random_strength': 4, 'bagging_temperature': 8, 'max_bin': 5, 'grow_policy': 'Depthwise', 'min_data_in_leaf': 9, 'max_depth': 6, 'l2_leaf_reg': 2.284874770731695, 'one_hot_max_size': 12, 'auto_class_weights': 'Balanced'}. Best is trial 104 with value: 0.8633240486794842.\u001b[0m\n"
     ]
    },
    {
     "name": "stdout",
     "output_type": "stream",
     "text": [
      "Stopped by overfitting detector  (10 iterations wait)\n"
     ]
    },
    {
     "name": "stderr",
     "output_type": "stream",
     "text": [
      "\u001b[32m[I 2021-07-12 18:40:00,945]\u001b[0m Trial 134 finished with value: 0.856189099988185 and parameters: {'iterations': 1000, 'learning_rate': 0.2650796261073718, 'random_strength': 5, 'bagging_temperature': 9, 'max_bin': 5, 'grow_policy': 'Depthwise', 'min_data_in_leaf': 10, 'max_depth': 6, 'l2_leaf_reg': 0.7959135589588926, 'one_hot_max_size': 12, 'auto_class_weights': 'Balanced'}. Best is trial 104 with value: 0.8633240486794842.\u001b[0m\n"
     ]
    },
    {
     "name": "stdout",
     "output_type": "stream",
     "text": [
      "Stopped by overfitting detector  (10 iterations wait)\n"
     ]
    },
    {
     "name": "stderr",
     "output_type": "stream",
     "text": [
      "\u001b[32m[I 2021-07-12 18:41:17,424]\u001b[0m Trial 135 finished with value: 0.8626592890079007 and parameters: {'iterations': 1000, 'learning_rate': 0.031021562930801723, 'random_strength': 4, 'bagging_temperature': 8, 'max_bin': 5, 'grow_policy': 'Depthwise', 'min_data_in_leaf': 10, 'max_depth': 6, 'l2_leaf_reg': 11.128103854197983, 'one_hot_max_size': 12, 'auto_class_weights': 'Balanced'}. Best is trial 104 with value: 0.8633240486794842.\u001b[0m\n"
     ]
    },
    {
     "name": "stdout",
     "output_type": "stream",
     "text": [
      "Stopped by overfitting detector  (10 iterations wait)\n"
     ]
    },
    {
     "name": "stderr",
     "output_type": "stream",
     "text": [
      "\u001b[32m[I 2021-07-12 18:42:18,756]\u001b[0m Trial 136 finished with value: 0.8625689361105365 and parameters: {'iterations': 1000, 'learning_rate': 0.03404034585986181, 'random_strength': 4, 'bagging_temperature': 8, 'max_bin': 5, 'grow_policy': 'Depthwise', 'min_data_in_leaf': 10, 'max_depth': 6, 'l2_leaf_reg': 5.903199372590967, 'one_hot_max_size': 12, 'auto_class_weights': 'Balanced'}. Best is trial 104 with value: 0.8633240486794842.\u001b[0m\n"
     ]
    },
    {
     "name": "stdout",
     "output_type": "stream",
     "text": [
      "Stopped by overfitting detector  (10 iterations wait)\n"
     ]
    },
    {
     "name": "stderr",
     "output_type": "stream",
     "text": [
      "\u001b[32m[I 2021-07-12 18:44:05,485]\u001b[0m Trial 137 finished with value: 0.8629793290745129 and parameters: {'iterations': 1000, 'learning_rate': 0.020446990382958653, 'random_strength': 4, 'bagging_temperature': 8, 'max_bin': 5, 'grow_policy': 'Depthwise', 'min_data_in_leaf': 10, 'max_depth': 6, 'l2_leaf_reg': 11.610118889220594, 'one_hot_max_size': 12, 'auto_class_weights': 'SqrtBalanced'}. Best is trial 104 with value: 0.8633240486794842.\u001b[0m\n",
      "\u001b[32m[I 2021-07-12 18:45:22,418]\u001b[0m Trial 138 finished with value: 0.856480654475758 and parameters: {'iterations': 500, 'learning_rate': 0.009577161870397971, 'random_strength': 6, 'bagging_temperature': 8, 'max_bin': 5, 'grow_policy': 'Depthwise', 'min_data_in_leaf': 9, 'max_depth': 7, 'l2_leaf_reg': 10.496497524983074, 'one_hot_max_size': 12, 'auto_class_weights': 'SqrtBalanced'}. Best is trial 104 with value: 0.8633240486794842.\u001b[0m\n"
     ]
    },
    {
     "name": "stdout",
     "output_type": "stream",
     "text": [
      "Stopped by overfitting detector  (10 iterations wait)\n"
     ]
    },
    {
     "name": "stderr",
     "output_type": "stream",
     "text": [
      "\u001b[32m[I 2021-07-12 18:47:26,509]\u001b[0m Trial 139 finished with value: 0.8625295982577772 and parameters: {'iterations': 1000, 'learning_rate': 0.015579279312971862, 'random_strength': 4, 'bagging_temperature': 8, 'max_bin': 5, 'grow_policy': 'Depthwise', 'min_data_in_leaf': 10, 'max_depth': 6, 'l2_leaf_reg': 14.782075101453286, 'one_hot_max_size': 12, 'auto_class_weights': 'SqrtBalanced'}. Best is trial 104 with value: 0.8633240486794842.\u001b[0m\n",
      "\u001b[32m[I 2021-07-12 18:49:39,583]\u001b[0m Trial 140 finished with value: 0.841018020835185 and parameters: {'iterations': 1000, 'learning_rate': 0.001079529371927762, 'random_strength': 5, 'bagging_temperature': 10, 'max_bin': 5, 'grow_policy': 'Depthwise', 'min_data_in_leaf': 9, 'max_depth': 6, 'l2_leaf_reg': 8.516572827554082, 'one_hot_max_size': 12, 'auto_class_weights': 'SqrtBalanced'}. Best is trial 104 with value: 0.8633240486794842.\u001b[0m\n"
     ]
    },
    {
     "name": "stdout",
     "output_type": "stream",
     "text": [
      "Stopped by overfitting detector  (10 iterations wait)\n"
     ]
    },
    {
     "name": "stderr",
     "output_type": "stream",
     "text": [
      "\u001b[32m[I 2021-07-12 18:51:02,763]\u001b[0m Trial 141 finished with value: 0.8622363383557581 and parameters: {'iterations': 1000, 'learning_rate': 0.023270216914073452, 'random_strength': 4, 'bagging_temperature': 9, 'max_bin': 5, 'grow_policy': 'Depthwise', 'min_data_in_leaf': 10, 'max_depth': 6, 'l2_leaf_reg': 3.02811654568793, 'one_hot_max_size': 12, 'auto_class_weights': 'SqrtBalanced'}. Best is trial 104 with value: 0.8633240486794842.\u001b[0m\n"
     ]
    },
    {
     "name": "stdout",
     "output_type": "stream",
     "text": [
      "Stopped by overfitting detector  (10 iterations wait)\n"
     ]
    },
    {
     "name": "stderr",
     "output_type": "stream",
     "text": [
      "\u001b[32m[I 2021-07-12 18:52:11,085]\u001b[0m Trial 142 finished with value: 0.8621253311912822 and parameters: {'iterations': 1000, 'learning_rate': 0.03075381130574005, 'random_strength': 4, 'bagging_temperature': 9, 'max_bin': 5, 'grow_policy': 'Depthwise', 'min_data_in_leaf': 10, 'max_depth': 6, 'l2_leaf_reg': 0.29777593133876384, 'one_hot_max_size': 12, 'auto_class_weights': 'SqrtBalanced'}. Best is trial 104 with value: 0.8633240486794842.\u001b[0m\n"
     ]
    },
    {
     "name": "stdout",
     "output_type": "stream",
     "text": [
      "Stopped by overfitting detector  (10 iterations wait)\n"
     ]
    },
    {
     "name": "stderr",
     "output_type": "stream",
     "text": [
      "\u001b[32m[I 2021-07-12 18:53:58,016]\u001b[0m Trial 143 finished with value: 0.8626573124571169 and parameters: {'iterations': 1000, 'learning_rate': 0.02053826903378038, 'random_strength': 4, 'bagging_temperature': 8, 'max_bin': 5, 'grow_policy': 'Depthwise', 'min_data_in_leaf': 10, 'max_depth': 6, 'l2_leaf_reg': 5.980649624639963, 'one_hot_max_size': 12, 'auto_class_weights': 'Balanced'}. Best is trial 104 with value: 0.8633240486794842.\u001b[0m\n"
     ]
    },
    {
     "name": "stdout",
     "output_type": "stream",
     "text": [
      "Stopped by overfitting detector  (10 iterations wait)\n"
     ]
    },
    {
     "name": "stderr",
     "output_type": "stream",
     "text": [
      "\u001b[32m[I 2021-07-12 18:55:34,022]\u001b[0m Trial 144 finished with value: 0.8622979311604271 and parameters: {'iterations': 1000, 'learning_rate': 0.020112087887635167, 'random_strength': 4, 'bagging_temperature': 8, 'max_bin': 5, 'grow_policy': 'Depthwise', 'min_data_in_leaf': 9, 'max_depth': 6, 'l2_leaf_reg': 1.178321291165751, 'one_hot_max_size': 12, 'auto_class_weights': 'Balanced'}. Best is trial 104 with value: 0.8633240486794842.\u001b[0m\n",
      "\u001b[32m[I 2021-07-12 18:58:18,782]\u001b[0m Trial 145 finished with value: 0.8602651478018901 and parameters: {'iterations': 1000, 'learning_rate': 0.011641960089661153, 'random_strength': 5, 'bagging_temperature': 8, 'max_bin': 5, 'grow_policy': 'SymmetricTree', 'min_data_in_leaf': 10, 'max_depth': 7, 'l2_leaf_reg': 6.209335248639217, 'one_hot_max_size': 12, 'auto_class_weights': 'Balanced'}. Best is trial 104 with value: 0.8633240486794842.\u001b[0m\n",
      "\u001b[32m[I 2021-07-12 18:58:33,789]\u001b[0m Trial 146 finished with value: 0.853758733275531 and parameters: {'iterations': 100, 'learning_rate': 0.035900976884641986, 'random_strength': 4, 'bagging_temperature': 7, 'max_bin': 5, 'grow_policy': 'Depthwise', 'min_data_in_leaf': 10, 'max_depth': 6, 'l2_leaf_reg': 15.123729686466213, 'one_hot_max_size': 12, 'auto_class_weights': 'Balanced'}. Best is trial 104 with value: 0.8633240486794842.\u001b[0m\n"
     ]
    },
    {
     "name": "stdout",
     "output_type": "stream",
     "text": [
      "Stopped by overfitting detector  (10 iterations wait)\n"
     ]
    },
    {
     "name": "stderr",
     "output_type": "stream",
     "text": [
      "\u001b[32m[I 2021-07-12 18:59:24,974]\u001b[0m Trial 147 finished with value: 0.8621145105922151 and parameters: {'iterations': 1000, 'learning_rate': 0.027024281378316056, 'random_strength': 4, 'bagging_temperature': 8, 'max_bin': 5, 'grow_policy': 'Depthwise', 'min_data_in_leaf': 9, 'max_depth': 6, 'l2_leaf_reg': 19.566819769739897, 'one_hot_max_size': 1024, 'auto_class_weights': 'SqrtBalanced'}. Best is trial 104 with value: 0.8633240486794842.\u001b[0m\n"
     ]
    }
   ],
   "source": [
    "sampler = optuna.samplers.TPESampler(seed=42)\n",
    "study = optuna.create_study(direction=\"maximize\", sampler=sampler)\n",
    "study.optimize(objective, n_trials=150)"
   ]
  },
  {
   "cell_type": "code",
   "execution_count": null,
   "metadata": {},
   "outputs": [],
   "source": [
    "trial = study.best_trial\n",
    "final_model = CatBoostClassifier(verbose=False,  cat_features=categorical_features_indices, \n",
    "                          **trial.params)\n",
    "trial.params"
   ]
  },
  {
   "cell_type": "code",
   "execution_count": null,
   "metadata": {},
   "outputs": [],
   "source": [
    "params = trial.params\n",
    "final_seas_model = CatBoostClassifier(cat_features=categorical_features_indices,\n",
    "                                     verbose=False,\n",
    "                                     **params).fit(seas_train_trans, seas_labels)"
   ]
  },
  {
   "cell_type": "markdown",
   "metadata": {},
   "source": [
    "### Train Accuracy"
   ]
  },
  {
   "cell_type": "code",
   "execution_count": null,
   "metadata": {},
   "outputs": [],
   "source": [
    "h1n1_train_data = train_test.copy()\n",
    "h1n1_train_data[num_cols] = h1n1_scaler.transform(h1n1_train_data[num_cols])\n",
    "\n",
    "seas_train_data = train_test.copy()\n",
    "seas_train_data[num_cols] = seas_scaler.transform(seas_train_data[num_cols])"
   ]
  },
  {
   "cell_type": "code",
   "execution_count": null,
   "metadata": {},
   "outputs": [],
   "source": [
    "y_predicted_h1n1 = final_h1n1_model.predict_proba(h1n1_train_data)[:,1].reshape(-1,1)\n",
    "y_predicted_seas = final_seas_model.predict_proba(seas_train_data)[:,1].reshape(-1,1)\n",
    "\n",
    "y_true = np.array(labels)\n",
    "\n",
    "y_predicted = np.concatenate((y_predicted_h1n1, y_predicted_seas), axis=1)"
   ]
  },
  {
   "cell_type": "code",
   "execution_count": null,
   "metadata": {},
   "outputs": [],
   "source": [
    "roc_auc_score(np.array(labels), y_predicted)"
   ]
  },
  {
   "cell_type": "markdown",
   "metadata": {},
   "source": [
    "# Submission"
   ]
  },
  {
   "cell_type": "code",
   "execution_count": null,
   "metadata": {},
   "outputs": [],
   "source": [
    "test = pd.read_csv('../Data/test_set_features.csv', index_col='respondent_id')\n",
    "full_test = test.copy()"
   ]
  },
  {
   "cell_type": "code",
   "execution_count": null,
   "metadata": {},
   "outputs": [],
   "source": [
    "num_cols = list(test.select_dtypes('number').columns)\n",
    "\n",
    "cat_cols = [\n",
    "    'race',\n",
    "    'sex',\n",
    "    'marital_status',\n",
    "    'rent_or_own',\n",
    "    'hhs_geo_region',\n",
    "    'census_msa',\n",
    "    'employment_industry',\n",
    "    'employment_occupation'\n",
    "]\n",
    "\n",
    "ord_cols = [\n",
    "    'age_group',\n",
    "    'education',\n",
    "    'income_poverty',\n",
    "    'employment_status'\n",
    "]\n",
    "\n",
    "\n",
    "#Impute Test\n",
    "for col in num_cols:\n",
    "    test[col] = test[col].fillna(value=-1)\n",
    "\n",
    "\n",
    "for col in (cat_cols+ord_cols):\n",
    "    test[col] = test[col].fillna(value='None')\n",
    "\n",
    "    \n",
    "test['age_group'] = test['age_group'].map({\n",
    "    '18 - 34 Years': 1,\n",
    "    '35 - 44 Years': 2,\n",
    "    '45 - 54 Years': 3,\n",
    "    '55 - 64 Years': 4,\n",
    "    '65+ Years': 5\n",
    "})\n",
    "    \n",
    "test['education'] = test['education'].map({\n",
    "    '< 12 Years': 1,\n",
    "    '12 Years': 2,\n",
    "    'Some College': 3,\n",
    "    'College Graduate': 4,\n",
    "    'None': -1\n",
    "})\n",
    "\n",
    "test['income_poverty'] = test['income_poverty'].map({\n",
    "    'None': -1,\n",
    "    'Below Poverty': 1,\n",
    "    '<= $75,000, Above Poverty': 2,\n",
    "    '> $75,000': 3\n",
    "})\n",
    "\n",
    "test['employment_status'] = test['employment_status'].map({\n",
    "    'None': -1,\n",
    "    'Unemployed': 1,\n",
    "    'Employed': 2,\n",
    "    'Not in Labor Force': 3\n",
    "})"
   ]
  },
  {
   "cell_type": "code",
   "execution_count": null,
   "metadata": {},
   "outputs": [],
   "source": [
    "test_h1n1 = test.copy()\n",
    "test_seas = test.copy()\n",
    "\n",
    "test_h1n1[num_cols] = h1n1_scaler.transform(test_h1n1[num_cols])\n",
    "test_seas[num_cols] = seas_scaler.transform(test_seas[num_cols])"
   ]
  },
  {
   "cell_type": "code",
   "execution_count": null,
   "metadata": {},
   "outputs": [],
   "source": [
    "y_h1n1 = final_h1n1_model.predict_proba(test_h1n1)[:,1].reshape(-1,1)\n",
    "y_seas = final_seas_model.predict_proba(test_seas)[:,1].reshape(-1,1)\n",
    "\n",
    "y_comb = np.concatenate((y_h1n1, y_seas), axis=1)"
   ]
  },
  {
   "cell_type": "code",
   "execution_count": null,
   "metadata": {},
   "outputs": [],
   "source": [
    "y_comb"
   ]
  },
  {
   "cell_type": "code",
   "execution_count": null,
   "metadata": {},
   "outputs": [],
   "source": [
    "results = pd.DataFrame(y_comb, columns=['h1n1_vaccine', 'seasonal_vaccine'], index=test.index)\n",
    "\n",
    "submission = pd.concat([full_test, results], axis=1)\n",
    "submission = submission[['h1n1_vaccine', 'seasonal_vaccine']]"
   ]
  },
  {
   "cell_type": "code",
   "execution_count": null,
   "metadata": {},
   "outputs": [],
   "source": [
    "submission"
   ]
  },
  {
   "cell_type": "code",
   "execution_count": null,
   "metadata": {},
   "outputs": [],
   "source": [
    "today = datetime.today().date()\n",
    "\n",
    "submission.to_csv(f'../Submissions/Neural Network Submission {today}.csv')"
   ]
  },
  {
   "cell_type": "code",
   "execution_count": null,
   "metadata": {},
   "outputs": [],
   "source": [
    "submission"
   ]
  },
  {
   "cell_type": "code",
   "execution_count": null,
   "metadata": {},
   "outputs": [],
   "source": []
  },
  {
   "cell_type": "code",
   "execution_count": null,
   "metadata": {},
   "outputs": [],
   "source": []
  },
  {
   "cell_type": "code",
   "execution_count": null,
   "metadata": {},
   "outputs": [],
   "source": []
  },
  {
   "cell_type": "code",
   "execution_count": null,
   "metadata": {},
   "outputs": [],
   "source": []
  },
  {
   "cell_type": "code",
   "execution_count": null,
   "metadata": {},
   "outputs": [],
   "source": []
  }
 ],
 "metadata": {
  "kernelspec": {
   "display_name": "Python 3",
   "language": "python",
   "name": "python3"
  },
  "language_info": {
   "codemirror_mode": {
    "name": "ipython",
    "version": 3
   },
   "file_extension": ".py",
   "mimetype": "text/x-python",
   "name": "python",
   "nbconvert_exporter": "python",
   "pygments_lexer": "ipython3",
   "version": "3.8.3"
  }
 },
 "nbformat": 4,
 "nbformat_minor": 4
}
