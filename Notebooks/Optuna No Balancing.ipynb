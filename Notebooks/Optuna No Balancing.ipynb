{
 "cells": [
  {
   "cell_type": "code",
   "execution_count": 1,
   "metadata": {},
   "outputs": [],
   "source": [
    "import pandas as pd\n",
    "import numpy as np\n",
    "import tensorflow as tf\n",
    "from datetime import datetime\n",
    "import matplotlib.pyplot as plt\n",
    "import seaborn as sns\n",
    "from sklearn.pipeline import Pipeline\n",
    "from sklearn.preprocessing import StandardScaler, MinMaxScaler, OneHotEncoder\n",
    "from sklearn.model_selection import train_test_split\n",
    "from sklearn.impute import SimpleImputer\n",
    "from sklearn.compose import ColumnTransformer\n",
    "from sklearn.metrics import roc_auc_score\n",
    "from sklearn.model_selection import RandomizedSearchCV\n",
    "from sklearn.metrics import matthews_corrcoef\n",
    "from sklearn.ensemble import RandomForestRegressor, RandomForestClassifier\n",
    "from sklearn.metrics import r2_score\n",
    "import scipy.stats as stats\n",
    "from tensorflow import keras\n",
    "from keras.callbacks import ModelCheckpoint\n",
    "from keras.models import load_model\n",
    "from datetime import datetime\n",
    "from category_encoders import OrdinalEncoder, TargetEncoder\n",
    "from catboost import CatBoostClassifier, CatBoostRegressor\n",
    "from mlxtend.feature_selection import SequentialFeatureSelector as SFS\n",
    "from mlxtend.plotting import plot_sequential_feature_selection as plot_sfs\n",
    "\n",
    "import warnings\n",
    "warnings.filterwarnings(\"ignore\")"
   ]
  },
  {
   "cell_type": "code",
   "execution_count": 2,
   "metadata": {},
   "outputs": [],
   "source": [
    "#Functions\n",
    "\n",
    "def evaluate(model, X_test, y_test):\n",
    "    predictions = model.predict(X_test)\n",
    "    errors = abs(predictions - y_test)\n",
    "    mape = 100 * np.mean(errors / y_test)\n",
    "    accuracy = 100 - mape\n",
    "    roc = roc_auc_score(y_test, predictions)\n",
    "    print('Model Performance')\n",
    "    print('Average Error: {:0.4f} degrees'.format(np.mean(errors)))\n",
    "    print('Accuracy = {:0.2f}%'.format(accuracy))\n",
    "    print(f'AUC = {roc}')\n",
    "    return accuracy"
   ]
  },
  {
   "cell_type": "code",
   "execution_count": 3,
   "metadata": {},
   "outputs": [],
   "source": [
    "train = pd.read_csv('../Data/training_set_features.csv', index_col='respondent_id')\n",
    "test = pd.read_csv('../Data/test_set_features.csv', index_col ='respondent_id')\n",
    "labels = pd.read_csv('../Data/training_set_labels.csv', index_col='respondent_id')"
   ]
  },
  {
   "cell_type": "code",
   "execution_count": 4,
   "metadata": {},
   "outputs": [],
   "source": [
    "train.loc[(train['age_group'] == '65+ Years') & (train['employment_status'].isnull()), 'employment_status'] = 'Not in Labor Force'"
   ]
  },
  {
   "cell_type": "code",
   "execution_count": 5,
   "metadata": {},
   "outputs": [],
   "source": [
    "num_cols = list(train.select_dtypes('number').columns)\n",
    "\n",
    "cat_cols = [\n",
    "    'race',\n",
    "    'sex',\n",
    "    'marital_status',\n",
    "    'rent_or_own',\n",
    "    'hhs_geo_region',\n",
    "    'census_msa',\n",
    "    'employment_industry',\n",
    "    'employment_occupation'\n",
    "]\n",
    "\n",
    "ord_cols = [\n",
    "    'age_group',\n",
    "    'education',\n",
    "    'income_poverty',\n",
    "    'employment_status'\n",
    "]\n",
    "\n",
    "\n",
    "\n",
    "\n",
    "#Impute Train\n",
    "for col in num_cols:\n",
    "    train[col] = train[col].fillna(value=-1)\n",
    "    test[col] = test[col].fillna(value=-1)\n",
    "\n",
    "for col in (cat_cols + ord_cols):\n",
    "    train[col] = train[col].fillna(value='None')\n",
    "    test[col] = test[col].fillna(value='None')\n",
    "test_labels = labels.copy()    "
   ]
  },
  {
   "cell_type": "code",
   "execution_count": 6,
   "metadata": {},
   "outputs": [],
   "source": [
    "train['age_group'] = train['age_group'].map({\n",
    "    '18 - 34 Years': 1,\n",
    "    '35 - 44 Years': 2,\n",
    "    '45 - 54 Years': 3,\n",
    "    '55 - 64 Years': 4,\n",
    "    '65+ Years': 5\n",
    "})\n",
    "\n",
    "train['education'] = train['education'].map({\n",
    "    '< 12 Years': 1,\n",
    "    '12 Years': 2,\n",
    "    'Some College': 3,\n",
    "    'College Graduate': 4,\n",
    "    'None': -1\n",
    "})\n",
    "\n",
    "train['income_poverty'] = train['income_poverty'].map({\n",
    "    'None': -1,\n",
    "    'Below Poverty': 1,\n",
    "    '<= $75,000, Above Poverty': 2,\n",
    "    '> $75,000': 3\n",
    "})\n",
    "\n",
    "train['employment_status'] = train['employment_status'].map({\n",
    "    'None': -1,\n",
    "    'Unemployed': 1,\n",
    "    'Employed': 2,\n",
    "    'Not in Labor Force': 3\n",
    "})\n",
    "\n",
    "\n",
    "\n",
    "\n",
    "test['education'] = test['education'].map({\n",
    "    '< 12 Years': 1,\n",
    "    '12 Years': 2,\n",
    "    'Some College': 3,\n",
    "    'College Graduate': 4,\n",
    "    'None': -1\n",
    "})\n",
    "\n",
    "test['income_poverty'] = test['income_poverty'].map({\n",
    "    'None': -1,\n",
    "    'Below Poverty': 1,\n",
    "    '<= $75,000, Above Poverty': 2,\n",
    "    '> $75,000': 3\n",
    "})\n",
    "\n",
    "test['employment_status'] = test['employment_status'].map({\n",
    "    'None': -1,\n",
    "    'Unemployed': 1,\n",
    "    'Employed': 2,\n",
    "    'Not in Labor Force': 3\n",
    "})"
   ]
  },
  {
   "cell_type": "code",
   "execution_count": 7,
   "metadata": {},
   "outputs": [
    {
     "name": "stdout",
     "output_type": "stream",
     "text": [
      "age_group [4 2 1 5 3]\n",
      "education [ 1  2  4  3 -1]\n",
      "income_poverty [ 1  2  3 -1]\n",
      "employment_status [ 3  2  1 -1]\n"
     ]
    }
   ],
   "source": [
    "for x in train[ord_cols].columns:\n",
    "    print(x, train[x].unique())"
   ]
  },
  {
   "cell_type": "code",
   "execution_count": 8,
   "metadata": {},
   "outputs": [],
   "source": [
    "all_cols = train.columns\n",
    "\n",
    "train_test = train.copy()"
   ]
  },
  {
   "cell_type": "code",
   "execution_count": 9,
   "metadata": {},
   "outputs": [],
   "source": [
    "h1n1_labels = labels[['h1n1_vaccine']]\n",
    "seas_labels = labels[['seasonal_vaccine']]"
   ]
  },
  {
   "cell_type": "markdown",
   "metadata": {},
   "source": [
    "# Transformation"
   ]
  },
  {
   "cell_type": "code",
   "execution_count": 10,
   "metadata": {},
   "outputs": [],
   "source": [
    "cat_cols = train.select_dtypes('object').columns"
   ]
  },
  {
   "cell_type": "code",
   "execution_count": null,
   "metadata": {},
   "outputs": [],
   "source": []
  },
  {
   "cell_type": "code",
   "execution_count": 11,
   "metadata": {},
   "outputs": [],
   "source": [
    "h1n1_train = train.copy()\n",
    "seas_train = train.copy()\n",
    "\n",
    "h1n1_scaler = StandardScaler()\n",
    "h1n1_train[num_cols] = h1n1_scaler.fit_transform(h1n1_train[num_cols])\n",
    "\n",
    "seas_scaler = StandardScaler()\n",
    "seas_train[num_cols] = seas_scaler.fit_transform(seas_train[num_cols])\n",
    "\n",
    "h1n1_train_trans = h1n1_train\n",
    "seas_train_trans = seas_train"
   ]
  },
  {
   "cell_type": "code",
   "execution_count": 12,
   "metadata": {},
   "outputs": [],
   "source": [
    "categorical_features_indices = np.where(train.dtypes != float)[0]"
   ]
  },
  {
   "cell_type": "markdown",
   "metadata": {},
   "source": [
    "# H1N1"
   ]
  },
  {
   "cell_type": "markdown",
   "metadata": {},
   "source": [
    "## CatBoost and Optuna"
   ]
  },
  {
   "cell_type": "code",
   "execution_count": 13,
   "metadata": {},
   "outputs": [],
   "source": [
    "X = h1n1_train_trans\n",
    "y = h1n1_labels"
   ]
  },
  {
   "cell_type": "code",
   "execution_count": 14,
   "metadata": {},
   "outputs": [],
   "source": [
    "X_train, X_test, y_train, y_test = train_test_split(X, y, test_size=0.2, random_state=42, shuffle=True)"
   ]
  },
  {
   "cell_type": "code",
   "execution_count": 15,
   "metadata": {},
   "outputs": [],
   "source": [
    "from catboost import CatBoostClassifier\n",
    "from catboost import Pool, cv\n",
    "from sklearn.metrics import roc_curve, roc_auc_score\n",
    "import optuna"
   ]
  },
  {
   "cell_type": "code",
   "execution_count": 16,
   "metadata": {},
   "outputs": [],
   "source": [
    "train_dataset = Pool(data=X_train,\n",
    "                    label=y_train,\n",
    "                    cat_features=categorical_features_indices)"
   ]
  },
  {
   "cell_type": "code",
   "execution_count": 17,
   "metadata": {},
   "outputs": [],
   "source": [
    "def objective(trial):\n",
    "    param = {\n",
    "        'iterations':trial.suggest_categorical('iterations', [100,200,300,500,1000,1200,1500,1700,2000]),\n",
    "        'learning_rate':trial.suggest_float(\"learning_rate\", 0.001, 0.3),\n",
    "        'random_strength':trial.suggest_int(\"random_strength\", 1,10),\n",
    "        'bagging_temperature':trial.suggest_int(\"bagging_temperature\", 0,10),\n",
    "        'max_bin':trial.suggest_categorical('max_bin', [4,5,6,8,10,20,30]),\n",
    "        'grow_policy':trial.suggest_categorical('grow_policy', ['SymmetricTree', 'Depthwise', 'Lossguide']),\n",
    "        'min_data_in_leaf':trial.suggest_int(\"min_data_in_leaf\", 1,10),\n",
    "        'od_type' : \"Iter\",\n",
    "        'od_wait' : 100,\n",
    "        \"depth\": trial.suggest_int(\"max_depth\", 2,10),\n",
    "        \"l2_leaf_reg\": trial.suggest_loguniform(\"l2_leaf_reg\", 1e-8, 100),\n",
    "         'one_hot_max_size':trial.suggest_categorical('one_hot_max_size', [5,10,12,25,100,500,1024]),\n",
    "        'custom_metric' : ['AUC'],\n",
    "        \"loss_function\": \"Logloss\",\n",
    "        'auto_class_weights':trial.suggest_categorical('auto_class_weights', ['Balanced', 'SqrtBalanced']),\n",
    "        }\n",
    "\n",
    "    scores = cv(train_dataset,\n",
    "            param,\n",
    "            fold_count=7, \n",
    "            early_stopping_rounds=8,         \n",
    "            plot=False, verbose=False)\n",
    "\n",
    "    return scores['test-AUC-mean'].max()"
   ]
  },
  {
   "cell_type": "code",
   "execution_count": 18,
   "metadata": {
    "scrolled": true
   },
   "outputs": [
    {
     "name": "stderr",
     "output_type": "stream",
     "text": [
      "\u001b[32m[I 2021-07-12 19:19:43,008]\u001b[0m A new study created in memory with name: no-name-0f64e8c9-31bf-4b43-802a-5340d9a69b62\u001b[0m\n"
     ]
    },
    {
     "name": "stdout",
     "output_type": "stream",
     "text": [
      "Stopped by overfitting detector  (8 iterations wait)\n"
     ]
    },
    {
     "name": "stderr",
     "output_type": "stream",
     "text": [
      "\u001b[32m[I 2021-07-12 19:19:54,512]\u001b[0m Trial 0 finished with value: 0.8617267124560974 and parameters: {'iterations': 200, 'learning_rate': 0.2127137007610176, 'random_strength': 1, 'bagging_temperature': 10, 'max_bin': 4, 'grow_policy': 'Depthwise', 'min_data_in_leaf': 3, 'max_depth': 5, 'l2_leaf_reg': 0.0003636636071695854, 'one_hot_max_size': 5, 'auto_class_weights': 'SqrtBalanced'}. Best is trial 0 with value: 0.8617267124560974.\u001b[0m\n"
     ]
    },
    {
     "name": "stdout",
     "output_type": "stream",
     "text": [
      "Stopped by overfitting detector  (8 iterations wait)\n"
     ]
    },
    {
     "name": "stderr",
     "output_type": "stream",
     "text": [
      "\u001b[32m[I 2021-07-12 19:19:58,891]\u001b[0m Trial 1 finished with value: 0.8657620717799731 and parameters: {'iterations': 100, 'learning_rate': 0.2728868002215558, 'random_strength': 3, 'bagging_temperature': 7, 'max_bin': 10, 'grow_policy': 'Lossguide', 'min_data_in_leaf': 1, 'max_depth': 3, 'l2_leaf_reg': 2.833171661121252e-08, 'one_hot_max_size': 25, 'auto_class_weights': 'SqrtBalanced'}. Best is trial 1 with value: 0.8657620717799731.\u001b[0m\n",
      "\u001b[32m[I 2021-07-12 19:20:51,764]\u001b[0m Trial 2 finished with value: 0.8641775823645944 and parameters: {'iterations': 200, 'learning_rate': 0.023139350868493017, 'random_strength': 4, 'bagging_temperature': 1, 'max_bin': 4, 'grow_policy': 'Depthwise', 'min_data_in_leaf': 2, 'max_depth': 8, 'l2_leaf_reg': 0.4053689557345566, 'one_hot_max_size': 10, 'auto_class_weights': 'SqrtBalanced'}. Best is trial 1 with value: 0.8657620717799731.\u001b[0m\n",
      "\u001b[32m[I 2021-07-12 19:22:00,724]\u001b[0m Trial 3 finished with value: 0.8665240467792362 and parameters: {'iterations': 300, 'learning_rate': 0.04920516488894732, 'random_strength': 10, 'bagging_temperature': 8, 'max_bin': 10, 'grow_policy': 'SymmetricTree', 'min_data_in_leaf': 3, 'max_depth': 5, 'l2_leaf_reg': 1.5140759436205538, 'one_hot_max_size': 5, 'auto_class_weights': 'Balanced'}. Best is trial 3 with value: 0.8665240467792362.\u001b[0m\n",
      "\u001b[32m[I 2021-07-12 19:23:01,807]\u001b[0m Trial 4 finished with value: 0.860470385254236 and parameters: {'iterations': 500, 'learning_rate': 0.012029197259005305, 'random_strength': 7, 'bagging_temperature': 5, 'max_bin': 30, 'grow_policy': 'Lossguide', 'min_data_in_leaf': 3, 'max_depth': 8, 'l2_leaf_reg': 4.762459848032179e-05, 'one_hot_max_size': 100, 'auto_class_weights': 'SqrtBalanced'}. Best is trial 3 with value: 0.8665240467792362.\u001b[0m\n"
     ]
    },
    {
     "name": "stdout",
     "output_type": "stream",
     "text": [
      "Stopped by overfitting detector  (8 iterations wait)\n"
     ]
    },
    {
     "name": "stderr",
     "output_type": "stream",
     "text": [
      "\u001b[32m[I 2021-07-12 19:26:30,009]\u001b[0m Trial 5 finished with value: 0.8652869918685953 and parameters: {'iterations': 2000, 'learning_rate': 0.04211876229965198, 'random_strength': 4, 'bagging_temperature': 1, 'max_bin': 4, 'grow_policy': 'Lossguide', 'min_data_in_leaf': 10, 'max_depth': 7, 'l2_leaf_reg': 2.4563933358965466e-05, 'one_hot_max_size': 12, 'auto_class_weights': 'SqrtBalanced'}. Best is trial 3 with value: 0.8665240467792362.\u001b[0m\n"
     ]
    },
    {
     "name": "stdout",
     "output_type": "stream",
     "text": [
      "Stopped by overfitting detector  (8 iterations wait)\n"
     ]
    },
    {
     "name": "stderr",
     "output_type": "stream",
     "text": [
      "\u001b[32m[I 2021-07-12 19:27:33,829]\u001b[0m Trial 6 finished with value: 0.8685308445125622 and parameters: {'iterations': 1700, 'learning_rate': 0.06805652352870738, 'random_strength': 8, 'bagging_temperature': 2, 'max_bin': 8, 'grow_policy': 'SymmetricTree', 'min_data_in_leaf': 10, 'max_depth': 5, 'l2_leaf_reg': 8.326558771196998, 'one_hot_max_size': 10, 'auto_class_weights': 'Balanced'}. Best is trial 6 with value: 0.8685308445125622.\u001b[0m\n"
     ]
    },
    {
     "name": "stdout",
     "output_type": "stream",
     "text": [
      "Stopped by overfitting detector  (8 iterations wait)\n"
     ]
    },
    {
     "name": "stderr",
     "output_type": "stream",
     "text": [
      "\u001b[32m[I 2021-07-12 19:27:47,035]\u001b[0m Trial 7 finished with value: 0.8269043874300017 and parameters: {'iterations': 500, 'learning_rate': 0.29002979089405717, 'random_strength': 10, 'bagging_temperature': 9, 'max_bin': 30, 'grow_policy': 'SymmetricTree', 'min_data_in_leaf': 7, 'max_depth': 10, 'l2_leaf_reg': 2.5167504351014815e-07, 'one_hot_max_size': 10, 'auto_class_weights': 'SqrtBalanced'}. Best is trial 6 with value: 0.8685308445125622.\u001b[0m\n"
     ]
    },
    {
     "name": "stdout",
     "output_type": "stream",
     "text": [
      "Stopped by overfitting detector  (8 iterations wait)\n"
     ]
    },
    {
     "name": "stderr",
     "output_type": "stream",
     "text": [
      "\u001b[32m[I 2021-07-12 19:28:05,109]\u001b[0m Trial 8 finished with value: 0.8669506196491532 and parameters: {'iterations': 200, 'learning_rate': 0.1020605518986092, 'random_strength': 4, 'bagging_temperature': 1, 'max_bin': 20, 'grow_policy': 'Depthwise', 'min_data_in_leaf': 2, 'max_depth': 6, 'l2_leaf_reg': 0.5011128402145567, 'one_hot_max_size': 1024, 'auto_class_weights': 'SqrtBalanced'}. Best is trial 6 with value: 0.8685308445125622.\u001b[0m\n"
     ]
    },
    {
     "name": "stdout",
     "output_type": "stream",
     "text": [
      "Stopped by overfitting detector  (8 iterations wait)\n"
     ]
    },
    {
     "name": "stderr",
     "output_type": "stream",
     "text": [
      "\u001b[32m[I 2021-07-12 19:28:14,015]\u001b[0m Trial 9 finished with value: 0.8623673466408182 and parameters: {'iterations': 1700, 'learning_rate': 0.20909628762201568, 'random_strength': 5, 'bagging_temperature': 1, 'max_bin': 30, 'grow_policy': 'SymmetricTree', 'min_data_in_leaf': 5, 'max_depth': 4, 'l2_leaf_reg': 3.6284971517641624e-05, 'one_hot_max_size': 500, 'auto_class_weights': 'Balanced'}. Best is trial 6 with value: 0.8685308445125622.\u001b[0m\n"
     ]
    },
    {
     "name": "stdout",
     "output_type": "stream",
     "text": [
      "Stopped by overfitting detector  (8 iterations wait)\n"
     ]
    },
    {
     "name": "stderr",
     "output_type": "stream",
     "text": [
      "\u001b[32m[I 2021-07-12 19:28:58,323]\u001b[0m Trial 10 finished with value: 0.8660517377485574 and parameters: {'iterations': 1200, 'learning_rate': 0.11792927815981727, 'random_strength': 8, 'bagging_temperature': 4, 'max_bin': 8, 'grow_policy': 'SymmetricTree', 'min_data_in_leaf': 10, 'max_depth': 2, 'l2_leaf_reg': 52.78127742712393, 'one_hot_max_size': 10, 'auto_class_weights': 'Balanced'}. Best is trial 6 with value: 0.8685308445125622.\u001b[0m\n"
     ]
    },
    {
     "name": "stdout",
     "output_type": "stream",
     "text": [
      "Stopped by overfitting detector  (8 iterations wait)\n"
     ]
    },
    {
     "name": "stderr",
     "output_type": "stream",
     "text": [
      "\u001b[32m[I 2021-07-12 19:29:14,132]\u001b[0m Trial 11 finished with value: 0.8644912836304952 and parameters: {'iterations': 1700, 'learning_rate': 0.10717601628426324, 'random_strength': 7, 'bagging_temperature': 3, 'max_bin': 20, 'grow_policy': 'Depthwise', 'min_data_in_leaf': 7, 'max_depth': 6, 'l2_leaf_reg': 0.09031452697053467, 'one_hot_max_size': 1024, 'auto_class_weights': 'Balanced'}. Best is trial 6 with value: 0.8685308445125622.\u001b[0m\n"
     ]
    },
    {
     "name": "stdout",
     "output_type": "stream",
     "text": [
      "Stopped by overfitting detector  (8 iterations wait)\n"
     ]
    },
    {
     "name": "stderr",
     "output_type": "stream",
     "text": [
      "\u001b[32m[I 2021-07-12 19:29:30,553]\u001b[0m Trial 12 finished with value: 0.8694317933700908 and parameters: {'iterations': 1000, 'learning_rate': 0.09696834942006458, 'random_strength': 1, 'bagging_temperature': 0, 'max_bin': 20, 'grow_policy': 'Depthwise', 'min_data_in_leaf': 8, 'max_depth': 6, 'l2_leaf_reg': 82.18923684531856, 'one_hot_max_size': 1024, 'auto_class_weights': 'Balanced'}. Best is trial 12 with value: 0.8694317933700908.\u001b[0m\n"
     ]
    },
    {
     "name": "stdout",
     "output_type": "stream",
     "text": [
      "Stopped by overfitting detector  (8 iterations wait)\n"
     ]
    },
    {
     "name": "stderr",
     "output_type": "stream",
     "text": [
      "\u001b[32m[I 2021-07-12 19:29:46,653]\u001b[0m Trial 13 finished with value: 0.8691234995634158 and parameters: {'iterations': 1000, 'learning_rate': 0.16225876293182054, 'random_strength': 1, 'bagging_temperature': 0, 'max_bin': 5, 'grow_policy': 'SymmetricTree', 'min_data_in_leaf': 8, 'max_depth': 4, 'l2_leaf_reg': 76.86761980153686, 'one_hot_max_size': 1024, 'auto_class_weights': 'Balanced'}. Best is trial 12 with value: 0.8694317933700908.\u001b[0m\n"
     ]
    },
    {
     "name": "stdout",
     "output_type": "stream",
     "text": [
      "Stopped by overfitting detector  (8 iterations wait)\n"
     ]
    },
    {
     "name": "stderr",
     "output_type": "stream",
     "text": [
      "\u001b[32m[I 2021-07-12 19:30:03,220]\u001b[0m Trial 14 finished with value: 0.8677750595328201 and parameters: {'iterations': 1000, 'learning_rate': 0.176690419370986, 'random_strength': 1, 'bagging_temperature': 0, 'max_bin': 5, 'grow_policy': 'Depthwise', 'min_data_in_leaf': 8, 'max_depth': 2, 'l2_leaf_reg': 76.84051435981505, 'one_hot_max_size': 1024, 'auto_class_weights': 'Balanced'}. Best is trial 12 with value: 0.8694317933700908.\u001b[0m\n"
     ]
    },
    {
     "name": "stdout",
     "output_type": "stream",
     "text": [
      "Stopped by overfitting detector  (8 iterations wait)\n"
     ]
    },
    {
     "name": "stderr",
     "output_type": "stream",
     "text": [
      "\u001b[32m[I 2021-07-12 19:30:14,858]\u001b[0m Trial 15 finished with value: 0.8654425343589313 and parameters: {'iterations': 1000, 'learning_rate': 0.1594825865773152, 'random_strength': 2, 'bagging_temperature': 0, 'max_bin': 5, 'grow_policy': 'Depthwise', 'min_data_in_leaf': 8, 'max_depth': 4, 'l2_leaf_reg': 0.016180743832298193, 'one_hot_max_size': 1024, 'auto_class_weights': 'Balanced'}. Best is trial 12 with value: 0.8694317933700908.\u001b[0m\n"
     ]
    },
    {
     "name": "stdout",
     "output_type": "stream",
     "text": [
      "Stopped by overfitting detector  (8 iterations wait)\n"
     ]
    },
    {
     "name": "stderr",
     "output_type": "stream",
     "text": [
      "\u001b[32m[I 2021-07-12 19:30:32,877]\u001b[0m Trial 16 finished with value: 0.8685886326373853 and parameters: {'iterations': 1000, 'learning_rate': 0.13927537167905407, 'random_strength': 2, 'bagging_temperature': 6, 'max_bin': 6, 'grow_policy': 'SymmetricTree', 'min_data_in_leaf': 6, 'max_depth': 10, 'l2_leaf_reg': 80.10808600309316, 'one_hot_max_size': 1024, 'auto_class_weights': 'Balanced'}. Best is trial 12 with value: 0.8694317933700908.\u001b[0m\n"
     ]
    },
    {
     "name": "stdout",
     "output_type": "stream",
     "text": [
      "Stopped by overfitting detector  (8 iterations wait)\n"
     ]
    },
    {
     "name": "stderr",
     "output_type": "stream",
     "text": [
      "\u001b[32m[I 2021-07-12 19:30:37,338]\u001b[0m Trial 17 finished with value: 0.8579545219728042 and parameters: {'iterations': 1000, 'learning_rate': 0.19516803805477634, 'random_strength': 1, 'bagging_temperature': 4, 'max_bin': 20, 'grow_policy': 'SymmetricTree', 'min_data_in_leaf': 9, 'max_depth': 7, 'l2_leaf_reg': 0.015240296244988225, 'one_hot_max_size': 25, 'auto_class_weights': 'Balanced'}. Best is trial 12 with value: 0.8694317933700908.\u001b[0m\n"
     ]
    },
    {
     "name": "stdout",
     "output_type": "stream",
     "text": [
      "Stopped by overfitting detector  (8 iterations wait)\n"
     ]
    },
    {
     "name": "stderr",
     "output_type": "stream",
     "text": [
      "\u001b[32m[I 2021-07-12 19:30:45,083]\u001b[0m Trial 18 finished with value: 0.8669500689116001 and parameters: {'iterations': 1500, 'learning_rate': 0.25054375952511293, 'random_strength': 2, 'bagging_temperature': 3, 'max_bin': 5, 'grow_policy': 'Depthwise', 'min_data_in_leaf': 5, 'max_depth': 3, 'l2_leaf_reg': 7.886805835291059, 'one_hot_max_size': 1024, 'auto_class_weights': 'Balanced'}. Best is trial 12 with value: 0.8694317933700908.\u001b[0m\n"
     ]
    },
    {
     "name": "stdout",
     "output_type": "stream",
     "text": [
      "Stopped by overfitting detector  (8 iterations wait)\n"
     ]
    },
    {
     "name": "stderr",
     "output_type": "stream",
     "text": [
      "\u001b[32m[I 2021-07-12 19:31:08,036]\u001b[0m Trial 19 finished with value: 0.8683739285605598 and parameters: {'iterations': 1000, 'learning_rate': 0.08084422349918685, 'random_strength': 3, 'bagging_temperature': 0, 'max_bin': 20, 'grow_policy': 'SymmetricTree', 'min_data_in_leaf': 8, 'max_depth': 4, 'l2_leaf_reg': 9.620418566065942, 'one_hot_max_size': 500, 'auto_class_weights': 'Balanced'}. Best is trial 12 with value: 0.8694317933700908.\u001b[0m\n"
     ]
    },
    {
     "name": "stdout",
     "output_type": "stream",
     "text": [
      "Stopped by overfitting detector  (8 iterations wait)\n"
     ]
    },
    {
     "name": "stderr",
     "output_type": "stream",
     "text": [
      "\u001b[32m[I 2021-07-12 19:31:19,089]\u001b[0m Trial 20 finished with value: 0.8560489295930164 and parameters: {'iterations': 1000, 'learning_rate': 0.1473326755890596, 'random_strength': 1, 'bagging_temperature': 2, 'max_bin': 5, 'grow_policy': 'Depthwise', 'min_data_in_leaf': 6, 'max_depth': 7, 'l2_leaf_reg': 0.002512205918251716, 'one_hot_max_size': 12, 'auto_class_weights': 'Balanced'}. Best is trial 12 with value: 0.8694317933700908.\u001b[0m\n"
     ]
    },
    {
     "name": "stdout",
     "output_type": "stream",
     "text": [
      "Stopped by overfitting detector  (8 iterations wait)\n"
     ]
    },
    {
     "name": "stderr",
     "output_type": "stream",
     "text": [
      "\u001b[32m[I 2021-07-12 19:31:40,592]\u001b[0m Trial 21 finished with value: 0.8686050028460998 and parameters: {'iterations': 1000, 'learning_rate': 0.13684256710179518, 'random_strength': 2, 'bagging_temperature': 6, 'max_bin': 6, 'grow_policy': 'SymmetricTree', 'min_data_in_leaf': 6, 'max_depth': 10, 'l2_leaf_reg': 75.59294922200559, 'one_hot_max_size': 1024, 'auto_class_weights': 'Balanced'}. Best is trial 12 with value: 0.8694317933700908.\u001b[0m\n"
     ]
    },
    {
     "name": "stdout",
     "output_type": "stream",
     "text": [
      "Stopped by overfitting detector  (8 iterations wait)\n"
     ]
    },
    {
     "name": "stderr",
     "output_type": "stream",
     "text": [
      "\u001b[32m[I 2021-07-12 19:31:59,993]\u001b[0m Trial 22 finished with value: 0.8683763062586144 and parameters: {'iterations': 1000, 'learning_rate': 0.12893631362993474, 'random_strength': 2, 'bagging_temperature': 6, 'max_bin': 6, 'grow_policy': 'SymmetricTree', 'min_data_in_leaf': 7, 'max_depth': 9, 'l2_leaf_reg': 68.01154029535058, 'one_hot_max_size': 1024, 'auto_class_weights': 'Balanced'}. Best is trial 12 with value: 0.8694317933700908.\u001b[0m\n",
      "\u001b[32m[I 2021-07-12 19:32:06,996]\u001b[0m Trial 23 finished with value: 0.8658405090398995 and parameters: {'iterations': 100, 'learning_rate': 0.17217152923230145, 'random_strength': 3, 'bagging_temperature': 7, 'max_bin': 6, 'grow_policy': 'SymmetricTree', 'min_data_in_leaf': 9, 'max_depth': 3, 'l2_leaf_reg': 3.3783221025021426, 'one_hot_max_size': 100, 'auto_class_weights': 'Balanced'}. Best is trial 12 with value: 0.8694317933700908.\u001b[0m\n"
     ]
    },
    {
     "name": "stdout",
     "output_type": "stream",
     "text": [
      "Stopped by overfitting detector  (8 iterations wait)\n"
     ]
    },
    {
     "name": "stderr",
     "output_type": "stream",
     "text": [
      "\u001b[32m[I 2021-07-12 19:32:25,550]\u001b[0m Trial 24 finished with value: 0.8693311445320585 and parameters: {'iterations': 1000, 'learning_rate': 0.08564190418590055, 'random_strength': 1, 'bagging_temperature': 4, 'max_bin': 6, 'grow_policy': 'SymmetricTree', 'min_data_in_leaf': 9, 'max_depth': 9, 'l2_leaf_reg': 29.523911961605414, 'one_hot_max_size': 1024, 'auto_class_weights': 'Balanced'}. Best is trial 12 with value: 0.8694317933700908.\u001b[0m\n"
     ]
    },
    {
     "name": "stdout",
     "output_type": "stream",
     "text": [
      "Stopped by overfitting detector  (8 iterations wait)\n"
     ]
    },
    {
     "name": "stderr",
     "output_type": "stream",
     "text": [
      "\u001b[32m[I 2021-07-12 19:32:45,317]\u001b[0m Trial 25 finished with value: 0.8693595537396718 and parameters: {'iterations': 2000, 'learning_rate': 0.07739164053723227, 'random_strength': 1, 'bagging_temperature': 2, 'max_bin': 6, 'grow_policy': 'Lossguide', 'min_data_in_leaf': 9, 'max_depth': 9, 'l2_leaf_reg': 12.771230047127299, 'one_hot_max_size': 1024, 'auto_class_weights': 'Balanced'}. Best is trial 12 with value: 0.8694317933700908.\u001b[0m\n"
     ]
    },
    {
     "name": "stdout",
     "output_type": "stream",
     "text": [
      "Stopped by overfitting detector  (8 iterations wait)\n"
     ]
    },
    {
     "name": "stderr",
     "output_type": "stream",
     "text": [
      "\u001b[32m[I 2021-07-12 19:33:09,432]\u001b[0m Trial 26 finished with value: 0.8661795681906137 and parameters: {'iterations': 2000, 'learning_rate': 0.08292937208465356, 'random_strength': 3, 'bagging_temperature': 3, 'max_bin': 6, 'grow_policy': 'Lossguide', 'min_data_in_leaf': 9, 'max_depth': 9, 'l2_leaf_reg': 0.2111837715232643, 'one_hot_max_size': 1024, 'auto_class_weights': 'Balanced'}. Best is trial 12 with value: 0.8694317933700908.\u001b[0m\n"
     ]
    },
    {
     "name": "stdout",
     "output_type": "stream",
     "text": [
      "Stopped by overfitting detector  (8 iterations wait)\n"
     ]
    },
    {
     "name": "stderr",
     "output_type": "stream",
     "text": [
      "\u001b[32m[I 2021-07-12 19:33:39,119]\u001b[0m Trial 27 finished with value: 0.8698765099983916 and parameters: {'iterations': 2000, 'learning_rate': 0.05196238428759904, 'random_strength': 1, 'bagging_temperature': 2, 'max_bin': 6, 'grow_policy': 'Lossguide', 'min_data_in_leaf': 9, 'max_depth': 9, 'l2_leaf_reg': 14.852455469272511, 'one_hot_max_size': 1024, 'auto_class_weights': 'Balanced'}. Best is trial 27 with value: 0.8698765099983916.\u001b[0m\n"
     ]
    },
    {
     "name": "stdout",
     "output_type": "stream",
     "text": [
      "Stopped by overfitting detector  (8 iterations wait)\n"
     ]
    },
    {
     "name": "stderr",
     "output_type": "stream",
     "text": [
      "\u001b[32m[I 2021-07-12 19:34:13,489]\u001b[0m Trial 28 finished with value: 0.8681752518202718 and parameters: {'iterations': 2000, 'learning_rate': 0.053574965216909146, 'random_strength': 5, 'bagging_temperature': 2, 'max_bin': 6, 'grow_policy': 'Lossguide', 'min_data_in_leaf': 10, 'max_depth': 8, 'l2_leaf_reg': 1.4028408894912066, 'one_hot_max_size': 25, 'auto_class_weights': 'Balanced'}. Best is trial 27 with value: 0.8698765099983916.\u001b[0m\n",
      "\u001b[32m[I 2021-07-12 20:00:49,961]\u001b[0m Trial 29 finished with value: 0.8654507296099375 and parameters: {'iterations': 2000, 'learning_rate': 0.002018714382510056, 'random_strength': 1, 'bagging_temperature': 2, 'max_bin': 20, 'grow_policy': 'Lossguide', 'min_data_in_leaf': 9, 'max_depth': 9, 'l2_leaf_reg': 0.035779683477384014, 'one_hot_max_size': 5, 'auto_class_weights': 'Balanced'}. Best is trial 27 with value: 0.8698765099983916.\u001b[0m\n"
     ]
    },
    {
     "name": "stdout",
     "output_type": "stream",
     "text": [
      "Stopped by overfitting detector  (8 iterations wait)\n"
     ]
    },
    {
     "name": "stderr",
     "output_type": "stream",
     "text": [
      "\u001b[32m[I 2021-07-12 20:06:03,094]\u001b[0m Trial 30 finished with value: 0.867130307358835 and parameters: {'iterations': 2000, 'learning_rate': 0.02675417141678304, 'random_strength': 2, 'bagging_temperature': 3, 'max_bin': 6, 'grow_policy': 'Lossguide', 'min_data_in_leaf': 7, 'max_depth': 8, 'l2_leaf_reg': 0.0018313564447508617, 'one_hot_max_size': 12, 'auto_class_weights': 'Balanced'}. Best is trial 27 with value: 0.8698765099983916.\u001b[0m\n"
     ]
    },
    {
     "name": "stdout",
     "output_type": "stream",
     "text": [
      "Stopped by overfitting detector  (8 iterations wait)\n"
     ]
    },
    {
     "name": "stderr",
     "output_type": "stream",
     "text": [
      "\u001b[32m[I 2021-07-12 20:06:22,107]\u001b[0m Trial 31 finished with value: 0.8690950824639646 and parameters: {'iterations': 2000, 'learning_rate': 0.08852470101790186, 'random_strength': 1, 'bagging_temperature': 4, 'max_bin': 6, 'grow_policy': 'Lossguide', 'min_data_in_leaf': 9, 'max_depth': 9, 'l2_leaf_reg': 16.363859642593123, 'one_hot_max_size': 1024, 'auto_class_weights': 'Balanced'}. Best is trial 27 with value: 0.8698765099983916.\u001b[0m\n"
     ]
    },
    {
     "name": "stdout",
     "output_type": "stream",
     "text": [
      "Stopped by overfitting detector  (8 iterations wait)\n"
     ]
    },
    {
     "name": "stderr",
     "output_type": "stream",
     "text": [
      "\u001b[32m[I 2021-07-12 20:06:43,980]\u001b[0m Trial 32 finished with value: 0.8699709379541793 and parameters: {'iterations': 300, 'learning_rate': 0.07257717548601127, 'random_strength': 1, 'bagging_temperature': 5, 'max_bin': 6, 'grow_policy': 'Lossguide', 'min_data_in_leaf': 8, 'max_depth': 10, 'l2_leaf_reg': 18.73179168604146, 'one_hot_max_size': 1024, 'auto_class_weights': 'Balanced'}. Best is trial 32 with value: 0.8699709379541793.\u001b[0m\n"
     ]
    },
    {
     "name": "stdout",
     "output_type": "stream",
     "text": [
      "Stopped by overfitting detector  (8 iterations wait)\n"
     ]
    },
    {
     "name": "stderr",
     "output_type": "stream",
     "text": [
      "\u001b[32m[I 2021-07-12 20:07:09,439]\u001b[0m Trial 33 finished with value: 0.8683917946953559 and parameters: {'iterations': 300, 'learning_rate': 0.06823686404608309, 'random_strength': 2, 'bagging_temperature': 5, 'max_bin': 10, 'grow_policy': 'Lossguide', 'min_data_in_leaf': 8, 'max_depth': 10, 'l2_leaf_reg': 1.6878287473907805, 'one_hot_max_size': 1024, 'auto_class_weights': 'Balanced'}. Best is trial 32 with value: 0.8699709379541793.\u001b[0m\n",
      "\u001b[32m[I 2021-07-12 20:10:54,882]\u001b[0m Trial 34 finished with value: 0.8679986119102477 and parameters: {'iterations': 300, 'learning_rate': 0.039656563138266133, 'random_strength': 3, 'bagging_temperature': 1, 'max_bin': 6, 'grow_policy': 'Lossguide', 'min_data_in_leaf': 10, 'max_depth': 10, 'l2_leaf_reg': 0.5896278620260849, 'one_hot_max_size': 5, 'auto_class_weights': 'Balanced'}. Best is trial 32 with value: 0.8699709379541793.\u001b[0m\n"
     ]
    },
    {
     "name": "stdout",
     "output_type": "stream",
     "text": [
      "Stopped by overfitting detector  (8 iterations wait)\n"
     ]
    },
    {
     "name": "stderr",
     "output_type": "stream",
     "text": [
      "\u001b[32m[I 2021-07-12 20:11:17,597]\u001b[0m Trial 35 finished with value: 0.8693737968161886 and parameters: {'iterations': 300, 'learning_rate': 0.06169374707418619, 'random_strength': 1, 'bagging_temperature': 5, 'max_bin': 4, 'grow_policy': 'Lossguide', 'min_data_in_leaf': 8, 'max_depth': 8, 'l2_leaf_reg': 4.018892218518083, 'one_hot_max_size': 1024, 'auto_class_weights': 'Balanced'}. Best is trial 32 with value: 0.8699709379541793.\u001b[0m\n"
     ]
    },
    {
     "name": "stdout",
     "output_type": "stream",
     "text": [
      "Stopped by overfitting detector  (8 iterations wait)\n"
     ]
    },
    {
     "name": "stderr",
     "output_type": "stream",
     "text": [
      "\u001b[32m[I 2021-07-12 20:11:49,556]\u001b[0m Trial 36 finished with value: 0.8685315512548419 and parameters: {'iterations': 300, 'learning_rate': 0.057092544348530595, 'random_strength': 3, 'bagging_temperature': 7, 'max_bin': 4, 'grow_policy': 'Lossguide', 'min_data_in_leaf': 7, 'max_depth': 7, 'l2_leaf_reg': 3.5607960798334743, 'one_hot_max_size': 100, 'auto_class_weights': 'SqrtBalanced'}. Best is trial 32 with value: 0.8699709379541793.\u001b[0m\n",
      "\u001b[32m[I 2021-07-12 20:12:26,896]\u001b[0m Trial 37 finished with value: 0.8632374887221582 and parameters: {'iterations': 300, 'learning_rate': 0.02649232746005173, 'random_strength': 4, 'bagging_temperature': 5, 'max_bin': 4, 'grow_policy': 'Lossguide', 'min_data_in_leaf': 4, 'max_depth': 8, 'l2_leaf_reg': 0.15195604575177288, 'one_hot_max_size': 1024, 'auto_class_weights': 'Balanced'}. Best is trial 32 with value: 0.8699709379541793.\u001b[0m\n",
      "\u001b[32m[I 2021-07-12 20:13:02,671]\u001b[0m Trial 38 finished with value: 0.8470665947184706 and parameters: {'iterations': 300, 'learning_rate': 0.002031405865033177, 'random_strength': 2, 'bagging_temperature': 7, 'max_bin': 4, 'grow_policy': 'Lossguide', 'min_data_in_leaf': 8, 'max_depth': 8, 'l2_leaf_reg': 3.319211122366979e-08, 'one_hot_max_size': 500, 'auto_class_weights': 'Balanced'}. Best is trial 32 with value: 0.8699709379541793.\u001b[0m\n"
     ]
    },
    {
     "name": "stdout",
     "output_type": "stream",
     "text": [
      "Stopped by overfitting detector  (8 iterations wait)\n"
     ]
    },
    {
     "name": "stderr",
     "output_type": "stream",
     "text": [
      "\u001b[32m[I 2021-07-12 20:13:15,366]\u001b[0m Trial 39 finished with value: 0.8612193900177142 and parameters: {'iterations': 1200, 'learning_rate': 0.10884017988565098, 'random_strength': 1, 'bagging_temperature': 10, 'max_bin': 4, 'grow_policy': 'Lossguide', 'min_data_in_leaf': 8, 'max_depth': 7, 'l2_leaf_reg': 1.8884629102714177e-06, 'one_hot_max_size': 25, 'auto_class_weights': 'SqrtBalanced'}. Best is trial 32 with value: 0.8699709379541793.\u001b[0m\n",
      "\u001b[32m[I 2021-07-12 20:13:41,469]\u001b[0m Trial 40 finished with value: 0.8681619285656612 and parameters: {'iterations': 200, 'learning_rate': 0.06287493445353562, 'random_strength': 3, 'bagging_temperature': 8, 'max_bin': 10, 'grow_policy': 'Lossguide', 'min_data_in_leaf': 7, 'max_depth': 6, 'l2_leaf_reg': 1.5113168401030426, 'one_hot_max_size': 1024, 'auto_class_weights': 'Balanced'}. Best is trial 32 with value: 0.8699709379541793.\u001b[0m\n",
      "\u001b[32m[I 2021-07-12 20:14:18,997]\u001b[0m Trial 41 finished with value: 0.8703111982144548 and parameters: {'iterations': 300, 'learning_rate': 0.038660692424336285, 'random_strength': 1, 'bagging_temperature': 5, 'max_bin': 8, 'grow_policy': 'Lossguide', 'min_data_in_leaf': 9, 'max_depth': 9, 'l2_leaf_reg': 22.91022837582872, 'one_hot_max_size': 1024, 'auto_class_weights': 'Balanced'}. Best is trial 41 with value: 0.8703111982144548.\u001b[0m\n"
     ]
    },
    {
     "name": "stdout",
     "output_type": "stream",
     "text": [
      "Stopped by overfitting detector  (8 iterations wait)\n"
     ]
    },
    {
     "name": "stderr",
     "output_type": "stream",
     "text": [
      "\u001b[32m[I 2021-07-12 20:14:56,965]\u001b[0m Trial 42 finished with value: 0.8702052983447004 and parameters: {'iterations': 300, 'learning_rate': 0.04163501713130602, 'random_strength': 1, 'bagging_temperature': 6, 'max_bin': 8, 'grow_policy': 'Lossguide', 'min_data_in_leaf': 10, 'max_depth': 10, 'l2_leaf_reg': 21.852606807006246, 'one_hot_max_size': 1024, 'auto_class_weights': 'Balanced'}. Best is trial 41 with value: 0.8703111982144548.\u001b[0m\n",
      "\u001b[32m[I 2021-07-12 20:15:34,029]\u001b[0m Trial 43 finished with value: 0.8633670274652944 and parameters: {'iterations': 300, 'learning_rate': 0.014926066247918979, 'random_strength': 2, 'bagging_temperature': 6, 'max_bin': 8, 'grow_policy': 'Lossguide', 'min_data_in_leaf': 10, 'max_depth': 10, 'l2_leaf_reg': 22.3179286921454, 'one_hot_max_size': 1024, 'auto_class_weights': 'Balanced'}. Best is trial 41 with value: 0.8703111982144548.\u001b[0m\n"
     ]
    },
    {
     "name": "stdout",
     "output_type": "stream",
     "text": [
      "Stopped by overfitting detector  (8 iterations wait)\n"
     ]
    },
    {
     "name": "stderr",
     "output_type": "stream",
     "text": [
      "\u001b[32m[I 2021-07-12 20:16:55,939]\u001b[0m Trial 44 finished with value: 0.8689785514428439 and parameters: {'iterations': 500, 'learning_rate': 0.04027719685026368, 'random_strength': 1, 'bagging_temperature': 5, 'max_bin': 8, 'grow_policy': 'Depthwise', 'min_data_in_leaf': 10, 'max_depth': 10, 'l2_leaf_reg': 30.49839965659867, 'one_hot_max_size': 10, 'auto_class_weights': 'Balanced'}. Best is trial 41 with value: 0.8703111982144548.\u001b[0m\n"
     ]
    },
    {
     "name": "stdout",
     "output_type": "stream",
     "text": [
      "Stopped by overfitting detector  (8 iterations wait)\n"
     ]
    },
    {
     "name": "stderr",
     "output_type": "stream",
     "text": [
      "\u001b[32m[I 2021-07-12 20:17:44,383]\u001b[0m Trial 45 finished with value: 0.8691866394818214 and parameters: {'iterations': 1500, 'learning_rate': 0.033854346538953736, 'random_strength': 2, 'bagging_temperature': 6, 'max_bin': 8, 'grow_policy': 'Lossguide', 'min_data_in_leaf': 10, 'max_depth': 9, 'l2_leaf_reg': 0.9115106092480676, 'one_hot_max_size': 1024, 'auto_class_weights': 'Balanced'}. Best is trial 41 with value: 0.8703111982144548.\u001b[0m\n",
      "\u001b[32m[I 2021-07-12 20:18:17,925]\u001b[0m Trial 46 finished with value: 0.8671086045224304 and parameters: {'iterations': 300, 'learning_rate': 0.016724719665844878, 'random_strength': 1, 'bagging_temperature': 8, 'max_bin': 8, 'grow_policy': 'Lossguide', 'min_data_in_leaf': 9, 'max_depth': 5, 'l2_leaf_reg': 4.234474060732237, 'one_hot_max_size': 1024, 'auto_class_weights': 'SqrtBalanced'}. Best is trial 41 with value: 0.8703111982144548.\u001b[0m\n",
      "\u001b[32m[I 2021-07-12 20:18:44,586]\u001b[0m Trial 47 finished with value: 0.8631294236702731 and parameters: {'iterations': 100, 'learning_rate': 0.09862134907516404, 'random_strength': 9, 'bagging_temperature': 4, 'max_bin': 8, 'grow_policy': 'Depthwise', 'min_data_in_leaf': 1, 'max_depth': 10, 'l2_leaf_reg': 26.911744801933335, 'one_hot_max_size': 1024, 'auto_class_weights': 'Balanced'}. Best is trial 41 with value: 0.8703111982144548.\u001b[0m\n",
      "\u001b[32m[I 2021-07-12 20:19:19,302]\u001b[0m Trial 48 finished with value: 0.8629017972723932 and parameters: {'iterations': 300, 'learning_rate': 0.046375722259930946, 'random_strength': 6, 'bagging_temperature': 7, 'max_bin': 30, 'grow_policy': 'Lossguide', 'min_data_in_leaf': 9, 'max_depth': 9, 'l2_leaf_reg': 0.0001247068571908905, 'one_hot_max_size': 100, 'auto_class_weights': 'Balanced'}. Best is trial 41 with value: 0.8703111982144548.\u001b[0m\n"
     ]
    },
    {
     "name": "stdout",
     "output_type": "stream",
     "text": [
      "Stopped by overfitting detector  (8 iterations wait)\n"
     ]
    },
    {
     "name": "stderr",
     "output_type": "stream",
     "text": [
      "\u001b[32m[I 2021-07-12 20:19:32,842]\u001b[0m Trial 49 finished with value: 0.8540437854816068 and parameters: {'iterations': 1700, 'learning_rate': 0.11852398060184076, 'random_strength': 1, 'bagging_temperature': 5, 'max_bin': 8, 'grow_policy': 'Depthwise', 'min_data_in_leaf': 10, 'max_depth': 10, 'l2_leaf_reg': 0.30750700765758515, 'one_hot_max_size': 12, 'auto_class_weights': 'Balanced'}. Best is trial 41 with value: 0.8703111982144548.\u001b[0m\n"
     ]
    },
    {
     "name": "stdout",
     "output_type": "stream",
     "text": [
      "Stopped by overfitting detector  (8 iterations wait)\n"
     ]
    },
    {
     "name": "stderr",
     "output_type": "stream",
     "text": [
      "\u001b[32m[I 2021-07-12 20:19:59,117]\u001b[0m Trial 50 finished with value: 0.8692511281998998 and parameters: {'iterations': 300, 'learning_rate': 0.0707516562027285, 'random_strength': 2, 'bagging_temperature': 6, 'max_bin': 20, 'grow_policy': 'Lossguide', 'min_data_in_leaf': 8, 'max_depth': 8, 'l2_leaf_reg': 8.782897441433569, 'one_hot_max_size': 1024, 'auto_class_weights': 'Balanced'}. Best is trial 41 with value: 0.8703111982144548.\u001b[0m\n"
     ]
    },
    {
     "name": "stdout",
     "output_type": "stream",
     "text": [
      "Stopped by overfitting detector  (8 iterations wait)\n"
     ]
    },
    {
     "name": "stderr",
     "output_type": "stream",
     "text": [
      "\u001b[32m[I 2021-07-12 20:20:33,018]\u001b[0m Trial 51 finished with value: 0.8703266987708048 and parameters: {'iterations': 300, 'learning_rate': 0.05289609246540887, 'random_strength': 1, 'bagging_temperature': 5, 'max_bin': 8, 'grow_policy': 'Lossguide', 'min_data_in_leaf': 8, 'max_depth': 9, 'l2_leaf_reg': 88.79810792634227, 'one_hot_max_size': 1024, 'auto_class_weights': 'Balanced'}. Best is trial 51 with value: 0.8703266987708048.\u001b[0m\n"
     ]
    },
    {
     "name": "stdout",
     "output_type": "stream",
     "text": [
      "Stopped by overfitting detector  (8 iterations wait)\n"
     ]
    },
    {
     "name": "stderr",
     "output_type": "stream",
     "text": [
      "\u001b[32m[I 2021-07-12 20:21:02,547]\u001b[0m Trial 52 finished with value: 0.8695459409152039 and parameters: {'iterations': 300, 'learning_rate': 0.05029689030864542, 'random_strength': 1, 'bagging_temperature': 4, 'max_bin': 8, 'grow_policy': 'Lossguide', 'min_data_in_leaf': 7, 'max_depth': 9, 'l2_leaf_reg': 97.00035845034988, 'one_hot_max_size': 1024, 'auto_class_weights': 'Balanced'}. Best is trial 51 with value: 0.8703266987708048.\u001b[0m\n"
     ]
    },
    {
     "name": "stdout",
     "output_type": "stream",
     "text": [
      "Stopped by overfitting detector  (8 iterations wait)\n"
     ]
    },
    {
     "name": "stderr",
     "output_type": "stream",
     "text": [
      "\u001b[32m[I 2021-07-12 20:21:36,159]\u001b[0m Trial 53 finished with value: 0.8700613668619763 and parameters: {'iterations': 300, 'learning_rate': 0.0488027241875225, 'random_strength': 1, 'bagging_temperature': 4, 'max_bin': 8, 'grow_policy': 'Lossguide', 'min_data_in_leaf': 7, 'max_depth': 9, 'l2_leaf_reg': 88.43784954318768, 'one_hot_max_size': 1024, 'auto_class_weights': 'Balanced'}. Best is trial 51 with value: 0.8703266987708048.\u001b[0m\n",
      "\u001b[32m[I 2021-07-12 20:22:12,240]\u001b[0m Trial 54 finished with value: 0.8572310017863245 and parameters: {'iterations': 300, 'learning_rate': 0.007146820667334665, 'random_strength': 2, 'bagging_temperature': 5, 'max_bin': 8, 'grow_policy': 'Lossguide', 'min_data_in_leaf': 6, 'max_depth': 9, 'l2_leaf_reg': 24.077374257884557, 'one_hot_max_size': 1024, 'auto_class_weights': 'Balanced'}. Best is trial 51 with value: 0.8703266987708048.\u001b[0m\n",
      "\u001b[32m[I 2021-07-12 20:26:17,009]\u001b[0m Trial 55 finished with value: 0.869031902099889 and parameters: {'iterations': 300, 'learning_rate': 0.03240628674377963, 'random_strength': 1, 'bagging_temperature': 3, 'max_bin': 8, 'grow_policy': 'Lossguide', 'min_data_in_leaf': 9, 'max_depth': 10, 'l2_leaf_reg': 42.05651041380368, 'one_hot_max_size': 10, 'auto_class_weights': 'Balanced'}. Best is trial 51 with value: 0.8703266987708048.\u001b[0m\n",
      "\u001b[32m[I 2021-07-12 20:30:10,672]\u001b[0m Trial 56 finished with value: 0.8697067579718504 and parameters: {'iterations': 300, 'learning_rate': 0.046103187427402256, 'random_strength': 2, 'bagging_temperature': 4, 'max_bin': 8, 'grow_policy': 'Lossguide', 'min_data_in_leaf': 7, 'max_depth': 10, 'l2_leaf_reg': 5.923430666711012, 'one_hot_max_size': 5, 'auto_class_weights': 'Balanced'}. Best is trial 51 with value: 0.8703266987708048.\u001b[0m\n"
     ]
    },
    {
     "name": "stdout",
     "output_type": "stream",
     "text": [
      "Stopped by overfitting detector  (8 iterations wait)\n"
     ]
    },
    {
     "name": "stderr",
     "output_type": "stream",
     "text": [
      "\u001b[32m[I 2021-07-12 20:31:13,682]\u001b[0m Trial 57 finished with value: 0.8708849878265229 and parameters: {'iterations': 1200, 'learning_rate': 0.023793510396254353, 'random_strength': 1, 'bagging_temperature': 6, 'max_bin': 8, 'grow_policy': 'Lossguide', 'min_data_in_leaf': 8, 'max_depth': 9, 'l2_leaf_reg': 89.35313522855303, 'one_hot_max_size': 500, 'auto_class_weights': 'Balanced'}. Best is trial 57 with value: 0.8708849878265229.\u001b[0m\n"
     ]
    },
    {
     "name": "stdout",
     "output_type": "stream",
     "text": [
      "Stopped by overfitting detector  (8 iterations wait)\n"
     ]
    },
    {
     "name": "stderr",
     "output_type": "stream",
     "text": [
      "\u001b[32m[I 2021-07-12 20:32:34,572]\u001b[0m Trial 58 finished with value: 0.8708143434747891 and parameters: {'iterations': 1200, 'learning_rate': 0.01822957506875239, 'random_strength': 1, 'bagging_temperature': 6, 'max_bin': 8, 'grow_policy': 'Lossguide', 'min_data_in_leaf': 8, 'max_depth': 9, 'l2_leaf_reg': 97.82938585510763, 'one_hot_max_size': 500, 'auto_class_weights': 'Balanced'}. Best is trial 57 with value: 0.8708849878265229.\u001b[0m\n"
     ]
    },
    {
     "name": "stdout",
     "output_type": "stream",
     "text": [
      "Stopped by overfitting detector  (8 iterations wait)\n"
     ]
    },
    {
     "name": "stderr",
     "output_type": "stream",
     "text": [
      "\u001b[32m[I 2021-07-12 20:34:06,598]\u001b[0m Trial 59 finished with value: 0.8702076895716202 and parameters: {'iterations': 1200, 'learning_rate': 0.02082199594349247, 'random_strength': 4, 'bagging_temperature': 6, 'max_bin': 8, 'grow_policy': 'Lossguide', 'min_data_in_leaf': 7, 'max_depth': 8, 'l2_leaf_reg': 58.44987194542407, 'one_hot_max_size': 500, 'auto_class_weights': 'SqrtBalanced'}. Best is trial 57 with value: 0.8708849878265229.\u001b[0m\n"
     ]
    },
    {
     "name": "stdout",
     "output_type": "stream",
     "text": [
      "Stopped by overfitting detector  (8 iterations wait)\n"
     ]
    },
    {
     "name": "stderr",
     "output_type": "stream",
     "text": [
      "\u001b[32m[I 2021-07-12 20:35:30,552]\u001b[0m Trial 60 finished with value: 0.8665282790592255 and parameters: {'iterations': 1200, 'learning_rate': 0.01883304034580447, 'random_strength': 6, 'bagging_temperature': 6, 'max_bin': 8, 'grow_policy': 'Lossguide', 'min_data_in_leaf': 5, 'max_depth': 8, 'l2_leaf_reg': 1.0004224452913733e-05, 'one_hot_max_size': 500, 'auto_class_weights': 'SqrtBalanced'}. Best is trial 57 with value: 0.8708849878265229.\u001b[0m\n",
      "\u001b[32m[I 2021-07-12 20:37:46,052]\u001b[0m Trial 61 finished with value: 0.8679180780989961 and parameters: {'iterations': 1200, 'learning_rate': 0.010345188550750159, 'random_strength': 7, 'bagging_temperature': 6, 'max_bin': 8, 'grow_policy': 'Lossguide', 'min_data_in_leaf': 7, 'max_depth': 9, 'l2_leaf_reg': 88.97065459388654, 'one_hot_max_size': 500, 'auto_class_weights': 'SqrtBalanced'}. Best is trial 57 with value: 0.8708849878265229.\u001b[0m\n"
     ]
    },
    {
     "name": "stdout",
     "output_type": "stream",
     "text": [
      "Stopped by overfitting detector  (8 iterations wait)\n"
     ]
    },
    {
     "name": "stderr",
     "output_type": "stream",
     "text": [
      "\u001b[32m[I 2021-07-12 20:38:58,933]\u001b[0m Trial 62 finished with value: 0.8698932760673382 and parameters: {'iterations': 1200, 'learning_rate': 0.02430413379390573, 'random_strength': 4, 'bagging_temperature': 7, 'max_bin': 8, 'grow_policy': 'Lossguide', 'min_data_in_leaf': 6, 'max_depth': 8, 'l2_leaf_reg': 52.75648991084858, 'one_hot_max_size': 500, 'auto_class_weights': 'SqrtBalanced'}. Best is trial 57 with value: 0.8708849878265229.\u001b[0m\n"
     ]
    },
    {
     "name": "stdout",
     "output_type": "stream",
     "text": [
      "Stopped by overfitting detector  (8 iterations wait)\n"
     ]
    },
    {
     "name": "stderr",
     "output_type": "stream",
     "text": [
      "\u001b[32m[I 2021-07-12 20:40:05,614]\u001b[0m Trial 63 finished with value: 0.8699305551371824 and parameters: {'iterations': 1200, 'learning_rate': 0.0336115990378984, 'random_strength': 5, 'bagging_temperature': 8, 'max_bin': 8, 'grow_policy': 'Lossguide', 'min_data_in_leaf': 7, 'max_depth': 9, 'l2_leaf_reg': 81.37284481123424, 'one_hot_max_size': 500, 'auto_class_weights': 'SqrtBalanced'}. Best is trial 57 with value: 0.8708849878265229.\u001b[0m\n",
      "\u001b[32m[I 2021-07-12 20:42:22,318]\u001b[0m Trial 64 finished with value: 0.854993345101896 and parameters: {'iterations': 1200, 'learning_rate': 0.0015058492840720299, 'random_strength': 2, 'bagging_temperature': 6, 'max_bin': 8, 'grow_policy': 'Lossguide', 'min_data_in_leaf': 8, 'max_depth': 9, 'l2_leaf_reg': 95.19396324074165, 'one_hot_max_size': 500, 'auto_class_weights': 'SqrtBalanced'}. Best is trial 57 with value: 0.8708849878265229.\u001b[0m\n"
     ]
    },
    {
     "name": "stdout",
     "output_type": "stream",
     "text": [
      "Stopped by overfitting detector  (8 iterations wait)\n"
     ]
    },
    {
     "name": "stderr",
     "output_type": "stream",
     "text": [
      "\u001b[32m[I 2021-07-12 20:43:13,733]\u001b[0m Trial 65 finished with value: 0.8693041351392141 and parameters: {'iterations': 1200, 'learning_rate': 0.03781797041249919, 'random_strength': 8, 'bagging_temperature': 7, 'max_bin': 8, 'grow_policy': 'Lossguide', 'min_data_in_leaf': 8, 'max_depth': 9, 'l2_leaf_reg': 43.42161174357205, 'one_hot_max_size': 500, 'auto_class_weights': 'Balanced'}. Best is trial 57 with value: 0.8708849878265229.\u001b[0m\n"
     ]
    },
    {
     "name": "stdout",
     "output_type": "stream",
     "text": [
      "Stopped by overfitting detector  (8 iterations wait)\n"
     ]
    },
    {
     "name": "stderr",
     "output_type": "stream",
     "text": [
      "\u001b[32m[I 2021-07-12 20:44:11,302]\u001b[0m Trial 66 finished with value: 0.870176918590554 and parameters: {'iterations': 1200, 'learning_rate': 0.02277186854470771, 'random_strength': 1, 'bagging_temperature': 5, 'max_bin': 8, 'grow_policy': 'Lossguide', 'min_data_in_leaf': 6, 'max_depth': 8, 'l2_leaf_reg': 9.453222005991888, 'one_hot_max_size': 500, 'auto_class_weights': 'Balanced'}. Best is trial 57 with value: 0.8708849878265229.\u001b[0m\n"
     ]
    },
    {
     "name": "stdout",
     "output_type": "stream",
     "text": [
      "Stopped by overfitting detector  (8 iterations wait)\n"
     ]
    },
    {
     "name": "stderr",
     "output_type": "stream",
     "text": [
      "\u001b[32m[I 2021-07-12 20:44:19,690]\u001b[0m Trial 67 finished with value: 0.8661315980759896 and parameters: {'iterations': 1200, 'learning_rate': 0.25318097053845473, 'random_strength': 3, 'bagging_temperature': 6, 'max_bin': 8, 'grow_policy': 'Lossguide', 'min_data_in_leaf': 5, 'max_depth': 7, 'l2_leaf_reg': 9.842831480316075, 'one_hot_max_size': 500, 'auto_class_weights': 'SqrtBalanced'}. Best is trial 57 with value: 0.8708849878265229.\u001b[0m\n"
     ]
    },
    {
     "name": "stdout",
     "output_type": "stream",
     "text": [
      "Stopped by overfitting detector  (8 iterations wait)\n"
     ]
    },
    {
     "name": "stderr",
     "output_type": "stream",
     "text": [
      "\u001b[32m[I 2021-07-12 20:45:45,971]\u001b[0m Trial 68 finished with value: 0.8702422951404098 and parameters: {'iterations': 1200, 'learning_rate': 0.014717315902471627, 'random_strength': 1, 'bagging_temperature': 5, 'max_bin': 8, 'grow_policy': 'Lossguide', 'min_data_in_leaf': 6, 'max_depth': 8, 'l2_leaf_reg': 2.0595949110735376, 'one_hot_max_size': 500, 'auto_class_weights': 'Balanced'}. Best is trial 57 with value: 0.8708849878265229.\u001b[0m\n",
      "\u001b[32m[I 2021-07-12 20:48:03,488]\u001b[0m Trial 69 finished with value: 0.8698416087675277 and parameters: {'iterations': 1200, 'learning_rate': 0.01009517206815392, 'random_strength': 2, 'bagging_temperature': 7, 'max_bin': 8, 'grow_policy': 'Lossguide', 'min_data_in_leaf': 6, 'max_depth': 8, 'l2_leaf_reg': 2.132790088056709, 'one_hot_max_size': 500, 'auto_class_weights': 'Balanced'}. Best is trial 57 with value: 0.8708849878265229.\u001b[0m\n",
      "\u001b[32m[I 2021-07-12 20:50:07,692]\u001b[0m Trial 70 finished with value: 0.8540493013126795 and parameters: {'iterations': 1200, 'learning_rate': 0.0015935812239694855, 'random_strength': 4, 'bagging_temperature': 6, 'max_bin': 30, 'grow_policy': 'Lossguide', 'min_data_in_leaf': 8, 'max_depth': 7, 'l2_leaf_reg': 38.84574130070708, 'one_hot_max_size': 500, 'auto_class_weights': 'Balanced'}. Best is trial 57 with value: 0.8708849878265229.\u001b[0m\n"
     ]
    },
    {
     "name": "stdout",
     "output_type": "stream",
     "text": [
      "Stopped by overfitting detector  (8 iterations wait)\n"
     ]
    },
    {
     "name": "stderr",
     "output_type": "stream",
     "text": [
      "\u001b[32m[I 2021-07-12 20:51:05,768]\u001b[0m Trial 71 finished with value: 0.8707212423342684 and parameters: {'iterations': 1200, 'learning_rate': 0.02359362482526857, 'random_strength': 1, 'bagging_temperature': 5, 'max_bin': 8, 'grow_policy': 'Lossguide', 'min_data_in_leaf': 6, 'max_depth': 8, 'l2_leaf_reg': 7.0471990636228306, 'one_hot_max_size': 500, 'auto_class_weights': 'Balanced'}. Best is trial 57 with value: 0.8708849878265229.\u001b[0m\n"
     ]
    },
    {
     "name": "stdout",
     "output_type": "stream",
     "text": [
      "Stopped by overfitting detector  (8 iterations wait)\n"
     ]
    },
    {
     "name": "stderr",
     "output_type": "stream",
     "text": [
      "\u001b[32m[I 2021-07-12 20:51:53,189]\u001b[0m Trial 72 finished with value: 0.870344136914314 and parameters: {'iterations': 1200, 'learning_rate': 0.028387651750897042, 'random_strength': 1, 'bagging_temperature': 5, 'max_bin': 8, 'grow_policy': 'Lossguide', 'min_data_in_leaf': 4, 'max_depth': 8, 'l2_leaf_reg': 5.6327160448886895, 'one_hot_max_size': 500, 'auto_class_weights': 'Balanced'}. Best is trial 57 with value: 0.8708849878265229.\u001b[0m\n"
     ]
    },
    {
     "name": "stdout",
     "output_type": "stream",
     "text": [
      "Stopped by overfitting detector  (8 iterations wait)\n"
     ]
    },
    {
     "name": "stderr",
     "output_type": "stream",
     "text": [
      "\u001b[32m[I 2021-07-12 20:52:43,942]\u001b[0m Trial 73 finished with value: 0.8693384248935571 and parameters: {'iterations': 1200, 'learning_rate': 0.02091958137615044, 'random_strength': 1, 'bagging_temperature': 5, 'max_bin': 8, 'grow_policy': 'Lossguide', 'min_data_in_leaf': 4, 'max_depth': 8, 'l2_leaf_reg': 0.7183954893316693, 'one_hot_max_size': 500, 'auto_class_weights': 'Balanced'}. Best is trial 57 with value: 0.8708849878265229.\u001b[0m\n"
     ]
    },
    {
     "name": "stdout",
     "output_type": "stream",
     "text": [
      "Stopped by overfitting detector  (8 iterations wait)\n"
     ]
    },
    {
     "name": "stderr",
     "output_type": "stream",
     "text": [
      "\u001b[32m[I 2021-07-12 20:53:30,550]\u001b[0m Trial 74 finished with value: 0.8694136207219428 and parameters: {'iterations': 1200, 'learning_rate': 0.029893633727196826, 'random_strength': 2, 'bagging_temperature': 4, 'max_bin': 8, 'grow_policy': 'Lossguide', 'min_data_in_leaf': 3, 'max_depth': 7, 'l2_leaf_reg': 3.132524331015214, 'one_hot_max_size': 500, 'auto_class_weights': 'Balanced'}. Best is trial 57 with value: 0.8708849878265229.\u001b[0m\n"
     ]
    }
   ],
   "source": [
    "sampler = optuna.samplers.TPESampler(seed=42)\n",
    "study = optuna.create_study(direction=\"maximize\", sampler=sampler)\n",
    "study.optimize(objective, n_trials=75)"
   ]
  },
  {
   "cell_type": "code",
   "execution_count": 19,
   "metadata": {},
   "outputs": [
    {
     "data": {
      "text/plain": [
       "{'iterations': 1200,\n",
       " 'learning_rate': 0.023793510396254353,\n",
       " 'random_strength': 1,\n",
       " 'bagging_temperature': 6,\n",
       " 'max_bin': 8,\n",
       " 'grow_policy': 'Lossguide',\n",
       " 'min_data_in_leaf': 8,\n",
       " 'max_depth': 9,\n",
       " 'l2_leaf_reg': 89.35313522855303,\n",
       " 'one_hot_max_size': 500,\n",
       " 'auto_class_weights': 'Balanced'}"
      ]
     },
     "execution_count": 19,
     "metadata": {},
     "output_type": "execute_result"
    }
   ],
   "source": [
    "trial = study.best_trial\n",
    "final_model = CatBoostClassifier(verbose=False,  cat_features=categorical_features_indices, \n",
    "                          **trial.params)\n",
    "\n",
    "final_model.fit(X_train, y_train)\n",
    "\n",
    "final_h1n1_model = final_model\n",
    "trial.params"
   ]
  },
  {
   "cell_type": "code",
   "execution_count": 33,
   "metadata": {},
   "outputs": [],
   "source": [
    "params = trial.params\n",
    "final_h1n1_model = CatBoostClassifier(cat_features=categorical_features_indices,\n",
    "                                     verbose=False,\n",
    "                                     iterations=1200,\n",
    "                                     learning_rate=0.023793510396254353,\n",
    "                                     random_strength=1,\n",
    "                                     bagging_temperature=6,\n",
    "                                     max_bin=8,\n",
    "                                     grow_policy='Lossguide',\n",
    "                                     min_data_in_leaf=8,\n",
    "                                     max_depth=9,\n",
    "                                     l2_leaf_reg=89.35313522855303,\n",
    "                                     one_hot_max_size=500,\n",
    "                                     auto_class_weights='Balanced').fit(h1n1_train_trans, h1n1_labels)"
   ]
  },
  {
   "cell_type": "code",
   "execution_count": 21,
   "metadata": {},
   "outputs": [],
   "source": [
    "params = trial.params\n",
    "final_h1n1_model = CatBoostClassifier(cat_features=categorical_features_indices,\n",
    "                                     verbose=False,\n",
    "                                     **params)"
   ]
  },
  {
   "cell_type": "markdown",
   "metadata": {},
   "source": [
    "# Seasonal"
   ]
  },
  {
   "cell_type": "markdown",
   "metadata": {},
   "source": [
    "## Catboost and Optuna"
   ]
  },
  {
   "cell_type": "code",
   "execution_count": 22,
   "metadata": {},
   "outputs": [],
   "source": [
    "X = seas_train_trans\n",
    "y = seas_labels"
   ]
  },
  {
   "cell_type": "code",
   "execution_count": 23,
   "metadata": {},
   "outputs": [],
   "source": [
    "X_train, X_test, y_train, y_test = train_test_split(X, y, test_size=0.2, random_state=42, shuffle=True)"
   ]
  },
  {
   "cell_type": "code",
   "execution_count": 24,
   "metadata": {},
   "outputs": [],
   "source": [
    "from catboost import CatBoostClassifier\n",
    "from catboost import Pool, cv\n",
    "from sklearn.metrics import roc_curve, roc_auc_score\n",
    "import optuna"
   ]
  },
  {
   "cell_type": "code",
   "execution_count": 25,
   "metadata": {},
   "outputs": [],
   "source": [
    "train_dataset = Pool(data=X_train,\n",
    "                    label=y_train,\n",
    "                    cat_features=categorical_features_indices)"
   ]
  },
  {
   "cell_type": "code",
   "execution_count": 26,
   "metadata": {},
   "outputs": [],
   "source": [
    "def objective(trial):\n",
    "    param = {\n",
    "        'iterations':trial.suggest_categorical('iterations', [100,200,300,500,1000,1200,1500,1700,2000]),\n",
    "        'learning_rate':trial.suggest_float(\"learning_rate\", 0.001, 0.3),\n",
    "        'random_strength':trial.suggest_int(\"random_strength\", 1,10),\n",
    "        'bagging_temperature':trial.suggest_int(\"bagging_temperature\", 0,10),\n",
    "        'max_bin':trial.suggest_categorical('max_bin', [4,5,6,8,10,20,30]),\n",
    "        'grow_policy':trial.suggest_categorical('grow_policy', ['SymmetricTree', 'Depthwise', 'Lossguide']),\n",
    "        'min_data_in_leaf':trial.suggest_int(\"min_data_in_leaf\", 1,10),\n",
    "        'od_type' : \"Iter\",\n",
    "        'od_wait' : 100,\n",
    "        \"depth\": trial.suggest_int(\"max_depth\", 2,10),\n",
    "        \"l2_leaf_reg\": trial.suggest_loguniform(\"l2_leaf_reg\", 1e-8, 100),\n",
    "         'one_hot_max_size':trial.suggest_categorical('one_hot_max_size', [5,10,12,25,100,500,1024]),\n",
    "        'custom_metric' : ['AUC'],\n",
    "        \"loss_function\": \"Logloss\",\n",
    "        'auto_class_weights':trial.suggest_categorical('auto_class_weights', ['Balanced', 'SqrtBalanced']),\n",
    "        }\n",
    "\n",
    "    scores = cv(train_dataset,\n",
    "            param,\n",
    "            fold_count=7, \n",
    "            early_stopping_rounds=8,         \n",
    "            plot=False, verbose=False)\n",
    "\n",
    "    return scores['test-AUC-mean'].max()"
   ]
  },
  {
   "cell_type": "code",
   "execution_count": 27,
   "metadata": {
    "scrolled": true
   },
   "outputs": [
    {
     "name": "stderr",
     "output_type": "stream",
     "text": [
      "\u001b[32m[I 2021-07-12 20:53:53,796]\u001b[0m A new study created in memory with name: no-name-d01ccdb2-195e-46e4-9ba1-c16b55870384\u001b[0m\n"
     ]
    },
    {
     "name": "stdout",
     "output_type": "stream",
     "text": [
      "Stopped by overfitting detector  (8 iterations wait)\n"
     ]
    },
    {
     "name": "stderr",
     "output_type": "stream",
     "text": [
      "\u001b[32m[I 2021-07-12 20:54:07,833]\u001b[0m Trial 0 finished with value: 0.8580664207414844 and parameters: {'iterations': 200, 'learning_rate': 0.2127137007610176, 'random_strength': 1, 'bagging_temperature': 10, 'max_bin': 4, 'grow_policy': 'Depthwise', 'min_data_in_leaf': 3, 'max_depth': 5, 'l2_leaf_reg': 0.0003636636071695854, 'one_hot_max_size': 5, 'auto_class_weights': 'SqrtBalanced'}. Best is trial 0 with value: 0.8580664207414844.\u001b[0m\n"
     ]
    },
    {
     "name": "stdout",
     "output_type": "stream",
     "text": [
      "Stopped by overfitting detector  (8 iterations wait)\n"
     ]
    },
    {
     "name": "stderr",
     "output_type": "stream",
     "text": [
      "\u001b[32m[I 2021-07-12 20:54:15,446]\u001b[0m Trial 1 finished with value: 0.858374522877302 and parameters: {'iterations': 100, 'learning_rate': 0.2728868002215558, 'random_strength': 3, 'bagging_temperature': 7, 'max_bin': 10, 'grow_policy': 'Lossguide', 'min_data_in_leaf': 1, 'max_depth': 3, 'l2_leaf_reg': 2.833171661121252e-08, 'one_hot_max_size': 25, 'auto_class_weights': 'SqrtBalanced'}. Best is trial 1 with value: 0.858374522877302.\u001b[0m\n",
      "\u001b[32m[I 2021-07-12 20:55:12,541]\u001b[0m Trial 2 finished with value: 0.8588582664911347 and parameters: {'iterations': 200, 'learning_rate': 0.023139350868493017, 'random_strength': 4, 'bagging_temperature': 1, 'max_bin': 4, 'grow_policy': 'Depthwise', 'min_data_in_leaf': 2, 'max_depth': 8, 'l2_leaf_reg': 0.4053689557345566, 'one_hot_max_size': 10, 'auto_class_weights': 'SqrtBalanced'}. Best is trial 2 with value: 0.8588582664911347.\u001b[0m\n",
      "\u001b[32m[I 2021-07-12 20:56:21,743]\u001b[0m Trial 3 finished with value: 0.8610563616945875 and parameters: {'iterations': 300, 'learning_rate': 0.04920516488894732, 'random_strength': 10, 'bagging_temperature': 8, 'max_bin': 10, 'grow_policy': 'SymmetricTree', 'min_data_in_leaf': 3, 'max_depth': 5, 'l2_leaf_reg': 1.5140759436205538, 'one_hot_max_size': 5, 'auto_class_weights': 'Balanced'}. Best is trial 3 with value: 0.8610563616945875.\u001b[0m\n",
      "\u001b[32m[I 2021-07-12 20:57:21,585]\u001b[0m Trial 4 finished with value: 0.8545451030428242 and parameters: {'iterations': 500, 'learning_rate': 0.012029197259005305, 'random_strength': 7, 'bagging_temperature': 5, 'max_bin': 30, 'grow_policy': 'Lossguide', 'min_data_in_leaf': 3, 'max_depth': 8, 'l2_leaf_reg': 4.762459848032179e-05, 'one_hot_max_size': 100, 'auto_class_weights': 'SqrtBalanced'}. Best is trial 3 with value: 0.8610563616945875.\u001b[0m\n"
     ]
    },
    {
     "name": "stdout",
     "output_type": "stream",
     "text": [
      "Stopped by overfitting detector  (8 iterations wait)\n"
     ]
    },
    {
     "name": "stderr",
     "output_type": "stream",
     "text": [
      "\u001b[32m[I 2021-07-12 21:01:03,388]\u001b[0m Trial 5 finished with value: 0.8615125630020055 and parameters: {'iterations': 2000, 'learning_rate': 0.04211876229965198, 'random_strength': 4, 'bagging_temperature': 1, 'max_bin': 4, 'grow_policy': 'Lossguide', 'min_data_in_leaf': 10, 'max_depth': 7, 'l2_leaf_reg': 2.4563933358965466e-05, 'one_hot_max_size': 12, 'auto_class_weights': 'SqrtBalanced'}. Best is trial 5 with value: 0.8615125630020055.\u001b[0m\n"
     ]
    },
    {
     "name": "stdout",
     "output_type": "stream",
     "text": [
      "Stopped by overfitting detector  (8 iterations wait)\n"
     ]
    },
    {
     "name": "stderr",
     "output_type": "stream",
     "text": [
      "\u001b[32m[I 2021-07-12 21:02:17,365]\u001b[0m Trial 6 finished with value: 0.8626982952022045 and parameters: {'iterations': 1700, 'learning_rate': 0.06805652352870738, 'random_strength': 8, 'bagging_temperature': 2, 'max_bin': 8, 'grow_policy': 'SymmetricTree', 'min_data_in_leaf': 10, 'max_depth': 5, 'l2_leaf_reg': 8.326558771196998, 'one_hot_max_size': 10, 'auto_class_weights': 'Balanced'}. Best is trial 6 with value: 0.8626982952022045.\u001b[0m\n"
     ]
    },
    {
     "name": "stdout",
     "output_type": "stream",
     "text": [
      "Stopped by overfitting detector  (8 iterations wait)\n"
     ]
    },
    {
     "name": "stderr",
     "output_type": "stream",
     "text": [
      "\u001b[32m[I 2021-07-12 21:02:28,260]\u001b[0m Trial 7 finished with value: 0.8289886849535966 and parameters: {'iterations': 500, 'learning_rate': 0.29002979089405717, 'random_strength': 10, 'bagging_temperature': 9, 'max_bin': 30, 'grow_policy': 'SymmetricTree', 'min_data_in_leaf': 7, 'max_depth': 10, 'l2_leaf_reg': 2.5167504351014815e-07, 'one_hot_max_size': 10, 'auto_class_weights': 'SqrtBalanced'}. Best is trial 6 with value: 0.8626982952022045.\u001b[0m\n"
     ]
    },
    {
     "name": "stdout",
     "output_type": "stream",
     "text": [
      "Stopped by overfitting detector  (8 iterations wait)\n"
     ]
    },
    {
     "name": "stderr",
     "output_type": "stream",
     "text": [
      "\u001b[32m[I 2021-07-12 21:02:46,142]\u001b[0m Trial 8 finished with value: 0.8604401292291295 and parameters: {'iterations': 200, 'learning_rate': 0.1020605518986092, 'random_strength': 4, 'bagging_temperature': 1, 'max_bin': 20, 'grow_policy': 'Depthwise', 'min_data_in_leaf': 2, 'max_depth': 6, 'l2_leaf_reg': 0.5011128402145567, 'one_hot_max_size': 1024, 'auto_class_weights': 'SqrtBalanced'}. Best is trial 6 with value: 0.8626982952022045.\u001b[0m\n"
     ]
    },
    {
     "name": "stdout",
     "output_type": "stream",
     "text": [
      "Stopped by overfitting detector  (8 iterations wait)\n"
     ]
    },
    {
     "name": "stderr",
     "output_type": "stream",
     "text": [
      "\u001b[32m[I 2021-07-12 21:02:53,901]\u001b[0m Trial 9 finished with value: 0.8585526929942423 and parameters: {'iterations': 1700, 'learning_rate': 0.20909628762201568, 'random_strength': 5, 'bagging_temperature': 1, 'max_bin': 30, 'grow_policy': 'SymmetricTree', 'min_data_in_leaf': 5, 'max_depth': 4, 'l2_leaf_reg': 3.6284971517641624e-05, 'one_hot_max_size': 500, 'auto_class_weights': 'Balanced'}. Best is trial 6 with value: 0.8626982952022045.\u001b[0m\n"
     ]
    },
    {
     "name": "stdout",
     "output_type": "stream",
     "text": [
      "Stopped by overfitting detector  (8 iterations wait)\n"
     ]
    },
    {
     "name": "stderr",
     "output_type": "stream",
     "text": [
      "\u001b[32m[I 2021-07-12 21:03:46,376]\u001b[0m Trial 10 finished with value: 0.8601306178955141 and parameters: {'iterations': 1200, 'learning_rate': 0.11792927815981727, 'random_strength': 8, 'bagging_temperature': 4, 'max_bin': 8, 'grow_policy': 'SymmetricTree', 'min_data_in_leaf': 10, 'max_depth': 2, 'l2_leaf_reg': 52.78127742712393, 'one_hot_max_size': 10, 'auto_class_weights': 'Balanced'}. Best is trial 6 with value: 0.8626982952022045.\u001b[0m\n"
     ]
    },
    {
     "name": "stdout",
     "output_type": "stream",
     "text": [
      "Stopped by overfitting detector  (8 iterations wait)\n"
     ]
    },
    {
     "name": "stderr",
     "output_type": "stream",
     "text": [
      "\u001b[32m[I 2021-07-12 21:06:28,248]\u001b[0m Trial 11 finished with value: 0.8618460264950877 and parameters: {'iterations': 2000, 'learning_rate': 0.07350367008679506, 'random_strength': 7, 'bagging_temperature': 3, 'max_bin': 6, 'grow_policy': 'Lossguide', 'min_data_in_leaf': 10, 'max_depth': 7, 'l2_leaf_reg': 0.008006098282358874, 'one_hot_max_size': 12, 'auto_class_weights': 'Balanced'}. Best is trial 6 with value: 0.8626982952022045.\u001b[0m\n"
     ]
    },
    {
     "name": "stdout",
     "output_type": "stream",
     "text": [
      "Stopped by overfitting detector  (8 iterations wait)\n"
     ]
    },
    {
     "name": "stderr",
     "output_type": "stream",
     "text": [
      "\u001b[32m[I 2021-07-12 21:09:05,911]\u001b[0m Trial 12 finished with value: 0.8600482003609284 and parameters: {'iterations': 2000, 'learning_rate': 0.08535872539360286, 'random_strength': 8, 'bagging_temperature': 4, 'max_bin': 6, 'grow_policy': 'Lossguide', 'min_data_in_leaf': 8, 'max_depth': 10, 'l2_leaf_reg': 0.012804987361617112, 'one_hot_max_size': 12, 'auto_class_weights': 'Balanced'}. Best is trial 6 with value: 0.8626982952022045.\u001b[0m\n"
     ]
    },
    {
     "name": "stdout",
     "output_type": "stream",
     "text": [
      "Stopped by overfitting detector  (8 iterations wait)\n"
     ]
    },
    {
     "name": "stderr",
     "output_type": "stream",
     "text": [
      "\u001b[32m[I 2021-07-12 21:10:25,910]\u001b[0m Trial 13 finished with value: 0.8621995380870038 and parameters: {'iterations': 1700, 'learning_rate': 0.17741651583128776, 'random_strength': 7, 'bagging_temperature': 3, 'max_bin': 5, 'grow_policy': 'Lossguide', 'min_data_in_leaf': 9, 'max_depth': 7, 'l2_leaf_reg': 87.84778701678394, 'one_hot_max_size': 12, 'auto_class_weights': 'Balanced'}. Best is trial 6 with value: 0.8626982952022045.\u001b[0m\n"
     ]
    },
    {
     "name": "stdout",
     "output_type": "stream",
     "text": [
      "Stopped by overfitting detector  (8 iterations wait)\n"
     ]
    },
    {
     "name": "stderr",
     "output_type": "stream",
     "text": [
      "\u001b[32m[I 2021-07-12 21:10:38,885]\u001b[0m Trial 14 finished with value: 0.8619930553819785 and parameters: {'iterations': 1700, 'learning_rate': 0.16471437624320762, 'random_strength': 9, 'bagging_temperature': 3, 'max_bin': 5, 'grow_policy': 'SymmetricTree', 'min_data_in_leaf': 8, 'max_depth': 6, 'l2_leaf_reg': 78.91747521574642, 'one_hot_max_size': 1024, 'auto_class_weights': 'Balanced'}. Best is trial 6 with value: 0.8626982952022045.\u001b[0m\n"
     ]
    },
    {
     "name": "stdout",
     "output_type": "stream",
     "text": [
      "Stopped by overfitting detector  (8 iterations wait)\n"
     ]
    },
    {
     "name": "stderr",
     "output_type": "stream",
     "text": [
      "\u001b[32m[I 2021-07-12 21:12:05,687]\u001b[0m Trial 15 finished with value: 0.8611329413248965 and parameters: {'iterations': 1700, 'learning_rate': 0.15956244616996276, 'random_strength': 6, 'bagging_temperature': 6, 'max_bin': 8, 'grow_policy': 'Lossguide', 'min_data_in_leaf': 8, 'max_depth': 8, 'l2_leaf_reg': 10.525473468319174, 'one_hot_max_size': 12, 'auto_class_weights': 'Balanced'}. Best is trial 6 with value: 0.8626982952022045.\u001b[0m\n"
     ]
    },
    {
     "name": "stdout",
     "output_type": "stream",
     "text": [
      "Stopped by overfitting detector  (8 iterations wait)\n"
     ]
    },
    {
     "name": "stderr",
     "output_type": "stream",
     "text": [
      "\u001b[32m[I 2021-07-12 21:12:30,343]\u001b[0m Trial 16 finished with value: 0.8617843489947518 and parameters: {'iterations': 1000, 'learning_rate': 0.22332966525101075, 'random_strength': 8, 'bagging_temperature': 0, 'max_bin': 5, 'grow_policy': 'SymmetricTree', 'min_data_in_leaf': 9, 'max_depth': 4, 'l2_leaf_reg': 6.9731727924752605, 'one_hot_max_size': 10, 'auto_class_weights': 'Balanced'}. Best is trial 6 with value: 0.8626982952022045.\u001b[0m\n"
     ]
    },
    {
     "name": "stdout",
     "output_type": "stream",
     "text": [
      "Stopped by overfitting detector  (8 iterations wait)\n"
     ]
    },
    {
     "name": "stderr",
     "output_type": "stream",
     "text": [
      "\u001b[32m[I 2021-07-12 21:12:39,956]\u001b[0m Trial 17 finished with value: 0.850731433003163 and parameters: {'iterations': 1700, 'learning_rate': 0.1309149622238913, 'random_strength': 6, 'bagging_temperature': 3, 'max_bin': 5, 'grow_policy': 'SymmetricTree', 'min_data_in_leaf': 6, 'max_depth': 9, 'l2_leaf_reg': 0.03235202112761483, 'one_hot_max_size': 25, 'auto_class_weights': 'Balanced'}. Best is trial 6 with value: 0.8626982952022045.\u001b[0m\n"
     ]
    },
    {
     "name": "stdout",
     "output_type": "stream",
     "text": [
      "Stopped by overfitting detector  (8 iterations wait)\n"
     ]
    },
    {
     "name": "stderr",
     "output_type": "stream",
     "text": [
      "\u001b[32m[I 2021-07-12 21:12:58,129]\u001b[0m Trial 18 finished with value: 0.8610337803805386 and parameters: {'iterations': 1500, 'learning_rate': 0.16188549710511987, 'random_strength': 9, 'bagging_temperature': 2, 'max_bin': 8, 'grow_policy': 'Lossguide', 'min_data_in_leaf': 9, 'max_depth': 7, 'l2_leaf_reg': 65.26127944006275, 'one_hot_max_size': 500, 'auto_class_weights': 'Balanced'}. Best is trial 6 with value: 0.8626982952022045.\u001b[0m\n"
     ]
    },
    {
     "name": "stdout",
     "output_type": "stream",
     "text": [
      "Stopped by overfitting detector  (8 iterations wait)\n"
     ]
    },
    {
     "name": "stderr",
     "output_type": "stream",
     "text": [
      "\u001b[32m[I 2021-07-12 21:13:08,905]\u001b[0m Trial 19 finished with value: 0.8570945417694531 and parameters: {'iterations': 1700, 'learning_rate': 0.2441503326701509, 'random_strength': 7, 'bagging_temperature': 5, 'max_bin': 8, 'grow_policy': 'Lossguide', 'min_data_in_leaf': 5, 'max_depth': 5, 'l2_leaf_reg': 0.23360444417161425, 'one_hot_max_size': 100, 'auto_class_weights': 'Balanced'}. Best is trial 6 with value: 0.8626982952022045.\u001b[0m\n"
     ]
    },
    {
     "name": "stdout",
     "output_type": "stream",
     "text": [
      "Stopped by overfitting detector  (8 iterations wait)\n"
     ]
    },
    {
     "name": "stderr",
     "output_type": "stream",
     "text": [
      "\u001b[32m[I 2021-07-12 21:13:35,708]\u001b[0m Trial 20 finished with value: 0.860410625017923 and parameters: {'iterations': 1700, 'learning_rate': 0.18597370482311476, 'random_strength': 9, 'bagging_temperature': 0, 'max_bin': 20, 'grow_policy': 'Depthwise', 'min_data_in_leaf': 9, 'max_depth': 2, 'l2_leaf_reg': 8.096325026785987, 'one_hot_max_size': 10, 'auto_class_weights': 'Balanced'}. Best is trial 6 with value: 0.8626982952022045.\u001b[0m\n"
     ]
    },
    {
     "name": "stdout",
     "output_type": "stream",
     "text": [
      "Stopped by overfitting detector  (8 iterations wait)\n"
     ]
    },
    {
     "name": "stderr",
     "output_type": "stream",
     "text": [
      "\u001b[32m[I 2021-07-12 21:13:50,377]\u001b[0m Trial 21 finished with value: 0.8619297421014328 and parameters: {'iterations': 1700, 'learning_rate': 0.1789818633951753, 'random_strength': 9, 'bagging_temperature': 3, 'max_bin': 5, 'grow_policy': 'SymmetricTree', 'min_data_in_leaf': 8, 'max_depth': 6, 'l2_leaf_reg': 87.67444084903545, 'one_hot_max_size': 1024, 'auto_class_weights': 'Balanced'}. Best is trial 6 with value: 0.8626982952022045.\u001b[0m\n"
     ]
    },
    {
     "name": "stdout",
     "output_type": "stream",
     "text": [
      "Stopped by overfitting detector  (8 iterations wait)\n"
     ]
    },
    {
     "name": "stderr",
     "output_type": "stream",
     "text": [
      "\u001b[32m[I 2021-07-12 21:14:09,116]\u001b[0m Trial 22 finished with value: 0.8625935392654015 and parameters: {'iterations': 1700, 'learning_rate': 0.13867679509964037, 'random_strength': 10, 'bagging_temperature': 2, 'max_bin': 5, 'grow_policy': 'SymmetricTree', 'min_data_in_leaf': 7, 'max_depth': 6, 'l2_leaf_reg': 95.15931033341283, 'one_hot_max_size': 1024, 'auto_class_weights': 'Balanced'}. Best is trial 6 with value: 0.8626982952022045.\u001b[0m\n",
      "\u001b[32m[I 2021-07-12 21:14:17,715]\u001b[0m Trial 23 finished with value: 0.8591583807999434 and parameters: {'iterations': 100, 'learning_rate': 0.12753733298821815, 'random_strength': 10, 'bagging_temperature': 2, 'max_bin': 5, 'grow_policy': 'SymmetricTree', 'min_data_in_leaf': 6, 'max_depth': 5, 'l2_leaf_reg': 3.0634717625756895, 'one_hot_max_size': 1024, 'auto_class_weights': 'Balanced'}. Best is trial 6 with value: 0.8626982952022045.\u001b[0m\n"
     ]
    },
    {
     "name": "stdout",
     "output_type": "stream",
     "text": [
      "Stopped by overfitting detector  (8 iterations wait)\n"
     ]
    },
    {
     "name": "stderr",
     "output_type": "stream",
     "text": [
      "\u001b[32m[I 2021-07-12 21:15:50,048]\u001b[0m Trial 24 finished with value: 0.862153818481956 and parameters: {'iterations': 1500, 'learning_rate': 0.06671125601164339, 'random_strength': 8, 'bagging_temperature': 2, 'max_bin': 5, 'grow_policy': 'SymmetricTree', 'min_data_in_leaf': 7, 'max_depth': 4, 'l2_leaf_reg': 19.100983531655803, 'one_hot_max_size': 12, 'auto_class_weights': 'Balanced'}. Best is trial 6 with value: 0.8626982952022045.\u001b[0m\n"
     ]
    },
    {
     "name": "stdout",
     "output_type": "stream",
     "text": [
      "Stopped by overfitting detector  (8 iterations wait)\n"
     ]
    },
    {
     "name": "stderr",
     "output_type": "stream",
     "text": [
      "\u001b[32m[I 2021-07-12 21:16:01,501]\u001b[0m Trial 25 finished with value: 0.8582174780638968 and parameters: {'iterations': 1200, 'learning_rate': 0.13725203020901788, 'random_strength': 7, 'bagging_temperature': 4, 'max_bin': 5, 'grow_policy': 'SymmetricTree', 'min_data_in_leaf': 7, 'max_depth': 7, 'l2_leaf_reg': 0.08062965344821288, 'one_hot_max_size': 1024, 'auto_class_weights': 'Balanced'}. Best is trial 6 with value: 0.8626982952022045.\u001b[0m\n"
     ]
    },
    {
     "name": "stdout",
     "output_type": "stream",
     "text": [
      "Stopped by overfitting detector  (8 iterations wait)\n"
     ]
    },
    {
     "name": "stderr",
     "output_type": "stream",
     "text": [
      "\u001b[32m[I 2021-07-12 21:16:49,048]\u001b[0m Trial 26 finished with value: 0.8617043950089808 and parameters: {'iterations': 1700, 'learning_rate': 0.09757280255555012, 'random_strength': 6, 'bagging_temperature': 2, 'max_bin': 8, 'grow_policy': 'SymmetricTree', 'min_data_in_leaf': 9, 'max_depth': 6, 'l2_leaf_reg': 1.717208628407799, 'one_hot_max_size': 10, 'auto_class_weights': 'Balanced'}. Best is trial 6 with value: 0.8626982952022045.\u001b[0m\n"
     ]
    },
    {
     "name": "stdout",
     "output_type": "stream",
     "text": [
      "Stopped by overfitting detector  (8 iterations wait)\n"
     ]
    },
    {
     "name": "stderr",
     "output_type": "stream",
     "text": [
      "\u001b[32m[I 2021-07-12 21:17:04,426]\u001b[0m Trial 27 finished with value: 0.8613415422468915 and parameters: {'iterations': 300, 'learning_rate': 0.18444733834488405, 'random_strength': 10, 'bagging_temperature': 0, 'max_bin': 5, 'grow_policy': 'SymmetricTree', 'min_data_in_leaf': 10, 'max_depth': 3, 'l2_leaf_reg': 83.43916159559782, 'one_hot_max_size': 25, 'auto_class_weights': 'Balanced'}. Best is trial 6 with value: 0.8626982952022045.\u001b[0m\n"
     ]
    },
    {
     "name": "stdout",
     "output_type": "stream",
     "text": [
      "Stopped by overfitting detector  (8 iterations wait)\n"
     ]
    },
    {
     "name": "stderr",
     "output_type": "stream",
     "text": [
      "\u001b[32m[I 2021-07-12 21:18:05,103]\u001b[0m Trial 28 finished with value: 0.8536151249483162 and parameters: {'iterations': 1000, 'learning_rate': 0.24950383107946503, 'random_strength': 8, 'bagging_temperature': 4, 'max_bin': 10, 'grow_policy': 'Lossguide', 'min_data_in_leaf': 7, 'max_depth': 9, 'l2_leaf_reg': 0.001332234553166288, 'one_hot_max_size': 5, 'auto_class_weights': 'Balanced'}. Best is trial 6 with value: 0.8626982952022045.\u001b[0m\n"
     ]
    },
    {
     "name": "stdout",
     "output_type": "stream",
     "text": [
      "Stopped by overfitting detector  (8 iterations wait)\n"
     ]
    },
    {
     "name": "stderr",
     "output_type": "stream",
     "text": [
      "\u001b[32m[I 2021-07-12 21:18:15,556]\u001b[0m Trial 29 finished with value: 0.8556686419242091 and parameters: {'iterations': 1700, 'learning_rate': 0.2052992515158666, 'random_strength': 5, 'bagging_temperature': 6, 'max_bin': 8, 'grow_policy': 'Depthwise', 'min_data_in_leaf': 9, 'max_depth': 5, 'l2_leaf_reg': 2.8749704005565047e-06, 'one_hot_max_size': 1024, 'auto_class_weights': 'Balanced'}. Best is trial 6 with value: 0.8626982952022045.\u001b[0m\n"
     ]
    },
    {
     "name": "stdout",
     "output_type": "stream",
     "text": [
      "Stopped by overfitting detector  (8 iterations wait)\n"
     ]
    },
    {
     "name": "stderr",
     "output_type": "stream",
     "text": [
      "\u001b[32m[I 2021-07-12 21:19:09,526]\u001b[0m Trial 30 finished with value: 0.8621173852162267 and parameters: {'iterations': 1700, 'learning_rate': 0.10628201573058149, 'random_strength': 9, 'bagging_temperature': 2, 'max_bin': 20, 'grow_policy': 'SymmetricTree', 'min_data_in_leaf': 4, 'max_depth': 7, 'l2_leaf_reg': 18.913471712699458, 'one_hot_max_size': 12, 'auto_class_weights': 'Balanced'}. Best is trial 6 with value: 0.8626982952022045.\u001b[0m\n"
     ]
    },
    {
     "name": "stdout",
     "output_type": "stream",
     "text": [
      "Stopped by overfitting detector  (8 iterations wait)\n"
     ]
    },
    {
     "name": "stderr",
     "output_type": "stream",
     "text": [
      "\u001b[32m[I 2021-07-12 21:20:30,323]\u001b[0m Trial 31 finished with value: 0.8623859710572536 and parameters: {'iterations': 1500, 'learning_rate': 0.055369535969299895, 'random_strength': 1, 'bagging_temperature': 2, 'max_bin': 5, 'grow_policy': 'SymmetricTree', 'min_data_in_leaf': 7, 'max_depth': 4, 'l2_leaf_reg': 12.877546605845946, 'one_hot_max_size': 12, 'auto_class_weights': 'Balanced'}. Best is trial 6 with value: 0.8626982952022045.\u001b[0m\n"
     ]
    },
    {
     "name": "stdout",
     "output_type": "stream",
     "text": [
      "Stopped by overfitting detector  (8 iterations wait)\n"
     ]
    },
    {
     "name": "stderr",
     "output_type": "stream",
     "text": [
      "\u001b[32m[I 2021-07-12 21:22:13,850]\u001b[0m Trial 32 finished with value: 0.8616755716140901 and parameters: {'iterations': 1500, 'learning_rate': 0.04759973255850625, 'random_strength': 1, 'bagging_temperature': 3, 'max_bin': 5, 'grow_policy': 'SymmetricTree', 'min_data_in_leaf': 6, 'max_depth': 3, 'l2_leaf_reg': 1.8557651797879717, 'one_hot_max_size': 12, 'auto_class_weights': 'Balanced'}. Best is trial 6 with value: 0.8626982952022045.\u001b[0m\n"
     ]
    },
    {
     "name": "stdout",
     "output_type": "stream",
     "text": [
      "Stopped by overfitting detector  (8 iterations wait)\n"
     ]
    },
    {
     "name": "stderr",
     "output_type": "stream",
     "text": [
      "\u001b[32m[I 2021-07-12 21:24:31,731]\u001b[0m Trial 33 finished with value: 0.8622646076776189 and parameters: {'iterations': 1500, 'learning_rate': 0.029096743342316322, 'random_strength': 1, 'bagging_temperature': 1, 'max_bin': 5, 'grow_policy': 'SymmetricTree', 'min_data_in_leaf': 8, 'max_depth': 4, 'l2_leaf_reg': 25.903450608164942, 'one_hot_max_size': 12, 'auto_class_weights': 'Balanced'}. Best is trial 6 with value: 0.8626982952022045.\u001b[0m\n",
      "\u001b[32m[I 2021-07-12 21:28:10,436]\u001b[0m Trial 34 finished with value: 0.8391094321329582 and parameters: {'iterations': 1500, 'learning_rate': 0.001350636236642784, 'random_strength': 1, 'bagging_temperature': 1, 'max_bin': 4, 'grow_policy': 'SymmetricTree', 'min_data_in_leaf': 7, 'max_depth': 3, 'l2_leaf_reg': 0.5147894478738813, 'one_hot_max_size': 5, 'auto_class_weights': 'Balanced'}. Best is trial 6 with value: 0.8626982952022045.\u001b[0m\n"
     ]
    },
    {
     "name": "stdout",
     "output_type": "stream",
     "text": [
      "Stopped by overfitting detector  (8 iterations wait)\n"
     ]
    },
    {
     "name": "stderr",
     "output_type": "stream",
     "text": [
      "\u001b[32m[I 2021-07-12 21:29:20,563]\u001b[0m Trial 35 finished with value: 0.8622921781796767 and parameters: {'iterations': 1500, 'learning_rate': 0.030432324086581936, 'random_strength': 2, 'bagging_temperature': 0, 'max_bin': 5, 'grow_policy': 'SymmetricTree', 'min_data_in_leaf': 8, 'max_depth': 4, 'l2_leaf_reg': 19.555382189571798, 'one_hot_max_size': 100, 'auto_class_weights': 'Balanced'}. Best is trial 6 with value: 0.8626982952022045.\u001b[0m\n"
     ]
    },
    {
     "name": "stdout",
     "output_type": "stream",
     "text": [
      "Stopped by overfitting detector  (8 iterations wait)\n"
     ]
    },
    {
     "name": "stderr",
     "output_type": "stream",
     "text": [
      "\u001b[32m[I 2021-07-12 21:29:51,037]\u001b[0m Trial 36 finished with value: 0.8618036877768341 and parameters: {'iterations': 1500, 'learning_rate': 0.06584750113690342, 'random_strength': 2, 'bagging_temperature': 0, 'max_bin': 10, 'grow_policy': 'SymmetricTree', 'min_data_in_leaf': 6, 'max_depth': 4, 'l2_leaf_reg': 0.13163342028219222, 'one_hot_max_size': 100, 'auto_class_weights': 'SqrtBalanced'}. Best is trial 6 with value: 0.8626982952022045.\u001b[0m\n",
      "\u001b[32m[I 2021-07-12 21:29:59,875]\u001b[0m Trial 37 finished with value: 0.8485410528699785 and parameters: {'iterations': 100, 'learning_rate': 0.02322069737145118, 'random_strength': 2, 'bagging_temperature': 0, 'max_bin': 5, 'grow_policy': 'SymmetricTree', 'min_data_in_leaf': 5, 'max_depth': 5, 'l2_leaf_reg': 3.7979696562817704, 'one_hot_max_size': 100, 'auto_class_weights': 'Balanced'}. Best is trial 6 with value: 0.8626982952022045.\u001b[0m\n",
      "\u001b[32m[I 2021-07-12 21:30:14,842]\u001b[0m Trial 38 finished with value: 0.8399064308232056 and parameters: {'iterations': 200, 'learning_rate': 0.008193188161404796, 'random_strength': 2, 'bagging_temperature': 1, 'max_bin': 4, 'grow_policy': 'SymmetricTree', 'min_data_in_leaf': 7, 'max_depth': 4, 'l2_leaf_reg': 0.7690948733178123, 'one_hot_max_size': 100, 'auto_class_weights': 'SqrtBalanced'}. Best is trial 6 with value: 0.8626982952022045.\u001b[0m\n"
     ]
    },
    {
     "name": "stdout",
     "output_type": "stream",
     "text": [
      "Stopped by overfitting detector  (8 iterations wait)\n"
     ]
    },
    {
     "name": "stderr",
     "output_type": "stream",
     "text": [
      "\u001b[32m[I 2021-07-12 21:30:40,910]\u001b[0m Trial 39 finished with value: 0.8602347972255283 and parameters: {'iterations': 1500, 'learning_rate': 0.05236980132011715, 'random_strength': 3, 'bagging_temperature': 10, 'max_bin': 6, 'grow_policy': 'SymmetricTree', 'min_data_in_leaf': 8, 'max_depth': 5, 'l2_leaf_reg': 1.2773639880074984e-08, 'one_hot_max_size': 100, 'auto_class_weights': 'Balanced'}. Best is trial 6 with value: 0.8626982952022045.\u001b[0m\n",
      "\u001b[32m[I 2021-07-12 21:31:16,028]\u001b[0m Trial 40 finished with value: 0.860804396154949 and parameters: {'iterations': 500, 'learning_rate': 0.03100470821157585, 'random_strength': 3, 'bagging_temperature': 1, 'max_bin': 30, 'grow_policy': 'Depthwise', 'min_data_in_leaf': 6, 'max_depth': 3, 'l2_leaf_reg': 0.0010185419341471238, 'one_hot_max_size': 500, 'auto_class_weights': 'Balanced'}. Best is trial 6 with value: 0.8626982952022045.\u001b[0m\n"
     ]
    },
    {
     "name": "stdout",
     "output_type": "stream",
     "text": [
      "Stopped by overfitting detector  (8 iterations wait)\n"
     ]
    },
    {
     "name": "stderr",
     "output_type": "stream",
     "text": [
      "\u001b[32m[I 2021-07-12 21:34:08,129]\u001b[0m Trial 41 finished with value: 0.8629466236010676 and parameters: {'iterations': 1500, 'learning_rate': 0.03291808362514427, 'random_strength': 1, 'bagging_temperature': 1, 'max_bin': 5, 'grow_policy': 'SymmetricTree', 'min_data_in_leaf': 8, 'max_depth': 4, 'l2_leaf_reg': 17.823861529588896, 'one_hot_max_size': 12, 'auto_class_weights': 'Balanced'}. Best is trial 41 with value: 0.8629466236010676.\u001b[0m\n"
     ]
    },
    {
     "name": "stdout",
     "output_type": "stream",
     "text": [
      "Stopped by overfitting detector  (8 iterations wait)\n"
     ]
    },
    {
     "name": "stderr",
     "output_type": "stream",
     "text": [
      "\u001b[32m[I 2021-07-12 21:34:42,009]\u001b[0m Trial 42 finished with value: 0.8622157698917007 and parameters: {'iterations': 1500, 'learning_rate': 0.08510344243321766, 'random_strength': 2, 'bagging_temperature': 2, 'max_bin': 5, 'grow_policy': 'SymmetricTree', 'min_data_in_leaf': 7, 'max_depth': 4, 'l2_leaf_reg': 29.766196411765232, 'one_hot_max_size': 25, 'auto_class_weights': 'Balanced'}. Best is trial 41 with value: 0.8629466236010676.\u001b[0m\n"
     ]
    },
    {
     "name": "stdout",
     "output_type": "stream",
     "text": [
      "Stopped by overfitting detector  (8 iterations wait)\n"
     ]
    },
    {
     "name": "stderr",
     "output_type": "stream",
     "text": [
      "\u001b[32m[I 2021-07-12 21:36:48,179]\u001b[0m Trial 43 finished with value: 0.8631053039011282 and parameters: {'iterations': 1500, 'learning_rate': 0.04012435893700535, 'random_strength': 1, 'bagging_temperature': 1, 'max_bin': 5, 'grow_policy': 'SymmetricTree', 'min_data_in_leaf': 8, 'max_depth': 5, 'l2_leaf_reg': 5.294668875077849, 'one_hot_max_size': 10, 'auto_class_weights': 'Balanced'}. Best is trial 43 with value: 0.8631053039011282.\u001b[0m\n"
     ]
    },
    {
     "name": "stdout",
     "output_type": "stream",
     "text": [
      "Stopped by overfitting detector  (8 iterations wait)\n"
     ]
    },
    {
     "name": "stderr",
     "output_type": "stream",
     "text": [
      "\u001b[32m[I 2021-07-12 21:38:06,345]\u001b[0m Trial 44 finished with value: 0.8630613839113904 and parameters: {'iterations': 1500, 'learning_rate': 0.05531247394315447, 'random_strength': 1, 'bagging_temperature': 2, 'max_bin': 5, 'grow_policy': 'SymmetricTree', 'min_data_in_leaf': 10, 'max_depth': 5, 'l2_leaf_reg': 4.812763331771353, 'one_hot_max_size': 10, 'auto_class_weights': 'Balanced'}. Best is trial 43 with value: 0.8631053039011282.\u001b[0m\n"
     ]
    },
    {
     "name": "stdout",
     "output_type": "stream",
     "text": [
      "Stopped by overfitting detector  (8 iterations wait)\n"
     ]
    },
    {
     "name": "stderr",
     "output_type": "stream",
     "text": [
      "\u001b[32m[I 2021-07-12 21:39:03,359]\u001b[0m Trial 45 finished with value: 0.862400486065324 and parameters: {'iterations': 300, 'learning_rate': 0.08690384441013776, 'random_strength': 3, 'bagging_temperature': 1, 'max_bin': 5, 'grow_policy': 'SymmetricTree', 'min_data_in_leaf': 10, 'max_depth': 5, 'l2_leaf_reg': 0.7137253551249758, 'one_hot_max_size': 10, 'auto_class_weights': 'SqrtBalanced'}. Best is trial 43 with value: 0.8631053039011282.\u001b[0m\n"
     ]
    },
    {
     "name": "stdout",
     "output_type": "stream",
     "text": [
      "Stopped by overfitting detector  (8 iterations wait)\n"
     ]
    },
    {
     "name": "stderr",
     "output_type": "stream",
     "text": [
      "\u001b[32m[I 2021-07-12 21:42:45,346]\u001b[0m Trial 46 finished with value: 0.8628933483520032 and parameters: {'iterations': 1200, 'learning_rate': 0.014493923563224098, 'random_strength': 1, 'bagging_temperature': 1, 'max_bin': 30, 'grow_policy': 'SymmetricTree', 'min_data_in_leaf': 10, 'max_depth': 6, 'l2_leaf_reg': 2.214848742330733, 'one_hot_max_size': 10, 'auto_class_weights': 'Balanced'}. Best is trial 43 with value: 0.8631053039011282.\u001b[0m\n",
      "\u001b[32m[I 2021-07-12 21:43:30,840]\u001b[0m Trial 47 finished with value: 0.8541127823942691 and parameters: {'iterations': 200, 'learning_rate': 0.012910694697924281, 'random_strength': 1, 'bagging_temperature': 1, 'max_bin': 30, 'grow_policy': 'SymmetricTree', 'min_data_in_leaf': 10, 'max_depth': 6, 'l2_leaf_reg': 2.4486093316049944, 'one_hot_max_size': 10, 'auto_class_weights': 'Balanced'}. Best is trial 43 with value: 0.8631053039011282.\u001b[0m\n"
     ]
    },
    {
     "name": "stdout",
     "output_type": "stream",
     "text": [
      "Stopped by overfitting detector  (8 iterations wait)\n"
     ]
    },
    {
     "name": "stderr",
     "output_type": "stream",
     "text": [
      "\u001b[32m[I 2021-07-12 21:45:31,258]\u001b[0m Trial 48 finished with value: 0.8627654560398942 and parameters: {'iterations': 1200, 'learning_rate': 0.041194605680506806, 'random_strength': 4, 'bagging_temperature': 1, 'max_bin': 30, 'grow_policy': 'SymmetricTree', 'min_data_in_leaf': 10, 'max_depth': 5, 'l2_leaf_reg': 0.04655801780693433, 'one_hot_max_size': 10, 'auto_class_weights': 'Balanced'}. Best is trial 43 with value: 0.8631053039011282.\u001b[0m\n"
     ]
    },
    {
     "name": "stdout",
     "output_type": "stream",
     "text": [
      "Stopped by overfitting detector  (8 iterations wait)\n"
     ]
    },
    {
     "name": "stderr",
     "output_type": "stream",
     "text": [
      "\u001b[32m[I 2021-07-12 21:47:10,712]\u001b[0m Trial 49 finished with value: 0.862397179203323 and parameters: {'iterations': 1200, 'learning_rate': 0.03871760759732019, 'random_strength': 3, 'bagging_temperature': 0, 'max_bin': 30, 'grow_policy': 'SymmetricTree', 'min_data_in_leaf': 10, 'max_depth': 5, 'l2_leaf_reg': 0.028692188682064083, 'one_hot_max_size': 10, 'auto_class_weights': 'Balanced'}. Best is trial 43 with value: 0.8631053039011282.\u001b[0m\n",
      "\u001b[32m[I 2021-07-12 21:52:01,002]\u001b[0m Trial 50 finished with value: 0.8540069731781059 and parameters: {'iterations': 1200, 'learning_rate': 0.0028899658645015203, 'random_strength': 4, 'bagging_temperature': 1, 'max_bin': 30, 'grow_policy': 'SymmetricTree', 'min_data_in_leaf': 9, 'max_depth': 6, 'l2_leaf_reg': 0.0036411142599251448, 'one_hot_max_size': 10, 'auto_class_weights': 'Balanced'}. Best is trial 43 with value: 0.8631053039011282.\u001b[0m\n"
     ]
    },
    {
     "name": "stdout",
     "output_type": "stream",
     "text": [
      "Stopped by overfitting detector  (8 iterations wait)\n"
     ]
    },
    {
     "name": "stderr",
     "output_type": "stream",
     "text": [
      "\u001b[32m[I 2021-07-12 21:56:02,989]\u001b[0m Trial 51 finished with value: 0.8628756527676906 and parameters: {'iterations': 1200, 'learning_rate': 0.01504640877766807, 'random_strength': 1, 'bagging_temperature': 1, 'max_bin': 30, 'grow_policy': 'SymmetricTree', 'min_data_in_leaf': 10, 'max_depth': 5, 'l2_leaf_reg': 0.17642891146334738, 'one_hot_max_size': 10, 'auto_class_weights': 'Balanced'}. Best is trial 43 with value: 0.8631053039011282.\u001b[0m\n"
     ]
    },
    {
     "name": "stdout",
     "output_type": "stream",
     "text": [
      "Stopped by overfitting detector  (8 iterations wait)\n"
     ]
    },
    {
     "name": "stderr",
     "output_type": "stream",
     "text": [
      "\u001b[32m[I 2021-07-12 21:58:45,557]\u001b[0m Trial 52 finished with value: 0.8621483604846938 and parameters: {'iterations': 1200, 'learning_rate': 0.018974004817276437, 'random_strength': 1, 'bagging_temperature': 1, 'max_bin': 30, 'grow_policy': 'SymmetricTree', 'min_data_in_leaf': 10, 'max_depth': 5, 'l2_leaf_reg': 0.0001916546391962657, 'one_hot_max_size': 10, 'auto_class_weights': 'Balanced'}. Best is trial 43 with value: 0.8631053039011282.\u001b[0m\n"
     ]
    },
    {
     "name": "stdout",
     "output_type": "stream",
     "text": [
      "Stopped by overfitting detector  (8 iterations wait)\n"
     ]
    },
    {
     "name": "stderr",
     "output_type": "stream",
     "text": [
      "\u001b[32m[I 2021-07-12 22:00:34,421]\u001b[0m Trial 53 finished with value: 0.8629180320383908 and parameters: {'iterations': 1200, 'learning_rate': 0.03995391356123135, 'random_strength': 2, 'bagging_temperature': 0, 'max_bin': 30, 'grow_policy': 'SymmetricTree', 'min_data_in_leaf': 10, 'max_depth': 5, 'l2_leaf_reg': 0.18658475591846327, 'one_hot_max_size': 10, 'auto_class_weights': 'Balanced'}. Best is trial 43 with value: 0.8631053039011282.\u001b[0m\n",
      "\u001b[32m[I 2021-07-12 22:04:59,936]\u001b[0m Trial 54 finished with value: 0.8447672306161191 and parameters: {'iterations': 1200, 'learning_rate': 0.0010442452069274518, 'random_strength': 2, 'bagging_temperature': 0, 'max_bin': 30, 'grow_policy': 'SymmetricTree', 'min_data_in_leaf': 9, 'max_depth': 6, 'l2_leaf_reg': 0.2062490594461113, 'one_hot_max_size': 10, 'auto_class_weights': 'Balanced'}. Best is trial 43 with value: 0.8631053039011282.\u001b[0m\n"
     ]
    },
    {
     "name": "stdout",
     "output_type": "stream",
     "text": [
      "Stopped by overfitting detector  (8 iterations wait)\n"
     ]
    },
    {
     "name": "stderr",
     "output_type": "stream",
     "text": [
      "\u001b[32m[I 2021-07-12 22:06:26,926]\u001b[0m Trial 55 finished with value: 0.8631648076658863 and parameters: {'iterations': 1200, 'learning_rate': 0.05538294788958143, 'random_strength': 1, 'bagging_temperature': 0, 'max_bin': 30, 'grow_policy': 'SymmetricTree', 'min_data_in_leaf': 1, 'max_depth': 5, 'l2_leaf_reg': 4.767209427703021, 'one_hot_max_size': 10, 'auto_class_weights': 'Balanced'}. Best is trial 55 with value: 0.8631648076658863.\u001b[0m\n"
     ]
    },
    {
     "name": "stdout",
     "output_type": "stream",
     "text": [
      "Stopped by overfitting detector  (8 iterations wait)\n"
     ]
    },
    {
     "name": "stderr",
     "output_type": "stream",
     "text": [
      "\u001b[32m[I 2021-07-12 22:07:14,244]\u001b[0m Trial 56 finished with value: 0.8633351414446357 and parameters: {'iterations': 1200, 'learning_rate': 0.05702761208876678, 'random_strength': 1, 'bagging_temperature': 0, 'max_bin': 30, 'grow_policy': 'Depthwise', 'min_data_in_leaf': 3, 'max_depth': 5, 'l2_leaf_reg': 4.356777742355234, 'one_hot_max_size': 10, 'auto_class_weights': 'Balanced'}. Best is trial 56 with value: 0.8633351414446357.\u001b[0m\n"
     ]
    },
    {
     "name": "stdout",
     "output_type": "stream",
     "text": [
      "Stopped by overfitting detector  (8 iterations wait)\n"
     ]
    },
    {
     "name": "stderr",
     "output_type": "stream",
     "text": [
      "\u001b[32m[I 2021-07-12 22:08:03,952]\u001b[0m Trial 57 finished with value: 0.863336657058032 and parameters: {'iterations': 1200, 'learning_rate': 0.05795395250208695, 'random_strength': 2, 'bagging_temperature': 0, 'max_bin': 30, 'grow_policy': 'Depthwise', 'min_data_in_leaf': 1, 'max_depth': 5, 'l2_leaf_reg': 4.941110328481645, 'one_hot_max_size': 10, 'auto_class_weights': 'Balanced'}. Best is trial 57 with value: 0.863336657058032.\u001b[0m\n"
     ]
    },
    {
     "name": "stdout",
     "output_type": "stream",
     "text": [
      "Stopped by overfitting detector  (8 iterations wait)\n"
     ]
    },
    {
     "name": "stderr",
     "output_type": "stream",
     "text": [
      "\u001b[32m[I 2021-07-12 22:09:04,593]\u001b[0m Trial 58 finished with value: 0.8629067074901505 and parameters: {'iterations': 500, 'learning_rate': 0.059136423132727045, 'random_strength': 1, 'bagging_temperature': 0, 'max_bin': 6, 'grow_policy': 'Depthwise', 'min_data_in_leaf': 1, 'max_depth': 3, 'l2_leaf_reg': 5.868433906504972, 'one_hot_max_size': 10, 'auto_class_weights': 'Balanced'}. Best is trial 57 with value: 0.863336657058032.\u001b[0m\n"
     ]
    },
    {
     "name": "stdout",
     "output_type": "stream",
     "text": [
      "Stopped by overfitting detector  (8 iterations wait)\n"
     ]
    },
    {
     "name": "stderr",
     "output_type": "stream",
     "text": [
      "\u001b[32m[I 2021-07-12 22:09:46,968]\u001b[0m Trial 59 finished with value: 0.8631533679169249 and parameters: {'iterations': 2000, 'learning_rate': 0.07579484026530653, 'random_strength': 2, 'bagging_temperature': 0, 'max_bin': 30, 'grow_policy': 'Depthwise', 'min_data_in_leaf': 2, 'max_depth': 4, 'l2_leaf_reg': 1.0891068535290322, 'one_hot_max_size': 10, 'auto_class_weights': 'SqrtBalanced'}. Best is trial 57 with value: 0.863336657058032.\u001b[0m\n"
     ]
    },
    {
     "name": "stdout",
     "output_type": "stream",
     "text": [
      "Stopped by overfitting detector  (8 iterations wait)\n"
     ]
    },
    {
     "name": "stderr",
     "output_type": "stream",
     "text": [
      "\u001b[32m[I 2021-07-12 22:10:26,586]\u001b[0m Trial 60 finished with value: 0.8626299061178557 and parameters: {'iterations': 1200, 'learning_rate': 0.08217679215182559, 'random_strength': 2, 'bagging_temperature': 8, 'max_bin': 30, 'grow_policy': 'Depthwise', 'min_data_in_leaf': 2, 'max_depth': 5, 'l2_leaf_reg': 0.9231705050800255, 'one_hot_max_size': 10, 'auto_class_weights': 'SqrtBalanced'}. Best is trial 57 with value: 0.863336657058032.\u001b[0m\n"
     ]
    },
    {
     "name": "stdout",
     "output_type": "stream",
     "text": [
      "Stopped by overfitting detector  (8 iterations wait)\n"
     ]
    },
    {
     "name": "stderr",
     "output_type": "stream",
     "text": [
      "\u001b[32m[I 2021-07-12 22:11:17,096]\u001b[0m Trial 61 finished with value: 0.8635541167908904 and parameters: {'iterations': 2000, 'learning_rate': 0.07310876332831831, 'random_strength': 1, 'bagging_temperature': 0, 'max_bin': 30, 'grow_policy': 'Depthwise', 'min_data_in_leaf': 1, 'max_depth': 4, 'l2_leaf_reg': 4.454291285733577, 'one_hot_max_size': 10, 'auto_class_weights': 'SqrtBalanced'}. Best is trial 61 with value: 0.8635541167908904.\u001b[0m\n"
     ]
    },
    {
     "name": "stdout",
     "output_type": "stream",
     "text": [
      "Stopped by overfitting detector  (8 iterations wait)\n"
     ]
    },
    {
     "name": "stderr",
     "output_type": "stream",
     "text": [
      "\u001b[32m[I 2021-07-12 22:12:00,397]\u001b[0m Trial 62 finished with value: 0.8630409759861067 and parameters: {'iterations': 2000, 'learning_rate': 0.06879461265432088, 'random_strength': 2, 'bagging_temperature': 0, 'max_bin': 30, 'grow_policy': 'Depthwise', 'min_data_in_leaf': 1, 'max_depth': 4, 'l2_leaf_reg': 4.382839171825742, 'one_hot_max_size': 10, 'auto_class_weights': 'SqrtBalanced'}. Best is trial 61 with value: 0.8635541167908904.\u001b[0m\n"
     ]
    },
    {
     "name": "stdout",
     "output_type": "stream",
     "text": [
      "Stopped by overfitting detector  (8 iterations wait)\n"
     ]
    },
    {
     "name": "stderr",
     "output_type": "stream",
     "text": [
      "\u001b[32m[I 2021-07-12 22:12:39,298]\u001b[0m Trial 63 finished with value: 0.8632651328142185 and parameters: {'iterations': 2000, 'learning_rate': 0.07823185256722659, 'random_strength': 1, 'bagging_temperature': 0, 'max_bin': 30, 'grow_policy': 'Depthwise', 'min_data_in_leaf': 3, 'max_depth': 5, 'l2_leaf_reg': 38.87603193605458, 'one_hot_max_size': 10, 'auto_class_weights': 'SqrtBalanced'}. Best is trial 61 with value: 0.8635541167908904.\u001b[0m\n"
     ]
    },
    {
     "name": "stdout",
     "output_type": "stream",
     "text": [
      "Stopped by overfitting detector  (8 iterations wait)\n"
     ]
    },
    {
     "name": "stderr",
     "output_type": "stream",
     "text": [
      "\u001b[32m[I 2021-07-12 22:13:30,126]\u001b[0m Trial 64 finished with value: 0.862472659857478 and parameters: {'iterations': 2000, 'learning_rate': 0.07585102516978505, 'random_strength': 3, 'bagging_temperature': 0, 'max_bin': 30, 'grow_policy': 'Depthwise', 'min_data_in_leaf': 3, 'max_depth': 4, 'l2_leaf_reg': 8.812523352964348, 'one_hot_max_size': 10, 'auto_class_weights': 'SqrtBalanced'}. Best is trial 61 with value: 0.8635541167908904.\u001b[0m\n"
     ]
    },
    {
     "name": "stdout",
     "output_type": "stream",
     "text": [
      "Stopped by overfitting detector  (8 iterations wait)\n"
     ]
    },
    {
     "name": "stderr",
     "output_type": "stream",
     "text": [
      "\u001b[32m[I 2021-07-12 22:14:16,895]\u001b[0m Trial 65 finished with value: 0.8627246789998193 and parameters: {'iterations': 2000, 'learning_rate': 0.07617327057858764, 'random_strength': 2, 'bagging_temperature': 0, 'max_bin': 30, 'grow_policy': 'Depthwise', 'min_data_in_leaf': 2, 'max_depth': 4, 'l2_leaf_reg': 29.742653095812166, 'one_hot_max_size': 10, 'auto_class_weights': 'SqrtBalanced'}. Best is trial 61 with value: 0.8635541167908904.\u001b[0m\n"
     ]
    },
    {
     "name": "stdout",
     "output_type": "stream",
     "text": [
      "Stopped by overfitting detector  (8 iterations wait)\n"
     ]
    },
    {
     "name": "stderr",
     "output_type": "stream",
     "text": [
      "\u001b[32m[I 2021-07-12 22:14:44,647]\u001b[0m Trial 66 finished with value: 0.8627901381418585 and parameters: {'iterations': 2000, 'learning_rate': 0.09555279814873477, 'random_strength': 1, 'bagging_temperature': 0, 'max_bin': 30, 'grow_policy': 'Depthwise', 'min_data_in_leaf': 3, 'max_depth': 5, 'l2_leaf_reg': 1.0333791092746931, 'one_hot_max_size': 10, 'auto_class_weights': 'SqrtBalanced'}. Best is trial 61 with value: 0.8635541167908904.\u001b[0m\n"
     ]
    },
    {
     "name": "stdout",
     "output_type": "stream",
     "text": [
      "Stopped by overfitting detector  (8 iterations wait)\n"
     ]
    },
    {
     "name": "stderr",
     "output_type": "stream",
     "text": [
      "\u001b[32m[I 2021-07-12 22:15:20,198]\u001b[0m Trial 67 finished with value: 0.862571997350848 and parameters: {'iterations': 2000, 'learning_rate': 0.11249779318263847, 'random_strength': 1, 'bagging_temperature': 0, 'max_bin': 30, 'grow_policy': 'Depthwise', 'min_data_in_leaf': 1, 'max_depth': 6, 'l2_leaf_reg': 32.715786869464225, 'one_hot_max_size': 10, 'auto_class_weights': 'SqrtBalanced'}. Best is trial 61 with value: 0.8635541167908904.\u001b[0m\n"
     ]
    },
    {
     "name": "stdout",
     "output_type": "stream",
     "text": [
      "Stopped by overfitting detector  (8 iterations wait)\n"
     ]
    },
    {
     "name": "stderr",
     "output_type": "stream",
     "text": [
      "\u001b[32m[I 2021-07-12 22:16:19,721]\u001b[0m Trial 68 finished with value: 0.8637094552038512 and parameters: {'iterations': 2000, 'learning_rate': 0.0647020282001146, 'random_strength': 2, 'bagging_temperature': 0, 'max_bin': 30, 'grow_policy': 'Depthwise', 'min_data_in_leaf': 4, 'max_depth': 5, 'l2_leaf_reg': 50.04446925880975, 'one_hot_max_size': 10, 'auto_class_weights': 'SqrtBalanced'}. Best is trial 68 with value: 0.8637094552038512.\u001b[0m\n"
     ]
    },
    {
     "name": "stdout",
     "output_type": "stream",
     "text": [
      "Stopped by overfitting detector  (8 iterations wait)\n"
     ]
    },
    {
     "name": "stderr",
     "output_type": "stream",
     "text": [
      "\u001b[32m[I 2021-07-12 22:16:42,315]\u001b[0m Trial 69 finished with value: 0.8616633213697209 and parameters: {'iterations': 2000, 'learning_rate': 0.09486130139781393, 'random_strength': 2, 'bagging_temperature': 0, 'max_bin': 30, 'grow_policy': 'Depthwise', 'min_data_in_leaf': 4, 'max_depth': 3, 'l2_leaf_reg': 44.43731256224508, 'one_hot_max_size': 500, 'auto_class_weights': 'SqrtBalanced'}. Best is trial 68 with value: 0.8637094552038512.\u001b[0m\n"
     ]
    },
    {
     "name": "stdout",
     "output_type": "stream",
     "text": [
      "Stopped by overfitting detector  (8 iterations wait)\n"
     ]
    },
    {
     "name": "stderr",
     "output_type": "stream",
     "text": [
      "\u001b[32m[I 2021-07-12 22:17:40,427]\u001b[0m Trial 70 finished with value: 0.8627644850923304 and parameters: {'iterations': 2000, 'learning_rate': 0.06093541348374671, 'random_strength': 3, 'bagging_temperature': 0, 'max_bin': 30, 'grow_policy': 'Depthwise', 'min_data_in_leaf': 2, 'max_depth': 4, 'l2_leaf_reg': 98.6318505997737, 'one_hot_max_size': 5, 'auto_class_weights': 'SqrtBalanced'}. Best is trial 68 with value: 0.8637094552038512.\u001b[0m\n"
     ]
    },
    {
     "name": "stdout",
     "output_type": "stream",
     "text": [
      "Stopped by overfitting detector  (8 iterations wait)\n"
     ]
    },
    {
     "name": "stderr",
     "output_type": "stream",
     "text": [
      "\u001b[32m[I 2021-07-12 22:18:27,986]\u001b[0m Trial 71 finished with value: 0.8629219070845731 and parameters: {'iterations': 2000, 'learning_rate': 0.07472070663276764, 'random_strength': 2, 'bagging_temperature': 0, 'max_bin': 30, 'grow_policy': 'Depthwise', 'min_data_in_leaf': 2, 'max_depth': 5, 'l2_leaf_reg': 9.81275491678058, 'one_hot_max_size': 10, 'auto_class_weights': 'SqrtBalanced'}. Best is trial 68 with value: 0.8637094552038512.\u001b[0m\n"
     ]
    },
    {
     "name": "stdout",
     "output_type": "stream",
     "text": [
      "Stopped by overfitting detector  (8 iterations wait)\n"
     ]
    },
    {
     "name": "stderr",
     "output_type": "stream",
     "text": [
      "\u001b[32m[I 2021-07-12 22:19:18,308]\u001b[0m Trial 72 finished with value: 0.8631210524060586 and parameters: {'iterations': 2000, 'learning_rate': 0.048552385823553854, 'random_strength': 1, 'bagging_temperature': 0, 'max_bin': 20, 'grow_policy': 'Depthwise', 'min_data_in_leaf': 4, 'max_depth': 5, 'l2_leaf_reg': 0.44088219820618896, 'one_hot_max_size': 10, 'auto_class_weights': 'SqrtBalanced'}. Best is trial 68 with value: 0.8637094552038512.\u001b[0m\n"
     ]
    },
    {
     "name": "stdout",
     "output_type": "stream",
     "text": [
      "Stopped by overfitting detector  (8 iterations wait)\n"
     ]
    },
    {
     "name": "stderr",
     "output_type": "stream",
     "text": [
      "\u001b[32m[I 2021-07-12 22:20:12,117]\u001b[0m Trial 73 finished with value: 0.8623630733076553 and parameters: {'iterations': 2000, 'learning_rate': 0.04820652592477086, 'random_strength': 1, 'bagging_temperature': 0, 'max_bin': 20, 'grow_policy': 'Depthwise', 'min_data_in_leaf': 4, 'max_depth': 6, 'l2_leaf_reg': 0.3089687450075541, 'one_hot_max_size': 10, 'auto_class_weights': 'SqrtBalanced'}. Best is trial 68 with value: 0.8637094552038512.\u001b[0m\n"
     ]
    },
    {
     "name": "stdout",
     "output_type": "stream",
     "text": [
      "Stopped by overfitting detector  (8 iterations wait)\n"
     ]
    },
    {
     "name": "stderr",
     "output_type": "stream",
     "text": [
      "\u001b[32m[I 2021-07-12 22:20:51,649]\u001b[0m Trial 74 finished with value: 0.8624337826045686 and parameters: {'iterations': 2000, 'learning_rate': 0.08950725519297613, 'random_strength': 2, 'bagging_temperature': 0, 'max_bin': 20, 'grow_policy': 'Depthwise', 'min_data_in_leaf': 3, 'max_depth': 5, 'l2_leaf_reg': 1.4122647681571165, 'one_hot_max_size': 10, 'auto_class_weights': 'SqrtBalanced'}. Best is trial 68 with value: 0.8637094552038512.\u001b[0m\n"
     ]
    }
   ],
   "source": [
    "sampler = optuna.samplers.TPESampler(seed=42)\n",
    "study = optuna.create_study(direction=\"maximize\", sampler=sampler)\n",
    "study.optimize(objective, n_trials=75)"
   ]
  },
  {
   "cell_type": "code",
   "execution_count": 28,
   "metadata": {},
   "outputs": [
    {
     "data": {
      "text/plain": [
       "{'iterations': 2000,\n",
       " 'learning_rate': 0.0647020282001146,\n",
       " 'random_strength': 2,\n",
       " 'bagging_temperature': 0,\n",
       " 'max_bin': 30,\n",
       " 'grow_policy': 'Depthwise',\n",
       " 'min_data_in_leaf': 4,\n",
       " 'max_depth': 5,\n",
       " 'l2_leaf_reg': 50.04446925880975,\n",
       " 'one_hot_max_size': 10,\n",
       " 'auto_class_weights': 'SqrtBalanced'}"
      ]
     },
     "execution_count": 28,
     "metadata": {},
     "output_type": "execute_result"
    }
   ],
   "source": [
    "trial = study.best_trial\n",
    "final_model = CatBoostClassifier(verbose=False,  cat_features=categorical_features_indices, \n",
    "                          **trial.params)\n",
    "trial.params"
   ]
  },
  {
   "cell_type": "code",
   "execution_count": 34,
   "metadata": {},
   "outputs": [],
   "source": [
    "params = trial.params\n",
    "final_seas_model = CatBoostClassifier(cat_features=categorical_features_indices,\n",
    "                                     verbose=False,\n",
    "                                     iterations=2000,\n",
    "                                     learning_rate=0.0647020282001146,\n",
    "                                     random_strength=2,\n",
    "                                     bagging_temperature=0,\n",
    "                                     max_bin=30,\n",
    "                                     grow_policy='Depthwise',\n",
    "                                     min_data_in_leaf=4,\n",
    "                                     max_depth=5,\n",
    "                                     l2_leaf_reg=50.04446925880975,\n",
    "                                     one_hot_max_size=10,\n",
    "                                     auto_class_weights='SqrtBalanced').fit(seas_train_trans, seas_labels)"
   ]
  },
  {
   "cell_type": "code",
   "execution_count": 30,
   "metadata": {},
   "outputs": [],
   "source": [
    "params = trial.params\n",
    "final_seas_model = CatBoostClassifier(cat_features=categorical_features_indices,\n",
    "                                     verbose=False,\n",
    "                                     **params)"
   ]
  },
  {
   "cell_type": "markdown",
   "metadata": {},
   "source": [
    "### Train Accuracy"
   ]
  },
  {
   "cell_type": "code",
   "execution_count": 35,
   "metadata": {},
   "outputs": [],
   "source": [
    "h1n1_train_data = train_test.copy()\n",
    "h1n1_train_data[num_cols] = h1n1_scaler.transform(h1n1_train_data[num_cols])\n",
    "\n",
    "seas_train_data = train_test.copy()\n",
    "seas_train_data[num_cols] = seas_scaler.transform(seas_train_data[num_cols])"
   ]
  },
  {
   "cell_type": "code",
   "execution_count": 36,
   "metadata": {},
   "outputs": [],
   "source": [
    "y_predicted_h1n1 = final_h1n1_model.predict_proba(h1n1_train_data)[:,1].reshape(-1,1)\n",
    "y_predicted_seas = final_seas_model.predict_proba(seas_train_data)[:,1].reshape(-1,1)\n",
    "\n",
    "y_true = np.array(labels)\n",
    "\n",
    "y_predicted = np.concatenate((y_predicted_h1n1, y_predicted_seas), axis=1)"
   ]
  },
  {
   "cell_type": "code",
   "execution_count": 37,
   "metadata": {},
   "outputs": [
    {
     "data": {
      "text/plain": [
       "0.9265800144791575"
      ]
     },
     "execution_count": 37,
     "metadata": {},
     "output_type": "execute_result"
    }
   ],
   "source": [
    "roc_auc_score(np.array(labels), y_predicted)"
   ]
  },
  {
   "cell_type": "markdown",
   "metadata": {},
   "source": [
    "# Submission"
   ]
  },
  {
   "cell_type": "code",
   "execution_count": 38,
   "metadata": {},
   "outputs": [],
   "source": [
    "test = pd.read_csv('../Data/test_set_features.csv', index_col='respondent_id')\n",
    "full_test = test.copy()"
   ]
  },
  {
   "cell_type": "code",
   "execution_count": 39,
   "metadata": {},
   "outputs": [],
   "source": [
    "num_cols = list(test.select_dtypes('number').columns)\n",
    "\n",
    "cat_cols = [\n",
    "    'race',\n",
    "    'sex',\n",
    "    'marital_status',\n",
    "    'rent_or_own',\n",
    "    'hhs_geo_region',\n",
    "    'census_msa',\n",
    "    'employment_industry',\n",
    "    'employment_occupation'\n",
    "]\n",
    "\n",
    "ord_cols = [\n",
    "    'age_group',\n",
    "    'education',\n",
    "    'income_poverty',\n",
    "    'employment_status'\n",
    "]\n",
    "\n",
    "\n",
    "#Impute Test\n",
    "for col in num_cols:\n",
    "    test[col] = test[col].fillna(value=-1)\n",
    "\n",
    "\n",
    "for col in (cat_cols+ord_cols):\n",
    "    test[col] = test[col].fillna(value='None')\n",
    "\n",
    "    \n",
    "test['age_group'] = test['age_group'].map({\n",
    "    '18 - 34 Years': 1,\n",
    "    '35 - 44 Years': 2,\n",
    "    '45 - 54 Years': 3,\n",
    "    '55 - 64 Years': 4,\n",
    "    '65+ Years': 5\n",
    "})\n",
    "    \n",
    "test['education'] = test['education'].map({\n",
    "    '< 12 Years': 1,\n",
    "    '12 Years': 2,\n",
    "    'Some College': 3,\n",
    "    'College Graduate': 4,\n",
    "    'None': -1\n",
    "})\n",
    "\n",
    "test['income_poverty'] = test['income_poverty'].map({\n",
    "    'None': -1,\n",
    "    'Below Poverty': 1,\n",
    "    '<= $75,000, Above Poverty': 2,\n",
    "    '> $75,000': 3\n",
    "})\n",
    "\n",
    "test['employment_status'] = test['employment_status'].map({\n",
    "    'None': -1,\n",
    "    'Unemployed': 1,\n",
    "    'Employed': 2,\n",
    "    'Not in Labor Force': 3\n",
    "})"
   ]
  },
  {
   "cell_type": "code",
   "execution_count": 40,
   "metadata": {},
   "outputs": [],
   "source": [
    "test_h1n1 = test.copy()\n",
    "test_seas = test.copy()\n",
    "\n",
    "test_h1n1[num_cols] = h1n1_scaler.transform(test_h1n1[num_cols])\n",
    "test_seas[num_cols] = seas_scaler.transform(test_seas[num_cols])"
   ]
  },
  {
   "cell_type": "code",
   "execution_count": 41,
   "metadata": {},
   "outputs": [],
   "source": [
    "y_h1n1 = final_h1n1_model.predict_proba(test_h1n1)[:,1].reshape(-1,1)\n",
    "y_seas = final_seas_model.predict_proba(test_seas)[:,1].reshape(-1,1)\n",
    "\n",
    "y_comb = np.concatenate((y_h1n1, y_seas), axis=1)"
   ]
  },
  {
   "cell_type": "code",
   "execution_count": 42,
   "metadata": {},
   "outputs": [
    {
     "data": {
      "text/plain": [
       "array([[0.28747632, 0.15994814],\n",
       "       [0.11570729, 0.01653142],\n",
       "       [0.41235066, 0.79593744],\n",
       "       ...,\n",
       "       [0.38341579, 0.13381159],\n",
       "       [0.05137968, 0.34525411],\n",
       "       [0.81370657, 0.58536735]])"
      ]
     },
     "execution_count": 42,
     "metadata": {},
     "output_type": "execute_result"
    }
   ],
   "source": [
    "y_comb"
   ]
  },
  {
   "cell_type": "code",
   "execution_count": 43,
   "metadata": {},
   "outputs": [],
   "source": [
    "results = pd.DataFrame(y_comb, columns=['h1n1_vaccine', 'seasonal_vaccine'], index=test.index)\n",
    "\n",
    "submission = pd.concat([full_test, results], axis=1)\n",
    "submission = submission[['h1n1_vaccine', 'seasonal_vaccine']]"
   ]
  },
  {
   "cell_type": "code",
   "execution_count": 44,
   "metadata": {},
   "outputs": [
    {
     "data": {
      "text/html": [
       "<div>\n",
       "<style scoped>\n",
       "    .dataframe tbody tr th:only-of-type {\n",
       "        vertical-align: middle;\n",
       "    }\n",
       "\n",
       "    .dataframe tbody tr th {\n",
       "        vertical-align: top;\n",
       "    }\n",
       "\n",
       "    .dataframe thead th {\n",
       "        text-align: right;\n",
       "    }\n",
       "</style>\n",
       "<table border=\"1\" class=\"dataframe\">\n",
       "  <thead>\n",
       "    <tr style=\"text-align: right;\">\n",
       "      <th></th>\n",
       "      <th>h1n1_vaccine</th>\n",
       "      <th>seasonal_vaccine</th>\n",
       "    </tr>\n",
       "    <tr>\n",
       "      <th>respondent_id</th>\n",
       "      <th></th>\n",
       "      <th></th>\n",
       "    </tr>\n",
       "  </thead>\n",
       "  <tbody>\n",
       "    <tr>\n",
       "      <th>26707</th>\n",
       "      <td>0.287476</td>\n",
       "      <td>0.159948</td>\n",
       "    </tr>\n",
       "    <tr>\n",
       "      <th>26708</th>\n",
       "      <td>0.115707</td>\n",
       "      <td>0.016531</td>\n",
       "    </tr>\n",
       "    <tr>\n",
       "      <th>26709</th>\n",
       "      <td>0.412351</td>\n",
       "      <td>0.795937</td>\n",
       "    </tr>\n",
       "    <tr>\n",
       "      <th>26710</th>\n",
       "      <td>0.868239</td>\n",
       "      <td>0.903654</td>\n",
       "    </tr>\n",
       "    <tr>\n",
       "      <th>26711</th>\n",
       "      <td>0.616027</td>\n",
       "      <td>0.497508</td>\n",
       "    </tr>\n",
       "    <tr>\n",
       "      <th>...</th>\n",
       "      <td>...</td>\n",
       "      <td>...</td>\n",
       "    </tr>\n",
       "    <tr>\n",
       "      <th>53410</th>\n",
       "      <td>0.618118</td>\n",
       "      <td>0.489700</td>\n",
       "    </tr>\n",
       "    <tr>\n",
       "      <th>53411</th>\n",
       "      <td>0.405331</td>\n",
       "      <td>0.300675</td>\n",
       "    </tr>\n",
       "    <tr>\n",
       "      <th>53412</th>\n",
       "      <td>0.383416</td>\n",
       "      <td>0.133812</td>\n",
       "    </tr>\n",
       "    <tr>\n",
       "      <th>53413</th>\n",
       "      <td>0.051380</td>\n",
       "      <td>0.345254</td>\n",
       "    </tr>\n",
       "    <tr>\n",
       "      <th>53414</th>\n",
       "      <td>0.813707</td>\n",
       "      <td>0.585367</td>\n",
       "    </tr>\n",
       "  </tbody>\n",
       "</table>\n",
       "<p>26708 rows × 2 columns</p>\n",
       "</div>"
      ],
      "text/plain": [
       "               h1n1_vaccine  seasonal_vaccine\n",
       "respondent_id                                \n",
       "26707              0.287476          0.159948\n",
       "26708              0.115707          0.016531\n",
       "26709              0.412351          0.795937\n",
       "26710              0.868239          0.903654\n",
       "26711              0.616027          0.497508\n",
       "...                     ...               ...\n",
       "53410              0.618118          0.489700\n",
       "53411              0.405331          0.300675\n",
       "53412              0.383416          0.133812\n",
       "53413              0.051380          0.345254\n",
       "53414              0.813707          0.585367\n",
       "\n",
       "[26708 rows x 2 columns]"
      ]
     },
     "execution_count": 44,
     "metadata": {},
     "output_type": "execute_result"
    }
   ],
   "source": [
    "submission"
   ]
  },
  {
   "cell_type": "code",
   "execution_count": 45,
   "metadata": {},
   "outputs": [],
   "source": [
    "today = datetime.today().date()\n",
    "\n",
    "submission.to_csv(f'../Submissions/Neural Network Submission {today}.csv')"
   ]
  },
  {
   "cell_type": "code",
   "execution_count": null,
   "metadata": {},
   "outputs": [],
   "source": [
    "submission"
   ]
  },
  {
   "cell_type": "code",
   "execution_count": null,
   "metadata": {},
   "outputs": [],
   "source": []
  },
  {
   "cell_type": "code",
   "execution_count": null,
   "metadata": {},
   "outputs": [],
   "source": []
  },
  {
   "cell_type": "code",
   "execution_count": null,
   "metadata": {},
   "outputs": [],
   "source": []
  },
  {
   "cell_type": "code",
   "execution_count": null,
   "metadata": {},
   "outputs": [],
   "source": []
  },
  {
   "cell_type": "code",
   "execution_count": null,
   "metadata": {},
   "outputs": [],
   "source": []
  }
 ],
 "metadata": {
  "kernelspec": {
   "display_name": "Python 3",
   "language": "python",
   "name": "python3"
  },
  "language_info": {
   "codemirror_mode": {
    "name": "ipython",
    "version": 3
   },
   "file_extension": ".py",
   "mimetype": "text/x-python",
   "name": "python",
   "nbconvert_exporter": "python",
   "pygments_lexer": "ipython3",
   "version": "3.8.3"
  }
 },
 "nbformat": 4,
 "nbformat_minor": 4
}
