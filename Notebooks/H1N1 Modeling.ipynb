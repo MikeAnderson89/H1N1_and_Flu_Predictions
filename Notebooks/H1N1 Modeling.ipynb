{
 "cells": [
  {
   "cell_type": "code",
   "execution_count": 2,
   "metadata": {},
   "outputs": [],
   "source": [
    "import pandas as pd\n",
    "import numpy as np\n",
    "import tensorflow as tf\n",
    "from datetime import datetime\n",
    "import matplotlib.pyplot as plt\n",
    "import seaborn as sns"
   ]
  },
  {
   "cell_type": "code",
   "execution_count": 3,
   "metadata": {},
   "outputs": [],
   "source": [
    "features = pd.read_csv('../Data/training_set_features.csv')\n",
    "labels = pd.read_csv('../Data/training_set_labels.csv')"
   ]
  },
  {
   "cell_type": "code",
   "execution_count": 4,
   "metadata": {},
   "outputs": [],
   "source": [
    "df = pd.merge(features, labels, on='respondent_id', how='inner')"
   ]
  },
  {
   "cell_type": "code",
   "execution_count": 5,
   "metadata": {},
   "outputs": [],
   "source": [
    "df = df.drop(columns=['employment_occupation', 'employment_industry', 'health_insurance', 'respondent_id'])"
   ]
  },
  {
   "cell_type": "code",
   "execution_count": 6,
   "metadata": {},
   "outputs": [],
   "source": [
    "seas_df = df.drop(columns=['h1n1_concern',\n",
    "                          'h1n1_knowledge',\n",
    "                          'doctor_recc_h1n1',\n",
    "                          'opinion_h1n1_vacc_effective',\n",
    "                          'opinion_h1n1_risk',\n",
    "                          'opinion_h1n1_sick_from_vacc',\n",
    "                          'h1n1_vaccine'])\n",
    "\n",
    "h1n1_df = df.drop(columns=['doctor_recc_seasonal',\n",
    "                          'opinion_seas_vacc_effective',\n",
    "                          'opinion_seas_risk',\n",
    "                          'opinion_seas_sick_from_vacc',\n",
    "                          'seasonal_vaccine'])"
   ]
  },
  {
   "cell_type": "code",
   "execution_count": 7,
   "metadata": {},
   "outputs": [],
   "source": [
    "categorical_columns = [\n",
    "    'sex',\n",
    "    'hhs_geo_region',\n",
    "    'census_msa',\n",
    "    'race',\n",
    "    'age_group',\n",
    "    'behavioral_face_mask',\n",
    "    'behavioral_wash_hands',\n",
    "    'behavioral_antiviral_meds',\n",
    "    'behavioral_outside_home',\n",
    "    'behavioral_large_gatherings',\n",
    "    'behavioral_touch_face',\n",
    "    'behavioral_avoidance',\n",
    "    'health_worker',\n",
    "    'child_under_6_months',\n",
    "    'chronic_med_condition',\n",
    "    'education',\n",
    "    'marital_status',\n",
    "    'employment_status',\n",
    "    'rent_or_own',\n",
    "    'doctor_recc_h1n1',\n",
    "    'doctor_recc_seasonal',\n",
    "    'income_poverty'\n",
    "]\n",
    "\n",
    "numerical_columns = [\n",
    "    'household_children',\n",
    "    'household_adults',\n",
    "    'h1n1_concern',\n",
    "    'h1n1_knowledge',\n",
    "    'opinion_h1n1_risk',\n",
    "    'opinion_h1n1_vacc_effective',\n",
    "    'opinion_h1n1_sick_from_vacc',\n",
    "    'opinion_seas_vacc_effective',\n",
    "    'opinion_seas_risk',\n",
    "    'opinion_seas_sick_from_vacc',\n",
    "    \n",
    "]\n",
    "\n",
    "for column in categorical_columns:\n",
    "    curr_col = df[column]\n",
    "    df.loc[df[column] == 1, column] = 'Yes'\n",
    "    df.loc[df[column] == 0, column] = 'No'\n",
    "\n"
   ]
  },
  {
   "cell_type": "markdown",
   "metadata": {},
   "source": [
    "## Deal with NAs"
   ]
  },
  {
   "cell_type": "code",
   "execution_count": 8,
   "metadata": {},
   "outputs": [
    {
     "data": {
      "text/plain": [
       "seasonal_vaccine                0.000000\n",
       "census_msa                      0.000000\n",
       "hhs_geo_region                  0.000000\n",
       "sex                             0.000000\n",
       "race                            0.000000\n",
       "age_group                       0.000000\n",
       "h1n1_vaccine                    0.000000\n",
       "behavioral_face_mask            0.071142\n",
       "behavioral_wash_hands           0.157262\n",
       "behavioral_antiviral_meds       0.265848\n",
       "behavioral_outside_home         0.307036\n",
       "behavioral_large_gatherings     0.325757\n",
       "h1n1_concern                    0.344479\n",
       "h1n1_knowledge                  0.434343\n",
       "behavioral_touch_face           0.479275\n",
       "behavioral_avoidance            0.778822\n",
       "household_children              0.932340\n",
       "household_adults                0.932340\n",
       "opinion_h1n1_risk               1.452803\n",
       "opinion_h1n1_vacc_effective     1.464036\n",
       "opinion_h1n1_sick_from_vacc     1.479013\n",
       "opinion_seas_vacc_effective     1.729884\n",
       "opinion_seas_risk               1.924589\n",
       "opinion_seas_sick_from_vacc     2.010709\n",
       "health_worker                   3.010447\n",
       "child_under_6_months            3.070356\n",
       "chronic_med_condition           3.635751\n",
       "education                       5.268282\n",
       "marital_status                  5.272026\n",
       "employment_status               5.477965\n",
       "rent_or_own                     7.645936\n",
       "doctor_recc_h1n1                8.087767\n",
       "doctor_recc_seasonal            8.087767\n",
       "income_poverty                 16.561201\n",
       "dtype: float64"
      ]
     },
     "execution_count": 8,
     "metadata": {},
     "output_type": "execute_result"
    }
   ],
   "source": [
    "((df.isnull().sum() / len(df)) * 100).sort_values()"
   ]
  },
  {
   "cell_type": "code",
   "execution_count": 144,
   "metadata": {},
   "outputs": [],
   "source": [
    "for column in numerical_columns:\n",
    "    df[column] = df[column].fillna(df[column].mean())\n",
    "\n",
    "df = df.dropna()"
   ]
  },
  {
   "cell_type": "code",
   "execution_count": null,
   "metadata": {},
   "outputs": [],
   "source": []
  },
  {
   "cell_type": "markdown",
   "metadata": {},
   "source": [
    "## Initial Run"
   ]
  },
  {
   "cell_type": "code",
   "execution_count": 146,
   "metadata": {},
   "outputs": [
    {
     "ename": "KeyError",
     "evalue": "\"['h1n1_vaccine' 'seasonal_vaccine'] not found in axis\"",
     "output_type": "error",
     "traceback": [
      "\u001b[1;31m---------------------------------------------------------------------------\u001b[0m",
      "\u001b[1;31mKeyError\u001b[0m                                  Traceback (most recent call last)",
      "\u001b[1;32m<ipython-input-146-d2eaa8b26383>\u001b[0m in \u001b[0;36m<module>\u001b[1;34m\u001b[0m\n\u001b[1;32m----> 1\u001b[1;33m \u001b[0mX\u001b[0m \u001b[1;33m=\u001b[0m \u001b[0mdf\u001b[0m\u001b[1;33m.\u001b[0m\u001b[0mdrop\u001b[0m\u001b[1;33m(\u001b[0m\u001b[0mcolumns\u001b[0m\u001b[1;33m=\u001b[0m\u001b[1;33m[\u001b[0m\u001b[1;34m'h1n1_vaccine'\u001b[0m\u001b[1;33m,\u001b[0m \u001b[1;34m'seasonal_vaccine'\u001b[0m\u001b[1;33m]\u001b[0m\u001b[1;33m)\u001b[0m\u001b[1;33m\u001b[0m\u001b[1;33m\u001b[0m\u001b[0m\n\u001b[0m\u001b[0;32m      2\u001b[0m \u001b[0my\u001b[0m \u001b[1;33m=\u001b[0m \u001b[0mdf\u001b[0m\u001b[1;33m[\u001b[0m\u001b[1;33m[\u001b[0m\u001b[1;34m'h1n1_vaccine'\u001b[0m\u001b[1;33m,\u001b[0m \u001b[1;34m'seasonal_vaccine'\u001b[0m\u001b[1;33m]\u001b[0m\u001b[1;33m]\u001b[0m\u001b[1;33m\u001b[0m\u001b[1;33m\u001b[0m\u001b[0m\n\u001b[0;32m      3\u001b[0m \u001b[0my_h1n1\u001b[0m \u001b[1;33m=\u001b[0m \u001b[0mdf\u001b[0m\u001b[1;33m[\u001b[0m\u001b[1;33m[\u001b[0m\u001b[1;34m'h1n1_vaccine'\u001b[0m\u001b[1;33m]\u001b[0m\u001b[1;33m]\u001b[0m\u001b[1;33m\u001b[0m\u001b[1;33m\u001b[0m\u001b[0m\n\u001b[0;32m      4\u001b[0m \u001b[0my_seas\u001b[0m \u001b[1;33m=\u001b[0m \u001b[0mdf\u001b[0m\u001b[1;33m[\u001b[0m\u001b[1;33m[\u001b[0m\u001b[1;34m'seasonal_vaccine'\u001b[0m\u001b[1;33m]\u001b[0m\u001b[1;33m]\u001b[0m\u001b[1;33m\u001b[0m\u001b[1;33m\u001b[0m\u001b[0m\n",
      "\u001b[1;32m~\\Anaconda3\\lib\\site-packages\\pandas\\core\\frame.py\u001b[0m in \u001b[0;36mdrop\u001b[1;34m(self, labels, axis, index, columns, level, inplace, errors)\u001b[0m\n\u001b[0;32m   3988\u001b[0m                 \u001b[0mweight\u001b[0m  \u001b[1;36m1.0\u001b[0m     \u001b[1;36m0.8\u001b[0m\u001b[1;33m\u001b[0m\u001b[1;33m\u001b[0m\u001b[0m\n\u001b[0;32m   3989\u001b[0m         \"\"\"\n\u001b[1;32m-> 3990\u001b[1;33m         return super().drop(\n\u001b[0m\u001b[0;32m   3991\u001b[0m             \u001b[0mlabels\u001b[0m\u001b[1;33m=\u001b[0m\u001b[0mlabels\u001b[0m\u001b[1;33m,\u001b[0m\u001b[1;33m\u001b[0m\u001b[1;33m\u001b[0m\u001b[0m\n\u001b[0;32m   3992\u001b[0m             \u001b[0maxis\u001b[0m\u001b[1;33m=\u001b[0m\u001b[0maxis\u001b[0m\u001b[1;33m,\u001b[0m\u001b[1;33m\u001b[0m\u001b[1;33m\u001b[0m\u001b[0m\n",
      "\u001b[1;32m~\\Anaconda3\\lib\\site-packages\\pandas\\core\\generic.py\u001b[0m in \u001b[0;36mdrop\u001b[1;34m(self, labels, axis, index, columns, level, inplace, errors)\u001b[0m\n\u001b[0;32m   3934\u001b[0m         \u001b[1;32mfor\u001b[0m \u001b[0maxis\u001b[0m\u001b[1;33m,\u001b[0m \u001b[0mlabels\u001b[0m \u001b[1;32min\u001b[0m \u001b[0maxes\u001b[0m\u001b[1;33m.\u001b[0m\u001b[0mitems\u001b[0m\u001b[1;33m(\u001b[0m\u001b[1;33m)\u001b[0m\u001b[1;33m:\u001b[0m\u001b[1;33m\u001b[0m\u001b[1;33m\u001b[0m\u001b[0m\n\u001b[0;32m   3935\u001b[0m             \u001b[1;32mif\u001b[0m \u001b[0mlabels\u001b[0m \u001b[1;32mis\u001b[0m \u001b[1;32mnot\u001b[0m \u001b[1;32mNone\u001b[0m\u001b[1;33m:\u001b[0m\u001b[1;33m\u001b[0m\u001b[1;33m\u001b[0m\u001b[0m\n\u001b[1;32m-> 3936\u001b[1;33m                 \u001b[0mobj\u001b[0m \u001b[1;33m=\u001b[0m \u001b[0mobj\u001b[0m\u001b[1;33m.\u001b[0m\u001b[0m_drop_axis\u001b[0m\u001b[1;33m(\u001b[0m\u001b[0mlabels\u001b[0m\u001b[1;33m,\u001b[0m \u001b[0maxis\u001b[0m\u001b[1;33m,\u001b[0m \u001b[0mlevel\u001b[0m\u001b[1;33m=\u001b[0m\u001b[0mlevel\u001b[0m\u001b[1;33m,\u001b[0m \u001b[0merrors\u001b[0m\u001b[1;33m=\u001b[0m\u001b[0merrors\u001b[0m\u001b[1;33m)\u001b[0m\u001b[1;33m\u001b[0m\u001b[1;33m\u001b[0m\u001b[0m\n\u001b[0m\u001b[0;32m   3937\u001b[0m \u001b[1;33m\u001b[0m\u001b[0m\n\u001b[0;32m   3938\u001b[0m         \u001b[1;32mif\u001b[0m \u001b[0minplace\u001b[0m\u001b[1;33m:\u001b[0m\u001b[1;33m\u001b[0m\u001b[1;33m\u001b[0m\u001b[0m\n",
      "\u001b[1;32m~\\Anaconda3\\lib\\site-packages\\pandas\\core\\generic.py\u001b[0m in \u001b[0;36m_drop_axis\u001b[1;34m(self, labels, axis, level, errors)\u001b[0m\n\u001b[0;32m   3968\u001b[0m                 \u001b[0mnew_axis\u001b[0m \u001b[1;33m=\u001b[0m \u001b[0maxis\u001b[0m\u001b[1;33m.\u001b[0m\u001b[0mdrop\u001b[0m\u001b[1;33m(\u001b[0m\u001b[0mlabels\u001b[0m\u001b[1;33m,\u001b[0m \u001b[0mlevel\u001b[0m\u001b[1;33m=\u001b[0m\u001b[0mlevel\u001b[0m\u001b[1;33m,\u001b[0m \u001b[0merrors\u001b[0m\u001b[1;33m=\u001b[0m\u001b[0merrors\u001b[0m\u001b[1;33m)\u001b[0m\u001b[1;33m\u001b[0m\u001b[1;33m\u001b[0m\u001b[0m\n\u001b[0;32m   3969\u001b[0m             \u001b[1;32melse\u001b[0m\u001b[1;33m:\u001b[0m\u001b[1;33m\u001b[0m\u001b[1;33m\u001b[0m\u001b[0m\n\u001b[1;32m-> 3970\u001b[1;33m                 \u001b[0mnew_axis\u001b[0m \u001b[1;33m=\u001b[0m \u001b[0maxis\u001b[0m\u001b[1;33m.\u001b[0m\u001b[0mdrop\u001b[0m\u001b[1;33m(\u001b[0m\u001b[0mlabels\u001b[0m\u001b[1;33m,\u001b[0m \u001b[0merrors\u001b[0m\u001b[1;33m=\u001b[0m\u001b[0merrors\u001b[0m\u001b[1;33m)\u001b[0m\u001b[1;33m\u001b[0m\u001b[1;33m\u001b[0m\u001b[0m\n\u001b[0m\u001b[0;32m   3971\u001b[0m             \u001b[0mresult\u001b[0m \u001b[1;33m=\u001b[0m \u001b[0mself\u001b[0m\u001b[1;33m.\u001b[0m\u001b[0mreindex\u001b[0m\u001b[1;33m(\u001b[0m\u001b[1;33m**\u001b[0m\u001b[1;33m{\u001b[0m\u001b[0maxis_name\u001b[0m\u001b[1;33m:\u001b[0m \u001b[0mnew_axis\u001b[0m\u001b[1;33m}\u001b[0m\u001b[1;33m)\u001b[0m\u001b[1;33m\u001b[0m\u001b[1;33m\u001b[0m\u001b[0m\n\u001b[0;32m   3972\u001b[0m \u001b[1;33m\u001b[0m\u001b[0m\n",
      "\u001b[1;32m~\\Anaconda3\\lib\\site-packages\\pandas\\core\\indexes\\base.py\u001b[0m in \u001b[0;36mdrop\u001b[1;34m(self, labels, errors)\u001b[0m\n\u001b[0;32m   5016\u001b[0m         \u001b[1;32mif\u001b[0m \u001b[0mmask\u001b[0m\u001b[1;33m.\u001b[0m\u001b[0many\u001b[0m\u001b[1;33m(\u001b[0m\u001b[1;33m)\u001b[0m\u001b[1;33m:\u001b[0m\u001b[1;33m\u001b[0m\u001b[1;33m\u001b[0m\u001b[0m\n\u001b[0;32m   5017\u001b[0m             \u001b[1;32mif\u001b[0m \u001b[0merrors\u001b[0m \u001b[1;33m!=\u001b[0m \u001b[1;34m\"ignore\"\u001b[0m\u001b[1;33m:\u001b[0m\u001b[1;33m\u001b[0m\u001b[1;33m\u001b[0m\u001b[0m\n\u001b[1;32m-> 5018\u001b[1;33m                 \u001b[1;32mraise\u001b[0m \u001b[0mKeyError\u001b[0m\u001b[1;33m(\u001b[0m\u001b[1;34mf\"{labels[mask]} not found in axis\"\u001b[0m\u001b[1;33m)\u001b[0m\u001b[1;33m\u001b[0m\u001b[1;33m\u001b[0m\u001b[0m\n\u001b[0m\u001b[0;32m   5019\u001b[0m             \u001b[0mindexer\u001b[0m \u001b[1;33m=\u001b[0m \u001b[0mindexer\u001b[0m\u001b[1;33m[\u001b[0m\u001b[1;33m~\u001b[0m\u001b[0mmask\u001b[0m\u001b[1;33m]\u001b[0m\u001b[1;33m\u001b[0m\u001b[1;33m\u001b[0m\u001b[0m\n\u001b[0;32m   5020\u001b[0m         \u001b[1;32mreturn\u001b[0m \u001b[0mself\u001b[0m\u001b[1;33m.\u001b[0m\u001b[0mdelete\u001b[0m\u001b[1;33m(\u001b[0m\u001b[0mindexer\u001b[0m\u001b[1;33m)\u001b[0m\u001b[1;33m\u001b[0m\u001b[1;33m\u001b[0m\u001b[0m\n",
      "\u001b[1;31mKeyError\u001b[0m: \"['h1n1_vaccine' 'seasonal_vaccine'] not found in axis\""
     ]
    }
   ],
   "source": [
    "X = df.drop(columns=['h1n1_vaccine', 'seasonal_vaccine'])\n",
    "y = df[['h1n1_vaccine', 'seasonal_vaccine']]\n",
    "y_h1n1 = df[['h1n1_vaccine']]\n",
    "y_seas = df[['seasonal_vaccine']]"
   ]
  },
  {
   "cell_type": "markdown",
   "metadata": {},
   "source": [
    "#### Categorical"
   ]
  },
  {
   "cell_type": "code",
   "execution_count": 11,
   "metadata": {},
   "outputs": [],
   "source": [
    "#Get Binary Data for Categorical Variables\n",
    "cat_df = X[categorical_columns]"
   ]
  },
  {
   "cell_type": "code",
   "execution_count": 12,
   "metadata": {},
   "outputs": [],
   "source": [
    "recat_df = pd.get_dummies(data=cat_df)"
   ]
  },
  {
   "cell_type": "markdown",
   "metadata": {},
   "source": [
    "#### Numerical"
   ]
  },
  {
   "cell_type": "code",
   "execution_count": 13,
   "metadata": {},
   "outputs": [],
   "source": [
    "num_df = X[numerical_columns]"
   ]
  },
  {
   "cell_type": "code",
   "execution_count": 14,
   "metadata": {},
   "outputs": [],
   "source": [
    "from sklearn.preprocessing import StandardScaler\n",
    "\n",
    "#Scale Numerical Data\n",
    "scaler = StandardScaler()\n",
    "scaled_num = scaler.fit_transform(num_df)\n",
    "scaled_num_df = pd.DataFrame(scaled_num, index=num_df.index, columns=num_df.columns)"
   ]
  },
  {
   "cell_type": "code",
   "execution_count": 15,
   "metadata": {},
   "outputs": [],
   "source": [
    "encoded_df = pd.concat([recat_df, scaled_num_df], axis=1)"
   ]
  },
  {
   "cell_type": "code",
   "execution_count": 17,
   "metadata": {},
   "outputs": [
    {
     "data": {
      "text/html": [
       "<div>\n",
       "<style scoped>\n",
       "    .dataframe tbody tr th:only-of-type {\n",
       "        vertical-align: middle;\n",
       "    }\n",
       "\n",
       "    .dataframe tbody tr th {\n",
       "        vertical-align: top;\n",
       "    }\n",
       "\n",
       "    .dataframe thead th {\n",
       "        text-align: right;\n",
       "    }\n",
       "</style>\n",
       "<table border=\"1\" class=\"dataframe\">\n",
       "  <thead>\n",
       "    <tr style=\"text-align: right;\">\n",
       "      <th></th>\n",
       "      <th>sex_Female</th>\n",
       "      <th>sex_Male</th>\n",
       "      <th>hhs_geo_region_atmpeygn</th>\n",
       "      <th>hhs_geo_region_bhuqouqj</th>\n",
       "      <th>hhs_geo_region_dqpwygqj</th>\n",
       "      <th>hhs_geo_region_fpwskwrf</th>\n",
       "      <th>hhs_geo_region_kbazzjca</th>\n",
       "      <th>hhs_geo_region_lrircsnp</th>\n",
       "      <th>hhs_geo_region_lzgpxyit</th>\n",
       "      <th>hhs_geo_region_mlyzmhmf</th>\n",
       "      <th>...</th>\n",
       "      <th>household_children</th>\n",
       "      <th>household_adults</th>\n",
       "      <th>h1n1_concern</th>\n",
       "      <th>h1n1_knowledge</th>\n",
       "      <th>opinion_h1n1_risk</th>\n",
       "      <th>opinion_h1n1_vacc_effective</th>\n",
       "      <th>opinion_h1n1_sick_from_vacc</th>\n",
       "      <th>opinion_seas_vacc_effective</th>\n",
       "      <th>opinion_seas_risk</th>\n",
       "      <th>opinion_seas_sick_from_vacc</th>\n",
       "    </tr>\n",
       "  </thead>\n",
       "  <tbody>\n",
       "    <tr>\n",
       "      <th>0</th>\n",
       "      <td>1</td>\n",
       "      <td>0</td>\n",
       "      <td>0</td>\n",
       "      <td>0</td>\n",
       "      <td>0</td>\n",
       "      <td>0</td>\n",
       "      <td>0</td>\n",
       "      <td>0</td>\n",
       "      <td>0</td>\n",
       "      <td>0</td>\n",
       "      <td>...</td>\n",
       "      <td>-0.578667</td>\n",
       "      <td>-1.182177</td>\n",
       "      <td>-0.680609</td>\n",
       "      <td>-2.046928</td>\n",
       "      <td>-1.052050</td>\n",
       "      <td>-0.850610</td>\n",
       "      <td>-0.264426</td>\n",
       "      <td>-1.880954</td>\n",
       "      <td>-1.253366</td>\n",
       "      <td>-0.089516</td>\n",
       "    </tr>\n",
       "    <tr>\n",
       "      <th>1</th>\n",
       "      <td>0</td>\n",
       "      <td>1</td>\n",
       "      <td>0</td>\n",
       "      <td>1</td>\n",
       "      <td>0</td>\n",
       "      <td>0</td>\n",
       "      <td>0</td>\n",
       "      <td>0</td>\n",
       "      <td>0</td>\n",
       "      <td>0</td>\n",
       "      <td>...</td>\n",
       "      <td>-0.578667</td>\n",
       "      <td>-1.182177</td>\n",
       "      <td>1.520279</td>\n",
       "      <td>1.195647</td>\n",
       "      <td>1.298784</td>\n",
       "      <td>1.149360</td>\n",
       "      <td>1.214180</td>\n",
       "      <td>-0.024126</td>\n",
       "      <td>-0.524309</td>\n",
       "      <td>1.426260</td>\n",
       "    </tr>\n",
       "    <tr>\n",
       "      <th>2</th>\n",
       "      <td>0</td>\n",
       "      <td>1</td>\n",
       "      <td>0</td>\n",
       "      <td>0</td>\n",
       "      <td>0</td>\n",
       "      <td>0</td>\n",
       "      <td>0</td>\n",
       "      <td>0</td>\n",
       "      <td>0</td>\n",
       "      <td>0</td>\n",
       "      <td>...</td>\n",
       "      <td>-0.578667</td>\n",
       "      <td>1.484891</td>\n",
       "      <td>-0.680609</td>\n",
       "      <td>-0.425641</td>\n",
       "      <td>-1.052050</td>\n",
       "      <td>-0.850610</td>\n",
       "      <td>-1.003729</td>\n",
       "      <td>-0.024126</td>\n",
       "      <td>-1.253366</td>\n",
       "      <td>-0.089516</td>\n",
       "    </tr>\n",
       "    <tr>\n",
       "      <th>3</th>\n",
       "      <td>1</td>\n",
       "      <td>0</td>\n",
       "      <td>0</td>\n",
       "      <td>0</td>\n",
       "      <td>0</td>\n",
       "      <td>0</td>\n",
       "      <td>0</td>\n",
       "      <td>1</td>\n",
       "      <td>0</td>\n",
       "      <td>0</td>\n",
       "      <td>...</td>\n",
       "      <td>-0.578667</td>\n",
       "      <td>-1.182177</td>\n",
       "      <td>-0.680609</td>\n",
       "      <td>-0.425641</td>\n",
       "      <td>0.515173</td>\n",
       "      <td>-0.850610</td>\n",
       "      <td>1.953484</td>\n",
       "      <td>0.904289</td>\n",
       "      <td>0.933803</td>\n",
       "      <td>-0.847404</td>\n",
       "    </tr>\n",
       "    <tr>\n",
       "      <th>4</th>\n",
       "      <td>1</td>\n",
       "      <td>0</td>\n",
       "      <td>0</td>\n",
       "      <td>0</td>\n",
       "      <td>0</td>\n",
       "      <td>0</td>\n",
       "      <td>0</td>\n",
       "      <td>0</td>\n",
       "      <td>0</td>\n",
       "      <td>0</td>\n",
       "      <td>...</td>\n",
       "      <td>-0.578667</td>\n",
       "      <td>0.151357</td>\n",
       "      <td>0.419835</td>\n",
       "      <td>-0.425641</td>\n",
       "      <td>0.515173</td>\n",
       "      <td>-0.850610</td>\n",
       "      <td>-0.264426</td>\n",
       "      <td>-0.952540</td>\n",
       "      <td>-1.253366</td>\n",
       "      <td>1.426260</td>\n",
       "    </tr>\n",
       "    <tr>\n",
       "      <th>...</th>\n",
       "      <td>...</td>\n",
       "      <td>...</td>\n",
       "      <td>...</td>\n",
       "      <td>...</td>\n",
       "      <td>...</td>\n",
       "      <td>...</td>\n",
       "      <td>...</td>\n",
       "      <td>...</td>\n",
       "      <td>...</td>\n",
       "      <td>...</td>\n",
       "      <td>...</td>\n",
       "      <td>...</td>\n",
       "      <td>...</td>\n",
       "      <td>...</td>\n",
       "      <td>...</td>\n",
       "      <td>...</td>\n",
       "      <td>...</td>\n",
       "      <td>...</td>\n",
       "      <td>...</td>\n",
       "      <td>...</td>\n",
       "      <td>...</td>\n",
       "    </tr>\n",
       "    <tr>\n",
       "      <th>26702</th>\n",
       "      <td>1</td>\n",
       "      <td>0</td>\n",
       "      <td>0</td>\n",
       "      <td>0</td>\n",
       "      <td>0</td>\n",
       "      <td>0</td>\n",
       "      <td>0</td>\n",
       "      <td>0</td>\n",
       "      <td>0</td>\n",
       "      <td>0</td>\n",
       "      <td>...</td>\n",
       "      <td>-0.578667</td>\n",
       "      <td>-1.182177</td>\n",
       "      <td>0.419835</td>\n",
       "      <td>-2.046928</td>\n",
       "      <td>-1.052050</td>\n",
       "      <td>-0.850610</td>\n",
       "      <td>-1.003729</td>\n",
       "      <td>0.904289</td>\n",
       "      <td>-0.524309</td>\n",
       "      <td>-0.089516</td>\n",
       "    </tr>\n",
       "    <tr>\n",
       "      <th>26703</th>\n",
       "      <td>0</td>\n",
       "      <td>1</td>\n",
       "      <td>0</td>\n",
       "      <td>0</td>\n",
       "      <td>0</td>\n",
       "      <td>0</td>\n",
       "      <td>0</td>\n",
       "      <td>0</td>\n",
       "      <td>1</td>\n",
       "      <td>0</td>\n",
       "      <td>...</td>\n",
       "      <td>-0.578667</td>\n",
       "      <td>0.151357</td>\n",
       "      <td>-0.680609</td>\n",
       "      <td>1.195647</td>\n",
       "      <td>-0.268439</td>\n",
       "      <td>0.149375</td>\n",
       "      <td>-0.264426</td>\n",
       "      <td>0.904289</td>\n",
       "      <td>-1.253366</td>\n",
       "      <td>-0.847404</td>\n",
       "    </tr>\n",
       "    <tr>\n",
       "      <th>26704</th>\n",
       "      <td>1</td>\n",
       "      <td>0</td>\n",
       "      <td>0</td>\n",
       "      <td>0</td>\n",
       "      <td>0</td>\n",
       "      <td>0</td>\n",
       "      <td>0</td>\n",
       "      <td>0</td>\n",
       "      <td>1</td>\n",
       "      <td>0</td>\n",
       "      <td>...</td>\n",
       "      <td>-0.578667</td>\n",
       "      <td>-1.182177</td>\n",
       "      <td>0.419835</td>\n",
       "      <td>1.195647</td>\n",
       "      <td>1.298784</td>\n",
       "      <td>0.149375</td>\n",
       "      <td>-0.264426</td>\n",
       "      <td>0.904289</td>\n",
       "      <td>0.933803</td>\n",
       "      <td>-0.089516</td>\n",
       "    </tr>\n",
       "    <tr>\n",
       "      <th>26705</th>\n",
       "      <td>1</td>\n",
       "      <td>0</td>\n",
       "      <td>0</td>\n",
       "      <td>0</td>\n",
       "      <td>0</td>\n",
       "      <td>0</td>\n",
       "      <td>0</td>\n",
       "      <td>1</td>\n",
       "      <td>0</td>\n",
       "      <td>0</td>\n",
       "      <td>...</td>\n",
       "      <td>-0.578667</td>\n",
       "      <td>0.151357</td>\n",
       "      <td>-0.680609</td>\n",
       "      <td>-0.425641</td>\n",
       "      <td>-1.052050</td>\n",
       "      <td>-0.850610</td>\n",
       "      <td>-0.264426</td>\n",
       "      <td>-1.880954</td>\n",
       "      <td>-1.253366</td>\n",
       "      <td>-0.089516</td>\n",
       "    </tr>\n",
       "    <tr>\n",
       "      <th>26706</th>\n",
       "      <td>0</td>\n",
       "      <td>1</td>\n",
       "      <td>0</td>\n",
       "      <td>0</td>\n",
       "      <td>0</td>\n",
       "      <td>0</td>\n",
       "      <td>0</td>\n",
       "      <td>0</td>\n",
       "      <td>0</td>\n",
       "      <td>1</td>\n",
       "      <td>...</td>\n",
       "      <td>-0.578667</td>\n",
       "      <td>0.151357</td>\n",
       "      <td>-1.781053</td>\n",
       "      <td>-2.046928</td>\n",
       "      <td>-1.052050</td>\n",
       "      <td>1.149360</td>\n",
       "      <td>-1.003729</td>\n",
       "      <td>0.904289</td>\n",
       "      <td>-1.253366</td>\n",
       "      <td>-0.847404</td>\n",
       "    </tr>\n",
       "  </tbody>\n",
       "</table>\n",
       "<p>26707 rows × 84 columns</p>\n",
       "</div>"
      ],
      "text/plain": [
       "       sex_Female  sex_Male  hhs_geo_region_atmpeygn  hhs_geo_region_bhuqouqj  \\\n",
       "0               1         0                        0                        0   \n",
       "1               0         1                        0                        1   \n",
       "2               0         1                        0                        0   \n",
       "3               1         0                        0                        0   \n",
       "4               1         0                        0                        0   \n",
       "...           ...       ...                      ...                      ...   \n",
       "26702           1         0                        0                        0   \n",
       "26703           0         1                        0                        0   \n",
       "26704           1         0                        0                        0   \n",
       "26705           1         0                        0                        0   \n",
       "26706           0         1                        0                        0   \n",
       "\n",
       "       hhs_geo_region_dqpwygqj  hhs_geo_region_fpwskwrf  \\\n",
       "0                            0                        0   \n",
       "1                            0                        0   \n",
       "2                            0                        0   \n",
       "3                            0                        0   \n",
       "4                            0                        0   \n",
       "...                        ...                      ...   \n",
       "26702                        0                        0   \n",
       "26703                        0                        0   \n",
       "26704                        0                        0   \n",
       "26705                        0                        0   \n",
       "26706                        0                        0   \n",
       "\n",
       "       hhs_geo_region_kbazzjca  hhs_geo_region_lrircsnp  \\\n",
       "0                            0                        0   \n",
       "1                            0                        0   \n",
       "2                            0                        0   \n",
       "3                            0                        1   \n",
       "4                            0                        0   \n",
       "...                        ...                      ...   \n",
       "26702                        0                        0   \n",
       "26703                        0                        0   \n",
       "26704                        0                        0   \n",
       "26705                        0                        1   \n",
       "26706                        0                        0   \n",
       "\n",
       "       hhs_geo_region_lzgpxyit  hhs_geo_region_mlyzmhmf  ...  \\\n",
       "0                            0                        0  ...   \n",
       "1                            0                        0  ...   \n",
       "2                            0                        0  ...   \n",
       "3                            0                        0  ...   \n",
       "4                            0                        0  ...   \n",
       "...                        ...                      ...  ...   \n",
       "26702                        0                        0  ...   \n",
       "26703                        1                        0  ...   \n",
       "26704                        1                        0  ...   \n",
       "26705                        0                        0  ...   \n",
       "26706                        0                        1  ...   \n",
       "\n",
       "       household_children  household_adults  h1n1_concern  h1n1_knowledge  \\\n",
       "0               -0.578667         -1.182177     -0.680609       -2.046928   \n",
       "1               -0.578667         -1.182177      1.520279        1.195647   \n",
       "2               -0.578667          1.484891     -0.680609       -0.425641   \n",
       "3               -0.578667         -1.182177     -0.680609       -0.425641   \n",
       "4               -0.578667          0.151357      0.419835       -0.425641   \n",
       "...                   ...               ...           ...             ...   \n",
       "26702           -0.578667         -1.182177      0.419835       -2.046928   \n",
       "26703           -0.578667          0.151357     -0.680609        1.195647   \n",
       "26704           -0.578667         -1.182177      0.419835        1.195647   \n",
       "26705           -0.578667          0.151357     -0.680609       -0.425641   \n",
       "26706           -0.578667          0.151357     -1.781053       -2.046928   \n",
       "\n",
       "       opinion_h1n1_risk  opinion_h1n1_vacc_effective  \\\n",
       "0              -1.052050                    -0.850610   \n",
       "1               1.298784                     1.149360   \n",
       "2              -1.052050                    -0.850610   \n",
       "3               0.515173                    -0.850610   \n",
       "4               0.515173                    -0.850610   \n",
       "...                  ...                          ...   \n",
       "26702          -1.052050                    -0.850610   \n",
       "26703          -0.268439                     0.149375   \n",
       "26704           1.298784                     0.149375   \n",
       "26705          -1.052050                    -0.850610   \n",
       "26706          -1.052050                     1.149360   \n",
       "\n",
       "       opinion_h1n1_sick_from_vacc  opinion_seas_vacc_effective  \\\n",
       "0                        -0.264426                    -1.880954   \n",
       "1                         1.214180                    -0.024126   \n",
       "2                        -1.003729                    -0.024126   \n",
       "3                         1.953484                     0.904289   \n",
       "4                        -0.264426                    -0.952540   \n",
       "...                            ...                          ...   \n",
       "26702                    -1.003729                     0.904289   \n",
       "26703                    -0.264426                     0.904289   \n",
       "26704                    -0.264426                     0.904289   \n",
       "26705                    -0.264426                    -1.880954   \n",
       "26706                    -1.003729                     0.904289   \n",
       "\n",
       "       opinion_seas_risk  opinion_seas_sick_from_vacc  \n",
       "0              -1.253366                    -0.089516  \n",
       "1              -0.524309                     1.426260  \n",
       "2              -1.253366                    -0.089516  \n",
       "3               0.933803                    -0.847404  \n",
       "4              -1.253366                     1.426260  \n",
       "...                  ...                          ...  \n",
       "26702          -0.524309                    -0.089516  \n",
       "26703          -1.253366                    -0.847404  \n",
       "26704           0.933803                    -0.089516  \n",
       "26705          -1.253366                    -0.089516  \n",
       "26706          -1.253366                    -0.847404  \n",
       "\n",
       "[26707 rows x 84 columns]"
      ]
     },
     "execution_count": 17,
     "metadata": {},
     "output_type": "execute_result"
    }
   ],
   "source": [
    "encoded_df"
   ]
  },
  {
   "cell_type": "code",
   "execution_count": 18,
   "metadata": {},
   "outputs": [],
   "source": [
    "from sklearn.model_selection import train_test_split\n",
    "\n",
    "X_train, X_test, y_train, y_test = train_test_split(encoded_df, y, test_size=0.3, random_state=42)"
   ]
  },
  {
   "cell_type": "code",
   "execution_count": 19,
   "metadata": {},
   "outputs": [],
   "source": [
    "X_train = np.asarray(X_train)\n",
    "X_test = np.asarray(X_test)\n",
    "y_train = np.asarray(y_train)\n",
    "y_test = np.asarray(y_test)\n",
    "X = np.asarray(encoded_df)"
   ]
  },
  {
   "cell_type": "markdown",
   "metadata": {},
   "source": [
    "# Neural Network"
   ]
  },
  {
   "cell_type": "code",
   "execution_count": 98,
   "metadata": {},
   "outputs": [],
   "source": [
    "from tensorflow import keras\n",
    "\n",
    "model = keras.Sequential([\n",
    "    keras.layers.Dense(60, activation='selu', input_dim=84),\n",
    "    keras.layers.Dense(100, activation='relu'),\n",
    "    keras.layers.Dense(200, activation='selu'),\n",
    "    keras.layers.Dense(32, activation='relu'),\n",
    "    keras.layers.Dense(5, activation='swish'),\n",
    "    keras.layers.Dense(2, activation='swish')\n",
    "])"
   ]
  },
  {
   "cell_type": "code",
   "execution_count": 99,
   "metadata": {},
   "outputs": [],
   "source": [
    "model.compile(optimizer='adam', \n",
    "              loss=tf.losses.CategoricalCrossentropy(from_logits=True),\n",
    "              metrics=['accuracy'])"
   ]
  },
  {
   "cell_type": "code",
   "execution_count": 100,
   "metadata": {
    "scrolled": true
   },
   "outputs": [
    {
     "name": "stdout",
     "output_type": "stream",
     "text": [
      "Epoch 1/5000\n",
      "94/94 [==============================] - 0s 3ms/step - loss: 0.4581 - accuracy: 0.4116 - val_loss: 0.5046 - val_accuracy: 0.4026\n",
      "Epoch 2/5000\n",
      "94/94 [==============================] - 0s 2ms/step - loss: 4.9057 - accuracy: 0.5707 - val_loss: 10.5480 - val_accuracy: 0.6942\n",
      "Epoch 3/5000\n",
      "94/94 [==============================] - 0s 2ms/step - loss: 93.9989 - accuracy: 0.6465 - val_loss: 56.4817 - val_accuracy: 0.7146\n",
      "Epoch 4/5000\n",
      "94/94 [==============================] - 0s 2ms/step - loss: 728.9608 - accuracy: 0.6463 - val_loss: 2226.2800 - val_accuracy: 0.6235\n",
      "Epoch 5/5000\n",
      "94/94 [==============================] - 0s 2ms/step - loss: 4726.7036 - accuracy: 0.6437 - val_loss: 5452.4375 - val_accuracy: 0.7118\n",
      "Epoch 6/5000\n",
      "94/94 [==============================] - 0s 2ms/step - loss: 9564.6445 - accuracy: 0.6428 - val_loss: 5383.6187 - val_accuracy: 0.7146\n",
      "Epoch 7/5000\n",
      "94/94 [==============================] - 0s 2ms/step - loss: 27876.6602 - accuracy: 0.6423 - val_loss: 17322.0020 - val_accuracy: 0.7146\n",
      "Epoch 8/5000\n",
      "94/94 [==============================] - 0s 2ms/step - loss: 44396.2930 - accuracy: 0.6469 - val_loss: 32027.7168 - val_accuracy: 0.7002\n",
      "Epoch 9/5000\n",
      "94/94 [==============================] - 0s 2ms/step - loss: 149833.9688 - accuracy: 0.6418 - val_loss: 80736.3750 - val_accuracy: 0.6889\n",
      "Epoch 10/5000\n",
      "94/94 [==============================] - 0s 2ms/step - loss: 134787.2500 - accuracy: 0.6495 - val_loss: 325050.9688 - val_accuracy: 0.6216\n",
      "Epoch 11/5000\n",
      "94/94 [==============================] - 0s 2ms/step - loss: 251180.8281 - accuracy: 0.6439 - val_loss: 11821.4316 - val_accuracy: 0.6231\n",
      "Epoch 12/5000\n",
      "94/94 [==============================] - 0s 2ms/step - loss: 362681.5625 - accuracy: 0.6436 - val_loss: 1113056.7500 - val_accuracy: 0.7146\n",
      "Epoch 13/5000\n",
      "94/94 [==============================] - 0s 2ms/step - loss: 1118073.1250 - accuracy: 0.6427 - val_loss: 766207.4375 - val_accuracy: 0.6194\n",
      "Epoch 14/5000\n",
      "94/94 [==============================] - 0s 2ms/step - loss: 1232748.3750 - accuracy: 0.6426 - val_loss: 2337703.0000 - val_accuracy: 0.6217\n",
      "Epoch 15/5000\n",
      "94/94 [==============================] - 0s 2ms/step - loss: 1647592.1250 - accuracy: 0.6438 - val_loss: 386363.5000 - val_accuracy: 0.7127\n",
      "Epoch 16/5000\n",
      "94/94 [==============================] - 0s 2ms/step - loss: 1800699.0000 - accuracy: 0.6442 - val_loss: 3408100.7500 - val_accuracy: 0.6227\n",
      "Epoch 17/5000\n",
      "94/94 [==============================] - 0s 2ms/step - loss: 3808177.5000 - accuracy: 0.6435 - val_loss: 726046.0000 - val_accuracy: 0.6227\n",
      "Epoch 18/5000\n",
      "94/94 [==============================] - 0s 2ms/step - loss: 2553061.0000 - accuracy: 0.6409 - val_loss: 3051980.5000 - val_accuracy: 0.6891\n",
      "Epoch 19/5000\n",
      "94/94 [==============================] - 0s 2ms/step - loss: 4217261.0000 - accuracy: 0.6406 - val_loss: 11172239.0000 - val_accuracy: 0.6215\n",
      "Epoch 20/5000\n",
      "94/94 [==============================] - 0s 2ms/step - loss: 8031296.5000 - accuracy: 0.6408 - val_loss: 19805110.0000 - val_accuracy: 0.6215\n",
      "Epoch 21/5000\n",
      "94/94 [==============================] - 0s 2ms/step - loss: 7874280.5000 - accuracy: 0.6420 - val_loss: 12199877.0000 - val_accuracy: 0.6211\n",
      "Epoch 22/5000\n",
      "94/94 [==============================] - 0s 2ms/step - loss: 12675631.0000 - accuracy: 0.6437 - val_loss: 3006174.0000 - val_accuracy: 0.6210\n",
      "Epoch 23/5000\n",
      "94/94 [==============================] - 0s 2ms/step - loss: 10422905.0000 - accuracy: 0.6418 - val_loss: 8610656.0000 - val_accuracy: 0.6224\n",
      "Epoch 24/5000\n",
      "94/94 [==============================] - 0s 2ms/step - loss: 10953854.0000 - accuracy: 0.6421 - val_loss: 21237436.0000 - val_accuracy: 0.6210\n",
      "Epoch 25/5000\n",
      "94/94 [==============================] - 0s 2ms/step - loss: 14320600.0000 - accuracy: 0.6442 - val_loss: 8601043.0000 - val_accuracy: 0.6224\n",
      "Epoch 26/5000\n",
      "94/94 [==============================] - 0s 2ms/step - loss: 21852488.0000 - accuracy: 0.6398 - val_loss: 9508753.0000 - val_accuracy: 0.6216\n",
      "Epoch 27/5000\n",
      "94/94 [==============================] - 0s 2ms/step - loss: 25215360.0000 - accuracy: 0.6411 - val_loss: 1934189.3750 - val_accuracy: 0.6829\n",
      "Epoch 28/5000\n",
      "94/94 [==============================] - 0s 2ms/step - loss: 26388914.0000 - accuracy: 0.6466 - val_loss: 30157924.0000 - val_accuracy: 0.6215\n",
      "Epoch 29/5000\n",
      "94/94 [==============================] - 0s 2ms/step - loss: 33147992.0000 - accuracy: 0.6427 - val_loss: 33740512.0000 - val_accuracy: 0.7146\n",
      "Epoch 30/5000\n",
      "94/94 [==============================] - 0s 2ms/step - loss: 27107508.0000 - accuracy: 0.6455 - val_loss: 35969624.0000 - val_accuracy: 0.6204\n",
      "Epoch 31/5000\n",
      "94/94 [==============================] - 0s 2ms/step - loss: 45858880.0000 - accuracy: 0.6457 - val_loss: 12904045.0000 - val_accuracy: 0.7091\n",
      "Epoch 32/5000\n",
      "94/94 [==============================] - 0s 2ms/step - loss: 37509968.0000 - accuracy: 0.6476 - val_loss: 62433776.0000 - val_accuracy: 0.7146\n",
      "Epoch 33/5000\n",
      "94/94 [==============================] - 0s 2ms/step - loss: 37470476.0000 - accuracy: 0.6475 - val_loss: 12822841.0000 - val_accuracy: 0.6331\n",
      "Epoch 34/5000\n",
      "94/94 [==============================] - 0s 2ms/step - loss: 45705024.0000 - accuracy: 0.6449 - val_loss: 33301480.0000 - val_accuracy: 0.7066\n",
      "Epoch 35/5000\n",
      "94/94 [==============================] - 0s 2ms/step - loss: 52550988.0000 - accuracy: 0.6473 - val_loss: 13784739.0000 - val_accuracy: 0.7029\n",
      "Epoch 36/5000\n",
      "94/94 [==============================] - 0s 2ms/step - loss: 66794836.0000 - accuracy: 0.6411 - val_loss: 183237440.0000 - val_accuracy: 0.7146\n",
      "Epoch 37/5000\n",
      "94/94 [==============================] - 0s 2ms/step - loss: 62280220.0000 - accuracy: 0.6471 - val_loss: 39697756.0000 - val_accuracy: 0.6878\n",
      "Epoch 38/5000\n",
      "94/94 [==============================] - 0s 2ms/step - loss: 90092792.0000 - accuracy: 0.6407 - val_loss: 105631896.0000 - val_accuracy: 0.6229\n",
      "Epoch 39/5000\n",
      "94/94 [==============================] - 0s 2ms/step - loss: 130031096.0000 - accuracy: 0.6459 - val_loss: 47853144.0000 - val_accuracy: 0.6211\n",
      "Epoch 40/5000\n",
      "94/94 [==============================] - 0s 2ms/step - loss: 95973840.0000 - accuracy: 0.6432 - val_loss: 112537032.0000 - val_accuracy: 0.6202\n",
      "Epoch 41/5000\n",
      "94/94 [==============================] - 0s 2ms/step - loss: 56965136.0000 - accuracy: 0.6406 - val_loss: 54638008.0000 - val_accuracy: 0.6923\n",
      "Epoch 42/5000\n",
      "94/94 [==============================] - 0s 2ms/step - loss: 121091432.0000 - accuracy: 0.6422 - val_loss: 28487460.0000 - val_accuracy: 0.6226\n",
      "Epoch 43/5000\n",
      "94/94 [==============================] - 0s 2ms/step - loss: 164656016.0000 - accuracy: 0.6403 - val_loss: 138217360.0000 - val_accuracy: 0.6220\n",
      "Epoch 44/5000\n",
      "94/94 [==============================] - 0s 2ms/step - loss: 112128040.0000 - accuracy: 0.6400 - val_loss: 191743680.0000 - val_accuracy: 0.7024\n",
      "Epoch 45/5000\n",
      "94/94 [==============================] - 0s 2ms/step - loss: 118058280.0000 - accuracy: 0.6465 - val_loss: 99461808.0000 - val_accuracy: 0.7146\n",
      "Epoch 46/5000\n",
      "94/94 [==============================] - 0s 2ms/step - loss: 113831240.0000 - accuracy: 0.6441 - val_loss: 149199264.0000 - val_accuracy: 0.6215\n",
      "Epoch 47/5000\n",
      "94/94 [==============================] - 0s 2ms/step - loss: 207023632.0000 - accuracy: 0.6404 - val_loss: 197590640.0000 - val_accuracy: 0.7146\n",
      "Epoch 48/5000\n",
      "94/94 [==============================] - 0s 2ms/step - loss: 144444128.0000 - accuracy: 0.6431 - val_loss: 207115776.0000 - val_accuracy: 0.6222\n",
      "Epoch 49/5000\n",
      "94/94 [==============================] - 0s 2ms/step - loss: 228580752.0000 - accuracy: 0.6432 - val_loss: 191666256.0000 - val_accuracy: 0.6229\n",
      "Epoch 50/5000\n",
      "94/94 [==============================] - 0s 2ms/step - loss: 200370592.0000 - accuracy: 0.6433 - val_loss: 163128752.0000 - val_accuracy: 0.6227\n",
      "Epoch 51/5000\n",
      "94/94 [==============================] - 0s 2ms/step - loss: 176418736.0000 - accuracy: 0.6428 - val_loss: 159334064.0000 - val_accuracy: 0.6215\n",
      "Epoch 52/5000\n",
      "94/94 [==============================] - 0s 2ms/step - loss: 208566064.0000 - accuracy: 0.6445 - val_loss: 374760736.0000 - val_accuracy: 0.6229\n",
      "Epoch 53/5000\n",
      "94/94 [==============================] - 0s 2ms/step - loss: 262661808.0000 - accuracy: 0.6465 - val_loss: 314313344.0000 - val_accuracy: 0.6217\n",
      "Epoch 54/5000\n",
      "94/94 [==============================] - 0s 2ms/step - loss: 241026192.0000 - accuracy: 0.6475 - val_loss: 394748768.0000 - val_accuracy: 0.6215\n",
      "Epoch 55/5000\n",
      "94/94 [==============================] - 0s 2ms/step - loss: 367754272.0000 - accuracy: 0.6451 - val_loss: 138436176.0000 - val_accuracy: 0.6911\n",
      "Epoch 56/5000\n",
      "94/94 [==============================] - 0s 2ms/step - loss: 241240512.0000 - accuracy: 0.6465 - val_loss: 240968560.0000 - val_accuracy: 0.6239\n",
      "Epoch 57/5000\n",
      "94/94 [==============================] - 0s 2ms/step - loss: 413072256.0000 - accuracy: 0.6429 - val_loss: 1016240128.0000 - val_accuracy: 0.6215\n",
      "Epoch 58/5000\n",
      "94/94 [==============================] - 0s 2ms/step - loss: 493040544.0000 - accuracy: 0.6423 - val_loss: 44767760.0000 - val_accuracy: 0.6551\n",
      "Epoch 59/5000\n",
      "94/94 [==============================] - 0s 2ms/step - loss: 195869408.0000 - accuracy: 0.6423 - val_loss: 390878464.0000 - val_accuracy: 0.6227\n",
      "Epoch 60/5000\n",
      "94/94 [==============================] - 0s 2ms/step - loss: 372289024.0000 - accuracy: 0.6420 - val_loss: 127319368.0000 - val_accuracy: 0.6214\n",
      "Epoch 61/5000\n",
      "94/94 [==============================] - 0s 2ms/step - loss: 706285440.0000 - accuracy: 0.6486 - val_loss: 721652160.0000 - val_accuracy: 0.6214\n",
      "Epoch 62/5000\n",
      "94/94 [==============================] - 0s 2ms/step - loss: 408792672.0000 - accuracy: 0.6475 - val_loss: 693527616.0000 - val_accuracy: 0.7146\n",
      "Epoch 63/5000\n",
      "94/94 [==============================] - 0s 2ms/step - loss: 351692480.0000 - accuracy: 0.6391 - val_loss: 560084032.0000 - val_accuracy: 0.6874\n",
      "Epoch 64/5000\n",
      "94/94 [==============================] - 0s 3ms/step - loss: 645895296.0000 - accuracy: 0.6422 - val_loss: 596730432.0000 - val_accuracy: 0.6220\n",
      "Epoch 65/5000\n",
      "94/94 [==============================] - 0s 2ms/step - loss: 551598272.0000 - accuracy: 0.6458 - val_loss: 86612256.0000 - val_accuracy: 0.6215\n",
      "Epoch 66/5000\n",
      "94/94 [==============================] - 0s 2ms/step - loss: 633274944.0000 - accuracy: 0.6463 - val_loss: 1054557568.0000 - val_accuracy: 0.6214\n",
      "Epoch 67/5000\n",
      "94/94 [==============================] - 0s 2ms/step - loss: 647588032.0000 - accuracy: 0.6452 - val_loss: 657145792.0000 - val_accuracy: 0.6215\n",
      "Epoch 68/5000\n",
      "94/94 [==============================] - 0s 2ms/step - loss: 354433952.0000 - accuracy: 0.6433 - val_loss: 675115200.0000 - val_accuracy: 0.7146\n",
      "Epoch 69/5000\n",
      "94/94 [==============================] - 0s 2ms/step - loss: 636722176.0000 - accuracy: 0.6443 - val_loss: 208832032.0000 - val_accuracy: 0.6440\n",
      "Epoch 70/5000\n",
      "94/94 [==============================] - 0s 2ms/step - loss: 553934208.0000 - accuracy: 0.6477 - val_loss: 847264896.0000 - val_accuracy: 0.6222\n",
      "Epoch 71/5000\n",
      "62/94 [==================>...........] - ETA: 0s - loss: 724060672.0000 - accuracy: 0.6450"
     ]
    },
    {
     "ename": "KeyboardInterrupt",
     "evalue": "",
     "output_type": "error",
     "traceback": [
      "\u001b[1;31m---------------------------------------------------------------------------\u001b[0m",
      "\u001b[1;31mKeyboardInterrupt\u001b[0m                         Traceback (most recent call last)",
      "\u001b[1;32m<ipython-input-100-baeef1173450>\u001b[0m in \u001b[0;36m<module>\u001b[1;34m\u001b[0m\n\u001b[1;32m----> 1\u001b[1;33m history = model.fit(\n\u001b[0m\u001b[0;32m      2\u001b[0m     \u001b[0mX_train\u001b[0m\u001b[1;33m,\u001b[0m\u001b[1;33m\u001b[0m\u001b[1;33m\u001b[0m\u001b[0m\n\u001b[0;32m      3\u001b[0m     \u001b[0my_train\u001b[0m\u001b[1;33m,\u001b[0m\u001b[1;33m\u001b[0m\u001b[1;33m\u001b[0m\u001b[0m\n\u001b[0;32m      4\u001b[0m     \u001b[0mbatch_size\u001b[0m\u001b[1;33m=\u001b[0m\u001b[1;36m200\u001b[0m\u001b[1;33m,\u001b[0m\u001b[1;33m\u001b[0m\u001b[1;33m\u001b[0m\u001b[0m\n\u001b[0;32m      5\u001b[0m     \u001b[0mepochs\u001b[0m\u001b[1;33m=\u001b[0m\u001b[1;36m5000\u001b[0m\u001b[1;33m,\u001b[0m\u001b[1;33m\u001b[0m\u001b[1;33m\u001b[0m\u001b[0m\n",
      "\u001b[1;32m~\\Anaconda3\\lib\\site-packages\\tensorflow\\python\\keras\\engine\\training.py\u001b[0m in \u001b[0;36m_method_wrapper\u001b[1;34m(self, *args, **kwargs)\u001b[0m\n\u001b[0;32m    106\u001b[0m   \u001b[1;32mdef\u001b[0m \u001b[0m_method_wrapper\u001b[0m\u001b[1;33m(\u001b[0m\u001b[0mself\u001b[0m\u001b[1;33m,\u001b[0m \u001b[1;33m*\u001b[0m\u001b[0margs\u001b[0m\u001b[1;33m,\u001b[0m \u001b[1;33m**\u001b[0m\u001b[0mkwargs\u001b[0m\u001b[1;33m)\u001b[0m\u001b[1;33m:\u001b[0m\u001b[1;33m\u001b[0m\u001b[1;33m\u001b[0m\u001b[0m\n\u001b[0;32m    107\u001b[0m     \u001b[1;32mif\u001b[0m \u001b[1;32mnot\u001b[0m \u001b[0mself\u001b[0m\u001b[1;33m.\u001b[0m\u001b[0m_in_multi_worker_mode\u001b[0m\u001b[1;33m(\u001b[0m\u001b[1;33m)\u001b[0m\u001b[1;33m:\u001b[0m  \u001b[1;31m# pylint: disable=protected-access\u001b[0m\u001b[1;33m\u001b[0m\u001b[1;33m\u001b[0m\u001b[0m\n\u001b[1;32m--> 108\u001b[1;33m       \u001b[1;32mreturn\u001b[0m \u001b[0mmethod\u001b[0m\u001b[1;33m(\u001b[0m\u001b[0mself\u001b[0m\u001b[1;33m,\u001b[0m \u001b[1;33m*\u001b[0m\u001b[0margs\u001b[0m\u001b[1;33m,\u001b[0m \u001b[1;33m**\u001b[0m\u001b[0mkwargs\u001b[0m\u001b[1;33m)\u001b[0m\u001b[1;33m\u001b[0m\u001b[1;33m\u001b[0m\u001b[0m\n\u001b[0m\u001b[0;32m    109\u001b[0m \u001b[1;33m\u001b[0m\u001b[0m\n\u001b[0;32m    110\u001b[0m     \u001b[1;31m# Running inside `run_distribute_coordinator` already.\u001b[0m\u001b[1;33m\u001b[0m\u001b[1;33m\u001b[0m\u001b[1;33m\u001b[0m\u001b[0m\n",
      "\u001b[1;32m~\\Anaconda3\\lib\\site-packages\\tensorflow\\python\\keras\\engine\\training.py\u001b[0m in \u001b[0;36mfit\u001b[1;34m(self, x, y, batch_size, epochs, verbose, callbacks, validation_split, validation_data, shuffle, class_weight, sample_weight, initial_epoch, steps_per_epoch, validation_steps, validation_batch_size, validation_freq, max_queue_size, workers, use_multiprocessing)\u001b[0m\n\u001b[0;32m   1121\u001b[0m                 \u001b[0mmodel\u001b[0m\u001b[1;33m=\u001b[0m\u001b[0mself\u001b[0m\u001b[1;33m,\u001b[0m\u001b[1;33m\u001b[0m\u001b[1;33m\u001b[0m\u001b[0m\n\u001b[0;32m   1122\u001b[0m                 steps_per_execution=self._steps_per_execution)\n\u001b[1;32m-> 1123\u001b[1;33m           val_logs = self.evaluate(\n\u001b[0m\u001b[0;32m   1124\u001b[0m               \u001b[0mx\u001b[0m\u001b[1;33m=\u001b[0m\u001b[0mval_x\u001b[0m\u001b[1;33m,\u001b[0m\u001b[1;33m\u001b[0m\u001b[1;33m\u001b[0m\u001b[0m\n\u001b[0;32m   1125\u001b[0m               \u001b[0my\u001b[0m\u001b[1;33m=\u001b[0m\u001b[0mval_y\u001b[0m\u001b[1;33m,\u001b[0m\u001b[1;33m\u001b[0m\u001b[1;33m\u001b[0m\u001b[0m\n",
      "\u001b[1;32m~\\Anaconda3\\lib\\site-packages\\tensorflow\\python\\keras\\engine\\training.py\u001b[0m in \u001b[0;36m_method_wrapper\u001b[1;34m(self, *args, **kwargs)\u001b[0m\n\u001b[0;32m    106\u001b[0m   \u001b[1;32mdef\u001b[0m \u001b[0m_method_wrapper\u001b[0m\u001b[1;33m(\u001b[0m\u001b[0mself\u001b[0m\u001b[1;33m,\u001b[0m \u001b[1;33m*\u001b[0m\u001b[0margs\u001b[0m\u001b[1;33m,\u001b[0m \u001b[1;33m**\u001b[0m\u001b[0mkwargs\u001b[0m\u001b[1;33m)\u001b[0m\u001b[1;33m:\u001b[0m\u001b[1;33m\u001b[0m\u001b[1;33m\u001b[0m\u001b[0m\n\u001b[0;32m    107\u001b[0m     \u001b[1;32mif\u001b[0m \u001b[1;32mnot\u001b[0m \u001b[0mself\u001b[0m\u001b[1;33m.\u001b[0m\u001b[0m_in_multi_worker_mode\u001b[0m\u001b[1;33m(\u001b[0m\u001b[1;33m)\u001b[0m\u001b[1;33m:\u001b[0m  \u001b[1;31m# pylint: disable=protected-access\u001b[0m\u001b[1;33m\u001b[0m\u001b[1;33m\u001b[0m\u001b[0m\n\u001b[1;32m--> 108\u001b[1;33m       \u001b[1;32mreturn\u001b[0m \u001b[0mmethod\u001b[0m\u001b[1;33m(\u001b[0m\u001b[0mself\u001b[0m\u001b[1;33m,\u001b[0m \u001b[1;33m*\u001b[0m\u001b[0margs\u001b[0m\u001b[1;33m,\u001b[0m \u001b[1;33m**\u001b[0m\u001b[0mkwargs\u001b[0m\u001b[1;33m)\u001b[0m\u001b[1;33m\u001b[0m\u001b[1;33m\u001b[0m\u001b[0m\n\u001b[0m\u001b[0;32m    109\u001b[0m \u001b[1;33m\u001b[0m\u001b[0m\n\u001b[0;32m    110\u001b[0m     \u001b[1;31m# Running inside `run_distribute_coordinator` already.\u001b[0m\u001b[1;33m\u001b[0m\u001b[1;33m\u001b[0m\u001b[1;33m\u001b[0m\u001b[0m\n",
      "\u001b[1;32m~\\Anaconda3\\lib\\site-packages\\tensorflow\\python\\keras\\engine\\training.py\u001b[0m in \u001b[0;36mevaluate\u001b[1;34m(self, x, y, batch_size, verbose, sample_weight, steps, callbacks, max_queue_size, workers, use_multiprocessing, return_dict)\u001b[0m\n\u001b[0;32m   1377\u001b[0m             \u001b[1;32mwith\u001b[0m \u001b[0mtrace\u001b[0m\u001b[1;33m.\u001b[0m\u001b[0mTrace\u001b[0m\u001b[1;33m(\u001b[0m\u001b[1;34m'TraceContext'\u001b[0m\u001b[1;33m,\u001b[0m \u001b[0mgraph_type\u001b[0m\u001b[1;33m=\u001b[0m\u001b[1;34m'test'\u001b[0m\u001b[1;33m,\u001b[0m \u001b[0mstep_num\u001b[0m\u001b[1;33m=\u001b[0m\u001b[0mstep\u001b[0m\u001b[1;33m)\u001b[0m\u001b[1;33m:\u001b[0m\u001b[1;33m\u001b[0m\u001b[1;33m\u001b[0m\u001b[0m\n\u001b[0;32m   1378\u001b[0m               \u001b[0mcallbacks\u001b[0m\u001b[1;33m.\u001b[0m\u001b[0mon_test_batch_begin\u001b[0m\u001b[1;33m(\u001b[0m\u001b[0mstep\u001b[0m\u001b[1;33m)\u001b[0m\u001b[1;33m\u001b[0m\u001b[1;33m\u001b[0m\u001b[0m\n\u001b[1;32m-> 1379\u001b[1;33m               \u001b[0mtmp_logs\u001b[0m \u001b[1;33m=\u001b[0m \u001b[0mtest_function\u001b[0m\u001b[1;33m(\u001b[0m\u001b[0miterator\u001b[0m\u001b[1;33m)\u001b[0m\u001b[1;33m\u001b[0m\u001b[1;33m\u001b[0m\u001b[0m\n\u001b[0m\u001b[0;32m   1380\u001b[0m               \u001b[1;32mif\u001b[0m \u001b[0mdata_handler\u001b[0m\u001b[1;33m.\u001b[0m\u001b[0mshould_sync\u001b[0m\u001b[1;33m:\u001b[0m\u001b[1;33m\u001b[0m\u001b[1;33m\u001b[0m\u001b[0m\n\u001b[0;32m   1381\u001b[0m                 \u001b[0mcontext\u001b[0m\u001b[1;33m.\u001b[0m\u001b[0masync_wait\u001b[0m\u001b[1;33m(\u001b[0m\u001b[1;33m)\u001b[0m\u001b[1;33m\u001b[0m\u001b[1;33m\u001b[0m\u001b[0m\n",
      "\u001b[1;32m~\\Anaconda3\\lib\\site-packages\\tensorflow\\python\\eager\\def_function.py\u001b[0m in \u001b[0;36m__call__\u001b[1;34m(self, *args, **kwds)\u001b[0m\n\u001b[0;32m    778\u001b[0m       \u001b[1;32melse\u001b[0m\u001b[1;33m:\u001b[0m\u001b[1;33m\u001b[0m\u001b[1;33m\u001b[0m\u001b[0m\n\u001b[0;32m    779\u001b[0m         \u001b[0mcompiler\u001b[0m \u001b[1;33m=\u001b[0m \u001b[1;34m\"nonXla\"\u001b[0m\u001b[1;33m\u001b[0m\u001b[1;33m\u001b[0m\u001b[0m\n\u001b[1;32m--> 780\u001b[1;33m         \u001b[0mresult\u001b[0m \u001b[1;33m=\u001b[0m \u001b[0mself\u001b[0m\u001b[1;33m.\u001b[0m\u001b[0m_call\u001b[0m\u001b[1;33m(\u001b[0m\u001b[1;33m*\u001b[0m\u001b[0margs\u001b[0m\u001b[1;33m,\u001b[0m \u001b[1;33m**\u001b[0m\u001b[0mkwds\u001b[0m\u001b[1;33m)\u001b[0m\u001b[1;33m\u001b[0m\u001b[1;33m\u001b[0m\u001b[0m\n\u001b[0m\u001b[0;32m    781\u001b[0m \u001b[1;33m\u001b[0m\u001b[0m\n\u001b[0;32m    782\u001b[0m       \u001b[0mnew_tracing_count\u001b[0m \u001b[1;33m=\u001b[0m \u001b[0mself\u001b[0m\u001b[1;33m.\u001b[0m\u001b[0m_get_tracing_count\u001b[0m\u001b[1;33m(\u001b[0m\u001b[1;33m)\u001b[0m\u001b[1;33m\u001b[0m\u001b[1;33m\u001b[0m\u001b[0m\n",
      "\u001b[1;32m~\\Anaconda3\\lib\\site-packages\\tensorflow\\python\\eager\\def_function.py\u001b[0m in \u001b[0;36m_call\u001b[1;34m(self, *args, **kwds)\u001b[0m\n\u001b[0;32m    812\u001b[0m       \u001b[1;31m# In this case we have not created variables on the first call. So we can\u001b[0m\u001b[1;33m\u001b[0m\u001b[1;33m\u001b[0m\u001b[1;33m\u001b[0m\u001b[0m\n\u001b[0;32m    813\u001b[0m       \u001b[1;31m# run the first trace but we should fail if variables are created.\u001b[0m\u001b[1;33m\u001b[0m\u001b[1;33m\u001b[0m\u001b[1;33m\u001b[0m\u001b[0m\n\u001b[1;32m--> 814\u001b[1;33m       \u001b[0mresults\u001b[0m \u001b[1;33m=\u001b[0m \u001b[0mself\u001b[0m\u001b[1;33m.\u001b[0m\u001b[0m_stateful_fn\u001b[0m\u001b[1;33m(\u001b[0m\u001b[1;33m*\u001b[0m\u001b[0margs\u001b[0m\u001b[1;33m,\u001b[0m \u001b[1;33m**\u001b[0m\u001b[0mkwds\u001b[0m\u001b[1;33m)\u001b[0m\u001b[1;33m\u001b[0m\u001b[1;33m\u001b[0m\u001b[0m\n\u001b[0m\u001b[0;32m    815\u001b[0m       \u001b[1;32mif\u001b[0m \u001b[0mself\u001b[0m\u001b[1;33m.\u001b[0m\u001b[0m_created_variables\u001b[0m\u001b[1;33m:\u001b[0m\u001b[1;33m\u001b[0m\u001b[1;33m\u001b[0m\u001b[0m\n\u001b[0;32m    816\u001b[0m         raise ValueError(\"Creating variables on a non-first call to a function\"\n",
      "\u001b[1;32m~\\Anaconda3\\lib\\site-packages\\tensorflow\\python\\eager\\function.py\u001b[0m in \u001b[0;36m__call__\u001b[1;34m(self, *args, **kwargs)\u001b[0m\n\u001b[0;32m   2827\u001b[0m     \u001b[1;32mwith\u001b[0m \u001b[0mself\u001b[0m\u001b[1;33m.\u001b[0m\u001b[0m_lock\u001b[0m\u001b[1;33m:\u001b[0m\u001b[1;33m\u001b[0m\u001b[1;33m\u001b[0m\u001b[0m\n\u001b[0;32m   2828\u001b[0m       \u001b[0mgraph_function\u001b[0m\u001b[1;33m,\u001b[0m \u001b[0margs\u001b[0m\u001b[1;33m,\u001b[0m \u001b[0mkwargs\u001b[0m \u001b[1;33m=\u001b[0m \u001b[0mself\u001b[0m\u001b[1;33m.\u001b[0m\u001b[0m_maybe_define_function\u001b[0m\u001b[1;33m(\u001b[0m\u001b[0margs\u001b[0m\u001b[1;33m,\u001b[0m \u001b[0mkwargs\u001b[0m\u001b[1;33m)\u001b[0m\u001b[1;33m\u001b[0m\u001b[1;33m\u001b[0m\u001b[0m\n\u001b[1;32m-> 2829\u001b[1;33m     \u001b[1;32mreturn\u001b[0m \u001b[0mgraph_function\u001b[0m\u001b[1;33m.\u001b[0m\u001b[0m_filtered_call\u001b[0m\u001b[1;33m(\u001b[0m\u001b[0margs\u001b[0m\u001b[1;33m,\u001b[0m \u001b[0mkwargs\u001b[0m\u001b[1;33m)\u001b[0m  \u001b[1;31m# pylint: disable=protected-access\u001b[0m\u001b[1;33m\u001b[0m\u001b[1;33m\u001b[0m\u001b[0m\n\u001b[0m\u001b[0;32m   2830\u001b[0m \u001b[1;33m\u001b[0m\u001b[0m\n\u001b[0;32m   2831\u001b[0m   \u001b[1;33m@\u001b[0m\u001b[0mproperty\u001b[0m\u001b[1;33m\u001b[0m\u001b[1;33m\u001b[0m\u001b[0m\n",
      "\u001b[1;32m~\\Anaconda3\\lib\\site-packages\\tensorflow\\python\\eager\\function.py\u001b[0m in \u001b[0;36m_filtered_call\u001b[1;34m(self, args, kwargs, cancellation_manager)\u001b[0m\n\u001b[0;32m   1841\u001b[0m       \u001b[0;31m`\u001b[0m\u001b[0margs\u001b[0m\u001b[0;31m`\u001b[0m \u001b[1;32mand\u001b[0m\u001b[0;31m \u001b[0m\u001b[0;31m`\u001b[0m\u001b[0mkwargs\u001b[0m\u001b[0;31m`\u001b[0m\u001b[1;33m.\u001b[0m\u001b[1;33m\u001b[0m\u001b[1;33m\u001b[0m\u001b[0m\n\u001b[0;32m   1842\u001b[0m     \"\"\"\n\u001b[1;32m-> 1843\u001b[1;33m     return self._call_flat(\n\u001b[0m\u001b[0;32m   1844\u001b[0m         [t for t in nest.flatten((args, kwargs), expand_composites=True)\n\u001b[0;32m   1845\u001b[0m          if isinstance(t, (ops.Tensor,\n",
      "\u001b[1;32m~\\Anaconda3\\lib\\site-packages\\tensorflow\\python\\eager\\function.py\u001b[0m in \u001b[0;36m_call_flat\u001b[1;34m(self, args, captured_inputs, cancellation_manager)\u001b[0m\n\u001b[0;32m   1921\u001b[0m         and executing_eagerly):\n\u001b[0;32m   1922\u001b[0m       \u001b[1;31m# No tape is watching; skip to running the function.\u001b[0m\u001b[1;33m\u001b[0m\u001b[1;33m\u001b[0m\u001b[1;33m\u001b[0m\u001b[0m\n\u001b[1;32m-> 1923\u001b[1;33m       return self._build_call_outputs(self._inference_function.call(\n\u001b[0m\u001b[0;32m   1924\u001b[0m           ctx, args, cancellation_manager=cancellation_manager))\n\u001b[0;32m   1925\u001b[0m     forward_backward = self._select_forward_and_backward_functions(\n",
      "\u001b[1;32m~\\Anaconda3\\lib\\site-packages\\tensorflow\\python\\eager\\function.py\u001b[0m in \u001b[0;36mcall\u001b[1;34m(self, ctx, args, cancellation_manager)\u001b[0m\n\u001b[0;32m    543\u001b[0m       \u001b[1;32mwith\u001b[0m \u001b[0m_InterpolateFunctionError\u001b[0m\u001b[1;33m(\u001b[0m\u001b[0mself\u001b[0m\u001b[1;33m)\u001b[0m\u001b[1;33m:\u001b[0m\u001b[1;33m\u001b[0m\u001b[1;33m\u001b[0m\u001b[0m\n\u001b[0;32m    544\u001b[0m         \u001b[1;32mif\u001b[0m \u001b[0mcancellation_manager\u001b[0m \u001b[1;32mis\u001b[0m \u001b[1;32mNone\u001b[0m\u001b[1;33m:\u001b[0m\u001b[1;33m\u001b[0m\u001b[1;33m\u001b[0m\u001b[0m\n\u001b[1;32m--> 545\u001b[1;33m           outputs = execute.execute(\n\u001b[0m\u001b[0;32m    546\u001b[0m               \u001b[0mstr\u001b[0m\u001b[1;33m(\u001b[0m\u001b[0mself\u001b[0m\u001b[1;33m.\u001b[0m\u001b[0msignature\u001b[0m\u001b[1;33m.\u001b[0m\u001b[0mname\u001b[0m\u001b[1;33m)\u001b[0m\u001b[1;33m,\u001b[0m\u001b[1;33m\u001b[0m\u001b[1;33m\u001b[0m\u001b[0m\n\u001b[0;32m    547\u001b[0m               \u001b[0mnum_outputs\u001b[0m\u001b[1;33m=\u001b[0m\u001b[0mself\u001b[0m\u001b[1;33m.\u001b[0m\u001b[0m_num_outputs\u001b[0m\u001b[1;33m,\u001b[0m\u001b[1;33m\u001b[0m\u001b[1;33m\u001b[0m\u001b[0m\n",
      "\u001b[1;32m~\\Anaconda3\\lib\\site-packages\\tensorflow\\python\\eager\\execute.py\u001b[0m in \u001b[0;36mquick_execute\u001b[1;34m(op_name, num_outputs, inputs, attrs, ctx, name)\u001b[0m\n\u001b[0;32m     57\u001b[0m   \u001b[1;32mtry\u001b[0m\u001b[1;33m:\u001b[0m\u001b[1;33m\u001b[0m\u001b[1;33m\u001b[0m\u001b[0m\n\u001b[0;32m     58\u001b[0m     \u001b[0mctx\u001b[0m\u001b[1;33m.\u001b[0m\u001b[0mensure_initialized\u001b[0m\u001b[1;33m(\u001b[0m\u001b[1;33m)\u001b[0m\u001b[1;33m\u001b[0m\u001b[1;33m\u001b[0m\u001b[0m\n\u001b[1;32m---> 59\u001b[1;33m     tensors = pywrap_tfe.TFE_Py_Execute(ctx._handle, device_name, op_name,\n\u001b[0m\u001b[0;32m     60\u001b[0m                                         inputs, attrs, num_outputs)\n\u001b[0;32m     61\u001b[0m   \u001b[1;32mexcept\u001b[0m \u001b[0mcore\u001b[0m\u001b[1;33m.\u001b[0m\u001b[0m_NotOkStatusException\u001b[0m \u001b[1;32mas\u001b[0m \u001b[0me\u001b[0m\u001b[1;33m:\u001b[0m\u001b[1;33m\u001b[0m\u001b[1;33m\u001b[0m\u001b[0m\n",
      "\u001b[1;31mKeyboardInterrupt\u001b[0m: "
     ]
    }
   ],
   "source": [
    "history = model.fit(\n",
    "    X_train,\n",
    "    y_train,\n",
    "    batch_size=200,\n",
    "    epochs=5000,\n",
    "    validation_data=(X_test, y_test)\n",
    ")"
   ]
  },
  {
   "cell_type": "code",
   "execution_count": 101,
   "metadata": {},
   "outputs": [],
   "source": [
    "y_true = y_test\n",
    "y_predicted = model.predict(X_test)\n",
    "y_predicted_binary = np.where(y_predicted > 0.5, 1, 0)"
   ]
  },
  {
   "cell_type": "code",
   "execution_count": 105,
   "metadata": {},
   "outputs": [
    {
     "data": {
      "text/plain": [
       "0.8265410454290134"
      ]
     },
     "execution_count": 105,
     "metadata": {},
     "output_type": "execute_result"
    }
   ],
   "source": [
    "from sklearn.metrics import roc_auc_score\n",
    "\n",
    "roc_auc_score(y_true, y_predicted)"
   ]
  },
  {
   "cell_type": "markdown",
   "metadata": {},
   "source": [
    "# Random Forest"
   ]
  },
  {
   "cell_type": "code",
   "execution_count": 104,
   "metadata": {},
   "outputs": [
    {
     "data": {
      "text/plain": [
       "-1.1959004149577708"
      ]
     },
     "execution_count": 104,
     "metadata": {},
     "output_type": "execute_result"
    }
   ],
   "source": [
    "from sklearn.ensemble import RandomForestRegressor\n",
    "from sklearn.metrics import r2_score\n",
    "\n",
    "model = RandomForestRegressor()\n",
    "model.fit(X_train, y_train)\n",
    "\n",
    "y_predicted = model.predict(X_test)\n",
    "\n",
    "r2_score(y_predicted, y_test)"
   ]
  },
  {
   "cell_type": "code",
   "execution_count": 109,
   "metadata": {},
   "outputs": [
    {
     "name": "stdout",
     "output_type": "stream",
     "text": [
      "{'n_estimators': [200, 400, 600, 800, 1000, 1200, 1400, 1600, 1800, 2000], 'max_features': ['auto', 'sqrt'], 'max_depth': [10, 20, 30, 40, 50, 60, 70, 80, 90, 100, 110, None], 'min_samples_split': [2, 5, 10], 'min_samples_leaf': [1, 2, 4], 'bootstrap': [True, False]}\n"
     ]
    }
   ],
   "source": [
    "from sklearn.model_selection import RandomizedSearchCV\n",
    "# Number of trees in random forest\n",
    "n_estimators = [int(x) for x in np.linspace(start = 200, stop = 2000, num = 10)]\n",
    "# Number of features to consider at every split\n",
    "max_features = ['auto', 'sqrt']\n",
    "# Maximum number of levels in tree\n",
    "max_depth = [int(x) for x in np.linspace(10, 110, num = 11)]\n",
    "max_depth.append(None)\n",
    "# Minimum number of samples required to split a node\n",
    "min_samples_split = [2, 5, 10]\n",
    "# Minimum number of samples required at each leaf node\n",
    "min_samples_leaf = [1, 2, 4]\n",
    "# Method of selecting samples for training each tree\n",
    "bootstrap = [True, False]\n",
    "# Create the random grid\n",
    "random_grid = {'n_estimators': n_estimators,\n",
    "               'max_features': max_features,\n",
    "               'max_depth': max_depth,\n",
    "               'min_samples_split': min_samples_split,\n",
    "               'min_samples_leaf': min_samples_leaf,\n",
    "               'bootstrap': bootstrap}\n",
    "print(random_grid)"
   ]
  },
  {
   "cell_type": "code",
   "execution_count": 110,
   "metadata": {},
   "outputs": [],
   "source": [
    "rf = RandomForestRegressor()\n",
    "rf_random = RandomizedSearchCV(estimator = rf, param_distributions = random_grid, n_iter = 100, cv = 3, verbose=2, random_state=42, n_jobs = -1)"
   ]
  },
  {
   "cell_type": "code",
   "execution_count": 111,
   "metadata": {},
   "outputs": [
    {
     "name": "stdout",
     "output_type": "stream",
     "text": [
      "Fitting 3 folds for each of 100 candidates, totalling 300 fits\n"
     ]
    },
    {
     "name": "stderr",
     "output_type": "stream",
     "text": [
      "[Parallel(n_jobs=-1)]: Using backend LokyBackend with 12 concurrent workers.\n",
      "[Parallel(n_jobs=-1)]: Done  17 tasks      | elapsed:  1.9min\n",
      "[Parallel(n_jobs=-1)]: Done 138 tasks      | elapsed: 30.0min\n",
      "[Parallel(n_jobs=-1)]: Done 300 out of 300 | elapsed: 74.9min finished\n"
     ]
    },
    {
     "data": {
      "text/plain": [
       "RandomizedSearchCV(cv=3, estimator=RandomForestRegressor(), n_iter=100,\n",
       "                   n_jobs=-1,\n",
       "                   param_distributions={'bootstrap': [True, False],\n",
       "                                        'max_depth': [10, 20, 30, 40, 50, 60,\n",
       "                                                      70, 80, 90, 100, 110,\n",
       "                                                      None],\n",
       "                                        'max_features': ['auto', 'sqrt'],\n",
       "                                        'min_samples_leaf': [1, 2, 4],\n",
       "                                        'min_samples_split': [2, 5, 10],\n",
       "                                        'n_estimators': [200, 400, 600, 800,\n",
       "                                                         1000, 1200, 1400, 1600,\n",
       "                                                         1800, 2000]},\n",
       "                   random_state=42, verbose=2)"
      ]
     },
     "execution_count": 111,
     "metadata": {},
     "output_type": "execute_result"
    }
   ],
   "source": [
    "model = rf_random\n",
    "model.fit(X_train, y_train)"
   ]
  },
  {
   "cell_type": "code",
   "execution_count": 112,
   "metadata": {},
   "outputs": [
    {
     "data": {
      "text/plain": [
       "{'n_estimators': 800,\n",
       " 'min_samples_split': 2,\n",
       " 'min_samples_leaf': 4,\n",
       " 'max_features': 'sqrt',\n",
       " 'max_depth': 20,\n",
       " 'bootstrap': False}"
      ]
     },
     "execution_count": 112,
     "metadata": {},
     "output_type": "execute_result"
    }
   ],
   "source": [
    "model.best_params_"
   ]
  },
  {
   "cell_type": "code",
   "execution_count": 114,
   "metadata": {},
   "outputs": [
    {
     "name": "stderr",
     "output_type": "stream",
     "text": [
      "<ipython-input-114-2d379f86ada3>:4: RuntimeWarning: divide by zero encountered in true_divide\n",
      "  mape = 100 * np.mean(errors / y_test)\n",
      "<ipython-input-114-2d379f86ada3>:4: RuntimeWarning: invalid value encountered in true_divide\n",
      "  mape = 100 * np.mean(errors / y_test)\n"
     ]
    },
    {
     "name": "stdout",
     "output_type": "stream",
     "text": [
      "Model Performance\n",
      "Average Error: 0.2832 degrees.\n",
      "Accuracy = nan%.\n",
      "Model Performance\n",
      "Average Error: 0.2890 degrees.\n",
      "Accuracy = -inf%.\n"
     ]
    },
    {
     "name": "stderr",
     "output_type": "stream",
     "text": [
      "<ipython-input-114-2d379f86ada3>:4: RuntimeWarning: divide by zero encountered in true_divide\n",
      "  mape = 100 * np.mean(errors / y_test)\n"
     ]
    }
   ],
   "source": [
    "def evaluate(model, X_test, y_test):\n",
    "    predictions = model.predict(X_test)\n",
    "    errors = abs(predictions - y_test)\n",
    "    mape = 100 * np.mean(errors / y_test)\n",
    "    accuracy = 100 - mape\n",
    "    print('Model Performance')\n",
    "    print('Average Error: {:0.4f} degrees.'.format(np.mean(errors)))\n",
    "    print('Accuracy = {:0.2f}%.'.format(accuracy))\n",
    "    \n",
    "    return accuracy\n",
    "\n",
    "\n",
    "base_model = RandomForestRegressor(n_estimators = 10, random_state = 42)\n",
    "base_model.fit(X_train, y_train)\n",
    "base_accuracy = evaluate(base_model, X_test, y_test)\n",
    "\n",
    "\n",
    "\n",
    "best_random = rf_random.best_estimator_\n",
    "random_accuracy = evaluate(best_random, X_test, y_test)"
   ]
  },
  {
   "cell_type": "code",
   "execution_count": 116,
   "metadata": {},
   "outputs": [
    {
     "data": {
      "text/plain": [
       "0.843480834828371"
      ]
     },
     "execution_count": 116,
     "metadata": {},
     "output_type": "execute_result"
    }
   ],
   "source": [
    "y_predicted = best_random.predict(X_test)\n",
    "model = best_random\n",
    "\n",
    "from sklearn.metrics import roc_auc_score\n",
    "\n",
    "roc_auc_score(y_test, y_predicted)"
   ]
  },
  {
   "cell_type": "markdown",
   "metadata": {},
   "source": [
    "## Submission Data"
   ]
  },
  {
   "cell_type": "code",
   "execution_count": 117,
   "metadata": {},
   "outputs": [],
   "source": [
    "test_data = pd.read_csv('../Data/test_set_features.csv')\n",
    "df_full = test_data"
   ]
  },
  {
   "cell_type": "code",
   "execution_count": 118,
   "metadata": {},
   "outputs": [],
   "source": [
    "df = df_full.drop(columns=['employment_occupation', 'employment_industry', 'health_insurance', 'respondent_id'])\n",
    "\n",
    "categorical_columns = [\n",
    "    'sex',\n",
    "    'hhs_geo_region',\n",
    "    'census_msa',\n",
    "    'race',\n",
    "    'age_group',\n",
    "    'behavioral_face_mask',\n",
    "    'behavioral_wash_hands',\n",
    "    'behavioral_antiviral_meds',\n",
    "    'behavioral_outside_home',\n",
    "    'behavioral_large_gatherings',\n",
    "    'behavioral_touch_face',\n",
    "    'behavioral_avoidance',\n",
    "    'health_worker',\n",
    "    'child_under_6_months',\n",
    "    'chronic_med_condition',\n",
    "    'education',\n",
    "    'marital_status',\n",
    "    'employment_status',\n",
    "    'rent_or_own',\n",
    "    'doctor_recc_h1n1',\n",
    "    'doctor_recc_seasonal',\n",
    "    'income_poverty'\n",
    "]\n",
    "\n",
    "numerical_columns = [\n",
    "    'household_children',\n",
    "    'household_adults',\n",
    "    'h1n1_concern',\n",
    "    'h1n1_knowledge',\n",
    "    'opinion_h1n1_risk',\n",
    "    'opinion_h1n1_vacc_effective',\n",
    "    'opinion_h1n1_sick_from_vacc',\n",
    "    'opinion_seas_vacc_effective',\n",
    "    'opinion_seas_risk',\n",
    "    'opinion_seas_sick_from_vacc',\n",
    "    \n",
    "]\n",
    "\n",
    "for column in categorical_columns:\n",
    "    curr_col = df[column]\n",
    "    df.loc[df[column] == 1, column] = 'Yes'\n",
    "    df.loc[df[column] == 0, column] = 'No'"
   ]
  },
  {
   "cell_type": "code",
   "execution_count": 119,
   "metadata": {},
   "outputs": [],
   "source": [
    "for column in numerical_columns:\n",
    "    df[column] = df[column].fillna(df[column].mean())\n",
    "\n",
    "df['health_worker'] = df['health_worker'].fillna(0)\n",
    "df['behavioral_face_mask'] = df['behavioral_face_mask'].fillna(0)\n",
    "df['behavioral_wash_hands'] = df['behavioral_wash_hands'].fillna(0)\n",
    "df['behavioral_antiviral_meds'] = df['behavioral_antiviral_meds'].fillna(0)\n",
    "df['behavioral_outside_home'] = df['behavioral_outside_home'].fillna(0)\n",
    "df['behavioral_large_gatherings'] = df['behavioral_large_gatherings'].fillna(0)\n",
    "df['behavioral_touch_face'] = df['behavioral_touch_face'].fillna(0)\n",
    "df['behavioral_avoidance'] = df['behavioral_avoidance'].fillna(0)\n",
    "df['child_under_6_months'] = df['child_under_6_months'].fillna(0)\n",
    "df['chronic_med_condition'] = df['chronic_med_condition'].fillna(0)\n",
    "df['marital_status'] = df['marital_status'].fillna('Not Married')\n",
    "df['rent_or_own'] = df['rent_or_own'].fillna('Rent')\n",
    "df['education'] = df['education'].fillna('Some College')\n",
    "df['employment_status'] = df['employment_status'].fillna('Employed')\n",
    "df['doctor_recc_h1n1'] = df['doctor_recc_h1n1'].fillna(1)\n",
    "df['doctor_recc_seasonal'] = df['doctor_recc_seasonal'].fillna(1)\n",
    "df['income_poverty'] = df['income_poverty'].fillna('<= $75,000, Above Poverty')"
   ]
  },
  {
   "cell_type": "code",
   "execution_count": 120,
   "metadata": {},
   "outputs": [],
   "source": [
    "X = df\n",
    "\n",
    "#Get Binary Data for Categorical Variables\n",
    "cat_df = X[categorical_columns]\n",
    "recat_df = pd.get_dummies(data=cat_df)\n",
    "\n",
    "num_df = X[numerical_columns]\n",
    "\n",
    "from sklearn.preprocessing import StandardScaler\n",
    "\n",
    "#Scale Numerical Data\n",
    "scaler = StandardScaler()\n",
    "scaled_num = scaler.fit_transform(num_df)\n",
    "scaled_num_df = pd.DataFrame(scaled_num, index=num_df.index, columns=num_df.columns)\n",
    "\n",
    "encoded_df = pd.concat([recat_df, scaled_num_df], axis=1)\n",
    "\n",
    "X = np.asarray(encoded_df)"
   ]
  },
  {
   "cell_type": "code",
   "execution_count": 121,
   "metadata": {},
   "outputs": [],
   "source": [
    "y = model.predict(X)\n",
    "y_df = pd.DataFrame(y, columns=['h1n1_vaccine', 'seasonal_vaccine'])"
   ]
  },
  {
   "cell_type": "code",
   "execution_count": 122,
   "metadata": {},
   "outputs": [],
   "source": [
    "results = pd.concat([df_full, y_df], axis=1)"
   ]
  },
  {
   "cell_type": "code",
   "execution_count": 123,
   "metadata": {},
   "outputs": [],
   "source": [
    "results = results[['respondent_id', 'h1n1_vaccine', 'seasonal_vaccine']]"
   ]
  },
  {
   "cell_type": "code",
   "execution_count": 124,
   "metadata": {},
   "outputs": [],
   "source": [
    "results.to_csv('../Submissions/Submission 6.29.21.csv', index=False)"
   ]
  },
  {
   "cell_type": "code",
   "execution_count": null,
   "metadata": {},
   "outputs": [],
   "source": []
  },
  {
   "cell_type": "code",
   "execution_count": null,
   "metadata": {},
   "outputs": [],
   "source": []
  },
  {
   "cell_type": "code",
   "execution_count": null,
   "metadata": {},
   "outputs": [],
   "source": []
  },
  {
   "cell_type": "code",
   "execution_count": null,
   "metadata": {},
   "outputs": [],
   "source": []
  },
  {
   "cell_type": "code",
   "execution_count": 128,
   "metadata": {},
   "outputs": [],
   "source": [
    "from sklearn.feature_selection import SelectFromModel\n",
    "\n",
    "sel = SelectFromModel(RandomForestRegressor(n_estimators= 800,\n",
    " min_samples_split= 2,\n",
    " min_samples_leaf= 4,\n",
    "max_features= 'sqrt',\n",
    " max_depth= 20,\n",
    " bootstrap= False))\n",
    "sel.fit(X_train, y_train)"
   ]
  },
  {
   "cell_type": "code",
   "execution_count": 136,
   "metadata": {},
   "outputs": [
    {
     "data": {
      "text/plain": [
       "17"
      ]
     },
     "execution_count": 136,
     "metadata": {},
     "output_type": "execute_result"
    }
   ],
   "source": [
    "selected_feat= encoded_df.columns[(sel.get_support())]\n",
    "len(selected_feat)"
   ]
  },
  {
   "cell_type": "code",
   "execution_count": 137,
   "metadata": {},
   "outputs": [
    {
     "data": {
      "text/plain": [
       "Index(['age_group_18 - 34 Years', 'age_group_65+ Years', 'health_worker_No',\n",
       "       'health_worker_Yes', 'doctor_recc_h1n1_No', 'doctor_recc_h1n1_Yes',\n",
       "       'doctor_recc_seasonal_No', 'doctor_recc_seasonal_Yes',\n",
       "       'household_children', 'h1n1_concern', 'h1n1_knowledge',\n",
       "       'opinion_h1n1_risk', 'opinion_h1n1_vacc_effective',\n",
       "       'opinion_h1n1_sick_from_vacc', 'opinion_seas_vacc_effective',\n",
       "       'opinion_seas_risk', 'opinion_seas_sick_from_vacc'],\n",
       "      dtype='object')"
      ]
     },
     "execution_count": 137,
     "metadata": {},
     "output_type": "execute_result"
    }
   ],
   "source": [
    "selected_feat"
   ]
  },
  {
   "cell_type": "code",
   "execution_count": 142,
   "metadata": {},
   "outputs": [
    {
     "ename": "NameError",
     "evalue": "name 'feature_importances_' is not defined",
     "output_type": "error",
     "traceback": [
      "\u001b[1;31m---------------------------------------------------------------------------\u001b[0m",
      "\u001b[1;31mNameError\u001b[0m                                 Traceback (most recent call last)",
      "\u001b[1;32m<ipython-input-142-0f343b43ae0b>\u001b[0m in \u001b[0;36m<module>\u001b[1;34m\u001b[0m\n\u001b[1;32m----> 1\u001b[1;33m \u001b[0mpd\u001b[0m\u001b[1;33m.\u001b[0m\u001b[0mSeries\u001b[0m\u001b[1;33m(\u001b[0m\u001b[0msel\u001b[0m\u001b[1;33m.\u001b[0m\u001b[0mestimator_\u001b[0m\u001b[1;33m,\u001b[0m \u001b[0mfeature_importances_\u001b[0m\u001b[1;33m.\u001b[0m\u001b[0mravel\u001b[0m\u001b[1;33m(\u001b[0m\u001b[1;33m)\u001b[0m\u001b[1;33m)\u001b[0m\u001b[1;33m.\u001b[0m\u001b[0mhist\u001b[0m\u001b[1;33m(\u001b[0m\u001b[1;33m)\u001b[0m\u001b[1;33m\u001b[0m\u001b[1;33m\u001b[0m\u001b[0m\n\u001b[0m",
      "\u001b[1;31mNameError\u001b[0m: name 'feature_importances_' is not defined"
     ]
    }
   ],
   "source": [
    "pd.Series(sel.estimator_, feature_importances_.ravel()).hist()"
   ]
  },
  {
   "cell_type": "code",
   "execution_count": 143,
   "metadata": {},
   "outputs": [
    {
     "name": "stdout",
     "output_type": "stream",
     "text": [
      "age_group_18 - 34 Years\n",
      "age_group_65+ Years\n",
      "health_worker_No\n",
      "health_worker_Yes\n",
      "doctor_recc_h1n1_No\n",
      "doctor_recc_h1n1_Yes\n",
      "doctor_recc_seasonal_No\n",
      "doctor_recc_seasonal_Yes\n",
      "household_children\n",
      "h1n1_concern\n",
      "h1n1_knowledge\n",
      "opinion_h1n1_risk\n",
      "opinion_h1n1_vacc_effective\n",
      "opinion_h1n1_sick_from_vacc\n",
      "opinion_seas_vacc_effective\n",
      "opinion_seas_risk\n",
      "opinion_seas_sick_from_vacc\n"
     ]
    }
   ],
   "source": [
    "for x in selected_feat:\n",
    "    print(x)"
   ]
  },
  {
   "cell_type": "code",
   "execution_count": null,
   "metadata": {},
   "outputs": [],
   "source": []
  }
 ],
 "metadata": {
  "kernelspec": {
   "display_name": "Python 3",
   "language": "python",
   "name": "python3"
  },
  "language_info": {
   "codemirror_mode": {
    "name": "ipython",
    "version": 3
   },
   "file_extension": ".py",
   "mimetype": "text/x-python",
   "name": "python",
   "nbconvert_exporter": "python",
   "pygments_lexer": "ipython3",
   "version": "3.8.3"
  }
 },
 "nbformat": 4,
 "nbformat_minor": 4
}
