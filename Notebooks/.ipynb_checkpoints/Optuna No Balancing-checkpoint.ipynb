{
 "cells": [
  {
   "cell_type": "code",
   "execution_count": 43,
   "metadata": {},
   "outputs": [],
   "source": [
    "import pandas as pd\n",
    "import numpy as np\n",
    "import tensorflow as tf\n",
    "from datetime import datetime\n",
    "import matplotlib.pyplot as plt\n",
    "import seaborn as sns\n",
    "from sklearn.pipeline import Pipeline\n",
    "from sklearn.preprocessing import StandardScaler, MinMaxScaler, OneHotEncoder\n",
    "from sklearn.model_selection import train_test_split\n",
    "from sklearn.impute import SimpleImputer\n",
    "from sklearn.compose import ColumnTransformer\n",
    "from sklearn.metrics import roc_auc_score\n",
    "from sklearn.model_selection import RandomizedSearchCV\n",
    "from sklearn.metrics import matthews_corrcoef\n",
    "from sklearn.ensemble import RandomForestRegressor, RandomForestClassifier\n",
    "from sklearn.metrics import r2_score\n",
    "import scipy.stats as stats\n",
    "from tensorflow import keras\n",
    "from keras.callbacks import ModelCheckpoint\n",
    "from keras.models import load_model\n",
    "from datetime import datetime\n",
    "from category_encoders import OrdinalEncoder, TargetEncoder\n",
    "from catboost import CatBoostClassifier, CatBoostRegressor\n",
    "from mlxtend.feature_selection import SequentialFeatureSelector as SFS\n",
    "from mlxtend.plotting import plot_sequential_feature_selection as plot_sfs\n",
    "\n",
    "import warnings\n",
    "warnings.filterwarnings(\"ignore\")"
   ]
  },
  {
   "cell_type": "code",
   "execution_count": 44,
   "metadata": {},
   "outputs": [],
   "source": [
    "#Functions\n",
    "\n",
    "def evaluate(model, X_test, y_test):\n",
    "    predictions = model.predict(X_test)\n",
    "    errors = abs(predictions - y_test)\n",
    "    mape = 100 * np.mean(errors / y_test)\n",
    "    accuracy = 100 - mape\n",
    "    roc = roc_auc_score(y_test, predictions)\n",
    "    print('Model Performance')\n",
    "    print('Average Error: {:0.4f} degrees'.format(np.mean(errors)))\n",
    "    print('Accuracy = {:0.2f}%'.format(accuracy))\n",
    "    print(f'AUC = {roc}')\n",
    "    return accuracy"
   ]
  },
  {
   "cell_type": "code",
   "execution_count": 45,
   "metadata": {},
   "outputs": [],
   "source": [
    "train = pd.read_csv('../Data/training_set_features.csv', index_col='respondent_id')\n",
    "test = pd.read_csv('../Data/test_set_features.csv', index_col ='respondent_id')\n",
    "labels = pd.read_csv('../Data/training_set_labels.csv', index_col='respondent_id')"
   ]
  },
  {
   "cell_type": "code",
   "execution_count": 46,
   "metadata": {},
   "outputs": [],
   "source": [
    "train.loc[(train['age_group'] == '65+ Years') & (train['employment_status'].isnull()), 'employment_status'] = 'Not in Labor Force'"
   ]
  },
  {
   "cell_type": "code",
   "execution_count": 47,
   "metadata": {},
   "outputs": [],
   "source": [
    "num_cols = list(train.select_dtypes('number').columns)\n",
    "\n",
    "cat_cols = [\n",
    "    'race',\n",
    "    'sex',\n",
    "    'marital_status',\n",
    "    'rent_or_own',\n",
    "    'hhs_geo_region',\n",
    "    'census_msa',\n",
    "    'employment_industry',\n",
    "    'employment_occupation'\n",
    "]\n",
    "\n",
    "ord_cols = [\n",
    "    'age_group',\n",
    "    'education',\n",
    "    'income_poverty',\n",
    "    'employment_status'\n",
    "]\n",
    "\n",
    "\n",
    "\n",
    "\n",
    "#Impute Train\n",
    "for col in num_cols:\n",
    "    train[col] = train[col].fillna(value=-1)\n",
    "    test[col] = test[col].fillna(value=-1)\n",
    "\n",
    "for col in (cat_cols + ord_cols):\n",
    "    train[col] = train[col].fillna(value='None')\n",
    "    test[col] = test[col].fillna(value='None')\n",
    "test_labels = labels.copy()    "
   ]
  },
  {
   "cell_type": "code",
   "execution_count": 48,
   "metadata": {},
   "outputs": [],
   "source": [
    "train['age_group'] = train['age_group'].map({\n",
    "    '18 - 34 Years': 1,\n",
    "    '35 - 44 Years': 2,\n",
    "    '45 - 54 Years': 3,\n",
    "    '55 - 64 Years': 4,\n",
    "    '65+ Years': 5\n",
    "})\n",
    "\n",
    "train['education'] = train['education'].map({\n",
    "    '< 12 Years': 1,\n",
    "    '12 Years': 2,\n",
    "    'Some College': 3,\n",
    "    'College Graduate': 4,\n",
    "    'None': -1\n",
    "})\n",
    "\n",
    "train['income_poverty'] = train['income_poverty'].map({\n",
    "    'None': -1,\n",
    "    'Below Poverty': 1,\n",
    "    '<= $75,000, Above Poverty': 2,\n",
    "    '> $75,000': 3\n",
    "})\n",
    "\n",
    "train['employment_status'] = train['employment_status'].map({\n",
    "    'None': -1,\n",
    "    'Unemployed': 1,\n",
    "    'Employed': 2,\n",
    "    'Not in Labor Force': 3\n",
    "})\n",
    "\n",
    "\n",
    "\n",
    "\n",
    "test['education'] = test['education'].map({\n",
    "    '< 12 Years': 1,\n",
    "    '12 Years': 2,\n",
    "    'Some College': 3,\n",
    "    'College Graduate': 4,\n",
    "    'None': -1\n",
    "})\n",
    "\n",
    "test['income_poverty'] = test['income_poverty'].map({\n",
    "    'None': -1,\n",
    "    'Below Poverty': 1,\n",
    "    '<= $75,000, Above Poverty': 2,\n",
    "    '> $75,000': 3\n",
    "})\n",
    "\n",
    "test['employment_status'] = test['employment_status'].map({\n",
    "    'None': -1,\n",
    "    'Unemployed': 1,\n",
    "    'Employed': 2,\n",
    "    'Not in Labor Force': 3\n",
    "})"
   ]
  },
  {
   "cell_type": "code",
   "execution_count": 49,
   "metadata": {},
   "outputs": [
    {
     "name": "stdout",
     "output_type": "stream",
     "text": [
      "age_group [4 2 1 5 3]\n",
      "education [ 1  2  4  3 -1]\n",
      "income_poverty [ 1  2  3 -1]\n",
      "employment_status [ 3  2  1 -1]\n"
     ]
    }
   ],
   "source": [
    "for x in train[ord_cols].columns:\n",
    "    print(x, train[x].unique())"
   ]
  },
  {
   "cell_type": "code",
   "execution_count": 50,
   "metadata": {},
   "outputs": [],
   "source": [
    "all_cols = train.columns\n",
    "\n",
    "train_test = train.copy()"
   ]
  },
  {
   "cell_type": "code",
   "execution_count": 51,
   "metadata": {},
   "outputs": [],
   "source": [
    "h1n1_labels = labels[['h1n1_vaccine']]\n",
    "seas_labels = labels[['seasonal_vaccine']]"
   ]
  },
  {
   "cell_type": "markdown",
   "metadata": {},
   "source": [
    "# Transformation"
   ]
  },
  {
   "cell_type": "code",
   "execution_count": 52,
   "metadata": {},
   "outputs": [],
   "source": [
    "cat_cols = train.select_dtypes('object').columns"
   ]
  },
  {
   "cell_type": "code",
   "execution_count": null,
   "metadata": {},
   "outputs": [],
   "source": []
  },
  {
   "cell_type": "code",
   "execution_count": 53,
   "metadata": {},
   "outputs": [],
   "source": [
    "h1n1_train = train.copy()\n",
    "seas_train = train.copy()\n",
    "\n",
    "h1n1_scaler = StandardScaler()\n",
    "h1n1_train[num_cols] = h1n1_scaler.fit_transform(h1n1_train[num_cols])\n",
    "\n",
    "seas_scaler = StandardScaler()\n",
    "seas_train[num_cols] = seas_scaler.fit_transform(seas_train[num_cols])\n",
    "\n",
    "h1n1_train_trans = h1n1_train\n",
    "seas_train_trans = seas_train"
   ]
  },
  {
   "cell_type": "code",
   "execution_count": 54,
   "metadata": {},
   "outputs": [],
   "source": [
    "categorical_features_indices = np.where(train.dtypes != float)[0]"
   ]
  },
  {
   "cell_type": "markdown",
   "metadata": {},
   "source": [
    "# H1N1"
   ]
  },
  {
   "cell_type": "markdown",
   "metadata": {},
   "source": [
    "## CatBoost and Optuna"
   ]
  },
  {
   "cell_type": "code",
   "execution_count": 15,
   "metadata": {},
   "outputs": [],
   "source": [
    "X = h1n1_train_trans\n",
    "y = h1n1_labels"
   ]
  },
  {
   "cell_type": "code",
   "execution_count": 16,
   "metadata": {},
   "outputs": [],
   "source": [
    "X_train, X_test, y_train, y_test = train_test_split(X, y, test_size=0.3, random_state=42, shuffle=True)"
   ]
  },
  {
   "cell_type": "code",
   "execution_count": 17,
   "metadata": {},
   "outputs": [],
   "source": [
    "from catboost import CatBoostClassifier\n",
    "from catboost import Pool, cv\n",
    "from sklearn.metrics import roc_curve, roc_auc_score\n",
    "import optuna"
   ]
  },
  {
   "cell_type": "code",
   "execution_count": 18,
   "metadata": {},
   "outputs": [],
   "source": [
    "train_dataset = Pool(data=X_train,\n",
    "                    label=y_train,\n",
    "                    cat_features=categorical_features_indices)"
   ]
  },
  {
   "cell_type": "code",
   "execution_count": 19,
   "metadata": {},
   "outputs": [],
   "source": [
    "def objective(trial):\n",
    "    param = {\n",
    "        'iterations':trial.suggest_categorical('iterations', [100,200,300,500,1000,1200,1500]),\n",
    "        'learning_rate':trial.suggest_float(\"learning_rate\", 0.001, 0.3),\n",
    "        'random_strength':trial.suggest_int(\"random_strength\", 1,10),\n",
    "        'bagging_temperature':trial.suggest_int(\"bagging_temperature\", 0,10),\n",
    "        'max_bin':trial.suggest_categorical('max_bin', [4,5,6,8,10,20,30]),\n",
    "        'grow_policy':trial.suggest_categorical('grow_policy', ['SymmetricTree', 'Depthwise', 'Lossguide']),\n",
    "        'min_data_in_leaf':trial.suggest_int(\"min_data_in_leaf\", 1,10),\n",
    "        'od_type' : \"Iter\",\n",
    "        'od_wait' : 100,\n",
    "        \"depth\": trial.suggest_int(\"max_depth\", 2,10),\n",
    "        \"l2_leaf_reg\": trial.suggest_loguniform(\"l2_leaf_reg\", 1e-8, 100),\n",
    "         'one_hot_max_size':trial.suggest_categorical('one_hot_max_size', [5,10,12,100,500,1024]),\n",
    "        'custom_metric' : ['AUC'],\n",
    "        \"loss_function\": \"Logloss\",\n",
    "        'auto_class_weights':trial.suggest_categorical('auto_class_weights', ['Balanced', 'SqrtBalanced']),\n",
    "        }\n",
    "\n",
    "    scores = cv(train_dataset,\n",
    "            param,\n",
    "            fold_count=5, \n",
    "            early_stopping_rounds=10,         \n",
    "            plot=False, verbose=False)\n",
    "\n",
    "    return scores['test-AUC-mean'].max()"
   ]
  },
  {
   "cell_type": "code",
   "execution_count": 20,
   "metadata": {
    "scrolled": true
   },
   "outputs": [
    {
     "name": "stderr",
     "output_type": "stream",
     "text": [
      "\u001b[32m[I 2021-07-11 13:24:33,511]\u001b[0m A new study created in memory with name: no-name-96a615ac-fd14-49a7-af2d-3a59ff76b6d8\u001b[0m\n"
     ]
    },
    {
     "name": "stdout",
     "output_type": "stream",
     "text": [
      "Stopped by overfitting detector  (10 iterations wait)\n"
     ]
    },
    {
     "name": "stderr",
     "output_type": "stream",
     "text": [
      "\u001b[32m[I 2021-07-11 13:24:42,047]\u001b[0m Trial 0 finished with value: 0.8613379814571687 and parameters: {'iterations': 200, 'learning_rate': 0.25998666758670563, 'random_strength': 7, 'bagging_temperature': 7, 'max_bin': 5, 'grow_policy': 'SymmetricTree', 'min_data_in_leaf': 7, 'max_depth': 3, 'l2_leaf_reg': 8.345387083873532e-06, 'one_hot_max_size': 12, 'auto_class_weights': 'SqrtBalanced'}. Best is trial 0 with value: 0.8613379814571687.\u001b[0m\n"
     ]
    },
    {
     "name": "stdout",
     "output_type": "stream",
     "text": [
      "Stopped by overfitting detector  (10 iterations wait)\n"
     ]
    },
    {
     "name": "stderr",
     "output_type": "stream",
     "text": [
      "\u001b[32m[I 2021-07-11 13:26:07,941]\u001b[0m Trial 1 finished with value: 0.8616010682604769 and parameters: {'iterations': 500, 'learning_rate': 0.2055856749271349, 'random_strength': 5, 'bagging_temperature': 1, 'max_bin': 6, 'grow_policy': 'Lossguide', 'min_data_in_leaf': 8, 'max_depth': 10, 'l2_leaf_reg': 8.8771488946556, 'one_hot_max_size': 10, 'auto_class_weights': 'Balanced'}. Best is trial 1 with value: 0.8616010682604769.\u001b[0m\n"
     ]
    },
    {
     "name": "stdout",
     "output_type": "stream",
     "text": [
      "Stopped by overfitting detector  (10 iterations wait)\n"
     ]
    },
    {
     "name": "stderr",
     "output_type": "stream",
     "text": [
      "\u001b[32m[I 2021-07-11 13:26:09,688]\u001b[0m Trial 2 finished with value: 0.8599772859245272 and parameters: {'iterations': 100, 'learning_rate': 0.29607919404355465, 'random_strength': 8, 'bagging_temperature': 2, 'max_bin': 5, 'grow_policy': 'Depthwise', 'min_data_in_leaf': 4, 'max_depth': 2, 'l2_leaf_reg': 1.2877252667142128e-05, 'one_hot_max_size': 100, 'auto_class_weights': 'SqrtBalanced'}. Best is trial 1 with value: 0.8616010682604769.\u001b[0m\n",
      "\u001b[32m[I 2021-07-11 13:26:15,908]\u001b[0m Trial 3 finished with value: 0.8531391057039699 and parameters: {'iterations': 200, 'learning_rate': 0.010397326520333542, 'random_strength': 7, 'bagging_temperature': 3, 'max_bin': 5, 'grow_policy': 'Lossguide', 'min_data_in_leaf': 9, 'max_depth': 7, 'l2_leaf_reg': 5.1832947024610565, 'one_hot_max_size': 1024, 'auto_class_weights': 'Balanced'}. Best is trial 1 with value: 0.8616010682604769.\u001b[0m\n"
     ]
    },
    {
     "name": "stdout",
     "output_type": "stream",
     "text": [
      "Stopped by overfitting detector  (10 iterations wait)\n"
     ]
    },
    {
     "name": "stderr",
     "output_type": "stream",
     "text": [
      "\u001b[32m[I 2021-07-11 13:26:22,480]\u001b[0m Trial 4 finished with value: 0.8649046690175034 and parameters: {'iterations': 500, 'learning_rate': 0.06741023533074834, 'random_strength': 2, 'bagging_temperature': 3, 'max_bin': 20, 'grow_policy': 'Depthwise', 'min_data_in_leaf': 3, 'max_depth': 2, 'l2_leaf_reg': 0.012463595329542002, 'one_hot_max_size': 100, 'auto_class_weights': 'SqrtBalanced'}. Best is trial 4 with value: 0.8649046690175034.\u001b[0m\n"
     ]
    },
    {
     "name": "stdout",
     "output_type": "stream",
     "text": [
      "Stopped by overfitting detector  (10 iterations wait)\n"
     ]
    },
    {
     "name": "stderr",
     "output_type": "stream",
     "text": [
      "\u001b[32m[I 2021-07-11 13:27:17,922]\u001b[0m Trial 5 finished with value: 0.8508120097255917 and parameters: {'iterations': 300, 'learning_rate': 0.1904253835175075, 'random_strength': 6, 'bagging_temperature': 0, 'max_bin': 4, 'grow_policy': 'Lossguide', 'min_data_in_leaf': 2, 'max_depth': 8, 'l2_leaf_reg': 7.36806524628614e-05, 'one_hot_max_size': 5, 'auto_class_weights': 'SqrtBalanced'}. Best is trial 4 with value: 0.8649046690175034.\u001b[0m\n"
     ]
    },
    {
     "name": "stdout",
     "output_type": "stream",
     "text": [
      "Stopped by overfitting detector  (10 iterations wait)\n"
     ]
    },
    {
     "name": "stderr",
     "output_type": "stream",
     "text": [
      "\u001b[32m[I 2021-07-11 13:27:20,895]\u001b[0m Trial 6 finished with value: 0.8456259750202835 and parameters: {'iterations': 1500, 'learning_rate': 0.1902973357247071, 'random_strength': 4, 'bagging_temperature': 3, 'max_bin': 5, 'grow_policy': 'SymmetricTree', 'min_data_in_leaf': 2, 'max_depth': 7, 'l2_leaf_reg': 1.123610628030388e-08, 'one_hot_max_size': 1024, 'auto_class_weights': 'SqrtBalanced'}. Best is trial 4 with value: 0.8649046690175034.\u001b[0m\n"
     ]
    },
    {
     "name": "stdout",
     "output_type": "stream",
     "text": [
      "Stopped by overfitting detector  (10 iterations wait)\n"
     ]
    },
    {
     "name": "stderr",
     "output_type": "stream",
     "text": [
      "\u001b[32m[I 2021-07-11 13:27:40,684]\u001b[0m Trial 7 finished with value: 0.8530349895310376 and parameters: {'iterations': 300, 'learning_rate': 0.0802955079368359, 'random_strength': 3, 'bagging_temperature': 10, 'max_bin': 5, 'grow_policy': 'Depthwise', 'min_data_in_leaf': 1, 'max_depth': 7, 'l2_leaf_reg': 5.903462299000416e-07, 'one_hot_max_size': 10, 'auto_class_weights': 'SqrtBalanced'}. Best is trial 4 with value: 0.8649046690175034.\u001b[0m\n",
      "\u001b[32m[I 2021-07-11 13:27:52,231]\u001b[0m Trial 8 finished with value: 0.8646756007861345 and parameters: {'iterations': 100, 'learning_rate': 0.1674835774750467, 'random_strength': 10, 'bagging_temperature': 7, 'max_bin': 8, 'grow_policy': 'SymmetricTree', 'min_data_in_leaf': 4, 'max_depth': 4, 'l2_leaf_reg': 1.2405422353160507, 'one_hot_max_size': 12, 'auto_class_weights': 'SqrtBalanced'}. Best is trial 4 with value: 0.8649046690175034.\u001b[0m\n",
      "\u001b[32m[I 2021-07-11 13:27:55,015]\u001b[0m Trial 9 finished with value: 0.8635829036032145 and parameters: {'iterations': 200, 'learning_rate': 0.14021380742160558, 'random_strength': 6, 'bagging_temperature': 3, 'max_bin': 8, 'grow_policy': 'SymmetricTree', 'min_data_in_leaf': 1, 'max_depth': 2, 'l2_leaf_reg': 0.00205847840690845, 'one_hot_max_size': 100, 'auto_class_weights': 'Balanced'}. Best is trial 4 with value: 0.8649046690175034.\u001b[0m\n",
      "\u001b[32m[I 2021-07-11 13:28:23,412]\u001b[0m Trial 10 finished with value: 0.8622304231848137 and parameters: {'iterations': 1200, 'learning_rate': 0.0025910756245724753, 'random_strength': 1, 'bagging_temperature': 6, 'max_bin': 20, 'grow_policy': 'Depthwise', 'min_data_in_leaf': 5, 'max_depth': 5, 'l2_leaf_reg': 0.034248888765990956, 'one_hot_max_size': 500, 'auto_class_weights': 'SqrtBalanced'}. Best is trial 4 with value: 0.8649046690175034.\u001b[0m\n",
      "\u001b[32m[I 2021-07-11 13:28:34,969]\u001b[0m Trial 11 finished with value: 0.858242188439808 and parameters: {'iterations': 100, 'learning_rate': 0.09268010420984156, 'random_strength': 10, 'bagging_temperature': 8, 'max_bin': 30, 'grow_policy': 'SymmetricTree', 'min_data_in_leaf': 4, 'max_depth': 4, 'l2_leaf_reg': 0.19672230769990914, 'one_hot_max_size': 12, 'auto_class_weights': 'SqrtBalanced'}. Best is trial 4 with value: 0.8649046690175034.\u001b[0m\n"
     ]
    },
    {
     "name": "stdout",
     "output_type": "stream",
     "text": [
      "Stopped by overfitting detector  (10 iterations wait)\n"
     ]
    },
    {
     "name": "stderr",
     "output_type": "stream",
     "text": [
      "\u001b[32m[I 2021-07-11 13:28:40,713]\u001b[0m Trial 12 finished with value: 0.8664048707906373 and parameters: {'iterations': 500, 'learning_rate': 0.07100026130069469, 'random_strength': 1, 'bagging_temperature': 5, 'max_bin': 8, 'grow_policy': 'Depthwise', 'min_data_in_leaf': 3, 'max_depth': 4, 'l2_leaf_reg': 92.81185245518641, 'one_hot_max_size': 100, 'auto_class_weights': 'SqrtBalanced'}. Best is trial 12 with value: 0.8664048707906373.\u001b[0m\n"
     ]
    },
    {
     "name": "stdout",
     "output_type": "stream",
     "text": [
      "Stopped by overfitting detector  (10 iterations wait)\n"
     ]
    },
    {
     "name": "stderr",
     "output_type": "stream",
     "text": [
      "\u001b[32m[I 2021-07-11 13:28:46,321]\u001b[0m Trial 13 finished with value: 0.8642659123937356 and parameters: {'iterations': 500, 'learning_rate': 0.055098221384655366, 'random_strength': 1, 'bagging_temperature': 5, 'max_bin': 10, 'grow_policy': 'Depthwise', 'min_data_in_leaf': 3, 'max_depth': 2, 'l2_leaf_reg': 0.008419368203139124, 'one_hot_max_size': 100, 'auto_class_weights': 'SqrtBalanced'}. Best is trial 12 with value: 0.8664048707906373.\u001b[0m\n"
     ]
    },
    {
     "name": "stdout",
     "output_type": "stream",
     "text": [
      "Stopped by overfitting detector  (10 iterations wait)\n"
     ]
    },
    {
     "name": "stderr",
     "output_type": "stream",
     "text": [
      "\u001b[32m[I 2021-07-11 13:28:54,736]\u001b[0m Trial 14 finished with value: 0.866643469545344 and parameters: {'iterations': 500, 'learning_rate': 0.04275243092238963, 'random_strength': 2, 'bagging_temperature': 4, 'max_bin': 20, 'grow_policy': 'Depthwise', 'min_data_in_leaf': 6, 'max_depth': 4, 'l2_leaf_reg': 50.71159518136317, 'one_hot_max_size': 100, 'auto_class_weights': 'SqrtBalanced'}. Best is trial 14 with value: 0.866643469545344.\u001b[0m\n"
     ]
    },
    {
     "name": "stdout",
     "output_type": "stream",
     "text": [
      "Stopped by overfitting detector  (10 iterations wait)\n"
     ]
    },
    {
     "name": "stderr",
     "output_type": "stream",
     "text": [
      "\u001b[32m[I 2021-07-11 13:29:05,554]\u001b[0m Trial 15 finished with value: 0.8680062415115206 and parameters: {'iterations': 1000, 'learning_rate': 0.03253139575383227, 'random_strength': 2, 'bagging_temperature': 5, 'max_bin': 8, 'grow_policy': 'Depthwise', 'min_data_in_leaf': 6, 'max_depth': 5, 'l2_leaf_reg': 54.675186499005726, 'one_hot_max_size': 100, 'auto_class_weights': 'SqrtBalanced'}. Best is trial 15 with value: 0.8680062415115206.\u001b[0m\n"
     ]
    },
    {
     "name": "stdout",
     "output_type": "stream",
     "text": [
      "Stopped by overfitting detector  (10 iterations wait)\n"
     ]
    },
    {
     "name": "stderr",
     "output_type": "stream",
     "text": [
      "\u001b[32m[I 2021-07-11 13:29:16,376]\u001b[0m Trial 16 finished with value: 0.8669686677961399 and parameters: {'iterations': 1000, 'learning_rate': 0.03401243718445137, 'random_strength': 3, 'bagging_temperature': 4, 'max_bin': 20, 'grow_policy': 'Depthwise', 'min_data_in_leaf': 6, 'max_depth': 5, 'l2_leaf_reg': 41.67913694121096, 'one_hot_max_size': 100, 'auto_class_weights': 'SqrtBalanced'}. Best is trial 15 with value: 0.8680062415115206.\u001b[0m\n"
     ]
    },
    {
     "name": "stdout",
     "output_type": "stream",
     "text": [
      "Stopped by overfitting detector  (10 iterations wait)\n"
     ]
    },
    {
     "name": "stderr",
     "output_type": "stream",
     "text": [
      "\u001b[32m[I 2021-07-11 13:29:39,572]\u001b[0m Trial 17 finished with value: 0.8654629164741895 and parameters: {'iterations': 1000, 'learning_rate': 0.1241493155869205, 'random_strength': 3, 'bagging_temperature': 9, 'max_bin': 10, 'grow_policy': 'Depthwise', 'min_data_in_leaf': 10, 'max_depth': 6, 'l2_leaf_reg': 63.96931835340502, 'one_hot_max_size': 5, 'auto_class_weights': 'Balanced'}. Best is trial 15 with value: 0.8680062415115206.\u001b[0m\n"
     ]
    },
    {
     "name": "stdout",
     "output_type": "stream",
     "text": [
      "Stopped by overfitting detector  (10 iterations wait)\n"
     ]
    },
    {
     "name": "stderr",
     "output_type": "stream",
     "text": [
      "\u001b[32m[I 2021-07-11 13:29:54,792]\u001b[0m Trial 18 finished with value: 0.8667247783397093 and parameters: {'iterations': 1000, 'learning_rate': 0.022577652128357318, 'random_strength': 4, 'bagging_temperature': 6, 'max_bin': 8, 'grow_policy': 'Depthwise', 'min_data_in_leaf': 6, 'max_depth': 6, 'l2_leaf_reg': 0.20046509421153233, 'one_hot_max_size': 500, 'auto_class_weights': 'SqrtBalanced'}. Best is trial 15 with value: 0.8680062415115206.\u001b[0m\n"
     ]
    },
    {
     "name": "stdout",
     "output_type": "stream",
     "text": [
      "Stopped by overfitting detector  (10 iterations wait)\n"
     ]
    },
    {
     "name": "stderr",
     "output_type": "stream",
     "text": [
      "\u001b[32m[I 2021-07-11 13:30:00,170]\u001b[0m Trial 19 finished with value: 0.8621714224078934 and parameters: {'iterations': 1000, 'learning_rate': 0.11175274157034121, 'random_strength': 3, 'bagging_temperature': 4, 'max_bin': 6, 'grow_policy': 'Depthwise', 'min_data_in_leaf': 7, 'max_depth': 9, 'l2_leaf_reg': 2.2356540871647566, 'one_hot_max_size': 100, 'auto_class_weights': 'SqrtBalanced'}. Best is trial 15 with value: 0.8680062415115206.\u001b[0m\n"
     ]
    },
    {
     "name": "stdout",
     "output_type": "stream",
     "text": [
      "Stopped by overfitting detector  (10 iterations wait)\n"
     ]
    },
    {
     "name": "stderr",
     "output_type": "stream",
     "text": [
      "\u001b[32m[I 2021-07-11 13:30:13,459]\u001b[0m Trial 20 finished with value: 0.8674095246960138 and parameters: {'iterations': 1000, 'learning_rate': 0.02999266555980393, 'random_strength': 2, 'bagging_temperature': 1, 'max_bin': 30, 'grow_policy': 'Depthwise', 'min_data_in_leaf': 8, 'max_depth': 5, 'l2_leaf_reg': 69.79787188842317, 'one_hot_max_size': 100, 'auto_class_weights': 'Balanced'}. Best is trial 15 with value: 0.8680062415115206.\u001b[0m\n"
     ]
    },
    {
     "name": "stdout",
     "output_type": "stream",
     "text": [
      "Stopped by overfitting detector  (10 iterations wait)\n"
     ]
    },
    {
     "name": "stderr",
     "output_type": "stream",
     "text": [
      "\u001b[32m[I 2021-07-11 13:30:25,106]\u001b[0m Trial 21 finished with value: 0.8671186903092624 and parameters: {'iterations': 1000, 'learning_rate': 0.025756025601560727, 'random_strength': 2, 'bagging_temperature': 0, 'max_bin': 30, 'grow_policy': 'Depthwise', 'min_data_in_leaf': 8, 'max_depth': 5, 'l2_leaf_reg': 25.326526211137597, 'one_hot_max_size': 100, 'auto_class_weights': 'Balanced'}. Best is trial 15 with value: 0.8680062415115206.\u001b[0m\n",
      "\u001b[32m[I 2021-07-11 13:30:49,008]\u001b[0m Trial 22 finished with value: 0.8561904406971663 and parameters: {'iterations': 1000, 'learning_rate': 0.0017924775491938924, 'random_strength': 2, 'bagging_temperature': 0, 'max_bin': 30, 'grow_policy': 'Depthwise', 'min_data_in_leaf': 9, 'max_depth': 5, 'l2_leaf_reg': 0.5861128880403995, 'one_hot_max_size': 100, 'auto_class_weights': 'Balanced'}. Best is trial 15 with value: 0.8680062415115206.\u001b[0m\n"
     ]
    },
    {
     "name": "stdout",
     "output_type": "stream",
     "text": [
      "Stopped by overfitting detector  (10 iterations wait)\n"
     ]
    },
    {
     "name": "stderr",
     "output_type": "stream",
     "text": [
      "\u001b[32m[I 2021-07-11 13:30:57,379]\u001b[0m Trial 23 finished with value: 0.8670137767404397 and parameters: {'iterations': 1000, 'learning_rate': 0.03600897350647722, 'random_strength': 1, 'bagging_temperature': 1, 'max_bin': 30, 'grow_policy': 'Depthwise', 'min_data_in_leaf': 8, 'max_depth': 5, 'l2_leaf_reg': 14.391900369296433, 'one_hot_max_size': 100, 'auto_class_weights': 'Balanced'}. Best is trial 15 with value: 0.8680062415115206.\u001b[0m\n"
     ]
    },
    {
     "name": "stdout",
     "output_type": "stream",
     "text": [
      "Stopped by overfitting detector  (10 iterations wait)\n"
     ]
    },
    {
     "name": "stderr",
     "output_type": "stream",
     "text": [
      "\u001b[32m[I 2021-07-11 13:31:03,033]\u001b[0m Trial 24 finished with value: 0.866544889309481 and parameters: {'iterations': 1000, 'learning_rate': 0.10434875222807022, 'random_strength': 4, 'bagging_temperature': 1, 'max_bin': 30, 'grow_policy': 'Depthwise', 'min_data_in_leaf': 10, 'max_depth': 6, 'l2_leaf_reg': 97.65779478183015, 'one_hot_max_size': 100, 'auto_class_weights': 'Balanced'}. Best is trial 15 with value: 0.8680062415115206.\u001b[0m\n",
      "\u001b[32m[I 2021-07-11 13:31:24,011]\u001b[0m Trial 25 finished with value: 0.8505422245690953 and parameters: {'iterations': 1200, 'learning_rate': 0.0017950932640981541, 'random_strength': 2, 'bagging_temperature': 0, 'max_bin': 30, 'grow_policy': 'Depthwise', 'min_data_in_leaf': 8, 'max_depth': 3, 'l2_leaf_reg': 12.775413247071372, 'one_hot_max_size': 100, 'auto_class_weights': 'Balanced'}. Best is trial 15 with value: 0.8680062415115206.\u001b[0m\n"
     ]
    },
    {
     "name": "stdout",
     "output_type": "stream",
     "text": [
      "Stopped by overfitting detector  (10 iterations wait)\n"
     ]
    },
    {
     "name": "stderr",
     "output_type": "stream",
     "text": [
      "\u001b[32m[I 2021-07-11 13:32:28,351]\u001b[0m Trial 26 finished with value: 0.8649393334142719 and parameters: {'iterations': 1000, 'learning_rate': 0.05022847441565567, 'random_strength': 2, 'bagging_temperature': 2, 'max_bin': 4, 'grow_policy': 'Lossguide', 'min_data_in_leaf': 7, 'max_depth': 3, 'l2_leaf_reg': 0.10557648373909069, 'one_hot_max_size': 10, 'auto_class_weights': 'Balanced'}. Best is trial 15 with value: 0.8680062415115206.\u001b[0m\n"
     ]
    },
    {
     "name": "stdout",
     "output_type": "stream",
     "text": [
      "Stopped by overfitting detector  (10 iterations wait)\n"
     ]
    },
    {
     "name": "stderr",
     "output_type": "stream",
     "text": [
      "\u001b[32m[I 2021-07-11 13:32:44,056]\u001b[0m Trial 27 finished with value: 0.8670468479548408 and parameters: {'iterations': 1500, 'learning_rate': 0.020699763730553145, 'random_strength': 5, 'bagging_temperature': 2, 'max_bin': 30, 'grow_policy': 'Depthwise', 'min_data_in_leaf': 9, 'max_depth': 5, 'l2_leaf_reg': 1.425921969726099, 'one_hot_max_size': 500, 'auto_class_weights': 'Balanced'}. Best is trial 15 with value: 0.8680062415115206.\u001b[0m\n"
     ]
    },
    {
     "name": "stdout",
     "output_type": "stream",
     "text": [
      "Stopped by overfitting detector  (10 iterations wait)\n"
     ]
    },
    {
     "name": "stderr",
     "output_type": "stream",
     "text": [
      "\u001b[32m[I 2021-07-11 13:32:51,605]\u001b[0m Trial 28 finished with value: 0.8668235211494839 and parameters: {'iterations': 1000, 'learning_rate': 0.08070500141142124, 'random_strength': 1, 'bagging_temperature': 1, 'max_bin': 30, 'grow_policy': 'Depthwise', 'min_data_in_leaf': 7, 'max_depth': 7, 'l2_leaf_reg': 92.34326004228451, 'one_hot_max_size': 1024, 'auto_class_weights': 'Balanced'}. Best is trial 15 with value: 0.8680062415115206.\u001b[0m\n"
     ]
    },
    {
     "name": "stdout",
     "output_type": "stream",
     "text": [
      "Stopped by overfitting detector  (10 iterations wait)\n"
     ]
    },
    {
     "name": "stderr",
     "output_type": "stream",
     "text": [
      "\u001b[32m[I 2021-07-11 13:33:00,346]\u001b[0m Trial 29 finished with value: 0.8506601333612493 and parameters: {'iterations': 1000, 'learning_rate': 0.23114946353073101, 'random_strength': 4, 'bagging_temperature': 6, 'max_bin': 8, 'grow_policy': 'Depthwise', 'min_data_in_leaf': 5, 'max_depth': 6, 'l2_leaf_reg': 0.00018480699850754144, 'one_hot_max_size': 5, 'auto_class_weights': 'Balanced'}. Best is trial 15 with value: 0.8680062415115206.\u001b[0m\n"
     ]
    },
    {
     "name": "stdout",
     "output_type": "stream",
     "text": [
      "Stopped by overfitting detector  (10 iterations wait)\n"
     ]
    },
    {
     "name": "stderr",
     "output_type": "stream",
     "text": [
      "\u001b[32m[I 2021-07-11 13:33:23,970]\u001b[0m Trial 30 finished with value: 0.8640144572886529 and parameters: {'iterations': 1000, 'learning_rate': 0.061641129025162375, 'random_strength': 3, 'bagging_temperature': 7, 'max_bin': 30, 'grow_policy': 'Depthwise', 'min_data_in_leaf': 8, 'max_depth': 4, 'l2_leaf_reg': 2.5098530619816248e-08, 'one_hot_max_size': 12, 'auto_class_weights': 'Balanced'}. Best is trial 15 with value: 0.8680062415115206.\u001b[0m\n"
     ]
    },
    {
     "name": "stdout",
     "output_type": "stream",
     "text": [
      "Stopped by overfitting detector  (10 iterations wait)\n"
     ]
    },
    {
     "name": "stderr",
     "output_type": "stream",
     "text": [
      "\u001b[32m[I 2021-07-11 13:33:40,072]\u001b[0m Trial 31 finished with value: 0.8677280077991905 and parameters: {'iterations': 1500, 'learning_rate': 0.019294030629680707, 'random_strength': 5, 'bagging_temperature': 2, 'max_bin': 30, 'grow_policy': 'Depthwise', 'min_data_in_leaf': 9, 'max_depth': 5, 'l2_leaf_reg': 2.6071411184968496, 'one_hot_max_size': 500, 'auto_class_weights': 'Balanced'}. Best is trial 15 with value: 0.8680062415115206.\u001b[0m\n"
     ]
    },
    {
     "name": "stdout",
     "output_type": "stream",
     "text": [
      "Stopped by overfitting detector  (10 iterations wait)\n"
     ]
    },
    {
     "name": "stderr",
     "output_type": "stream",
     "text": [
      "\u001b[32m[I 2021-07-11 13:33:54,014]\u001b[0m Trial 32 finished with value: 0.8669380915630776 and parameters: {'iterations': 1500, 'learning_rate': 0.02533581048380992, 'random_strength': 8, 'bagging_temperature': 0, 'max_bin': 30, 'grow_policy': 'Depthwise', 'min_data_in_leaf': 9, 'max_depth': 5, 'l2_leaf_reg': 14.236413319599336, 'one_hot_max_size': 500, 'auto_class_weights': 'Balanced'}. Best is trial 15 with value: 0.8680062415115206.\u001b[0m\n"
     ]
    },
    {
     "name": "stdout",
     "output_type": "stream",
     "text": [
      "Stopped by overfitting detector  (10 iterations wait)\n"
     ]
    },
    {
     "name": "stderr",
     "output_type": "stream",
     "text": [
      "\u001b[32m[I 2021-07-11 13:34:02,543]\u001b[0m Trial 33 finished with value: 0.8654889750302914 and parameters: {'iterations': 1500, 'learning_rate': 0.0448219046643782, 'random_strength': 2, 'bagging_temperature': 2, 'max_bin': 6, 'grow_policy': 'Depthwise', 'min_data_in_leaf': 10, 'max_depth': 3, 'l2_leaf_reg': 4.6952756130371816, 'one_hot_max_size': 500, 'auto_class_weights': 'Balanced'}. Best is trial 15 with value: 0.8680062415115206.\u001b[0m\n",
      "\u001b[32m[I 2021-07-11 13:34:53,190]\u001b[0m Trial 34 finished with value: 0.8531896577172281 and parameters: {'iterations': 1500, 'learning_rate': 0.0011112671000117064, 'random_strength': 5, 'bagging_temperature': 1, 'max_bin': 30, 'grow_policy': 'Lossguide', 'min_data_in_leaf': 8, 'max_depth': 6, 'l2_leaf_reg': 19.058597853473408, 'one_hot_max_size': 500, 'auto_class_weights': 'Balanced'}. Best is trial 15 with value: 0.8680062415115206.\u001b[0m\n",
      "\u001b[32m[I 2021-07-11 13:34:58,354]\u001b[0m Trial 35 finished with value: 0.8572708034843751 and parameters: {'iterations': 200, 'learning_rate': 0.019328266421953247, 'random_strength': 7, 'bagging_temperature': 2, 'max_bin': 30, 'grow_policy': 'Depthwise', 'min_data_in_leaf': 9, 'max_depth': 5, 'l2_leaf_reg': 4.234836016445597, 'one_hot_max_size': 100, 'auto_class_weights': 'Balanced'}. Best is trial 15 with value: 0.8680062415115206.\u001b[0m\n"
     ]
    },
    {
     "name": "stdout",
     "output_type": "stream",
     "text": [
      "Stopped by overfitting detector  (10 iterations wait)\n"
     ]
    },
    {
     "name": "stderr",
     "output_type": "stream",
     "text": [
      "\u001b[32m[I 2021-07-11 13:35:34,000]\u001b[0m Trial 36 finished with value: 0.8646130406544899 and parameters: {'iterations': 300, 'learning_rate': 0.05815742811377898, 'random_strength': 9, 'bagging_temperature': 4, 'max_bin': 4, 'grow_policy': 'Depthwise', 'min_data_in_leaf': 8, 'max_depth': 4, 'l2_leaf_reg': 0.31944043523283183, 'one_hot_max_size': 10, 'auto_class_weights': 'Balanced'}. Best is trial 15 with value: 0.8680062415115206.\u001b[0m\n"
     ]
    },
    {
     "name": "stdout",
     "output_type": "stream",
     "text": [
      "Stopped by overfitting detector  (10 iterations wait)\n"
     ]
    },
    {
     "name": "stderr",
     "output_type": "stream",
     "text": [
      "\u001b[32m[I 2021-07-11 13:36:01,176]\u001b[0m Trial 37 finished with value: 0.8665430172396539 and parameters: {'iterations': 1500, 'learning_rate': 0.015478202597615296, 'random_strength': 5, 'bagging_temperature': 3, 'max_bin': 30, 'grow_policy': 'Lossguide', 'min_data_in_leaf': 7, 'max_depth': 8, 'l2_leaf_reg': 0.0412301186460956, 'one_hot_max_size': 100, 'auto_class_weights': 'Balanced'}. Best is trial 15 with value: 0.8680062415115206.\u001b[0m\n"
     ]
    },
    {
     "name": "stdout",
     "output_type": "stream",
     "text": [
      "Stopped by overfitting detector  (10 iterations wait)\n"
     ]
    },
    {
     "name": "stderr",
     "output_type": "stream",
     "text": [
      "\u001b[32m[I 2021-07-11 13:36:04,324]\u001b[0m Trial 38 finished with value: 0.8631279429576753 and parameters: {'iterations': 1000, 'learning_rate': 0.26174878127880263, 'random_strength': 6, 'bagging_temperature': 0, 'max_bin': 10, 'grow_policy': 'Depthwise', 'min_data_in_leaf': 7, 'max_depth': 5, 'l2_leaf_reg': 23.084544705500843, 'one_hot_max_size': 1024, 'auto_class_weights': 'Balanced'}. Best is trial 15 with value: 0.8680062415115206.\u001b[0m\n"
     ]
    },
    {
     "name": "stdout",
     "output_type": "stream",
     "text": [
      "Stopped by overfitting detector  (10 iterations wait)\n"
     ]
    },
    {
     "name": "stderr",
     "output_type": "stream",
     "text": [
      "\u001b[32m[I 2021-07-11 13:36:10,700]\u001b[0m Trial 39 finished with value: 0.8657004100242846 and parameters: {'iterations': 1200, 'learning_rate': 0.07994733301025897, 'random_strength': 3, 'bagging_temperature': 5, 'max_bin': 8, 'grow_policy': 'SymmetricTree', 'min_data_in_leaf': 9, 'max_depth': 3, 'l2_leaf_reg': 0.7956232928447728, 'one_hot_max_size': 100, 'auto_class_weights': 'Balanced'}. Best is trial 15 with value: 0.8680062415115206.\u001b[0m\n",
      "\u001b[32m[I 2021-07-11 13:36:14,633]\u001b[0m Trial 40 finished with value: 0.8612479375042614 and parameters: {'iterations': 100, 'learning_rate': 0.0294585198589432, 'random_strength': 2, 'bagging_temperature': 2, 'max_bin': 5, 'grow_policy': 'Depthwise', 'min_data_in_leaf': 10, 'max_depth': 7, 'l2_leaf_reg': 4.290933072339318, 'one_hot_max_size': 500, 'auto_class_weights': 'Balanced'}. Best is trial 15 with value: 0.8680062415115206.\u001b[0m\n"
     ]
    },
    {
     "name": "stdout",
     "output_type": "stream",
     "text": [
      "Stopped by overfitting detector  (10 iterations wait)\n"
     ]
    },
    {
     "name": "stderr",
     "output_type": "stream",
     "text": [
      "\u001b[32m[I 2021-07-11 13:36:33,401]\u001b[0m Trial 41 finished with value: 0.8673158093804932 and parameters: {'iterations': 1500, 'learning_rate': 0.018979146867925036, 'random_strength': 6, 'bagging_temperature': 1, 'max_bin': 30, 'grow_policy': 'Depthwise', 'min_data_in_leaf': 9, 'max_depth': 5, 'l2_leaf_reg': 1.1457041510949098, 'one_hot_max_size': 500, 'auto_class_weights': 'Balanced'}. Best is trial 15 with value: 0.8680062415115206.\u001b[0m\n",
      "\u001b[32m[I 2021-07-11 13:37:14,609]\u001b[0m Trial 42 finished with value: 0.8661493494893968 and parameters: {'iterations': 1500, 'learning_rate': 0.006635233216362136, 'random_strength': 7, 'bagging_temperature': 1, 'max_bin': 30, 'grow_policy': 'Depthwise', 'min_data_in_leaf': 8, 'max_depth': 6, 'l2_leaf_reg': 5.673824836435637, 'one_hot_max_size': 500, 'auto_class_weights': 'Balanced'}. Best is trial 15 with value: 0.8680062415115206.\u001b[0m\n"
     ]
    },
    {
     "name": "stdout",
     "output_type": "stream",
     "text": [
      "Stopped by overfitting detector  (10 iterations wait)\n"
     ]
    },
    {
     "name": "stderr",
     "output_type": "stream",
     "text": [
      "\u001b[32m[I 2021-07-11 13:37:23,378]\u001b[0m Trial 43 finished with value: 0.866114810135968 and parameters: {'iterations': 1500, 'learning_rate': 0.04092286900930368, 'random_strength': 7, 'bagging_temperature': 0, 'max_bin': 30, 'grow_policy': 'Depthwise', 'min_data_in_leaf': 9, 'max_depth': 4, 'l2_leaf_reg': 1.7791676818099387, 'one_hot_max_size': 500, 'auto_class_weights': 'Balanced'}. Best is trial 15 with value: 0.8680062415115206.\u001b[0m\n"
     ]
    },
    {
     "name": "stdout",
     "output_type": "stream",
     "text": [
      "Stopped by overfitting detector  (10 iterations wait)\n"
     ]
    },
    {
     "name": "stderr",
     "output_type": "stream",
     "text": [
      "\u001b[32m[I 2021-07-11 13:37:53,135]\u001b[0m Trial 44 finished with value: 0.8680821096952244 and parameters: {'iterations': 1500, 'learning_rate': 0.012133710404649046, 'random_strength': 6, 'bagging_temperature': 3, 'max_bin': 30, 'grow_policy': 'Depthwise', 'min_data_in_leaf': 10, 'max_depth': 5, 'l2_leaf_reg': 38.36261301443905, 'one_hot_max_size': 500, 'auto_class_weights': 'Balanced'}. Best is trial 44 with value: 0.8680821096952244.\u001b[0m\n",
      "\u001b[32m[I 2021-07-11 13:38:22,696]\u001b[0m Trial 45 finished with value: 0.8503520012658168 and parameters: {'iterations': 1500, 'learning_rate': 0.0012289797325456264, 'random_strength': 6, 'bagging_temperature': 3, 'max_bin': 8, 'grow_policy': 'Depthwise', 'min_data_in_leaf': 10, 'max_depth': 4, 'l2_leaf_reg': 2.733328358155553e-06, 'one_hot_max_size': 500, 'auto_class_weights': 'Balanced'}. Best is trial 44 with value: 0.8680821096952244.\u001b[0m\n"
     ]
    },
    {
     "name": "stdout",
     "output_type": "stream",
     "text": [
      "Stopped by overfitting detector  (10 iterations wait)\n"
     ]
    },
    {
     "name": "stderr",
     "output_type": "stream",
     "text": [
      "\u001b[32m[I 2021-07-11 13:38:28,258]\u001b[0m Trial 46 finished with value: 0.8635165887402035 and parameters: {'iterations': 1500, 'learning_rate': 0.06715816228064843, 'random_strength': 8, 'bagging_temperature': 3, 'max_bin': 6, 'grow_policy': 'SymmetricTree', 'min_data_in_leaf': 10, 'max_depth': 5, 'l2_leaf_reg': 0.002809011916250098, 'one_hot_max_size': 500, 'auto_class_weights': 'Balanced'}. Best is trial 44 with value: 0.8680821096952244.\u001b[0m\n"
     ]
    },
    {
     "name": "stdout",
     "output_type": "stream",
     "text": [
      "Stopped by overfitting detector  (10 iterations wait)\n"
     ]
    },
    {
     "name": "stderr",
     "output_type": "stream",
     "text": [
      "\u001b[32m[I 2021-07-11 13:39:10,285]\u001b[0m Trial 47 finished with value: 0.8667246299106697 and parameters: {'iterations': 1500, 'learning_rate': 0.009957700464698975, 'random_strength': 6, 'bagging_temperature': 2, 'max_bin': 30, 'grow_policy': 'Depthwise', 'min_data_in_leaf': 5, 'max_depth': 7, 'l2_leaf_reg': 0.055286477326415194, 'one_hot_max_size': 500, 'auto_class_weights': 'SqrtBalanced'}. Best is trial 44 with value: 0.8680821096952244.\u001b[0m\n"
     ]
    },
    {
     "name": "stdout",
     "output_type": "stream",
     "text": [
      "Stopped by overfitting detector  (10 iterations wait)\n"
     ]
    },
    {
     "name": "stderr",
     "output_type": "stream",
     "text": [
      "\u001b[32m[I 2021-07-11 13:39:16,194]\u001b[0m Trial 48 finished with value: 0.8621342458011242 and parameters: {'iterations': 300, 'learning_rate': 0.09046490751687923, 'random_strength': 8, 'bagging_temperature': 1, 'max_bin': 5, 'grow_policy': 'Lossguide', 'min_data_in_leaf': 9, 'max_depth': 6, 'l2_leaf_reg': 0.011278301703882734, 'one_hot_max_size': 500, 'auto_class_weights': 'Balanced'}. Best is trial 44 with value: 0.8680821096952244.\u001b[0m\n",
      "\u001b[32m[I 2021-07-11 13:39:40,956]\u001b[0m Trial 49 finished with value: 0.8627374986564454 and parameters: {'iterations': 200, 'learning_rate': 0.05039326877353717, 'random_strength': 5, 'bagging_temperature': 4, 'max_bin': 8, 'grow_policy': 'Depthwise', 'min_data_in_leaf': 9, 'max_depth': 4, 'l2_leaf_reg': 78.7464751518377, 'one_hot_max_size': 12, 'auto_class_weights': 'SqrtBalanced'}. Best is trial 44 with value: 0.8680821096952244.\u001b[0m\n"
     ]
    },
    {
     "name": "stdout",
     "output_type": "stream",
     "text": [
      "Stopped by overfitting detector  (10 iterations wait)\n"
     ]
    },
    {
     "name": "stderr",
     "output_type": "stream",
     "text": [
      "\u001b[32m[I 2021-07-11 13:39:43,702]\u001b[0m Trial 50 finished with value: 0.8645452966463555 and parameters: {'iterations': 1500, 'learning_rate': 0.15612200144131594, 'random_strength': 4, 'bagging_temperature': 3, 'max_bin': 4, 'grow_policy': 'Depthwise', 'min_data_in_leaf': 6, 'max_depth': 5, 'l2_leaf_reg': 0.5508236225964588, 'one_hot_max_size': 500, 'auto_class_weights': 'Balanced'}. Best is trial 44 with value: 0.8680821096952244.\u001b[0m\n"
     ]
    },
    {
     "name": "stdout",
     "output_type": "stream",
     "text": [
      "Stopped by overfitting detector  (10 iterations wait)\n"
     ]
    },
    {
     "name": "stderr",
     "output_type": "stream",
     "text": [
      "\u001b[32m[I 2021-07-11 13:40:59,156]\u001b[0m Trial 51 finished with value: 0.8668443959320061 and parameters: {'iterations': 1500, 'learning_rate': 0.032538627087523225, 'random_strength': 7, 'bagging_temperature': 1, 'max_bin': 30, 'grow_policy': 'Depthwise', 'min_data_in_leaf': 8, 'max_depth': 5, 'l2_leaf_reg': 37.92207504967977, 'one_hot_max_size': 5, 'auto_class_weights': 'Balanced'}. Best is trial 44 with value: 0.8680821096952244.\u001b[0m\n"
     ]
    },
    {
     "name": "stdout",
     "output_type": "stream",
     "text": [
      "Stopped by overfitting detector  (10 iterations wait)\n"
     ]
    },
    {
     "name": "stderr",
     "output_type": "stream",
     "text": [
      "\u001b[32m[I 2021-07-11 13:41:20,405]\u001b[0m Trial 52 finished with value: 0.8679069558216865 and parameters: {'iterations': 1000, 'learning_rate': 0.014859772258637381, 'random_strength': 6, 'bagging_temperature': 2, 'max_bin': 30, 'grow_policy': 'Depthwise', 'min_data_in_leaf': 8, 'max_depth': 5, 'l2_leaf_reg': 29.370043098042153, 'one_hot_max_size': 100, 'auto_class_weights': 'Balanced'}. Best is trial 44 with value: 0.8680821096952244.\u001b[0m\n",
      "\u001b[32m[I 2021-07-11 13:41:23,556]\u001b[0m Trial 53 finished with value: 0.8586254017340451 and parameters: {'iterations': 100, 'learning_rate': 0.040051275364230185, 'random_strength': 6, 'bagging_temperature': 2, 'max_bin': 30, 'grow_policy': 'Depthwise', 'min_data_in_leaf': 7, 'max_depth': 6, 'l2_leaf_reg': 5.967261713805976, 'one_hot_max_size': 100, 'auto_class_weights': 'Balanced'}. Best is trial 44 with value: 0.8680821096952244.\u001b[0m\n",
      "\u001b[32m[I 2021-07-11 13:43:22,471]\u001b[0m Trial 54 finished with value: 0.865669745294533 and parameters: {'iterations': 1000, 'learning_rate': 0.014788715294278162, 'random_strength': 5, 'bagging_temperature': 5, 'max_bin': 20, 'grow_policy': 'Depthwise', 'min_data_in_leaf': 10, 'max_depth': 4, 'l2_leaf_reg': 91.42528507908523, 'one_hot_max_size': 10, 'auto_class_weights': 'SqrtBalanced'}. Best is trial 44 with value: 0.8680821096952244.\u001b[0m\n",
      "\u001b[32m[I 2021-07-11 13:43:33,002]\u001b[0m Trial 55 finished with value: 0.8616036872942063 and parameters: {'iterations': 500, 'learning_rate': 0.013304911000298871, 'random_strength': 6, 'bagging_temperature': 4, 'max_bin': 30, 'grow_policy': 'Depthwise', 'min_data_in_leaf': 9, 'max_depth': 5, 'l2_leaf_reg': 10.347997266189218, 'one_hot_max_size': 100, 'auto_class_weights': 'Balanced'}. Best is trial 44 with value: 0.8680821096952244.\u001b[0m\n"
     ]
    },
    {
     "name": "stdout",
     "output_type": "stream",
     "text": [
      "Stopped by overfitting detector  (10 iterations wait)\n"
     ]
    },
    {
     "name": "stderr",
     "output_type": "stream",
     "text": [
      "\u001b[32m[I 2021-07-11 13:43:43,883]\u001b[0m Trial 56 finished with value: 0.8667809388120615 and parameters: {'iterations': 1000, 'learning_rate': 0.030631224914828066, 'random_strength': 7, 'bagging_temperature': 3, 'max_bin': 30, 'grow_policy': 'Depthwise', 'min_data_in_leaf': 8, 'max_depth': 5, 'l2_leaf_reg': 2.2313902927797717, 'one_hot_max_size': 1024, 'auto_class_weights': 'Balanced'}. Best is trial 44 with value: 0.8680821096952244.\u001b[0m\n"
     ]
    },
    {
     "name": "stdout",
     "output_type": "stream",
     "text": [
      "Stopped by overfitting detector  (10 iterations wait)\n"
     ]
    },
    {
     "name": "stderr",
     "output_type": "stream",
     "text": [
      "\u001b[32m[I 2021-07-11 13:43:52,464]\u001b[0m Trial 57 finished with value: 0.8673985843194373 and parameters: {'iterations': 1500, 'learning_rate': 0.05246540774660992, 'random_strength': 6, 'bagging_temperature': 6, 'max_bin': 10, 'grow_policy': 'SymmetricTree', 'min_data_in_leaf': 4, 'max_depth': 4, 'l2_leaf_reg': 33.53333919102221, 'one_hot_max_size': 100, 'auto_class_weights': 'SqrtBalanced'}. Best is trial 44 with value: 0.8680821096952244.\u001b[0m\n"
     ]
    },
    {
     "name": "stdout",
     "output_type": "stream",
     "text": [
      "Stopped by overfitting detector  (10 iterations wait)\n"
     ]
    },
    {
     "name": "stderr",
     "output_type": "stream",
     "text": [
      "\u001b[32m[I 2021-07-11 13:44:01,118]\u001b[0m Trial 58 finished with value: 0.8669135735319857 and parameters: {'iterations': 1200, 'learning_rate': 0.05247668420968092, 'random_strength': 4, 'bagging_temperature': 6, 'max_bin': 10, 'grow_policy': 'SymmetricTree', 'min_data_in_leaf': 2, 'max_depth': 4, 'l2_leaf_reg': 38.45704319296405, 'one_hot_max_size': 100, 'auto_class_weights': 'SqrtBalanced'}. Best is trial 44 with value: 0.8680821096952244.\u001b[0m\n"
     ]
    },
    {
     "name": "stdout",
     "output_type": "stream",
     "text": [
      "Stopped by overfitting detector  (10 iterations wait)\n"
     ]
    },
    {
     "name": "stderr",
     "output_type": "stream",
     "text": [
      "\u001b[32m[I 2021-07-11 13:44:06,786]\u001b[0m Trial 59 finished with value: 0.8672574450113718 and parameters: {'iterations': 1000, 'learning_rate': 0.06968333650857998, 'random_strength': 5, 'bagging_temperature': 8, 'max_bin': 10, 'grow_policy': 'SymmetricTree', 'min_data_in_leaf': 4, 'max_depth': 4, 'l2_leaf_reg': 97.21010161147476, 'one_hot_max_size': 100, 'auto_class_weights': 'SqrtBalanced'}. Best is trial 44 with value: 0.8680821096952244.\u001b[0m\n"
     ]
    },
    {
     "name": "stdout",
     "output_type": "stream",
     "text": [
      "Stopped by overfitting detector  (10 iterations wait)\n"
     ]
    },
    {
     "name": "stderr",
     "output_type": "stream",
     "text": [
      "\u001b[32m[I 2021-07-11 13:44:10,069]\u001b[0m Trial 60 finished with value: 0.8675984558285579 and parameters: {'iterations': 300, 'learning_rate': 0.13176453151261075, 'random_strength': 6, 'bagging_temperature': 7, 'max_bin': 10, 'grow_policy': 'SymmetricTree', 'min_data_in_leaf': 4, 'max_depth': 6, 'l2_leaf_reg': 34.00496832313809, 'one_hot_max_size': 100, 'auto_class_weights': 'SqrtBalanced'}. Best is trial 44 with value: 0.8680821096952244.\u001b[0m\n"
     ]
    },
    {
     "name": "stdout",
     "output_type": "stream",
     "text": [
      "Stopped by overfitting detector  (10 iterations wait)\n"
     ]
    },
    {
     "name": "stderr",
     "output_type": "stream",
     "text": [
      "\u001b[32m[I 2021-07-11 13:44:13,179]\u001b[0m Trial 61 finished with value: 0.8657377980084637 and parameters: {'iterations': 300, 'learning_rate': 0.18836136942872916, 'random_strength': 6, 'bagging_temperature': 7, 'max_bin': 10, 'grow_policy': 'SymmetricTree', 'min_data_in_leaf': 4, 'max_depth': 6, 'l2_leaf_reg': 33.45971006204399, 'one_hot_max_size': 100, 'auto_class_weights': 'SqrtBalanced'}. Best is trial 44 with value: 0.8680821096952244.\u001b[0m\n",
      "\u001b[32m[I 2021-07-11 13:44:19,269]\u001b[0m Trial 62 finished with value: 0.8671453273156828 and parameters: {'iterations': 300, 'learning_rate': 0.042085205483540125, 'random_strength': 7, 'bagging_temperature': 8, 'max_bin': 10, 'grow_policy': 'SymmetricTree', 'min_data_in_leaf': 3, 'max_depth': 6, 'l2_leaf_reg': 10.097357091433437, 'one_hot_max_size': 100, 'auto_class_weights': 'SqrtBalanced'}. Best is trial 44 with value: 0.8680821096952244.\u001b[0m\n"
     ]
    },
    {
     "name": "stdout",
     "output_type": "stream",
     "text": [
      "Stopped by overfitting detector  (10 iterations wait)\n"
     ]
    },
    {
     "name": "stderr",
     "output_type": "stream",
     "text": [
      "\u001b[32m[I 2021-07-11 13:44:24,826]\u001b[0m Trial 63 finished with value: 0.8671997270132561 and parameters: {'iterations': 300, 'learning_rate': 0.12850033125488938, 'random_strength': 6, 'bagging_temperature': 7, 'max_bin': 10, 'grow_policy': 'SymmetricTree', 'min_data_in_leaf': 4, 'max_depth': 7, 'l2_leaf_reg': 43.05637696564729, 'one_hot_max_size': 100, 'auto_class_weights': 'SqrtBalanced'}. Best is trial 44 with value: 0.8680821096952244.\u001b[0m\n"
     ]
    },
    {
     "name": "stdout",
     "output_type": "stream",
     "text": [
      "Stopped by overfitting detector  (10 iterations wait)\n"
     ]
    },
    {
     "name": "stderr",
     "output_type": "stream",
     "text": [
      "\u001b[32m[I 2021-07-11 13:44:29,167]\u001b[0m Trial 64 finished with value: 0.8649291775331733 and parameters: {'iterations': 300, 'learning_rate': 0.18293557303149413, 'random_strength': 6, 'bagging_temperature': 6, 'max_bin': 10, 'grow_policy': 'SymmetricTree', 'min_data_in_leaf': 5, 'max_depth': 5, 'l2_leaf_reg': 21.023853393402437, 'one_hot_max_size': 100, 'auto_class_weights': 'SqrtBalanced'}. Best is trial 44 with value: 0.8680821096952244.\u001b[0m\n"
     ]
    },
    {
     "name": "stdout",
     "output_type": "stream",
     "text": [
      "Stopped by overfitting detector  (10 iterations wait)\n"
     ]
    },
    {
     "name": "stderr",
     "output_type": "stream",
     "text": [
      "\u001b[32m[I 2021-07-11 13:44:35,090]\u001b[0m Trial 65 finished with value: 0.8663760293859489 and parameters: {'iterations': 1000, 'learning_rate': 0.09631701486387712, 'random_strength': 7, 'bagging_temperature': 6, 'max_bin': 10, 'grow_policy': 'SymmetricTree', 'min_data_in_leaf': 5, 'max_depth': 5, 'l2_leaf_reg': 99.03753376769295, 'one_hot_max_size': 100, 'auto_class_weights': 'SqrtBalanced'}. Best is trial 44 with value: 0.8680821096952244.\u001b[0m\n"
     ]
    },
    {
     "name": "stdout",
     "output_type": "stream",
     "text": [
      "Stopped by overfitting detector  (10 iterations wait)\n"
     ]
    },
    {
     "name": "stderr",
     "output_type": "stream",
     "text": [
      "\u001b[32m[I 2021-07-11 13:44:38,291]\u001b[0m Trial 66 finished with value: 0.8643142432263426 and parameters: {'iterations': 500, 'learning_rate': 0.23350185519908598, 'random_strength': 5, 'bagging_temperature': 5, 'max_bin': 8, 'grow_policy': 'SymmetricTree', 'min_data_in_leaf': 4, 'max_depth': 4, 'l2_leaf_reg': 9.645788167814066, 'one_hot_max_size': 100, 'auto_class_weights': 'SqrtBalanced'}. Best is trial 44 with value: 0.8680821096952244.\u001b[0m\n"
     ]
    },
    {
     "name": "stdout",
     "output_type": "stream",
     "text": [
      "Stopped by overfitting detector  (10 iterations wait)\n"
     ]
    },
    {
     "name": "stderr",
     "output_type": "stream",
     "text": [
      "\u001b[32m[I 2021-07-11 13:44:41,491]\u001b[0m Trial 67 finished with value: 0.8660780011382443 and parameters: {'iterations': 200, 'learning_rate': 0.11843540534107767, 'random_strength': 8, 'bagging_temperature': 6, 'max_bin': 10, 'grow_policy': 'SymmetricTree', 'min_data_in_leaf': 3, 'max_depth': 6, 'l2_leaf_reg': 2.999313797026223, 'one_hot_max_size': 100, 'auto_class_weights': 'SqrtBalanced'}. Best is trial 44 with value: 0.8680821096952244.\u001b[0m\n"
     ]
    },
    {
     "name": "stdout",
     "output_type": "stream",
     "text": [
      "Stopped by overfitting detector  (10 iterations wait)\n"
     ]
    },
    {
     "name": "stderr",
     "output_type": "stream",
     "text": [
      "\u001b[32m[I 2021-07-11 13:45:26,929]\u001b[0m Trial 68 finished with value: 0.8667055889038598 and parameters: {'iterations': 1000, 'learning_rate': 0.05901593804042814, 'random_strength': 1, 'bagging_temperature': 7, 'max_bin': 6, 'grow_policy': 'SymmetricTree', 'min_data_in_leaf': 2, 'max_depth': 5, 'l2_leaf_reg': 53.871778376983784, 'one_hot_max_size': 12, 'auto_class_weights': 'SqrtBalanced'}. Best is trial 44 with value: 0.8680821096952244.\u001b[0m\n"
     ]
    },
    {
     "name": "stdout",
     "output_type": "stream",
     "text": [
      "Stopped by overfitting detector  (10 iterations wait)\n"
     ]
    },
    {
     "name": "stderr",
     "output_type": "stream",
     "text": [
      "\u001b[32m[I 2021-07-11 13:45:37,809]\u001b[0m Trial 69 finished with value: 0.8627968697486967 and parameters: {'iterations': 1500, 'learning_rate': 0.2934245410888576, 'random_strength': 5, 'bagging_temperature': 8, 'max_bin': 20, 'grow_policy': 'Depthwise', 'min_data_in_leaf': 6, 'max_depth': 4, 'l2_leaf_reg': 20.350024732723018, 'one_hot_max_size': 5, 'auto_class_weights': 'SqrtBalanced'}. Best is trial 44 with value: 0.8680821096952244.\u001b[0m\n"
     ]
    },
    {
     "name": "stdout",
     "output_type": "stream",
     "text": [
      "Stopped by overfitting detector  (10 iterations wait)\n"
     ]
    },
    {
     "name": "stderr",
     "output_type": "stream",
     "text": [
      "\u001b[32m[I 2021-07-11 13:45:40,640]\u001b[0m Trial 70 finished with value: 0.8497770135510775 and parameters: {'iterations': 1000, 'learning_rate': 0.14244308048247817, 'random_strength': 9, 'bagging_temperature': 5, 'max_bin': 8, 'grow_policy': 'SymmetricTree', 'min_data_in_leaf': 4, 'max_depth': 6, 'l2_leaf_reg': 0.0001682222823516855, 'one_hot_max_size': 100, 'auto_class_weights': 'SqrtBalanced'}. Best is trial 44 with value: 0.8680821096952244.\u001b[0m\n"
     ]
    },
    {
     "name": "stdout",
     "output_type": "stream",
     "text": [
      "Stopped by overfitting detector  (10 iterations wait)\n"
     ]
    },
    {
     "name": "stderr",
     "output_type": "stream",
     "text": [
      "\u001b[32m[I 2021-07-11 13:45:54,554]\u001b[0m Trial 71 finished with value: 0.86691674918754 and parameters: {'iterations': 1500, 'learning_rate': 0.025489924375582427, 'random_strength': 6, 'bagging_temperature': 2, 'max_bin': 30, 'grow_policy': 'Depthwise', 'min_data_in_leaf': 3, 'max_depth': 5, 'l2_leaf_reg': 1.0301189451228163, 'one_hot_max_size': 500, 'auto_class_weights': 'Balanced'}. Best is trial 44 with value: 0.8680821096952244.\u001b[0m\n"
     ]
    },
    {
     "name": "stdout",
     "output_type": "stream",
     "text": [
      "Stopped by overfitting detector  (10 iterations wait)\n"
     ]
    },
    {
     "name": "stderr",
     "output_type": "stream",
     "text": [
      "\u001b[32m[I 2021-07-11 13:46:16,769]\u001b[0m Trial 72 finished with value: 0.8677502302953043 and parameters: {'iterations': 1500, 'learning_rate': 0.020020262216275696, 'random_strength': 6, 'bagging_temperature': 1, 'max_bin': 30, 'grow_policy': 'Depthwise', 'min_data_in_leaf': 5, 'max_depth': 5, 'l2_leaf_reg': 7.398698994236415, 'one_hot_max_size': 500, 'auto_class_weights': 'Balanced'}. Best is trial 44 with value: 0.8680821096952244.\u001b[0m\n"
     ]
    },
    {
     "name": "stdout",
     "output_type": "stream",
     "text": [
      "Stopped by overfitting detector  (10 iterations wait)\n"
     ]
    },
    {
     "name": "stderr",
     "output_type": "stream",
     "text": [
      "\u001b[32m[I 2021-07-11 13:46:53,071]\u001b[0m Trial 73 finished with value: 0.8676746910756326 and parameters: {'iterations': 1500, 'learning_rate': 0.009164013958107727, 'random_strength': 7, 'bagging_temperature': 2, 'max_bin': 30, 'grow_policy': 'Depthwise', 'min_data_in_leaf': 5, 'max_depth': 5, 'l2_leaf_reg': 7.032617230822959, 'one_hot_max_size': 100, 'auto_class_weights': 'Balanced'}. Best is trial 44 with value: 0.8680821096952244.\u001b[0m\n"
     ]
    },
    {
     "name": "stdout",
     "output_type": "stream",
     "text": [
      "Stopped by overfitting detector  (10 iterations wait)\n"
     ]
    },
    {
     "name": "stderr",
     "output_type": "stream",
     "text": [
      "\u001b[32m[I 2021-07-11 13:47:35,808]\u001b[0m Trial 74 finished with value: 0.8683876695268214 and parameters: {'iterations': 1500, 'learning_rate': 0.008731379310481997, 'random_strength': 7, 'bagging_temperature': 2, 'max_bin': 30, 'grow_policy': 'Depthwise', 'min_data_in_leaf': 5, 'max_depth': 6, 'l2_leaf_reg': 10.406554913594482, 'one_hot_max_size': 100, 'auto_class_weights': 'Balanced'}. Best is trial 74 with value: 0.8683876695268214.\u001b[0m\n",
      "\u001b[32m[I 2021-07-11 13:48:16,779]\u001b[0m Trial 75 finished with value: 0.8656400555318531 and parameters: {'iterations': 1500, 'learning_rate': 0.00637891772128347, 'random_strength': 7, 'bagging_temperature': 2, 'max_bin': 30, 'grow_policy': 'Depthwise', 'min_data_in_leaf': 5, 'max_depth': 6, 'l2_leaf_reg': 0.34577872167391294, 'one_hot_max_size': 500, 'auto_class_weights': 'Balanced'}. Best is trial 74 with value: 0.8683876695268214.\u001b[0m\n"
     ]
    },
    {
     "name": "stdout",
     "output_type": "stream",
     "text": [
      "Stopped by overfitting detector  (10 iterations wait)\n"
     ]
    },
    {
     "name": "stderr",
     "output_type": "stream",
     "text": [
      "\u001b[32m[I 2021-07-11 13:48:54,864]\u001b[0m Trial 76 finished with value: 0.8685506064381597 and parameters: {'iterations': 1500, 'learning_rate': 0.009342709964340258, 'random_strength': 7, 'bagging_temperature': 10, 'max_bin': 30, 'grow_policy': 'Depthwise', 'min_data_in_leaf': 6, 'max_depth': 6, 'l2_leaf_reg': 7.04953425874635, 'one_hot_max_size': 100, 'auto_class_weights': 'Balanced'}. Best is trial 76 with value: 0.8685506064381597.\u001b[0m\n"
     ]
    },
    {
     "name": "stdout",
     "output_type": "stream",
     "text": [
      "Stopped by overfitting detector  (10 iterations wait)\n"
     ]
    },
    {
     "name": "stderr",
     "output_type": "stream",
     "text": [
      "\u001b[32m[I 2021-07-11 13:49:39,384]\u001b[0m Trial 77 finished with value: 0.8682933360943972 and parameters: {'iterations': 1500, 'learning_rate': 0.00950999796421883, 'random_strength': 7, 'bagging_temperature': 10, 'max_bin': 30, 'grow_policy': 'Depthwise', 'min_data_in_leaf': 6, 'max_depth': 7, 'l2_leaf_reg': 6.690982616176727, 'one_hot_max_size': 1024, 'auto_class_weights': 'Balanced'}. Best is trial 76 with value: 0.8685506064381597.\u001b[0m\n"
     ]
    },
    {
     "name": "stdout",
     "output_type": "stream",
     "text": [
      "Stopped by overfitting detector  (10 iterations wait)\n"
     ]
    },
    {
     "name": "stderr",
     "output_type": "stream",
     "text": [
      "\u001b[32m[I 2021-07-11 13:50:00,591]\u001b[0m Trial 78 finished with value: 0.8675037701086497 and parameters: {'iterations': 1500, 'learning_rate': 0.022531094738745604, 'random_strength': 8, 'bagging_temperature': 10, 'max_bin': 30, 'grow_policy': 'Depthwise', 'min_data_in_leaf': 6, 'max_depth': 7, 'l2_leaf_reg': 2.7280425262602592, 'one_hot_max_size': 1024, 'auto_class_weights': 'Balanced'}. Best is trial 76 with value: 0.8685506064381597.\u001b[0m\n",
      "\u001b[32m[I 2021-07-11 13:51:08,047]\u001b[0m Trial 79 finished with value: 0.8583087375182462 and parameters: {'iterations': 1500, 'learning_rate': 0.001702642085928084, 'random_strength': 9, 'bagging_temperature': 9, 'max_bin': 30, 'grow_policy': 'Depthwise', 'min_data_in_leaf': 6, 'max_depth': 8, 'l2_leaf_reg': 15.24502442890866, 'one_hot_max_size': 1024, 'auto_class_weights': 'Balanced'}. Best is trial 76 with value: 0.8685506064381597.\u001b[0m\n"
     ]
    },
    {
     "name": "stdout",
     "output_type": "stream",
     "text": [
      "Stopped by overfitting detector  (10 iterations wait)\n"
     ]
    },
    {
     "name": "stderr",
     "output_type": "stream",
     "text": [
      "\u001b[32m[I 2021-07-11 13:51:24,635]\u001b[0m Trial 80 finished with value: 0.8642742513497772 and parameters: {'iterations': 1500, 'learning_rate': 0.03258512236369735, 'random_strength': 7, 'bagging_temperature': 10, 'max_bin': 30, 'grow_policy': 'Depthwise', 'min_data_in_leaf': 6, 'max_depth': 8, 'l2_leaf_reg': 0.166914163496669, 'one_hot_max_size': 1024, 'auto_class_weights': 'Balanced'}. Best is trial 76 with value: 0.8685506064381597.\u001b[0m\n"
     ]
    },
    {
     "name": "stdout",
     "output_type": "stream",
     "text": [
      "Stopped by overfitting detector  (10 iterations wait)\n"
     ]
    },
    {
     "name": "stderr",
     "output_type": "stream",
     "text": [
      "\u001b[32m[I 2021-07-11 13:52:00,238]\u001b[0m Trial 81 finished with value: 0.8675568240298519 and parameters: {'iterations': 1500, 'learning_rate': 0.010764662505575343, 'random_strength': 7, 'bagging_temperature': 2, 'max_bin': 30, 'grow_policy': 'Depthwise', 'min_data_in_leaf': 5, 'max_depth': 6, 'l2_leaf_reg': 7.606955820765414, 'one_hot_max_size': 1024, 'auto_class_weights': 'Balanced'}. Best is trial 76 with value: 0.8685506064381597.\u001b[0m\n"
     ]
    },
    {
     "name": "stdout",
     "output_type": "stream",
     "text": [
      "Stopped by overfitting detector  (10 iterations wait)\n"
     ]
    },
    {
     "name": "stderr",
     "output_type": "stream",
     "text": [
      "\u001b[32m[I 2021-07-11 13:54:40,184]\u001b[0m Trial 82 finished with value: 0.8668160549943469 and parameters: {'iterations': 1500, 'learning_rate': 0.016615616451361233, 'random_strength': 7, 'bagging_temperature': 9, 'max_bin': 30, 'grow_policy': 'Depthwise', 'min_data_in_leaf': 5, 'max_depth': 7, 'l2_leaf_reg': 3.8455002440503336, 'one_hot_max_size': 10, 'auto_class_weights': 'Balanced'}. Best is trial 76 with value: 0.8685506064381597.\u001b[0m\n",
      "\u001b[32m[I 2021-07-11 13:55:14,858]\u001b[0m Trial 83 finished with value: 0.8676233551035348 and parameters: {'iterations': 1500, 'learning_rate': 0.00870296525654338, 'random_strength': 8, 'bagging_temperature': 2, 'max_bin': 30, 'grow_policy': 'Depthwise', 'min_data_in_leaf': 6, 'max_depth': 5, 'l2_leaf_reg': 6.827854997753781, 'one_hot_max_size': 500, 'auto_class_weights': 'Balanced'}. Best is trial 76 with value: 0.8685506064381597.\u001b[0m\n",
      "\u001b[32m[I 2021-07-11 13:55:50,358]\u001b[0m Trial 84 finished with value: 0.859555559840131 and parameters: {'iterations': 1500, 'learning_rate': 0.0032394918224941914, 'random_strength': 7, 'bagging_temperature': 3, 'max_bin': 30, 'grow_policy': 'Depthwise', 'min_data_in_leaf': 7, 'max_depth': 5, 'l2_leaf_reg': 1.594028396825759, 'one_hot_max_size': 100, 'auto_class_weights': 'Balanced'}. Best is trial 76 with value: 0.8685506064381597.\u001b[0m\n"
     ]
    },
    {
     "name": "stdout",
     "output_type": "stream",
     "text": [
      "Stopped by overfitting detector  (10 iterations wait)\n"
     ]
    },
    {
     "name": "stderr",
     "output_type": "stream",
     "text": [
      "\u001b[32m[I 2021-07-11 13:56:08,929]\u001b[0m Trial 85 finished with value: 0.8671930528886269 and parameters: {'iterations': 1500, 'learning_rate': 0.023543151112002843, 'random_strength': 7, 'bagging_temperature': 10, 'max_bin': 30, 'grow_policy': 'Depthwise', 'min_data_in_leaf': 5, 'max_depth': 7, 'l2_leaf_reg': 0.5612423327376856, 'one_hot_max_size': 500, 'auto_class_weights': 'Balanced'}. Best is trial 76 with value: 0.8685506064381597.\u001b[0m\n"
     ]
    },
    {
     "name": "stdout",
     "output_type": "stream",
     "text": [
      "Stopped by overfitting detector  (10 iterations wait)\n"
     ]
    },
    {
     "name": "stderr",
     "output_type": "stream",
     "text": [
      "\u001b[32m[I 2021-07-11 13:56:20,139]\u001b[0m Trial 86 finished with value: 0.8666860716957275 and parameters: {'iterations': 1500, 'learning_rate': 0.03839347191548349, 'random_strength': 8, 'bagging_temperature': 1, 'max_bin': 30, 'grow_policy': 'Depthwise', 'min_data_in_leaf': 6, 'max_depth': 5, 'l2_leaf_reg': 15.526120322451561, 'one_hot_max_size': 1024, 'auto_class_weights': 'Balanced'}. Best is trial 76 with value: 0.8685506064381597.\u001b[0m\n"
     ]
    },
    {
     "name": "stdout",
     "output_type": "stream",
     "text": [
      "Stopped by overfitting detector  (10 iterations wait)\n"
     ]
    },
    {
     "name": "stderr",
     "output_type": "stream",
     "text": [
      "\u001b[32m[I 2021-07-11 13:56:44,418]\u001b[0m Trial 87 finished with value: 0.8679639970501478 and parameters: {'iterations': 1500, 'learning_rate': 0.01579217043777077, 'random_strength': 6, 'bagging_temperature': 1, 'max_bin': 30, 'grow_policy': 'Depthwise', 'min_data_in_leaf': 5, 'max_depth': 6, 'l2_leaf_reg': 3.4275136199782112, 'one_hot_max_size': 100, 'auto_class_weights': 'Balanced'}. Best is trial 76 with value: 0.8685506064381597.\u001b[0m\n"
     ]
    },
    {
     "name": "stdout",
     "output_type": "stream",
     "text": [
      "Stopped by overfitting detector  (10 iterations wait)\n"
     ]
    },
    {
     "name": "stderr",
     "output_type": "stream",
     "text": [
      "\u001b[32m[I 2021-07-11 13:56:52,635]\u001b[0m Trial 88 finished with value: 0.8666125272870481 and parameters: {'iterations': 1500, 'learning_rate': 0.04571737908708838, 'random_strength': 6, 'bagging_temperature': 1, 'max_bin': 30, 'grow_policy': 'Depthwise', 'min_data_in_leaf': 6, 'max_depth': 6, 'l2_leaf_reg': 2.967843610936323, 'one_hot_max_size': 500, 'auto_class_weights': 'Balanced'}. Best is trial 76 with value: 0.8685506064381597.\u001b[0m\n",
      "\u001b[32m[I 2021-07-11 13:57:21,469]\u001b[0m Trial 89 finished with value: 0.8594523247536243 and parameters: {'iterations': 100, 'learning_rate': 0.020310865065448026, 'random_strength': 5, 'bagging_temperature': 0, 'max_bin': 5, 'grow_policy': 'Depthwise', 'min_data_in_leaf': 7, 'max_depth': 9, 'l2_leaf_reg': 0.9916425860057577, 'one_hot_max_size': 12, 'auto_class_weights': 'Balanced'}. Best is trial 76 with value: 0.8685506064381597.\u001b[0m\n",
      "\u001b[32m[I 2021-07-11 13:58:12,945]\u001b[0m Trial 90 finished with value: 0.8539656891105771 and parameters: {'iterations': 1500, 'learning_rate': 0.001062568986090806, 'random_strength': 6, 'bagging_temperature': 1, 'max_bin': 30, 'grow_policy': 'Depthwise', 'min_data_in_leaf': 5, 'max_depth': 7, 'l2_leaf_reg': 61.18040979151918, 'one_hot_max_size': 100, 'auto_class_weights': 'Balanced'}. Best is trial 76 with value: 0.8685506064381597.\u001b[0m\n"
     ]
    },
    {
     "name": "stdout",
     "output_type": "stream",
     "text": [
      "Stopped by overfitting detector  (10 iterations wait)\n"
     ]
    },
    {
     "name": "stderr",
     "output_type": "stream",
     "text": [
      "\u001b[32m[I 2021-07-11 13:58:42,160]\u001b[0m Trial 91 finished with value: 0.8681789905389385 and parameters: {'iterations': 1500, 'learning_rate': 0.013380056053600813, 'random_strength': 7, 'bagging_temperature': 2, 'max_bin': 30, 'grow_policy': 'Depthwise', 'min_data_in_leaf': 5, 'max_depth': 6, 'l2_leaf_reg': 6.646095251684958, 'one_hot_max_size': 100, 'auto_class_weights': 'Balanced'}. Best is trial 76 with value: 0.8685506064381597.\u001b[0m\n"
     ]
    },
    {
     "name": "stdout",
     "output_type": "stream",
     "text": [
      "Stopped by overfitting detector  (10 iterations wait)\n"
     ]
    },
    {
     "name": "stderr",
     "output_type": "stream",
     "text": [
      "\u001b[32m[I 2021-07-11 13:58:57,678]\u001b[0m Trial 92 finished with value: 0.8677102317245602 and parameters: {'iterations': 1500, 'learning_rate': 0.028235502340085664, 'random_strength': 7, 'bagging_temperature': 2, 'max_bin': 30, 'grow_policy': 'Depthwise', 'min_data_in_leaf': 5, 'max_depth': 6, 'l2_leaf_reg': 11.065791644905655, 'one_hot_max_size': 100, 'auto_class_weights': 'Balanced'}. Best is trial 76 with value: 0.8685506064381597.\u001b[0m\n"
     ]
    },
    {
     "name": "stdout",
     "output_type": "stream",
     "text": [
      "Stopped by overfitting detector  (10 iterations wait)\n"
     ]
    },
    {
     "name": "stderr",
     "output_type": "stream",
     "text": [
      "\u001b[32m[I 2021-07-11 13:59:25,159]\u001b[0m Trial 93 finished with value: 0.8676785962104068 and parameters: {'iterations': 1500, 'learning_rate': 0.014652511029902468, 'random_strength': 6, 'bagging_temperature': 3, 'max_bin': 30, 'grow_policy': 'Depthwise', 'min_data_in_leaf': 6, 'max_depth': 6, 'l2_leaf_reg': 1.7836029270979121, 'one_hot_max_size': 100, 'auto_class_weights': 'Balanced'}. Best is trial 76 with value: 0.8685506064381597.\u001b[0m\n"
     ]
    },
    {
     "name": "stdout",
     "output_type": "stream",
     "text": [
      "Stopped by overfitting detector  (10 iterations wait)\n"
     ]
    },
    {
     "name": "stderr",
     "output_type": "stream",
     "text": [
      "\u001b[32m[I 2021-07-11 13:59:39,293]\u001b[0m Trial 94 finished with value: 0.8663083040196083 and parameters: {'iterations': 1500, 'learning_rate': 0.03661239514063988, 'random_strength': 7, 'bagging_temperature': 1, 'max_bin': 4, 'grow_policy': 'Depthwise', 'min_data_in_leaf': 5, 'max_depth': 6, 'l2_leaf_reg': 5.101578850556195, 'one_hot_max_size': 100, 'auto_class_weights': 'Balanced'}. Best is trial 76 with value: 0.8685506064381597.\u001b[0m\n"
     ]
    },
    {
     "name": "stdout",
     "output_type": "stream",
     "text": [
      "Stopped by overfitting detector  (10 iterations wait)\n"
     ]
    },
    {
     "name": "stderr",
     "output_type": "stream",
     "text": [
      "\u001b[32m[I 2021-07-11 14:15:49,902]\u001b[0m Trial 95 finished with value: 0.8671319196938049 and parameters: {'iterations': 1200, 'learning_rate': 0.013824113885754415, 'random_strength': 6, 'bagging_temperature': 2, 'max_bin': 30, 'grow_policy': 'Lossguide', 'min_data_in_leaf': 6, 'max_depth': 7, 'l2_leaf_reg': 20.945346436410063, 'one_hot_max_size': 5, 'auto_class_weights': 'Balanced'}. Best is trial 76 with value: 0.8685506064381597.\u001b[0m\n"
     ]
    },
    {
     "name": "stdout",
     "output_type": "stream",
     "text": [
      "Stopped by overfitting detector  (10 iterations wait)\n"
     ]
    },
    {
     "name": "stderr",
     "output_type": "stream",
     "text": [
      "\u001b[32m[I 2021-07-11 14:16:02,946]\u001b[0m Trial 96 finished with value: 0.865561227651263 and parameters: {'iterations': 1500, 'learning_rate': 0.02674450911322756, 'random_strength': 8, 'bagging_temperature': 1, 'max_bin': 30, 'grow_policy': 'Depthwise', 'min_data_in_leaf': 5, 'max_depth': 6, 'l2_leaf_reg': 0.336213527923891, 'one_hot_max_size': 100, 'auto_class_weights': 'Balanced'}. Best is trial 76 with value: 0.8685506064381597.\u001b[0m\n"
     ]
    },
    {
     "name": "stdout",
     "output_type": "stream",
     "text": [
      "Stopped by overfitting detector  (10 iterations wait)\n"
     ]
    },
    {
     "name": "stderr",
     "output_type": "stream",
     "text": [
      "\u001b[32m[I 2021-07-11 14:16:21,535]\u001b[0m Trial 97 finished with value: 0.8682319285727906 and parameters: {'iterations': 1500, 'learning_rate': 0.019614061073809298, 'random_strength': 6, 'bagging_temperature': 9, 'max_bin': 30, 'grow_policy': 'Depthwise', 'min_data_in_leaf': 7, 'max_depth': 6, 'l2_leaf_reg': 3.9271526713499774, 'one_hot_max_size': 500, 'auto_class_weights': 'Balanced'}. Best is trial 76 with value: 0.8685506064381597.\u001b[0m\n"
     ]
    },
    {
     "name": "stdout",
     "output_type": "stream",
     "text": [
      "Stopped by overfitting detector  (10 iterations wait)\n"
     ]
    },
    {
     "name": "stderr",
     "output_type": "stream",
     "text": [
      "\u001b[32m[I 2021-07-11 14:17:01,695]\u001b[0m Trial 98 finished with value: 0.8623401053485896 and parameters: {'iterations': 1500, 'learning_rate': 0.006181331917422695, 'random_strength': 6, 'bagging_temperature': 9, 'max_bin': 30, 'grow_policy': 'Depthwise', 'min_data_in_leaf': 7, 'max_depth': 7, 'l2_leaf_reg': 8.178847666231764e-08, 'one_hot_max_size': 100, 'auto_class_weights': 'Balanced'}. Best is trial 76 with value: 0.8685506064381597.\u001b[0m\n"
     ]
    },
    {
     "name": "stdout",
     "output_type": "stream",
     "text": [
      "Stopped by overfitting detector  (10 iterations wait)\n"
     ]
    },
    {
     "name": "stderr",
     "output_type": "stream",
     "text": [
      "\u001b[32m[I 2021-07-11 14:17:13,062]\u001b[0m Trial 99 finished with value: 0.8678290948259575 and parameters: {'iterations': 1500, 'learning_rate': 0.03472628947511053, 'random_strength': 6, 'bagging_temperature': 10, 'max_bin': 8, 'grow_policy': 'Depthwise', 'min_data_in_leaf': 7, 'max_depth': 6, 'l2_leaf_reg': 4.574333308565972, 'one_hot_max_size': 500, 'auto_class_weights': 'Balanced'}. Best is trial 76 with value: 0.8685506064381597.\u001b[0m\n",
      "\u001b[32m[I 2021-07-11 14:17:19,059]\u001b[0m Trial 100 finished with value: 0.8643606172463943 and parameters: {'iterations': 200, 'learning_rate': 0.0454254247309432, 'random_strength': 7, 'bagging_temperature': 10, 'max_bin': 8, 'grow_policy': 'Depthwise', 'min_data_in_leaf': 7, 'max_depth': 6, 'l2_leaf_reg': 3.9335862315805628, 'one_hot_max_size': 100, 'auto_class_weights': 'Balanced'}. Best is trial 76 with value: 0.8685506064381597.\u001b[0m\n"
     ]
    },
    {
     "name": "stdout",
     "output_type": "stream",
     "text": [
      "Stopped by overfitting detector  (10 iterations wait)\n"
     ]
    },
    {
     "name": "stderr",
     "output_type": "stream",
     "text": [
      "\u001b[32m[I 2021-07-11 14:17:32,592]\u001b[0m Trial 101 finished with value: 0.8687214701720496 and parameters: {'iterations': 1500, 'learning_rate': 0.03341678324245626, 'random_strength': 6, 'bagging_temperature': 10, 'max_bin': 8, 'grow_policy': 'Depthwise', 'min_data_in_leaf': 6, 'max_depth': 6, 'l2_leaf_reg': 11.699322058513614, 'one_hot_max_size': 500, 'auto_class_weights': 'Balanced'}. Best is trial 101 with value: 0.8687214701720496.\u001b[0m\n"
     ]
    },
    {
     "name": "stdout",
     "output_type": "stream",
     "text": [
      "Stopped by overfitting detector  (10 iterations wait)\n"
     ]
    },
    {
     "name": "stderr",
     "output_type": "stream",
     "text": [
      "\u001b[32m[I 2021-07-11 14:17:46,444]\u001b[0m Trial 102 finished with value: 0.8683402904126318 and parameters: {'iterations': 1500, 'learning_rate': 0.03470847666320452, 'random_strength': 6, 'bagging_temperature': 10, 'max_bin': 8, 'grow_policy': 'Depthwise', 'min_data_in_leaf': 6, 'max_depth': 6, 'l2_leaf_reg': 26.49705392760475, 'one_hot_max_size': 500, 'auto_class_weights': 'Balanced'}. Best is trial 101 with value: 0.8687214701720496.\u001b[0m\n",
      "\u001b[32m[I 2021-07-11 14:18:30,826]\u001b[0m Trial 103 finished with value: 0.8551825322101884 and parameters: {'iterations': 1500, 'learning_rate': 0.0012215856355100568, 'random_strength': 5, 'bagging_temperature': 9, 'max_bin': 8, 'grow_policy': 'Depthwise', 'min_data_in_leaf': 6, 'max_depth': 6, 'l2_leaf_reg': 13.604201096119224, 'one_hot_max_size': 500, 'auto_class_weights': 'Balanced'}. Best is trial 101 with value: 0.8687214701720496.\u001b[0m\n"
     ]
    },
    {
     "name": "stdout",
     "output_type": "stream",
     "text": [
      "Stopped by overfitting detector  (10 iterations wait)\n"
     ]
    },
    {
     "name": "stderr",
     "output_type": "stream",
     "text": [
      "\u001b[32m[I 2021-07-11 14:18:38,896]\u001b[0m Trial 104 finished with value: 0.8679526361913081 and parameters: {'iterations': 1500, 'learning_rate': 0.06347938464213658, 'random_strength': 6, 'bagging_temperature': 10, 'max_bin': 8, 'grow_policy': 'Depthwise', 'min_data_in_leaf': 6, 'max_depth': 7, 'l2_leaf_reg': 25.566847319225403, 'one_hot_max_size': 500, 'auto_class_weights': 'Balanced'}. Best is trial 101 with value: 0.8687214701720496.\u001b[0m\n"
     ]
    },
    {
     "name": "stdout",
     "output_type": "stream",
     "text": [
      "Stopped by overfitting detector  (10 iterations wait)\n"
     ]
    },
    {
     "name": "stderr",
     "output_type": "stream",
     "text": [
      "\u001b[32m[I 2021-07-11 14:18:47,071]\u001b[0m Trial 105 finished with value: 0.8669693770151159 and parameters: {'iterations': 1500, 'learning_rate': 0.06377100282352585, 'random_strength': 7, 'bagging_temperature': 10, 'max_bin': 8, 'grow_policy': 'Depthwise', 'min_data_in_leaf': 6, 'max_depth': 7, 'l2_leaf_reg': 53.466881341548536, 'one_hot_max_size': 500, 'auto_class_weights': 'Balanced'}. Best is trial 101 with value: 0.8687214701720496.\u001b[0m\n"
     ]
    },
    {
     "name": "stdout",
     "output_type": "stream",
     "text": [
      "Stopped by overfitting detector  (10 iterations wait)\n"
     ]
    },
    {
     "name": "stderr",
     "output_type": "stream",
     "text": [
      "\u001b[32m[I 2021-07-11 14:19:02,013]\u001b[0m Trial 106 finished with value: 0.8678272232330306 and parameters: {'iterations': 1500, 'learning_rate': 0.03100484677419193, 'random_strength': 6, 'bagging_temperature': 9, 'max_bin': 8, 'grow_policy': 'Depthwise', 'min_data_in_leaf': 6, 'max_depth': 7, 'l2_leaf_reg': 25.128112565819592, 'one_hot_max_size': 500, 'auto_class_weights': 'Balanced'}. Best is trial 101 with value: 0.8687214701720496.\u001b[0m\n"
     ]
    },
    {
     "name": "stdout",
     "output_type": "stream",
     "text": [
      "Stopped by overfitting detector  (10 iterations wait)\n"
     ]
    },
    {
     "name": "stderr",
     "output_type": "stream",
     "text": [
      "\u001b[32m[I 2021-07-11 14:19:12,956]\u001b[0m Trial 107 finished with value: 0.8674802506788193 and parameters: {'iterations': 1500, 'learning_rate': 0.049683300087901505, 'random_strength': 7, 'bagging_temperature': 10, 'max_bin': 8, 'grow_policy': 'Depthwise', 'min_data_in_leaf': 6, 'max_depth': 7, 'l2_leaf_reg': 9.441927134209967, 'one_hot_max_size': 500, 'auto_class_weights': 'Balanced'}. Best is trial 101 with value: 0.8687214701720496.\u001b[0m\n"
     ]
    },
    {
     "name": "stdout",
     "output_type": "stream",
     "text": [
      "Stopped by overfitting detector  (10 iterations wait)\n"
     ]
    },
    {
     "name": "stderr",
     "output_type": "stream",
     "text": [
      "\u001b[32m[I 2021-07-11 14:19:21,118]\u001b[0m Trial 108 finished with value: 0.866980291138565 and parameters: {'iterations': 1500, 'learning_rate': 0.075410391153865, 'random_strength': 6, 'bagging_temperature': 10, 'max_bin': 8, 'grow_policy': 'Depthwise', 'min_data_in_leaf': 6, 'max_depth': 6, 'l2_leaf_reg': 68.23820016823824, 'one_hot_max_size': 500, 'auto_class_weights': 'Balanced'}. Best is trial 101 with value: 0.8687214701720496.\u001b[0m\n"
     ]
    },
    {
     "name": "stdout",
     "output_type": "stream",
     "text": [
      "Stopped by overfitting detector  (10 iterations wait)\n"
     ]
    },
    {
     "name": "stderr",
     "output_type": "stream",
     "text": [
      "\u001b[32m[I 2021-07-11 14:19:32,362]\u001b[0m Trial 109 finished with value: 0.8674218134603688 and parameters: {'iterations': 500, 'learning_rate': 0.03768659348406135, 'random_strength': 5, 'bagging_temperature': 9, 'max_bin': 8, 'grow_policy': 'Depthwise', 'min_data_in_leaf': 5, 'max_depth': 6, 'l2_leaf_reg': 16.172627442422332, 'one_hot_max_size': 500, 'auto_class_weights': 'Balanced'}. Best is trial 101 with value: 0.8687214701720496.\u001b[0m\n"
     ]
    },
    {
     "name": "stdout",
     "output_type": "stream",
     "text": [
      "Stopped by overfitting detector  (10 iterations wait)\n"
     ]
    },
    {
     "name": "stderr",
     "output_type": "stream",
     "text": [
      "\u001b[32m[I 2021-07-11 14:19:48,566]\u001b[0m Trial 110 finished with value: 0.8675385982018031 and parameters: {'iterations': 1500, 'learning_rate': 0.025494679819405702, 'random_strength': 6, 'bagging_temperature': 10, 'max_bin': 8, 'grow_policy': 'Depthwise', 'min_data_in_leaf': 6, 'max_depth': 6, 'l2_leaf_reg': 27.777868595468856, 'one_hot_max_size': 500, 'auto_class_weights': 'Balanced'}. Best is trial 101 with value: 0.8687214701720496.\u001b[0m\n"
     ]
    },
    {
     "name": "stdout",
     "output_type": "stream",
     "text": [
      "Stopped by overfitting detector  (10 iterations wait)\n"
     ]
    },
    {
     "name": "stderr",
     "output_type": "stream",
     "text": [
      "\u001b[32m[I 2021-07-11 14:22:28,571]\u001b[0m Trial 111 finished with value: 0.8669852303991782 and parameters: {'iterations': 1500, 'learning_rate': 0.017113127372604488, 'random_strength': 6, 'bagging_temperature': 10, 'max_bin': 8, 'grow_policy': 'Depthwise', 'min_data_in_leaf': 7, 'max_depth': 7, 'l2_leaf_reg': 41.815210341544656, 'one_hot_max_size': 10, 'auto_class_weights': 'Balanced'}. Best is trial 101 with value: 0.8687214701720496.\u001b[0m\n",
      "\u001b[32m[I 2021-07-11 14:22:55,500]\u001b[0m Trial 112 finished with value: 0.8667780217013954 and parameters: {'iterations': 1000, 'learning_rate': 0.010933090701235968, 'random_strength': 7, 'bagging_temperature': 10, 'max_bin': 8, 'grow_policy': 'Depthwise', 'min_data_in_leaf': 6, 'max_depth': 6, 'l2_leaf_reg': 25.332393047278266, 'one_hot_max_size': 100, 'auto_class_weights': 'Balanced'}. Best is trial 101 with value: 0.8687214701720496.\u001b[0m\n"
     ]
    },
    {
     "name": "stdout",
     "output_type": "stream",
     "text": [
      "Stopped by overfitting detector  (10 iterations wait)\n"
     ]
    },
    {
     "name": "stderr",
     "output_type": "stream",
     "text": [
      "\u001b[32m[I 2021-07-11 14:23:15,069]\u001b[0m Trial 113 finished with value: 0.8671517873269986 and parameters: {'iterations': 1500, 'learning_rate': 0.0206795099895823, 'random_strength': 6, 'bagging_temperature': 9, 'max_bin': 6, 'grow_policy': 'Depthwise', 'min_data_in_leaf': 7, 'max_depth': 6, 'l2_leaf_reg': 1.945595128447006, 'one_hot_max_size': 500, 'auto_class_weights': 'Balanced'}. Best is trial 101 with value: 0.8687214701720496.\u001b[0m\n",
      "\u001b[32m[I 2021-07-11 14:24:08,021]\u001b[0m Trial 114 finished with value: 0.8658429502379296 and parameters: {'iterations': 1500, 'learning_rate': 0.006945300296549075, 'random_strength': 6, 'bagging_temperature': 10, 'max_bin': 8, 'grow_policy': 'Depthwise', 'min_data_in_leaf': 6, 'max_depth': 7, 'l2_leaf_reg': 97.50003137942703, 'one_hot_max_size': 100, 'auto_class_weights': 'Balanced'}. Best is trial 101 with value: 0.8687214701720496.\u001b[0m\n",
      "\u001b[32m[I 2021-07-11 14:24:13,028]\u001b[0m Trial 115 finished with value: 0.860146698931031 and parameters: {'iterations': 100, 'learning_rate': 0.03148602058071966, 'random_strength': 5, 'bagging_temperature': 4, 'max_bin': 30, 'grow_policy': 'Depthwise', 'min_data_in_leaf': 6, 'max_depth': 8, 'l2_leaf_reg': 10.758151524013362, 'one_hot_max_size': 1024, 'auto_class_weights': 'Balanced'}. Best is trial 101 with value: 0.8687214701720496.\u001b[0m\n"
     ]
    },
    {
     "name": "stdout",
     "output_type": "stream",
     "text": [
      "Stopped by overfitting detector  (10 iterations wait)\n"
     ]
    },
    {
     "name": "stderr",
     "output_type": "stream",
     "text": [
      "\u001b[32m[I 2021-07-11 14:24:40,128]\u001b[0m Trial 116 finished with value: 0.8682269457028797 and parameters: {'iterations': 1500, 'learning_rate': 0.014055572947406895, 'random_strength': 6, 'bagging_temperature': 3, 'max_bin': 20, 'grow_policy': 'Depthwise', 'min_data_in_leaf': 5, 'max_depth': 6, 'l2_leaf_reg': 6.556314578573827, 'one_hot_max_size': 100, 'auto_class_weights': 'Balanced'}. Best is trial 101 with value: 0.8687214701720496.\u001b[0m\n"
     ]
    },
    {
     "name": "stdout",
     "output_type": "stream",
     "text": [
      "Stopped by overfitting detector  (10 iterations wait)\n"
     ]
    },
    {
     "name": "stderr",
     "output_type": "stream",
     "text": [
      "\u001b[32m[I 2021-07-11 14:24:48,694]\u001b[0m Trial 117 finished with value: 0.8662588968388922 and parameters: {'iterations': 1500, 'learning_rate': 0.04564904892287973, 'random_strength': 7, 'bagging_temperature': 3, 'max_bin': 20, 'grow_policy': 'Depthwise', 'min_data_in_leaf': 5, 'max_depth': 6, 'l2_leaf_reg': 0.7961793256027401, 'one_hot_max_size': 500, 'auto_class_weights': 'Balanced'}. Best is trial 101 with value: 0.8687214701720496.\u001b[0m\n",
      "\u001b[32m[I 2021-07-11 14:25:39,705]\u001b[0m Trial 118 finished with value: 0.8524726221104111 and parameters: {'iterations': 1500, 'learning_rate': 0.0010771494509243754, 'random_strength': 6, 'bagging_temperature': 4, 'max_bin': 20, 'grow_policy': 'Lossguide', 'min_data_in_leaf': 5, 'max_depth': 6, 'l2_leaf_reg': 6.028476755842001, 'one_hot_max_size': 100, 'auto_class_weights': 'Balanced'}. Best is trial 101 with value: 0.8687214701720496.\u001b[0m\n"
     ]
    },
    {
     "name": "stdout",
     "output_type": "stream",
     "text": [
      "Stopped by overfitting detector  (10 iterations wait)\n"
     ]
    },
    {
     "name": "stderr",
     "output_type": "stream",
     "text": [
      "\u001b[32m[I 2021-07-11 14:25:51,226]\u001b[0m Trial 119 finished with value: 0.8637812802216935 and parameters: {'iterations': 1500, 'learning_rate': 0.05513261499022182, 'random_strength': 7, 'bagging_temperature': 9, 'max_bin': 20, 'grow_policy': 'Depthwise', 'min_data_in_leaf': 5, 'max_depth': 8, 'l2_leaf_reg': 2.869419955178022, 'one_hot_max_size': 500, 'auto_class_weights': 'Balanced'}. Best is trial 101 with value: 0.8687214701720496.\u001b[0m\n"
     ]
    },
    {
     "name": "stdout",
     "output_type": "stream",
     "text": [
      "Stopped by overfitting detector  (10 iterations wait)\n"
     ]
    },
    {
     "name": "stderr",
     "output_type": "stream",
     "text": [
      "\u001b[32m[I 2021-07-11 14:26:10,918]\u001b[0m Trial 120 finished with value: 0.8679721882417988 and parameters: {'iterations': 1500, 'learning_rate': 0.025111325925383107, 'random_strength': 6, 'bagging_temperature': 10, 'max_bin': 20, 'grow_policy': 'Depthwise', 'min_data_in_leaf': 5, 'max_depth': 7, 'l2_leaf_reg': 15.422038215592773, 'one_hot_max_size': 100, 'auto_class_weights': 'Balanced'}. Best is trial 101 with value: 0.8687214701720496.\u001b[0m\n"
     ]
    },
    {
     "name": "stdout",
     "output_type": "stream",
     "text": [
      "Stopped by overfitting detector  (10 iterations wait)\n"
     ]
    },
    {
     "name": "stderr",
     "output_type": "stream",
     "text": [
      "\u001b[32m[I 2021-07-11 14:26:29,500]\u001b[0m Trial 121 finished with value: 0.8680009025815908 and parameters: {'iterations': 1500, 'learning_rate': 0.02484564112707006, 'random_strength': 6, 'bagging_temperature': 10, 'max_bin': 20, 'grow_policy': 'Depthwise', 'min_data_in_leaf': 5, 'max_depth': 7, 'l2_leaf_reg': 13.50409432760658, 'one_hot_max_size': 100, 'auto_class_weights': 'Balanced'}. Best is trial 101 with value: 0.8687214701720496.\u001b[0m\n"
     ]
    },
    {
     "name": "stdout",
     "output_type": "stream",
     "text": [
      "Stopped by overfitting detector  (10 iterations wait)\n"
     ]
    },
    {
     "name": "stderr",
     "output_type": "stream",
     "text": [
      "\u001b[32m[I 2021-07-11 14:26:49,539]\u001b[0m Trial 122 finished with value: 0.8679877086573697 and parameters: {'iterations': 1500, 'learning_rate': 0.02249308141939159, 'random_strength': 6, 'bagging_temperature': 10, 'max_bin': 20, 'grow_policy': 'Depthwise', 'min_data_in_leaf': 5, 'max_depth': 6, 'l2_leaf_reg': 15.41963441034164, 'one_hot_max_size': 100, 'auto_class_weights': 'Balanced'}. Best is trial 101 with value: 0.8687214701720496.\u001b[0m\n"
     ]
    },
    {
     "name": "stdout",
     "output_type": "stream",
     "text": [
      "Stopped by overfitting detector  (10 iterations wait)\n"
     ]
    },
    {
     "name": "stderr",
     "output_type": "stream",
     "text": [
      "\u001b[32m[I 2021-07-11 14:27:09,130]\u001b[0m Trial 123 finished with value: 0.8680553860163851 and parameters: {'iterations': 1500, 'learning_rate': 0.025659405535096082, 'random_strength': 5, 'bagging_temperature': 10, 'max_bin': 20, 'grow_policy': 'Depthwise', 'min_data_in_leaf': 5, 'max_depth': 7, 'l2_leaf_reg': 12.010977636452957, 'one_hot_max_size': 100, 'auto_class_weights': 'Balanced'}. Best is trial 101 with value: 0.8687214701720496.\u001b[0m\n"
     ]
    },
    {
     "name": "stdout",
     "output_type": "stream",
     "text": [
      "Stopped by overfitting detector  (10 iterations wait)\n"
     ]
    },
    {
     "name": "stderr",
     "output_type": "stream",
     "text": [
      "\u001b[32m[I 2021-07-11 14:27:23,473]\u001b[0m Trial 124 finished with value: 0.866838509405721 and parameters: {'iterations': 1500, 'learning_rate': 0.03520647198565742, 'random_strength': 7, 'bagging_temperature': 10, 'max_bin': 20, 'grow_policy': 'Depthwise', 'min_data_in_leaf': 4, 'max_depth': 6, 'l2_leaf_reg': 8.03601426680628, 'one_hot_max_size': 100, 'auto_class_weights': 'Balanced'}. Best is trial 101 with value: 0.8687214701720496.\u001b[0m\n"
     ]
    },
    {
     "name": "stdout",
     "output_type": "stream",
     "text": [
      "Stopped by overfitting detector  (10 iterations wait)\n"
     ]
    },
    {
     "name": "stderr",
     "output_type": "stream",
     "text": [
      "\u001b[32m[I 2021-07-11 14:27:45,307]\u001b[0m Trial 125 finished with value: 0.8627289683447875 and parameters: {'iterations': 1500, 'learning_rate': 0.011001019768346169, 'random_strength': 5, 'bagging_temperature': 10, 'max_bin': 20, 'grow_policy': 'Depthwise', 'min_data_in_leaf': 5, 'max_depth': 6, 'l2_leaf_reg': 1.8841525139844178e-05, 'one_hot_max_size': 100, 'auto_class_weights': 'Balanced'}. Best is trial 101 with value: 0.8687214701720496.\u001b[0m\n"
     ]
    },
    {
     "name": "stdout",
     "output_type": "stream",
     "text": [
      "Stopped by overfitting detector  (10 iterations wait)\n"
     ]
    },
    {
     "name": "stderr",
     "output_type": "stream",
     "text": [
      "\u001b[32m[I 2021-07-11 14:28:01,167]\u001b[0m Trial 126 finished with value: 0.8674134448817714 and parameters: {'iterations': 1500, 'learning_rate': 0.04064790970238291, 'random_strength': 8, 'bagging_temperature': 10, 'max_bin': 20, 'grow_policy': 'Depthwise', 'min_data_in_leaf': 4, 'max_depth': 7, 'l2_leaf_reg': 51.165341911061, 'one_hot_max_size': 100, 'auto_class_weights': 'Balanced'}. Best is trial 101 with value: 0.8687214701720496.\u001b[0m\n"
     ]
    },
    {
     "name": "stdout",
     "output_type": "stream",
     "text": [
      "Stopped by overfitting detector  (10 iterations wait)\n"
     ]
    },
    {
     "name": "stderr",
     "output_type": "stream",
     "text": [
      "\u001b[32m[I 2021-07-11 14:28:14,725]\u001b[0m Trial 127 finished with value: 0.8673148181566331 and parameters: {'iterations': 1200, 'learning_rate': 0.028466408658285598, 'random_strength': 7, 'bagging_temperature': 9, 'max_bin': 20, 'grow_policy': 'Depthwise', 'min_data_in_leaf': 5, 'max_depth': 6, 'l2_leaf_reg': 14.587593411620286, 'one_hot_max_size': 100, 'auto_class_weights': 'Balanced'}. Best is trial 101 with value: 0.8687214701720496.\u001b[0m\n"
     ]
    },
    {
     "name": "stdout",
     "output_type": "stream",
     "text": [
      "Stopped by overfitting detector  (10 iterations wait)\n"
     ]
    },
    {
     "name": "stderr",
     "output_type": "stream",
     "text": [
      "\u001b[32m[I 2021-07-11 14:28:37,981]\u001b[0m Trial 128 finished with value: 0.8675815562284732 and parameters: {'iterations': 1500, 'learning_rate': 0.021429996336837984, 'random_strength': 6, 'bagging_temperature': 10, 'max_bin': 20, 'grow_policy': 'Depthwise', 'min_data_in_leaf': 5, 'max_depth': 7, 'l2_leaf_reg': 4.951132585139442, 'one_hot_max_size': 100, 'auto_class_weights': 'Balanced'}. Best is trial 101 with value: 0.8687214701720496.\u001b[0m\n"
     ]
    },
    {
     "name": "stdout",
     "output_type": "stream",
     "text": [
      "Stopped by overfitting detector  (10 iterations wait)\n"
     ]
    },
    {
     "name": "stderr",
     "output_type": "stream",
     "text": [
      "\u001b[32m[I 2021-07-11 14:29:13,373]\u001b[0m Trial 129 finished with value: 0.8677262575197385 and parameters: {'iterations': 1500, 'learning_rate': 0.009493202450912619, 'random_strength': 4, 'bagging_temperature': 3, 'max_bin': 20, 'grow_policy': 'Depthwise', 'min_data_in_leaf': 4, 'max_depth': 6, 'l2_leaf_reg': 1.31964571786725, 'one_hot_max_size': 100, 'auto_class_weights': 'Balanced'}. Best is trial 101 with value: 0.8687214701720496.\u001b[0m\n"
     ]
    },
    {
     "name": "stdout",
     "output_type": "stream",
     "text": [
      "Stopped by overfitting detector  (10 iterations wait)\n"
     ]
    },
    {
     "name": "stderr",
     "output_type": "stream",
     "text": [
      "\u001b[32m[I 2021-07-11 14:31:55,172]\u001b[0m Trial 130 finished with value: 0.8670449004559033 and parameters: {'iterations': 1500, 'learning_rate': 0.018108978774915553, 'random_strength': 5, 'bagging_temperature': 8, 'max_bin': 20, 'grow_policy': 'Depthwise', 'min_data_in_leaf': 5, 'max_depth': 8, 'l2_leaf_reg': 10.395260199064245, 'one_hot_max_size': 12, 'auto_class_weights': 'Balanced'}. Best is trial 101 with value: 0.8687214701720496.\u001b[0m\n"
     ]
    },
    {
     "name": "stdout",
     "output_type": "stream",
     "text": [
      "Stopped by overfitting detector  (10 iterations wait)\n"
     ]
    },
    {
     "name": "stderr",
     "output_type": "stream",
     "text": [
      "\u001b[32m[I 2021-07-11 14:32:14,094]\u001b[0m Trial 131 finished with value: 0.8677950171349084 and parameters: {'iterations': 1500, 'learning_rate': 0.025358929921279624, 'random_strength': 6, 'bagging_temperature': 10, 'max_bin': 20, 'grow_policy': 'Depthwise', 'min_data_in_leaf': 5, 'max_depth': 7, 'l2_leaf_reg': 17.835661127823084, 'one_hot_max_size': 100, 'auto_class_weights': 'Balanced'}. Best is trial 101 with value: 0.8687214701720496.\u001b[0m\n"
     ]
    },
    {
     "name": "stdout",
     "output_type": "stream",
     "text": [
      "Stopped by overfitting detector  (10 iterations wait)\n"
     ]
    },
    {
     "name": "stderr",
     "output_type": "stream",
     "text": [
      "\u001b[32m[I 2021-07-11 14:32:31,162]\u001b[0m Trial 132 finished with value: 0.8673845278100243 and parameters: {'iterations': 1500, 'learning_rate': 0.03148442255683674, 'random_strength': 6, 'bagging_temperature': 10, 'max_bin': 20, 'grow_policy': 'Depthwise', 'min_data_in_leaf': 5, 'max_depth': 7, 'l2_leaf_reg': 6.346379636229009, 'one_hot_max_size': 100, 'auto_class_weights': 'Balanced'}. Best is trial 101 with value: 0.8687214701720496.\u001b[0m\n"
     ]
    },
    {
     "name": "stdout",
     "output_type": "stream",
     "text": [
      "Stopped by overfitting detector  (10 iterations wait)\n"
     ]
    },
    {
     "name": "stderr",
     "output_type": "stream",
     "text": [
      "\u001b[32m[I 2021-07-11 14:32:52,463]\u001b[0m Trial 133 finished with value: 0.8687656232077323 and parameters: {'iterations': 1500, 'learning_rate': 0.023550640897908696, 'random_strength': 7, 'bagging_temperature': 9, 'max_bin': 20, 'grow_policy': 'Depthwise', 'min_data_in_leaf': 5, 'max_depth': 7, 'l2_leaf_reg': 33.54417996839204, 'one_hot_max_size': 100, 'auto_class_weights': 'Balanced'}. Best is trial 133 with value: 0.8687656232077323.\u001b[0m\n",
      "\u001b[32m[I 2021-07-11 14:33:35,054]\u001b[0m Trial 134 finished with value: 0.8646547377218134 and parameters: {'iterations': 1500, 'learning_rate': 0.006124993553263905, 'random_strength': 7, 'bagging_temperature': 9, 'max_bin': 20, 'grow_policy': 'Depthwise', 'min_data_in_leaf': 6, 'max_depth': 6, 'l2_leaf_reg': 38.231623902244884, 'one_hot_max_size': 100, 'auto_class_weights': 'Balanced'}. Best is trial 133 with value: 0.8687656232077323.\u001b[0m\n"
     ]
    },
    {
     "name": "stdout",
     "output_type": "stream",
     "text": [
      "Stopped by overfitting detector  (10 iterations wait)\n"
     ]
    },
    {
     "name": "stderr",
     "output_type": "stream",
     "text": [
      "\u001b[32m[I 2021-07-11 14:34:02,137]\u001b[0m Trial 135 finished with value: 0.8679695042928606 and parameters: {'iterations': 1500, 'learning_rate': 0.01760818780764295, 'random_strength': 7, 'bagging_temperature': 9, 'max_bin': 20, 'grow_policy': 'Depthwise', 'min_data_in_leaf': 5, 'max_depth': 6, 'l2_leaf_reg': 66.88036036667454, 'one_hot_max_size': 100, 'auto_class_weights': 'Balanced'}. Best is trial 133 with value: 0.8687656232077323.\u001b[0m\n"
     ]
    },
    {
     "name": "stdout",
     "output_type": "stream",
     "text": [
      "Stopped by overfitting detector  (10 iterations wait)\n"
     ]
    },
    {
     "name": "stderr",
     "output_type": "stream",
     "text": [
      "\u001b[32m[I 2021-07-11 14:34:15,908]\u001b[0m Trial 136 finished with value: 0.866361832155716 and parameters: {'iterations': 1500, 'learning_rate': 0.040473099397200896, 'random_strength': 7, 'bagging_temperature': 9, 'max_bin': 20, 'grow_policy': 'Depthwise', 'min_data_in_leaf': 4, 'max_depth': 7, 'l2_leaf_reg': 8.783011010434922, 'one_hot_max_size': 1024, 'auto_class_weights': 'Balanced'}. Best is trial 133 with value: 0.8687656232077323.\u001b[0m\n"
     ]
    },
    {
     "name": "stdout",
     "output_type": "stream",
     "text": [
      "Stopped by overfitting detector  (10 iterations wait)\n"
     ]
    },
    {
     "name": "stderr",
     "output_type": "stream",
     "text": [
      "\u001b[32m[I 2021-07-11 14:34:55,533]\u001b[0m Trial 137 finished with value: 0.8686019474654041 and parameters: {'iterations': 1500, 'learning_rate': 0.012551211648567682, 'random_strength': 8, 'bagging_temperature': 8, 'max_bin': 5, 'grow_policy': 'Depthwise', 'min_data_in_leaf': 5, 'max_depth': 7, 'l2_leaf_reg': 24.45017094086081, 'one_hot_max_size': 100, 'auto_class_weights': 'Balanced'}. Best is trial 133 with value: 0.8687656232077323.\u001b[0m\n",
      "\u001b[32m[I 2021-07-11 14:35:38,318]\u001b[0m Trial 138 finished with value: 0.8477847518528101 and parameters: {'iterations': 200, 'learning_rate': 0.0022799385334274606, 'random_strength': 8, 'bagging_temperature': 8, 'max_bin': 5, 'grow_policy': 'Depthwise', 'min_data_in_leaf': 6, 'max_depth': 7, 'l2_leaf_reg': 29.041452518985505, 'one_hot_max_size': 5, 'auto_class_weights': 'Balanced'}. Best is trial 133 with value: 0.8687656232077323.\u001b[0m\n",
      "\u001b[32m[I 2021-07-11 14:36:00,331]\u001b[0m Trial 139 finished with value: 0.8617984797766993 and parameters: {'iterations': 500, 'learning_rate': 0.012479286987711061, 'random_strength': 8, 'bagging_temperature': 9, 'max_bin': 5, 'grow_policy': 'Depthwise', 'min_data_in_leaf': 5, 'max_depth': 8, 'l2_leaf_reg': 86.43153275168238, 'one_hot_max_size': 100, 'auto_class_weights': 'Balanced'}. Best is trial 133 with value: 0.8687656232077323.\u001b[0m\n"
     ]
    },
    {
     "name": "stdout",
     "output_type": "stream",
     "text": [
      "Stopped by overfitting detector  (10 iterations wait)\n"
     ]
    },
    {
     "name": "stderr",
     "output_type": "stream",
     "text": [
      "\u001b[32m[I 2021-07-11 14:36:38,684]\u001b[0m Trial 140 finished with value: 0.8681893691798097 and parameters: {'iterations': 1500, 'learning_rate': 0.013719070184901122, 'random_strength': 9, 'bagging_temperature': 8, 'max_bin': 5, 'grow_policy': 'Depthwise', 'min_data_in_leaf': 6, 'max_depth': 7, 'l2_leaf_reg': 41.83037135525353, 'one_hot_max_size': 100, 'auto_class_weights': 'Balanced'}. Best is trial 133 with value: 0.8687656232077323.\u001b[0m\n"
     ]
    },
    {
     "name": "stdout",
     "output_type": "stream",
     "text": [
      "Stopped by overfitting detector  (10 iterations wait)\n"
     ]
    },
    {
     "name": "stderr",
     "output_type": "stream",
     "text": [
      "\u001b[32m[I 2021-07-11 14:37:12,105]\u001b[0m Trial 141 finished with value: 0.8679454286729257 and parameters: {'iterations': 1500, 'learning_rate': 0.014604380366437507, 'random_strength': 9, 'bagging_temperature': 8, 'max_bin': 5, 'grow_policy': 'Depthwise', 'min_data_in_leaf': 6, 'max_depth': 7, 'l2_leaf_reg': 47.595722157124634, 'one_hot_max_size': 100, 'auto_class_weights': 'Balanced'}. Best is trial 133 with value: 0.8687656232077323.\u001b[0m\n",
      "\u001b[32m[I 2021-07-11 14:38:04,661]\u001b[0m Trial 142 finished with value: 0.8637403885406048 and parameters: {'iterations': 1500, 'learning_rate': 0.005370366882944338, 'random_strength': 10, 'bagging_temperature': 8, 'max_bin': 5, 'grow_policy': 'Depthwise', 'min_data_in_leaf': 6, 'max_depth': 7, 'l2_leaf_reg': 20.059094152616424, 'one_hot_max_size': 100, 'auto_class_weights': 'Balanced'}. Best is trial 133 with value: 0.8687656232077323.\u001b[0m\n"
     ]
    },
    {
     "name": "stdout",
     "output_type": "stream",
     "text": [
      "Stopped by overfitting detector  (10 iterations wait)\n"
     ]
    },
    {
     "name": "stderr",
     "output_type": "stream",
     "text": [
      "\u001b[32m[I 2021-07-11 14:38:24,422]\u001b[0m Trial 143 finished with value: 0.868470931026373 and parameters: {'iterations': 1500, 'learning_rate': 0.028093420221263644, 'random_strength': 9, 'bagging_temperature': 9, 'max_bin': 5, 'grow_policy': 'Depthwise', 'min_data_in_leaf': 6, 'max_depth': 7, 'l2_leaf_reg': 31.12736020209049, 'one_hot_max_size': 100, 'auto_class_weights': 'Balanced'}. Best is trial 133 with value: 0.8687656232077323.\u001b[0m\n"
     ]
    },
    {
     "name": "stdout",
     "output_type": "stream",
     "text": [
      "Stopped by overfitting detector  (10 iterations wait)\n"
     ]
    },
    {
     "name": "stderr",
     "output_type": "stream",
     "text": [
      "\u001b[32m[I 2021-07-11 14:38:45,361]\u001b[0m Trial 144 finished with value: 0.8677188478075459 and parameters: {'iterations': 1500, 'learning_rate': 0.03020540106749646, 'random_strength': 9, 'bagging_temperature': 8, 'max_bin': 5, 'grow_policy': 'Depthwise', 'min_data_in_leaf': 6, 'max_depth': 7, 'l2_leaf_reg': 93.14602764384385, 'one_hot_max_size': 100, 'auto_class_weights': 'Balanced'}. Best is trial 133 with value: 0.8687656232077323.\u001b[0m\n"
     ]
    },
    {
     "name": "stdout",
     "output_type": "stream",
     "text": [
      "Stopped by overfitting detector  (10 iterations wait)\n"
     ]
    },
    {
     "name": "stderr",
     "output_type": "stream",
     "text": [
      "\u001b[32m[I 2021-07-11 14:39:25,343]\u001b[0m Trial 145 finished with value: 0.8684811074965257 and parameters: {'iterations': 1500, 'learning_rate': 0.012337200927468692, 'random_strength': 10, 'bagging_temperature': 9, 'max_bin': 5, 'grow_policy': 'Depthwise', 'min_data_in_leaf': 6, 'max_depth': 7, 'l2_leaf_reg': 35.51792719573779, 'one_hot_max_size': 100, 'auto_class_weights': 'Balanced'}. Best is trial 133 with value: 0.8687656232077323.\u001b[0m\n"
     ]
    },
    {
     "name": "stdout",
     "output_type": "stream",
     "text": [
      "Stopped by overfitting detector  (10 iterations wait)\n"
     ]
    },
    {
     "name": "stderr",
     "output_type": "stream",
     "text": [
      "\u001b[32m[I 2021-07-11 14:40:10,051]\u001b[0m Trial 146 finished with value: 0.8683716495603724 and parameters: {'iterations': 1500, 'learning_rate': 0.01156267614267728, 'random_strength': 8, 'bagging_temperature': 9, 'max_bin': 5, 'grow_policy': 'Depthwise', 'min_data_in_leaf': 6, 'max_depth': 7, 'l2_leaf_reg': 24.41066215370468, 'one_hot_max_size': 100, 'auto_class_weights': 'Balanced'}. Best is trial 133 with value: 0.8687656232077323.\u001b[0m\n",
      "\u001b[32m[I 2021-07-11 14:41:04,123]\u001b[0m Trial 147 finished with value: 0.8576223856765426 and parameters: {'iterations': 1500, 'learning_rate': 0.0020885746892599054, 'random_strength': 10, 'bagging_temperature': 9, 'max_bin': 5, 'grow_policy': 'Depthwise', 'min_data_in_leaf': 6, 'max_depth': 7, 'l2_leaf_reg': 32.85533882324505, 'one_hot_max_size': 100, 'auto_class_weights': 'Balanced'}. Best is trial 133 with value: 0.8687656232077323.\u001b[0m\n"
     ]
    },
    {
     "name": "stdout",
     "output_type": "stream",
     "text": [
      "Stopped by overfitting detector  (10 iterations wait)\n"
     ]
    },
    {
     "name": "stderr",
     "output_type": "stream",
     "text": [
      "\u001b[32m[I 2021-07-11 14:42:05,993]\u001b[0m Trial 148 finished with value: 0.8685450672114804 and parameters: {'iterations': 1500, 'learning_rate': 0.010060877429154829, 'random_strength': 9, 'bagging_temperature': 9, 'max_bin': 5, 'grow_policy': 'Depthwise', 'min_data_in_leaf': 6, 'max_depth': 8, 'l2_leaf_reg': 53.491735890887234, 'one_hot_max_size': 100, 'auto_class_weights': 'Balanced'}. Best is trial 133 with value: 0.8687656232077323.\u001b[0m\n",
      "\u001b[32m[I 2021-07-11 14:44:17,793]\u001b[0m Trial 149 finished with value: 0.8548038937085367 and parameters: {'iterations': 1500, 'learning_rate': 0.0011593505305876224, 'random_strength': 9, 'bagging_temperature': 9, 'max_bin': 5, 'grow_policy': 'Depthwise', 'min_data_in_leaf': 7, 'max_depth': 9, 'l2_leaf_reg': 63.13050756532051, 'one_hot_max_size': 100, 'auto_class_weights': 'Balanced'}. Best is trial 133 with value: 0.8687656232077323.\u001b[0m\n"
     ]
    }
   ],
   "source": [
    "sampler = optuna.samplers.TPESampler(seed=42)\n",
    "study = optuna.create_study(direction=\"maximize\", sampler=sampler)\n",
    "study.optimize(objective, n_trials=150)"
   ]
  },
  {
   "cell_type": "code",
   "execution_count": 21,
   "metadata": {},
   "outputs": [
    {
     "data": {
      "text/plain": [
       "{'iterations': 1500,\n",
       " 'learning_rate': 0.023550640897908696,\n",
       " 'random_strength': 7,\n",
       " 'bagging_temperature': 9,\n",
       " 'max_bin': 20,\n",
       " 'grow_policy': 'Depthwise',\n",
       " 'min_data_in_leaf': 5,\n",
       " 'max_depth': 7,\n",
       " 'l2_leaf_reg': 33.54417996839204,\n",
       " 'one_hot_max_size': 100,\n",
       " 'auto_class_weights': 'Balanced'}"
      ]
     },
     "execution_count": 21,
     "metadata": {},
     "output_type": "execute_result"
    }
   ],
   "source": [
    "trial = study.best_trial\n",
    "final_model = CatBoostClassifier(verbose=False,  cat_features=categorical_features_indices, \n",
    "                          **trial.params)\n",
    "\n",
    "final_model.fit(X_train, y_train)\n",
    "\n",
    "final_h1n1_model = final_model\n",
    "trial.params"
   ]
  },
  {
   "cell_type": "code",
   "execution_count": 55,
   "metadata": {},
   "outputs": [],
   "source": [
    "#params = trial.params\n",
    "final_h1n1_model = CatBoostClassifier(cat_features=categorical_features_indices,\n",
    "                                     verbose=False,\n",
    "                                     iterations=1500,\n",
    "                                     learning_rate=0.023550640897908696,\n",
    "                                     random_strength=7,\n",
    "                                     bagging_temperature=9,\n",
    "                                     max_bin=20,\n",
    "                                     grow_policy='Depthwise',\n",
    "                                     min_data_in_leaf=5,\n",
    "                                     max_depth=7,\n",
    "                                     l2_leaf_reg=33.54417996839204,\n",
    "                                     one_hot_max_size=100,\n",
    "                                     auto_class_weights='Balanced').fit(h1n1_train_trans, h1n1_labels)"
   ]
  },
  {
   "cell_type": "markdown",
   "metadata": {},
   "source": [
    "# Seasonal"
   ]
  },
  {
   "cell_type": "markdown",
   "metadata": {},
   "source": [
    "## Catboost and Optuna"
   ]
  },
  {
   "cell_type": "code",
   "execution_count": 23,
   "metadata": {},
   "outputs": [],
   "source": [
    "X = seas_train_trans\n",
    "y = seas_labels"
   ]
  },
  {
   "cell_type": "code",
   "execution_count": 24,
   "metadata": {},
   "outputs": [],
   "source": [
    "X_train, X_test, y_train, y_test = train_test_split(X, y, test_size=0.3, random_state=42, shuffle=True)"
   ]
  },
  {
   "cell_type": "code",
   "execution_count": 25,
   "metadata": {},
   "outputs": [],
   "source": [
    "from catboost import CatBoostClassifier\n",
    "from catboost import Pool, cv\n",
    "from sklearn.metrics import roc_curve, roc_auc_score\n",
    "import optuna"
   ]
  },
  {
   "cell_type": "code",
   "execution_count": 26,
   "metadata": {},
   "outputs": [],
   "source": [
    "train_dataset = Pool(data=X_train,\n",
    "                    label=y_train,\n",
    "                    cat_features=categorical_features_indices)"
   ]
  },
  {
   "cell_type": "code",
   "execution_count": 27,
   "metadata": {},
   "outputs": [],
   "source": [
    "def objective(trial):\n",
    "    param = {\n",
    "        'iterations':trial.suggest_categorical('iterations', [100,200,300,500,1000,1200,1500]),\n",
    "        'learning_rate':trial.suggest_float(\"learning_rate\", 0.001, 0.3),\n",
    "        'random_strength':trial.suggest_int(\"random_strength\", 1,10),\n",
    "        'bagging_temperature':trial.suggest_int(\"bagging_temperature\", 0,10),\n",
    "        'max_bin':trial.suggest_categorical('max_bin', [4,5,6,8,10,20,30]),\n",
    "        'grow_policy':trial.suggest_categorical('grow_policy', ['SymmetricTree', 'Depthwise', 'Lossguide']),\n",
    "        'min_data_in_leaf':trial.suggest_int(\"min_data_in_leaf\", 1,10),\n",
    "        'od_type' : \"Iter\",\n",
    "        'od_wait' : 100,\n",
    "        \"depth\": trial.suggest_int(\"max_depth\", 2,10),\n",
    "        \"l2_leaf_reg\": trial.suggest_loguniform(\"l2_leaf_reg\", 1e-8, 100),\n",
    "         'one_hot_max_size':trial.suggest_categorical('one_hot_max_size', [5,10,12,100,500,1024]),\n",
    "        'custom_metric' : ['AUC'],\n",
    "        \"loss_function\": \"Logloss\",\n",
    "        'auto_class_weights':trial.suggest_categorical('auto_class_weights', ['Balanced', 'SqrtBalanced']),\n",
    "        }\n",
    "\n",
    "    scores = cv(train_dataset,\n",
    "            param,\n",
    "            fold_count=5, \n",
    "            early_stopping_rounds=10,         \n",
    "            plot=False, verbose=False)\n",
    "\n",
    "    return scores['test-AUC-mean'].max()"
   ]
  },
  {
   "cell_type": "code",
   "execution_count": 28,
   "metadata": {
    "scrolled": true
   },
   "outputs": [
    {
     "name": "stderr",
     "output_type": "stream",
     "text": [
      "\u001b[32m[I 2021-07-11 14:44:49,455]\u001b[0m A new study created in memory with name: no-name-d8964684-0ad6-4adf-88ec-45868c635ef6\u001b[0m\n"
     ]
    },
    {
     "name": "stdout",
     "output_type": "stream",
     "text": [
      "Stopped by overfitting detector  (10 iterations wait)\n"
     ]
    },
    {
     "name": "stderr",
     "output_type": "stream",
     "text": [
      "\u001b[32m[I 2021-07-11 14:45:05,219]\u001b[0m Trial 0 finished with value: 0.8583742618609793 and parameters: {'iterations': 200, 'learning_rate': 0.25998666758670563, 'random_strength': 7, 'bagging_temperature': 7, 'max_bin': 5, 'grow_policy': 'SymmetricTree', 'min_data_in_leaf': 7, 'max_depth': 3, 'l2_leaf_reg': 8.345387083873532e-06, 'one_hot_max_size': 12, 'auto_class_weights': 'SqrtBalanced'}. Best is trial 0 with value: 0.8583742618609793.\u001b[0m\n"
     ]
    },
    {
     "name": "stdout",
     "output_type": "stream",
     "text": [
      "Stopped by overfitting detector  (10 iterations wait)\n"
     ]
    },
    {
     "name": "stderr",
     "output_type": "stream",
     "text": [
      "\u001b[32m[I 2021-07-11 14:46:53,461]\u001b[0m Trial 1 finished with value: 0.8569515978099013 and parameters: {'iterations': 500, 'learning_rate': 0.2055856749271349, 'random_strength': 5, 'bagging_temperature': 1, 'max_bin': 6, 'grow_policy': 'Lossguide', 'min_data_in_leaf': 8, 'max_depth': 10, 'l2_leaf_reg': 8.8771488946556, 'one_hot_max_size': 10, 'auto_class_weights': 'Balanced'}. Best is trial 0 with value: 0.8583742618609793.\u001b[0m\n",
      "\u001b[32m[I 2021-07-11 14:46:57,538]\u001b[0m Trial 2 finished with value: 0.856828623284841 and parameters: {'iterations': 100, 'learning_rate': 0.29607919404355465, 'random_strength': 8, 'bagging_temperature': 2, 'max_bin': 5, 'grow_policy': 'Depthwise', 'min_data_in_leaf': 4, 'max_depth': 2, 'l2_leaf_reg': 1.2877252667142128e-05, 'one_hot_max_size': 100, 'auto_class_weights': 'SqrtBalanced'}. Best is trial 0 with value: 0.8583742618609793.\u001b[0m\n",
      "\u001b[32m[I 2021-07-11 14:47:11,921]\u001b[0m Trial 3 finished with value: 0.8423773546508091 and parameters: {'iterations': 200, 'learning_rate': 0.010397326520333542, 'random_strength': 7, 'bagging_temperature': 3, 'max_bin': 5, 'grow_policy': 'Lossguide', 'min_data_in_leaf': 9, 'max_depth': 7, 'l2_leaf_reg': 5.1832947024610565, 'one_hot_max_size': 1024, 'auto_class_weights': 'Balanced'}. Best is trial 0 with value: 0.8583742618609793.\u001b[0m\n",
      "\u001b[32m[I 2021-07-11 14:47:33,017]\u001b[0m Trial 4 finished with value: 0.8595565627983675 and parameters: {'iterations': 500, 'learning_rate': 0.06741023533074834, 'random_strength': 2, 'bagging_temperature': 3, 'max_bin': 20, 'grow_policy': 'Depthwise', 'min_data_in_leaf': 3, 'max_depth': 2, 'l2_leaf_reg': 0.012463595329542002, 'one_hot_max_size': 100, 'auto_class_weights': 'SqrtBalanced'}. Best is trial 4 with value: 0.8595565627983675.\u001b[0m\n"
     ]
    },
    {
     "name": "stdout",
     "output_type": "stream",
     "text": [
      "Stopped by overfitting detector  (10 iterations wait)\n"
     ]
    },
    {
     "name": "stderr",
     "output_type": "stream",
     "text": [
      "\u001b[32m[I 2021-07-11 14:49:03,166]\u001b[0m Trial 5 finished with value: 0.8531697795061781 and parameters: {'iterations': 300, 'learning_rate': 0.1904253835175075, 'random_strength': 6, 'bagging_temperature': 0, 'max_bin': 4, 'grow_policy': 'Lossguide', 'min_data_in_leaf': 2, 'max_depth': 8, 'l2_leaf_reg': 7.36806524628614e-05, 'one_hot_max_size': 5, 'auto_class_weights': 'SqrtBalanced'}. Best is trial 4 with value: 0.8595565627983675.\u001b[0m\n"
     ]
    },
    {
     "name": "stdout",
     "output_type": "stream",
     "text": [
      "Stopped by overfitting detector  (10 iterations wait)\n"
     ]
    },
    {
     "name": "stderr",
     "output_type": "stream",
     "text": [
      "\u001b[32m[I 2021-07-11 14:49:08,206]\u001b[0m Trial 6 finished with value: 0.8436590475442461 and parameters: {'iterations': 1500, 'learning_rate': 0.1902973357247071, 'random_strength': 4, 'bagging_temperature': 3, 'max_bin': 5, 'grow_policy': 'SymmetricTree', 'min_data_in_leaf': 2, 'max_depth': 7, 'l2_leaf_reg': 1.123610628030388e-08, 'one_hot_max_size': 1024, 'auto_class_weights': 'SqrtBalanced'}. Best is trial 4 with value: 0.8595565627983675.\u001b[0m\n"
     ]
    },
    {
     "name": "stdout",
     "output_type": "stream",
     "text": [
      "Stopped by overfitting detector  (10 iterations wait)\n"
     ]
    },
    {
     "name": "stderr",
     "output_type": "stream",
     "text": [
      "\u001b[32m[I 2021-07-11 14:49:36,867]\u001b[0m Trial 7 finished with value: 0.8528441466722686 and parameters: {'iterations': 300, 'learning_rate': 0.0802955079368359, 'random_strength': 3, 'bagging_temperature': 10, 'max_bin': 5, 'grow_policy': 'Depthwise', 'min_data_in_leaf': 1, 'max_depth': 7, 'l2_leaf_reg': 5.903462299000416e-07, 'one_hot_max_size': 10, 'auto_class_weights': 'SqrtBalanced'}. Best is trial 4 with value: 0.8595565627983675.\u001b[0m\n",
      "\u001b[32m[I 2021-07-11 14:49:52,991]\u001b[0m Trial 8 finished with value: 0.8584819048218068 and parameters: {'iterations': 100, 'learning_rate': 0.1674835774750467, 'random_strength': 10, 'bagging_temperature': 7, 'max_bin': 8, 'grow_policy': 'SymmetricTree', 'min_data_in_leaf': 4, 'max_depth': 4, 'l2_leaf_reg': 1.2405422353160507, 'one_hot_max_size': 12, 'auto_class_weights': 'SqrtBalanced'}. Best is trial 4 with value: 0.8595565627983675.\u001b[0m\n",
      "\u001b[32m[I 2021-07-11 14:50:00,305]\u001b[0m Trial 9 finished with value: 0.8574741025574187 and parameters: {'iterations': 200, 'learning_rate': 0.14021380742160558, 'random_strength': 6, 'bagging_temperature': 3, 'max_bin': 8, 'grow_policy': 'SymmetricTree', 'min_data_in_leaf': 1, 'max_depth': 2, 'l2_leaf_reg': 0.00205847840690845, 'one_hot_max_size': 100, 'auto_class_weights': 'Balanced'}. Best is trial 4 with value: 0.8595565627983675.\u001b[0m\n",
      "\u001b[32m[I 2021-07-11 14:51:19,388]\u001b[0m Trial 10 finished with value: 0.8560089038756367 and parameters: {'iterations': 1200, 'learning_rate': 0.0025910756245724753, 'random_strength': 1, 'bagging_temperature': 6, 'max_bin': 20, 'grow_policy': 'Depthwise', 'min_data_in_leaf': 5, 'max_depth': 5, 'l2_leaf_reg': 0.034248888765990956, 'one_hot_max_size': 500, 'auto_class_weights': 'SqrtBalanced'}. Best is trial 4 with value: 0.8595565627983675.\u001b[0m\n",
      "\u001b[32m[I 2021-07-11 14:51:34,057]\u001b[0m Trial 11 finished with value: 0.8524382205822455 and parameters: {'iterations': 100, 'learning_rate': 0.09268010420984156, 'random_strength': 10, 'bagging_temperature': 8, 'max_bin': 30, 'grow_policy': 'SymmetricTree', 'min_data_in_leaf': 4, 'max_depth': 4, 'l2_leaf_reg': 0.19672230769990914, 'one_hot_max_size': 12, 'auto_class_weights': 'SqrtBalanced'}. Best is trial 4 with value: 0.8595565627983675.\u001b[0m\n"
     ]
    },
    {
     "name": "stdout",
     "output_type": "stream",
     "text": [
      "Stopped by overfitting detector  (10 iterations wait)\n"
     ]
    },
    {
     "name": "stderr",
     "output_type": "stream",
     "text": [
      "\u001b[32m[I 2021-07-11 14:51:52,896]\u001b[0m Trial 12 finished with value: 0.8608654780287754 and parameters: {'iterations': 500, 'learning_rate': 0.07100026130069469, 'random_strength': 1, 'bagging_temperature': 5, 'max_bin': 8, 'grow_policy': 'Depthwise', 'min_data_in_leaf': 3, 'max_depth': 4, 'l2_leaf_reg': 92.81185245518641, 'one_hot_max_size': 100, 'auto_class_weights': 'SqrtBalanced'}. Best is trial 12 with value: 0.8608654780287754.\u001b[0m\n",
      "\u001b[32m[I 2021-07-11 14:52:15,208]\u001b[0m Trial 13 finished with value: 0.8591896941350502 and parameters: {'iterations': 500, 'learning_rate': 0.055098221384655366, 'random_strength': 1, 'bagging_temperature': 5, 'max_bin': 10, 'grow_policy': 'Depthwise', 'min_data_in_leaf': 3, 'max_depth': 2, 'l2_leaf_reg': 0.008419368203139124, 'one_hot_max_size': 100, 'auto_class_weights': 'SqrtBalanced'}. Best is trial 12 with value: 0.8608654780287754.\u001b[0m\n"
     ]
    },
    {
     "name": "stdout",
     "output_type": "stream",
     "text": [
      "Stopped by overfitting detector  (10 iterations wait)\n"
     ]
    },
    {
     "name": "stderr",
     "output_type": "stream",
     "text": [
      "\u001b[32m[I 2021-07-11 14:52:41,579]\u001b[0m Trial 14 finished with value: 0.861252945640367 and parameters: {'iterations': 500, 'learning_rate': 0.04275243092238963, 'random_strength': 2, 'bagging_temperature': 4, 'max_bin': 20, 'grow_policy': 'Depthwise', 'min_data_in_leaf': 6, 'max_depth': 4, 'l2_leaf_reg': 50.71159518136317, 'one_hot_max_size': 100, 'auto_class_weights': 'SqrtBalanced'}. Best is trial 14 with value: 0.861252945640367.\u001b[0m\n"
     ]
    },
    {
     "name": "stdout",
     "output_type": "stream",
     "text": [
      "Stopped by overfitting detector  (10 iterations wait)\n"
     ]
    },
    {
     "name": "stderr",
     "output_type": "stream",
     "text": [
      "\u001b[32m[I 2021-07-11 14:53:18,530]\u001b[0m Trial 15 finished with value: 0.8618081449767383 and parameters: {'iterations': 1000, 'learning_rate': 0.03253139575383227, 'random_strength': 2, 'bagging_temperature': 5, 'max_bin': 8, 'grow_policy': 'Depthwise', 'min_data_in_leaf': 6, 'max_depth': 5, 'l2_leaf_reg': 54.675186499005726, 'one_hot_max_size': 100, 'auto_class_weights': 'SqrtBalanced'}. Best is trial 15 with value: 0.8618081449767383.\u001b[0m\n"
     ]
    },
    {
     "name": "stdout",
     "output_type": "stream",
     "text": [
      "Stopped by overfitting detector  (10 iterations wait)\n"
     ]
    },
    {
     "name": "stderr",
     "output_type": "stream",
     "text": [
      "\u001b[32m[I 2021-07-11 14:53:50,106]\u001b[0m Trial 16 finished with value: 0.8610455017099774 and parameters: {'iterations': 1000, 'learning_rate': 0.03401243718445137, 'random_strength': 3, 'bagging_temperature': 4, 'max_bin': 20, 'grow_policy': 'Depthwise', 'min_data_in_leaf': 6, 'max_depth': 5, 'l2_leaf_reg': 41.67913694121096, 'one_hot_max_size': 100, 'auto_class_weights': 'SqrtBalanced'}. Best is trial 15 with value: 0.8618081449767383.\u001b[0m\n"
     ]
    },
    {
     "name": "stdout",
     "output_type": "stream",
     "text": [
      "Stopped by overfitting detector  (10 iterations wait)\n"
     ]
    },
    {
     "name": "stderr",
     "output_type": "stream",
     "text": [
      "\u001b[32m[I 2021-07-11 14:54:22,702]\u001b[0m Trial 17 finished with value: 0.8592295716032525 and parameters: {'iterations': 1000, 'learning_rate': 0.10058587760779017, 'random_strength': 3, 'bagging_temperature': 10, 'max_bin': 20, 'grow_policy': 'Depthwise', 'min_data_in_leaf': 10, 'max_depth': 6, 'l2_leaf_reg': 0.5161882811146493, 'one_hot_max_size': 5, 'auto_class_weights': 'Balanced'}. Best is trial 15 with value: 0.8618081449767383.\u001b[0m\n"
     ]
    },
    {
     "name": "stdout",
     "output_type": "stream",
     "text": [
      "Stopped by overfitting detector  (10 iterations wait)\n"
     ]
    },
    {
     "name": "stderr",
     "output_type": "stream",
     "text": [
      "\u001b[32m[I 2021-07-11 14:54:32,835]\u001b[0m Trial 18 finished with value: 0.8605902719125332 and parameters: {'iterations': 1000, 'learning_rate': 0.12413376492618766, 'random_strength': 2, 'bagging_temperature': 8, 'max_bin': 8, 'grow_policy': 'Depthwise', 'min_data_in_leaf': 6, 'max_depth': 5, 'l2_leaf_reg': 70.6933095878733, 'one_hot_max_size': 500, 'auto_class_weights': 'SqrtBalanced'}. Best is trial 15 with value: 0.8618081449767383.\u001b[0m\n"
     ]
    },
    {
     "name": "stdout",
     "output_type": "stream",
     "text": [
      "Stopped by overfitting detector  (10 iterations wait)\n"
     ]
    },
    {
     "name": "stderr",
     "output_type": "stream",
     "text": [
      "\u001b[32m[I 2021-07-11 14:55:21,872]\u001b[0m Trial 19 finished with value: 0.86053297733308 and parameters: {'iterations': 1200, 'learning_rate': 0.029954286624498495, 'random_strength': 4, 'bagging_temperature': 6, 'max_bin': 10, 'grow_policy': 'Depthwise', 'min_data_in_leaf': 7, 'max_depth': 3, 'l2_leaf_reg': 11.45923575445267, 'one_hot_max_size': 100, 'auto_class_weights': 'SqrtBalanced'}. Best is trial 15 with value: 0.8618081449767383.\u001b[0m\n",
      "\u001b[32m[I 2021-07-11 14:59:22,635]\u001b[0m Trial 20 finished with value: 0.8556019092040781 and parameters: {'iterations': 1000, 'learning_rate': 0.00226024705834299, 'random_strength': 2, 'bagging_temperature': 4, 'max_bin': 6, 'grow_policy': 'Depthwise', 'min_data_in_leaf': 7, 'max_depth': 9, 'l2_leaf_reg': 0.13105738354997065, 'one_hot_max_size': 100, 'auto_class_weights': 'Balanced'}. Best is trial 15 with value: 0.8618081449767383.\u001b[0m\n"
     ]
    },
    {
     "name": "stdout",
     "output_type": "stream",
     "text": [
      "Stopped by overfitting detector  (10 iterations wait)\n"
     ]
    },
    {
     "name": "stderr",
     "output_type": "stream",
     "text": [
      "\u001b[32m[I 2021-07-11 14:59:58,733]\u001b[0m Trial 21 finished with value: 0.8610868457886633 and parameters: {'iterations': 1000, 'learning_rate': 0.04151178319185394, 'random_strength': 3, 'bagging_temperature': 4, 'max_bin': 20, 'grow_policy': 'Depthwise', 'min_data_in_leaf': 6, 'max_depth': 5, 'l2_leaf_reg': 47.96844656348395, 'one_hot_max_size': 100, 'auto_class_weights': 'SqrtBalanced'}. Best is trial 15 with value: 0.8618081449767383.\u001b[0m\n"
     ]
    },
    {
     "name": "stdout",
     "output_type": "stream",
     "text": [
      "Stopped by overfitting detector  (10 iterations wait)\n"
     ]
    },
    {
     "name": "stderr",
     "output_type": "stream",
     "text": [
      "\u001b[32m[I 2021-07-11 15:00:29,433]\u001b[0m Trial 22 finished with value: 0.8608592716734649 and parameters: {'iterations': 1000, 'learning_rate': 0.041380680537478357, 'random_strength': 4, 'bagging_temperature': 4, 'max_bin': 20, 'grow_policy': 'Depthwise', 'min_data_in_leaf': 5, 'max_depth': 6, 'l2_leaf_reg': 1.6818170049196126, 'one_hot_max_size': 100, 'auto_class_weights': 'SqrtBalanced'}. Best is trial 15 with value: 0.8618081449767383.\u001b[0m\n"
     ]
    },
    {
     "name": "stdout",
     "output_type": "stream",
     "text": [
      "Stopped by overfitting detector  (10 iterations wait)\n"
     ]
    },
    {
     "name": "stderr",
     "output_type": "stream",
     "text": [
      "\u001b[32m[I 2021-07-11 15:01:38,420]\u001b[0m Trial 23 finished with value: 0.8617395596326614 and parameters: {'iterations': 1500, 'learning_rate': 0.020146239686416448, 'random_strength': 2, 'bagging_temperature': 6, 'max_bin': 30, 'grow_policy': 'Depthwise', 'min_data_in_leaf': 8, 'max_depth': 5, 'l2_leaf_reg': 80.44142362031654, 'one_hot_max_size': 100, 'auto_class_weights': 'SqrtBalanced'}. Best is trial 15 with value: 0.8618081449767383.\u001b[0m\n"
     ]
    },
    {
     "name": "stdout",
     "output_type": "stream",
     "text": [
      "Stopped by overfitting detector  (10 iterations wait)\n"
     ]
    },
    {
     "name": "stderr",
     "output_type": "stream",
     "text": [
      "\u001b[32m[I 2021-07-11 15:02:55,636]\u001b[0m Trial 24 finished with value: 0.8608259329101836 and parameters: {'iterations': 1500, 'learning_rate': 0.01999190484176761, 'random_strength': 2, 'bagging_temperature': 6, 'max_bin': 30, 'grow_policy': 'Depthwise', 'min_data_in_leaf': 8, 'max_depth': 3, 'l2_leaf_reg': 90.80659072498722, 'one_hot_max_size': 100, 'auto_class_weights': 'SqrtBalanced'}. Best is trial 15 with value: 0.8618081449767383.\u001b[0m\n"
     ]
    },
    {
     "name": "stdout",
     "output_type": "stream",
     "text": [
      "Stopped by overfitting detector  (10 iterations wait)\n"
     ]
    },
    {
     "name": "stderr",
     "output_type": "stream",
     "text": [
      "\u001b[32m[I 2021-07-11 15:03:10,938]\u001b[0m Trial 25 finished with value: 0.8603745885320638 and parameters: {'iterations': 1500, 'learning_rate': 0.10715158120834843, 'random_strength': 1, 'bagging_temperature': 7, 'max_bin': 30, 'grow_policy': 'Depthwise', 'min_data_in_leaf': 9, 'max_depth': 4, 'l2_leaf_reg': 8.741128733460885, 'one_hot_max_size': 100, 'auto_class_weights': 'SqrtBalanced'}. Best is trial 15 with value: 0.8618081449767383.\u001b[0m\n",
      "\u001b[32m[I 2021-07-11 15:27:56,549]\u001b[0m Trial 26 finished with value: 0.8579007835081252 and parameters: {'iterations': 1500, 'learning_rate': 0.003345183797422213, 'random_strength': 2, 'bagging_temperature': 5, 'max_bin': 4, 'grow_policy': 'Lossguide', 'min_data_in_leaf': 8, 'max_depth': 6, 'l2_leaf_reg': 2.7636143333662027, 'one_hot_max_size': 10, 'auto_class_weights': 'SqrtBalanced'}. Best is trial 15 with value: 0.8618081449767383.\u001b[0m\n"
     ]
    },
    {
     "name": "stdout",
     "output_type": "stream",
     "text": [
      "Stopped by overfitting detector  (10 iterations wait)\n"
     ]
    },
    {
     "name": "stderr",
     "output_type": "stream",
     "text": [
      "\u001b[32m[I 2021-07-11 15:28:17,407]\u001b[0m Trial 27 finished with value: 0.8611826109757882 and parameters: {'iterations': 500, 'learning_rate': 0.05977762697997846, 'random_strength': 5, 'bagging_temperature': 8, 'max_bin': 30, 'grow_policy': 'Depthwise', 'min_data_in_leaf': 10, 'max_depth': 5, 'l2_leaf_reg': 25.205241224402595, 'one_hot_max_size': 500, 'auto_class_weights': 'SqrtBalanced'}. Best is trial 15 with value: 0.8618081449767383.\u001b[0m\n"
     ]
    },
    {
     "name": "stdout",
     "output_type": "stream",
     "text": [
      "Stopped by overfitting detector  (10 iterations wait)\n"
     ]
    },
    {
     "name": "stderr",
     "output_type": "stream",
     "text": [
      "\u001b[32m[I 2021-07-11 15:30:04,119]\u001b[0m Trial 28 finished with value: 0.860850069762631 and parameters: {'iterations': 1500, 'learning_rate': 0.022300637385001043, 'random_strength': 1, 'bagging_temperature': 2, 'max_bin': 8, 'grow_policy': 'Depthwise', 'min_data_in_leaf': 9, 'max_depth': 3, 'l2_leaf_reg': 0.3321508412521465, 'one_hot_max_size': 5, 'auto_class_weights': 'SqrtBalanced'}. Best is trial 15 with value: 0.8618081449767383.\u001b[0m\n"
     ]
    },
    {
     "name": "stdout",
     "output_type": "stream",
     "text": [
      "Stopped by overfitting detector  (10 iterations wait)\n"
     ]
    },
    {
     "name": "stderr",
     "output_type": "stream",
     "text": [
      "\u001b[32m[I 2021-07-11 15:30:25,568]\u001b[0m Trial 29 finished with value: 0.8597198688456608 and parameters: {'iterations': 1500, 'learning_rate': 0.04683177493368455, 'random_strength': 4, 'bagging_temperature': 6, 'max_bin': 30, 'grow_policy': 'Depthwise', 'min_data_in_leaf': 7, 'max_depth': 4, 'l2_leaf_reg': 0.00044178487262611966, 'one_hot_max_size': 1024, 'auto_class_weights': 'SqrtBalanced'}. Best is trial 15 with value: 0.8618081449767383.\u001b[0m\n"
     ]
    },
    {
     "name": "stdout",
     "output_type": "stream",
     "text": [
      "Stopped by overfitting detector  (10 iterations wait)\n"
     ]
    },
    {
     "name": "stderr",
     "output_type": "stream",
     "text": [
      "\u001b[32m[I 2021-07-11 15:30:53,309]\u001b[0m Trial 30 finished with value: 0.8551681092289345 and parameters: {'iterations': 1200, 'learning_rate': 0.0843375742270736, 'random_strength': 3, 'bagging_temperature': 9, 'max_bin': 8, 'grow_policy': 'Depthwise', 'min_data_in_leaf': 7, 'max_depth': 6, 'l2_leaf_reg': 2.1269301014934588e-07, 'one_hot_max_size': 12, 'auto_class_weights': 'SqrtBalanced'}. Best is trial 15 with value: 0.8618081449767383.\u001b[0m\n"
     ]
    },
    {
     "name": "stdout",
     "output_type": "stream",
     "text": [
      "Stopped by overfitting detector  (10 iterations wait)\n"
     ]
    },
    {
     "name": "stderr",
     "output_type": "stream",
     "text": [
      "\u001b[32m[I 2021-07-11 15:31:13,897]\u001b[0m Trial 31 finished with value: 0.8602704800926194 and parameters: {'iterations': 500, 'learning_rate': 0.06354780979847269, 'random_strength': 8, 'bagging_temperature': 7, 'max_bin': 30, 'grow_policy': 'Depthwise', 'min_data_in_leaf': 10, 'max_depth': 5, 'l2_leaf_reg': 22.459106831883467, 'one_hot_max_size': 500, 'auto_class_weights': 'SqrtBalanced'}. Best is trial 15 with value: 0.8618081449767383.\u001b[0m\n"
     ]
    },
    {
     "name": "stdout",
     "output_type": "stream",
     "text": [
      "Stopped by overfitting detector  (10 iterations wait)\n"
     ]
    },
    {
     "name": "stderr",
     "output_type": "stream",
     "text": [
      "\u001b[32m[I 2021-07-11 15:31:39,306]\u001b[0m Trial 32 finished with value: 0.8608512763163858 and parameters: {'iterations': 500, 'learning_rate': 0.05284199407756813, 'random_strength': 5, 'bagging_temperature': 8, 'max_bin': 30, 'grow_policy': 'Depthwise', 'min_data_in_leaf': 8, 'max_depth': 5, 'l2_leaf_reg': 19.071644818284675, 'one_hot_max_size': 500, 'auto_class_weights': 'SqrtBalanced'}. Best is trial 15 with value: 0.8618081449767383.\u001b[0m\n"
     ]
    },
    {
     "name": "stdout",
     "output_type": "stream",
     "text": [
      "Stopped by overfitting detector  (10 iterations wait)\n"
     ]
    },
    {
     "name": "stderr",
     "output_type": "stream",
     "text": [
      "\u001b[32m[I 2021-07-11 15:31:46,986]\u001b[0m Trial 33 finished with value: 0.858676627561539 and parameters: {'iterations': 500, 'learning_rate': 0.25399675888043804, 'random_strength': 5, 'bagging_temperature': 9, 'max_bin': 30, 'grow_policy': 'Depthwise', 'min_data_in_leaf': 5, 'max_depth': 4, 'l2_leaf_reg': 94.11628966414435, 'one_hot_max_size': 500, 'auto_class_weights': 'SqrtBalanced'}. Best is trial 15 with value: 0.8618081449767383.\u001b[0m\n"
     ]
    },
    {
     "name": "stdout",
     "output_type": "stream",
     "text": [
      "Stopped by overfitting detector  (10 iterations wait)\n"
     ]
    },
    {
     "name": "stderr",
     "output_type": "stream",
     "text": [
      "\u001b[32m[I 2021-07-11 15:32:00,068]\u001b[0m Trial 34 finished with value: 0.8580745123873624 and parameters: {'iterations': 500, 'learning_rate': 0.11459296993418641, 'random_strength': 8, 'bagging_temperature': 5, 'max_bin': 6, 'grow_policy': 'Lossguide', 'min_data_in_leaf': 10, 'max_depth': 5, 'l2_leaf_reg': 3.860215278717379, 'one_hot_max_size': 500, 'auto_class_weights': 'SqrtBalanced'}. Best is trial 15 with value: 0.8618081449767383.\u001b[0m\n",
      "\u001b[32m[I 2021-07-11 15:32:15,986]\u001b[0m Trial 35 finished with value: 0.8558594013977583 and parameters: {'iterations': 200, 'learning_rate': 0.018655355645813602, 'random_strength': 2, 'bagging_temperature': 7, 'max_bin': 30, 'grow_policy': 'Depthwise', 'min_data_in_leaf': 9, 'max_depth': 6, 'l2_leaf_reg': 14.778661940184973, 'one_hot_max_size': 100, 'auto_class_weights': 'Balanced'}. Best is trial 15 with value: 0.8618081449767383.\u001b[0m\n",
      "\u001b[32m[I 2021-07-11 15:34:21,694]\u001b[0m Trial 36 finished with value: 0.8448347158947896 and parameters: {'iterations': 500, 'learning_rate': 0.0028997607224086966, 'random_strength': 7, 'bagging_temperature': 6, 'max_bin': 4, 'grow_policy': 'Depthwise', 'min_data_in_leaf': 6, 'max_depth': 7, 'l2_leaf_reg': 0.938334579143186, 'one_hot_max_size': 10, 'auto_class_weights': 'SqrtBalanced'}. Best is trial 15 with value: 0.8618081449767383.\u001b[0m\n",
      "\u001b[32m[I 2021-07-11 15:34:37,500]\u001b[0m Trial 37 finished with value: 0.8593725641489292 and parameters: {'iterations': 300, 'learning_rate': 0.0741567268997241, 'random_strength': 5, 'bagging_temperature': 2, 'max_bin': 30, 'grow_policy': 'Lossguide', 'min_data_in_leaf': 8, 'max_depth': 3, 'l2_leaf_reg': 0.06611509293059252, 'one_hot_max_size': 100, 'auto_class_weights': 'SqrtBalanced'}. Best is trial 15 with value: 0.8618081449767383.\u001b[0m\n"
     ]
    },
    {
     "name": "stdout",
     "output_type": "stream",
     "text": [
      "Stopped by overfitting detector  (10 iterations wait)\n"
     ]
    },
    {
     "name": "stderr",
     "output_type": "stream",
     "text": [
      "\u001b[32m[I 2021-07-11 15:34:45,614]\u001b[0m Trial 38 finished with value: 0.853259361143318 and parameters: {'iterations': 500, 'learning_rate': 0.23141713614564152, 'random_strength': 4, 'bagging_temperature': 9, 'max_bin': 10, 'grow_policy': 'Depthwise', 'min_data_in_leaf': 7, 'max_depth': 8, 'l2_leaf_reg': 4.62135740698151, 'one_hot_max_size': 1024, 'auto_class_weights': 'SqrtBalanced'}. Best is trial 15 with value: 0.8618081449767383.\u001b[0m\n",
      "\u001b[32m[I 2021-07-11 15:34:51,674]\u001b[0m Trial 39 finished with value: 0.8584069541312915 and parameters: {'iterations': 100, 'learning_rate': 0.29329385239240535, 'random_strength': 2, 'bagging_temperature': 1, 'max_bin': 5, 'grow_policy': 'SymmetricTree', 'min_data_in_leaf': 9, 'max_depth': 4, 'l2_leaf_reg': 32.41053993617922, 'one_hot_max_size': 100, 'auto_class_weights': 'SqrtBalanced'}. Best is trial 15 with value: 0.8618081449767383.\u001b[0m\n"
     ]
    },
    {
     "name": "stdout",
     "output_type": "stream",
     "text": [
      "Stopped by overfitting detector  (10 iterations wait)\n"
     ]
    },
    {
     "name": "stderr",
     "output_type": "stream",
     "text": [
      "\u001b[32m[I 2021-07-11 15:35:15,416]\u001b[0m Trial 40 finished with value: 0.8599442040725128 and parameters: {'iterations': 500, 'learning_rate': 0.05944702577180422, 'random_strength': 9, 'bagging_temperature': 3, 'max_bin': 6, 'grow_policy': 'Depthwise', 'min_data_in_leaf': 5, 'max_depth': 7, 'l2_leaf_reg': 6.0752624243665645, 'one_hot_max_size': 500, 'auto_class_weights': 'Balanced'}. Best is trial 15 with value: 0.8618081449767383.\u001b[0m\n"
     ]
    },
    {
     "name": "stdout",
     "output_type": "stream",
     "text": [
      "Stopped by overfitting detector  (10 iterations wait)\n"
     ]
    },
    {
     "name": "stderr",
     "output_type": "stream",
     "text": [
      "\u001b[32m[I 2021-07-11 15:35:56,892]\u001b[0m Trial 41 finished with value: 0.8612397215162643 and parameters: {'iterations': 1000, 'learning_rate': 0.03728067675793085, 'random_strength': 3, 'bagging_temperature': 4, 'max_bin': 20, 'grow_policy': 'Depthwise', 'min_data_in_leaf': 6, 'max_depth': 5, 'l2_leaf_reg': 72.72644551060897, 'one_hot_max_size': 100, 'auto_class_weights': 'SqrtBalanced'}. Best is trial 15 with value: 0.8618081449767383.\u001b[0m\n"
     ]
    },
    {
     "name": "stdout",
     "output_type": "stream",
     "text": [
      "Stopped by overfitting detector  (10 iterations wait)\n"
     ]
    },
    {
     "name": "stderr",
     "output_type": "stream",
     "text": [
      "\u001b[32m[I 2021-07-11 15:36:33,261]\u001b[0m Trial 42 finished with value: 0.8610777920364274 and parameters: {'iterations': 1000, 'learning_rate': 0.030163535895421145, 'random_strength': 3, 'bagging_temperature': 4, 'max_bin': 20, 'grow_policy': 'Depthwise', 'min_data_in_leaf': 6, 'max_depth': 5, 'l2_leaf_reg': 72.05920278943424, 'one_hot_max_size': 100, 'auto_class_weights': 'SqrtBalanced'}. Best is trial 15 with value: 0.8618081449767383.\u001b[0m\n",
      "\u001b[32m[I 2021-07-11 15:37:41,601]\u001b[0m Trial 43 finished with value: 0.8610514060467607 and parameters: {'iterations': 1000, 'learning_rate': 0.015799449313883596, 'random_strength': 6, 'bagging_temperature': 3, 'max_bin': 20, 'grow_policy': 'Depthwise', 'min_data_in_leaf': 4, 'max_depth': 5, 'l2_leaf_reg': 98.55250773995571, 'one_hot_max_size': 100, 'auto_class_weights': 'SqrtBalanced'}. Best is trial 15 with value: 0.8618081449767383.\u001b[0m\n"
     ]
    },
    {
     "name": "stdout",
     "output_type": "stream",
     "text": [
      "Stopped by overfitting detector  (10 iterations wait)\n"
     ]
    },
    {
     "name": "stderr",
     "output_type": "stream",
     "text": [
      "\u001b[32m[I 2021-07-11 15:37:51,602]\u001b[0m Trial 44 finished with value: 0.854931104237434 and parameters: {'iterations': 300, 'learning_rate': 0.08773013402158894, 'random_strength': 3, 'bagging_temperature': 5, 'max_bin': 20, 'grow_policy': 'Depthwise', 'min_data_in_leaf': 6, 'max_depth': 6, 'l2_leaf_reg': 9.574566368846089e-06, 'one_hot_max_size': 100, 'auto_class_weights': 'SqrtBalanced'}. Best is trial 15 with value: 0.8618081449767383.\u001b[0m\n"
     ]
    },
    {
     "name": "stdout",
     "output_type": "stream",
     "text": [
      "Stopped by overfitting detector  (10 iterations wait)\n"
     ]
    },
    {
     "name": "stderr",
     "output_type": "stream",
     "text": [
      "\u001b[32m[I 2021-07-11 15:38:56,760]\u001b[0m Trial 45 finished with value: 0.8613526224729409 and parameters: {'iterations': 1000, 'learning_rate': 0.039013615522505894, 'random_strength': 2, 'bagging_temperature': 4, 'max_bin': 20, 'grow_policy': 'Depthwise', 'min_data_in_leaf': 7, 'max_depth': 4, 'l2_leaf_reg': 1.3441747487173705, 'one_hot_max_size': 5, 'auto_class_weights': 'SqrtBalanced'}. Best is trial 15 with value: 0.8618081449767383.\u001b[0m\n"
     ]
    },
    {
     "name": "stdout",
     "output_type": "stream",
     "text": [
      "Stopped by overfitting detector  (10 iterations wait)\n"
     ]
    },
    {
     "name": "stderr",
     "output_type": "stream",
     "text": [
      "\u001b[32m[I 2021-07-11 15:40:55,923]\u001b[0m Trial 46 finished with value: 0.8605591085112432 and parameters: {'iterations': 1000, 'learning_rate': 0.036084244535619356, 'random_strength': 1, 'bagging_temperature': 4, 'max_bin': 20, 'grow_policy': 'SymmetricTree', 'min_data_in_leaf': 8, 'max_depth': 3, 'l2_leaf_reg': 0.995399223478467, 'one_hot_max_size': 5, 'auto_class_weights': 'SqrtBalanced'}. Best is trial 15 with value: 0.8618081449767383.\u001b[0m\n"
     ]
    },
    {
     "name": "stdout",
     "output_type": "stream",
     "text": [
      "Stopped by overfitting detector  (10 iterations wait)\n"
     ]
    },
    {
     "name": "stderr",
     "output_type": "stream",
     "text": [
      "\u001b[32m[I 2021-07-11 15:41:17,620]\u001b[0m Trial 47 finished with value: 0.85947985670593 and parameters: {'iterations': 1000, 'learning_rate': 0.15002791905656743, 'random_strength': 2, 'bagging_temperature': 3, 'max_bin': 20, 'grow_policy': 'Depthwise', 'min_data_in_leaf': 7, 'max_depth': 4, 'l2_leaf_reg': 0.020790314338854934, 'one_hot_max_size': 5, 'auto_class_weights': 'SqrtBalanced'}. Best is trial 15 with value: 0.8618081449767383.\u001b[0m\n"
     ]
    },
    {
     "name": "stdout",
     "output_type": "stream",
     "text": [
      "Stopped by overfitting detector  (10 iterations wait)\n"
     ]
    },
    {
     "name": "stderr",
     "output_type": "stream",
     "text": [
      "\u001b[32m[I 2021-07-11 15:48:51,009]\u001b[0m Trial 48 finished with value: 0.8613402344680893 and parameters: {'iterations': 1000, 'learning_rate': 0.01560091806416123, 'random_strength': 1, 'bagging_temperature': 5, 'max_bin': 20, 'grow_policy': 'Lossguide', 'min_data_in_leaf': 5, 'max_depth': 4, 'l2_leaf_reg': 0.00362681671748892, 'one_hot_max_size': 5, 'auto_class_weights': 'SqrtBalanced'}. Best is trial 15 with value: 0.8618081449767383.\u001b[0m\n",
      "\u001b[32m[I 2021-07-11 15:49:15,460]\u001b[0m Trial 49 finished with value: 0.8377766760715069 and parameters: {'iterations': 200, 'learning_rate': 0.013542499393964545, 'random_strength': 1, 'bagging_temperature': 5, 'max_bin': 8, 'grow_policy': 'Lossguide', 'min_data_in_leaf': 4, 'max_depth': 2, 'l2_leaf_reg': 0.0024954100657879705, 'one_hot_max_size': 5, 'auto_class_weights': 'SqrtBalanced'}. Best is trial 15 with value: 0.8618081449767383.\u001b[0m\n",
      "\u001b[32m[I 2021-07-11 15:56:15,192]\u001b[0m Trial 50 finished with value: 0.8544703346463347 and parameters: {'iterations': 1000, 'learning_rate': 0.0033699155229160935, 'random_strength': 1, 'bagging_temperature': 6, 'max_bin': 20, 'grow_policy': 'Lossguide', 'min_data_in_leaf': 5, 'max_depth': 4, 'l2_leaf_reg': 0.0002851423867400559, 'one_hot_max_size': 5, 'auto_class_weights': 'SqrtBalanced'}. Best is trial 15 with value: 0.8618081449767383.\u001b[0m\n"
     ]
    },
    {
     "name": "stdout",
     "output_type": "stream",
     "text": [
      "Stopped by overfitting detector  (10 iterations wait)\n"
     ]
    },
    {
     "name": "stderr",
     "output_type": "stream",
     "text": [
      "\u001b[32m[I 2021-07-11 16:00:19,655]\u001b[0m Trial 51 finished with value: 0.8612409520916289 and parameters: {'iterations': 1000, 'learning_rate': 0.028386167368841093, 'random_strength': 2, 'bagging_temperature': 4, 'max_bin': 20, 'grow_policy': 'Lossguide', 'min_data_in_leaf': 6, 'max_depth': 4, 'l2_leaf_reg': 1.0652136706888832e-06, 'one_hot_max_size': 5, 'auto_class_weights': 'SqrtBalanced'}. Best is trial 15 with value: 0.8618081449767383.\u001b[0m\n"
     ]
    },
    {
     "name": "stdout",
     "output_type": "stream",
     "text": [
      "Stopped by overfitting detector  (10 iterations wait)\n"
     ]
    },
    {
     "name": "stderr",
     "output_type": "stream",
     "text": [
      "\u001b[32m[I 2021-07-11 16:04:34,011]\u001b[0m Trial 52 finished with value: 0.8610885992901416 and parameters: {'iterations': 1000, 'learning_rate': 0.02567906535236076, 'random_strength': 2, 'bagging_temperature': 5, 'max_bin': 20, 'grow_policy': 'Lossguide', 'min_data_in_leaf': 5, 'max_depth': 4, 'l2_leaf_reg': 1.221871188475599e-06, 'one_hot_max_size': 5, 'auto_class_weights': 'SqrtBalanced'}. Best is trial 15 with value: 0.8618081449767383.\u001b[0m\n"
     ]
    },
    {
     "name": "stdout",
     "output_type": "stream",
     "text": [
      "Stopped by overfitting detector  (10 iterations wait)\n"
     ]
    },
    {
     "name": "stderr",
     "output_type": "stream",
     "text": [
      "\u001b[32m[I 2021-07-11 16:05:58,869]\u001b[0m Trial 53 finished with value: 0.8605381417130682 and parameters: {'iterations': 1000, 'learning_rate': 0.046941873351726886, 'random_strength': 2, 'bagging_temperature': 3, 'max_bin': 20, 'grow_policy': 'Lossguide', 'min_data_in_leaf': 7, 'max_depth': 3, 'l2_leaf_reg': 5.501855585642005e-05, 'one_hot_max_size': 5, 'auto_class_weights': 'SqrtBalanced'}. Best is trial 15 with value: 0.8618081449767383.\u001b[0m\n"
     ]
    },
    {
     "name": "stdout",
     "output_type": "stream",
     "text": [
      "Stopped by overfitting detector  (10 iterations wait)\n"
     ]
    },
    {
     "name": "stderr",
     "output_type": "stream",
     "text": [
      "\u001b[32m[I 2021-07-11 16:07:25,028]\u001b[0m Trial 54 finished with value: 0.8608473971685257 and parameters: {'iterations': 1000, 'learning_rate': 0.07241979919786429, 'random_strength': 1, 'bagging_temperature': 4, 'max_bin': 20, 'grow_policy': 'Lossguide', 'min_data_in_leaf': 6, 'max_depth': 4, 'l2_leaf_reg': 1.383117875425194e-08, 'one_hot_max_size': 5, 'auto_class_weights': 'SqrtBalanced'}. Best is trial 15 with value: 0.8618081449767383.\u001b[0m\n",
      "\u001b[32m[I 2021-07-11 16:10:58,191]\u001b[0m Trial 55 finished with value: 0.8567486643167908 and parameters: {'iterations': 1000, 'learning_rate': 0.008336071962872001, 'random_strength': 2, 'bagging_temperature': 6, 'max_bin': 5, 'grow_policy': 'Lossguide', 'min_data_in_leaf': 5, 'max_depth': 3, 'l2_leaf_reg': 2.855404766223978e-06, 'one_hot_max_size': 5, 'auto_class_weights': 'SqrtBalanced'}. Best is trial 15 with value: 0.8618081449767383.\u001b[0m\n",
      "\u001b[32m[I 2021-07-11 16:11:39,514]\u001b[0m Trial 56 finished with value: 0.8477930063379573 and parameters: {'iterations': 100, 'learning_rate': 0.02756124211890383, 'random_strength': 3, 'bagging_temperature': 5, 'max_bin': 20, 'grow_policy': 'Lossguide', 'min_data_in_leaf': 7, 'max_depth': 4, 'l2_leaf_reg': 3.618366178954165e-08, 'one_hot_max_size': 5, 'auto_class_weights': 'SqrtBalanced'}. Best is trial 15 with value: 0.8618081449767383.\u001b[0m\n"
     ]
    },
    {
     "name": "stdout",
     "output_type": "stream",
     "text": [
      "Stopped by overfitting detector  (10 iterations wait)\n"
     ]
    },
    {
     "name": "stderr",
     "output_type": "stream",
     "text": [
      "\u001b[32m[I 2021-07-11 16:14:27,497]\u001b[0m Trial 57 finished with value: 0.8603510372823667 and parameters: {'iterations': 1500, 'learning_rate': 0.05414993242081906, 'random_strength': 2, 'bagging_temperature': 2, 'max_bin': 8, 'grow_policy': 'Lossguide', 'min_data_in_leaf': 6, 'max_depth': 5, 'l2_leaf_reg': 0.002761685207846381, 'one_hot_max_size': 12, 'auto_class_weights': 'Balanced'}. Best is trial 15 with value: 0.8618081449767383.\u001b[0m\n"
     ]
    },
    {
     "name": "stdout",
     "output_type": "stream",
     "text": [
      "Stopped by overfitting detector  (10 iterations wait)\n"
     ]
    },
    {
     "name": "stderr",
     "output_type": "stream",
     "text": [
      "\u001b[32m[I 2021-07-11 16:20:23,024]\u001b[0m Trial 58 finished with value: 0.8613325768198721 and parameters: {'iterations': 1000, 'learning_rate': 0.014464725004754958, 'random_strength': 1, 'bagging_temperature': 4, 'max_bin': 20, 'grow_policy': 'Lossguide', 'min_data_in_leaf': 4, 'max_depth': 4, 'l2_leaf_reg': 3.16006556030163e-05, 'one_hot_max_size': 5, 'auto_class_weights': 'SqrtBalanced'}. Best is trial 15 with value: 0.8618081449767383.\u001b[0m\n"
     ]
    },
    {
     "name": "stdout",
     "output_type": "stream",
     "text": [
      "Stopped by overfitting detector  (10 iterations wait)\n"
     ]
    },
    {
     "name": "stderr",
     "output_type": "stream",
     "text": [
      "\u001b[32m[I 2021-07-11 16:20:51,227]\u001b[0m Trial 59 finished with value: 0.8592901531142714 and parameters: {'iterations': 1200, 'learning_rate': 0.16957198968886789, 'random_strength': 1, 'bagging_temperature': 5, 'max_bin': 4, 'grow_policy': 'SymmetricTree', 'min_data_in_leaf': 3, 'max_depth': 3, 'l2_leaf_reg': 4.1716882173392406e-05, 'one_hot_max_size': 5, 'auto_class_weights': 'SqrtBalanced'}. Best is trial 15 with value: 0.8618081449767383.\u001b[0m\n"
     ]
    },
    {
     "name": "stdout",
     "output_type": "stream",
     "text": [
      "Stopped by overfitting detector  (10 iterations wait)\n"
     ]
    },
    {
     "name": "stderr",
     "output_type": "stream",
     "text": [
      "\u001b[32m[I 2021-07-11 16:22:50,964]\u001b[0m Trial 60 finished with value: 0.860262010308752 and parameters: {'iterations': 1000, 'learning_rate': 0.04489080612232914, 'random_strength': 1, 'bagging_temperature': 4, 'max_bin': 20, 'grow_policy': 'Lossguide', 'min_data_in_leaf': 4, 'max_depth': 4, 'l2_leaf_reg': 0.00021093200446577705, 'one_hot_max_size': 10, 'auto_class_weights': 'SqrtBalanced'}. Best is trial 15 with value: 0.8618081449767383.\u001b[0m\n"
     ]
    },
    {
     "name": "stdout",
     "output_type": "stream",
     "text": [
      "Stopped by overfitting detector  (10 iterations wait)\n"
     ]
    },
    {
     "name": "stderr",
     "output_type": "stream",
     "text": [
      "\u001b[32m[I 2021-07-11 16:29:22,668]\u001b[0m Trial 61 finished with value: 0.861067961762858 and parameters: {'iterations': 1000, 'learning_rate': 0.015862857122283233, 'random_strength': 2, 'bagging_temperature': 4, 'max_bin': 20, 'grow_policy': 'Lossguide', 'min_data_in_leaf': 4, 'max_depth': 4, 'l2_leaf_reg': 1.3452795272144e-07, 'one_hot_max_size': 5, 'auto_class_weights': 'SqrtBalanced'}. Best is trial 15 with value: 0.8618081449767383.\u001b[0m\n"
     ]
    },
    {
     "name": "stdout",
     "output_type": "stream",
     "text": [
      "Stopped by overfitting detector  (10 iterations wait)\n"
     ]
    },
    {
     "name": "stderr",
     "output_type": "stream",
     "text": [
      "\u001b[32m[I 2021-07-11 16:34:13,268]\u001b[0m Trial 62 finished with value: 0.8609871653072375 and parameters: {'iterations': 1000, 'learning_rate': 0.028443198899250646, 'random_strength': 1, 'bagging_temperature': 3, 'max_bin': 20, 'grow_policy': 'Lossguide', 'min_data_in_leaf': 5, 'max_depth': 5, 'l2_leaf_reg': 2.635272145212198e-06, 'one_hot_max_size': 5, 'auto_class_weights': 'SqrtBalanced'}. Best is trial 15 with value: 0.8618081449767383.\u001b[0m\n",
      "\u001b[32m[I 2021-07-11 16:41:24,422]\u001b[0m Trial 63 finished with value: 0.8495822437994048 and parameters: {'iterations': 1000, 'learning_rate': 0.0026426465906955153, 'random_strength': 2, 'bagging_temperature': 5, 'max_bin': 20, 'grow_policy': 'Lossguide', 'min_data_in_leaf': 7, 'max_depth': 4, 'l2_leaf_reg': 4.0858671883431094e-06, 'one_hot_max_size': 5, 'auto_class_weights': 'SqrtBalanced'}. Best is trial 15 with value: 0.8618081449767383.\u001b[0m\n"
     ]
    },
    {
     "name": "stdout",
     "output_type": "stream",
     "text": [
      "Stopped by overfitting detector  (10 iterations wait)\n"
     ]
    },
    {
     "name": "stderr",
     "output_type": "stream",
     "text": [
      "\u001b[32m[I 2021-07-11 16:46:17,167]\u001b[0m Trial 64 finished with value: 0.8607939687759062 and parameters: {'iterations': 1500, 'learning_rate': 0.038070060991658536, 'random_strength': 2, 'bagging_temperature': 6, 'max_bin': 8, 'grow_policy': 'Lossguide', 'min_data_in_leaf': 6, 'max_depth': 5, 'l2_leaf_reg': 0.0008021204702306778, 'one_hot_max_size': 5, 'auto_class_weights': 'SqrtBalanced'}. Best is trial 15 with value: 0.8618081449767383.\u001b[0m\n",
      "\u001b[32m[I 2021-07-11 16:47:21,349]\u001b[0m Trial 65 finished with value: 0.8603879083625159 and parameters: {'iterations': 1000, 'learning_rate': 0.009111802065799934, 'random_strength': 1, 'bagging_temperature': 4, 'max_bin': 10, 'grow_policy': 'Lossguide', 'min_data_in_leaf': 2, 'max_depth': 4, 'l2_leaf_reg': 0.0085802198227283, 'one_hot_max_size': 1024, 'auto_class_weights': 'SqrtBalanced'}. Best is trial 15 with value: 0.8618081449767383.\u001b[0m\n"
     ]
    },
    {
     "name": "stdout",
     "output_type": "stream",
     "text": [
      "Stopped by overfitting detector  (10 iterations wait)\n"
     ]
    },
    {
     "name": "stderr",
     "output_type": "stream",
     "text": [
      "\u001b[32m[I 2021-07-11 16:47:54,716]\u001b[0m Trial 66 finished with value: 0.8592162989038066 and parameters: {'iterations': 1000, 'learning_rate': 0.06551906303299915, 'random_strength': 3, 'bagging_temperature': 3, 'max_bin': 20, 'grow_policy': 'Depthwise', 'min_data_in_leaf': 5, 'max_depth': 3, 'l2_leaf_reg': 4.2653445467524763e-07, 'one_hot_max_size': 5, 'auto_class_weights': 'SqrtBalanced'}. Best is trial 15 with value: 0.8618081449767383.\u001b[0m\n"
     ]
    },
    {
     "name": "stdout",
     "output_type": "stream",
     "text": [
      "Stopped by overfitting detector  (10 iterations wait)\n"
     ]
    },
    {
     "name": "stderr",
     "output_type": "stream",
     "text": [
      "\u001b[32m[I 2021-07-11 16:48:16,394]\u001b[0m Trial 67 finished with value: 0.8599594336969407 and parameters: {'iterations': 1500, 'learning_rate': 0.05066234695685133, 'random_strength': 3, 'bagging_temperature': 6, 'max_bin': 20, 'grow_policy': 'Lossguide', 'min_data_in_leaf': 3, 'max_depth': 4, 'l2_leaf_reg': 0.0001396663106020807, 'one_hot_max_size': 100, 'auto_class_weights': 'SqrtBalanced'}. Best is trial 15 with value: 0.8618081449767383.\u001b[0m\n",
      "\u001b[32m[I 2021-07-11 16:48:53,521]\u001b[0m Trial 68 finished with value: 0.857437224255583 and parameters: {'iterations': 200, 'learning_rate': 0.021078325244278086, 'random_strength': 1, 'bagging_temperature': 4, 'max_bin': 20, 'grow_policy': 'Depthwise', 'min_data_in_leaf': 6, 'max_depth': 5, 'l2_leaf_reg': 2.781579531941604e-05, 'one_hot_max_size': 5, 'auto_class_weights': 'SqrtBalanced'}. Best is trial 15 with value: 0.8618081449767383.\u001b[0m\n"
     ]
    },
    {
     "name": "stdout",
     "output_type": "stream",
     "text": [
      "Stopped by overfitting detector  (10 iterations wait)\n"
     ]
    },
    {
     "name": "stderr",
     "output_type": "stream",
     "text": [
      "\u001b[32m[I 2021-07-11 16:49:30,406]\u001b[0m Trial 69 finished with value: 0.860056763405413 and parameters: {'iterations': 1000, 'learning_rate': 0.07694625960385726, 'random_strength': 2, 'bagging_temperature': 5, 'max_bin': 8, 'grow_policy': 'Depthwise', 'min_data_in_leaf': 8, 'max_depth': 3, 'l2_leaf_reg': 2.190755779535475e-05, 'one_hot_max_size': 12, 'auto_class_weights': 'SqrtBalanced'}. Best is trial 15 with value: 0.8618081449767383.\u001b[0m\n"
     ]
    },
    {
     "name": "stdout",
     "output_type": "stream",
     "text": [
      "Stopped by overfitting detector  (10 iterations wait)\n"
     ]
    },
    {
     "name": "stderr",
     "output_type": "stream",
     "text": [
      "\u001b[32m[I 2021-07-11 16:49:43,452]\u001b[0m Trial 70 finished with value: 0.8593400943445673 and parameters: {'iterations': 300, 'learning_rate': 0.09721001528309056, 'random_strength': 3, 'bagging_temperature': 3, 'max_bin': 6, 'grow_policy': 'Lossguide', 'min_data_in_leaf': 8, 'max_depth': 4, 'l2_leaf_reg': 2.01020562242351, 'one_hot_max_size': 100, 'auto_class_weights': 'SqrtBalanced'}. Best is trial 15 with value: 0.8618081449767383.\u001b[0m\n"
     ]
    },
    {
     "name": "stdout",
     "output_type": "stream",
     "text": [
      "Stopped by overfitting detector  (10 iterations wait)\n"
     ]
    },
    {
     "name": "stderr",
     "output_type": "stream",
     "text": [
      "\u001b[32m[I 2021-07-11 16:50:11,116]\u001b[0m Trial 71 finished with value: 0.861831179305724 and parameters: {'iterations': 1000, 'learning_rate': 0.04296077709056051, 'random_strength': 2, 'bagging_temperature': 4, 'max_bin': 20, 'grow_policy': 'Depthwise', 'min_data_in_leaf': 6, 'max_depth': 6, 'l2_leaf_reg': 43.20626423990967, 'one_hot_max_size': 100, 'auto_class_weights': 'SqrtBalanced'}. Best is trial 71 with value: 0.861831179305724.\u001b[0m\n"
     ]
    },
    {
     "name": "stdout",
     "output_type": "stream",
     "text": [
      "Stopped by overfitting detector  (10 iterations wait)\n"
     ]
    },
    {
     "name": "stderr",
     "output_type": "stream",
     "text": [
      "\u001b[32m[I 2021-07-11 16:50:48,908]\u001b[0m Trial 72 finished with value: 0.8612664977810685 and parameters: {'iterations': 1000, 'learning_rate': 0.03368168698474058, 'random_strength': 2, 'bagging_temperature': 4, 'max_bin': 20, 'grow_policy': 'Depthwise', 'min_data_in_leaf': 7, 'max_depth': 6, 'l2_leaf_reg': 40.22388258474281, 'one_hot_max_size': 100, 'auto_class_weights': 'SqrtBalanced'}. Best is trial 71 with value: 0.861831179305724.\u001b[0m\n"
     ]
    },
    {
     "name": "stdout",
     "output_type": "stream",
     "text": [
      "Stopped by overfitting detector  (10 iterations wait)\n"
     ]
    },
    {
     "name": "stderr",
     "output_type": "stream",
     "text": [
      "\u001b[32m[I 2021-07-11 16:51:14,135]\u001b[0m Trial 73 finished with value: 0.8619354238549528 and parameters: {'iterations': 1000, 'learning_rate': 0.040593389669320794, 'random_strength': 1, 'bagging_temperature': 5, 'max_bin': 20, 'grow_policy': 'Depthwise', 'min_data_in_leaf': 7, 'max_depth': 6, 'l2_leaf_reg': 35.215574608630064, 'one_hot_max_size': 100, 'auto_class_weights': 'SqrtBalanced'}. Best is trial 73 with value: 0.8619354238549528.\u001b[0m\n"
     ]
    },
    {
     "name": "stdout",
     "output_type": "stream",
     "text": [
      "Stopped by overfitting detector  (10 iterations wait)\n"
     ]
    },
    {
     "name": "stderr",
     "output_type": "stream",
     "text": [
      "\u001b[32m[I 2021-07-11 16:51:39,832]\u001b[0m Trial 74 finished with value: 0.8617603525782382 and parameters: {'iterations': 1000, 'learning_rate': 0.035709362676648516, 'random_strength': 1, 'bagging_temperature': 5, 'max_bin': 20, 'grow_policy': 'Depthwise', 'min_data_in_leaf': 7, 'max_depth': 6, 'l2_leaf_reg': 9.357334645551745, 'one_hot_max_size': 100, 'auto_class_weights': 'SqrtBalanced'}. Best is trial 73 with value: 0.8619354238549528.\u001b[0m\n"
     ]
    },
    {
     "name": "stdout",
     "output_type": "stream",
     "text": [
      "Stopped by overfitting detector  (10 iterations wait)\n"
     ]
    },
    {
     "name": "stderr",
     "output_type": "stream",
     "text": [
      "\u001b[32m[I 2021-07-11 16:51:54,853]\u001b[0m Trial 75 finished with value: 0.8611569229050996 and parameters: {'iterations': 1000, 'learning_rate': 0.060008290085470206, 'random_strength': 1, 'bagging_temperature': 5, 'max_bin': 20, 'grow_policy': 'Depthwise', 'min_data_in_leaf': 8, 'max_depth': 7, 'l2_leaf_reg': 18.278015420235345, 'one_hot_max_size': 100, 'auto_class_weights': 'SqrtBalanced'}. Best is trial 73 with value: 0.8619354238549528.\u001b[0m\n"
     ]
    },
    {
     "name": "stdout",
     "output_type": "stream",
     "text": [
      "Stopped by overfitting detector  (10 iterations wait)\n"
     ]
    },
    {
     "name": "stderr",
     "output_type": "stream",
     "text": [
      "\u001b[32m[I 2021-07-11 16:53:03,005]\u001b[0m Trial 76 finished with value: 0.8621449032366618 and parameters: {'iterations': 1000, 'learning_rate': 0.012436313322698574, 'random_strength': 1, 'bagging_temperature': 6, 'max_bin': 20, 'grow_policy': 'Depthwise', 'min_data_in_leaf': 7, 'max_depth': 6, 'l2_leaf_reg': 11.026694805527427, 'one_hot_max_size': 100, 'auto_class_weights': 'SqrtBalanced'}. Best is trial 76 with value: 0.8621449032366618.\u001b[0m\n"
     ]
    },
    {
     "name": "stdout",
     "output_type": "stream",
     "text": [
      "Stopped by overfitting detector  (10 iterations wait)\n"
     ]
    },
    {
     "name": "stderr",
     "output_type": "stream",
     "text": [
      "\u001b[32m[I 2021-07-11 16:53:21,891]\u001b[0m Trial 77 finished with value: 0.8611677966363377 and parameters: {'iterations': 1000, 'learning_rate': 0.04176902387860282, 'random_strength': 1, 'bagging_temperature': 7, 'max_bin': 5, 'grow_policy': 'Depthwise', 'min_data_in_leaf': 7, 'max_depth': 7, 'l2_leaf_reg': 8.21833705702885, 'one_hot_max_size': 100, 'auto_class_weights': 'Balanced'}. Best is trial 76 with value: 0.8621449032366618.\u001b[0m\n"
     ]
    },
    {
     "name": "stdout",
     "output_type": "stream",
     "text": [
      "Stopped by overfitting detector  (10 iterations wait)\n"
     ]
    },
    {
     "name": "stderr",
     "output_type": "stream",
     "text": [
      "\u001b[32m[I 2021-07-11 16:53:58,122]\u001b[0m Trial 78 finished with value: 0.8615566076716462 and parameters: {'iterations': 1000, 'learning_rate': 0.021052020496310667, 'random_strength': 1, 'bagging_temperature': 6, 'max_bin': 10, 'grow_policy': 'Depthwise', 'min_data_in_leaf': 7, 'max_depth': 6, 'l2_leaf_reg': 0.4686413167950314, 'one_hot_max_size': 100, 'auto_class_weights': 'SqrtBalanced'}. Best is trial 76 with value: 0.8621449032366618.\u001b[0m\n"
     ]
    },
    {
     "name": "stdout",
     "output_type": "stream",
     "text": [
      "Stopped by overfitting detector  (10 iterations wait)\n"
     ]
    },
    {
     "name": "stderr",
     "output_type": "stream",
     "text": [
      "\u001b[32m[I 2021-07-11 16:54:16,744]\u001b[0m Trial 79 finished with value: 0.8604922746541742 and parameters: {'iterations': 1000, 'learning_rate': 0.051872207913947095, 'random_strength': 1, 'bagging_temperature': 7, 'max_bin': 10, 'grow_policy': 'Depthwise', 'min_data_in_leaf': 7, 'max_depth': 6, 'l2_leaf_reg': 0.36926288104375726, 'one_hot_max_size': 100, 'auto_class_weights': 'SqrtBalanced'}. Best is trial 76 with value: 0.8621449032366618.\u001b[0m\n",
      "\u001b[32m[I 2021-07-11 16:54:24,896]\u001b[0m Trial 80 finished with value: 0.8523049876136296 and parameters: {'iterations': 100, 'learning_rate': 0.023395527891199697, 'random_strength': 2, 'bagging_temperature': 6, 'max_bin': 10, 'grow_policy': 'Depthwise', 'min_data_in_leaf': 8, 'max_depth': 6, 'l2_leaf_reg': 0.1608669686882186, 'one_hot_max_size': 100, 'auto_class_weights': 'SqrtBalanced'}. Best is trial 76 with value: 0.8621449032366618.\u001b[0m\n",
      "\u001b[32m[I 2021-07-11 16:55:39,110]\u001b[0m Trial 81 finished with value: 0.8617486755674179 and parameters: {'iterations': 1000, 'learning_rate': 0.009153598941659945, 'random_strength': 1, 'bagging_temperature': 6, 'max_bin': 10, 'grow_policy': 'Depthwise', 'min_data_in_leaf': 7, 'max_depth': 6, 'l2_leaf_reg': 3.6162048692897155, 'one_hot_max_size': 100, 'auto_class_weights': 'SqrtBalanced'}. Best is trial 76 with value: 0.8621449032366618.\u001b[0m\n",
      "\u001b[32m[I 2021-07-11 16:56:52,272]\u001b[0m Trial 82 finished with value: 0.8609468668147173 and parameters: {'iterations': 1000, 'learning_rate': 0.0061804474516901076, 'random_strength': 1, 'bagging_temperature': 7, 'max_bin': 10, 'grow_policy': 'Depthwise', 'min_data_in_leaf': 7, 'max_depth': 6, 'l2_leaf_reg': 2.639337511275361, 'one_hot_max_size': 100, 'auto_class_weights': 'SqrtBalanced'}. Best is trial 76 with value: 0.8621449032366618.\u001b[0m\n"
     ]
    },
    {
     "name": "stdout",
     "output_type": "stream",
     "text": [
      "Stopped by overfitting detector  (10 iterations wait)\n"
     ]
    },
    {
     "name": "stderr",
     "output_type": "stream",
     "text": [
      "\u001b[32m[I 2021-07-11 16:57:18,422]\u001b[0m Trial 83 finished with value: 0.8608857031597562 and parameters: {'iterations': 1000, 'learning_rate': 0.036010497804266635, 'random_strength': 2, 'bagging_temperature': 6, 'max_bin': 10, 'grow_policy': 'Depthwise', 'min_data_in_leaf': 7, 'max_depth': 6, 'l2_leaf_reg': 9.89304020011088, 'one_hot_max_size': 100, 'auto_class_weights': 'SqrtBalanced'}. Best is trial 76 with value: 0.8621449032366618.\u001b[0m\n"
     ]
    },
    {
     "name": "stdout",
     "output_type": "stream",
     "text": [
      "Stopped by overfitting detector  (10 iterations wait)\n"
     ]
    },
    {
     "name": "stderr",
     "output_type": "stream",
     "text": [
      "\u001b[32m[I 2021-07-11 16:57:56,825]\u001b[0m Trial 84 finished with value: 0.8618303911536742 and parameters: {'iterations': 1000, 'learning_rate': 0.022115517474134053, 'random_strength': 1, 'bagging_temperature': 6, 'max_bin': 10, 'grow_policy': 'Depthwise', 'min_data_in_leaf': 7, 'max_depth': 7, 'l2_leaf_reg': 4.769566627285643, 'one_hot_max_size': 100, 'auto_class_weights': 'SqrtBalanced'}. Best is trial 76 with value: 0.8621449032366618.\u001b[0m\n"
     ]
    },
    {
     "name": "stdout",
     "output_type": "stream",
     "text": [
      "Stopped by overfitting detector  (10 iterations wait)\n"
     ]
    },
    {
     "name": "stderr",
     "output_type": "stream",
     "text": [
      "\u001b[32m[I 2021-07-11 16:58:53,438]\u001b[0m Trial 85 finished with value: 0.8617168707663481 and parameters: {'iterations': 1200, 'learning_rate': 0.02024354216479262, 'random_strength': 1, 'bagging_temperature': 6, 'max_bin': 10, 'grow_policy': 'Depthwise', 'min_data_in_leaf': 8, 'max_depth': 8, 'l2_leaf_reg': 4.57232559101507, 'one_hot_max_size': 100, 'auto_class_weights': 'SqrtBalanced'}. Best is trial 76 with value: 0.8621449032366618.\u001b[0m\n",
      "\u001b[32m[I 2021-07-11 17:02:06,579]\u001b[0m Trial 86 finished with value: 0.8566711226752355 and parameters: {'iterations': 1200, 'learning_rate': 0.001818286797636931, 'random_strength': 1, 'bagging_temperature': 6, 'max_bin': 10, 'grow_policy': 'Depthwise', 'min_data_in_leaf': 8, 'max_depth': 8, 'l2_leaf_reg': 4.1761206491401985, 'one_hot_max_size': 100, 'auto_class_weights': 'SqrtBalanced'}. Best is trial 76 with value: 0.8621449032366618.\u001b[0m\n"
     ]
    },
    {
     "name": "stdout",
     "output_type": "stream",
     "text": [
      "Stopped by overfitting detector  (10 iterations wait)\n"
     ]
    },
    {
     "name": "stderr",
     "output_type": "stream",
     "text": [
      "\u001b[32m[I 2021-07-11 17:04:12,329]\u001b[0m Trial 87 finished with value: 0.8621877710531715 and parameters: {'iterations': 1200, 'learning_rate': 0.01012639114266866, 'random_strength': 1, 'bagging_temperature': 7, 'max_bin': 10, 'grow_policy': 'Depthwise', 'min_data_in_leaf': 9, 'max_depth': 8, 'l2_leaf_reg': 29.9532710367551, 'one_hot_max_size': 100, 'auto_class_weights': 'SqrtBalanced'}. Best is trial 87 with value: 0.8621877710531715.\u001b[0m\n"
     ]
    },
    {
     "name": "stdout",
     "output_type": "stream",
     "text": [
      "Stopped by overfitting detector  (10 iterations wait)\n"
     ]
    },
    {
     "name": "stderr",
     "output_type": "stream",
     "text": [
      "\u001b[32m[I 2021-07-11 17:07:50,694]\u001b[0m Trial 88 finished with value: 0.8621686110829275 and parameters: {'iterations': 1200, 'learning_rate': 0.010336192093826822, 'random_strength': 1, 'bagging_temperature': 7, 'max_bin': 10, 'grow_policy': 'Depthwise', 'min_data_in_leaf': 6, 'max_depth': 9, 'l2_leaf_reg': 33.06840004130266, 'one_hot_max_size': 100, 'auto_class_weights': 'SqrtBalanced'}. Best is trial 87 with value: 0.8621877710531715.\u001b[0m\n"
     ]
    },
    {
     "name": "stdout",
     "output_type": "stream",
     "text": [
      "Stopped by overfitting detector  (10 iterations wait)\n"
     ]
    },
    {
     "name": "stderr",
     "output_type": "stream",
     "text": [
      "\u001b[32m[I 2021-07-11 17:11:27,155]\u001b[0m Trial 89 finished with value: 0.862060882830183 and parameters: {'iterations': 1200, 'learning_rate': 0.010001317897290052, 'random_strength': 1, 'bagging_temperature': 7, 'max_bin': 10, 'grow_policy': 'Depthwise', 'min_data_in_leaf': 6, 'max_depth': 10, 'l2_leaf_reg': 31.50436083045, 'one_hot_max_size': 100, 'auto_class_weights': 'SqrtBalanced'}. Best is trial 87 with value: 0.8621877710531715.\u001b[0m\n"
     ]
    },
    {
     "name": "stdout",
     "output_type": "stream",
     "text": [
      "Stopped by overfitting detector  (10 iterations wait)\n"
     ]
    },
    {
     "name": "stderr",
     "output_type": "stream",
     "text": [
      "\u001b[32m[I 2021-07-11 17:12:22,442]\u001b[0m Trial 90 finished with value: 0.8615902490235883 and parameters: {'iterations': 1200, 'learning_rate': 0.031920235774659175, 'random_strength': 1, 'bagging_temperature': 8, 'max_bin': 10, 'grow_policy': 'Depthwise', 'min_data_in_leaf': 6, 'max_depth': 10, 'l2_leaf_reg': 34.042337810399395, 'one_hot_max_size': 100, 'auto_class_weights': 'SqrtBalanced'}. Best is trial 87 with value: 0.8621877710531715.\u001b[0m\n"
     ]
    },
    {
     "name": "stdout",
     "output_type": "stream",
     "text": [
      "Stopped by overfitting detector  (10 iterations wait)\n"
     ]
    },
    {
     "name": "stderr",
     "output_type": "stream",
     "text": [
      "\u001b[32m[I 2021-07-11 17:15:44,259]\u001b[0m Trial 91 finished with value: 0.8618662929314718 and parameters: {'iterations': 1200, 'learning_rate': 0.008460750542818517, 'random_strength': 1, 'bagging_temperature': 7, 'max_bin': 10, 'grow_policy': 'Depthwise', 'min_data_in_leaf': 6, 'max_depth': 9, 'l2_leaf_reg': 14.675632467087333, 'one_hot_max_size': 100, 'auto_class_weights': 'SqrtBalanced'}. Best is trial 87 with value: 0.8621877710531715.\u001b[0m\n"
     ]
    },
    {
     "name": "stdout",
     "output_type": "stream",
     "text": [
      "Stopped by overfitting detector  (10 iterations wait)\n"
     ]
    },
    {
     "name": "stderr",
     "output_type": "stream",
     "text": [
      "\u001b[32m[I 2021-07-11 17:18:04,774]\u001b[0m Trial 92 finished with value: 0.8618013106007719 and parameters: {'iterations': 1200, 'learning_rate': 0.012726551787821158, 'random_strength': 1, 'bagging_temperature': 8, 'max_bin': 10, 'grow_policy': 'Depthwise', 'min_data_in_leaf': 6, 'max_depth': 9, 'l2_leaf_reg': 15.845265105795423, 'one_hot_max_size': 100, 'auto_class_weights': 'SqrtBalanced'}. Best is trial 87 with value: 0.8621877710531715.\u001b[0m\n",
      "\u001b[32m[I 2021-07-11 17:23:16,109]\u001b[0m Trial 93 finished with value: 0.8586279829280246 and parameters: {'iterations': 1200, 'learning_rate': 0.0024984984293937307, 'random_strength': 1, 'bagging_temperature': 8, 'max_bin': 10, 'grow_policy': 'Depthwise', 'min_data_in_leaf': 6, 'max_depth': 9, 'l2_leaf_reg': 19.369829539928816, 'one_hot_max_size': 100, 'auto_class_weights': 'SqrtBalanced'}. Best is trial 87 with value: 0.8621877710531715.\u001b[0m\n"
     ]
    },
    {
     "name": "stdout",
     "output_type": "stream",
     "text": [
      "Stopped by overfitting detector  (10 iterations wait)\n"
     ]
    },
    {
     "name": "stderr",
     "output_type": "stream",
     "text": [
      "\u001b[32m[I 2021-07-11 17:27:16,302]\u001b[0m Trial 94 finished with value: 0.8624051191083761 and parameters: {'iterations': 1200, 'learning_rate': 0.00972580503543398, 'random_strength': 1, 'bagging_temperature': 7, 'max_bin': 10, 'grow_policy': 'Depthwise', 'min_data_in_leaf': 6, 'max_depth': 9, 'l2_leaf_reg': 46.678612598892926, 'one_hot_max_size': 100, 'auto_class_weights': 'SqrtBalanced'}. Best is trial 94 with value: 0.8624051191083761.\u001b[0m\n"
     ]
    },
    {
     "name": "stdout",
     "output_type": "stream",
     "text": [
      "Stopped by overfitting detector  (10 iterations wait)\n"
     ]
    },
    {
     "name": "stderr",
     "output_type": "stream",
     "text": [
      "\u001b[32m[I 2021-07-11 17:31:10,179]\u001b[0m Trial 95 finished with value: 0.8622071013031792 and parameters: {'iterations': 1200, 'learning_rate': 0.010829735043199899, 'random_strength': 1, 'bagging_temperature': 7, 'max_bin': 10, 'grow_policy': 'Depthwise', 'min_data_in_leaf': 6, 'max_depth': 10, 'l2_leaf_reg': 53.21938731000524, 'one_hot_max_size': 100, 'auto_class_weights': 'SqrtBalanced'}. Best is trial 94 with value: 0.8624051191083761.\u001b[0m\n"
     ]
    },
    {
     "name": "stdout",
     "output_type": "stream",
     "text": [
      "Stopped by overfitting detector  (10 iterations wait)\n"
     ]
    },
    {
     "name": "stderr",
     "output_type": "stream",
     "text": [
      "\u001b[32m[I 2021-07-11 17:35:24,017]\u001b[0m Trial 96 finished with value: 0.8621598724622814 and parameters: {'iterations': 1200, 'learning_rate': 0.009835146507888123, 'random_strength': 1, 'bagging_temperature': 7, 'max_bin': 10, 'grow_policy': 'Depthwise', 'min_data_in_leaf': 6, 'max_depth': 10, 'l2_leaf_reg': 55.620133811695815, 'one_hot_max_size': 100, 'auto_class_weights': 'SqrtBalanced'}. Best is trial 94 with value: 0.8624051191083761.\u001b[0m\n"
     ]
    },
    {
     "name": "stdout",
     "output_type": "stream",
     "text": [
      "Stopped by overfitting detector  (10 iterations wait)\n"
     ]
    },
    {
     "name": "stderr",
     "output_type": "stream",
     "text": [
      "\u001b[32m[I 2021-07-11 17:38:58,624]\u001b[0m Trial 97 finished with value: 0.8619909903988743 and parameters: {'iterations': 1200, 'learning_rate': 0.011405706874819233, 'random_strength': 1, 'bagging_temperature': 7, 'max_bin': 10, 'grow_policy': 'Depthwise', 'min_data_in_leaf': 6, 'max_depth': 10, 'l2_leaf_reg': 97.40337746760156, 'one_hot_max_size': 100, 'auto_class_weights': 'SqrtBalanced'}. Best is trial 94 with value: 0.8624051191083761.\u001b[0m\n",
      "\u001b[32m[I 2021-07-11 17:43:22,383]\u001b[0m Trial 98 finished with value: 0.8544989933387243 and parameters: {'iterations': 1200, 'learning_rate': 0.0015583949345311116, 'random_strength': 1, 'bagging_temperature': 7, 'max_bin': 10, 'grow_policy': 'Depthwise', 'min_data_in_leaf': 6, 'max_depth': 10, 'l2_leaf_reg': 29.84533583464116, 'one_hot_max_size': 100, 'auto_class_weights': 'SqrtBalanced'}. Best is trial 94 with value: 0.8624051191083761.\u001b[0m\n"
     ]
    },
    {
     "name": "stdout",
     "output_type": "stream",
     "text": [
      "Stopped by overfitting detector  (10 iterations wait)\n"
     ]
    },
    {
     "name": "stderr",
     "output_type": "stream",
     "text": [
      "\u001b[32m[I 2021-07-11 17:48:03,880]\u001b[0m Trial 99 finished with value: 0.8623293980919742 and parameters: {'iterations': 1200, 'learning_rate': 0.009905502645950397, 'random_strength': 1, 'bagging_temperature': 7, 'max_bin': 10, 'grow_policy': 'Depthwise', 'min_data_in_leaf': 5, 'max_depth': 9, 'l2_leaf_reg': 58.61462879665127, 'one_hot_max_size': 100, 'auto_class_weights': 'Balanced'}. Best is trial 94 with value: 0.8624051191083761.\u001b[0m\n"
     ]
    },
    {
     "name": "stdout",
     "output_type": "stream",
     "text": [
      "Stopped by overfitting detector  (10 iterations wait)\n"
     ]
    },
    {
     "name": "stderr",
     "output_type": "stream",
     "text": [
      "\u001b[32m[I 2021-07-11 17:52:28,552]\u001b[0m Trial 100 finished with value: 0.8623597539946968 and parameters: {'iterations': 1200, 'learning_rate': 0.010903554876585916, 'random_strength': 1, 'bagging_temperature': 7, 'max_bin': 10, 'grow_policy': 'Depthwise', 'min_data_in_leaf': 5, 'max_depth': 10, 'l2_leaf_reg': 61.224658365732544, 'one_hot_max_size': 100, 'auto_class_weights': 'Balanced'}. Best is trial 94 with value: 0.8624051191083761.\u001b[0m\n"
     ]
    },
    {
     "name": "stdout",
     "output_type": "stream",
     "text": [
      "Stopped by overfitting detector  (10 iterations wait)\n"
     ]
    },
    {
     "name": "stderr",
     "output_type": "stream",
     "text": [
      "\u001b[32m[I 2021-07-11 17:55:39,971]\u001b[0m Trial 101 finished with value: 0.8624645904181403 and parameters: {'iterations': 1200, 'learning_rate': 0.01376637812369862, 'random_strength': 1, 'bagging_temperature': 7, 'max_bin': 10, 'grow_policy': 'Depthwise', 'min_data_in_leaf': 5, 'max_depth': 10, 'l2_leaf_reg': 68.95145258869817, 'one_hot_max_size': 100, 'auto_class_weights': 'Balanced'}. Best is trial 101 with value: 0.8624645904181403.\u001b[0m\n"
     ]
    },
    {
     "name": "stdout",
     "output_type": "stream",
     "text": [
      "Stopped by overfitting detector  (10 iterations wait)\n"
     ]
    },
    {
     "name": "stderr",
     "output_type": "stream",
     "text": [
      "\u001b[32m[I 2021-07-11 17:59:18,460]\u001b[0m Trial 102 finished with value: 0.8621496115481486 and parameters: {'iterations': 1200, 'learning_rate': 0.012496468716404571, 'random_strength': 1, 'bagging_temperature': 7, 'max_bin': 10, 'grow_policy': 'Depthwise', 'min_data_in_leaf': 5, 'max_depth': 10, 'l2_leaf_reg': 63.79952334463514, 'one_hot_max_size': 100, 'auto_class_weights': 'Balanced'}. Best is trial 101 with value: 0.8624645904181403.\u001b[0m\n"
     ]
    },
    {
     "name": "stdout",
     "output_type": "stream",
     "text": [
      "Stopped by overfitting detector  (10 iterations wait)\n"
     ]
    },
    {
     "name": "stderr",
     "output_type": "stream",
     "text": [
      "\u001b[32m[I 2021-07-11 18:02:02,425]\u001b[0m Trial 103 finished with value: 0.8621464779063792 and parameters: {'iterations': 1200, 'learning_rate': 0.013669018680698489, 'random_strength': 1, 'bagging_temperature': 7, 'max_bin': 10, 'grow_policy': 'Depthwise', 'min_data_in_leaf': 5, 'max_depth': 9, 'l2_leaf_reg': 70.39767469824888, 'one_hot_max_size': 100, 'auto_class_weights': 'Balanced'}. Best is trial 101 with value: 0.8624645904181403.\u001b[0m\n"
     ]
    },
    {
     "name": "stdout",
     "output_type": "stream",
     "text": [
      "Stopped by overfitting detector  (10 iterations wait)\n"
     ]
    },
    {
     "name": "stderr",
     "output_type": "stream",
     "text": [
      "\u001b[32m[I 2021-07-11 18:03:16,260]\u001b[0m Trial 104 finished with value: 0.8618545840692138 and parameters: {'iterations': 1200, 'learning_rate': 0.02626685441657799, 'random_strength': 1, 'bagging_temperature': 7, 'max_bin': 10, 'grow_policy': 'Depthwise', 'min_data_in_leaf': 5, 'max_depth': 9, 'l2_leaf_reg': 60.525356147768164, 'one_hot_max_size': 100, 'auto_class_weights': 'Balanced'}. Best is trial 101 with value: 0.8624645904181403.\u001b[0m\n",
      "\u001b[32m[I 2021-07-11 18:07:49,743]\u001b[0m Trial 105 finished with value: 0.8501111571474615 and parameters: {'iterations': 1200, 'learning_rate': 0.0010796619198563846, 'random_strength': 1, 'bagging_temperature': 8, 'max_bin': 10, 'grow_policy': 'Depthwise', 'min_data_in_leaf': 5, 'max_depth': 10, 'l2_leaf_reg': 52.496087706658415, 'one_hot_max_size': 100, 'auto_class_weights': 'Balanced'}. Best is trial 101 with value: 0.8624645904181403.\u001b[0m\n"
     ]
    },
    {
     "name": "stdout",
     "output_type": "stream",
     "text": [
      "Stopped by overfitting detector  (10 iterations wait)\n"
     ]
    },
    {
     "name": "stderr",
     "output_type": "stream",
     "text": [
      "\u001b[32m[I 2021-07-11 18:10:15,294]\u001b[0m Trial 106 finished with value: 0.8625351531359744 and parameters: {'iterations': 1200, 'learning_rate': 0.01539038402342288, 'random_strength': 1, 'bagging_temperature': 7, 'max_bin': 10, 'grow_policy': 'Depthwise', 'min_data_in_leaf': 5, 'max_depth': 9, 'l2_leaf_reg': 79.28344703336924, 'one_hot_max_size': 100, 'auto_class_weights': 'Balanced'}. Best is trial 106 with value: 0.8625351531359744.\u001b[0m\n"
     ]
    },
    {
     "name": "stdout",
     "output_type": "stream",
     "text": [
      "Stopped by overfitting detector  (10 iterations wait)\n"
     ]
    },
    {
     "name": "stderr",
     "output_type": "stream",
     "text": [
      "\u001b[32m[I 2021-07-11 18:17:47,560]\u001b[0m Trial 107 finished with value: 0.8621824168948663 and parameters: {'iterations': 1200, 'learning_rate': 0.015003990343542778, 'random_strength': 2, 'bagging_temperature': 7, 'max_bin': 10, 'grow_policy': 'Depthwise', 'min_data_in_leaf': 5, 'max_depth': 9, 'l2_leaf_reg': 92.21106101596506, 'one_hot_max_size': 10, 'auto_class_weights': 'Balanced'}. Best is trial 106 with value: 0.8625351531359744.\u001b[0m\n"
     ]
    },
    {
     "name": "stdout",
     "output_type": "stream",
     "text": [
      "Stopped by overfitting detector  (10 iterations wait)\n"
     ]
    },
    {
     "name": "stderr",
     "output_type": "stream",
     "text": [
      "\u001b[32m[I 2021-07-11 18:19:22,881]\u001b[0m Trial 108 finished with value: 0.862051799925139 and parameters: {'iterations': 1200, 'learning_rate': 0.026954458938295945, 'random_strength': 2, 'bagging_temperature': 8, 'max_bin': 10, 'grow_policy': 'Depthwise', 'min_data_in_leaf': 4, 'max_depth': 9, 'l2_leaf_reg': 93.39606308758852, 'one_hot_max_size': 1024, 'auto_class_weights': 'Balanced'}. Best is trial 106 with value: 0.8625351531359744.\u001b[0m\n"
     ]
    },
    {
     "name": "stdout",
     "output_type": "stream",
     "text": [
      "Stopped by overfitting detector  (10 iterations wait)\n"
     ]
    },
    {
     "name": "stderr",
     "output_type": "stream",
     "text": [
      "\u001b[32m[I 2021-07-11 18:24:56,245]\u001b[0m Trial 109 finished with value: 0.8611144777472894 and parameters: {'iterations': 1200, 'learning_rate': 0.01924574259150971, 'random_strength': 1, 'bagging_temperature': 7, 'max_bin': 10, 'grow_policy': 'SymmetricTree', 'min_data_in_leaf': 5, 'max_depth': 10, 'l2_leaf_reg': 54.43751005303485, 'one_hot_max_size': 10, 'auto_class_weights': 'Balanced'}. Best is trial 106 with value: 0.8625351531359744.\u001b[0m\n",
      "\u001b[32m[I 2021-07-11 18:37:23,132]\u001b[0m Trial 110 finished with value: 0.8603807767951496 and parameters: {'iterations': 1200, 'learning_rate': 0.005859899721693215, 'random_strength': 2, 'bagging_temperature': 8, 'max_bin': 10, 'grow_policy': 'Depthwise', 'min_data_in_leaf': 5, 'max_depth': 9, 'l2_leaf_reg': 93.28914969902722, 'one_hot_max_size': 10, 'auto_class_weights': 'Balanced'}. Best is trial 106 with value: 0.8625351531359744.\u001b[0m\n"
     ]
    },
    {
     "name": "stdout",
     "output_type": "stream",
     "text": [
      "Stopped by overfitting detector  (10 iterations wait)\n"
     ]
    },
    {
     "name": "stderr",
     "output_type": "stream",
     "text": [
      "\u001b[32m[I 2021-07-11 18:41:27,893]\u001b[0m Trial 111 finished with value: 0.8618242518080118 and parameters: {'iterations': 1200, 'learning_rate': 0.016171803706941684, 'random_strength': 1, 'bagging_temperature': 7, 'max_bin': 10, 'grow_policy': 'Depthwise', 'min_data_in_leaf': 5, 'max_depth': 9, 'l2_leaf_reg': 24.24936371569788, 'one_hot_max_size': 10, 'auto_class_weights': 'Balanced'}. Best is trial 106 with value: 0.8625351531359744.\u001b[0m\n"
     ]
    },
    {
     "name": "stdout",
     "output_type": "stream",
     "text": [
      "Stopped by overfitting detector  (10 iterations wait)\n"
     ]
    },
    {
     "name": "stderr",
     "output_type": "stream",
     "text": [
      "\u001b[32m[I 2021-07-11 18:46:39,748]\u001b[0m Trial 112 finished with value: 0.8621886607269283 and parameters: {'iterations': 1200, 'learning_rate': 0.016552182057261566, 'random_strength': 1, 'bagging_temperature': 7, 'max_bin': 10, 'grow_policy': 'Depthwise', 'min_data_in_leaf': 5, 'max_depth': 10, 'l2_leaf_reg': 63.63471781227474, 'one_hot_max_size': 10, 'auto_class_weights': 'Balanced'}. Best is trial 106 with value: 0.8625351531359744.\u001b[0m\n",
      "\u001b[32m[I 2021-07-11 18:59:31,310]\u001b[0m Trial 113 finished with value: 0.8618027466521193 and parameters: {'iterations': 1200, 'learning_rate': 0.005624697493204111, 'random_strength': 1, 'bagging_temperature': 7, 'max_bin': 10, 'grow_policy': 'Depthwise', 'min_data_in_leaf': 5, 'max_depth': 10, 'l2_leaf_reg': 22.096522277784345, 'one_hot_max_size': 10, 'auto_class_weights': 'Balanced'}. Best is trial 106 with value: 0.8625351531359744.\u001b[0m\n",
      "\u001b[32m[I 2021-07-11 19:14:02,515]\u001b[0m Trial 114 finished with value: 0.8558983552122685 and parameters: {'iterations': 1200, 'learning_rate': 0.0014244021898703694, 'random_strength': 1, 'bagging_temperature': 7, 'max_bin': 10, 'grow_policy': 'Depthwise', 'min_data_in_leaf': 4, 'max_depth': 10, 'l2_leaf_reg': 6.929309464190683, 'one_hot_max_size': 10, 'auto_class_weights': 'Balanced'}. Best is trial 106 with value: 0.8625351531359744.\u001b[0m\n"
     ]
    },
    {
     "name": "stdout",
     "output_type": "stream",
     "text": [
      "Stopped by overfitting detector  (10 iterations wait)\n"
     ]
    },
    {
     "name": "stderr",
     "output_type": "stream",
     "text": [
      "\u001b[32m[I 2021-07-11 19:14:20,038]\u001b[0m Trial 115 finished with value: 0.8583424893294451 and parameters: {'iterations': 1200, 'learning_rate': 0.21132960131214087, 'random_strength': 1, 'bagging_temperature': 8, 'max_bin': 10, 'grow_policy': 'Depthwise', 'min_data_in_leaf': 5, 'max_depth': 8, 'l2_leaf_reg': 44.91520602133886, 'one_hot_max_size': 10, 'auto_class_weights': 'Balanced'}. Best is trial 106 with value: 0.8625351531359744.\u001b[0m\n"
     ]
    },
    {
     "name": "stdout",
     "output_type": "stream",
     "text": [
      "Stopped by overfitting detector  (10 iterations wait)\n"
     ]
    },
    {
     "name": "stderr",
     "output_type": "stream",
     "text": [
      "\u001b[32m[I 2021-07-11 19:17:50,463]\u001b[0m Trial 116 finished with value: 0.8618428953136508 and parameters: {'iterations': 1200, 'learning_rate': 0.03135813991259992, 'random_strength': 2, 'bagging_temperature': 7, 'max_bin': 10, 'grow_policy': 'Depthwise', 'min_data_in_leaf': 5, 'max_depth': 10, 'l2_leaf_reg': 90.37487143456252, 'one_hot_max_size': 10, 'auto_class_weights': 'Balanced'}. Best is trial 106 with value: 0.8625351531359744.\u001b[0m\n"
     ]
    },
    {
     "name": "stdout",
     "output_type": "stream",
     "text": [
      "Stopped by overfitting detector  (10 iterations wait)\n"
     ]
    },
    {
     "name": "stderr",
     "output_type": "stream",
     "text": [
      "\u001b[32m[I 2021-07-11 19:19:08,639]\u001b[0m Trial 117 finished with value: 0.8612540141458849 and parameters: {'iterations': 1200, 'learning_rate': 0.0179228448297522, 'random_strength': 1, 'bagging_temperature': 9, 'max_bin': 10, 'grow_policy': 'Depthwise', 'min_data_in_leaf': 4, 'max_depth': 9, 'l2_leaf_reg': 13.215981527160983, 'one_hot_max_size': 100, 'auto_class_weights': 'Balanced'}. Best is trial 106 with value: 0.8625351531359744.\u001b[0m\n"
     ]
    },
    {
     "name": "stdout",
     "output_type": "stream",
     "text": [
      "Stopped by overfitting detector  (10 iterations wait)\n"
     ]
    },
    {
     "name": "stderr",
     "output_type": "stream",
     "text": [
      "\u001b[32m[I 2021-07-11 19:22:49,963]\u001b[0m Trial 118 finished with value: 0.8619964483214106 and parameters: {'iterations': 1200, 'learning_rate': 0.027869368790277644, 'random_strength': 1, 'bagging_temperature': 7, 'max_bin': 10, 'grow_policy': 'Depthwise', 'min_data_in_leaf': 5, 'max_depth': 10, 'l2_leaf_reg': 96.0800900709338, 'one_hot_max_size': 10, 'auto_class_weights': 'Balanced'}. Best is trial 106 with value: 0.8625351531359744.\u001b[0m\n"
     ]
    },
    {
     "name": "stdout",
     "output_type": "stream",
     "text": [
      "Stopped by overfitting detector  (10 iterations wait)\n"
     ]
    },
    {
     "name": "stderr",
     "output_type": "stream",
     "text": [
      "\u001b[32m[I 2021-07-11 19:24:49,666]\u001b[0m Trial 119 finished with value: 0.862067962135345 and parameters: {'iterations': 1200, 'learning_rate': 0.023247884733068498, 'random_strength': 2, 'bagging_temperature': 7, 'max_bin': 10, 'grow_policy': 'Depthwise', 'min_data_in_leaf': 5, 'max_depth': 10, 'l2_leaf_reg': 58.4755941808314, 'one_hot_max_size': 100, 'auto_class_weights': 'Balanced'}. Best is trial 106 with value: 0.8625351531359744.\u001b[0m\n",
      "\u001b[32m[I 2021-07-11 19:37:16,772]\u001b[0m Trial 120 finished with value: 0.852240770857707 and parameters: {'iterations': 1200, 'learning_rate': 0.0011287696944541348, 'random_strength': 1, 'bagging_temperature': 8, 'max_bin': 10, 'grow_policy': 'Depthwise', 'min_data_in_leaf': 4, 'max_depth': 8, 'l2_leaf_reg': 26.09724696527437, 'one_hot_max_size': 12, 'auto_class_weights': 'Balanced'}. Best is trial 106 with value: 0.8625351531359744.\u001b[0m\n"
     ]
    },
    {
     "name": "stdout",
     "output_type": "stream",
     "text": [
      "Stopped by overfitting detector  (10 iterations wait)\n"
     ]
    },
    {
     "name": "stderr",
     "output_type": "stream",
     "text": [
      "\u001b[32m[I 2021-07-11 19:40:13,165]\u001b[0m Trial 121 finished with value: 0.8621136182449781 and parameters: {'iterations': 1200, 'learning_rate': 0.013152121056415236, 'random_strength': 1, 'bagging_temperature': 7, 'max_bin': 10, 'grow_policy': 'Depthwise', 'min_data_in_leaf': 5, 'max_depth': 9, 'l2_leaf_reg': 65.68637325063895, 'one_hot_max_size': 100, 'auto_class_weights': 'Balanced'}. Best is trial 106 with value: 0.8625351531359744.\u001b[0m\n"
     ]
    },
    {
     "name": "stdout",
     "output_type": "stream",
     "text": [
      "Stopped by overfitting detector  (10 iterations wait)\n"
     ]
    },
    {
     "name": "stderr",
     "output_type": "stream",
     "text": [
      "\u001b[32m[I 2021-07-11 19:42:11,202]\u001b[0m Trial 122 finished with value: 0.8624642834204501 and parameters: {'iterations': 1200, 'learning_rate': 0.017067851769223392, 'random_strength': 1, 'bagging_temperature': 7, 'max_bin': 10, 'grow_policy': 'Depthwise', 'min_data_in_leaf': 5, 'max_depth': 9, 'l2_leaf_reg': 44.349565496240835, 'one_hot_max_size': 100, 'auto_class_weights': 'Balanced'}. Best is trial 106 with value: 0.8625351531359744.\u001b[0m\n"
     ]
    },
    {
     "name": "stdout",
     "output_type": "stream",
     "text": [
      "Stopped by overfitting detector  (10 iterations wait)\n"
     ]
    },
    {
     "name": "stderr",
     "output_type": "stream",
     "text": [
      "\u001b[32m[I 2021-07-11 19:46:56,469]\u001b[0m Trial 123 finished with value: 0.8624749045446993 and parameters: {'iterations': 1200, 'learning_rate': 0.009305185064360517, 'random_strength': 1, 'bagging_temperature': 7, 'max_bin': 10, 'grow_policy': 'Depthwise', 'min_data_in_leaf': 5, 'max_depth': 9, 'l2_leaf_reg': 40.53396088573981, 'one_hot_max_size': 100, 'auto_class_weights': 'Balanced'}. Best is trial 106 with value: 0.8625351531359744.\u001b[0m\n"
     ]
    },
    {
     "name": "stdout",
     "output_type": "stream",
     "text": [
      "Stopped by overfitting detector  (10 iterations wait)\n"
     ]
    },
    {
     "name": "stderr",
     "output_type": "stream",
     "text": [
      "\u001b[32m[I 2021-07-11 19:51:42,273]\u001b[0m Trial 124 finished with value: 0.8616269153499234 and parameters: {'iterations': 1200, 'learning_rate': 0.0072239283233471695, 'random_strength': 1, 'bagging_temperature': 8, 'max_bin': 4, 'grow_policy': 'Depthwise', 'min_data_in_leaf': 5, 'max_depth': 9, 'l2_leaf_reg': 37.04045858595296, 'one_hot_max_size': 100, 'auto_class_weights': 'Balanced'}. Best is trial 106 with value: 0.8625351531359744.\u001b[0m\n"
     ]
    },
    {
     "name": "stdout",
     "output_type": "stream",
     "text": [
      "Stopped by overfitting detector  (10 iterations wait)\n"
     ]
    },
    {
     "name": "stderr",
     "output_type": "stream",
     "text": [
      "\u001b[32m[I 2021-07-11 19:53:37,767]\u001b[0m Trial 125 finished with value: 0.8621851699157528 and parameters: {'iterations': 1200, 'learning_rate': 0.018967012900719747, 'random_strength': 1, 'bagging_temperature': 7, 'max_bin': 10, 'grow_policy': 'Depthwise', 'min_data_in_leaf': 4, 'max_depth': 9, 'l2_leaf_reg': 99.19383948740446, 'one_hot_max_size': 100, 'auto_class_weights': 'Balanced'}. Best is trial 106 with value: 0.8625351531359744.\u001b[0m\n"
     ]
    },
    {
     "name": "stdout",
     "output_type": "stream",
     "text": [
      "Stopped by overfitting detector  (10 iterations wait)\n"
     ]
    },
    {
     "name": "stderr",
     "output_type": "stream",
     "text": [
      "\u001b[32m[I 2021-07-11 19:55:47,546]\u001b[0m Trial 126 finished with value: 0.8617409117604107 and parameters: {'iterations': 1200, 'learning_rate': 0.018415073484656402, 'random_strength': 2, 'bagging_temperature': 7, 'max_bin': 10, 'grow_policy': 'Depthwise', 'min_data_in_leaf': 4, 'max_depth': 9, 'l2_leaf_reg': 18.22319689252922, 'one_hot_max_size': 100, 'auto_class_weights': 'Balanced'}. Best is trial 106 with value: 0.8625351531359744.\u001b[0m\n"
     ]
    },
    {
     "name": "stdout",
     "output_type": "stream",
     "text": [
      "Stopped by overfitting detector  (10 iterations wait)\n"
     ]
    },
    {
     "name": "stderr",
     "output_type": "stream",
     "text": [
      "\u001b[32m[I 2021-07-11 19:56:40,628]\u001b[0m Trial 127 finished with value: 0.8619425286640707 and parameters: {'iterations': 1200, 'learning_rate': 0.025031587821050104, 'random_strength': 1, 'bagging_temperature': 8, 'max_bin': 10, 'grow_policy': 'Depthwise', 'min_data_in_leaf': 4, 'max_depth': 8, 'l2_leaf_reg': 11.879120113541475, 'one_hot_max_size': 100, 'auto_class_weights': 'Balanced'}. Best is trial 106 with value: 0.8625351531359744.\u001b[0m\n"
     ]
    },
    {
     "name": "stdout",
     "output_type": "stream",
     "text": [
      "Stopped by overfitting detector  (10 iterations wait)\n"
     ]
    },
    {
     "name": "stderr",
     "output_type": "stream",
     "text": [
      "\u001b[32m[I 2021-07-11 19:56:53,375]\u001b[0m Trial 128 finished with value: 0.8585785060141559 and parameters: {'iterations': 1200, 'learning_rate': 0.1320519620916337, 'random_strength': 2, 'bagging_temperature': 7, 'max_bin': 10, 'grow_policy': 'Depthwise', 'min_data_in_leaf': 3, 'max_depth': 9, 'l2_leaf_reg': 28.784532238338887, 'one_hot_max_size': 100, 'auto_class_weights': 'Balanced'}. Best is trial 106 with value: 0.8625351531359744.\u001b[0m\n"
     ]
    },
    {
     "name": "stdout",
     "output_type": "stream",
     "text": [
      "Stopped by overfitting detector  (10 iterations wait)\n"
     ]
    },
    {
     "name": "stderr",
     "output_type": "stream",
     "text": [
      "\u001b[32m[I 2021-07-11 19:57:52,351]\u001b[0m Trial 129 finished with value: 0.8618670569098764 and parameters: {'iterations': 1200, 'learning_rate': 0.0337509638199955, 'random_strength': 1, 'bagging_temperature': 7, 'max_bin': 10, 'grow_policy': 'Depthwise', 'min_data_in_leaf': 5, 'max_depth': 9, 'l2_leaf_reg': 95.62037634059682, 'one_hot_max_size': 100, 'auto_class_weights': 'Balanced'}. Best is trial 106 with value: 0.8625351531359744.\u001b[0m\n"
     ]
    },
    {
     "name": "stdout",
     "output_type": "stream",
     "text": [
      "Stopped by overfitting detector  (10 iterations wait)\n"
     ]
    },
    {
     "name": "stderr",
     "output_type": "stream",
     "text": [
      "\u001b[32m[I 2021-07-11 20:03:57,650]\u001b[0m Trial 130 finished with value: 0.8614138350833341 and parameters: {'iterations': 1200, 'learning_rate': 0.016897676600226383, 'random_strength': 6, 'bagging_temperature': 7, 'max_bin': 10, 'grow_policy': 'Depthwise', 'min_data_in_leaf': 4, 'max_depth': 9, 'l2_leaf_reg': 8.200136957226684, 'one_hot_max_size': 10, 'auto_class_weights': 'Balanced'}. Best is trial 106 with value: 0.8625351531359744.\u001b[0m\n",
      "\u001b[32m[I 2021-07-11 20:08:24,355]\u001b[0m Trial 131 finished with value: 0.8620652987393879 and parameters: {'iterations': 1200, 'learning_rate': 0.007720483896295649, 'random_strength': 1, 'bagging_temperature': 7, 'max_bin': 10, 'grow_policy': 'Depthwise', 'min_data_in_leaf': 5, 'max_depth': 10, 'l2_leaf_reg': 41.68416171863161, 'one_hot_max_size': 100, 'auto_class_weights': 'Balanced'}. Best is trial 106 with value: 0.8625351531359744.\u001b[0m\n"
     ]
    },
    {
     "name": "stdout",
     "output_type": "stream",
     "text": [
      "Stopped by overfitting detector  (10 iterations wait)\n"
     ]
    },
    {
     "name": "stderr",
     "output_type": "stream",
     "text": [
      "\u001b[32m[I 2021-07-11 20:10:01,707]\u001b[0m Trial 132 finished with value: 0.862017639447971 and parameters: {'iterations': 1200, 'learning_rate': 0.021457798132981203, 'random_strength': 1, 'bagging_temperature': 7, 'max_bin': 10, 'grow_policy': 'Depthwise', 'min_data_in_leaf': 6, 'max_depth': 9, 'l2_leaf_reg': 99.7083365830893, 'one_hot_max_size': 100, 'auto_class_weights': 'Balanced'}. Best is trial 106 with value: 0.8625351531359744.\u001b[0m\n",
      "\u001b[32m[I 2021-07-11 20:14:47,718]\u001b[0m Trial 133 finished with value: 0.8543650939604875 and parameters: {'iterations': 1200, 'learning_rate': 0.0019315802160692341, 'random_strength': 1, 'bagging_temperature': 7, 'max_bin': 10, 'grow_policy': 'Depthwise', 'min_data_in_leaf': 5, 'max_depth': 8, 'l2_leaf_reg': 99.77672438771819, 'one_hot_max_size': 100, 'auto_class_weights': 'Balanced'}. Best is trial 106 with value: 0.8625351531359744.\u001b[0m\n"
     ]
    },
    {
     "name": "stdout",
     "output_type": "stream",
     "text": [
      "Stopped by overfitting detector  (10 iterations wait)\n"
     ]
    },
    {
     "name": "stderr",
     "output_type": "stream",
     "text": [
      "\u001b[32m[I 2021-07-11 20:18:56,173]\u001b[0m Trial 134 finished with value: 0.8621301282744067 and parameters: {'iterations': 1200, 'learning_rate': 0.010044041778917458, 'random_strength': 1, 'bagging_temperature': 7, 'max_bin': 6, 'grow_policy': 'Depthwise', 'min_data_in_leaf': 6, 'max_depth': 9, 'l2_leaf_reg': 47.96003917246722, 'one_hot_max_size': 100, 'auto_class_weights': 'Balanced'}. Best is trial 106 with value: 0.8625351531359744.\u001b[0m\n"
     ]
    },
    {
     "name": "stdout",
     "output_type": "stream",
     "text": [
      "Stopped by overfitting detector  (10 iterations wait)\n"
     ]
    },
    {
     "name": "stderr",
     "output_type": "stream",
     "text": [
      "\u001b[32m[I 2021-07-11 20:19:48,583]\u001b[0m Trial 135 finished with value: 0.8616301002276572 and parameters: {'iterations': 1200, 'learning_rate': 0.030622533692154535, 'random_strength': 1, 'bagging_temperature': 7, 'max_bin': 10, 'grow_policy': 'Depthwise', 'min_data_in_leaf': 5, 'max_depth': 9, 'l2_leaf_reg': 21.516415436156333, 'one_hot_max_size': 100, 'auto_class_weights': 'Balanced'}. Best is trial 106 with value: 0.8625351531359744.\u001b[0m\n"
     ]
    },
    {
     "name": "stdout",
     "output_type": "stream",
     "text": [
      "Stopped by overfitting detector  (10 iterations wait)\n"
     ]
    },
    {
     "name": "stderr",
     "output_type": "stream",
     "text": [
      "\u001b[32m[I 2021-07-11 20:19:57,074]\u001b[0m Trial 136 finished with value: 0.855165525765643 and parameters: {'iterations': 1200, 'learning_rate': 0.2872329125289428, 'random_strength': 1, 'bagging_temperature': 6, 'max_bin': 10, 'grow_policy': 'Depthwise', 'min_data_in_leaf': 6, 'max_depth': 10, 'l2_leaf_reg': 33.5928550302537, 'one_hot_max_size': 500, 'auto_class_weights': 'Balanced'}. Best is trial 106 with value: 0.8625351531359744.\u001b[0m\n"
     ]
    },
    {
     "name": "stdout",
     "output_type": "stream",
     "text": [
      "Stopped by overfitting detector  (10 iterations wait)\n"
     ]
    },
    {
     "name": "stderr",
     "output_type": "stream",
     "text": [
      "\u001b[32m[I 2021-07-11 20:21:17,914]\u001b[0m Trial 137 finished with value: 0.8612472318800876 and parameters: {'iterations': 1200, 'learning_rate': 0.01602452785428412, 'random_strength': 1, 'bagging_temperature': 8, 'max_bin': 10, 'grow_policy': 'Depthwise', 'min_data_in_leaf': 5, 'max_depth': 10, 'l2_leaf_reg': 13.532188955469904, 'one_hot_max_size': 100, 'auto_class_weights': 'Balanced'}. Best is trial 106 with value: 0.8625351531359744.\u001b[0m\n"
     ]
    },
    {
     "name": "stdout",
     "output_type": "stream",
     "text": [
      "Stopped by overfitting detector  (10 iterations wait)\n"
     ]
    },
    {
     "name": "stderr",
     "output_type": "stream",
     "text": [
      "\u001b[32m[I 2021-07-11 20:22:35,252]\u001b[0m Trial 138 finished with value: 0.8618478974717567 and parameters: {'iterations': 1200, 'learning_rate': 0.024007202610545536, 'random_strength': 1, 'bagging_temperature': 8, 'max_bin': 10, 'grow_policy': 'Depthwise', 'min_data_in_leaf': 2, 'max_depth': 9, 'l2_leaf_reg': 57.79380575642659, 'one_hot_max_size': 100, 'auto_class_weights': 'Balanced'}. Best is trial 106 with value: 0.8625351531359744.\u001b[0m\n",
      "\u001b[32m[I 2021-07-11 20:23:12,593]\u001b[0m Trial 139 finished with value: 0.8477530688537399 and parameters: {'iterations': 300, 'learning_rate': 0.007103170556432854, 'random_strength': 7, 'bagging_temperature': 6, 'max_bin': 10, 'grow_policy': 'Depthwise', 'min_data_in_leaf': 4, 'max_depth': 8, 'l2_leaf_reg': 23.60301238897339, 'one_hot_max_size': 1024, 'auto_class_weights': 'Balanced'}. Best is trial 106 with value: 0.8625351531359744.\u001b[0m\n",
      "\u001b[32m[I 2021-07-11 20:23:37,464]\u001b[0m Trial 140 finished with value: 0.8369217941001269 and parameters: {'iterations': 200, 'learning_rate': 0.001771405456595267, 'random_strength': 2, 'bagging_temperature': 7, 'max_bin': 5, 'grow_policy': 'SymmetricTree', 'min_data_in_leaf': 5, 'max_depth': 10, 'l2_leaf_reg': 65.97184368299371, 'one_hot_max_size': 100, 'auto_class_weights': 'Balanced'}. Best is trial 106 with value: 0.8625351531359744.\u001b[0m\n"
     ]
    },
    {
     "name": "stdout",
     "output_type": "stream",
     "text": [
      "Stopped by overfitting detector  (10 iterations wait)\n"
     ]
    },
    {
     "name": "stderr",
     "output_type": "stream",
     "text": [
      "\u001b[32m[I 2021-07-11 20:28:06,914]\u001b[0m Trial 141 finished with value: 0.8623526670877594 and parameters: {'iterations': 1200, 'learning_rate': 0.011535452947437566, 'random_strength': 1, 'bagging_temperature': 7, 'max_bin': 10, 'grow_policy': 'Depthwise', 'min_data_in_leaf': 5, 'max_depth': 10, 'l2_leaf_reg': 97.0664065216873, 'one_hot_max_size': 100, 'auto_class_weights': 'Balanced'}. Best is trial 106 with value: 0.8625351531359744.\u001b[0m\n"
     ]
    },
    {
     "name": "stdout",
     "output_type": "stream",
     "text": [
      "Stopped by overfitting detector  (10 iterations wait)\n"
     ]
    },
    {
     "name": "stderr",
     "output_type": "stream",
     "text": [
      "\u001b[32m[I 2021-07-11 20:30:43,784]\u001b[0m Trial 142 finished with value: 0.8618874655477097 and parameters: {'iterations': 1200, 'learning_rate': 0.012631139119548829, 'random_strength': 1, 'bagging_temperature': 7, 'max_bin': 10, 'grow_policy': 'Depthwise', 'min_data_in_leaf': 5, 'max_depth': 10, 'l2_leaf_reg': 34.69111579819706, 'one_hot_max_size': 100, 'auto_class_weights': 'Balanced'}. Best is trial 106 with value: 0.8625351531359744.\u001b[0m\n"
     ]
    },
    {
     "name": "stdout",
     "output_type": "stream",
     "text": [
      "Stopped by overfitting detector  (10 iterations wait)\n"
     ]
    },
    {
     "name": "stderr",
     "output_type": "stream",
     "text": [
      "\u001b[32m[I 2021-07-11 20:32:37,919]\u001b[0m Trial 143 finished with value: 0.8621799719739274 and parameters: {'iterations': 1200, 'learning_rate': 0.018794938971142816, 'random_strength': 1, 'bagging_temperature': 7, 'max_bin': 10, 'grow_policy': 'Depthwise', 'min_data_in_leaf': 6, 'max_depth': 9, 'l2_leaf_reg': 88.58005974490452, 'one_hot_max_size': 100, 'auto_class_weights': 'Balanced'}. Best is trial 106 with value: 0.8625351531359744.\u001b[0m\n"
     ]
    },
    {
     "name": "stdout",
     "output_type": "stream",
     "text": [
      "Stopped by overfitting detector  (10 iterations wait)\n"
     ]
    },
    {
     "name": "stderr",
     "output_type": "stream",
     "text": [
      "\u001b[32m[I 2021-07-11 20:34:19,588]\u001b[0m Trial 144 finished with value: 0.8620557537604405 and parameters: {'iterations': 1200, 'learning_rate': 0.01931653407965175, 'random_strength': 1, 'bagging_temperature': 7, 'max_bin': 10, 'grow_policy': 'Depthwise', 'min_data_in_leaf': 5, 'max_depth': 9, 'l2_leaf_reg': 70.228573613986, 'one_hot_max_size': 100, 'auto_class_weights': 'Balanced'}. Best is trial 106 with value: 0.8625351531359744.\u001b[0m\n"
     ]
    },
    {
     "name": "stdout",
     "output_type": "stream",
     "text": [
      "Stopped by overfitting detector  (10 iterations wait)\n"
     ]
    },
    {
     "name": "stderr",
     "output_type": "stream",
     "text": [
      "\u001b[32m[I 2021-07-11 20:35:24,855]\u001b[0m Trial 145 finished with value: 0.8617313765877533 and parameters: {'iterations': 1200, 'learning_rate': 0.0271534135362827, 'random_strength': 1, 'bagging_temperature': 7, 'max_bin': 10, 'grow_policy': 'Depthwise', 'min_data_in_leaf': 5, 'max_depth': 9, 'l2_leaf_reg': 95.75699753379598, 'one_hot_max_size': 100, 'auto_class_weights': 'Balanced'}. Best is trial 106 with value: 0.8625351531359744.\u001b[0m\n",
      "\u001b[32m[I 2021-07-11 20:40:56,235]\u001b[0m Trial 146 finished with value: 0.851918664639334 and parameters: {'iterations': 1200, 'learning_rate': 0.0015032816341683554, 'random_strength': 1, 'bagging_temperature': 6, 'max_bin': 10, 'grow_policy': 'Depthwise', 'min_data_in_leaf': 6, 'max_depth': 9, 'l2_leaf_reg': 96.91534514922448, 'one_hot_max_size': 100, 'auto_class_weights': 'Balanced'}. Best is trial 106 with value: 0.8625351531359744.\u001b[0m\n"
     ]
    },
    {
     "name": "stdout",
     "output_type": "stream",
     "text": [
      "Stopped by overfitting detector  (10 iterations wait)\n"
     ]
    },
    {
     "name": "stderr",
     "output_type": "stream",
     "text": [
      "\u001b[32m[I 2021-07-11 20:43:11,652]\u001b[0m Trial 147 finished with value: 0.8621516975512729 and parameters: {'iterations': 1200, 'learning_rate': 0.017775805575407713, 'random_strength': 2, 'bagging_temperature': 7, 'max_bin': 10, 'grow_policy': 'Depthwise', 'min_data_in_leaf': 5, 'max_depth': 9, 'l2_leaf_reg': 41.248104237614115, 'one_hot_max_size': 100, 'auto_class_weights': 'Balanced'}. Best is trial 106 with value: 0.8625351531359744.\u001b[0m\n"
     ]
    },
    {
     "name": "stdout",
     "output_type": "stream",
     "text": [
      "Stopped by overfitting detector  (10 iterations wait)\n"
     ]
    },
    {
     "name": "stderr",
     "output_type": "stream",
     "text": [
      "\u001b[32m[I 2021-07-11 20:44:15,087]\u001b[0m Trial 148 finished with value: 0.8617996687313619 and parameters: {'iterations': 1200, 'learning_rate': 0.02351959469949419, 'random_strength': 1, 'bagging_temperature': 8, 'max_bin': 10, 'grow_policy': 'Depthwise', 'min_data_in_leaf': 6, 'max_depth': 9, 'l2_leaf_reg': 16.818059773751475, 'one_hot_max_size': 100, 'auto_class_weights': 'Balanced'}. Best is trial 106 with value: 0.8625351531359744.\u001b[0m\n"
     ]
    },
    {
     "name": "stdout",
     "output_type": "stream",
     "text": [
      "Stopped by overfitting detector  (10 iterations wait)\n"
     ]
    },
    {
     "name": "stderr",
     "output_type": "stream",
     "text": [
      "\u001b[32m[I 2021-07-11 20:46:05,576]\u001b[0m Trial 149 finished with value: 0.8616514440358719 and parameters: {'iterations': 1200, 'learning_rate': 0.03532792208487845, 'random_strength': 1, 'bagging_temperature': 7, 'max_bin': 10, 'grow_policy': 'Depthwise', 'min_data_in_leaf': 5, 'max_depth': 8, 'l2_leaf_reg': 25.322715334471365, 'one_hot_max_size': 10, 'auto_class_weights': 'Balanced'}. Best is trial 106 with value: 0.8625351531359744.\u001b[0m\n"
     ]
    }
   ],
   "source": [
    "sampler = optuna.samplers.TPESampler(seed=42)\n",
    "study = optuna.create_study(direction=\"maximize\", sampler=sampler)\n",
    "study.optimize(objective, n_trials=150)"
   ]
  },
  {
   "cell_type": "code",
   "execution_count": 29,
   "metadata": {},
   "outputs": [
    {
     "data": {
      "text/plain": [
       "{'iterations': 1200,\n",
       " 'learning_rate': 0.01539038402342288,\n",
       " 'random_strength': 1,\n",
       " 'bagging_temperature': 7,\n",
       " 'max_bin': 10,\n",
       " 'grow_policy': 'Depthwise',\n",
       " 'min_data_in_leaf': 5,\n",
       " 'max_depth': 9,\n",
       " 'l2_leaf_reg': 79.28344703336924,\n",
       " 'one_hot_max_size': 100,\n",
       " 'auto_class_weights': 'Balanced'}"
      ]
     },
     "execution_count": 29,
     "metadata": {},
     "output_type": "execute_result"
    }
   ],
   "source": [
    "trial = study.best_trial\n",
    "final_model = CatBoostClassifier(verbose=False,  cat_features=categorical_features_indices, \n",
    "                          **trial.params)\n",
    "trial.params"
   ]
  },
  {
   "cell_type": "code",
   "execution_count": 57,
   "metadata": {},
   "outputs": [],
   "source": [
    "params = trial.params\n",
    "final_seas_model = CatBoostClassifier(cat_features=categorical_features_indices,\n",
    "                                     verbose=False,\n",
    "                                     iterations=1200,\n",
    "                                     learning_rate=0.01539038402342288,\n",
    "                                     random_strength=1,\n",
    "                                     bagging_temperature=7,\n",
    "                                     max_bin=10,\n",
    "                                     grow_policy='Depthwise',\n",
    "                                     min_data_in_leaf=5,\n",
    "                                     max_depth=9,\n",
    "                                     l2_leaf_reg=79.28344703336924,\n",
    "                                     one_hot_max_size=100,\n",
    "                                     auto_class_weights='Balanced').fit(seas_train_trans, seas_labels)"
   ]
  },
  {
   "cell_type": "markdown",
   "metadata": {},
   "source": [
    "### Train Accuracy"
   ]
  },
  {
   "cell_type": "code",
   "execution_count": 58,
   "metadata": {},
   "outputs": [],
   "source": [
    "h1n1_train_data = train_test.copy()\n",
    "h1n1_train_data[num_cols] = h1n1_scaler.transform(h1n1_train_data[num_cols])\n",
    "\n",
    "seas_train_data = train_test.copy()\n",
    "seas_train_data[num_cols] = seas_scaler.transform(seas_train_data[num_cols])"
   ]
  },
  {
   "cell_type": "code",
   "execution_count": 59,
   "metadata": {},
   "outputs": [],
   "source": [
    "y_predicted_h1n1 = final_h1n1_model.predict_proba(h1n1_train_data)[:,1].reshape(-1,1)\n",
    "y_predicted_seas = final_seas_model.predict_proba(seas_train_data)[:,1].reshape(-1,1)\n",
    "\n",
    "y_true = np.array(labels)\n",
    "\n",
    "y_predicted = np.concatenate((y_predicted_h1n1, y_predicted_seas), axis=1)"
   ]
  },
  {
   "cell_type": "code",
   "execution_count": 60,
   "metadata": {},
   "outputs": [
    {
     "data": {
      "text/plain": [
       "0.9285410287131499"
      ]
     },
     "execution_count": 60,
     "metadata": {},
     "output_type": "execute_result"
    }
   ],
   "source": [
    "roc_auc_score(np.array(labels), y_predicted)"
   ]
  },
  {
   "cell_type": "markdown",
   "metadata": {},
   "source": [
    "# Submission"
   ]
  },
  {
   "cell_type": "code",
   "execution_count": 61,
   "metadata": {},
   "outputs": [],
   "source": [
    "test = pd.read_csv('../Data/test_set_features.csv', index_col='respondent_id')\n",
    "full_test = test.copy()"
   ]
  },
  {
   "cell_type": "code",
   "execution_count": 62,
   "metadata": {},
   "outputs": [],
   "source": [
    "num_cols = list(test.select_dtypes('number').columns)\n",
    "\n",
    "cat_cols = [\n",
    "    'race',\n",
    "    'sex',\n",
    "    'marital_status',\n",
    "    'rent_or_own',\n",
    "    'hhs_geo_region',\n",
    "    'census_msa',\n",
    "    'employment_industry',\n",
    "    'employment_occupation'\n",
    "]\n",
    "\n",
    "ord_cols = [\n",
    "    'age_group',\n",
    "    'education',\n",
    "    'income_poverty',\n",
    "    'employment_status'\n",
    "]\n",
    "\n",
    "\n",
    "#Impute Test\n",
    "for col in num_cols:\n",
    "    test[col] = test[col].fillna(value=-1)\n",
    "\n",
    "\n",
    "for col in (cat_cols+ord_cols):\n",
    "    test[col] = test[col].fillna(value='None')\n",
    "\n",
    "    \n",
    "test['age_group'] = test['age_group'].map({\n",
    "    '18 - 34 Years': 1,\n",
    "    '35 - 44 Years': 2,\n",
    "    '45 - 54 Years': 3,\n",
    "    '55 - 64 Years': 4,\n",
    "    '65+ Years': 5\n",
    "})\n",
    "    \n",
    "test['education'] = test['education'].map({\n",
    "    '< 12 Years': 1,\n",
    "    '12 Years': 2,\n",
    "    'Some College': 3,\n",
    "    'College Graduate': 4,\n",
    "    'None': -1\n",
    "})\n",
    "\n",
    "test['income_poverty'] = test['income_poverty'].map({\n",
    "    'None': -1,\n",
    "    'Below Poverty': 1,\n",
    "    '<= $75,000, Above Poverty': 2,\n",
    "    '> $75,000': 3\n",
    "})\n",
    "\n",
    "test['employment_status'] = test['employment_status'].map({\n",
    "    'None': -1,\n",
    "    'Unemployed': 1,\n",
    "    'Employed': 2,\n",
    "    'Not in Labor Force': 3\n",
    "})"
   ]
  },
  {
   "cell_type": "code",
   "execution_count": 63,
   "metadata": {},
   "outputs": [],
   "source": [
    "test_h1n1 = test.copy()\n",
    "test_seas = test.copy()\n",
    "\n",
    "test_h1n1[num_cols] = h1n1_scaler.transform(test_h1n1[num_cols])\n",
    "test_seas[num_cols] = seas_scaler.transform(test_seas[num_cols])"
   ]
  },
  {
   "cell_type": "code",
   "execution_count": 64,
   "metadata": {},
   "outputs": [],
   "source": [
    "y_h1n1 = final_h1n1_model.predict_proba(test_h1n1)[:,1].reshape(-1,1)\n",
    "y_seas = final_seas_model.predict_proba(test_seas)[:,1].reshape(-1,1)\n",
    "\n",
    "y_comb = np.concatenate((y_h1n1, y_seas), axis=1)"
   ]
  },
  {
   "cell_type": "code",
   "execution_count": 65,
   "metadata": {},
   "outputs": [
    {
     "data": {
      "text/plain": [
       "array([[0.20531939, 0.25528503],\n",
       "       [0.09442223, 0.04151085],\n",
       "       [0.32290598, 0.75621695],\n",
       "       ...,\n",
       "       [0.36569237, 0.18008237],\n",
       "       [0.03534583, 0.29656844],\n",
       "       [0.8135526 , 0.71398649]])"
      ]
     },
     "execution_count": 65,
     "metadata": {},
     "output_type": "execute_result"
    }
   ],
   "source": [
    "y_comb"
   ]
  },
  {
   "cell_type": "code",
   "execution_count": 66,
   "metadata": {},
   "outputs": [],
   "source": [
    "results = pd.DataFrame(y_comb, columns=['h1n1_vaccine', 'seasonal_vaccine'], index=test.index)\n",
    "\n",
    "submission = pd.concat([full_test, results], axis=1)\n",
    "submission = submission[['h1n1_vaccine', 'seasonal_vaccine']]"
   ]
  },
  {
   "cell_type": "code",
   "execution_count": 67,
   "metadata": {},
   "outputs": [
    {
     "data": {
      "text/html": [
       "<div>\n",
       "<style scoped>\n",
       "    .dataframe tbody tr th:only-of-type {\n",
       "        vertical-align: middle;\n",
       "    }\n",
       "\n",
       "    .dataframe tbody tr th {\n",
       "        vertical-align: top;\n",
       "    }\n",
       "\n",
       "    .dataframe thead th {\n",
       "        text-align: right;\n",
       "    }\n",
       "</style>\n",
       "<table border=\"1\" class=\"dataframe\">\n",
       "  <thead>\n",
       "    <tr style=\"text-align: right;\">\n",
       "      <th></th>\n",
       "      <th>h1n1_vaccine</th>\n",
       "      <th>seasonal_vaccine</th>\n",
       "    </tr>\n",
       "    <tr>\n",
       "      <th>respondent_id</th>\n",
       "      <th></th>\n",
       "      <th></th>\n",
       "    </tr>\n",
       "  </thead>\n",
       "  <tbody>\n",
       "    <tr>\n",
       "      <th>26707</th>\n",
       "      <td>0.205319</td>\n",
       "      <td>0.255285</td>\n",
       "    </tr>\n",
       "    <tr>\n",
       "      <th>26708</th>\n",
       "      <td>0.094422</td>\n",
       "      <td>0.041511</td>\n",
       "    </tr>\n",
       "    <tr>\n",
       "      <th>26709</th>\n",
       "      <td>0.322906</td>\n",
       "      <td>0.756217</td>\n",
       "    </tr>\n",
       "    <tr>\n",
       "      <th>26710</th>\n",
       "      <td>0.883410</td>\n",
       "      <td>0.905234</td>\n",
       "    </tr>\n",
       "    <tr>\n",
       "      <th>26711</th>\n",
       "      <td>0.606504</td>\n",
       "      <td>0.527756</td>\n",
       "    </tr>\n",
       "    <tr>\n",
       "      <th>...</th>\n",
       "      <td>...</td>\n",
       "      <td>...</td>\n",
       "    </tr>\n",
       "    <tr>\n",
       "      <th>53410</th>\n",
       "      <td>0.624482</td>\n",
       "      <td>0.522850</td>\n",
       "    </tr>\n",
       "    <tr>\n",
       "      <th>53411</th>\n",
       "      <td>0.516078</td>\n",
       "      <td>0.257821</td>\n",
       "    </tr>\n",
       "    <tr>\n",
       "      <th>53412</th>\n",
       "      <td>0.365692</td>\n",
       "      <td>0.180082</td>\n",
       "    </tr>\n",
       "    <tr>\n",
       "      <th>53413</th>\n",
       "      <td>0.035346</td>\n",
       "      <td>0.296568</td>\n",
       "    </tr>\n",
       "    <tr>\n",
       "      <th>53414</th>\n",
       "      <td>0.813553</td>\n",
       "      <td>0.713986</td>\n",
       "    </tr>\n",
       "  </tbody>\n",
       "</table>\n",
       "<p>26708 rows × 2 columns</p>\n",
       "</div>"
      ],
      "text/plain": [
       "               h1n1_vaccine  seasonal_vaccine\n",
       "respondent_id                                \n",
       "26707              0.205319          0.255285\n",
       "26708              0.094422          0.041511\n",
       "26709              0.322906          0.756217\n",
       "26710              0.883410          0.905234\n",
       "26711              0.606504          0.527756\n",
       "...                     ...               ...\n",
       "53410              0.624482          0.522850\n",
       "53411              0.516078          0.257821\n",
       "53412              0.365692          0.180082\n",
       "53413              0.035346          0.296568\n",
       "53414              0.813553          0.713986\n",
       "\n",
       "[26708 rows x 2 columns]"
      ]
     },
     "execution_count": 67,
     "metadata": {},
     "output_type": "execute_result"
    }
   ],
   "source": [
    "submission"
   ]
  },
  {
   "cell_type": "code",
   "execution_count": 68,
   "metadata": {},
   "outputs": [],
   "source": [
    "today = datetime.today().date()\n",
    "\n",
    "submission.to_csv(f'../Submissions/Neural Network Submission {today}.csv')"
   ]
  },
  {
   "cell_type": "code",
   "execution_count": 42,
   "metadata": {},
   "outputs": [
    {
     "data": {
      "text/html": [
       "<div>\n",
       "<style scoped>\n",
       "    .dataframe tbody tr th:only-of-type {\n",
       "        vertical-align: middle;\n",
       "    }\n",
       "\n",
       "    .dataframe tbody tr th {\n",
       "        vertical-align: top;\n",
       "    }\n",
       "\n",
       "    .dataframe thead th {\n",
       "        text-align: right;\n",
       "    }\n",
       "</style>\n",
       "<table border=\"1\" class=\"dataframe\">\n",
       "  <thead>\n",
       "    <tr style=\"text-align: right;\">\n",
       "      <th></th>\n",
       "      <th>h1n1_vaccine</th>\n",
       "      <th>seasonal_vaccine</th>\n",
       "    </tr>\n",
       "    <tr>\n",
       "      <th>respondent_id</th>\n",
       "      <th></th>\n",
       "      <th></th>\n",
       "    </tr>\n",
       "  </thead>\n",
       "  <tbody>\n",
       "    <tr>\n",
       "      <th>26707</th>\n",
       "      <td>0.305713</td>\n",
       "      <td>0.269035</td>\n",
       "    </tr>\n",
       "    <tr>\n",
       "      <th>26708</th>\n",
       "      <td>0.115157</td>\n",
       "      <td>0.045078</td>\n",
       "    </tr>\n",
       "    <tr>\n",
       "      <th>26709</th>\n",
       "      <td>0.322432</td>\n",
       "      <td>0.761352</td>\n",
       "    </tr>\n",
       "    <tr>\n",
       "      <th>26710</th>\n",
       "      <td>0.912264</td>\n",
       "      <td>0.892294</td>\n",
       "    </tr>\n",
       "    <tr>\n",
       "      <th>26711</th>\n",
       "      <td>0.501972</td>\n",
       "      <td>0.542152</td>\n",
       "    </tr>\n",
       "    <tr>\n",
       "      <th>...</th>\n",
       "      <td>...</td>\n",
       "      <td>...</td>\n",
       "    </tr>\n",
       "    <tr>\n",
       "      <th>53410</th>\n",
       "      <td>0.625227</td>\n",
       "      <td>0.508944</td>\n",
       "    </tr>\n",
       "    <tr>\n",
       "      <th>53411</th>\n",
       "      <td>0.662019</td>\n",
       "      <td>0.368651</td>\n",
       "    </tr>\n",
       "    <tr>\n",
       "      <th>53412</th>\n",
       "      <td>0.342731</td>\n",
       "      <td>0.211574</td>\n",
       "    </tr>\n",
       "    <tr>\n",
       "      <th>53413</th>\n",
       "      <td>0.065852</td>\n",
       "      <td>0.320876</td>\n",
       "    </tr>\n",
       "    <tr>\n",
       "      <th>53414</th>\n",
       "      <td>0.859545</td>\n",
       "      <td>0.693470</td>\n",
       "    </tr>\n",
       "  </tbody>\n",
       "</table>\n",
       "<p>26708 rows × 2 columns</p>\n",
       "</div>"
      ],
      "text/plain": [
       "               h1n1_vaccine  seasonal_vaccine\n",
       "respondent_id                                \n",
       "26707              0.305713          0.269035\n",
       "26708              0.115157          0.045078\n",
       "26709              0.322432          0.761352\n",
       "26710              0.912264          0.892294\n",
       "26711              0.501972          0.542152\n",
       "...                     ...               ...\n",
       "53410              0.625227          0.508944\n",
       "53411              0.662019          0.368651\n",
       "53412              0.342731          0.211574\n",
       "53413              0.065852          0.320876\n",
       "53414              0.859545          0.693470\n",
       "\n",
       "[26708 rows x 2 columns]"
      ]
     },
     "execution_count": 42,
     "metadata": {},
     "output_type": "execute_result"
    }
   ],
   "source": [
    "submission"
   ]
  },
  {
   "cell_type": "code",
   "execution_count": null,
   "metadata": {},
   "outputs": [],
   "source": []
  },
  {
   "cell_type": "code",
   "execution_count": null,
   "metadata": {},
   "outputs": [],
   "source": []
  },
  {
   "cell_type": "code",
   "execution_count": null,
   "metadata": {},
   "outputs": [],
   "source": []
  },
  {
   "cell_type": "code",
   "execution_count": null,
   "metadata": {},
   "outputs": [],
   "source": []
  },
  {
   "cell_type": "code",
   "execution_count": null,
   "metadata": {},
   "outputs": [],
   "source": []
  }
 ],
 "metadata": {
  "kernelspec": {
   "display_name": "Python 3",
   "language": "python",
   "name": "python3"
  },
  "language_info": {
   "codemirror_mode": {
    "name": "ipython",
    "version": 3
   },
   "file_extension": ".py",
   "mimetype": "text/x-python",
   "name": "python",
   "nbconvert_exporter": "python",
   "pygments_lexer": "ipython3",
   "version": "3.8.3"
  }
 },
 "nbformat": 4,
 "nbformat_minor": 4
}
