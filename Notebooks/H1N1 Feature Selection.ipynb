{
 "cells": [
  {
   "cell_type": "code",
   "execution_count": 135,
   "metadata": {},
   "outputs": [],
   "source": [
    "import pandas as pd\n",
    "import numpy as np\n",
    "import tensorflow as tf\n",
    "from datetime import datetime\n",
    "import matplotlib.pyplot as plt\n",
    "import seaborn as sns\n",
    "from sklearn.preprocessing import StandardScaler\n",
    "from sklearn.preprocessing import MinMaxScaler\n",
    "from sklearn.metrics import roc_auc_score\n",
    "from sklearn.model_selection import RandomizedSearchCV\n",
    "from sklearn.metrics import matthews_corrcoef\n",
    "import scipy.stats as stats"
   ]
  },
  {
   "cell_type": "code",
   "execution_count": 136,
   "metadata": {},
   "outputs": [],
   "source": [
    "#Functions\n",
    "\n",
    "def evaluate(model, X_test, y_test):\n",
    "    predictions = model.predict(X_test)\n",
    "    errors = abs(predictions - y_test)\n",
    "    mape = 100 * np.mean(errors / y_test)\n",
    "    accuracy = 100 - mape\n",
    "    roc = roc_auc_score(y_test, predictions)\n",
    "    print('Model Performance')\n",
    "    print('Average Error: {:0.4f} degrees'.format(np.mean(errors)))\n",
    "    print('Accuracy = {:0.2f}%'.format(accuracy))\n",
    "    print(f'AUC = {roc}')\n",
    "    return accuracy"
   ]
  },
  {
   "cell_type": "code",
   "execution_count": 137,
   "metadata": {},
   "outputs": [
    {
     "name": "stdout",
     "output_type": "stream",
     "text": [
      "respondent_id [    0     1     2 ... 26704 26705 26706]\n",
      "h1n1_concern [ 1.  3.  2.  0. nan]\n",
      "h1n1_knowledge [ 0.  2.  1. nan]\n",
      "behavioral_antiviral_meds [ 0.  1. nan]\n",
      "behavioral_avoidance [ 0.  1. nan]\n",
      "behavioral_face_mask [ 0.  1. nan]\n",
      "behavioral_wash_hands [ 0.  1. nan]\n",
      "behavioral_large_gatherings [ 0.  1. nan]\n",
      "behavioral_outside_home [ 1.  0. nan]\n",
      "behavioral_touch_face [ 1.  0. nan]\n",
      "doctor_recc_h1n1 [ 0. nan  1.]\n",
      "doctor_recc_seasonal [ 0. nan  1.]\n",
      "chronic_med_condition [ 0.  1. nan]\n",
      "child_under_6_months [ 0.  1. nan]\n",
      "health_worker [ 0.  1. nan]\n",
      "health_insurance [ 1. nan  0.]\n",
      "opinion_h1n1_vacc_effective [ 3.  5.  4.  2.  1. nan]\n",
      "opinion_h1n1_risk [ 1.  4.  3.  2.  5. nan]\n",
      "opinion_h1n1_sick_from_vacc [ 2.  4.  1.  5.  3. nan]\n",
      "opinion_seas_vacc_effective [ 2.  4.  5.  3.  1. nan]\n",
      "opinion_seas_risk [ 1.  2.  4.  3.  5. nan]\n",
      "opinion_seas_sick_from_vacc [ 2.  4.  1.  5. nan  3.]\n",
      "age_group ['55 - 64 Years' '35 - 44 Years' '18 - 34 Years' '65+ Years'\n",
      " '45 - 54 Years']\n",
      "education ['< 12 Years' '12 Years' 'College Graduate' 'Some College' nan]\n",
      "race ['White' 'Black' 'Other or Multiple' 'Hispanic']\n",
      "sex [0 1]\n",
      "income_poverty ['Below Poverty' '<= $75,000, Above Poverty' '> $75,000' nan]\n",
      "marital_status [ 0.  1. nan]\n",
      "rent_or_own [ 1.  0. nan]\n",
      "employment_status ['Not in Labor Force' 'Employed' 'Unemployed' nan]\n",
      "hhs_geo_region ['oxchjgsf' 'bhuqouqj' 'qufhixun' 'lrircsnp' 'atmpeygn' 'lzgpxyit'\n",
      " 'fpwskwrf' 'mlyzmhmf' 'dqpwygqj' 'kbazzjca']\n",
      "census_msa ['Non-MSA' 'MSA, Not Principle  City' 'MSA, Principle City']\n",
      "household_adults [ 0.  2.  1.  3. nan]\n",
      "household_children [ 0.  3.  2.  1. nan]\n",
      "employment_industry [nan 'pxcmvdjn' 'rucpziij' 'wxleyezf' 'saaquncn' 'xicduogh' 'ldnlellj'\n",
      " 'wlfvacwt' 'nduyfdeo' 'fcxhlnwr' 'vjjrobsf' 'arjwrbjb' 'atmlpfrs'\n",
      " 'msuufmds' 'xqicxuve' 'phxvnwax' 'dotnnunm' 'mfikgejo' 'cfqqtusy'\n",
      " 'mcubkhph' 'haxffmxo' 'qnlwzans']\n",
      "employment_occupation [nan 'xgwztkwe' 'xtkaffoo' 'emcorrxb' 'vlluhbov' 'xqwwgdyp' 'ccgxvspp'\n",
      " 'qxajmpny' 'kldqjyjy' 'mxkfnird' 'hfxkjkmi' 'bxpfxfdn' 'ukymxvdu'\n",
      " 'cmhcxjea' 'haliazsg' 'dlvbwzss' 'xzmlyyjv' 'oijqvulv' 'rcertsgn'\n",
      " 'tfqavkke' 'hodpvpew' 'uqqtjvyb' 'pvmttkik' 'dcjcmpih']\n",
      "h1n1_vaccine [0 1]\n",
      "seasonal_vaccine [0 1]\n"
     ]
    }
   ],
   "source": [
    "features = pd.read_csv('../Data/training_set_features.csv')\n",
    "labels = pd.read_csv('../Data/training_set_labels.csv')\n",
    "\n",
    "df = pd.merge(features, labels, on='respondent_id', how='inner')\n",
    "\n",
    "df['sex'] = df['sex'].map({\n",
    "    'Female': 0,\n",
    "    'Male': 1\n",
    "})\n",
    "\n",
    "df['marital_status'] = df['marital_status'].map({\n",
    "    'Not Married': 0,\n",
    "    'Married': 1\n",
    "})\n",
    "\n",
    "df['rent_or_own'] = df['rent_or_own'].map({\n",
    "    'Rent': 0,\n",
    "    'Own': 1\n",
    "})\n",
    "for col in df.columns:\n",
    "    print(col, df[col].unique())"
   ]
  },
  {
   "cell_type": "code",
   "execution_count": 138,
   "metadata": {},
   "outputs": [],
   "source": [
    "categorical_columns = [\n",
    "    #'education',\n",
    "    #'income_poverty',\n",
    "    #'marital_status',\n",
    "    #'rent_or_own',\n",
    "    #'employment_industry',\n",
    "    #'employment_occupation',\n",
    "    'sex',\n",
    "    #'hhs_geo_region',\n",
    "    'census_msa',\n",
    "    'race',\n",
    "    'age_group',\n",
    "    'behavioral_face_mask',\n",
    "    'behavioral_wash_hands',\n",
    "    'behavioral_antiviral_meds',\n",
    "    'behavioral_outside_home',\n",
    "    'behavioral_large_gatherings',\n",
    "    'behavioral_touch_face',\n",
    "    'behavioral_avoidance',\n",
    "    'health_worker',\n",
    "    'child_under_6_months',\n",
    "    'chronic_med_condition',\n",
    "    'doctor_recc_h1n1',\n",
    "    'doctor_recc_seasonal',\n",
    "]\n",
    "\n",
    "numerical_columns = [\n",
    "    'household_children',\n",
    "    'household_adults',\n",
    "    'h1n1_concern',\n",
    "    'h1n1_knowledge',\n",
    "    'opinion_h1n1_risk',\n",
    "    'opinion_h1n1_vacc_effective',\n",
    "    'opinion_h1n1_sick_from_vacc',\n",
    "    'opinion_seas_vacc_effective',\n",
    "    'opinion_seas_risk',\n",
    "    'opinion_seas_sick_from_vacc',\n",
    "    #'health_insurance'\n",
    "]\n",
    "\n",
    "binary_columns = [\n",
    "    'behavioral_face_mask',\n",
    "    'behavioral_wash_hands',\n",
    "    'behavioral_antiviral_meds',\n",
    "    'behavioral_outside_home',\n",
    "    'behavioral_large_gatherings',\n",
    "    'behavioral_touch_face',\n",
    "    'behavioral_avoidance',\n",
    "    'rent_or_own',\n",
    "    'marital_status',\n",
    "    'doctor_recc_h1n1',\n",
    "    'doctor_recc_seasonal',\n",
    "    'child_under_6_months',\n",
    "    'chronic_med_condition'\n",
    "]\n",
    "\n",
    "non_binary_columns = [\n",
    "    'age_group',\n",
    "    'race',\n",
    "    'income_poverty',\n",
    "    'employment_status',\n",
    "    'hhs_geo_region',\n",
    "    'census_msa',\n",
    "]\n",
    "\n",
    "targets = ['h1n1_vaccine', 'seasonal_vaccine']\n",
    "\n",
    "df_nona = df.dropna()"
   ]
  },
  {
   "cell_type": "code",
   "execution_count": 139,
   "metadata": {},
   "outputs": [
    {
     "data": {
      "text/html": [
       "<div>\n",
       "<style scoped>\n",
       "    .dataframe tbody tr th:only-of-type {\n",
       "        vertical-align: middle;\n",
       "    }\n",
       "\n",
       "    .dataframe tbody tr th {\n",
       "        vertical-align: top;\n",
       "    }\n",
       "\n",
       "    .dataframe thead th {\n",
       "        text-align: right;\n",
       "    }\n",
       "</style>\n",
       "<table border=\"1\" class=\"dataframe\">\n",
       "  <thead>\n",
       "    <tr style=\"text-align: right;\">\n",
       "      <th></th>\n",
       "      <th>Column</th>\n",
       "      <th>Corr</th>\n",
       "    </tr>\n",
       "  </thead>\n",
       "  <tbody>\n",
       "    <tr>\n",
       "      <th>2</th>\n",
       "      <td>behavioral_antiviral_meds</td>\n",
       "      <td>0.020191</td>\n",
       "    </tr>\n",
       "    <tr>\n",
       "      <th>3</th>\n",
       "      <td>behavioral_outside_home</td>\n",
       "      <td>0.032933</td>\n",
       "    </tr>\n",
       "    <tr>\n",
       "      <th>4</th>\n",
       "      <td>behavioral_large_gatherings</td>\n",
       "      <td>0.032941</td>\n",
       "    </tr>\n",
       "    <tr>\n",
       "      <th>6</th>\n",
       "      <td>behavioral_avoidance</td>\n",
       "      <td>0.054768</td>\n",
       "    </tr>\n",
       "    <tr>\n",
       "      <th>11</th>\n",
       "      <td>child_under_6_months</td>\n",
       "      <td>0.073705</td>\n",
       "    </tr>\n",
       "    <tr>\n",
       "      <th>8</th>\n",
       "      <td>marital_status</td>\n",
       "      <td>0.081329</td>\n",
       "    </tr>\n",
       "    <tr>\n",
       "      <th>7</th>\n",
       "      <td>rent_or_own</td>\n",
       "      <td>0.083579</td>\n",
       "    </tr>\n",
       "    <tr>\n",
       "      <th>5</th>\n",
       "      <td>behavioral_touch_face</td>\n",
       "      <td>0.089193</td>\n",
       "    </tr>\n",
       "    <tr>\n",
       "      <th>0</th>\n",
       "      <td>behavioral_face_mask</td>\n",
       "      <td>0.090719</td>\n",
       "    </tr>\n",
       "    <tr>\n",
       "      <th>12</th>\n",
       "      <td>chronic_med_condition</td>\n",
       "      <td>0.106065</td>\n",
       "    </tr>\n",
       "    <tr>\n",
       "      <th>1</th>\n",
       "      <td>behavioral_wash_hands</td>\n",
       "      <td>0.114809</td>\n",
       "    </tr>\n",
       "    <tr>\n",
       "      <th>10</th>\n",
       "      <td>doctor_recc_seasonal</td>\n",
       "      <td>0.231321</td>\n",
       "    </tr>\n",
       "    <tr>\n",
       "      <th>9</th>\n",
       "      <td>doctor_recc_h1n1</td>\n",
       "      <td>0.374376</td>\n",
       "    </tr>\n",
       "  </tbody>\n",
       "</table>\n",
       "</div>"
      ],
      "text/plain": [
       "                         Column      Corr\n",
       "2     behavioral_antiviral_meds  0.020191\n",
       "3       behavioral_outside_home  0.032933\n",
       "4   behavioral_large_gatherings  0.032941\n",
       "6          behavioral_avoidance  0.054768\n",
       "11         child_under_6_months  0.073705\n",
       "8                marital_status  0.081329\n",
       "7                   rent_or_own  0.083579\n",
       "5         behavioral_touch_face  0.089193\n",
       "0          behavioral_face_mask  0.090719\n",
       "12        chronic_med_condition  0.106065\n",
       "1         behavioral_wash_hands  0.114809\n",
       "10         doctor_recc_seasonal  0.231321\n",
       "9              doctor_recc_h1n1  0.374376"
      ]
     },
     "execution_count": 139,
     "metadata": {},
     "output_type": "execute_result"
    }
   ],
   "source": [
    "#H1N1 Binary Correlations\n",
    "dict = []\n",
    "for x in binary_columns:\n",
    "    binary = df_nona[x]\n",
    "    target = df_nona['h1n1_vaccine']\n",
    "    coef = {'Column': x,\n",
    "           'Corr': matthews_corrcoef(binary,target)}\n",
    "    dict.append(coef)\n",
    "    \n",
    "pd.DataFrame(dict).sort_values(by='Corr')"
   ]
  },
  {
   "cell_type": "code",
   "execution_count": 140,
   "metadata": {},
   "outputs": [],
   "source": [
    "h1n1_cols = [\n",
    "    'child_under_6_months',\n",
    "    'marital_status',\n",
    "    'rent_or_own',\n",
    "    'behavioral_touch_face',\n",
    "    'behavioral_face_mask',\n",
    "    'chronic_med_condition',\n",
    "    'behavioral_wash_hands',\n",
    "    'doctor_recc_seasonal',\n",
    "    'doctor_recc_h1n1'\n",
    "]"
   ]
  },
  {
   "cell_type": "code",
   "execution_count": 141,
   "metadata": {},
   "outputs": [
    {
     "data": {
      "text/html": [
       "<div>\n",
       "<style scoped>\n",
       "    .dataframe tbody tr th:only-of-type {\n",
       "        vertical-align: middle;\n",
       "    }\n",
       "\n",
       "    .dataframe tbody tr th {\n",
       "        vertical-align: top;\n",
       "    }\n",
       "\n",
       "    .dataframe thead th {\n",
       "        text-align: right;\n",
       "    }\n",
       "</style>\n",
       "<table border=\"1\" class=\"dataframe\">\n",
       "  <thead>\n",
       "    <tr style=\"text-align: right;\">\n",
       "      <th></th>\n",
       "      <th>Column</th>\n",
       "      <th>Corr</th>\n",
       "    </tr>\n",
       "  </thead>\n",
       "  <tbody>\n",
       "    <tr>\n",
       "      <th>2</th>\n",
       "      <td>behavioral_antiviral_meds</td>\n",
       "      <td>-0.000019</td>\n",
       "    </tr>\n",
       "    <tr>\n",
       "      <th>11</th>\n",
       "      <td>child_under_6_months</td>\n",
       "      <td>0.025204</td>\n",
       "    </tr>\n",
       "    <tr>\n",
       "      <th>4</th>\n",
       "      <td>behavioral_large_gatherings</td>\n",
       "      <td>0.034773</td>\n",
       "    </tr>\n",
       "    <tr>\n",
       "      <th>3</th>\n",
       "      <td>behavioral_outside_home</td>\n",
       "      <td>0.035823</td>\n",
       "    </tr>\n",
       "    <tr>\n",
       "      <th>0</th>\n",
       "      <td>behavioral_face_mask</td>\n",
       "      <td>0.048361</td>\n",
       "    </tr>\n",
       "    <tr>\n",
       "      <th>6</th>\n",
       "      <td>behavioral_avoidance</td>\n",
       "      <td>0.069538</td>\n",
       "    </tr>\n",
       "    <tr>\n",
       "      <th>8</th>\n",
       "      <td>marital_status</td>\n",
       "      <td>0.094946</td>\n",
       "    </tr>\n",
       "    <tr>\n",
       "      <th>5</th>\n",
       "      <td>behavioral_touch_face</td>\n",
       "      <td>0.118539</td>\n",
       "    </tr>\n",
       "    <tr>\n",
       "      <th>12</th>\n",
       "      <td>chronic_med_condition</td>\n",
       "      <td>0.130180</td>\n",
       "    </tr>\n",
       "    <tr>\n",
       "      <th>7</th>\n",
       "      <td>rent_or_own</td>\n",
       "      <td>0.133144</td>\n",
       "    </tr>\n",
       "    <tr>\n",
       "      <th>1</th>\n",
       "      <td>behavioral_wash_hands</td>\n",
       "      <td>0.138967</td>\n",
       "    </tr>\n",
       "    <tr>\n",
       "      <th>9</th>\n",
       "      <td>doctor_recc_h1n1</td>\n",
       "      <td>0.212517</td>\n",
       "    </tr>\n",
       "    <tr>\n",
       "      <th>10</th>\n",
       "      <td>doctor_recc_seasonal</td>\n",
       "      <td>0.338884</td>\n",
       "    </tr>\n",
       "  </tbody>\n",
       "</table>\n",
       "</div>"
      ],
      "text/plain": [
       "                         Column      Corr\n",
       "2     behavioral_antiviral_meds -0.000019\n",
       "11         child_under_6_months  0.025204\n",
       "4   behavioral_large_gatherings  0.034773\n",
       "3       behavioral_outside_home  0.035823\n",
       "0          behavioral_face_mask  0.048361\n",
       "6          behavioral_avoidance  0.069538\n",
       "8                marital_status  0.094946\n",
       "5         behavioral_touch_face  0.118539\n",
       "12        chronic_med_condition  0.130180\n",
       "7                   rent_or_own  0.133144\n",
       "1         behavioral_wash_hands  0.138967\n",
       "9              doctor_recc_h1n1  0.212517\n",
       "10         doctor_recc_seasonal  0.338884"
      ]
     },
     "execution_count": 141,
     "metadata": {},
     "output_type": "execute_result"
    }
   ],
   "source": [
    "#Seasonal Binary Correlations\n",
    "dict = []\n",
    "for x in binary_columns:\n",
    "    binary = df_nona[x]\n",
    "    target = df_nona['seasonal_vaccine']\n",
    "    coef = {'Column': x,\n",
    "           'Corr': matthews_corrcoef(binary,target)}\n",
    "    dict.append(coef)\n",
    "    \n",
    "pd.DataFrame(dict).sort_values(by='Corr')"
   ]
  },
  {
   "cell_type": "code",
   "execution_count": 142,
   "metadata": {},
   "outputs": [],
   "source": [
    "seas_cols = [\n",
    "    'marital_status',\n",
    "    'behavioral_touch_face',\n",
    "    'chronic_med_condition',\n",
    "    'rent_or_own',\n",
    "    'behavioral_wash_hands',\n",
    "    'doctor_recc_h1n1',\n",
    "    'doctor_recc_seasonal'\n",
    "]"
   ]
  },
  {
   "cell_type": "code",
   "execution_count": 143,
   "metadata": {},
   "outputs": [
    {
     "data": {
      "text/html": [
       "<div>\n",
       "<style scoped>\n",
       "    .dataframe tbody tr th:only-of-type {\n",
       "        vertical-align: middle;\n",
       "    }\n",
       "\n",
       "    .dataframe tbody tr th {\n",
       "        vertical-align: top;\n",
       "    }\n",
       "\n",
       "    .dataframe thead th {\n",
       "        text-align: right;\n",
       "    }\n",
       "</style>\n",
       "<table border=\"1\" class=\"dataframe\">\n",
       "  <thead>\n",
       "    <tr style=\"text-align: right;\">\n",
       "      <th></th>\n",
       "      <th>Column</th>\n",
       "      <th>Corr</th>\n",
       "      <th>P-Value</th>\n",
       "    </tr>\n",
       "  </thead>\n",
       "  <tbody>\n",
       "    <tr>\n",
       "      <th>9</th>\n",
       "      <td>opinion_seas_sick_from_vacc</td>\n",
       "      <td>-0.017852</td>\n",
       "      <td>1.521210e-01</td>\n",
       "    </tr>\n",
       "    <tr>\n",
       "      <th>1</th>\n",
       "      <td>household_adults</td>\n",
       "      <td>-0.004492</td>\n",
       "      <td>7.186137e-01</td>\n",
       "    </tr>\n",
       "    <tr>\n",
       "      <th>0</th>\n",
       "      <td>household_children</td>\n",
       "      <td>0.004623</td>\n",
       "      <td>7.107485e-01</td>\n",
       "    </tr>\n",
       "    <tr>\n",
       "      <th>6</th>\n",
       "      <td>opinion_h1n1_sick_from_vacc</td>\n",
       "      <td>0.108546</td>\n",
       "      <td>2.482173e-18</td>\n",
       "    </tr>\n",
       "    <tr>\n",
       "      <th>2</th>\n",
       "      <td>h1n1_concern</td>\n",
       "      <td>0.189103</td>\n",
       "      <td>6.840825e-53</td>\n",
       "    </tr>\n",
       "    <tr>\n",
       "      <th>3</th>\n",
       "      <td>h1n1_knowledge</td>\n",
       "      <td>0.203852</td>\n",
       "      <td>2.390794e-61</td>\n",
       "    </tr>\n",
       "    <tr>\n",
       "      <th>7</th>\n",
       "      <td>opinion_seas_vacc_effective</td>\n",
       "      <td>0.245726</td>\n",
       "      <td>3.785689e-89</td>\n",
       "    </tr>\n",
       "    <tr>\n",
       "      <th>5</th>\n",
       "      <td>opinion_h1n1_vacc_effective</td>\n",
       "      <td>0.318694</td>\n",
       "      <td>6.856173e-152</td>\n",
       "    </tr>\n",
       "    <tr>\n",
       "      <th>8</th>\n",
       "      <td>opinion_seas_risk</td>\n",
       "      <td>0.373196</td>\n",
       "      <td>7.091897e-212</td>\n",
       "    </tr>\n",
       "    <tr>\n",
       "      <th>4</th>\n",
       "      <td>opinion_h1n1_risk</td>\n",
       "      <td>0.460778</td>\n",
       "      <td>0.000000e+00</td>\n",
       "    </tr>\n",
       "  </tbody>\n",
       "</table>\n",
       "</div>"
      ],
      "text/plain": [
       "                        Column      Corr        P-Value\n",
       "9  opinion_seas_sick_from_vacc -0.017852   1.521210e-01\n",
       "1             household_adults -0.004492   7.186137e-01\n",
       "0           household_children  0.004623   7.107485e-01\n",
       "6  opinion_h1n1_sick_from_vacc  0.108546   2.482173e-18\n",
       "2                 h1n1_concern  0.189103   6.840825e-53\n",
       "3               h1n1_knowledge  0.203852   2.390794e-61\n",
       "7  opinion_seas_vacc_effective  0.245726   3.785689e-89\n",
       "5  opinion_h1n1_vacc_effective  0.318694  6.856173e-152\n",
       "8            opinion_seas_risk  0.373196  7.091897e-212\n",
       "4            opinion_h1n1_risk  0.460778   0.000000e+00"
      ]
     },
     "execution_count": 143,
     "metadata": {},
     "output_type": "execute_result"
    }
   ],
   "source": [
    "#H1N1 Pearson Correlations\n",
    "dict = []\n",
    "for x in numerical_columns:\n",
    "    numeric = df_nona[x]\n",
    "    target = df_nona['h1n1_vaccine']\n",
    "    coef = {'Column': x,\n",
    "           'Corr': stats.pearsonr(numeric,target)[0],\n",
    "           'P-Value': stats.pearsonr(numeric, target)[1]}\n",
    "    dict.append(coef)\n",
    "    \n",
    "pd.DataFrame(dict).sort_values(by='Corr')"
   ]
  },
  {
   "cell_type": "code",
   "execution_count": 144,
   "metadata": {},
   "outputs": [],
   "source": [
    "h1n1_num = ['opinion_h1n1_sick_from_vacc',\n",
    "           'h1n1_concern',\n",
    "           'h1n1_knowledge',\n",
    "           'opinion_seas_vacc_effective',\n",
    "           'opinion_h1n1_vacc_effective',\n",
    "           'opinion_seas_risk',\n",
    "           'opinion_h1n1_risk']"
   ]
  },
  {
   "cell_type": "code",
   "execution_count": 145,
   "metadata": {},
   "outputs": [
    {
     "data": {
      "text/html": [
       "<div>\n",
       "<style scoped>\n",
       "    .dataframe tbody tr th:only-of-type {\n",
       "        vertical-align: middle;\n",
       "    }\n",
       "\n",
       "    .dataframe tbody tr th {\n",
       "        vertical-align: top;\n",
       "    }\n",
       "\n",
       "    .dataframe thead th {\n",
       "        text-align: right;\n",
       "    }\n",
       "</style>\n",
       "<table border=\"1\" class=\"dataframe\">\n",
       "  <thead>\n",
       "    <tr style=\"text-align: right;\">\n",
       "      <th></th>\n",
       "      <th>Column</th>\n",
       "      <th>Corr</th>\n",
       "      <th>P-Value</th>\n",
       "    </tr>\n",
       "  </thead>\n",
       "  <tbody>\n",
       "    <tr>\n",
       "      <th>0</th>\n",
       "      <td>household_children</td>\n",
       "      <td>-0.048643</td>\n",
       "      <td>9.453367e-05</td>\n",
       "    </tr>\n",
       "    <tr>\n",
       "      <th>9</th>\n",
       "      <td>opinion_seas_sick_from_vacc</td>\n",
       "      <td>-0.033458</td>\n",
       "      <td>7.260898e-03</td>\n",
       "    </tr>\n",
       "    <tr>\n",
       "      <th>1</th>\n",
       "      <td>household_adults</td>\n",
       "      <td>-0.013618</td>\n",
       "      <td>2.746298e-01</td>\n",
       "    </tr>\n",
       "    <tr>\n",
       "      <th>6</th>\n",
       "      <td>opinion_h1n1_sick_from_vacc</td>\n",
       "      <td>0.046805</td>\n",
       "      <td>1.722969e-04</td>\n",
       "    </tr>\n",
       "    <tr>\n",
       "      <th>3</th>\n",
       "      <td>h1n1_knowledge</td>\n",
       "      <td>0.197707</td>\n",
       "      <td>9.653973e-58</td>\n",
       "    </tr>\n",
       "    <tr>\n",
       "      <th>2</th>\n",
       "      <td>h1n1_concern</td>\n",
       "      <td>0.199643</td>\n",
       "      <td>7.265152e-59</td>\n",
       "    </tr>\n",
       "    <tr>\n",
       "      <th>5</th>\n",
       "      <td>opinion_h1n1_vacc_effective</td>\n",
       "      <td>0.249553</td>\n",
       "      <td>5.618909e-92</td>\n",
       "    </tr>\n",
       "    <tr>\n",
       "      <th>4</th>\n",
       "      <td>opinion_h1n1_risk</td>\n",
       "      <td>0.316242</td>\n",
       "      <td>1.812387e-149</td>\n",
       "    </tr>\n",
       "    <tr>\n",
       "      <th>7</th>\n",
       "      <td>opinion_seas_vacc_effective</td>\n",
       "      <td>0.372235</td>\n",
       "      <td>1.033152e-210</td>\n",
       "    </tr>\n",
       "    <tr>\n",
       "      <th>8</th>\n",
       "      <td>opinion_seas_risk</td>\n",
       "      <td>0.489885</td>\n",
       "      <td>0.000000e+00</td>\n",
       "    </tr>\n",
       "  </tbody>\n",
       "</table>\n",
       "</div>"
      ],
      "text/plain": [
       "                        Column      Corr        P-Value\n",
       "0           household_children -0.048643   9.453367e-05\n",
       "9  opinion_seas_sick_from_vacc -0.033458   7.260898e-03\n",
       "1             household_adults -0.013618   2.746298e-01\n",
       "6  opinion_h1n1_sick_from_vacc  0.046805   1.722969e-04\n",
       "3               h1n1_knowledge  0.197707   9.653973e-58\n",
       "2                 h1n1_concern  0.199643   7.265152e-59\n",
       "5  opinion_h1n1_vacc_effective  0.249553   5.618909e-92\n",
       "4            opinion_h1n1_risk  0.316242  1.812387e-149\n",
       "7  opinion_seas_vacc_effective  0.372235  1.033152e-210\n",
       "8            opinion_seas_risk  0.489885   0.000000e+00"
      ]
     },
     "execution_count": 145,
     "metadata": {},
     "output_type": "execute_result"
    }
   ],
   "source": [
    "#Seasonal Pearson Correlations\n",
    "dict = []\n",
    "for x in numerical_columns:\n",
    "    numeric = df_nona[x]\n",
    "    target = df_nona['seasonal_vaccine']\n",
    "    coef = {'Column': x,\n",
    "           'Corr': stats.pearsonr(numeric,target)[0],\n",
    "           'P-Value': stats.pearsonr(numeric, target)[1]}\n",
    "    dict.append(coef)\n",
    "    \n",
    "pd.DataFrame(dict).sort_values(by='Corr')"
   ]
  },
  {
   "cell_type": "code",
   "execution_count": 146,
   "metadata": {},
   "outputs": [],
   "source": [
    "seas_num = [\n",
    "    'h1n1_knowledge',\n",
    "    'h1n1_concern',\n",
    "    'opinion_h1n1_vacc_effective',\n",
    "    'opinion_h1n1_risk',\n",
    "    'opinion_seas_vacc_effective',\n",
    "    'opinion_seas_risk'\n",
    "]"
   ]
  },
  {
   "cell_type": "code",
   "execution_count": 147,
   "metadata": {},
   "outputs": [
    {
     "name": "stderr",
     "output_type": "stream",
     "text": [
      "C:\\Users\\mcand\\Anaconda3\\lib\\site-packages\\sklearn\\metrics\\_classification.py:846: RuntimeWarning: invalid value encountered in double_scalars\n",
      "  mcc = cov_ytyp / np.sqrt(cov_ytyt * cov_ypyp)\n"
     ]
    },
    {
     "data": {
      "text/html": [
       "<div>\n",
       "<style scoped>\n",
       "    .dataframe tbody tr th:only-of-type {\n",
       "        vertical-align: middle;\n",
       "    }\n",
       "\n",
       "    .dataframe tbody tr th {\n",
       "        vertical-align: top;\n",
       "    }\n",
       "\n",
       "    .dataframe thead th {\n",
       "        text-align: right;\n",
       "    }\n",
       "</style>\n",
       "<table border=\"1\" class=\"dataframe\">\n",
       "  <thead>\n",
       "    <tr style=\"text-align: right;\">\n",
       "      <th></th>\n",
       "      <th>Column</th>\n",
       "      <th>Corr</th>\n",
       "    </tr>\n",
       "  </thead>\n",
       "  <tbody>\n",
       "    <tr>\n",
       "      <th>5</th>\n",
       "      <td>census_msa</td>\n",
       "      <td>-0.004540</td>\n",
       "    </tr>\n",
       "    <tr>\n",
       "      <th>3</th>\n",
       "      <td>employment_status</td>\n",
       "      <td>0.000000</td>\n",
       "    </tr>\n",
       "    <tr>\n",
       "      <th>1</th>\n",
       "      <td>race</td>\n",
       "      <td>0.009087</td>\n",
       "    </tr>\n",
       "    <tr>\n",
       "      <th>0</th>\n",
       "      <td>age_group</td>\n",
       "      <td>0.013360</td>\n",
       "    </tr>\n",
       "    <tr>\n",
       "      <th>4</th>\n",
       "      <td>hhs_geo_region</td>\n",
       "      <td>0.015163</td>\n",
       "    </tr>\n",
       "    <tr>\n",
       "      <th>2</th>\n",
       "      <td>income_poverty</td>\n",
       "      <td>0.086730</td>\n",
       "    </tr>\n",
       "  </tbody>\n",
       "</table>\n",
       "</div>"
      ],
      "text/plain": [
       "              Column      Corr\n",
       "5         census_msa -0.004540\n",
       "3  employment_status  0.000000\n",
       "1               race  0.009087\n",
       "0          age_group  0.013360\n",
       "4     hhs_geo_region  0.015163\n",
       "2     income_poverty  0.086730"
      ]
     },
     "execution_count": 147,
     "metadata": {},
     "output_type": "execute_result"
    }
   ],
   "source": [
    "#H1N1 Categorical Non-Binary\n",
    "dict = []\n",
    "for x in non_binary_columns:\n",
    "    binary = df_nona[x].astype('category').cat.codes\n",
    "    target = df_nona['h1n1_vaccine']\n",
    "    coef = {'Column': x,\n",
    "           'Corr': matthews_corrcoef(binary,target)}\n",
    "    dict.append(coef)\n",
    "    \n",
    "pd.DataFrame(dict).sort_values(by='Corr')"
   ]
  },
  {
   "cell_type": "code",
   "execution_count": 155,
   "metadata": {},
   "outputs": [],
   "source": [
    "h1n1_non_bin_cols = ['age_group', 'hhs_geo_region', 'income_poverty']"
   ]
  },
  {
   "cell_type": "code",
   "execution_count": 149,
   "metadata": {},
   "outputs": [
    {
     "name": "stderr",
     "output_type": "stream",
     "text": [
      "C:\\Users\\mcand\\Anaconda3\\lib\\site-packages\\sklearn\\metrics\\_classification.py:846: RuntimeWarning: invalid value encountered in double_scalars\n",
      "  mcc = cov_ytyp / np.sqrt(cov_ytyt * cov_ypyp)\n"
     ]
    },
    {
     "data": {
      "text/html": [
       "<div>\n",
       "<style scoped>\n",
       "    .dataframe tbody tr th:only-of-type {\n",
       "        vertical-align: middle;\n",
       "    }\n",
       "\n",
       "    .dataframe tbody tr th {\n",
       "        vertical-align: top;\n",
       "    }\n",
       "\n",
       "    .dataframe thead th {\n",
       "        text-align: right;\n",
       "    }\n",
       "</style>\n",
       "<table border=\"1\" class=\"dataframe\">\n",
       "  <thead>\n",
       "    <tr style=\"text-align: right;\">\n",
       "      <th></th>\n",
       "      <th>Column</th>\n",
       "      <th>Corr</th>\n",
       "    </tr>\n",
       "  </thead>\n",
       "  <tbody>\n",
       "    <tr>\n",
       "      <th>5</th>\n",
       "      <td>census_msa</td>\n",
       "      <td>-0.007506</td>\n",
       "    </tr>\n",
       "    <tr>\n",
       "      <th>3</th>\n",
       "      <td>employment_status</td>\n",
       "      <td>0.000000</td>\n",
       "    </tr>\n",
       "    <tr>\n",
       "      <th>1</th>\n",
       "      <td>race</td>\n",
       "      <td>0.004834</td>\n",
       "    </tr>\n",
       "    <tr>\n",
       "      <th>4</th>\n",
       "      <td>hhs_geo_region</td>\n",
       "      <td>0.006832</td>\n",
       "    </tr>\n",
       "    <tr>\n",
       "      <th>0</th>\n",
       "      <td>age_group</td>\n",
       "      <td>0.025665</td>\n",
       "    </tr>\n",
       "    <tr>\n",
       "      <th>2</th>\n",
       "      <td>income_poverty</td>\n",
       "      <td>0.101768</td>\n",
       "    </tr>\n",
       "  </tbody>\n",
       "</table>\n",
       "</div>"
      ],
      "text/plain": [
       "              Column      Corr\n",
       "5         census_msa -0.007506\n",
       "3  employment_status  0.000000\n",
       "1               race  0.004834\n",
       "4     hhs_geo_region  0.006832\n",
       "0          age_group  0.025665\n",
       "2     income_poverty  0.101768"
      ]
     },
     "execution_count": 149,
     "metadata": {},
     "output_type": "execute_result"
    }
   ],
   "source": [
    "#Seasonal Categorical Non-Binary\n",
    "dict = []\n",
    "for x in non_binary_columns:\n",
    "    binary = df_nona[x].astype('category').cat.codes\n",
    "    target = df_nona['seasonal_vaccine']\n",
    "    coef = {'Column': x,\n",
    "           'Corr': matthews_corrcoef(binary,target)}\n",
    "    dict.append(coef)\n",
    "    \n",
    "pd.DataFrame(dict).sort_values(by='Corr')"
   ]
  },
  {
   "cell_type": "code",
   "execution_count": 150,
   "metadata": {},
   "outputs": [],
   "source": [
    "seas_non_bin_cols = ['age_group', 'income_poverty']"
   ]
  },
  {
   "cell_type": "code",
   "execution_count": 151,
   "metadata": {},
   "outputs": [
    {
     "data": {
      "text/plain": [
       "1        0\n",
       "7        2\n",
       "10       0\n",
       "11       2\n",
       "15       0\n",
       "        ..\n",
       "26681    0\n",
       "26683    0\n",
       "26690    1\n",
       "26699    0\n",
       "26703    1\n",
       "Length: 6437, dtype: int8"
      ]
     },
     "execution_count": 151,
     "metadata": {},
     "output_type": "execute_result"
    }
   ],
   "source": [
    "df_nona[x].astype('category').cat.codes"
   ]
  },
  {
   "cell_type": "code",
   "execution_count": 152,
   "metadata": {},
   "outputs": [],
   "source": [
    "for column in numerical_columns:\n",
    "    df[column] = df[column].fillna(df[column].mean())\n",
    "\n",
    "health_worker_mean = df['health_worker'].mean()\n",
    "behavioral_face_mask_mean = df['health_worker'].mean()\n",
    "behavioral_wash_hands_mean = df['behavioral_wash_hands'].mean()\n",
    "behavioral_antiviral_meds_mean = df['behavioral_antiviral_meds'].mean()\n",
    "behavioral_outside_home_mean = df['behavioral_outside_home'].mean()\n",
    "behavioral_large_gatherings_mean = df['behavioral_large_gatherings'].mean()\n",
    "behavioral_touch_face_mean = df['behavioral_touch_face'].mean()\n",
    "behavioral_avoidance_mean = df['behavioral_avoidance'].mean()\n",
    "child_under_6_months_mean = df['child_under_6_months'].mean()\n",
    "chronic_med_condition_mean = df['chronic_med_condition'].mean()\n",
    "doctor_recc_h1n1_mean = df['doctor_recc_h1n1'].mean()\n",
    "doctor_recc_seasonal_mean = df['doctor_recc_h1n1'].mean()\n",
    "\n",
    "df['health_worker'] = df['health_worker'].fillna(health_worker_mean)\n",
    "df['behavioral_face_mask'] = df['behavioral_face_mask'].fillna(behavioral_face_mask_mean)\n",
    "df['behavioral_wash_hands'] = df['behavioral_wash_hands'].fillna(behavioral_wash_hands_mean)\n",
    "df['behavioral_antiviral_meds'] = df['behavioral_antiviral_meds'].fillna(behavioral_antiviral_meds_mean)\n",
    "df['behavioral_outside_home'] = df['behavioral_outside_home'].fillna(behavioral_outside_home_mean)\n",
    "df['behavioral_large_gatherings'] = df['behavioral_large_gatherings'].fillna(behavioral_large_gatherings_mean)\n",
    "df['behavioral_touch_face'] = df['behavioral_touch_face'].fillna(behavioral_touch_face_mean)\n",
    "df['behavioral_avoidance'] = df['behavioral_avoidance'].fillna(behavioral_avoidance_mean)\n",
    "df['child_under_6_months'] = df['child_under_6_months'].fillna(child_under_6_months_mean)\n",
    "df['chronic_med_condition'] = df['chronic_med_condition'].fillna(chronic_med_condition_mean)\n",
    "df['doctor_recc_h1n1'] = df['doctor_recc_h1n1'].fillna(doctor_recc_h1n1_mean)\n",
    "df['doctor_recc_seasonal'] = df['doctor_recc_seasonal'].fillna(doctor_recc_seasonal_mean)\n",
    "\n",
    "all_cols = categorical_columns + numerical_columns + targets\n",
    "h1n1_cols = h1n1_cols + h1n1_num + h1n1_non_bin_cols\n",
    "seas_cols = seas_cols + seas_num + seas_non_bin_cols\n",
    "df = df[all_cols]"
   ]
  },
  {
   "cell_type": "code",
   "execution_count": 153,
   "metadata": {},
   "outputs": [
    {
     "data": {
      "text/plain": [
       "['child_under_6_months',\n",
       " 'marital_status',\n",
       " 'rent_or_own',\n",
       " 'behavioral_touch_face',\n",
       " 'behavioral_face_mask',\n",
       " 'chronic_med_condition',\n",
       " 'behavioral_wash_hands',\n",
       " 'doctor_recc_seasonal',\n",
       " 'doctor_recc_h1n1',\n",
       " 'opinion_h1n1_sick_from_vacc',\n",
       " 'h1n1_concern',\n",
       " 'h1n1_knowledge',\n",
       " 'opinion_seas_vacc_effective',\n",
       " 'opinion_h1n1_vacc_effective',\n",
       " 'opinion_seas_risk',\n",
       " 'opinion_h1n1_risk',\n",
       " 'age_group',\n",
       " 'hss_geo_region',\n",
       " 'income_poverty']"
      ]
     },
     "execution_count": 153,
     "metadata": {},
     "output_type": "execute_result"
    }
   ],
   "source": [
    "h1n1_cols"
   ]
  },
  {
   "cell_type": "code",
   "execution_count": 154,
   "metadata": {},
   "outputs": [
    {
     "data": {
      "text/plain": [
       "['marital_status',\n",
       " 'behavioral_touch_face',\n",
       " 'chronic_med_condition',\n",
       " 'rent_or_own',\n",
       " 'behavioral_wash_hands',\n",
       " 'doctor_recc_h1n1',\n",
       " 'doctor_recc_seasonal',\n",
       " 'h1n1_knowledge',\n",
       " 'h1n1_concern',\n",
       " 'opinion_h1n1_vacc_effective',\n",
       " 'opinion_h1n1_risk',\n",
       " 'opinion_seas_vacc_effective',\n",
       " 'opinion_seas_risk',\n",
       " 'age_group',\n",
       " 'income_poverty']"
      ]
     },
     "execution_count": 154,
     "metadata": {},
     "output_type": "execute_result"
    }
   ],
   "source": [
    "seas_cols"
   ]
  },
  {
   "cell_type": "markdown",
   "metadata": {},
   "source": [
    "# Preprocessing"
   ]
  },
  {
   "cell_type": "code",
   "execution_count": 70,
   "metadata": {},
   "outputs": [
    {
     "name": "stderr",
     "output_type": "stream",
     "text": [
      "C:\\Users\\mcand\\Anaconda3\\lib\\site-packages\\pandas\\core\\series.py:679: RuntimeWarning: divide by zero encountered in log\n",
      "  result = getattr(ufunc, method)(*inputs, **kwargs)\n"
     ]
    }
   ],
   "source": [
    "X_h1n1 = df[[]]\n",
    "y_h1n1 = df[['h1n1_vaccine']]"
   ]
  },
  {
   "cell_type": "code",
   "execution_count": 222,
   "metadata": {},
   "outputs": [],
   "source": [
    "#Categorical\n",
    "cat_df = X[categorical_columns]\n",
    "recat_df = pd.get_dummies(data=cat_df)\n",
    "\n",
    "#Numerical\n",
    "num_df = X[numerical_columns]\n",
    "\n",
    "scaler = StandardScaler()\n",
    "scaled_num = scaler.fit_transform(num_df)\n",
    "scaled_num_df = pd.DataFrame(scaled_num, index=num_df.index, columns=num_df.columns)\n",
    "\n",
    "encoded_df = pd.concat([recat_df, scaled_num_df], axis=1)"
   ]
  },
  {
   "cell_type": "code",
   "execution_count": 223,
   "metadata": {},
   "outputs": [],
   "source": [
    "from sklearn.model_selection import train_test_split\n",
    "\n",
    "X_train, X_test, y_train, y_test = train_test_split(encoded_df, y, test_size=0.3, random_state=42)\n",
    "\n",
    "y_train_h1n1 = y_train['h1n1_vaccine']\n",
    "y_train_seas = y_train['seasonal_vaccine']\n",
    "\n",
    "y_test_h1n1 = y_test['h1n1_vaccine']\n",
    "y_test_seas = y_test['seasonal_vaccine']"
   ]
  },
  {
   "cell_type": "code",
   "execution_count": 224,
   "metadata": {},
   "outputs": [],
   "source": [
    "#Create arrays\n",
    "X_train = np.asarray(X_train)\n",
    "X_test = np.asarray(X_test)\n",
    "y_train = np.asarray(y_train)\n",
    "y_test = np.asarray(y_test)\n",
    "\n",
    "y_train_h1n1 = np.asarray(y_train_h1n1)\n",
    "y_test_h1n1 = np.asarray(y_test_h1n1)\n",
    "\n",
    "y_train_seas = np.asarray(y_train_seas)\n",
    "y_test_seas = np.asarray(y_test_seas)"
   ]
  },
  {
   "cell_type": "markdown",
   "metadata": {},
   "source": [
    "# Random Forest"
   ]
  },
  {
   "cell_type": "code",
   "execution_count": 225,
   "metadata": {},
   "outputs": [],
   "source": [
    "from sklearn.ensemble import RandomForestRegressor\n",
    "from sklearn.metrics import r2_score\n",
    "\n",
    "model = RandomForestRegressor()\n",
    "model.fit(X_train, y_train_h1n1)\n",
    "\n",
    "y_pred_h1n1 = model.predict(X_test)"
   ]
  },
  {
   "cell_type": "code",
   "execution_count": 226,
   "metadata": {},
   "outputs": [],
   "source": [
    "#Set up RandomSearch\n",
    "n_estimators = [int(x) for x in np.linspace(start=200, stop=2000, num=10)]\n",
    "max_features = ['auto', 'sqrt']\n",
    "max_depth = [int(x) for x in np.linspace(10, 100, num=11)]\n",
    "min_samples_split = [2, 5, 10]\n",
    "min_samples_leaf = [1, 2, 4]\n",
    "bootstrap = [True, False]\n",
    "\n",
    "random_grid = {'n_estimators': n_estimators,\n",
    "              'max_features': max_features,\n",
    "              'max_depth': max_depth,\n",
    "              'min_samples_split': min_samples_split,\n",
    "              'min_samples_leaf': min_samples_leaf,\n",
    "              'bootstrap': bootstrap}\n",
    "\n",
    "rf = RandomForestRegressor()\n",
    "rf_random = RandomizedSearchCV(estimator=rf, \n",
    "                               param_distributions=random_grid, \n",
    "                               n_iter=50, \n",
    "                               cv=3, \n",
    "                               verbose=2, \n",
    "                               random_state=42, \n",
    "                               n_jobs=-1)"
   ]
  },
  {
   "cell_type": "markdown",
   "metadata": {},
   "source": [
    "### H1N1"
   ]
  },
  {
   "cell_type": "code",
   "execution_count": 227,
   "metadata": {},
   "outputs": [
    {
     "data": {
      "text/plain": [
       "RandomForestRegressor(bootstrap=False, max_depth=20, max_features='sqrt',\n",
       "                      min_samples_leaf=4, n_estimators=800)"
      ]
     },
     "execution_count": 227,
     "metadata": {},
     "output_type": "execute_result"
    }
   ],
   "source": [
    "#model = rf_random\n",
    "model_h1n1 = RandomForestRegressor(n_estimators=800,\n",
    "                              min_samples_split=2,\n",
    "                              min_samples_leaf=4,\n",
    "                              max_features='sqrt',\n",
    "                              max_depth=20,\n",
    "                              bootstrap=False)\n",
    "model_h1n1.fit(X_train, y_train_h1n1)"
   ]
  },
  {
   "cell_type": "code",
   "execution_count": 228,
   "metadata": {},
   "outputs": [],
   "source": [
    "#model.best_params_"
   ]
  },
  {
   "cell_type": "code",
   "execution_count": 229,
   "metadata": {},
   "outputs": [
    {
     "name": "stdout",
     "output_type": "stream",
     "text": [
      "Model Performance\n",
      "Average Error: 0.2483 degrees\n",
      "Accuracy = nan%\n",
      "AUC = 0.7816175070667295\n"
     ]
    },
    {
     "name": "stderr",
     "output_type": "stream",
     "text": [
      "<ipython-input-216-e8fb442df30f>:6: RuntimeWarning: divide by zero encountered in true_divide\n",
      "  mape = 100 * np.mean(errors / y_test)\n",
      "<ipython-input-216-e8fb442df30f>:6: RuntimeWarning: invalid value encountered in true_divide\n",
      "  mape = 100 * np.mean(errors / y_test)\n"
     ]
    },
    {
     "data": {
      "text/plain": [
       "nan"
      ]
     },
     "execution_count": 229,
     "metadata": {},
     "output_type": "execute_result"
    }
   ],
   "source": [
    "base_model = RandomForestRegressor(n_estimators=10, random_state=42)\n",
    "base_model.fit(X_train, y_train_h1n1)\n",
    "evaluate(base_model, X_test, y_test_h1n1)"
   ]
  },
  {
   "cell_type": "code",
   "execution_count": 230,
   "metadata": {},
   "outputs": [
    {
     "name": "stdout",
     "output_type": "stream",
     "text": [
      "Model Performance\n",
      "Average Error: 0.2423 degrees\n",
      "Accuracy = -inf%\n",
      "AUC = 0.8301045010895534\n"
     ]
    },
    {
     "name": "stderr",
     "output_type": "stream",
     "text": [
      "<ipython-input-216-e8fb442df30f>:6: RuntimeWarning: divide by zero encountered in true_divide\n",
      "  mape = 100 * np.mean(errors / y_test)\n"
     ]
    },
    {
     "data": {
      "text/plain": [
       "-inf"
      ]
     },
     "execution_count": 230,
     "metadata": {},
     "output_type": "execute_result"
    }
   ],
   "source": [
    "#best_random = rf_random.best_estimator_\n",
    "evaluate(model_h1n1, X_test, y_test_h1n1)"
   ]
  },
  {
   "cell_type": "code",
   "execution_count": 231,
   "metadata": {},
   "outputs": [],
   "source": [
    "y_predicted_h1n1 = model_h1n1.predict(X_test)"
   ]
  },
  {
   "cell_type": "markdown",
   "metadata": {},
   "source": [
    "### Seasonal"
   ]
  },
  {
   "cell_type": "code",
   "execution_count": 232,
   "metadata": {},
   "outputs": [
    {
     "data": {
      "text/plain": [
       "RandomForestRegressor(bootstrap=False, max_depth=20, max_features='sqrt',\n",
       "                      min_samples_leaf=4, n_estimators=800)"
      ]
     },
     "execution_count": 232,
     "metadata": {},
     "output_type": "execute_result"
    }
   ],
   "source": [
    "#model = rf_random\n",
    "model_seas = RandomForestRegressor(n_estimators=800,\n",
    "                              min_samples_split=2,\n",
    "                              min_samples_leaf=4,\n",
    "                              max_features='sqrt',\n",
    "                              max_depth=20,\n",
    "                              bootstrap=False)\n",
    "\n",
    "model_seas.fit(X_train, y_train_seas)"
   ]
  },
  {
   "cell_type": "code",
   "execution_count": 233,
   "metadata": {},
   "outputs": [],
   "source": [
    "#model.best_params_"
   ]
  },
  {
   "cell_type": "code",
   "execution_count": 234,
   "metadata": {},
   "outputs": [
    {
     "name": "stdout",
     "output_type": "stream",
     "text": [
      "Model Performance\n",
      "Average Error: 0.3251 degrees\n",
      "Accuracy = nan%\n",
      "AUC = 0.8082471249693057\n"
     ]
    },
    {
     "name": "stderr",
     "output_type": "stream",
     "text": [
      "<ipython-input-216-e8fb442df30f>:6: RuntimeWarning: divide by zero encountered in true_divide\n",
      "  mape = 100 * np.mean(errors / y_test)\n",
      "<ipython-input-216-e8fb442df30f>:6: RuntimeWarning: invalid value encountered in true_divide\n",
      "  mape = 100 * np.mean(errors / y_test)\n"
     ]
    }
   ],
   "source": [
    "base_model = RandomForestRegressor(n_estimators=10, random_state=42)\n",
    "base_model.fit(X_train, y_train_seas)\n",
    "base_accuracy = evaluate(base_model, X_test, y_test_seas)"
   ]
  },
  {
   "cell_type": "code",
   "execution_count": 235,
   "metadata": {},
   "outputs": [
    {
     "name": "stdout",
     "output_type": "stream",
     "text": [
      "Model Performance\n",
      "Average Error: 0.3228 degrees\n",
      "Accuracy = -inf%\n",
      "AUC = 0.8529219770128039\n"
     ]
    },
    {
     "name": "stderr",
     "output_type": "stream",
     "text": [
      "<ipython-input-216-e8fb442df30f>:6: RuntimeWarning: divide by zero encountered in true_divide\n",
      "  mape = 100 * np.mean(errors / y_test)\n"
     ]
    },
    {
     "data": {
      "text/plain": [
       "-inf"
      ]
     },
     "execution_count": 235,
     "metadata": {},
     "output_type": "execute_result"
    }
   ],
   "source": [
    "evaluate(model_seas, X_test, y_test_seas)"
   ]
  },
  {
   "cell_type": "code",
   "execution_count": 236,
   "metadata": {},
   "outputs": [],
   "source": [
    "y_predicted_seas = model_seas.predict(X_test)"
   ]
  },
  {
   "cell_type": "markdown",
   "metadata": {},
   "source": [
    "### Combine Targets"
   ]
  },
  {
   "cell_type": "code",
   "execution_count": 237,
   "metadata": {},
   "outputs": [
    {
     "data": {
      "text/plain": [
       "array([[0.19288598, 0.29934187],\n",
       "       [0.26939945, 0.19817748],\n",
       "       [0.06233589, 0.71491743],\n",
       "       ...,\n",
       "       [0.0611781 , 0.10010754],\n",
       "       [0.08652902, 0.13497373],\n",
       "       [0.10255067, 0.85995094]])"
      ]
     },
     "execution_count": 237,
     "metadata": {},
     "output_type": "execute_result"
    }
   ],
   "source": [
    "y_predicted = np.vstack((y_predicted_h1n1, y_predicted_seas)).T\n",
    "y_predicted"
   ]
  },
  {
   "cell_type": "code",
   "execution_count": 238,
   "metadata": {},
   "outputs": [
    {
     "data": {
      "text/plain": [
       "0.8415132390511786"
      ]
     },
     "execution_count": 238,
     "metadata": {},
     "output_type": "execute_result"
    }
   ],
   "source": [
    "roc_auc_score(y_test, y_predicted)"
   ]
  },
  {
   "cell_type": "markdown",
   "metadata": {},
   "source": [
    "# Transform Test Data"
   ]
  },
  {
   "cell_type": "code",
   "execution_count": 160,
   "metadata": {},
   "outputs": [],
   "source": [
    "df_full = pd.read_csv('../Data/test_set_features.csv')\n",
    "\n",
    "df = df_full.drop(columns=['employment_occupation', 'employment_industry', 'health_insurance', 'respondent_id'])"
   ]
  },
  {
   "cell_type": "code",
   "execution_count": 161,
   "metadata": {},
   "outputs": [],
   "source": [
    "categorical_columns = [\n",
    "    #'education',\n",
    "    #'income_poverty',\n",
    "    #'marital_status',\n",
    "    #'rent_or_own',\n",
    "    #'employment_industry',\n",
    "    #'employment_occupation',\n",
    "    'sex',\n",
    "    #'hhs_geo_region',\n",
    "    #'census_msa',\n",
    "    'race',\n",
    "    'age_group',\n",
    "    'behavioral_face_mask',\n",
    "    'behavioral_wash_hands',\n",
    "    'behavioral_antiviral_meds',\n",
    "    'behavioral_outside_home',\n",
    "    'behavioral_large_gatherings',\n",
    "    'behavioral_touch_face',\n",
    "    'behavioral_avoidance',\n",
    "    'health_worker',\n",
    "    #'child_under_6_months',\n",
    "    'chronic_med_condition',\n",
    "    'doctor_recc_h1n1',\n",
    "    'doctor_recc_seasonal',\n",
    "]\n",
    "\n",
    "numerical_columns = [\n",
    "    #'household_children',\n",
    "    #'household_adults',\n",
    "    'h1n1_concern',\n",
    "    'h1n1_knowledge',\n",
    "    'opinion_h1n1_risk',\n",
    "    'opinion_h1n1_vacc_effective',\n",
    "    'opinion_h1n1_sick_from_vacc',\n",
    "    'opinion_seas_vacc_effective',\n",
    "    'opinion_seas_risk',\n",
    "    'opinion_seas_sick_from_vacc',\n",
    "    #'health_insurance'\n",
    "]\n"
   ]
  },
  {
   "cell_type": "code",
   "execution_count": 162,
   "metadata": {},
   "outputs": [],
   "source": [
    "for column in numerical_columns:\n",
    "    df[column] = df[column].fillna(df[column].mean())\n",
    "\n",
    "health_worker_mean = df['health_worker'].mean()\n",
    "behavioral_face_mask_mean = df['health_worker'].mean()\n",
    "behavioral_wash_hands_mean = df['behavioral_wash_hands'].mean()\n",
    "behavioral_antiviral_meds_mean = df['behavioral_antiviral_meds'].mean()\n",
    "behavioral_outside_home_mean = df['behavioral_outside_home'].mean()\n",
    "behavioral_large_gatherings_mean = df['behavioral_large_gatherings'].mean()\n",
    "behavioral_touch_face_mean = df['behavioral_touch_face'].mean()\n",
    "behavioral_avoidance_mean = df['behavioral_avoidance'].mean()\n",
    "child_under_6_months_mean = df['child_under_6_months'].mean()\n",
    "chronic_med_condition_mean = df['chronic_med_condition'].mean()\n",
    "doctor_recc_h1n1_mean = df['doctor_recc_h1n1'].mean()\n",
    "doctor_recc_seasonal_mean = df['doctor_recc_h1n1'].mean()\n",
    "\n",
    "df['health_worker'] = df['health_worker'].fillna(health_worker_mean)\n",
    "df['behavioral_face_mask'] = df['behavioral_face_mask'].fillna(behavioral_face_mask_mean)\n",
    "df['behavioral_wash_hands'] = df['behavioral_wash_hands'].fillna(behavioral_wash_hands_mean)\n",
    "df['behavioral_antiviral_meds'] = df['behavioral_antiviral_meds'].fillna(behavioral_antiviral_meds_mean)\n",
    "df['behavioral_outside_home'] = df['behavioral_outside_home'].fillna(behavioral_outside_home_mean)\n",
    "df['behavioral_large_gatherings'] = df['behavioral_large_gatherings'].fillna(behavioral_large_gatherings_mean)\n",
    "df['behavioral_touch_face'] = df['behavioral_touch_face'].fillna(behavioral_touch_face_mean)\n",
    "df['behavioral_avoidance'] = df['behavioral_avoidance'].fillna(behavioral_avoidance_mean)\n",
    "df['child_under_6_months'] = df['child_under_6_months'].fillna(child_under_6_months_mean)\n",
    "df['chronic_med_condition'] = df['chronic_med_condition'].fillna(chronic_med_condition_mean)\n",
    "df['doctor_recc_h1n1'] = df['doctor_recc_h1n1'].fillna(doctor_recc_h1n1_mean)\n",
    "df['doctor_recc_seasonal'] = df['doctor_recc_seasonal'].fillna(doctor_recc_seasonal_mean)\n",
    "\n",
    "full_cols = categorical_columns + numerical_columns\n",
    "df = df[full_cols]"
   ]
  },
  {
   "cell_type": "markdown",
   "metadata": {},
   "source": [
    "# Preprocessing"
   ]
  },
  {
   "cell_type": "code",
   "execution_count": 163,
   "metadata": {},
   "outputs": [],
   "source": [
    "X = df.copy()"
   ]
  },
  {
   "cell_type": "code",
   "execution_count": 164,
   "metadata": {},
   "outputs": [],
   "source": [
    "#Categorical\n",
    "cat_df = X[categorical_columns]\n",
    "recat_df = pd.get_dummies(data=cat_df)\n",
    "\n",
    "#Numerical\n",
    "num_df = X[numerical_columns]\n",
    "\n",
    "scaler = StandardScaler()\n",
    "scaled_num = scaler.fit_transform(num_df)\n",
    "scaled_num_df = pd.DataFrame(scaled_num, index=num_df.index, columns=num_df.columns)\n",
    "\n",
    "encoded_df = pd.concat([recat_df, scaled_num_df], axis=1)\n",
    "X = np.asarray(encoded_df)"
   ]
  },
  {
   "cell_type": "code",
   "execution_count": 165,
   "metadata": {},
   "outputs": [],
   "source": [
    "results_h1n1 = model_h1n1.predict(X)\n",
    "results_seas = model_seas.predict(X)\n",
    "\n",
    "results = np.vstack((results_h1n1, results_seas)).T"
   ]
  },
  {
   "cell_type": "code",
   "execution_count": 166,
   "metadata": {},
   "outputs": [],
   "source": [
    "results = pd.DataFrame(results, columns=['h1n1_vaccine', 'seasonal_vaccine'])\n",
    "\n",
    "submission = pd.concat([df_full, results], axis=1)\n",
    "submission = submission[['respondent_id', 'h1n1_vaccine', 'seasonal_vaccine']]"
   ]
  },
  {
   "cell_type": "code",
   "execution_count": 167,
   "metadata": {},
   "outputs": [],
   "source": [
    "submission.to_csv('../Submissions/Submission 7.1.21.csv', index=False)"
   ]
  },
  {
   "cell_type": "code",
   "execution_count": null,
   "metadata": {},
   "outputs": [],
   "source": []
  },
  {
   "cell_type": "code",
   "execution_count": null,
   "metadata": {},
   "outputs": [],
   "source": []
  }
 ],
 "metadata": {
  "kernelspec": {
   "display_name": "Python 3",
   "language": "python",
   "name": "python3"
  },
  "language_info": {
   "codemirror_mode": {
    "name": "ipython",
    "version": 3
   },
   "file_extension": ".py",
   "mimetype": "text/x-python",
   "name": "python",
   "nbconvert_exporter": "python",
   "pygments_lexer": "ipython3",
   "version": "3.8.3"
  }
 },
 "nbformat": 4,
 "nbformat_minor": 4
}
