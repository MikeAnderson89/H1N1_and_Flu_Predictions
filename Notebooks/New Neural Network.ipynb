{
 "cells": [
  {
   "cell_type": "code",
   "execution_count": 96,
   "metadata": {},
   "outputs": [],
   "source": [
    "import pandas as pd\n",
    "import numpy as np\n",
    "import tensorflow as tf\n",
    "from datetime import datetime\n",
    "import matplotlib.pyplot as plt\n",
    "import seaborn as sns\n",
    "from sklearn.pipeline import Pipeline\n",
    "from sklearn.preprocessing import StandardScaler, MinMaxScaler, OneHotEncoder\n",
    "from sklearn.model_selection import train_test_split\n",
    "from sklearn.impute import SimpleImputer\n",
    "from sklearn.compose import ColumnTransformer\n",
    "from sklearn.metrics import roc_auc_score\n",
    "from sklearn.model_selection import RandomizedSearchCV\n",
    "from sklearn.metrics import matthews_corrcoef\n",
    "from sklearn.ensemble import RandomForestRegressor, RandomForestClassifier\n",
    "from sklearn.metrics import r2_score\n",
    "import scipy.stats as stats\n",
    "from tensorflow import keras\n",
    "from keras.callbacks import ModelCheckpoint\n",
    "from keras.models import load_model\n",
    "from datetime import datetime\n",
    "from category_encoders import OrdinalEncoder\n",
    "from catboost import CatBoostClassifier, CatBoostRegressor\n",
    "from mlxtend.feature_selection import SequentialFeatureSelector as SFS\n",
    "from mlxtend.plotting import plot_sequential_feature_selection as plot_sfs\n",
    "\n",
    "import warnings\n",
    "warnings.filterwarnings(\"ignore\")"
   ]
  },
  {
   "cell_type": "code",
   "execution_count": 97,
   "metadata": {},
   "outputs": [],
   "source": [
    "#Functions\n",
    "\n",
    "def evaluate(model, X_test, y_test):\n",
    "    predictions = model.predict(X_test)\n",
    "    errors = abs(predictions - y_test)\n",
    "    mape = 100 * np.mean(errors / y_test)\n",
    "    accuracy = 100 - mape\n",
    "    roc = roc_auc_score(y_test, predictions)\n",
    "    print('Model Performance')\n",
    "    print('Average Error: {:0.4f} degrees'.format(np.mean(errors)))\n",
    "    print('Accuracy = {:0.2f}%'.format(accuracy))\n",
    "    print(f'AUC = {roc}')\n",
    "    return accuracy"
   ]
  },
  {
   "cell_type": "code",
   "execution_count": 98,
   "metadata": {},
   "outputs": [],
   "source": [
    "train = pd.read_csv('../Data/training_set_features.csv', index_col='respondent_id')\n",
    "test = pd.read_csv('../Data/test_set_features.csv', index_col ='respondent_id')\n",
    "labels = pd.read_csv('../Data/training_set_labels.csv', index_col='respondent_id')"
   ]
  },
  {
   "cell_type": "code",
   "execution_count": 99,
   "metadata": {},
   "outputs": [],
   "source": [
    "train.loc[(train['age_group'] == '65+ Years') & (train['employment_status'].isnull()), 'employment_status'] = 'Not in Labor Force'"
   ]
  },
  {
   "cell_type": "code",
   "execution_count": 100,
   "metadata": {},
   "outputs": [],
   "source": [
    "num_cols = list(train.select_dtypes('number').columns)\n",
    "\n",
    "cat_cols = [\n",
    "    'race',\n",
    "    'sex',\n",
    "    'marital_status',\n",
    "    'rent_or_own',\n",
    "    'hhs_geo_region',\n",
    "    'census_msa',\n",
    "    'employment_industry',\n",
    "    'employment_occupation'\n",
    "]\n",
    "\n",
    "ord_cols = [\n",
    "    'age_group',\n",
    "    'education',\n",
    "    'income_poverty',\n",
    "    'employment_status'\n",
    "]\n",
    "\n",
    "\n",
    "\n",
    "\n",
    "#Impute Train\n",
    "for col in num_cols:\n",
    "    train[col] = train[col].fillna(value=-1)\n",
    "    test[col] = test[col].fillna(value=-1)\n",
    "\n",
    "for col in (cat_cols + ord_cols):\n",
    "    train[col] = train[col].fillna(value='None')\n",
    "    test[col] = test[col].fillna(value='None')\n",
    "test_labels = labels.copy()    \n",
    "labels['h1n1_vaccine'] = labels['h1n1_vaccine'].map({0: 'No', 1: 'Yes'})\n",
    "labels['seasonal_vaccine'] = labels['seasonal_vaccine'].map({0: 'No', 1: 'Yes'})"
   ]
  },
  {
   "cell_type": "code",
   "execution_count": 101,
   "metadata": {},
   "outputs": [],
   "source": [
    "train['age_group'] = train['age_group'].map({\n",
    "    '18 - 34 Years': 1,\n",
    "    '35 - 44 Years': 2,\n",
    "    '45 - 54 Years': 3,\n",
    "    '55 - 64 Years': 4,\n",
    "    '65+ Years': 5\n",
    "})\n",
    "\n",
    "train['education'] = train['education'].map({\n",
    "    '< 12 Years': 1,\n",
    "    '12 Years': 2,\n",
    "    'Some College': 3,\n",
    "    'College Graduate': 4,\n",
    "    'None': -1\n",
    "})\n",
    "\n",
    "train['income_poverty'] = train['income_poverty'].map({\n",
    "    'None': -1,\n",
    "    'Below Poverty': 1,\n",
    "    '<= $75,000, Above Poverty': 2,\n",
    "    '> $75,000': 3\n",
    "})\n",
    "\n",
    "train['employment_status'] = train['employment_status'].map({\n",
    "    'None': -1,\n",
    "    'Unemployed': 1,\n",
    "    'Employed': 2,\n",
    "    'Not in Labor Force': 3\n",
    "})\n",
    "\n",
    "\n",
    "\n",
    "\n",
    "test['education'] = test['education'].map({\n",
    "    '< 12 Years': 1,\n",
    "    '12 Years': 2,\n",
    "    'Some College': 3,\n",
    "    'College Graduate': 4,\n",
    "    'None': -1\n",
    "})\n",
    "\n",
    "test['income_poverty'] = test['income_poverty'].map({\n",
    "    'None': -1,\n",
    "    'Below Poverty': 1,\n",
    "    '<= $75,000, Above Poverty': 2,\n",
    "    '> $75,000': 3\n",
    "})\n",
    "\n",
    "test['employment_status'] = test['employment_status'].map({\n",
    "    'None': -1,\n",
    "    'Unemployed': 1,\n",
    "    'Employed': 2,\n",
    "    'Not in Labor Force': 3\n",
    "})"
   ]
  },
  {
   "cell_type": "code",
   "execution_count": 102,
   "metadata": {},
   "outputs": [
    {
     "name": "stdout",
     "output_type": "stream",
     "text": [
      "age_group [4 2 1 5 3]\n",
      "education [ 1  2  4  3 -1]\n",
      "income_poverty [ 1  2  3 -1]\n",
      "employment_status [ 3  2  1 -1]\n"
     ]
    }
   ],
   "source": [
    "for x in train[ord_cols].columns:\n",
    "    print(x, train[x].unique())"
   ]
  },
  {
   "cell_type": "code",
   "execution_count": 103,
   "metadata": {},
   "outputs": [],
   "source": [
    "all_cols = train.columns\n",
    "best_cols = [2, 3, 6, 7, 10, 12, 13, 14, 16, 21, 22, 25, 26, 27, 28, 29, 30, 31, 32]"
   ]
  },
  {
   "cell_type": "code",
   "execution_count": 104,
   "metadata": {},
   "outputs": [],
   "source": [
    "best_cols_names = [all_cols[x] for x in best_cols]"
   ]
  },
  {
   "cell_type": "code",
   "execution_count": 105,
   "metadata": {},
   "outputs": [],
   "source": [
    "used_cols = list(set(num_cols + best_cols_names))\n",
    "train = train[used_cols]\n",
    "test = test[used_cols]\n",
    "\n",
    "h1n1_labels = labels[['h1n1_vaccine']]\n",
    "seas_labels = labels[['seasonal_vaccine']]"
   ]
  },
  {
   "cell_type": "markdown",
   "metadata": {},
   "source": [
    "# Transformation"
   ]
  },
  {
   "cell_type": "code",
   "execution_count": 106,
   "metadata": {},
   "outputs": [],
   "source": [
    "#H1N1 Balancing\n",
    "yeses = h1n1_labels[h1n1_labels['h1n1_vaccine'] == 'Yes']\n",
    "len_of_yes = len(yeses)\n",
    "nos = h1n1_labels[h1n1_labels['h1n1_vaccine'] == 'No'].sample(len_of_yes, random_state=42)\n",
    "\n",
    "indices = np.concatenate((yeses.index.values, nos.index.values))\n",
    "h1n1_labels_balanced = h1n1_labels.iloc[indices, :]\n",
    "h1n1_train_balanced = train.iloc[indices, :]\n",
    "\n",
    "enc = OneHotEncoder(categories='auto')\n",
    "h1n1_labels_balanced_arr = np.array(h1n1_labels_balanced['h1n1_vaccine']).reshape(-1,1)\n",
    "h1n1_labels_trans = enc.fit_transform(h1n1_labels_balanced_arr).toarray()\n",
    "h1n1_test_trans = enc.transform(np.array(h1n1_labels['h1n1_vaccine']).reshape(-1,1)).toarray()"
   ]
  },
  {
   "cell_type": "code",
   "execution_count": 107,
   "metadata": {},
   "outputs": [],
   "source": [
    "#Seasonal Balancing\n",
    "yeses = seas_labels[seas_labels['seasonal_vaccine'] == 'Yes']\n",
    "len_of_yes = len(yeses)\n",
    "nos = seas_labels[seas_labels['seasonal_vaccine'] == 'No'].sample(len_of_yes, random_state=42)\n",
    "\n",
    "indices = np.concatenate((yeses.index.values, nos.index.values))\n",
    "seas_labels_balanced = seas_labels.iloc[indices, :]\n",
    "seas_train_balanced = train.iloc[indices, :]\n",
    "\n",
    "enc = OneHotEncoder(categories='auto')\n",
    "seas_labels_balanced_arr = np.array(seas_labels_balanced['seasonal_vaccine']).reshape(-1,1)\n",
    "seas_labels_trans = enc.fit_transform(seas_labels_balanced_arr).toarray()\n",
    "seas_test_trans = enc.transform(np.array(seas_labels['seasonal_vaccine']).reshape(-1,1)).toarray()"
   ]
  },
  {
   "cell_type": "code",
   "execution_count": 108,
   "metadata": {},
   "outputs": [],
   "source": [
    "cat_cols = train.select_dtypes('object').columns"
   ]
  },
  {
   "cell_type": "code",
   "execution_count": 109,
   "metadata": {},
   "outputs": [],
   "source": [
    "ct = ColumnTransformer([('scaler', StandardScaler(), num_cols),\n",
    "                       ('cat', OneHotEncoder(), cat_cols)]\n",
    "                       , remainder='passthrough')"
   ]
  },
  {
   "cell_type": "code",
   "execution_count": 110,
   "metadata": {},
   "outputs": [],
   "source": [
    "h1n1_train_trans = ct.fit_transform(h1n1_train_balanced)\n",
    "seas_train_trans = ct.fit_transform(seas_train_balanced)\n",
    "test = ct.transform(test)"
   ]
  },
  {
   "cell_type": "code",
   "execution_count": 111,
   "metadata": {},
   "outputs": [],
   "source": [
    "true_features = train.sample(1500, random_state=42)\n",
    "true_indices = true_features.index.values\n",
    "true_labels = labels.iloc[true_indices,:]\n",
    "\n",
    "true_features = ct.fit_transform(true_features)\n",
    "true_labels['h1n1_vaccine'] = true_labels['h1n1_vaccine'].map({'Yes': 1, 'No': 0})\n",
    "true_labels['seasonal_vaccine'] = true_labels['seasonal_vaccine'].map({'Yes': 1, 'No': 0})\n",
    "true_labels_rf = true_labels.copy()\n",
    "true_labels = np.asarray(true_labels)"
   ]
  },
  {
   "cell_type": "code",
   "execution_count": null,
   "metadata": {},
   "outputs": [],
   "source": []
  },
  {
   "cell_type": "markdown",
   "metadata": {},
   "source": [
    "# H1N1"
   ]
  },
  {
   "cell_type": "markdown",
   "metadata": {},
   "source": [
    "## Random Forest"
   ]
  },
  {
   "cell_type": "markdown",
   "metadata": {},
   "source": [
    "## Train Test Split"
   ]
  },
  {
   "cell_type": "code",
   "execution_count": 112,
   "metadata": {},
   "outputs": [],
   "source": [
    "X = h1n1_train_trans\n",
    "y = h1n1_labels_balanced['h1n1_vaccine'].map({'Yes': 1, 'No': 0}).to_numpy()"
   ]
  },
  {
   "cell_type": "code",
   "execution_count": 113,
   "metadata": {},
   "outputs": [],
   "source": [
    "X_train, X_test, y_train, y_test = train_test_split(X, y, test_size=0.3, random_state=42, shuffle=True)"
   ]
  },
  {
   "cell_type": "code",
   "execution_count": 114,
   "metadata": {},
   "outputs": [
    {
     "name": "stdout",
     "output_type": "stream",
     "text": [
      "Learning rate set to 0.238654\n",
      "0:\tlearn: 0.4605087\ttotal: 2.46ms\tremaining: 367ms\n",
      "1:\tlearn: 0.4363125\ttotal: 5.11ms\tremaining: 378ms\n",
      "2:\tlearn: 0.4217797\ttotal: 7.69ms\tremaining: 377ms\n",
      "3:\tlearn: 0.4113525\ttotal: 10.2ms\tremaining: 373ms\n",
      "4:\tlearn: 0.4041361\ttotal: 12.7ms\tremaining: 367ms\n",
      "5:\tlearn: 0.3997603\ttotal: 15.1ms\tremaining: 363ms\n",
      "6:\tlearn: 0.3957630\ttotal: 17.7ms\tremaining: 362ms\n",
      "7:\tlearn: 0.3927565\ttotal: 20.3ms\tremaining: 361ms\n",
      "8:\tlearn: 0.3908970\ttotal: 22.9ms\tremaining: 358ms\n",
      "9:\tlearn: 0.3884160\ttotal: 25.2ms\tremaining: 353ms\n",
      "10:\tlearn: 0.3864804\ttotal: 27.7ms\tremaining: 350ms\n",
      "11:\tlearn: 0.3846070\ttotal: 30.2ms\tremaining: 348ms\n",
      "12:\tlearn: 0.3829816\ttotal: 32.8ms\tremaining: 346ms\n",
      "13:\tlearn: 0.3820948\ttotal: 35.5ms\tremaining: 344ms\n",
      "14:\tlearn: 0.3809459\ttotal: 37.9ms\tremaining: 341ms\n",
      "15:\tlearn: 0.3799199\ttotal: 40.4ms\tremaining: 338ms\n",
      "16:\tlearn: 0.3789953\ttotal: 42.9ms\tremaining: 336ms\n",
      "17:\tlearn: 0.3784690\ttotal: 45.5ms\tremaining: 334ms\n",
      "18:\tlearn: 0.3776037\ttotal: 47.9ms\tremaining: 330ms\n",
      "19:\tlearn: 0.3771086\ttotal: 50.5ms\tremaining: 328ms\n",
      "20:\tlearn: 0.3763281\ttotal: 52.9ms\tremaining: 325ms\n",
      "21:\tlearn: 0.3756400\ttotal: 55.6ms\tremaining: 324ms\n",
      "22:\tlearn: 0.3748685\ttotal: 58.1ms\tremaining: 321ms\n",
      "23:\tlearn: 0.3743055\ttotal: 60.7ms\tremaining: 319ms\n",
      "24:\tlearn: 0.3736062\ttotal: 63.1ms\tremaining: 316ms\n",
      "25:\tlearn: 0.3732546\ttotal: 65.4ms\tremaining: 312ms\n",
      "26:\tlearn: 0.3721735\ttotal: 67.7ms\tremaining: 309ms\n",
      "27:\tlearn: 0.3715983\ttotal: 70.3ms\tremaining: 306ms\n",
      "28:\tlearn: 0.3709248\ttotal: 72.9ms\tremaining: 304ms\n",
      "29:\tlearn: 0.3706183\ttotal: 75.3ms\tremaining: 301ms\n",
      "30:\tlearn: 0.3697127\ttotal: 77.7ms\tremaining: 298ms\n",
      "31:\tlearn: 0.3694166\ttotal: 79.8ms\tremaining: 294ms\n",
      "32:\tlearn: 0.3690340\ttotal: 82ms\tremaining: 291ms\n",
      "33:\tlearn: 0.3685111\ttotal: 84.3ms\tremaining: 287ms\n",
      "34:\tlearn: 0.3681121\ttotal: 86.6ms\tremaining: 285ms\n",
      "35:\tlearn: 0.3672970\ttotal: 89ms\tremaining: 282ms\n",
      "36:\tlearn: 0.3668507\ttotal: 91.3ms\tremaining: 279ms\n",
      "37:\tlearn: 0.3663415\ttotal: 93.5ms\tremaining: 276ms\n",
      "38:\tlearn: 0.3653887\ttotal: 95.8ms\tremaining: 273ms\n",
      "39:\tlearn: 0.3646716\ttotal: 98.1ms\tremaining: 270ms\n",
      "40:\tlearn: 0.3641870\ttotal: 100ms\tremaining: 267ms\n",
      "41:\tlearn: 0.3635557\ttotal: 103ms\tremaining: 264ms\n",
      "42:\tlearn: 0.3628080\ttotal: 105ms\tremaining: 261ms\n",
      "43:\tlearn: 0.3622240\ttotal: 107ms\tremaining: 258ms\n",
      "44:\tlearn: 0.3613886\ttotal: 109ms\tremaining: 255ms\n",
      "45:\tlearn: 0.3606023\ttotal: 112ms\tremaining: 252ms\n",
      "46:\tlearn: 0.3595663\ttotal: 114ms\tremaining: 249ms\n",
      "47:\tlearn: 0.3587616\ttotal: 116ms\tremaining: 246ms\n",
      "48:\tlearn: 0.3580553\ttotal: 118ms\tremaining: 244ms\n",
      "49:\tlearn: 0.3570539\ttotal: 121ms\tremaining: 241ms\n",
      "50:\tlearn: 0.3564526\ttotal: 123ms\tremaining: 238ms\n",
      "51:\tlearn: 0.3558174\ttotal: 125ms\tremaining: 235ms\n",
      "52:\tlearn: 0.3551335\ttotal: 127ms\tremaining: 233ms\n",
      "53:\tlearn: 0.3546912\ttotal: 129ms\tremaining: 230ms\n",
      "54:\tlearn: 0.3540156\ttotal: 131ms\tremaining: 227ms\n",
      "55:\tlearn: 0.3533852\ttotal: 134ms\tremaining: 224ms\n",
      "56:\tlearn: 0.3527258\ttotal: 136ms\tremaining: 222ms\n",
      "57:\tlearn: 0.3521382\ttotal: 138ms\tremaining: 219ms\n",
      "58:\tlearn: 0.3514706\ttotal: 140ms\tremaining: 217ms\n",
      "59:\tlearn: 0.3510239\ttotal: 143ms\tremaining: 214ms\n",
      "60:\tlearn: 0.3504950\ttotal: 145ms\tremaining: 211ms\n",
      "61:\tlearn: 0.3502268\ttotal: 147ms\tremaining: 209ms\n",
      "62:\tlearn: 0.3495292\ttotal: 149ms\tremaining: 206ms\n",
      "63:\tlearn: 0.3488467\ttotal: 151ms\tremaining: 203ms\n",
      "64:\tlearn: 0.3484071\ttotal: 154ms\tremaining: 201ms\n",
      "65:\tlearn: 0.3478839\ttotal: 156ms\tremaining: 198ms\n",
      "66:\tlearn: 0.3473414\ttotal: 158ms\tremaining: 196ms\n",
      "67:\tlearn: 0.3466603\ttotal: 160ms\tremaining: 193ms\n",
      "68:\tlearn: 0.3464392\ttotal: 162ms\tremaining: 191ms\n",
      "69:\tlearn: 0.3456167\ttotal: 165ms\tremaining: 188ms\n",
      "70:\tlearn: 0.3450872\ttotal: 167ms\tremaining: 186ms\n",
      "71:\tlearn: 0.3445249\ttotal: 169ms\tremaining: 184ms\n",
      "72:\tlearn: 0.3440214\ttotal: 172ms\tremaining: 181ms\n",
      "73:\tlearn: 0.3435923\ttotal: 174ms\tremaining: 179ms\n",
      "74:\tlearn: 0.3428135\ttotal: 177ms\tremaining: 177ms\n",
      "75:\tlearn: 0.3421416\ttotal: 179ms\tremaining: 174ms\n",
      "76:\tlearn: 0.3415752\ttotal: 181ms\tremaining: 172ms\n",
      "77:\tlearn: 0.3409040\ttotal: 184ms\tremaining: 170ms\n",
      "78:\tlearn: 0.3404423\ttotal: 186ms\tremaining: 167ms\n",
      "79:\tlearn: 0.3401931\ttotal: 188ms\tremaining: 165ms\n",
      "80:\tlearn: 0.3396961\ttotal: 191ms\tremaining: 162ms\n",
      "81:\tlearn: 0.3392677\ttotal: 193ms\tremaining: 160ms\n",
      "82:\tlearn: 0.3388448\ttotal: 195ms\tremaining: 158ms\n",
      "83:\tlearn: 0.3385545\ttotal: 198ms\tremaining: 155ms\n",
      "84:\tlearn: 0.3381521\ttotal: 200ms\tremaining: 153ms\n",
      "85:\tlearn: 0.3378372\ttotal: 202ms\tremaining: 150ms\n",
      "86:\tlearn: 0.3374423\ttotal: 205ms\tremaining: 148ms\n",
      "87:\tlearn: 0.3370426\ttotal: 207ms\tremaining: 146ms\n",
      "88:\tlearn: 0.3366592\ttotal: 209ms\tremaining: 143ms\n",
      "89:\tlearn: 0.3361634\ttotal: 212ms\tremaining: 141ms\n",
      "90:\tlearn: 0.3356413\ttotal: 214ms\tremaining: 139ms\n",
      "91:\tlearn: 0.3351060\ttotal: 216ms\tremaining: 136ms\n",
      "92:\tlearn: 0.3347685\ttotal: 219ms\tremaining: 134ms\n",
      "93:\tlearn: 0.3341835\ttotal: 221ms\tremaining: 132ms\n",
      "94:\tlearn: 0.3338774\ttotal: 224ms\tremaining: 129ms\n",
      "95:\tlearn: 0.3333125\ttotal: 226ms\tremaining: 127ms\n",
      "96:\tlearn: 0.3328456\ttotal: 228ms\tremaining: 125ms\n",
      "97:\tlearn: 0.3325201\ttotal: 230ms\tremaining: 122ms\n",
      "98:\tlearn: 0.3323530\ttotal: 233ms\tremaining: 120ms\n",
      "99:\tlearn: 0.3320317\ttotal: 235ms\tremaining: 117ms\n",
      "100:\tlearn: 0.3315995\ttotal: 237ms\tremaining: 115ms\n",
      "101:\tlearn: 0.3312552\ttotal: 239ms\tremaining: 113ms\n",
      "102:\tlearn: 0.3307710\ttotal: 242ms\tremaining: 110ms\n",
      "103:\tlearn: 0.3304228\ttotal: 244ms\tremaining: 108ms\n",
      "104:\tlearn: 0.3298237\ttotal: 246ms\tremaining: 105ms\n",
      "105:\tlearn: 0.3293924\ttotal: 248ms\tremaining: 103ms\n",
      "106:\tlearn: 0.3292287\ttotal: 250ms\tremaining: 101ms\n",
      "107:\tlearn: 0.3285312\ttotal: 253ms\tremaining: 98.3ms\n",
      "108:\tlearn: 0.3281002\ttotal: 255ms\tremaining: 95.9ms\n",
      "109:\tlearn: 0.3276905\ttotal: 257ms\tremaining: 93.5ms\n",
      "110:\tlearn: 0.3272731\ttotal: 259ms\tremaining: 91.1ms\n",
      "111:\tlearn: 0.3266553\ttotal: 262ms\tremaining: 88.8ms\n",
      "112:\tlearn: 0.3260080\ttotal: 264ms\tremaining: 86.4ms\n",
      "113:\tlearn: 0.3256747\ttotal: 266ms\tremaining: 84ms\n",
      "114:\tlearn: 0.3251761\ttotal: 268ms\tremaining: 81.6ms\n",
      "115:\tlearn: 0.3246309\ttotal: 270ms\tremaining: 79.3ms\n",
      "116:\tlearn: 0.3240515\ttotal: 273ms\tremaining: 76.9ms\n",
      "117:\tlearn: 0.3236487\ttotal: 275ms\tremaining: 74.5ms\n",
      "118:\tlearn: 0.3232917\ttotal: 277ms\tremaining: 72.2ms\n",
      "119:\tlearn: 0.3226266\ttotal: 279ms\tremaining: 69.9ms\n",
      "120:\tlearn: 0.3222114\ttotal: 282ms\tremaining: 67.5ms\n",
      "121:\tlearn: 0.3220427\ttotal: 284ms\tremaining: 65.1ms\n",
      "122:\tlearn: 0.3214755\ttotal: 286ms\tremaining: 62.8ms\n",
      "123:\tlearn: 0.3209331\ttotal: 288ms\tremaining: 60.4ms\n",
      "124:\tlearn: 0.3205164\ttotal: 290ms\tremaining: 58.1ms\n",
      "125:\tlearn: 0.3201325\ttotal: 293ms\tremaining: 55.7ms\n",
      "126:\tlearn: 0.3198118\ttotal: 295ms\tremaining: 53.4ms\n",
      "127:\tlearn: 0.3193648\ttotal: 297ms\tremaining: 51.1ms\n",
      "128:\tlearn: 0.3188789\ttotal: 299ms\tremaining: 48.7ms\n",
      "129:\tlearn: 0.3185811\ttotal: 301ms\tremaining: 46.4ms\n",
      "130:\tlearn: 0.3180597\ttotal: 304ms\tremaining: 44.1ms\n",
      "131:\tlearn: 0.3177745\ttotal: 306ms\tremaining: 41.7ms\n",
      "132:\tlearn: 0.3175445\ttotal: 308ms\tremaining: 39.4ms\n",
      "133:\tlearn: 0.3170261\ttotal: 310ms\tremaining: 37.1ms\n",
      "134:\tlearn: 0.3165504\ttotal: 313ms\tremaining: 34.7ms\n",
      "135:\tlearn: 0.3164267\ttotal: 315ms\tremaining: 32.4ms\n",
      "136:\tlearn: 0.3160204\ttotal: 317ms\tremaining: 30.1ms\n",
      "137:\tlearn: 0.3154602\ttotal: 319ms\tremaining: 27.7ms\n",
      "138:\tlearn: 0.3151372\ttotal: 321ms\tremaining: 25.4ms\n",
      "139:\tlearn: 0.3148318\ttotal: 323ms\tremaining: 23.1ms\n",
      "140:\tlearn: 0.3145035\ttotal: 326ms\tremaining: 20.8ms\n",
      "141:\tlearn: 0.3141319\ttotal: 328ms\tremaining: 18.5ms\n",
      "142:\tlearn: 0.3137176\ttotal: 330ms\tremaining: 16.2ms\n",
      "143:\tlearn: 0.3134278\ttotal: 332ms\tremaining: 13.8ms\n",
      "144:\tlearn: 0.3130959\ttotal: 334ms\tremaining: 11.5ms\n",
      "145:\tlearn: 0.3128059\ttotal: 337ms\tremaining: 9.22ms\n",
      "146:\tlearn: 0.3125093\ttotal: 339ms\tremaining: 6.92ms\n",
      "147:\tlearn: 0.3120831\ttotal: 341ms\tremaining: 4.61ms\n",
      "148:\tlearn: 0.3116053\ttotal: 343ms\tremaining: 2.3ms\n",
      "149:\tlearn: 0.3111322\ttotal: 346ms\tremaining: 0us\n"
     ]
    },
    {
     "data": {
      "text/plain": [
       "<catboost.core.CatBoostRegressor at 0x28f07eb5cd0>"
      ]
     },
     "execution_count": 114,
     "metadata": {},
     "output_type": "execute_result"
    }
   ],
   "source": [
    "#H1N1 Model\n",
    "# model_h1n1 = RandomForestRegressor(n_estimators=1200,\n",
    "#                                min_samples_split=2,\n",
    "#                                min_samples_leaf=3,\n",
    "#                                max_features='sqrt',\n",
    "#                                max_depth=20,\n",
    "#                                bootstrap=True)\n",
    "model_h1n1 = CatBoostRegressor(n_estimators=150)\n",
    "model_h1n1.fit(X_train, y_train)"
   ]
  },
  {
   "cell_type": "code",
   "execution_count": 58,
   "metadata": {},
   "outputs": [
    {
     "data": {
      "text/plain": [
       "RandomForestClassifier(n_estimators=10, random_state=42)"
      ]
     },
     "execution_count": 58,
     "metadata": {},
     "output_type": "execute_result"
    }
   ],
   "source": [
    "#Base Model\n",
    "base_model = RandomForestClassifier(n_estimators=10, random_state=42)\n",
    "base_model.fit(X_train, y_train)"
   ]
  },
  {
   "cell_type": "code",
   "execution_count": 85,
   "metadata": {},
   "outputs": [
    {
     "name": "stdout",
     "output_type": "stream",
     "text": [
      "Model Performance\n",
      "Average Error: 0.3257 degrees\n",
      "Accuracy = nan%\n",
      "AUC = 0.8098067289872746\n"
     ]
    },
    {
     "data": {
      "text/plain": [
       "nan"
      ]
     },
     "execution_count": 85,
     "metadata": {},
     "output_type": "execute_result"
    }
   ],
   "source": [
    "evaluate(base_model, X_test, y_test)"
   ]
  },
  {
   "cell_type": "code",
   "execution_count": null,
   "metadata": {},
   "outputs": [],
   "source": []
  },
  {
   "cell_type": "code",
   "execution_count": 115,
   "metadata": {},
   "outputs": [
    {
     "name": "stdout",
     "output_type": "stream",
     "text": [
      "Model Performance\n",
      "Average Error: 0.3109 degrees\n",
      "Accuracy = -inf%\n",
      "AUC = 0.8530047184267125\n"
     ]
    },
    {
     "data": {
      "text/plain": [
       "-inf"
      ]
     },
     "execution_count": 115,
     "metadata": {},
     "output_type": "execute_result"
    }
   ],
   "source": [
    "evaluate(model_h1n1, X_test, y_test)"
   ]
  },
  {
   "cell_type": "code",
   "execution_count": 663,
   "metadata": {},
   "outputs": [],
   "source": [
    "y_predicted_h1n1 = model_h1n1.predict(X_test)"
   ]
  },
  {
   "cell_type": "markdown",
   "metadata": {},
   "source": [
    "## Neural Network"
   ]
  },
  {
   "cell_type": "markdown",
   "metadata": {},
   "source": [
    "### Train Test Split"
   ]
  },
  {
   "cell_type": "code",
   "execution_count": 17,
   "metadata": {},
   "outputs": [],
   "source": [
    "X = h1n1_train_trans\n",
    "y = h1n1_labels_trans"
   ]
  },
  {
   "cell_type": "code",
   "execution_count": 18,
   "metadata": {},
   "outputs": [],
   "source": [
    "X_train, X_test, y_train, y_test = train_test_split(X, y, test_size=0.3, random_state=42, shuffle=True)"
   ]
  },
  {
   "cell_type": "code",
   "execution_count": 19,
   "metadata": {},
   "outputs": [],
   "source": [
    "h1n1_mc = ModelCheckpoint('..Models/h1n1_best_model.h5', monitor='val_auc', mode='max', verbose=0, save_best_only=True)\n",
    "\n",
    "model_h1n1 = keras.Sequential([\n",
    "    keras.layers.Dense(200, activation='sigmoid', input_dim=46),\n",
    "    keras.layers.Dense(100, activation='relu'),\n",
    "    keras.layers.Dense(200, activation='relu'),\n",
    "    keras.layers.Dense(800, activation='relu'),\n",
    "    keras.layers.Dense(500, activation='relu'),\n",
    "    keras.layers.Dense(250, activation='relu'),\n",
    "    keras.layers.Dense(2, activation='softmax')\n",
    "])"
   ]
  },
  {
   "cell_type": "code",
   "execution_count": 20,
   "metadata": {},
   "outputs": [],
   "source": [
    "model_h1n1.compile(optimizer='adam',\n",
    "              loss=tf.keras.losses.BinaryCrossentropy(from_logits=False),\n",
    "              metrics=[tf.keras.metrics.AUC(from_logits=False), 'accuracy'])"
   ]
  },
  {
   "cell_type": "code",
   "execution_count": 21,
   "metadata": {
    "scrolled": true
   },
   "outputs": [
    {
     "name": "stdout",
     "output_type": "stream",
     "text": [
      "Epoch 1/150\n",
      "159/159 [==============================] - 2s 9ms/step - loss: 0.5251 - auc: 0.8166 - accuracy: 0.7365 - val_loss: 0.5005 - val_auc: 0.8416 - val_accuracy: 0.7609\n",
      "Epoch 2/150\n",
      "159/159 [==============================] - 1s 7ms/step - loss: 0.4891 - auc: 0.8446 - accuracy: 0.7666 - val_loss: 0.4819 - val_auc: 0.8498 - val_accuracy: 0.7730\n",
      "Epoch 3/150\n",
      "159/159 [==============================] - 1s 6ms/step - loss: 0.4860 - auc: 0.8468 - accuracy: 0.7730 - val_loss: 0.4766 - val_auc: 0.8529 - val_accuracy: 0.7765\n",
      "Epoch 4/150\n",
      "159/159 [==============================] - 1s 6ms/step - loss: 0.4801 - auc: 0.8514 - accuracy: 0.7744 - val_loss: 0.4821 - val_auc: 0.8506 - val_accuracy: 0.7695\n",
      "Epoch 5/150\n",
      "159/159 [==============================] - 1s 6ms/step - loss: 0.4738 - auc: 0.8559 - accuracy: 0.7797 - val_loss: 0.4806 - val_auc: 0.8507 - val_accuracy: 0.7648\n",
      "Epoch 6/150\n",
      "159/159 [==============================] - 1s 6ms/step - loss: 0.4692 - auc: 0.8587 - accuracy: 0.7783 - val_loss: 0.4819 - val_auc: 0.8525 - val_accuracy: 0.7759\n",
      "Epoch 7/150\n",
      "159/159 [==============================] - 1s 6ms/step - loss: 0.4654 - auc: 0.8609 - accuracy: 0.7785 - val_loss: 0.4761 - val_auc: 0.8530 - val_accuracy: 0.7727\n",
      "Epoch 8/150\n",
      "159/159 [==============================] - 1s 6ms/step - loss: 0.4663 - auc: 0.8608 - accuracy: 0.7807 - val_loss: 0.4744 - val_auc: 0.8546 - val_accuracy: 0.7695\n",
      "Epoch 9/150\n",
      "159/159 [==============================] - 1s 6ms/step - loss: 0.4590 - auc: 0.8647 - accuracy: 0.7856 - val_loss: 0.4791 - val_auc: 0.8552 - val_accuracy: 0.7765\n",
      "Epoch 10/150\n",
      "159/159 [==============================] - 1s 7ms/step - loss: 0.4640 - auc: 0.8623 - accuracy: 0.7833 - val_loss: 0.4844 - val_auc: 0.8474 - val_accuracy: 0.7574\n",
      "Epoch 11/150\n",
      "159/159 [==============================] - 1s 6ms/step - loss: 0.4548 - auc: 0.8679 - accuracy: 0.7890 - val_loss: 0.4841 - val_auc: 0.8519 - val_accuracy: 0.7727\n",
      "Epoch 12/150\n",
      "159/159 [==============================] - 1s 7ms/step - loss: 0.4590 - auc: 0.8651 - accuracy: 0.7865 - val_loss: 0.4823 - val_auc: 0.8484 - val_accuracy: 0.7636\n",
      "Epoch 13/150\n",
      "159/159 [==============================] - 1s 7ms/step - loss: 0.4534 - auc: 0.8686 - accuracy: 0.7900 - val_loss: 0.4864 - val_auc: 0.8505 - val_accuracy: 0.7648\n"
     ]
    }
   ],
   "source": [
    "EarlyStopping = tf.keras.callbacks.EarlyStopping(\n",
    "    monitor='val_loss', min_delta=0, patience=5, verbose=0,\n",
    "    mode='auto', baseline=None, restore_best_weights=True\n",
    ")\n",
    "\n",
    "history = model_h1n1.fit(\n",
    "    X_train,\n",
    "    y_train,\n",
    "    batch_size=50,\n",
    "    epochs=150,\n",
    "    validation_data=(X_test, y_test),\n",
    "    callbacks=[h1n1_mc, EarlyStopping],\n",
    "    shuffle=True,\n",
    "    verbose=1\n",
    ")"
   ]
  },
  {
   "cell_type": "code",
   "execution_count": 22,
   "metadata": {},
   "outputs": [
    {
     "data": {
      "text/plain": [
       "0.8567961634138328"
      ]
     },
     "execution_count": 22,
     "metadata": {},
     "output_type": "execute_result"
    }
   ],
   "source": [
    "#model_h1n1 = load_model('..Models/h1n1_best_model.h5')\n",
    "\n",
    "y_predicted_h1n1 = model_h1n1.predict(X_test)\n",
    "roc_auc_score(y_test, y_predicted_h1n1)"
   ]
  },
  {
   "cell_type": "markdown",
   "metadata": {},
   "source": [
    "# Seasonal"
   ]
  },
  {
   "cell_type": "markdown",
   "metadata": {},
   "source": [
    "## Random Forest Model"
   ]
  },
  {
   "cell_type": "markdown",
   "metadata": {},
   "source": [
    "### Train Test Split"
   ]
  },
  {
   "cell_type": "code",
   "execution_count": 116,
   "metadata": {},
   "outputs": [],
   "source": [
    "X = seas_train_trans\n",
    "y = seas_labels_balanced['seasonal_vaccine'].map({'Yes': 1, 'No': 0}).to_numpy()"
   ]
  },
  {
   "cell_type": "code",
   "execution_count": 117,
   "metadata": {},
   "outputs": [],
   "source": [
    "X_train, X_test, y_train, y_test = train_test_split(X, y, test_size=0.3, random_state=42, shuffle=True)"
   ]
  },
  {
   "cell_type": "code",
   "execution_count": 118,
   "metadata": {},
   "outputs": [
    {
     "name": "stdout",
     "output_type": "stream",
     "text": [
      "Learning rate set to 0.274428\n",
      "0:\tlearn: 0.4621088\ttotal: 3.77ms\tremaining: 562ms\n",
      "1:\tlearn: 0.4389792\ttotal: 7.64ms\tremaining: 565ms\n",
      "2:\tlearn: 0.4250228\ttotal: 11.4ms\tremaining: 560ms\n",
      "3:\tlearn: 0.4153538\ttotal: 15.1ms\tremaining: 551ms\n",
      "4:\tlearn: 0.4088632\ttotal: 18.7ms\tremaining: 543ms\n",
      "5:\tlearn: 0.4033330\ttotal: 22.7ms\tremaining: 544ms\n",
      "6:\tlearn: 0.4006570\ttotal: 27ms\tremaining: 551ms\n",
      "7:\tlearn: 0.3988498\ttotal: 31ms\tremaining: 550ms\n",
      "8:\tlearn: 0.3968799\ttotal: 35ms\tremaining: 549ms\n",
      "9:\tlearn: 0.3955938\ttotal: 38.9ms\tremaining: 544ms\n",
      "10:\tlearn: 0.3943830\ttotal: 42.9ms\tremaining: 542ms\n",
      "11:\tlearn: 0.3933230\ttotal: 46.7ms\tremaining: 538ms\n",
      "12:\tlearn: 0.3924473\ttotal: 50.6ms\tremaining: 533ms\n",
      "13:\tlearn: 0.3915054\ttotal: 54.8ms\tremaining: 533ms\n",
      "14:\tlearn: 0.3907711\ttotal: 59.2ms\tremaining: 533ms\n",
      "15:\tlearn: 0.3903538\ttotal: 63.3ms\tremaining: 530ms\n",
      "16:\tlearn: 0.3893615\ttotal: 67.2ms\tremaining: 526ms\n",
      "17:\tlearn: 0.3889123\ttotal: 71ms\tremaining: 521ms\n",
      "18:\tlearn: 0.3883255\ttotal: 74.9ms\tremaining: 516ms\n",
      "19:\tlearn: 0.3878761\ttotal: 78.7ms\tremaining: 512ms\n",
      "20:\tlearn: 0.3873513\ttotal: 82.5ms\tremaining: 507ms\n",
      "21:\tlearn: 0.3868800\ttotal: 86.2ms\tremaining: 501ms\n",
      "22:\tlearn: 0.3865018\ttotal: 90.1ms\tremaining: 498ms\n",
      "23:\tlearn: 0.3861356\ttotal: 93.9ms\tremaining: 493ms\n",
      "24:\tlearn: 0.3857480\ttotal: 97.7ms\tremaining: 488ms\n",
      "25:\tlearn: 0.3852117\ttotal: 101ms\tremaining: 483ms\n",
      "26:\tlearn: 0.3848699\ttotal: 105ms\tremaining: 478ms\n",
      "27:\tlearn: 0.3843717\ttotal: 109ms\tremaining: 473ms\n",
      "28:\tlearn: 0.3840798\ttotal: 112ms\tremaining: 469ms\n",
      "29:\tlearn: 0.3836867\ttotal: 116ms\tremaining: 464ms\n",
      "30:\tlearn: 0.3834948\ttotal: 120ms\tremaining: 459ms\n",
      "31:\tlearn: 0.3829868\ttotal: 123ms\tremaining: 455ms\n",
      "32:\tlearn: 0.3827531\ttotal: 127ms\tremaining: 451ms\n",
      "33:\tlearn: 0.3825801\ttotal: 131ms\tremaining: 446ms\n",
      "34:\tlearn: 0.3820975\ttotal: 134ms\tremaining: 441ms\n",
      "35:\tlearn: 0.3816480\ttotal: 138ms\tremaining: 437ms\n",
      "36:\tlearn: 0.3813928\ttotal: 141ms\tremaining: 432ms\n",
      "37:\tlearn: 0.3811061\ttotal: 145ms\tremaining: 427ms\n",
      "38:\tlearn: 0.3806346\ttotal: 148ms\tremaining: 422ms\n",
      "39:\tlearn: 0.3802847\ttotal: 152ms\tremaining: 417ms\n",
      "40:\tlearn: 0.3798007\ttotal: 155ms\tremaining: 413ms\n",
      "41:\tlearn: 0.3794333\ttotal: 159ms\tremaining: 408ms\n",
      "42:\tlearn: 0.3789872\ttotal: 162ms\tremaining: 403ms\n",
      "43:\tlearn: 0.3785364\ttotal: 166ms\tremaining: 399ms\n",
      "44:\tlearn: 0.3781838\ttotal: 169ms\tremaining: 395ms\n",
      "45:\tlearn: 0.3775998\ttotal: 173ms\tremaining: 391ms\n",
      "46:\tlearn: 0.3772276\ttotal: 176ms\tremaining: 386ms\n",
      "47:\tlearn: 0.3767780\ttotal: 180ms\tremaining: 382ms\n",
      "48:\tlearn: 0.3762501\ttotal: 184ms\tremaining: 379ms\n",
      "49:\tlearn: 0.3759222\ttotal: 188ms\tremaining: 375ms\n",
      "50:\tlearn: 0.3754462\ttotal: 191ms\tremaining: 371ms\n",
      "51:\tlearn: 0.3749639\ttotal: 195ms\tremaining: 367ms\n",
      "52:\tlearn: 0.3744813\ttotal: 198ms\tremaining: 363ms\n",
      "53:\tlearn: 0.3741262\ttotal: 202ms\tremaining: 359ms\n",
      "54:\tlearn: 0.3738172\ttotal: 206ms\tremaining: 356ms\n",
      "55:\tlearn: 0.3735307\ttotal: 209ms\tremaining: 351ms\n",
      "56:\tlearn: 0.3731524\ttotal: 213ms\tremaining: 347ms\n",
      "57:\tlearn: 0.3727577\ttotal: 216ms\tremaining: 343ms\n",
      "58:\tlearn: 0.3723164\ttotal: 220ms\tremaining: 339ms\n",
      "59:\tlearn: 0.3720428\ttotal: 223ms\tremaining: 334ms\n",
      "60:\tlearn: 0.3715061\ttotal: 227ms\tremaining: 331ms\n",
      "61:\tlearn: 0.3711101\ttotal: 230ms\tremaining: 327ms\n",
      "62:\tlearn: 0.3706862\ttotal: 234ms\tremaining: 323ms\n",
      "63:\tlearn: 0.3703652\ttotal: 237ms\tremaining: 319ms\n",
      "64:\tlearn: 0.3700582\ttotal: 241ms\tremaining: 315ms\n",
      "65:\tlearn: 0.3697588\ttotal: 245ms\tremaining: 311ms\n",
      "66:\tlearn: 0.3694633\ttotal: 248ms\tremaining: 308ms\n",
      "67:\tlearn: 0.3689412\ttotal: 252ms\tremaining: 304ms\n",
      "68:\tlearn: 0.3685332\ttotal: 255ms\tremaining: 300ms\n",
      "69:\tlearn: 0.3682225\ttotal: 259ms\tremaining: 296ms\n",
      "70:\tlearn: 0.3680215\ttotal: 262ms\tremaining: 292ms\n",
      "71:\tlearn: 0.3676934\ttotal: 266ms\tremaining: 288ms\n",
      "72:\tlearn: 0.3673613\ttotal: 269ms\tremaining: 284ms\n",
      "73:\tlearn: 0.3670421\ttotal: 273ms\tremaining: 280ms\n",
      "74:\tlearn: 0.3667298\ttotal: 277ms\tremaining: 277ms\n",
      "75:\tlearn: 0.3664863\ttotal: 280ms\tremaining: 273ms\n",
      "76:\tlearn: 0.3661142\ttotal: 283ms\tremaining: 269ms\n",
      "77:\tlearn: 0.3658982\ttotal: 287ms\tremaining: 265ms\n",
      "78:\tlearn: 0.3655403\ttotal: 290ms\tremaining: 261ms\n",
      "79:\tlearn: 0.3653514\ttotal: 293ms\tremaining: 257ms\n",
      "80:\tlearn: 0.3651539\ttotal: 297ms\tremaining: 253ms\n",
      "81:\tlearn: 0.3648634\ttotal: 300ms\tremaining: 249ms\n",
      "82:\tlearn: 0.3643175\ttotal: 304ms\tremaining: 245ms\n",
      "83:\tlearn: 0.3642061\ttotal: 307ms\tremaining: 241ms\n",
      "84:\tlearn: 0.3638736\ttotal: 310ms\tremaining: 237ms\n",
      "85:\tlearn: 0.3634822\ttotal: 313ms\tremaining: 233ms\n",
      "86:\tlearn: 0.3631676\ttotal: 317ms\tremaining: 229ms\n",
      "87:\tlearn: 0.3628209\ttotal: 320ms\tremaining: 226ms\n",
      "88:\tlearn: 0.3624720\ttotal: 323ms\tremaining: 222ms\n",
      "89:\tlearn: 0.3622299\ttotal: 327ms\tremaining: 218ms\n",
      "90:\tlearn: 0.3617306\ttotal: 330ms\tremaining: 214ms\n",
      "91:\tlearn: 0.3614486\ttotal: 334ms\tremaining: 210ms\n",
      "92:\tlearn: 0.3611325\ttotal: 337ms\tremaining: 207ms\n",
      "93:\tlearn: 0.3609291\ttotal: 340ms\tremaining: 203ms\n",
      "94:\tlearn: 0.3607280\ttotal: 344ms\tremaining: 199ms\n",
      "95:\tlearn: 0.3606074\ttotal: 347ms\tremaining: 195ms\n",
      "96:\tlearn: 0.3603327\ttotal: 351ms\tremaining: 192ms\n",
      "97:\tlearn: 0.3601248\ttotal: 355ms\tremaining: 188ms\n",
      "98:\tlearn: 0.3598015\ttotal: 358ms\tremaining: 184ms\n",
      "99:\tlearn: 0.3594906\ttotal: 362ms\tremaining: 181ms\n",
      "100:\tlearn: 0.3592006\ttotal: 365ms\tremaining: 177ms\n",
      "101:\tlearn: 0.3587350\ttotal: 369ms\tremaining: 174ms\n",
      "102:\tlearn: 0.3584321\ttotal: 373ms\tremaining: 170ms\n",
      "103:\tlearn: 0.3581255\ttotal: 376ms\tremaining: 166ms\n",
      "104:\tlearn: 0.3578557\ttotal: 380ms\tremaining: 163ms\n",
      "105:\tlearn: 0.3576008\ttotal: 383ms\tremaining: 159ms\n",
      "106:\tlearn: 0.3573711\ttotal: 387ms\tremaining: 155ms\n",
      "107:\tlearn: 0.3569392\ttotal: 390ms\tremaining: 152ms\n",
      "108:\tlearn: 0.3567834\ttotal: 394ms\tremaining: 148ms\n",
      "109:\tlearn: 0.3565224\ttotal: 397ms\tremaining: 144ms\n",
      "110:\tlearn: 0.3562311\ttotal: 400ms\tremaining: 141ms\n",
      "111:\tlearn: 0.3560256\ttotal: 404ms\tremaining: 137ms\n",
      "112:\tlearn: 0.3558492\ttotal: 407ms\tremaining: 133ms\n",
      "113:\tlearn: 0.3556291\ttotal: 411ms\tremaining: 130ms\n",
      "114:\tlearn: 0.3554024\ttotal: 414ms\tremaining: 126ms\n",
      "115:\tlearn: 0.3551556\ttotal: 417ms\tremaining: 122ms\n",
      "116:\tlearn: 0.3549277\ttotal: 421ms\tremaining: 119ms\n",
      "117:\tlearn: 0.3547633\ttotal: 424ms\tremaining: 115ms\n",
      "118:\tlearn: 0.3544836\ttotal: 427ms\tremaining: 111ms\n",
      "119:\tlearn: 0.3541851\ttotal: 431ms\tremaining: 108ms\n",
      "120:\tlearn: 0.3539986\ttotal: 434ms\tremaining: 104ms\n",
      "121:\tlearn: 0.3537896\ttotal: 438ms\tremaining: 100ms\n",
      "122:\tlearn: 0.3535921\ttotal: 441ms\tremaining: 96.8ms\n",
      "123:\tlearn: 0.3533249\ttotal: 444ms\tremaining: 93.2ms\n",
      "124:\tlearn: 0.3531784\ttotal: 448ms\tremaining: 89.6ms\n",
      "125:\tlearn: 0.3529187\ttotal: 451ms\tremaining: 85.9ms\n",
      "126:\tlearn: 0.3525985\ttotal: 455ms\tremaining: 82.3ms\n",
      "127:\tlearn: 0.3523328\ttotal: 458ms\tremaining: 78.7ms\n",
      "128:\tlearn: 0.3520452\ttotal: 461ms\tremaining: 75.1ms\n",
      "129:\tlearn: 0.3516705\ttotal: 465ms\tremaining: 71.5ms\n",
      "130:\tlearn: 0.3514585\ttotal: 468ms\tremaining: 67.9ms\n",
      "131:\tlearn: 0.3513193\ttotal: 471ms\tremaining: 64.3ms\n",
      "132:\tlearn: 0.3510196\ttotal: 475ms\tremaining: 60.7ms\n",
      "133:\tlearn: 0.3508005\ttotal: 478ms\tremaining: 57.1ms\n",
      "134:\tlearn: 0.3506411\ttotal: 481ms\tremaining: 53.5ms\n",
      "135:\tlearn: 0.3504098\ttotal: 485ms\tremaining: 49.9ms\n",
      "136:\tlearn: 0.3502365\ttotal: 488ms\tremaining: 46.3ms\n",
      "137:\tlearn: 0.3498852\ttotal: 491ms\tremaining: 42.7ms\n",
      "138:\tlearn: 0.3496531\ttotal: 495ms\tremaining: 39.2ms\n",
      "139:\tlearn: 0.3493773\ttotal: 498ms\tremaining: 35.6ms\n",
      "140:\tlearn: 0.3491277\ttotal: 502ms\tremaining: 32ms\n",
      "141:\tlearn: 0.3487843\ttotal: 505ms\tremaining: 28.5ms\n",
      "142:\tlearn: 0.3485343\ttotal: 509ms\tremaining: 24.9ms\n",
      "143:\tlearn: 0.3483187\ttotal: 512ms\tremaining: 21.3ms\n",
      "144:\tlearn: 0.3479995\ttotal: 515ms\tremaining: 17.8ms\n",
      "145:\tlearn: 0.3475483\ttotal: 519ms\tremaining: 14.2ms\n",
      "146:\tlearn: 0.3472412\ttotal: 523ms\tremaining: 10.7ms\n",
      "147:\tlearn: 0.3470142\ttotal: 526ms\tremaining: 7.11ms\n",
      "148:\tlearn: 0.3468293\ttotal: 530ms\tremaining: 3.56ms\n",
      "149:\tlearn: 0.3465779\ttotal: 534ms\tremaining: 0us\n"
     ]
    },
    {
     "data": {
      "text/plain": [
       "<catboost.core.CatBoostRegressor at 0x28f07e6f7c0>"
      ]
     },
     "execution_count": 118,
     "metadata": {},
     "output_type": "execute_result"
    }
   ],
   "source": [
    "#Seasonal Model\n",
    "# model_seas = RandomForestRegressor(n_estimators=800,\n",
    "#                               min_samples_split=2,\n",
    "#                               min_samples_leaf=4,\n",
    "#                               max_features='sqrt',\n",
    "#                               max_depth=20,\n",
    "#                               bootstrap=False)\n",
    "model_seas = CatBoostRegressor(n_estimators=150)\n",
    "model_seas.fit(X_train, y_train)"
   ]
  },
  {
   "cell_type": "code",
   "execution_count": 64,
   "metadata": {},
   "outputs": [
    {
     "data": {
      "text/plain": [
       "RandomForestRegressor(n_estimators=10, random_state=42)"
      ]
     },
     "execution_count": 64,
     "metadata": {},
     "output_type": "execute_result"
    }
   ],
   "source": [
    "#Base Model\n",
    "base_model = RandomForestRegressor(n_estimators=10, random_state=42)\n",
    "base_model.fit(X_train, y_train)"
   ]
  },
  {
   "cell_type": "code",
   "execution_count": 65,
   "metadata": {},
   "outputs": [
    {
     "name": "stdout",
     "output_type": "stream",
     "text": [
      "Model Performance\n",
      "Average Error: 0.3257 degrees\n",
      "Accuracy = nan%\n",
      "AUC = 0.8098067289872746\n"
     ]
    },
    {
     "data": {
      "text/plain": [
       "nan"
      ]
     },
     "execution_count": 65,
     "metadata": {},
     "output_type": "execute_result"
    }
   ],
   "source": [
    "evaluate(base_model, X_test, y_test)"
   ]
  },
  {
   "cell_type": "code",
   "execution_count": 119,
   "metadata": {},
   "outputs": [
    {
     "name": "stdout",
     "output_type": "stream",
     "text": [
      "Model Performance\n",
      "Average Error: 0.3121 degrees\n",
      "Accuracy = -inf%\n",
      "AUC = 0.8574910841385694\n"
     ]
    },
    {
     "data": {
      "text/plain": [
       "-inf"
      ]
     },
     "execution_count": 119,
     "metadata": {},
     "output_type": "execute_result"
    }
   ],
   "source": [
    "evaluate(model_seas, X_test, y_test)"
   ]
  },
  {
   "cell_type": "code",
   "execution_count": 693,
   "metadata": {},
   "outputs": [],
   "source": [
    "y_predicted_seas = model_seas.predict(X_test)"
   ]
  },
  {
   "cell_type": "code",
   "execution_count": 694,
   "metadata": {},
   "outputs": [
    {
     "ename": "ValueError",
     "evalue": "all the input array dimensions for the concatenation axis must match exactly, but along dimension 1, the array at index 0 has size 1 and the array at index 1 has size 7461",
     "output_type": "error",
     "traceback": [
      "\u001b[1;31m---------------------------------------------------------------------------\u001b[0m",
      "\u001b[1;31mValueError\u001b[0m                                Traceback (most recent call last)",
      "\u001b[1;32m<ipython-input-694-31a9b405fea9>\u001b[0m in \u001b[0;36m<module>\u001b[1;34m\u001b[0m\n\u001b[1;32m----> 1\u001b[1;33m \u001b[0my_predicted\u001b[0m \u001b[1;33m=\u001b[0m \u001b[0mnp\u001b[0m\u001b[1;33m.\u001b[0m\u001b[0mvstack\u001b[0m\u001b[1;33m(\u001b[0m\u001b[1;33m(\u001b[0m\u001b[0my_predicted_h1n1\u001b[0m\u001b[1;33m,\u001b[0m \u001b[0my_predicted_seas\u001b[0m\u001b[1;33m)\u001b[0m\u001b[1;33m)\u001b[0m\u001b[1;33m.\u001b[0m\u001b[0mT\u001b[0m\u001b[1;33m\u001b[0m\u001b[1;33m\u001b[0m\u001b[0m\n\u001b[0m",
      "\u001b[1;32m<__array_function__ internals>\u001b[0m in \u001b[0;36mvstack\u001b[1;34m(*args, **kwargs)\u001b[0m\n",
      "\u001b[1;32m~\\Anaconda3\\lib\\site-packages\\numpy\\core\\shape_base.py\u001b[0m in \u001b[0;36mvstack\u001b[1;34m(tup)\u001b[0m\n\u001b[0;32m    281\u001b[0m     \u001b[1;32mif\u001b[0m \u001b[1;32mnot\u001b[0m \u001b[0misinstance\u001b[0m\u001b[1;33m(\u001b[0m\u001b[0marrs\u001b[0m\u001b[1;33m,\u001b[0m \u001b[0mlist\u001b[0m\u001b[1;33m)\u001b[0m\u001b[1;33m:\u001b[0m\u001b[1;33m\u001b[0m\u001b[1;33m\u001b[0m\u001b[0m\n\u001b[0;32m    282\u001b[0m         \u001b[0marrs\u001b[0m \u001b[1;33m=\u001b[0m \u001b[1;33m[\u001b[0m\u001b[0marrs\u001b[0m\u001b[1;33m]\u001b[0m\u001b[1;33m\u001b[0m\u001b[1;33m\u001b[0m\u001b[0m\n\u001b[1;32m--> 283\u001b[1;33m     \u001b[1;32mreturn\u001b[0m \u001b[0m_nx\u001b[0m\u001b[1;33m.\u001b[0m\u001b[0mconcatenate\u001b[0m\u001b[1;33m(\u001b[0m\u001b[0marrs\u001b[0m\u001b[1;33m,\u001b[0m \u001b[1;36m0\u001b[0m\u001b[1;33m)\u001b[0m\u001b[1;33m\u001b[0m\u001b[1;33m\u001b[0m\u001b[0m\n\u001b[0m\u001b[0;32m    284\u001b[0m \u001b[1;33m\u001b[0m\u001b[0m\n\u001b[0;32m    285\u001b[0m \u001b[1;33m\u001b[0m\u001b[0m\n",
      "\u001b[1;32m<__array_function__ internals>\u001b[0m in \u001b[0;36mconcatenate\u001b[1;34m(*args, **kwargs)\u001b[0m\n",
      "\u001b[1;31mValueError\u001b[0m: all the input array dimensions for the concatenation axis must match exactly, but along dimension 1, the array at index 0 has size 1 and the array at index 1 has size 7461"
     ]
    }
   ],
   "source": [
    "y_predicted = np.vstack((y_predicted_h1n1, y_predicted_seas)).T"
   ]
  },
  {
   "cell_type": "code",
   "execution_count": 695,
   "metadata": {},
   "outputs": [
    {
     "data": {
      "text/plain": [
       "0.8560692889802611"
      ]
     },
     "execution_count": 695,
     "metadata": {},
     "output_type": "execute_result"
    }
   ],
   "source": [
    "roc_auc_score(y_test, y_predicted_seas)"
   ]
  },
  {
   "cell_type": "markdown",
   "metadata": {},
   "source": [
    "## Neural Network"
   ]
  },
  {
   "cell_type": "markdown",
   "metadata": {},
   "source": [
    "### Train Test Split"
   ]
  },
  {
   "cell_type": "code",
   "execution_count": 23,
   "metadata": {},
   "outputs": [],
   "source": [
    "X = seas_train_trans\n",
    "y = seas_labels_trans"
   ]
  },
  {
   "cell_type": "code",
   "execution_count": 24,
   "metadata": {},
   "outputs": [],
   "source": [
    "X_train, X_test, y_train, y_test = train_test_split(X, y, test_size=0.3, random_state=42, shuffle=True)"
   ]
  },
  {
   "cell_type": "code",
   "execution_count": 25,
   "metadata": {},
   "outputs": [],
   "source": [
    "from tensorflow import keras\n",
    "from keras.callbacks import ModelCheckpoint\n",
    "\n",
    "seas_mc = ModelCheckpoint('..Models/seas_best_model.h5', monitor='val_auc_2', mode='max', verbose=1, save_best_only=True)\n",
    "\n",
    "\n",
    "model_seas = keras.Sequential([\n",
    "    keras.layers.Dense(100, activation='sigmoid', input_dim=46),\n",
    "    keras.layers.LeakyReLU(500),\n",
    "    keras.layers.LeakyReLU(600),\n",
    "    keras.layers.LeakyReLU(820),\n",
    "    keras.layers.Dense(200, activation='relu'),\n",
    "    keras.layers.Dense(2, activation='softmax')\n",
    "])"
   ]
  },
  {
   "cell_type": "code",
   "execution_count": 26,
   "metadata": {},
   "outputs": [],
   "source": [
    "model_seas.compile(optimizer='adam',\n",
    "              loss=tf.keras.losses.BinaryCrossentropy(from_logits=False),\n",
    "              metrics=[tf.keras.metrics.AUC(from_logits=False)])"
   ]
  },
  {
   "cell_type": "code",
   "execution_count": 27,
   "metadata": {
    "scrolled": true
   },
   "outputs": [
    {
     "name": "stdout",
     "output_type": "stream",
     "text": [
      "Epoch 1/150\n",
      "349/349 [==============================] - 1s 2ms/step - loss: 0.5330 - auc_1: 0.8125 - val_loss: 0.4989 - val_auc_1: 0.8377\n",
      "WARNING:tensorflow:Can save best model only with val_auc_2 available, skipping.\n",
      "Epoch 2/150\n",
      "349/349 [==============================] - 0s 1ms/step - loss: 0.4999 - auc_1: 0.8371 - val_loss: 0.4922 - val_auc_1: 0.8429\n",
      "WARNING:tensorflow:Can save best model only with val_auc_2 available, skipping.\n",
      "Epoch 3/150\n",
      "349/349 [==============================] - 0s 1ms/step - loss: 0.4966 - auc_1: 0.8398 - val_loss: 0.4867 - val_auc_1: 0.8469\n",
      "WARNING:tensorflow:Can save best model only with val_auc_2 available, skipping.\n",
      "Epoch 4/150\n",
      "349/349 [==============================] - 0s 1ms/step - loss: 0.4913 - auc_1: 0.8432 - val_loss: 0.4812 - val_auc_1: 0.8510\n",
      "WARNING:tensorflow:Can save best model only with val_auc_2 available, skipping.\n",
      "Epoch 5/150\n",
      "349/349 [==============================] - 0s 1ms/step - loss: 0.4909 - auc_1: 0.8436 - val_loss: 0.4777 - val_auc_1: 0.8534\n",
      "WARNING:tensorflow:Can save best model only with val_auc_2 available, skipping.\n",
      "Epoch 6/150\n",
      "349/349 [==============================] - 0s 1ms/step - loss: 0.4882 - auc_1: 0.8455 - val_loss: 0.4796 - val_auc_1: 0.8524\n",
      "WARNING:tensorflow:Can save best model only with val_auc_2 available, skipping.\n",
      "Epoch 7/150\n",
      "349/349 [==============================] - 0s 1ms/step - loss: 0.4850 - auc_1: 0.8477 - val_loss: 0.4816 - val_auc_1: 0.8508\n",
      "WARNING:tensorflow:Can save best model only with val_auc_2 available, skipping.\n",
      "Epoch 8/150\n",
      "349/349 [==============================] - 0s 1ms/step - loss: 0.4858 - auc_1: 0.8472 - val_loss: 0.4749 - val_auc_1: 0.8551\n",
      "WARNING:tensorflow:Can save best model only with val_auc_2 available, skipping.\n",
      "Epoch 9/150\n",
      "349/349 [==============================] - 0s 1ms/step - loss: 0.4808 - auc_1: 0.8508 - val_loss: 0.4744 - val_auc_1: 0.8555\n",
      "WARNING:tensorflow:Can save best model only with val_auc_2 available, skipping.\n",
      "Epoch 10/150\n",
      "349/349 [==============================] - 0s 1ms/step - loss: 0.4813 - auc_1: 0.8503 - val_loss: 0.4769 - val_auc_1: 0.8545\n",
      "WARNING:tensorflow:Can save best model only with val_auc_2 available, skipping.\n",
      "Epoch 11/150\n",
      "349/349 [==============================] - 0s 1ms/step - loss: 0.4774 - auc_1: 0.8528 - val_loss: 0.4735 - val_auc_1: 0.8561\n",
      "WARNING:tensorflow:Can save best model only with val_auc_2 available, skipping.\n",
      "Epoch 12/150\n",
      "349/349 [==============================] - 0s 1ms/step - loss: 0.4764 - auc_1: 0.8538 - val_loss: 0.4752 - val_auc_1: 0.8548\n",
      "WARNING:tensorflow:Can save best model only with val_auc_2 available, skipping.\n",
      "Epoch 13/150\n",
      "349/349 [==============================] - 0s 1ms/step - loss: 0.4735 - auc_1: 0.8556 - val_loss: 0.4724 - val_auc_1: 0.8566\n",
      "WARNING:tensorflow:Can save best model only with val_auc_2 available, skipping.\n",
      "Epoch 14/150\n",
      "349/349 [==============================] - 0s 1ms/step - loss: 0.4734 - auc_1: 0.8556 - val_loss: 0.4766 - val_auc_1: 0.8545\n",
      "WARNING:tensorflow:Can save best model only with val_auc_2 available, skipping.\n",
      "Epoch 15/150\n",
      "349/349 [==============================] - 0s 1ms/step - loss: 0.4717 - auc_1: 0.8568 - val_loss: 0.4732 - val_auc_1: 0.8578\n",
      "WARNING:tensorflow:Can save best model only with val_auc_2 available, skipping.\n",
      "Epoch 16/150\n",
      "349/349 [==============================] - 0s 1ms/step - loss: 0.4688 - auc_1: 0.8588 - val_loss: 0.4738 - val_auc_1: 0.8560\n",
      "WARNING:tensorflow:Can save best model only with val_auc_2 available, skipping.\n",
      "Epoch 17/150\n",
      "349/349 [==============================] - 0s 1ms/step - loss: 0.4678 - auc_1: 0.8592 - val_loss: 0.4726 - val_auc_1: 0.8571\n",
      "WARNING:tensorflow:Can save best model only with val_auc_2 available, skipping.\n",
      "Epoch 18/150\n",
      "349/349 [==============================] - 0s 1ms/step - loss: 0.4668 - auc_1: 0.8600 - val_loss: 0.4751 - val_auc_1: 0.8559\n",
      "WARNING:tensorflow:Can save best model only with val_auc_2 available, skipping.\n"
     ]
    }
   ],
   "source": [
    "history = model_seas.fit(\n",
    "    X_train,\n",
    "    y_train,\n",
    "    batch_size=50,\n",
    "    epochs=150,\n",
    "    validation_data=(X_test, y_test),\n",
    "    callbacks=[seas_mc, EarlyStopping]\n",
    ")"
   ]
  },
  {
   "cell_type": "code",
   "execution_count": 28,
   "metadata": {},
   "outputs": [
    {
     "data": {
      "text/plain": [
       "0.8565332263597631"
      ]
     },
     "execution_count": 28,
     "metadata": {},
     "output_type": "execute_result"
    }
   ],
   "source": [
    "#model_seas = load_model('..Models/seas_best_model.h5')\n",
    "\n",
    "y_predicted_seas = model_seas.predict(X_test)\n",
    "roc_auc_score(y_test, y_predicted_seas)"
   ]
  },
  {
   "cell_type": "code",
   "execution_count": 120,
   "metadata": {},
   "outputs": [
    {
     "data": {
      "text/plain": [
       "0.9110327767453076"
      ]
     },
     "execution_count": 120,
     "metadata": {},
     "output_type": "execute_result"
    }
   ],
   "source": [
    "#Full Data Test - Random Forest Network\n",
    "X_test = true_features\n",
    "y_test = true_labels_rf.to_numpy()\n",
    "\n",
    "y_predicted_h1n1 = model_h1n1.predict(X_test).reshape(-1,1)\n",
    "y_predicted_seas = model_seas.predict(X_test).reshape(-1,1)\n",
    "\n",
    "y_predicted = np.concatenate((y_predicted_h1n1, y_predicted_seas), axis=1)\n",
    "roc_auc_score(y_test, y_predicted)"
   ]
  },
  {
   "cell_type": "code",
   "execution_count": 701,
   "metadata": {},
   "outputs": [
    {
     "data": {
      "text/plain": [
       "(1500, 2)"
      ]
     },
     "execution_count": 701,
     "metadata": {},
     "output_type": "execute_result"
    }
   ],
   "source": []
  },
  {
   "cell_type": "code",
   "execution_count": 702,
   "metadata": {},
   "outputs": [
    {
     "data": {
      "text/plain": [
       "(1500, 2)"
      ]
     },
     "execution_count": 702,
     "metadata": {},
     "output_type": "execute_result"
    }
   ],
   "source": []
  },
  {
   "cell_type": "code",
   "execution_count": 685,
   "metadata": {},
   "outputs": [
    {
     "data": {
      "text/plain": [
       "array([[0.32140653],\n",
       "       [0.4491121 ],\n",
       "       [0.28784873],\n",
       "       ...,\n",
       "       [0.44708622],\n",
       "       [0.35714154],\n",
       "       [0.13289283]])"
      ]
     },
     "execution_count": 685,
     "metadata": {},
     "output_type": "execute_result"
    }
   ],
   "source": [
    "y_predicted_h1n1"
   ]
  },
  {
   "cell_type": "code",
   "execution_count": 684,
   "metadata": {},
   "outputs": [
    {
     "data": {
      "text/html": [
       "<div>\n",
       "<style scoped>\n",
       "    .dataframe tbody tr th:only-of-type {\n",
       "        vertical-align: middle;\n",
       "    }\n",
       "\n",
       "    .dataframe tbody tr th {\n",
       "        vertical-align: top;\n",
       "    }\n",
       "\n",
       "    .dataframe thead th {\n",
       "        text-align: right;\n",
       "    }\n",
       "</style>\n",
       "<table border=\"1\" class=\"dataframe\">\n",
       "  <thead>\n",
       "    <tr style=\"text-align: right;\">\n",
       "      <th></th>\n",
       "      <th>0</th>\n",
       "      <th>1</th>\n",
       "    </tr>\n",
       "  </thead>\n",
       "  <tbody>\n",
       "    <tr>\n",
       "      <th>0</th>\n",
       "      <td>0.321407</td>\n",
       "      <td>0.254216</td>\n",
       "    </tr>\n",
       "    <tr>\n",
       "      <th>1</th>\n",
       "      <td>0.449112</td>\n",
       "      <td>0.241889</td>\n",
       "    </tr>\n",
       "    <tr>\n",
       "      <th>2</th>\n",
       "      <td>0.287849</td>\n",
       "      <td>0.524687</td>\n",
       "    </tr>\n",
       "    <tr>\n",
       "      <th>3</th>\n",
       "      <td>0.528227</td>\n",
       "      <td>0.277097</td>\n",
       "    </tr>\n",
       "    <tr>\n",
       "      <th>4</th>\n",
       "      <td>0.237950</td>\n",
       "      <td>0.188313</td>\n",
       "    </tr>\n",
       "    <tr>\n",
       "      <th>...</th>\n",
       "      <td>...</td>\n",
       "      <td>...</td>\n",
       "    </tr>\n",
       "    <tr>\n",
       "      <th>1495</th>\n",
       "      <td>0.429888</td>\n",
       "      <td>0.621552</td>\n",
       "    </tr>\n",
       "    <tr>\n",
       "      <th>1496</th>\n",
       "      <td>0.310791</td>\n",
       "      <td>0.758748</td>\n",
       "    </tr>\n",
       "    <tr>\n",
       "      <th>1497</th>\n",
       "      <td>0.447086</td>\n",
       "      <td>0.199280</td>\n",
       "    </tr>\n",
       "    <tr>\n",
       "      <th>1498</th>\n",
       "      <td>0.357142</td>\n",
       "      <td>0.575851</td>\n",
       "    </tr>\n",
       "    <tr>\n",
       "      <th>1499</th>\n",
       "      <td>0.132893</td>\n",
       "      <td>0.172749</td>\n",
       "    </tr>\n",
       "  </tbody>\n",
       "</table>\n",
       "<p>1500 rows × 2 columns</p>\n",
       "</div>"
      ],
      "text/plain": [
       "             0         1\n",
       "0     0.321407  0.254216\n",
       "1     0.449112  0.241889\n",
       "2     0.287849  0.524687\n",
       "3     0.528227  0.277097\n",
       "4     0.237950  0.188313\n",
       "...        ...       ...\n",
       "1495  0.429888  0.621552\n",
       "1496  0.310791  0.758748\n",
       "1497  0.447086  0.199280\n",
       "1498  0.357142  0.575851\n",
       "1499  0.132893  0.172749\n",
       "\n",
       "[1500 rows x 2 columns]"
      ]
     },
     "execution_count": 684,
     "metadata": {},
     "output_type": "execute_result"
    }
   ],
   "source": [
    "pd.DataFrame(y_predicted)"
   ]
  },
  {
   "cell_type": "code",
   "execution_count": 30,
   "metadata": {},
   "outputs": [
    {
     "data": {
      "text/plain": [
       "0.8763100493167153"
      ]
     },
     "execution_count": 30,
     "metadata": {},
     "output_type": "execute_result"
    }
   ],
   "source": [
    "#Full Data Test - Neural Network\n",
    "X_test = true_features\n",
    "y_test = true_labels\n",
    "\n",
    "y_predicted_h1n1 = model_h1n1.predict(X_test)[:,1].reshape(-1,1)\n",
    "y_predicted_seas = model_seas.predict(X_test)[:,1].reshape(-1,1)\n",
    "\n",
    "y_predicted = np.concatenate((y_predicted_h1n1, y_predicted_seas), axis=1)\n",
    "roc_auc_score(y_test, y_predicted)"
   ]
  },
  {
   "cell_type": "code",
   "execution_count": null,
   "metadata": {},
   "outputs": [],
   "source": [
    "y_predicted"
   ]
  },
  {
   "cell_type": "markdown",
   "metadata": {},
   "source": [
    "# Submission"
   ]
  },
  {
   "cell_type": "code",
   "execution_count": 121,
   "metadata": {},
   "outputs": [],
   "source": [
    "test = pd.read_csv('../Data/test_set_features.csv')\n",
    "full_test = test.copy()"
   ]
  },
  {
   "cell_type": "code",
   "execution_count": 122,
   "metadata": {},
   "outputs": [],
   "source": [
    "num_cols = list(test.select_dtypes('number').columns)\n",
    "\n",
    "cat_cols = [\n",
    "    'race',\n",
    "    'sex',\n",
    "    'marital_status',\n",
    "    'rent_or_own',\n",
    "    'hhs_geo_region',\n",
    "    'census_msa',\n",
    "    'employment_industry',\n",
    "    'employment_occupation'\n",
    "]\n",
    "\n",
    "ord_cols = [\n",
    "    'age_group',\n",
    "    'education',\n",
    "    'income_poverty',\n",
    "    'employment_status'\n",
    "]\n",
    "\n",
    "\n",
    "#Impute Test\n",
    "for col in num_cols:\n",
    "    test[col] = test[col].fillna(value=-1)\n",
    "\n",
    "\n",
    "for col in (cat_cols+ord_cols):\n",
    "    test[col] = test[col].fillna(value='None')\n",
    "\n",
    "    \n",
    "test['age_group'] = test['age_group'].map({\n",
    "    '18 - 34 Years': 1,\n",
    "    '35 - 44 Years': 2,\n",
    "    '45 - 54 Years': 3,\n",
    "    '55 - 64 Years': 4,\n",
    "    '65+ Years': 5\n",
    "})\n",
    "    \n",
    "test['education'] = test['education'].map({\n",
    "    '< 12 Years': 1,\n",
    "    '12 Years': 2,\n",
    "    'Some College': 3,\n",
    "    'College Graduate': 4,\n",
    "    'None': -1\n",
    "})\n",
    "\n",
    "test['income_poverty'] = test['income_poverty'].map({\n",
    "    'None': -1,\n",
    "    'Below Poverty': 1,\n",
    "    '<= $75,000, Above Poverty': 2,\n",
    "    '> $75,000': 3\n",
    "})\n",
    "\n",
    "test['employment_status'] = test['employment_status'].map({\n",
    "    'None': -1,\n",
    "    'Unemployed': 1,\n",
    "    'Employed': 2,\n",
    "    'Not in Labor Force': 3\n",
    "})"
   ]
  },
  {
   "cell_type": "code",
   "execution_count": 123,
   "metadata": {},
   "outputs": [],
   "source": [
    "test = test[used_cols]"
   ]
  },
  {
   "cell_type": "code",
   "execution_count": 124,
   "metadata": {},
   "outputs": [],
   "source": [
    "test = ct.transform(test)"
   ]
  },
  {
   "cell_type": "code",
   "execution_count": null,
   "metadata": {},
   "outputs": [],
   "source": []
  },
  {
   "cell_type": "code",
   "execution_count": 125,
   "metadata": {},
   "outputs": [],
   "source": [
    "y_h1n1 = model_h1n1.predict(test).reshape(-1,1)\n",
    "y_seas = model_seas.predict(test).reshape(-1,1)\n",
    "\n",
    "y_comb = np.concatenate((y_h1n1, y_seas), axis=1)"
   ]
  },
  {
   "cell_type": "code",
   "execution_count": null,
   "metadata": {},
   "outputs": [],
   "source": []
  },
  {
   "cell_type": "code",
   "execution_count": 126,
   "metadata": {},
   "outputs": [],
   "source": [
    "results = pd.DataFrame(y_comb, columns=['h1n1_vaccine', 'seasonal_vaccine'])\n",
    "\n",
    "submission = pd.concat([full_test, results], axis=1)\n",
    "submission = submission[['respondent_id', 'h1n1_vaccine', 'seasonal_vaccine']]"
   ]
  },
  {
   "cell_type": "code",
   "execution_count": 127,
   "metadata": {},
   "outputs": [],
   "source": [
    "today = datetime.today().date()\n",
    "\n",
    "submission.to_csv(f'../Submissions/Neural Network Submission {today}.csv', index=False)"
   ]
  },
  {
   "cell_type": "code",
   "execution_count": 128,
   "metadata": {},
   "outputs": [
    {
     "data": {
      "text/html": [
       "<div>\n",
       "<style scoped>\n",
       "    .dataframe tbody tr th:only-of-type {\n",
       "        vertical-align: middle;\n",
       "    }\n",
       "\n",
       "    .dataframe tbody tr th {\n",
       "        vertical-align: top;\n",
       "    }\n",
       "\n",
       "    .dataframe thead th {\n",
       "        text-align: right;\n",
       "    }\n",
       "</style>\n",
       "<table border=\"1\" class=\"dataframe\">\n",
       "  <thead>\n",
       "    <tr style=\"text-align: right;\">\n",
       "      <th></th>\n",
       "      <th>respondent_id</th>\n",
       "      <th>h1n1_vaccine</th>\n",
       "      <th>seasonal_vaccine</th>\n",
       "    </tr>\n",
       "  </thead>\n",
       "  <tbody>\n",
       "    <tr>\n",
       "      <th>0</th>\n",
       "      <td>26707</td>\n",
       "      <td>0.439759</td>\n",
       "      <td>0.261469</td>\n",
       "    </tr>\n",
       "    <tr>\n",
       "      <th>1</th>\n",
       "      <td>26708</td>\n",
       "      <td>0.174511</td>\n",
       "      <td>-0.015732</td>\n",
       "    </tr>\n",
       "    <tr>\n",
       "      <th>2</th>\n",
       "      <td>26709</td>\n",
       "      <td>0.548362</td>\n",
       "      <td>0.847890</td>\n",
       "    </tr>\n",
       "    <tr>\n",
       "      <th>3</th>\n",
       "      <td>26710</td>\n",
       "      <td>0.896150</td>\n",
       "      <td>0.926527</td>\n",
       "    </tr>\n",
       "    <tr>\n",
       "      <th>4</th>\n",
       "      <td>26711</td>\n",
       "      <td>0.652385</td>\n",
       "      <td>0.495263</td>\n",
       "    </tr>\n",
       "    <tr>\n",
       "      <th>...</th>\n",
       "      <td>...</td>\n",
       "      <td>...</td>\n",
       "      <td>...</td>\n",
       "    </tr>\n",
       "    <tr>\n",
       "      <th>26703</th>\n",
       "      <td>53410</td>\n",
       "      <td>0.616330</td>\n",
       "      <td>0.461431</td>\n",
       "    </tr>\n",
       "    <tr>\n",
       "      <th>26704</th>\n",
       "      <td>53411</td>\n",
       "      <td>0.384029</td>\n",
       "      <td>0.117051</td>\n",
       "    </tr>\n",
       "    <tr>\n",
       "      <th>26705</th>\n",
       "      <td>53412</td>\n",
       "      <td>0.521775</td>\n",
       "      <td>0.114166</td>\n",
       "    </tr>\n",
       "    <tr>\n",
       "      <th>26706</th>\n",
       "      <td>53413</td>\n",
       "      <td>-0.066346</td>\n",
       "      <td>0.444741</td>\n",
       "    </tr>\n",
       "    <tr>\n",
       "      <th>26707</th>\n",
       "      <td>53414</td>\n",
       "      <td>0.889887</td>\n",
       "      <td>0.548344</td>\n",
       "    </tr>\n",
       "  </tbody>\n",
       "</table>\n",
       "<p>26708 rows × 3 columns</p>\n",
       "</div>"
      ],
      "text/plain": [
       "       respondent_id  h1n1_vaccine  seasonal_vaccine\n",
       "0              26707      0.439759          0.261469\n",
       "1              26708      0.174511         -0.015732\n",
       "2              26709      0.548362          0.847890\n",
       "3              26710      0.896150          0.926527\n",
       "4              26711      0.652385          0.495263\n",
       "...              ...           ...               ...\n",
       "26703          53410      0.616330          0.461431\n",
       "26704          53411      0.384029          0.117051\n",
       "26705          53412      0.521775          0.114166\n",
       "26706          53413     -0.066346          0.444741\n",
       "26707          53414      0.889887          0.548344\n",
       "\n",
       "[26708 rows x 3 columns]"
      ]
     },
     "execution_count": 128,
     "metadata": {},
     "output_type": "execute_result"
    }
   ],
   "source": [
    "submission"
   ]
  },
  {
   "cell_type": "code",
   "execution_count": null,
   "metadata": {},
   "outputs": [],
   "source": []
  },
  {
   "cell_type": "code",
   "execution_count": null,
   "metadata": {},
   "outputs": [],
   "source": []
  },
  {
   "cell_type": "code",
   "execution_count": null,
   "metadata": {},
   "outputs": [],
   "source": []
  },
  {
   "cell_type": "code",
   "execution_count": null,
   "metadata": {},
   "outputs": [],
   "source": []
  },
  {
   "cell_type": "code",
   "execution_count": null,
   "metadata": {},
   "outputs": [],
   "source": []
  }
 ],
 "metadata": {
  "kernelspec": {
   "display_name": "Python 3",
   "language": "python",
   "name": "python3"
  },
  "language_info": {
   "codemirror_mode": {
    "name": "ipython",
    "version": 3
   },
   "file_extension": ".py",
   "mimetype": "text/x-python",
   "name": "python",
   "nbconvert_exporter": "python",
   "pygments_lexer": "ipython3",
   "version": "3.8.3"
  }
 },
 "nbformat": 4,
 "nbformat_minor": 4
}
