{
 "cells": [
  {
   "cell_type": "code",
   "execution_count": 1,
   "metadata": {},
   "outputs": [],
   "source": [
    "import pandas as pd\n",
    "import numpy as np\n",
    "import tensorflow as tf\n",
    "from datetime import datetime\n",
    "import matplotlib.pyplot as plt\n",
    "import seaborn as sns\n",
    "from sklearn.preprocessing import StandardScaler\n",
    "from sklearn.preprocessing import MinMaxScaler\n",
    "from sklearn.metrics import roc_auc_score\n",
    "from sklearn.model_selection import RandomizedSearchCV\n",
    "from sklearn.metrics import matthews_corrcoef"
   ]
  },
  {
   "cell_type": "code",
   "execution_count": 2,
   "metadata": {},
   "outputs": [],
   "source": [
    "#Functions\n",
    "\n",
    "def evaluate(model, X_test, y_test):\n",
    "    predictions = model.predict(X_test)\n",
    "    errors = abs(predictions - y_test)\n",
    "    mape = 100 * np.mean(errors / y_test)\n",
    "    accuracy = 100 - mape\n",
    "    roc = roc_auc_score(y_test, predictions)\n",
    "    print('Model Performance')\n",
    "    print('Average Error: {:0.4f} degrees'.format(np.mean(errors)))\n",
    "    print('Accuracy = {:0.2f}%'.format(accuracy))\n",
    "    print(f'AUC = {roc}')\n",
    "    return accuracy"
   ]
  },
  {
   "cell_type": "code",
   "execution_count": 6,
   "metadata": {},
   "outputs": [
    {
     "name": "stdout",
     "output_type": "stream",
     "text": [
      "respondent_id [    0     1     2 ... 26704 26705 26706]\n",
      "h1n1_concern [ 1.  3.  2.  0. nan]\n",
      "h1n1_knowledge [ 0.  2.  1. nan]\n",
      "behavioral_antiviral_meds [ 0.  1. nan]\n",
      "behavioral_avoidance [ 0.  1. nan]\n",
      "behavioral_face_mask [ 0.  1. nan]\n",
      "behavioral_wash_hands [ 0.  1. nan]\n",
      "behavioral_large_gatherings [ 0.  1. nan]\n",
      "behavioral_outside_home [ 1.  0. nan]\n",
      "behavioral_touch_face [ 1.  0. nan]\n",
      "doctor_recc_h1n1 [ 0. nan  1.]\n",
      "doctor_recc_seasonal [ 0. nan  1.]\n",
      "chronic_med_condition [ 0.  1. nan]\n",
      "child_under_6_months [ 0.  1. nan]\n",
      "health_worker [ 0.  1. nan]\n",
      "health_insurance [ 1. nan  0.]\n",
      "opinion_h1n1_vacc_effective [ 3.  5.  4.  2.  1. nan]\n",
      "opinion_h1n1_risk [ 1.  4.  3.  2.  5. nan]\n",
      "opinion_h1n1_sick_from_vacc [ 2.  4.  1.  5.  3. nan]\n",
      "opinion_seas_vacc_effective [ 2.  4.  5.  3.  1. nan]\n",
      "opinion_seas_risk [ 1.  2.  4.  3.  5. nan]\n",
      "opinion_seas_sick_from_vacc [ 2.  4.  1.  5. nan  3.]\n",
      "age_group ['55 - 64 Years' '35 - 44 Years' '18 - 34 Years' '65+ Years'\n",
      " '45 - 54 Years']\n",
      "education ['< 12 Years' '12 Years' 'College Graduate' 'Some College' nan]\n",
      "race ['White' 'Black' 'Other or Multiple' 'Hispanic']\n",
      "sex ['Female' 'Male']\n",
      "income_poverty ['Below Poverty' '<= $75,000, Above Poverty' '> $75,000' nan]\n",
      "marital_status ['Not Married' 'Married' nan]\n",
      "rent_or_own ['Own' 'Rent' nan]\n",
      "employment_status ['Not in Labor Force' 'Employed' 'Unemployed' nan]\n",
      "hhs_geo_region ['oxchjgsf' 'bhuqouqj' 'qufhixun' 'lrircsnp' 'atmpeygn' 'lzgpxyit'\n",
      " 'fpwskwrf' 'mlyzmhmf' 'dqpwygqj' 'kbazzjca']\n",
      "census_msa ['Non-MSA' 'MSA, Not Principle  City' 'MSA, Principle City']\n",
      "household_adults [ 0.  2.  1.  3. nan]\n",
      "household_children [ 0.  3.  2.  1. nan]\n",
      "employment_industry [nan 'pxcmvdjn' 'rucpziij' 'wxleyezf' 'saaquncn' 'xicduogh' 'ldnlellj'\n",
      " 'wlfvacwt' 'nduyfdeo' 'fcxhlnwr' 'vjjrobsf' 'arjwrbjb' 'atmlpfrs'\n",
      " 'msuufmds' 'xqicxuve' 'phxvnwax' 'dotnnunm' 'mfikgejo' 'cfqqtusy'\n",
      " 'mcubkhph' 'haxffmxo' 'qnlwzans']\n",
      "employment_occupation [nan 'xgwztkwe' 'xtkaffoo' 'emcorrxb' 'vlluhbov' 'xqwwgdyp' 'ccgxvspp'\n",
      " 'qxajmpny' 'kldqjyjy' 'mxkfnird' 'hfxkjkmi' 'bxpfxfdn' 'ukymxvdu'\n",
      " 'cmhcxjea' 'haliazsg' 'dlvbwzss' 'xzmlyyjv' 'oijqvulv' 'rcertsgn'\n",
      " 'tfqavkke' 'hodpvpew' 'uqqtjvyb' 'pvmttkik' 'dcjcmpih']\n",
      "h1n1_vaccine [0 1]\n",
      "seasonal_vaccine [0 1]\n"
     ]
    }
   ],
   "source": [
    "features = pd.read_csv('../Data/training_set_features.csv')\n",
    "labels = pd.read_csv('../Data/training_set_labels.csv')\n",
    "\n",
    "df = pd.merge(features, labels, on='respondent_id', how='inner')\n",
    "\n",
    "df['sex'] = df['sex'].map({\n",
    "    'Female': 0,\n",
    "    'Male': 1\n",
    "})\n",
    "\n",
    "df['marital_status'] = df['marital_status'].map({\n",
    "    'Not Married': 0,\n",
    "    'Married': 1\n",
    "})\n",
    "\n",
    "df['rent_or_own'] = df['rent_or_own'].map({\n",
    "    'Rent': 0,\n",
    "    'Own': 1\n",
    "})\n",
    "for col in df.columns:\n",
    "    print(col, df[col].unique())"
   ]
  },
  {
   "cell_type": "code",
   "execution_count": 241,
   "metadata": {},
   "outputs": [],
   "source": [
    "categorical_columns = [\n",
    "    #'education',\n",
    "    #'income_poverty',\n",
    "    #'marital_status',\n",
    "    #'rent_or_own',\n",
    "    #'employment_industry',\n",
    "    #'employment_occupation',\n",
    "    'sex',\n",
    "    #'hhs_geo_region',\n",
    "    'census_msa',\n",
    "    'race',\n",
    "    'age_group',\n",
    "    'behavioral_face_mask',\n",
    "    'behavioral_wash_hands',\n",
    "    'behavioral_antiviral_meds',\n",
    "    'behavioral_outside_home',\n",
    "    'behavioral_large_gatherings',\n",
    "    'behavioral_touch_face',\n",
    "    'behavioral_avoidance',\n",
    "    'health_worker',\n",
    "    'child_under_6_months',\n",
    "    'chronic_med_condition',\n",
    "    'doctor_recc_h1n1',\n",
    "    'doctor_recc_seasonal',\n",
    "]\n",
    "\n",
    "numerical_columns = [\n",
    "    'household_children',\n",
    "    'household_adults',\n",
    "    'h1n1_concern',\n",
    "    'h1n1_knowledge',\n",
    "    'opinion_h1n1_risk',\n",
    "    'opinion_h1n1_vacc_effective',\n",
    "    'opinion_h1n1_sick_from_vacc',\n",
    "    'opinion_seas_vacc_effective',\n",
    "    'opinion_seas_risk',\n",
    "    'opinion_seas_sick_from_vacc',\n",
    "    #'health_insurance'\n",
    "]\n",
    "\n",
    "targets = ['h1n1_vaccine', 'seasonal_vaccine']"
   ]
  },
  {
   "cell_type": "code",
   "execution_count": 242,
   "metadata": {},
   "outputs": [
    {
     "data": {
      "text/plain": [
       "respondent_id                      0\n",
       "census_msa                         0\n",
       "hhs_geo_region                     0\n",
       "sex                                0\n",
       "race                               0\n",
       "age_group                          0\n",
       "h1n1_vaccine                       0\n",
       "seasonal_vaccine                   0\n",
       "behavioral_face_mask              19\n",
       "behavioral_wash_hands             42\n",
       "behavioral_antiviral_meds         71\n",
       "behavioral_outside_home           82\n",
       "behavioral_large_gatherings       87\n",
       "h1n1_concern                      92\n",
       "h1n1_knowledge                   116\n",
       "behavioral_touch_face            128\n",
       "behavioral_avoidance             208\n",
       "household_children               249\n",
       "household_adults                 249\n",
       "opinion_h1n1_risk                388\n",
       "opinion_h1n1_vacc_effective      391\n",
       "opinion_h1n1_sick_from_vacc      395\n",
       "opinion_seas_vacc_effective      462\n",
       "opinion_seas_risk                514\n",
       "opinion_seas_sick_from_vacc      537\n",
       "health_worker                    804\n",
       "child_under_6_months             820\n",
       "chronic_med_condition            971\n",
       "education                       1407\n",
       "marital_status                  1408\n",
       "employment_status               1463\n",
       "rent_or_own                     2042\n",
       "doctor_recc_seasonal            2160\n",
       "doctor_recc_h1n1                2160\n",
       "income_poverty                  4423\n",
       "health_insurance               12274\n",
       "employment_industry            13330\n",
       "employment_occupation          13470\n",
       "dtype: int64"
      ]
     },
     "execution_count": 242,
     "metadata": {},
     "output_type": "execute_result"
    }
   ],
   "source": [
    "df.isnull().sum().sort_values()"
   ]
  },
  {
   "cell_type": "code",
   "execution_count": 243,
   "metadata": {},
   "outputs": [],
   "source": [
    "for column in numerical_columns:\n",
    "    df[column] = df[column].fillna(df[column].mean())\n",
    "\n",
    "health_worker_mean = df['health_worker'].mean()\n",
    "behavioral_face_mask_mean = df['health_worker'].mean()\n",
    "behavioral_wash_hands_mean = df['behavioral_wash_hands'].mean()\n",
    "behavioral_antiviral_meds_mean = df['behavioral_antiviral_meds'].mean()\n",
    "behavioral_outside_home_mean = df['behavioral_outside_home'].mean()\n",
    "behavioral_large_gatherings_mean = df['behavioral_large_gatherings'].mean()\n",
    "behavioral_touch_face_mean = df['behavioral_touch_face'].mean()\n",
    "behavioral_avoidance_mean = df['behavioral_avoidance'].mean()\n",
    "child_under_6_months_mean = df['child_under_6_months'].mean()\n",
    "chronic_med_condition_mean = df['chronic_med_condition'].mean()\n",
    "doctor_recc_h1n1_mean = df['doctor_recc_h1n1'].mean()\n",
    "doctor_recc_seasonal_mean = df['doctor_recc_h1n1'].mean()\n",
    "\n",
    "df['health_worker'] = df['health_worker'].fillna(health_worker_mean)\n",
    "df['behavioral_face_mask'] = df['behavioral_face_mask'].fillna(behavioral_face_mask_mean)\n",
    "df['behavioral_wash_hands'] = df['behavioral_wash_hands'].fillna(behavioral_wash_hands_mean)\n",
    "df['behavioral_antiviral_meds'] = df['behavioral_antiviral_meds'].fillna(behavioral_antiviral_meds_mean)\n",
    "df['behavioral_outside_home'] = df['behavioral_outside_home'].fillna(behavioral_outside_home_mean)\n",
    "df['behavioral_large_gatherings'] = df['behavioral_large_gatherings'].fillna(behavioral_large_gatherings_mean)\n",
    "df['behavioral_touch_face'] = df['behavioral_touch_face'].fillna(behavioral_touch_face_mean)\n",
    "df['behavioral_avoidance'] = df['behavioral_avoidance'].fillna(behavioral_avoidance_mean)\n",
    "df['child_under_6_months'] = df['child_under_6_months'].fillna(child_under_6_months_mean)\n",
    "df['chronic_med_condition'] = df['chronic_med_condition'].fillna(chronic_med_condition_mean)\n",
    "df['doctor_recc_h1n1'] = df['doctor_recc_h1n1'].fillna(doctor_recc_h1n1_mean)\n",
    "df['doctor_recc_seasonal'] = df['doctor_recc_seasonal'].fillna(doctor_recc_seasonal_mean)\n",
    "\n",
    "all_cols = categorical_columns + numerical_columns + targets\n",
    "df = df[all_cols]"
   ]
  },
  {
   "cell_type": "markdown",
   "metadata": {},
   "source": [
    "# Preprocessing"
   ]
  },
  {
   "cell_type": "code",
   "execution_count": 244,
   "metadata": {},
   "outputs": [
    {
     "name": "stderr",
     "output_type": "stream",
     "text": [
      "C:\\Users\\mcand\\Anaconda3\\lib\\site-packages\\pandas\\core\\series.py:679: RuntimeWarning: divide by zero encountered in log\n",
      "  result = getattr(ufunc, method)(*inputs, **kwargs)\n"
     ]
    },
    {
     "data": {
      "text/html": [
       "<div>\n",
       "<style scoped>\n",
       "    .dataframe tbody tr th:only-of-type {\n",
       "        vertical-align: middle;\n",
       "    }\n",
       "\n",
       "    .dataframe tbody tr th {\n",
       "        vertical-align: top;\n",
       "    }\n",
       "\n",
       "    .dataframe thead th {\n",
       "        text-align: right;\n",
       "    }\n",
       "</style>\n",
       "<table border=\"1\" class=\"dataframe\">\n",
       "  <thead>\n",
       "    <tr style=\"text-align: right;\">\n",
       "      <th></th>\n",
       "      <th>sex</th>\n",
       "      <th>census_msa</th>\n",
       "      <th>race</th>\n",
       "      <th>age_group</th>\n",
       "      <th>behavioral_face_mask</th>\n",
       "      <th>behavioral_wash_hands</th>\n",
       "      <th>behavioral_antiviral_meds</th>\n",
       "      <th>behavioral_outside_home</th>\n",
       "      <th>behavioral_large_gatherings</th>\n",
       "      <th>behavioral_touch_face</th>\n",
       "      <th>...</th>\n",
       "      <th>h1n1_concern</th>\n",
       "      <th>h1n1_knowledge</th>\n",
       "      <th>opinion_h1n1_risk</th>\n",
       "      <th>opinion_h1n1_vacc_effective</th>\n",
       "      <th>opinion_h1n1_sick_from_vacc</th>\n",
       "      <th>opinion_seas_vacc_effective</th>\n",
       "      <th>opinion_seas_risk</th>\n",
       "      <th>opinion_seas_sick_from_vacc</th>\n",
       "      <th>h1n1_vaccine</th>\n",
       "      <th>seasonal_vaccine</th>\n",
       "    </tr>\n",
       "  </thead>\n",
       "  <tbody>\n",
       "    <tr>\n",
       "      <th>0</th>\n",
       "      <td>Female</td>\n",
       "      <td>Non-MSA</td>\n",
       "      <td>White</td>\n",
       "      <td>55 - 64 Years</td>\n",
       "      <td>0.0</td>\n",
       "      <td>0.0</td>\n",
       "      <td>0.0</td>\n",
       "      <td>1.0</td>\n",
       "      <td>0.0</td>\n",
       "      <td>1.000000</td>\n",
       "      <td>...</td>\n",
       "      <td>0.000000</td>\n",
       "      <td>-inf</td>\n",
       "      <td>0.000000</td>\n",
       "      <td>1.098612</td>\n",
       "      <td>0.693147</td>\n",
       "      <td>0.693147</td>\n",
       "      <td>0.000000</td>\n",
       "      <td>0.693147</td>\n",
       "      <td>0</td>\n",
       "      <td>0</td>\n",
       "    </tr>\n",
       "    <tr>\n",
       "      <th>1</th>\n",
       "      <td>Male</td>\n",
       "      <td>MSA, Not Principle  City</td>\n",
       "      <td>White</td>\n",
       "      <td>35 - 44 Years</td>\n",
       "      <td>0.0</td>\n",
       "      <td>1.0</td>\n",
       "      <td>0.0</td>\n",
       "      <td>1.0</td>\n",
       "      <td>0.0</td>\n",
       "      <td>1.000000</td>\n",
       "      <td>...</td>\n",
       "      <td>1.098612</td>\n",
       "      <td>0.693147</td>\n",
       "      <td>1.386294</td>\n",
       "      <td>1.609438</td>\n",
       "      <td>1.386294</td>\n",
       "      <td>1.386294</td>\n",
       "      <td>0.693147</td>\n",
       "      <td>1.386294</td>\n",
       "      <td>0</td>\n",
       "      <td>1</td>\n",
       "    </tr>\n",
       "    <tr>\n",
       "      <th>2</th>\n",
       "      <td>Male</td>\n",
       "      <td>MSA, Not Principle  City</td>\n",
       "      <td>White</td>\n",
       "      <td>18 - 34 Years</td>\n",
       "      <td>0.0</td>\n",
       "      <td>0.0</td>\n",
       "      <td>0.0</td>\n",
       "      <td>0.0</td>\n",
       "      <td>0.0</td>\n",
       "      <td>0.000000</td>\n",
       "      <td>...</td>\n",
       "      <td>0.000000</td>\n",
       "      <td>0.000000</td>\n",
       "      <td>0.000000</td>\n",
       "      <td>1.098612</td>\n",
       "      <td>0.000000</td>\n",
       "      <td>1.386294</td>\n",
       "      <td>0.000000</td>\n",
       "      <td>0.693147</td>\n",
       "      <td>0</td>\n",
       "      <td>0</td>\n",
       "    </tr>\n",
       "    <tr>\n",
       "      <th>3</th>\n",
       "      <td>Female</td>\n",
       "      <td>MSA, Principle City</td>\n",
       "      <td>White</td>\n",
       "      <td>65+ Years</td>\n",
       "      <td>0.0</td>\n",
       "      <td>1.0</td>\n",
       "      <td>0.0</td>\n",
       "      <td>0.0</td>\n",
       "      <td>1.0</td>\n",
       "      <td>0.000000</td>\n",
       "      <td>...</td>\n",
       "      <td>0.000000</td>\n",
       "      <td>0.000000</td>\n",
       "      <td>1.098612</td>\n",
       "      <td>1.098612</td>\n",
       "      <td>1.609438</td>\n",
       "      <td>1.609438</td>\n",
       "      <td>1.386294</td>\n",
       "      <td>0.000000</td>\n",
       "      <td>0</td>\n",
       "      <td>1</td>\n",
       "    </tr>\n",
       "    <tr>\n",
       "      <th>4</th>\n",
       "      <td>Female</td>\n",
       "      <td>MSA, Not Principle  City</td>\n",
       "      <td>White</td>\n",
       "      <td>45 - 54 Years</td>\n",
       "      <td>0.0</td>\n",
       "      <td>1.0</td>\n",
       "      <td>0.0</td>\n",
       "      <td>0.0</td>\n",
       "      <td>1.0</td>\n",
       "      <td>1.000000</td>\n",
       "      <td>...</td>\n",
       "      <td>0.693147</td>\n",
       "      <td>0.000000</td>\n",
       "      <td>1.098612</td>\n",
       "      <td>1.098612</td>\n",
       "      <td>0.693147</td>\n",
       "      <td>1.098612</td>\n",
       "      <td>0.000000</td>\n",
       "      <td>1.386294</td>\n",
       "      <td>0</td>\n",
       "      <td>0</td>\n",
       "    </tr>\n",
       "    <tr>\n",
       "      <th>...</th>\n",
       "      <td>...</td>\n",
       "      <td>...</td>\n",
       "      <td>...</td>\n",
       "      <td>...</td>\n",
       "      <td>...</td>\n",
       "      <td>...</td>\n",
       "      <td>...</td>\n",
       "      <td>...</td>\n",
       "      <td>...</td>\n",
       "      <td>...</td>\n",
       "      <td>...</td>\n",
       "      <td>...</td>\n",
       "      <td>...</td>\n",
       "      <td>...</td>\n",
       "      <td>...</td>\n",
       "      <td>...</td>\n",
       "      <td>...</td>\n",
       "      <td>...</td>\n",
       "      <td>...</td>\n",
       "      <td>...</td>\n",
       "      <td>...</td>\n",
       "    </tr>\n",
       "    <tr>\n",
       "      <th>26702</th>\n",
       "      <td>Female</td>\n",
       "      <td>Non-MSA</td>\n",
       "      <td>White</td>\n",
       "      <td>65+ Years</td>\n",
       "      <td>0.0</td>\n",
       "      <td>0.0</td>\n",
       "      <td>0.0</td>\n",
       "      <td>1.0</td>\n",
       "      <td>0.0</td>\n",
       "      <td>0.000000</td>\n",
       "      <td>...</td>\n",
       "      <td>0.693147</td>\n",
       "      <td>-inf</td>\n",
       "      <td>0.000000</td>\n",
       "      <td>1.098612</td>\n",
       "      <td>0.000000</td>\n",
       "      <td>1.609438</td>\n",
       "      <td>0.693147</td>\n",
       "      <td>0.693147</td>\n",
       "      <td>0</td>\n",
       "      <td>0</td>\n",
       "    </tr>\n",
       "    <tr>\n",
       "      <th>26703</th>\n",
       "      <td>Male</td>\n",
       "      <td>MSA, Principle City</td>\n",
       "      <td>White</td>\n",
       "      <td>18 - 34 Years</td>\n",
       "      <td>0.0</td>\n",
       "      <td>1.0</td>\n",
       "      <td>0.0</td>\n",
       "      <td>0.0</td>\n",
       "      <td>0.0</td>\n",
       "      <td>0.000000</td>\n",
       "      <td>...</td>\n",
       "      <td>0.000000</td>\n",
       "      <td>0.693147</td>\n",
       "      <td>0.693147</td>\n",
       "      <td>1.386294</td>\n",
       "      <td>0.693147</td>\n",
       "      <td>1.609438</td>\n",
       "      <td>0.000000</td>\n",
       "      <td>0.000000</td>\n",
       "      <td>0</td>\n",
       "      <td>0</td>\n",
       "    </tr>\n",
       "    <tr>\n",
       "      <th>26704</th>\n",
       "      <td>Female</td>\n",
       "      <td>MSA, Not Principle  City</td>\n",
       "      <td>White</td>\n",
       "      <td>55 - 64 Years</td>\n",
       "      <td>1.0</td>\n",
       "      <td>1.0</td>\n",
       "      <td>0.0</td>\n",
       "      <td>0.0</td>\n",
       "      <td>1.0</td>\n",
       "      <td>1.000000</td>\n",
       "      <td>...</td>\n",
       "      <td>0.693147</td>\n",
       "      <td>0.693147</td>\n",
       "      <td>1.386294</td>\n",
       "      <td>1.386294</td>\n",
       "      <td>0.693147</td>\n",
       "      <td>1.609438</td>\n",
       "      <td>1.386294</td>\n",
       "      <td>0.693147</td>\n",
       "      <td>0</td>\n",
       "      <td>1</td>\n",
       "    </tr>\n",
       "    <tr>\n",
       "      <th>26705</th>\n",
       "      <td>Female</td>\n",
       "      <td>Non-MSA</td>\n",
       "      <td>Hispanic</td>\n",
       "      <td>18 - 34 Years</td>\n",
       "      <td>0.0</td>\n",
       "      <td>0.0</td>\n",
       "      <td>0.0</td>\n",
       "      <td>0.0</td>\n",
       "      <td>0.0</td>\n",
       "      <td>0.677264</td>\n",
       "      <td>...</td>\n",
       "      <td>0.000000</td>\n",
       "      <td>0.000000</td>\n",
       "      <td>0.000000</td>\n",
       "      <td>1.098612</td>\n",
       "      <td>0.693147</td>\n",
       "      <td>0.693147</td>\n",
       "      <td>0.000000</td>\n",
       "      <td>0.693147</td>\n",
       "      <td>0</td>\n",
       "      <td>0</td>\n",
       "    </tr>\n",
       "    <tr>\n",
       "      <th>26706</th>\n",
       "      <td>Male</td>\n",
       "      <td>MSA, Principle City</td>\n",
       "      <td>White</td>\n",
       "      <td>65+ Years</td>\n",
       "      <td>0.0</td>\n",
       "      <td>0.0</td>\n",
       "      <td>0.0</td>\n",
       "      <td>0.0</td>\n",
       "      <td>0.0</td>\n",
       "      <td>0.000000</td>\n",
       "      <td>...</td>\n",
       "      <td>-inf</td>\n",
       "      <td>-inf</td>\n",
       "      <td>0.000000</td>\n",
       "      <td>1.609438</td>\n",
       "      <td>0.000000</td>\n",
       "      <td>1.609438</td>\n",
       "      <td>0.000000</td>\n",
       "      <td>0.000000</td>\n",
       "      <td>0</td>\n",
       "      <td>0</td>\n",
       "    </tr>\n",
       "  </tbody>\n",
       "</table>\n",
       "<p>26707 rows × 28 columns</p>\n",
       "</div>"
      ],
      "text/plain": [
       "          sex                census_msa      race      age_group  \\\n",
       "0      Female                   Non-MSA     White  55 - 64 Years   \n",
       "1        Male  MSA, Not Principle  City     White  35 - 44 Years   \n",
       "2        Male  MSA, Not Principle  City     White  18 - 34 Years   \n",
       "3      Female       MSA, Principle City     White      65+ Years   \n",
       "4      Female  MSA, Not Principle  City     White  45 - 54 Years   \n",
       "...       ...                       ...       ...            ...   \n",
       "26702  Female                   Non-MSA     White      65+ Years   \n",
       "26703    Male       MSA, Principle City     White  18 - 34 Years   \n",
       "26704  Female  MSA, Not Principle  City     White  55 - 64 Years   \n",
       "26705  Female                   Non-MSA  Hispanic  18 - 34 Years   \n",
       "26706    Male       MSA, Principle City     White      65+ Years   \n",
       "\n",
       "       behavioral_face_mask  behavioral_wash_hands  behavioral_antiviral_meds  \\\n",
       "0                       0.0                    0.0                        0.0   \n",
       "1                       0.0                    1.0                        0.0   \n",
       "2                       0.0                    0.0                        0.0   \n",
       "3                       0.0                    1.0                        0.0   \n",
       "4                       0.0                    1.0                        0.0   \n",
       "...                     ...                    ...                        ...   \n",
       "26702                   0.0                    0.0                        0.0   \n",
       "26703                   0.0                    1.0                        0.0   \n",
       "26704                   1.0                    1.0                        0.0   \n",
       "26705                   0.0                    0.0                        0.0   \n",
       "26706                   0.0                    0.0                        0.0   \n",
       "\n",
       "       behavioral_outside_home  behavioral_large_gatherings  \\\n",
       "0                          1.0                          0.0   \n",
       "1                          1.0                          0.0   \n",
       "2                          0.0                          0.0   \n",
       "3                          0.0                          1.0   \n",
       "4                          0.0                          1.0   \n",
       "...                        ...                          ...   \n",
       "26702                      1.0                          0.0   \n",
       "26703                      0.0                          0.0   \n",
       "26704                      0.0                          1.0   \n",
       "26705                      0.0                          0.0   \n",
       "26706                      0.0                          0.0   \n",
       "\n",
       "       behavioral_touch_face  ...  h1n1_concern  h1n1_knowledge  \\\n",
       "0                   1.000000  ...      0.000000            -inf   \n",
       "1                   1.000000  ...      1.098612        0.693147   \n",
       "2                   0.000000  ...      0.000000        0.000000   \n",
       "3                   0.000000  ...      0.000000        0.000000   \n",
       "4                   1.000000  ...      0.693147        0.000000   \n",
       "...                      ...  ...           ...             ...   \n",
       "26702               0.000000  ...      0.693147            -inf   \n",
       "26703               0.000000  ...      0.000000        0.693147   \n",
       "26704               1.000000  ...      0.693147        0.693147   \n",
       "26705               0.677264  ...      0.000000        0.000000   \n",
       "26706               0.000000  ...          -inf            -inf   \n",
       "\n",
       "       opinion_h1n1_risk  opinion_h1n1_vacc_effective  \\\n",
       "0               0.000000                     1.098612   \n",
       "1               1.386294                     1.609438   \n",
       "2               0.000000                     1.098612   \n",
       "3               1.098612                     1.098612   \n",
       "4               1.098612                     1.098612   \n",
       "...                  ...                          ...   \n",
       "26702           0.000000                     1.098612   \n",
       "26703           0.693147                     1.386294   \n",
       "26704           1.386294                     1.386294   \n",
       "26705           0.000000                     1.098612   \n",
       "26706           0.000000                     1.609438   \n",
       "\n",
       "       opinion_h1n1_sick_from_vacc  opinion_seas_vacc_effective  \\\n",
       "0                         0.693147                     0.693147   \n",
       "1                         1.386294                     1.386294   \n",
       "2                         0.000000                     1.386294   \n",
       "3                         1.609438                     1.609438   \n",
       "4                         0.693147                     1.098612   \n",
       "...                            ...                          ...   \n",
       "26702                     0.000000                     1.609438   \n",
       "26703                     0.693147                     1.609438   \n",
       "26704                     0.693147                     1.609438   \n",
       "26705                     0.693147                     0.693147   \n",
       "26706                     0.000000                     1.609438   \n",
       "\n",
       "       opinion_seas_risk  opinion_seas_sick_from_vacc  h1n1_vaccine  \\\n",
       "0               0.000000                     0.693147             0   \n",
       "1               0.693147                     1.386294             0   \n",
       "2               0.000000                     0.693147             0   \n",
       "3               1.386294                     0.000000             0   \n",
       "4               0.000000                     1.386294             0   \n",
       "...                  ...                          ...           ...   \n",
       "26702           0.693147                     0.693147             0   \n",
       "26703           0.000000                     0.000000             0   \n",
       "26704           1.386294                     0.693147             0   \n",
       "26705           0.000000                     0.693147             0   \n",
       "26706           0.000000                     0.000000             0   \n",
       "\n",
       "       seasonal_vaccine  \n",
       "0                     0  \n",
       "1                     1  \n",
       "2                     0  \n",
       "3                     1  \n",
       "4                     0  \n",
       "...                 ...  \n",
       "26702                 0  \n",
       "26703                 0  \n",
       "26704                 1  \n",
       "26705                 0  \n",
       "26706                 0  \n",
       "\n",
       "[26707 rows x 28 columns]"
      ]
     },
     "execution_count": 244,
     "metadata": {},
     "output_type": "execute_result"
    }
   ],
   "source": [
    "X = df.drop(columns=['h1n1_vaccine', 'seasonal_vaccine'])\n",
    "y = df[['h1n1_vaccine', 'seasonal_vaccine']]\n",
    "\n",
    "for column in numerical_columns:\n",
    "    df[column] = np.log(df[column])\n",
    "\n",
    "df"
   ]
  },
  {
   "cell_type": "code",
   "execution_count": 222,
   "metadata": {},
   "outputs": [],
   "source": [
    "#Categorical\n",
    "cat_df = X[categorical_columns]\n",
    "recat_df = pd.get_dummies(data=cat_df)\n",
    "\n",
    "#Numerical\n",
    "num_df = X[numerical_columns]\n",
    "\n",
    "scaler = StandardScaler()\n",
    "scaled_num = scaler.fit_transform(num_df)\n",
    "scaled_num_df = pd.DataFrame(scaled_num, index=num_df.index, columns=num_df.columns)\n",
    "\n",
    "encoded_df = pd.concat([recat_df, scaled_num_df], axis=1)"
   ]
  },
  {
   "cell_type": "code",
   "execution_count": 223,
   "metadata": {},
   "outputs": [],
   "source": [
    "from sklearn.model_selection import train_test_split\n",
    "\n",
    "X_train, X_test, y_train, y_test = train_test_split(encoded_df, y, test_size=0.3, random_state=42)\n",
    "\n",
    "y_train_h1n1 = y_train['h1n1_vaccine']\n",
    "y_train_seas = y_train['seasonal_vaccine']\n",
    "\n",
    "y_test_h1n1 = y_test['h1n1_vaccine']\n",
    "y_test_seas = y_test['seasonal_vaccine']"
   ]
  },
  {
   "cell_type": "code",
   "execution_count": 224,
   "metadata": {},
   "outputs": [],
   "source": [
    "#Create arrays\n",
    "X_train = np.asarray(X_train)\n",
    "X_test = np.asarray(X_test)\n",
    "y_train = np.asarray(y_train)\n",
    "y_test = np.asarray(y_test)\n",
    "\n",
    "y_train_h1n1 = np.asarray(y_train_h1n1)\n",
    "y_test_h1n1 = np.asarray(y_test_h1n1)\n",
    "\n",
    "y_train_seas = np.asarray(y_train_seas)\n",
    "y_test_seas = np.asarray(y_test_seas)"
   ]
  },
  {
   "cell_type": "markdown",
   "metadata": {},
   "source": [
    "# Random Forest"
   ]
  },
  {
   "cell_type": "code",
   "execution_count": 225,
   "metadata": {},
   "outputs": [],
   "source": [
    "from sklearn.ensemble import RandomForestRegressor\n",
    "from sklearn.metrics import r2_score\n",
    "\n",
    "model = RandomForestRegressor()\n",
    "model.fit(X_train, y_train_h1n1)\n",
    "\n",
    "y_pred_h1n1 = model.predict(X_test)"
   ]
  },
  {
   "cell_type": "code",
   "execution_count": 226,
   "metadata": {},
   "outputs": [],
   "source": [
    "#Set up RandomSearch\n",
    "n_estimators = [int(x) for x in np.linspace(start=200, stop=2000, num=10)]\n",
    "max_features = ['auto', 'sqrt']\n",
    "max_depth = [int(x) for x in np.linspace(10, 100, num=11)]\n",
    "min_samples_split = [2, 5, 10]\n",
    "min_samples_leaf = [1, 2, 4]\n",
    "bootstrap = [True, False]\n",
    "\n",
    "random_grid = {'n_estimators': n_estimators,\n",
    "              'max_features': max_features,\n",
    "              'max_depth': max_depth,\n",
    "              'min_samples_split': min_samples_split,\n",
    "              'min_samples_leaf': min_samples_leaf,\n",
    "              'bootstrap': bootstrap}\n",
    "\n",
    "rf = RandomForestRegressor()\n",
    "rf_random = RandomizedSearchCV(estimator=rf, \n",
    "                               param_distributions=random_grid, \n",
    "                               n_iter=50, \n",
    "                               cv=3, \n",
    "                               verbose=2, \n",
    "                               random_state=42, \n",
    "                               n_jobs=-1)"
   ]
  },
  {
   "cell_type": "markdown",
   "metadata": {},
   "source": [
    "### H1N1"
   ]
  },
  {
   "cell_type": "code",
   "execution_count": 227,
   "metadata": {},
   "outputs": [
    {
     "data": {
      "text/plain": [
       "RandomForestRegressor(bootstrap=False, max_depth=20, max_features='sqrt',\n",
       "                      min_samples_leaf=4, n_estimators=800)"
      ]
     },
     "execution_count": 227,
     "metadata": {},
     "output_type": "execute_result"
    }
   ],
   "source": [
    "#model = rf_random\n",
    "model_h1n1 = RandomForestRegressor(n_estimators=800,\n",
    "                              min_samples_split=2,\n",
    "                              min_samples_leaf=4,\n",
    "                              max_features='sqrt',\n",
    "                              max_depth=20,\n",
    "                              bootstrap=False)\n",
    "model_h1n1.fit(X_train, y_train_h1n1)"
   ]
  },
  {
   "cell_type": "code",
   "execution_count": 228,
   "metadata": {},
   "outputs": [],
   "source": [
    "#model.best_params_"
   ]
  },
  {
   "cell_type": "code",
   "execution_count": 229,
   "metadata": {},
   "outputs": [
    {
     "name": "stdout",
     "output_type": "stream",
     "text": [
      "Model Performance\n",
      "Average Error: 0.2483 degrees\n",
      "Accuracy = nan%\n",
      "AUC = 0.7816175070667295\n"
     ]
    },
    {
     "name": "stderr",
     "output_type": "stream",
     "text": [
      "<ipython-input-216-e8fb442df30f>:6: RuntimeWarning: divide by zero encountered in true_divide\n",
      "  mape = 100 * np.mean(errors / y_test)\n",
      "<ipython-input-216-e8fb442df30f>:6: RuntimeWarning: invalid value encountered in true_divide\n",
      "  mape = 100 * np.mean(errors / y_test)\n"
     ]
    },
    {
     "data": {
      "text/plain": [
       "nan"
      ]
     },
     "execution_count": 229,
     "metadata": {},
     "output_type": "execute_result"
    }
   ],
   "source": [
    "base_model = RandomForestRegressor(n_estimators=10, random_state=42)\n",
    "base_model.fit(X_train, y_train_h1n1)\n",
    "evaluate(base_model, X_test, y_test_h1n1)"
   ]
  },
  {
   "cell_type": "code",
   "execution_count": 230,
   "metadata": {},
   "outputs": [
    {
     "name": "stdout",
     "output_type": "stream",
     "text": [
      "Model Performance\n",
      "Average Error: 0.2423 degrees\n",
      "Accuracy = -inf%\n",
      "AUC = 0.8301045010895534\n"
     ]
    },
    {
     "name": "stderr",
     "output_type": "stream",
     "text": [
      "<ipython-input-216-e8fb442df30f>:6: RuntimeWarning: divide by zero encountered in true_divide\n",
      "  mape = 100 * np.mean(errors / y_test)\n"
     ]
    },
    {
     "data": {
      "text/plain": [
       "-inf"
      ]
     },
     "execution_count": 230,
     "metadata": {},
     "output_type": "execute_result"
    }
   ],
   "source": [
    "#best_random = rf_random.best_estimator_\n",
    "evaluate(model_h1n1, X_test, y_test_h1n1)"
   ]
  },
  {
   "cell_type": "code",
   "execution_count": 231,
   "metadata": {},
   "outputs": [],
   "source": [
    "y_predicted_h1n1 = model_h1n1.predict(X_test)"
   ]
  },
  {
   "cell_type": "markdown",
   "metadata": {},
   "source": [
    "### Seasonal"
   ]
  },
  {
   "cell_type": "code",
   "execution_count": 232,
   "metadata": {},
   "outputs": [
    {
     "data": {
      "text/plain": [
       "RandomForestRegressor(bootstrap=False, max_depth=20, max_features='sqrt',\n",
       "                      min_samples_leaf=4, n_estimators=800)"
      ]
     },
     "execution_count": 232,
     "metadata": {},
     "output_type": "execute_result"
    }
   ],
   "source": [
    "#model = rf_random\n",
    "model_seas = RandomForestRegressor(n_estimators=800,\n",
    "                              min_samples_split=2,\n",
    "                              min_samples_leaf=4,\n",
    "                              max_features='sqrt',\n",
    "                              max_depth=20,\n",
    "                              bootstrap=False)\n",
    "\n",
    "model_seas.fit(X_train, y_train_seas)"
   ]
  },
  {
   "cell_type": "code",
   "execution_count": 233,
   "metadata": {},
   "outputs": [],
   "source": [
    "#model.best_params_"
   ]
  },
  {
   "cell_type": "code",
   "execution_count": 234,
   "metadata": {},
   "outputs": [
    {
     "name": "stdout",
     "output_type": "stream",
     "text": [
      "Model Performance\n",
      "Average Error: 0.3251 degrees\n",
      "Accuracy = nan%\n",
      "AUC = 0.8082471249693057\n"
     ]
    },
    {
     "name": "stderr",
     "output_type": "stream",
     "text": [
      "<ipython-input-216-e8fb442df30f>:6: RuntimeWarning: divide by zero encountered in true_divide\n",
      "  mape = 100 * np.mean(errors / y_test)\n",
      "<ipython-input-216-e8fb442df30f>:6: RuntimeWarning: invalid value encountered in true_divide\n",
      "  mape = 100 * np.mean(errors / y_test)\n"
     ]
    }
   ],
   "source": [
    "base_model = RandomForestRegressor(n_estimators=10, random_state=42)\n",
    "base_model.fit(X_train, y_train_seas)\n",
    "base_accuracy = evaluate(base_model, X_test, y_test_seas)"
   ]
  },
  {
   "cell_type": "code",
   "execution_count": 235,
   "metadata": {},
   "outputs": [
    {
     "name": "stdout",
     "output_type": "stream",
     "text": [
      "Model Performance\n",
      "Average Error: 0.3228 degrees\n",
      "Accuracy = -inf%\n",
      "AUC = 0.8529219770128039\n"
     ]
    },
    {
     "name": "stderr",
     "output_type": "stream",
     "text": [
      "<ipython-input-216-e8fb442df30f>:6: RuntimeWarning: divide by zero encountered in true_divide\n",
      "  mape = 100 * np.mean(errors / y_test)\n"
     ]
    },
    {
     "data": {
      "text/plain": [
       "-inf"
      ]
     },
     "execution_count": 235,
     "metadata": {},
     "output_type": "execute_result"
    }
   ],
   "source": [
    "evaluate(model_seas, X_test, y_test_seas)"
   ]
  },
  {
   "cell_type": "code",
   "execution_count": 236,
   "metadata": {},
   "outputs": [],
   "source": [
    "y_predicted_seas = model_seas.predict(X_test)"
   ]
  },
  {
   "cell_type": "markdown",
   "metadata": {},
   "source": [
    "### Combine Targets"
   ]
  },
  {
   "cell_type": "code",
   "execution_count": 237,
   "metadata": {},
   "outputs": [
    {
     "data": {
      "text/plain": [
       "array([[0.19288598, 0.29934187],\n",
       "       [0.26939945, 0.19817748],\n",
       "       [0.06233589, 0.71491743],\n",
       "       ...,\n",
       "       [0.0611781 , 0.10010754],\n",
       "       [0.08652902, 0.13497373],\n",
       "       [0.10255067, 0.85995094]])"
      ]
     },
     "execution_count": 237,
     "metadata": {},
     "output_type": "execute_result"
    }
   ],
   "source": [
    "y_predicted = np.vstack((y_predicted_h1n1, y_predicted_seas)).T\n",
    "y_predicted"
   ]
  },
  {
   "cell_type": "code",
   "execution_count": 238,
   "metadata": {},
   "outputs": [
    {
     "data": {
      "text/plain": [
       "0.8415132390511786"
      ]
     },
     "execution_count": 238,
     "metadata": {},
     "output_type": "execute_result"
    }
   ],
   "source": [
    "roc_auc_score(y_test, y_predicted)"
   ]
  },
  {
   "cell_type": "markdown",
   "metadata": {},
   "source": [
    "# Transform Test Data"
   ]
  },
  {
   "cell_type": "code",
   "execution_count": 160,
   "metadata": {},
   "outputs": [],
   "source": [
    "df_full = pd.read_csv('../Data/test_set_features.csv')\n",
    "\n",
    "df = df_full.drop(columns=['employment_occupation', 'employment_industry', 'health_insurance', 'respondent_id'])"
   ]
  },
  {
   "cell_type": "code",
   "execution_count": 161,
   "metadata": {},
   "outputs": [],
   "source": [
    "categorical_columns = [\n",
    "    #'education',\n",
    "    #'income_poverty',\n",
    "    #'marital_status',\n",
    "    #'rent_or_own',\n",
    "    #'employment_industry',\n",
    "    #'employment_occupation',\n",
    "    'sex',\n",
    "    #'hhs_geo_region',\n",
    "    #'census_msa',\n",
    "    'race',\n",
    "    'age_group',\n",
    "    'behavioral_face_mask',\n",
    "    'behavioral_wash_hands',\n",
    "    'behavioral_antiviral_meds',\n",
    "    'behavioral_outside_home',\n",
    "    'behavioral_large_gatherings',\n",
    "    'behavioral_touch_face',\n",
    "    'behavioral_avoidance',\n",
    "    'health_worker',\n",
    "    #'child_under_6_months',\n",
    "    'chronic_med_condition',\n",
    "    'doctor_recc_h1n1',\n",
    "    'doctor_recc_seasonal',\n",
    "]\n",
    "\n",
    "numerical_columns = [\n",
    "    #'household_children',\n",
    "    #'household_adults',\n",
    "    'h1n1_concern',\n",
    "    'h1n1_knowledge',\n",
    "    'opinion_h1n1_risk',\n",
    "    'opinion_h1n1_vacc_effective',\n",
    "    'opinion_h1n1_sick_from_vacc',\n",
    "    'opinion_seas_vacc_effective',\n",
    "    'opinion_seas_risk',\n",
    "    'opinion_seas_sick_from_vacc',\n",
    "    #'health_insurance'\n",
    "]\n"
   ]
  },
  {
   "cell_type": "code",
   "execution_count": 162,
   "metadata": {},
   "outputs": [],
   "source": [
    "for column in numerical_columns:\n",
    "    df[column] = df[column].fillna(df[column].mean())\n",
    "\n",
    "health_worker_mean = df['health_worker'].mean()\n",
    "behavioral_face_mask_mean = df['health_worker'].mean()\n",
    "behavioral_wash_hands_mean = df['behavioral_wash_hands'].mean()\n",
    "behavioral_antiviral_meds_mean = df['behavioral_antiviral_meds'].mean()\n",
    "behavioral_outside_home_mean = df['behavioral_outside_home'].mean()\n",
    "behavioral_large_gatherings_mean = df['behavioral_large_gatherings'].mean()\n",
    "behavioral_touch_face_mean = df['behavioral_touch_face'].mean()\n",
    "behavioral_avoidance_mean = df['behavioral_avoidance'].mean()\n",
    "child_under_6_months_mean = df['child_under_6_months'].mean()\n",
    "chronic_med_condition_mean = df['chronic_med_condition'].mean()\n",
    "doctor_recc_h1n1_mean = df['doctor_recc_h1n1'].mean()\n",
    "doctor_recc_seasonal_mean = df['doctor_recc_h1n1'].mean()\n",
    "\n",
    "df['health_worker'] = df['health_worker'].fillna(health_worker_mean)\n",
    "df['behavioral_face_mask'] = df['behavioral_face_mask'].fillna(behavioral_face_mask_mean)\n",
    "df['behavioral_wash_hands'] = df['behavioral_wash_hands'].fillna(behavioral_wash_hands_mean)\n",
    "df['behavioral_antiviral_meds'] = df['behavioral_antiviral_meds'].fillna(behavioral_antiviral_meds_mean)\n",
    "df['behavioral_outside_home'] = df['behavioral_outside_home'].fillna(behavioral_outside_home_mean)\n",
    "df['behavioral_large_gatherings'] = df['behavioral_large_gatherings'].fillna(behavioral_large_gatherings_mean)\n",
    "df['behavioral_touch_face'] = df['behavioral_touch_face'].fillna(behavioral_touch_face_mean)\n",
    "df['behavioral_avoidance'] = df['behavioral_avoidance'].fillna(behavioral_avoidance_mean)\n",
    "df['child_under_6_months'] = df['child_under_6_months'].fillna(child_under_6_months_mean)\n",
    "df['chronic_med_condition'] = df['chronic_med_condition'].fillna(chronic_med_condition_mean)\n",
    "df['doctor_recc_h1n1'] = df['doctor_recc_h1n1'].fillna(doctor_recc_h1n1_mean)\n",
    "df['doctor_recc_seasonal'] = df['doctor_recc_seasonal'].fillna(doctor_recc_seasonal_mean)\n",
    "\n",
    "full_cols = categorical_columns + numerical_columns\n",
    "df = df[full_cols]"
   ]
  },
  {
   "cell_type": "markdown",
   "metadata": {},
   "source": [
    "# Preprocessing"
   ]
  },
  {
   "cell_type": "code",
   "execution_count": 163,
   "metadata": {},
   "outputs": [],
   "source": [
    "X = df.copy()"
   ]
  },
  {
   "cell_type": "code",
   "execution_count": 164,
   "metadata": {},
   "outputs": [],
   "source": [
    "#Categorical\n",
    "cat_df = X[categorical_columns]\n",
    "recat_df = pd.get_dummies(data=cat_df)\n",
    "\n",
    "#Numerical\n",
    "num_df = X[numerical_columns]\n",
    "\n",
    "scaler = StandardScaler()\n",
    "scaled_num = scaler.fit_transform(num_df)\n",
    "scaled_num_df = pd.DataFrame(scaled_num, index=num_df.index, columns=num_df.columns)\n",
    "\n",
    "encoded_df = pd.concat([recat_df, scaled_num_df], axis=1)\n",
    "X = np.asarray(encoded_df)"
   ]
  },
  {
   "cell_type": "code",
   "execution_count": 165,
   "metadata": {},
   "outputs": [],
   "source": [
    "results_h1n1 = model_h1n1.predict(X)\n",
    "results_seas = model_seas.predict(X)\n",
    "\n",
    "results = np.vstack((results_h1n1, results_seas)).T"
   ]
  },
  {
   "cell_type": "code",
   "execution_count": 166,
   "metadata": {},
   "outputs": [],
   "source": [
    "results = pd.DataFrame(results, columns=['h1n1_vaccine', 'seasonal_vaccine'])\n",
    "\n",
    "submission = pd.concat([df_full, results], axis=1)\n",
    "submission = submission[['respondent_id', 'h1n1_vaccine', 'seasonal_vaccine']]"
   ]
  },
  {
   "cell_type": "code",
   "execution_count": 167,
   "metadata": {},
   "outputs": [],
   "source": [
    "submission.to_csv('../Submissions/Submission 7.1.21.csv', index=False)"
   ]
  },
  {
   "cell_type": "code",
   "execution_count": null,
   "metadata": {},
   "outputs": [],
   "source": []
  },
  {
   "cell_type": "code",
   "execution_count": null,
   "metadata": {},
   "outputs": [],
   "source": []
  }
 ],
 "metadata": {
  "kernelspec": {
   "display_name": "Python 3",
   "language": "python",
   "name": "python3"
  },
  "language_info": {
   "codemirror_mode": {
    "name": "ipython",
    "version": 3
   },
   "file_extension": ".py",
   "mimetype": "text/x-python",
   "name": "python",
   "nbconvert_exporter": "python",
   "pygments_lexer": "ipython3",
   "version": "3.8.3"
  }
 },
 "nbformat": 4,
 "nbformat_minor": 4
}
